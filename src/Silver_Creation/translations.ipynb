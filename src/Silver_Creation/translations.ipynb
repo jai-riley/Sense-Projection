{
 "cells": [
  {
   "cell_type": "code",
   "execution_count": null,
   "id": "initial_id",
   "metadata": {
    "collapsed": true
   },
   "outputs": [],
   "source": [
    "# !pip install google.cloud.translate"
   ]
  },
  {
   "cell_type": "code",
   "execution_count": 1,
   "outputs": [],
   "source": [
    "import os, csv\n",
    "# public\n",
    "import nltk\n",
    "from nltk.translate.bleu_score import sentence_bleu, corpus_bleu\n",
    "import pandas as pd\n",
    "from tqdm import tqdm\n",
    "from google.cloud import translate_v2 as translate"
   ],
   "metadata": {
    "collapsed": false,
    "ExecuteTime": {
     "end_time": "2024-07-16T00:56:44.541325Z",
     "start_time": "2024-07-16T00:56:39.099125Z"
    }
   },
   "id": "80c6c189866e3a19"
  },
  {
   "cell_type": "code",
   "execution_count": 2,
   "outputs": [],
   "source": [
    "# a method that calls the cloud translator\n",
    "def translate_text(source: str, target: str, text: str) -> dict:\n",
    "    \"\"\"\n",
    "    Translates text into the target language.\n",
    "    Target must be an ISO 639-1 language code.\n",
    "    See https://g.co/cloud/translate/v2/translate-reference#supported_languages\n",
    "    \"\"\"\n",
    "\n",
    "    translate_client = translate.Client()\n",
    "\n",
    "    if isinstance(text, bytes):\n",
    "        text = text.decode(\"utf-8\")\n",
    "\n",
    "    # Text can also be a sequence of strings, in which case this method\n",
    "    # will return a sequence of results for each text.\n",
    "    result = translate_client.translate(\n",
    "        text\n",
    "        , source_language=source\n",
    "        , target_language=target\n",
    "    )\n",
    "    return result\n",
    "\n",
    "def process_nan(s):\n",
    "  if type(s)!=type(''):\n",
    "    return ''\n",
    "  return s"
   ],
   "metadata": {
    "collapsed": false,
    "ExecuteTime": {
     "end_time": "2024-07-16T00:56:44.550663Z",
     "start_time": "2024-07-16T00:56:44.542948Z"
    }
   },
   "id": "919ad264843fbff1"
  },
  {
   "cell_type": "code",
   "execution_count": 47,
   "outputs": [],
   "source": [
    "src_lan = 'en'\n",
    "# target language\n",
    "tgt_lan = 'es'\n",
    "language = \"Spanish\"\n",
    "\n",
    "\n",
    "RESOURCE = '../..'\n",
    "DATA =  RESOURCE+'/data/'+language\n",
    "GOLD_FILE = os.path.join(DATA, 'gold-sentences-'+language+'.tsv')\n",
    "TRANS_FILE = os.path.join(DATA, 'trans-sentences-'+language+'.tsv')\n",
    "\n",
    "# DATA = os.path.join(RESOURCE, 'data')\n",
    "DATA =  RESOURCE+'/data/English'\n",
    "\n",
    "KEY = os.path.join(RESOURCE, 'key')\n",
    "RAW_SENSE_TSV = os.path.join(DATA, 'gold-tokens-English-wSenses.tsv')\n",
    "RAW_TOKENS_TSV =  os.path.join(DATA, 'gold-tokens-English-wSenses.tsv')\n",
    "RAW_SENTENCE_TSV = os.path.join(DATA, 'gold-sentences-English.tsv')\n",
    "JSON_GOOGLE_APPLICATION_CREDENTIALS = os.path.join(KEY, 'tonal-works-420505-eda807c7cc52.json')\n",
    "os.environ['GOOGLE_APPLICATION_CREDENTIALS'] = JSON_GOOGLE_APPLICATION_CREDENTIALS"
   ],
   "metadata": {
    "collapsed": false,
    "ExecuteTime": {
     "end_time": "2024-07-16T01:08:42.718331Z",
     "start_time": "2024-07-16T01:08:42.690930Z"
    }
   },
   "id": "7476e6353c29e16c"
  },
  {
   "cell_type": "markdown",
   "source": [
    "# DATA"
   ],
   "metadata": {
    "collapsed": false
   },
   "id": "1a06defe255431c"
  },
  {
   "cell_type": "code",
   "execution_count": 48,
   "outputs": [],
   "source": [
    "sentence_df = pd.read_csv(RAW_SENTENCE_TSV, delimiter='\\t', quoting=csv.QUOTE_NONE)\n",
    "sentence_df.head()\n",
    "sents = sentence_df[\"Sentence\"].tolist()\n",
    "# sents"
   ],
   "metadata": {
    "collapsed": false,
    "ExecuteTime": {
     "end_time": "2024-07-16T01:08:43.797956Z",
     "start_time": "2024-07-16T01:08:43.783845Z"
    }
   },
   "id": "47021c77a038d739"
  },
  {
   "cell_type": "code",
   "execution_count": 49,
   "outputs": [
    {
     "data": {
      "text/plain": "['d001.s001', 'd001.s002', 'd001.s003', 'd001.s004']"
     },
     "execution_count": 49,
     "metadata": {},
     "output_type": "execute_result"
    }
   ],
   "source": [
    "sids = sentence_df[\"Sentence ID\"].tolist()\n",
    "# sids = [i.replace('d', 'i') for i in sids]\n",
    "sids[:4]"
   ],
   "metadata": {
    "collapsed": false,
    "ExecuteTime": {
     "end_time": "2024-07-16T01:08:44.293182Z",
     "start_time": "2024-07-16T01:08:44.277582Z"
    }
   },
   "id": "71402ea706257025"
  },
  {
   "cell_type": "code",
   "execution_count": 50,
   "outputs": [],
   "source": [
    "# len(sids), len(sents)"
   ],
   "metadata": {
    "collapsed": false,
    "ExecuteTime": {
     "end_time": "2024-07-16T01:08:44.828355Z",
     "start_time": "2024-07-16T01:08:44.812155Z"
    }
   },
   "id": "b3861ba466e11ffc"
  },
  {
   "cell_type": "markdown",
   "source": [
    "# TRANSLATE"
   ],
   "metadata": {
    "collapsed": false
   },
   "id": "5503125cdea76173"
  },
  {
   "cell_type": "code",
   "execution_count": 51,
   "outputs": [
    {
     "data": {
      "text/plain": "[{'language': 'af', 'name': 'Afrikaans'},\n {'language': 'sq', 'name': 'Albanian'},\n {'language': 'am', 'name': 'Amharic'},\n {'language': 'ar', 'name': 'Arabic'},\n {'language': 'hy', 'name': 'Armenian'},\n {'language': 'as', 'name': 'Assamese'},\n {'language': 'ay', 'name': 'Aymara'},\n {'language': 'az', 'name': 'Azerbaijani'},\n {'language': 'bm', 'name': 'Bambara'},\n {'language': 'eu', 'name': 'Basque'},\n {'language': 'be', 'name': 'Belarusian'},\n {'language': 'bn', 'name': 'Bengali'},\n {'language': 'bho', 'name': 'Bhojpuri'},\n {'language': 'bs', 'name': 'Bosnian'},\n {'language': 'bg', 'name': 'Bulgarian'},\n {'language': 'ca', 'name': 'Catalan'},\n {'language': 'ceb', 'name': 'Cebuano'},\n {'language': 'ny', 'name': 'Chichewa'},\n {'language': 'zh', 'name': 'Chinese (Simplified)'},\n {'language': 'zh-TW', 'name': 'Chinese (Traditional)'},\n {'language': 'co', 'name': 'Corsican'},\n {'language': 'hr', 'name': 'Croatian'},\n {'language': 'cs', 'name': 'Czech'},\n {'language': 'da', 'name': 'Danish'},\n {'language': 'dv', 'name': 'Divehi'},\n {'language': 'doi', 'name': 'Dogri'},\n {'language': 'nl', 'name': 'Dutch'},\n {'language': 'en', 'name': 'English'},\n {'language': 'eo', 'name': 'Esperanto'},\n {'language': 'et', 'name': 'Estonian'},\n {'language': 'ee', 'name': 'Ewe'},\n {'language': 'tl', 'name': 'Filipino'},\n {'language': 'fi', 'name': 'Finnish'},\n {'language': 'fr', 'name': 'French'},\n {'language': 'fy', 'name': 'Frisian'},\n {'language': 'gl', 'name': 'Galician'},\n {'language': 'lg', 'name': 'Ganda'},\n {'language': 'ka', 'name': 'Georgian'},\n {'language': 'de', 'name': 'German'},\n {'language': 'el', 'name': 'Greek'},\n {'language': 'gn', 'name': 'Guarani'},\n {'language': 'gu', 'name': 'Gujarati'},\n {'language': 'ht', 'name': 'Haitian Creole'},\n {'language': 'ha', 'name': 'Hausa'},\n {'language': 'haw', 'name': 'Hawaiian'},\n {'language': 'iw', 'name': 'Hebrew'},\n {'language': 'hi', 'name': 'Hindi'},\n {'language': 'hmn', 'name': 'Hmong'},\n {'language': 'hu', 'name': 'Hungarian'},\n {'language': 'is', 'name': 'Icelandic'},\n {'language': 'ig', 'name': 'Igbo'},\n {'language': 'ilo', 'name': 'Iloko'},\n {'language': 'id', 'name': 'Indonesian'},\n {'language': 'ga', 'name': 'Irish Gaelic'},\n {'language': 'it', 'name': 'Italian'},\n {'language': 'ja', 'name': 'Japanese'},\n {'language': 'jw', 'name': 'Javanese'},\n {'language': 'kn', 'name': 'Kannada'},\n {'language': 'kk', 'name': 'Kazakh'},\n {'language': 'km', 'name': 'Khmer'},\n {'language': 'rw', 'name': 'Kinyarwanda'},\n {'language': 'gom', 'name': 'Konkani'},\n {'language': 'ko', 'name': 'Korean'},\n {'language': 'kri', 'name': 'Krio'},\n {'language': 'ku', 'name': 'Kurdish (Kurmanji)'},\n {'language': 'ckb', 'name': 'Kurdish (Sorani)'},\n {'language': 'ky', 'name': 'Kyrgyz'},\n {'language': 'lo', 'name': 'Lao'},\n {'language': 'la', 'name': 'Latin'},\n {'language': 'lv', 'name': 'Latvian'},\n {'language': 'ln', 'name': 'Lingala'},\n {'language': 'lt', 'name': 'Lithuanian'},\n {'language': 'lb', 'name': 'Luxembourgish'},\n {'language': 'mk', 'name': 'Macedonian'},\n {'language': 'mai', 'name': 'Maithili'},\n {'language': 'mg', 'name': 'Malagasy'},\n {'language': 'ms', 'name': 'Malay'},\n {'language': 'ml', 'name': 'Malayalam'},\n {'language': 'mt', 'name': 'Maltese'},\n {'language': 'mi', 'name': 'Maori'},\n {'language': 'mr', 'name': 'Marathi'},\n {'language': 'mni-Mtei', 'name': 'Meiteilon (Manipuri)'},\n {'language': 'lus', 'name': 'Mizo'},\n {'language': 'mn', 'name': 'Mongolian'},\n {'language': 'my', 'name': 'Myanmar (Burmese)'},\n {'language': 'ne', 'name': 'Nepali'},\n {'language': 'nso', 'name': 'Northern Sotho'},\n {'language': 'no', 'name': 'Norwegian'},\n {'language': 'or', 'name': 'Odia (Oriya)'},\n {'language': 'om', 'name': 'Oromo'},\n {'language': 'ps', 'name': 'Pashto'},\n {'language': 'fa', 'name': 'Persian'},\n {'language': 'pl', 'name': 'Polish'},\n {'language': 'pt', 'name': 'Portuguese'},\n {'language': 'pa', 'name': 'Punjabi'},\n {'language': 'qu', 'name': 'Quechua'},\n {'language': 'ro', 'name': 'Romanian'},\n {'language': 'ru', 'name': 'Russian'},\n {'language': 'sm', 'name': 'Samoan'},\n {'language': 'sa', 'name': 'Sanskrit'},\n {'language': 'gd', 'name': 'Scots Gaelic'},\n {'language': 'sr', 'name': 'Serbian'},\n {'language': 'st', 'name': 'Sesotho'},\n {'language': 'sn', 'name': 'Shona'},\n {'language': 'sd', 'name': 'Sindhi'},\n {'language': 'si', 'name': 'Sinhala'},\n {'language': 'sk', 'name': 'Slovak'},\n {'language': 'sl', 'name': 'Slovenian'},\n {'language': 'so', 'name': 'Somali'},\n {'language': 'es', 'name': 'Spanish'},\n {'language': 'su', 'name': 'Sundanese'},\n {'language': 'sw', 'name': 'Swahili'},\n {'language': 'sv', 'name': 'Swedish'},\n {'language': 'tg', 'name': 'Tajik'},\n {'language': 'ta', 'name': 'Tamil'},\n {'language': 'tt', 'name': 'Tatar'},\n {'language': 'te', 'name': 'Telugu'},\n {'language': 'th', 'name': 'Thai'},\n {'language': 'ti', 'name': 'Tigrinya'},\n {'language': 'ts', 'name': 'Tsonga'},\n {'language': 'tr', 'name': 'Turkish'},\n {'language': 'tk', 'name': 'Turkmen'},\n {'language': 'ak', 'name': 'Twi'},\n {'language': 'uk', 'name': 'Ukrainian'},\n {'language': 'ur', 'name': 'Urdu'},\n {'language': 'ug', 'name': 'Uyghur'},\n {'language': 'uz', 'name': 'Uzbek'},\n {'language': 'vi', 'name': 'Vietnamese'},\n {'language': 'cy', 'name': 'Welsh'},\n {'language': 'xh', 'name': 'Xhosa'},\n {'language': 'yi', 'name': 'Yiddish'},\n {'language': 'yo', 'name': 'Yoruba'},\n {'language': 'zu', 'name': 'Zulu'},\n {'language': 'he', 'name': 'Hebrew'},\n {'language': 'jv', 'name': 'Javanese'},\n {'language': 'zh-CN', 'name': 'Chinese (Simplified)'}]"
     },
     "execution_count": 51,
     "metadata": {},
     "output_type": "execute_result"
    }
   ],
   "source": [
    "# get languages\n",
    "client = translate.Client()\n",
    "languages = client.get_languages()\n",
    "languages"
   ],
   "metadata": {
    "collapsed": false,
    "ExecuteTime": {
     "end_time": "2024-07-16T01:08:47.467339Z",
     "start_time": "2024-07-16T01:08:45.692780Z"
    }
   },
   "id": "47d154e8c35949cf"
  },
  {
   "cell_type": "code",
   "execution_count": 52,
   "outputs": [
    {
     "data": {
      "text/plain": "('en', 'es')"
     },
     "execution_count": 52,
     "metadata": {},
     "output_type": "execute_result"
    }
   ],
   "source": [
    "src_lan, tgt_lan"
   ],
   "metadata": {
    "collapsed": false,
    "ExecuteTime": {
     "end_time": "2024-07-16T01:08:47.475241Z",
     "start_time": "2024-07-16T01:08:47.465072Z"
    }
   },
   "id": "8ddc6eea0e2598b5"
  },
  {
   "cell_type": "code",
   "execution_count": 53,
   "outputs": [
    {
     "data": {
      "text/plain": "{'translatedText': 'Este documento es un resumen del Informe Público Europeo de Evaluación (EPAR).',\n 'input': 'This document is a summary of the European Public Assessment Report ( EPAR ) .'}"
     },
     "execution_count": 53,
     "metadata": {},
     "output_type": "execute_result"
    }
   ],
   "source": [
    "# sample test\n",
    "sentence = sents[0]\n",
    "test = translate_text(src_lan, tgt_lan, sentence)\n",
    "test"
   ],
   "metadata": {
    "collapsed": false,
    "ExecuteTime": {
     "end_time": "2024-07-16T01:08:48.822565Z",
     "start_time": "2024-07-16T01:08:47.471663Z"
    }
   },
   "id": "17a8de281822e43a"
  },
  {
   "cell_type": "code",
   "execution_count": 54,
   "outputs": [
    {
     "name": "stderr",
     "output_type": "stream",
     "text": [
      "100%|██████████| 131/131 [02:46<00:00,  1.27s/it]\n"
     ]
    }
   ],
   "source": [
    "# translating all the sentences from English to target language\n",
    "tgt_sents = []\n",
    "for s in tqdm(sents):\n",
    "    tgt_s = translate_text(src_lan, tgt_lan, s)\n",
    "    tgt_sents.append(tgt_s)"
   ],
   "metadata": {
    "collapsed": false,
    "ExecuteTime": {
     "end_time": "2024-07-16T01:11:35.012735Z",
     "start_time": "2024-07-16T01:08:48.824103Z"
    }
   },
   "id": "415a61a1c19a4aff"
  },
  {
   "cell_type": "code",
   "execution_count": 65,
   "outputs": [
    {
     "name": "stdout",
     "output_type": "stream",
     "text": [
      "[{'translatedText': 'Este documento es un resumen del Informe Público Europeo de Evaluación (EPAR).', 'input': 'This document is a summary of the European Public Assessment Report ( EPAR ) .'}, {'translatedText': 'Explica cómo el Comité de Medicamentos de Uso Humano (CHMP) evaluó los estudios realizados para llegar a sus recomendaciones sobre cómo utilizar el medicamento.', 'input': 'It explains how the Committee for Medicinal Products for Human Use ( CHMP ) assessed the studies performed , to reach their recommendations on how to use the medicine .'}, {'translatedText': 'Si necesita más información sobre su condición médica o su tratamiento, lea el prospecto (también parte del EPAR) o comuníquese con su médico o farmacéutico.', 'input': 'If you need more information about your medical condition or your treatment , read the Package Leaflet ( also part of the EPAR ) or contact your doctor or pharmacist .'}, {'translatedText': 'Si desea obtener más información sobre la base de las recomendaciones del CHMP, lea el debate científico (también parte del EPAR).', 'input': 'If you want more information on the basis of the CHMP recommendations , read the Scientific Discussion ( also part of the EPAR ) .'}, {'translatedText': '¿Qué es Alimta?', 'input': 'What is Alimta ?'}, {'translatedText': 'Alimta es un polvo que se convierte en una solución para perfusión (goteo en una vena).', 'input': 'Alimta is a powder that is made up into a solution for infusion ( drip into a vein ) .'}, {'translatedText': 'Contiene el principio activo pemetrexed.', 'input': 'It contains the active substance pemetrexed .'}, {'translatedText': '¿Para qué se utiliza Alimta?', 'input': 'What is Alimta used for ?'}, {'translatedText': 'Alimta se utiliza para tratar dos tipos de cáncer: mesotelioma pleural (cáncer del revestimiento de los pulmones que generalmente es causado por la exposición al asbesto).', 'input': 'Alimta is used to treat two types of cancer : pleural mesothelioma ( cancer of the lining of the lungs that is usually caused by exposure to asbestos ) .'}, {'translatedText': 'Alimta se utiliza junto con cisplatino ( otro medicamento anticancerígeno ) cuando el cáncer es irresecable ( no puede extirparse únicamente mediante cirugía ) y maligno ( se ha extendido o es probable que se extienda fácilmente a otras partes del cuerpo ) , en pacientes que no recibió quimioterapia (medicamentos para el cáncer) antes de un cáncer de pulmón de células no pequeñas avanzado o metastásico que no afecta a las células escamosas.', 'input': 'Alimta is used together with cisplatin ( another anticancer medicine ) when the cancer is unresectable ( cannot be removed by surgery alone ) and malignant ( has spread , or is likely to spread easily , to other parts of the body ) , in patients who have not received chemotherapy ( medicines for cancer ) before advanced or metastatic non-small cell lung cancer that is not affecting the squamous cells .'}, {'translatedText': 'Alimta se utiliza en combinación con cisplatino en pacientes que no han sido tratados antes, y solo en pacientes que han recibido otro tipo de quimioterapia en el pasado.', 'input': 'Alimta is used in combination with cisplatin in patients who have not been treated before , and on its own in patients who have received another type of chemotherapy in the past .'}, {'translatedText': 'El medicamento sólo podrá dispensarse con receta médica .', 'input': 'The medicine can only be obtained with a prescription .'}, {'translatedText': '¿Cómo se utiliza Alimta?', 'input': 'How is Alimta used ?'}, {'translatedText': 'Alimta sólo debe administrarse bajo la supervisión de un médico cualificado en el uso de quimioterapia anticancerígena.', 'input': 'Alimta should only be given under the supervision of a doctor who is qualified in the use of anticancer chemotherapy .'}, {'translatedText': 'La dosis recomendada de Alimta es de 500 mg por metro cuadrado de superficie corporal (calculada utilizando la altura y el peso del paciente).', 'input': 'The recommended dose of Alimta is 500 mg per square metre of body surface area ( calculated using the patient s height and weight ) .'}, {'translatedText': 'Para reducir los efectos secundarios, los pacientes deben tomar un corticosteroide y ácido fólico (un tipo de vitamina) y recibir inyecciones de vitamina B12 durante el tratamiento con Alimta.', 'input': 'To reduce side effects , patients should take a corticosteroid and folic acid ( a type of vitamin ) , and receive injections of vitamin B12 during treatment with Alimta .'}, {'translatedText': 'Cuando Alimta se administra con cisplatino, también se debe administrar un medicamento antiemético (para prevenir los vómitos) y líquidos (para prevenir la deshidratación) antes o después de la dosis de cisplatino.', 'input': 'When Alimta is given with cisplatin , an anti-emetic medicine ( to prevent vomiting ) and fluids ( to prevent dehydration ) should also be given before or after the cisplatin dose .'}, {'translatedText': 'El tratamiento debe retrasarse o suspenderse, o reducirse la dosis, en pacientes cuyos recuentos sanguíneos son anormales o que tienen otros efectos secundarios.', 'input': 'Treatment should be delayed or discontinued , or the dose reduced , in patients whose blood counts are abnormal or who have certain other side effects .'}, {'translatedText': 'No se recomienda el uso de Alimta en pacientes con problemas renales moderados o graves.', 'input': 'Alimta is not recommended for use in patients with moderate or severe kidney problems .'}, {'translatedText': 'Para obtener más información, consulte el Resumen de las características del producto (también parte del EPAR).', 'input': 'For more information , see the Summary of Product Characteristics ( also part of the EPAR ) .'}, {'translatedText': '¿Cómo funciona Alimta?', 'input': 'How does Alimta work ?'}, {'translatedText': 'El principio activo de Alimta, pemetrexed, es un medicamento citotóxico (un medicamento que mata las células que se están dividiendo, como las células cancerosas), que pertenece al grupo de los antimetabolitos.', 'input': 'The active substance in Alimta , pemetrexed , is a cytotoxic medicine ( a medicine that kills cells that are dividing , such as cancer cells ) , which belongs to the group antimetabolites .'}, {'translatedText': 'En el cuerpo, el pemetrexed se convierte en una forma activa que bloquea la actividad de las enzimas que participan en la producción de nucleótidos (los componentes básicos del ADN y el ARN, el material genético de las células).', 'input': 'In the body , pemetrexed is converted into an active form that blocks the activity of the enzymes that are involved in producing nucleotides ( the building blocks of DNA and RNA , the genetic material of cells ) .'}, {'translatedText': '¿Cómo se ha estudiado Alimta?', 'input': 'How has Alimta been studied ?'}, {'translatedText': 'Para el tratamiento del mesotelioma pleural maligno, Alimta se ha estudiado en un estudio principal en 456 pacientes que no habían recibido quimioterapia para su enfermedad antes.', 'input': 'For the treatment of malignant pleural mesothelioma , Alimta has been studied in one main study in 456 patients who had not received chemotherapy for their disease before .'}, {'translatedText': 'Se compararon los efectos de Alimta en combinación con cisplatino con los de cisplatino solo.', 'input': 'The effects of Alimta in combination with cisplatin were compared with those of cisplatin alone .'}, {'translatedText': 'Para el tratamiento del cáncer de pulmón de células no pequeñas, los efectos de Alimta se compararon con los de docetaxel (otro medicamento contra el cáncer) en un estudio en el que participaron 571 pacientes con enfermedad localmente avanzada o metastásica que habían recibido quimioterapia en el pasado.', 'input': 'For the treatment of non-small cell lung cancer , the effects of Alimta were compared with those of docetaxel ( another anticancer medicine ) in one study involving 571 patients with locally advanced or metastatic disease who had received chemotherapy in the past .'}, {'translatedText': 'Alimta también se comparó con gemcitabina (otro medicamento contra el cáncer), ambos en combinación con cisplatino, en un estudio en el que participaron 1.725 pacientes que no habían recibido quimioterapia para el cáncer de pulmón en el pasado.', 'input': 'Alimta was also compared with gemcitabine ( another anticancer medicine ) , both in combination with cisplatin , in a study involving 1,725 patients who had not received chemotherapy for lung cancer in the past .'}, {'translatedText': 'En los tres estudios, la principal medida de eficacia fue cuánto tiempo sobrevivieron los pacientes.', 'input': 'In all three studies , the main measure of effectiveness was how long the patients survived .'}, {'translatedText': '¿Qué beneficio ha demostrado Alimta durante los estudios?', 'input': 'What benefit has Alimta shown during the studies ?'}, {'translatedText': 'Alimta aumentó el tiempo de supervivencia de los pacientes con mesotelioma pleural maligno.', 'input': 'Alimta increased the survival time of patients with malignant pleural mesothelioma .'}, {'translatedText': 'Los pacientes que recibieron Alimta y cisplatino sobrevivieron un promedio de 12,1 meses, en comparación con 9,3 meses en los que recibieron cisplatino solo.', 'input': 'Patients receiving Alimta and cisplatin survived for an average of 12.1 months , compared with 9.3 months in those receiving cisplatin alone .'}, {'translatedText': 'En el tratamiento de pacientes con cáncer de pulmón de células no pequeñas, Alimta fue tan eficaz como los comparadores.', 'input': 'In the treatment of patients with non-small cell lung cancer , Alimta was as effective as the comparators .'}, {'translatedText': 'En pacientes que habían recibido quimioterapia en el pasado, el tiempo de supervivencia promedio fue de 8,3 meses con Alimta, en comparación con 7,9 meses con docetaxel.', 'input': 'In patients who had received chemotherapy in the past , the average survival time was 8.3 months with Alimta , compared with 7.9 months with docetaxel .'}, {'translatedText': 'En los pacientes que no habían recibido quimioterapia en el pasado, el tiempo de supervivencia promedio fue de 10,3 meses en ambos grupos.', 'input': 'In patients who had not received chemotherapy in the past , the average survival time was 10.3 months in both groups .'}, {'translatedText': 'Sin embargo, en ambos estudios, los pacientes cuyo cáncer no afectaba a las células escamosas tuvieron tiempos de supervivencia más prolongados si recibieron Alimta que si recibieron el comparador.', 'input': 'However , in both studies , patients whose cancer was not affecting squamous cells had longer survival times if they received Alimta than if they received the comparator .'}, {'translatedText': 'Por el contrario, los pacientes cuyo cáncer afectaba a las células escamosas tenían tiempos de supervivencia más cortos si recibían Alimta.', 'input': 'In contrast , patients whose cancer was affecting squamous cells had shorter survival times if they received Alimta .'}, {'translatedText': 'Kalgebra es una calculadora matemática basada en el lenguaje de marcado de contenido MathML.', 'input': 'kalgebra is a mathematical calculator based on content markup MathML language .'}, {'translatedText': 'Hoy en día es capaz de realizar operaciones MathML simples (aritméticas y lógicas) y representar gráficos 2D y 3D.', 'input': 'Nowadays it is capable to make simple MathML operations ( arithmetic and logical ) and to representate 2D and 3D graphs .'}, {'translatedText': 'En realidad, no es necesario saber MathML para usar kalgebra.', 'input': 'It is actually not necessary to know MathML to use kalgebra .'}, {'translatedText': 'kalgebra es una calculadora gráfica basada en MathML.', 'input': 'kalgebra is a MathML based graph calculator .'}, {'translatedText': 'Aunque inicialmente estaba orientado a MathML, ahora puede ser utilizado por cualquiera con pocos conocimientos matemáticos.', 'input': 'Although it was initially MathML oriented it can now be used by everyone with little mathematical knowledge .'}, {'translatedText': 'Aquí una captura de pantalla de la ventana principal de Kalgebra.', 'input': 'Here s a screenshot of kalgebra main window'}, {'translatedText': 'ventana principal de calgebra', 'input': 'kalgebra main window'}, {'translatedText': 'La ventana principal de Kalgebra consta de una pestaña Consola, una pestaña Gráfico 2D, una pestaña Gráfico 3D y una pestaña Diccionario.', 'input': 'kalgebra main window consists in a Console tab , a 2D Graph tab , a 3D Graph tab and a Dictionary tab .'}, {'translatedText': 'Debajo de estas pestañas encontrará un campo de entrada para escribir sus funciones o hacer sus cálculos.', 'input': 'Below these tabs you will find an input field to type your functions or do your calculations .'}, {'translatedText': 'Si queremos entender cómo funciona, lo mejor que podemos hacer es darnos cuenta de que nuestra entrada se está convirtiendo a MathML aunque no es necesario saber MathML.', 'input': 'If we want to understand how it works , the best thing we can do is to realize that our input is being converted into MathML although it is not necessary to know MathML .'}, {'translatedText': 'La sintaxis la he basado básicamente en el sentido común, no debería ser difícil para nadie.', 'input': 'I have based the syntax basically on common sense , it should not be hard for anyone .'}, {'translatedText': 'He observado de cerca la sintaxis de maxima y maple para que se vean muy similares.', 'input': 'I ve looked closely to maxima and maple s syntax so they look very similar .'}, {'translatedText': '+-*/: Suma, resta, multiplicación y división.', 'input': '+ - * / : Addition , subtraction , multiplication and division .'}, {'translatedText': '^ , ** : Poder , puedes usarlos ambos .', 'input': '^ , ** : Power , you can use them both .'}, {'translatedText': 'También es posible utilizar los caracteres Unicode².', 'input': 'Also it is possible to use the unicode ² characters .'}, {'translatedText': 'Los poderes también son una manera de hacer raíces.', 'input': 'Powers are one way to make roots too .'}, {'translatedText': '-gt: Es la forma de especificar la variable acotada en una función.', 'input': '-gt : It s the way to specify the bounded variable in a function .'}, {'translatedText': '( ): Se utiliza para especificar una prioridad más alta.', 'input': '( ) : It is used to specify a higher priority .'}, {'translatedText': 'abc(params): cuando el analizador encuentra una función, comprueba si abc es un operador.', 'input': 'abc(params) : When the parser finds a function , it checks if abc is an operator .'}, {'translatedText': 'Si lo es, será tratado como un operador; si no lo es, será tratado como una función de usuario.', 'input': 'If it is , it will be treated as an operator , if it is not , it will be treated as a user function .'}, {'translatedText': ': #¡ERROR! : Se utiliza para definir un valor de variable .', 'input': ': #ERROR! : It is used to define a variable value .'}, {'translatedText': '? : Definición de condición por partes .', 'input': '? : Piecewise condition definition .'}, {'translatedText': 'Por partes es la forma en que podemos definir operaciones condicionales en kalgebra.', 'input': 'Piecewise is the way we can define conditional operations in kalgebra .'}, {'translatedText': 'Si introducimos la condición antes del ? utilizará esta condición sólo si es VERDADERA, si encuentra un? sin condición alguna, entrará en última instancia.', 'input': 'If we introduce the condition before the ? it will use this condition only if it is TRUE , if it finds a ? without any condition , it will enter in the last instance .'}, {'translatedText': 'Principalmente útil para trabajar con archivos .', 'input': 'Mainly useful for working with piecewise .'}, {'translatedText': 'Eso es fácil . Con esto, podemos operar con funciones como cos(), sin(), cualquier otra función trigonométrica, sum() o product().', 'input': 'That s easy . With this , we can operate with functions like cos() , sin() , any other trigonometric functions , sum() or product() .'}, {'translatedText': 'No importa de qué tipo sea.', 'input': 'It does not matter what kind it is .'}, {'translatedText': 'Podemos usar plus(), times() y todo lo que tenga su operador.', 'input': 'We can use plus() , times() and everything which has its operator .'}, {'translatedText': 'La consola de Kalgebra es útil como calculadora.', 'input': 'kalgebra s console is useful as a calculator .'}, {'translatedText': 'Ahí tienes una lista de las variables declaradas.', 'input': 'There you have a list of the declared variables .'}, {'translatedText': 'Al hacer doble clic en ellos, verá un cuadro de diálogo que le permitirá cambiar sus valores (sólo una forma de engañar al registro).', 'input': 'By double clicking on them you will see a dialog that lets you change their values ( just a way to trick the log ) .'}, {'translatedText': 'Cada vez que ingresa una expresión, el valor de la variable &quot;&quot;&quot; y &quot;&quot;&quot; se cambiará al último resultado.', 'input': 'Every time you enter an expression , the \"\"\" ans \"\"\" variable value will be changed to the last result .'}, {'translatedText': 'Ctrl N Nueva ventana', 'input': 'Ctrl N New Window'}, {'translatedText': 'Limpia el registro.', 'input': 'Flushes the log .'}, {'translatedText': 'Ctrl L Cargar secuencia de comandos', 'input': 'Ctrl L Load Script'}, {'translatedText': 'Ejecuta las instrucciones de un archivo de forma secuencial.', 'input': 'Executes the instructions in a file sequentially .'}, {'translatedText': 'Es bueno si desea definir algunas bibliotecas o reanudar algún trabajo anterior.', 'input': 'Nice if you want to define some libraries or resume some previous work .'}, {'translatedText': 'Ctrl G Guardar secuencia de comandos', 'input': 'Ctrl G Save Script'}, {'translatedText': 'Guarda las instrucciones que has escrito desde que comenzó la sesión para poder reutilizarlas.', 'input': 'Saves the instructions you have typed since the session began to be able to reuse .'}, {'translatedText': 'Genera archivos de texto por lo que debería ser fácil de arreglar usando cualquier editor de texto, como Kate.', 'input': 'Generates text files so it should be easy to fix using any text editor , like Kate .'}, {'translatedText': 'Ctrl S Guardar registro', 'input': 'Ctrl S Save Log'}, {'translatedText': 'Guarda el registro con todos los resultados en un archivo HTML para poder imprimirlo o publicarlo.', 'input': 'Saves the log with all results into an HTML file to be able to print or publish .'}, {'translatedText': 'Ctrl Q Salir', 'input': 'Ctrl Q Quit'}, {'translatedText': 'Cierra el programa.', 'input': 'Shuts the program down .'}, {'translatedText': 'Para agregar un nuevo gráfico 2D en kalgebra, lo que tienes que hacer es ir a la pestaña Gráfico 2D y hacer clic en la pestaña Agregar para agregar la nueva función.', 'input': 'To add a new 2D graph on kalgebra , what you have to do is to go to the 2D Graph tab and click in the Add tab to add the new function .'}, {'translatedText': 'Luego su atención irá a un cuadro de texto de entrada donde podrá escribir su función.', 'input': 'Then your focus will go to an input text box where you can type your function .'}, {'translatedText': 'Si desea utilizar una función f(x) típica, no es necesario especificarla.', 'input': 'If you want to use a typical f(x) function it is not necessary to specify it .'}, {'translatedText': 'Si ha ingresado a la función haga clic en el botón Aceptar para mostrar el gráfico en la ventana principal.', 'input': 'If you have entered the function click on the OK button to display the graph in the main window .'}, {'translatedText': 'Puede configurar varios gráficos en la misma vista.', 'input': 'You can set several graphs on the same view .'}, {'translatedText': 'Simplemente use el botón Agregar cuando esté en modo Lista.', 'input': 'Just use the Add button when you are in List mode .'}, {'translatedText': 'Puede configurar cada gráfico con su propio color.', 'input': 'You can set each graph its own color .'}, {'translatedText': 'La Fundación participó recientemente en la organización de una conferencia que abordó este desafío crítico.', 'input': 'The Foundation has recently been involved in organising a conference which dealt with this critical challenge .'}, {'translatedText': 'Más de 100 participantes de los principales grupos de interés asistieron y debatieron cuestiones como el papel de los actores clave, incluidas autoridades públicas, interlocutores sociales, organizaciones voluntarias y comunitarias, así como usuarios de servicios.', 'input': 'Over 100 participants from the main interest groups attended and debated issues such as the role of key actors including public authorities , social partners , voluntary and community organisations as well as service users .'}, {'translatedText': 'También se tomó nota de la variedad de funciones que desempeñan los servicios de bienestar público.', 'input': 'Note was also taken of the variety of different roles played by public welfare'}, {'translatedText': 'La Fundación organizó, junto con la Comisión Europea, el Ministerio de Asuntos Sociales de España y la Xunta de Galicia, una conferencia europea sobre la exclusión social: un gran reto para los servicios públicos de bienestar.', 'input': 'The Foundation organised , together with the European Commission , the Spanish Ministry of Social Affairs and the Galician regional government , a European conference on social exclusion : a major challenge for public welfare services .'}, {'translatedText': 'La Fundación ha publicado recientemente un estudio comparativo en el marco del proyecto EPOC que evalúa hasta qué punto la participación directa puede humanizar el trabajo aumentando al mismo tiempo la rentabilidad.', 'input': 'The Foundation recently published a comparative study as part of the EPOC project which assesses the extent to which direct participation can humanise work while increasing profitability .'}, {'translatedText': 'El estudio se basa en 195 entrevistas personales con altos funcionarios de los interlocutores sociales como representantes de organizaciones de nivel nacional en quince países europeos.', 'input': 'The study is based on 195 personal interviews with senior officials of the social partners as representatives of national level peak organisations in fifteen European countries .'}, {'translatedText': 'Como sectores industriales importantes, también se incluyeron la industria del metal y el sector bancario.', 'input': 'As important industrial sectors , the metal industry and the banking sector were also included .'}, {'translatedText': 'Los oradores principales en la conferencia sobre exclusión social fueron ( de izquierda a derecha ) Cristina Louro , Dirección de Empleo , Relaciones Industriales y Asuntos Sociales de la Comisión Europea Fernando Gomes , un alto grado del Comité de las Regiones Barbara Weiler , Miembro del Parlamento Europeo José Maria Gil- Robles, Vicepresidente del Parlamento Europeo y John Carroll, Comité Económico y Social.', 'input': 'Key speakers at the social exclusion conference were ( left to right ) Cristina Louro , Employment , Industrial Relations and Social Affairs Directorate , European Commission Fernando Gomes , a high degree of Committee of the Regions Barbara Weiler , Member of the European Parliament José Maria Gil-Robles , Vice-President , European Parliament and John Carroll , Economic and Social Committee .'}, {'translatedText': 'Estudios de caso Cada informe nacional contiene una cartera de entre 25 y 30 iniciativas que presentan mejor las políticas y prácticas para mejorar la contratación, la formación y el desarrollo de los trabajadores de edad avanzada tanto en el lugar de trabajo como en la comunidad.', 'input': 'Case Studies Each national report contains a portfolio of between 25 and 30 initiatives which best present policies and practices to improve the recruitment , training and development of ageing workers in both the work place and the community .'}, {'translatedText': 'Para cada país, se han seleccionado dos o tres iniciativas para realizar estudios de caso más detallados.', 'input': 'For each country , two or three initiatives have been selected for further in depth case study .'}, {'translatedText': 'Estos estudios de caso analizaron los antecedentes de las iniciativas, su impacto en los patrones de empleo y las organizaciones laborales y evaluaron los beneficios y problemas de la iniciativa.', 'input': 'These case studies analysed the background of the initiatives , their impact on employment patterns and work organisations and assessed the benefits and problems of the initiative .'}, {'translatedText': 'También se realizaron visitas y entrevistas con personal clave.', 'input': 'Visits and interviews with key personnel were also undertaken .'}, {'translatedText': 'Estos estudios nacionales constituirán la base de un informe europeo que sintetizará las prácticas generales.', 'input': 'These national studies will form the basis of a European report which synthesises overall practices .'}, {'translatedText': 'El informe y un libro de casos de iniciativas se publicarán en 1996 y servirán de telón de fondo para una conferencia que se celebrará en otoño de 1996 .', 'input': 'The report and a case book of initiatives will be published in 1996 and provide the backdrop for a conference to be staged in Autumn , 1996 .'}, {'translatedText': 'La Fundación tiene como objetivo documentar las características de las barreras de edad en la contratación y formación laboral y analizar sus causas.', 'input': 'The Foundation aims to document the characteristics of age barriers in job recruitment and training and to analyse their causes .'}, {'translatedText': 'También se examinan las perspectivas de los interlocutores sociales, prestando especial atención a las propuestas para eliminar las barreras de edad.', 'input': 'The perspectives of the social partners is also being examined , with particular attention paid to proposals for removing age barriers .'}, {'translatedText': 'En tercer lugar, el proyecto documenta y evalúa iniciativas, tanto en el sector público como en el privado, que combaten las barreras de edad, especialmente para los trabajadores de mayor edad.', 'input': 'Thirdly , the project documents and assesses initiatives , in both the public and private sectors which combat age barriers , especially for older workers .'}, {'translatedText': 'Buscando alternativas a la jubilación anticipada y el despido, el proyecto se ocupa principalmente de la retención, reintegración y reciclaje de los trabajadores de mayor edad.', 'input': 'Seeking alternatives to early retirement and redundancy , the project is primarily concerned with the retention , reintegration and retraining of older workers .'}, {'translatedText': 'Se examinan el género y el origen étnico de los trabajadores y cómo se relacionan con la discriminación por edad.', 'input': 'The gender and ethnic backgrounds of workers and how these relate to age discrimination are examined .'}, {'translatedText': 'El proyecto también considera iniciativas para combatir la discriminación por edad en las zonas rurales y en las pequeñas y medianas empresas.', 'input': 'The project also considers initiatives to combat age discrimination in rural areas and in small and medium sized enterprises .'}, {'translatedText': 'El proyecto abarca siete Estados miembros: Bélgica, Francia, Alemania, Grecia, Italia, Países Bajos y Reino Unido.', 'input': 'Seven member states are covered by the project : Belgium , France , Germany , Greece , Italy , the Netherlands and the United Kingdom .'}, {'translatedText': '¿Qué es Cerenia?', 'input': 'What is Cerenia ?'}, {'translatedText': 'Cerenia contiene el principio activo maropitant y está disponible en forma de comprimidos o solución inyectable.', 'input': 'Cerenia contains the active substance maropitant and is available as tablet or as solution for injection .'}, {'translatedText': 'Los comprimidos son de color naranja pálido y tienen una ranura en ambos lados para poder dividirlos por la mitad.', 'input': 'The tablets are pale-orange and have a score line on both sides so that they can be halved .'}, {'translatedText': 'Cada comprimido está marcado con el logo de Pfizer en un lado y con las letras MPT y la cantidad de maropitant en el otro lado.', 'input': 'Each tablet is marked with the Pfizer logo on one side and with the letters MPT and the quantity of maropitant on the other side .'}, {'translatedText': '¿Para qué se utiliza Cerenia?', 'input': 'What is Cerenia used for ?'}, {'translatedText': 'Cerenia es un antiemético, esto significa que detiene el vómito.', 'input': 'Cerenia is an anti-emetic , this means that it stops vomiting .'}, {'translatedText': 'Se utiliza en perros para prevenir los vómitos, como los provocados por la quimioterapia (medicamentos utilizados para el tratamiento del cáncer, algunos de los cuales se sabe que provocan vómitos).', 'input': 'It is used in dogs to prevent vomiting such as vomiting caused by chemotherapy ( medicines used for the treatment of cancer , some of which are known to cause vomiting ) .'}, {'translatedText': 'En combinación con medidas de apoyo, como otros tratamientos veterinarios o una dieta especial, Cerenia también se puede utilizar en el tratamiento de los vómitos (ya sea como inyección o como inyección seguida de comprimidos).', 'input': 'In combination with supportive measures such as other veterinary treatment or a special diet , Cerenia can also be used in the treatment of vomiting ( either as injection or as injection followed by tablets ) .'}, {'translatedText': 'Para estos fines, Cerenia se puede administrar durante un máximo de cinco días.', 'input': 'For these purposes , Cerenia can be given for up to five days'}, {'translatedText': '¿Cómo funciona Cerenia?', 'input': 'How does Cerenia work ?'}, {'translatedText': 'Cerenia bloquea un receptor de neuroquinina 1 (NK1), que actúa en el sistema nervioso central.', 'input': 'Cerenia blocks a neurokinin 1 ( NK1 ) receptor , which acts in the central nervous system .'}, {'translatedText': '¿Cómo se ha estudiado Cerenia?', 'input': 'How has Cerenia been studied ?'}, {'translatedText': 'Se llevaron a cabo un gran número de estudios con Cerenia en perros de laboratorio o en pacientes animales en consultas veterinarias de varios países europeos y EE.UU.', 'input': 'A large number of studies with Cerenia were carried out either in laboratory dogs or in animal patients at veterinary practises in several European countries and in the USA .'}, {'translatedText': '¿Qué beneficio ha demostrado Cerenia durante los estudios?', 'input': 'What benefit has Cerenia shown during the studies ?'}, {'translatedText': 'Los resultados de los estudios demostraron que Cerenia fue más eficaz que el placebo: se observaron menos vómitos en los perros que recibieron el medicamento que en los perros que recibieron un placebo, tanto en el tratamiento como en la prevención de los vómitos.', 'input': 'The results of the studies showed that Cerenia was more effective than the placebo : less vomiting was seen in dogs that received the medicine than in dogs that received a placebo , both in the treatment or in the prevention of vomiting .'}, {'translatedText': 'El tratamiento de un perro que vomita debe iniciarse con la inyección, ya que los animales que vomitan podrían no ser capaces de retener la tableta (ya que podrían arrojar la tableta intacta nuevamente).', 'input': 'The treatment of a vomiting dog should be started with the injection , since vomiting animals might not be able to keep a tablet down ( as they might throw the intact tablet up again ) .'}, {'translatedText': 'Para el tratamiento posterior, el dueño del animal puede administrar los comprimidos al perro.', 'input': 'For follow-up treatment , the animal owner can administer the tablets to the dog .'}, {'translatedText': 'Además, el tratamiento de los vómitos sólo debe realizarse junto con otras medidas de apoyo u otra terapia veterinaria mientras se abordan las causas subyacentes de los vómitos.', 'input': 'Also , the treatment of vomiting should only be together with other supportive measure or other veterinary therapy while addressing the underlying causes of the vomiting .'}, {'translatedText': '¿Cuál es el riesgo asociado con Cerenia?', 'input': 'What is the risk associated with Cerenia ?'}, {'translatedText': 'Cerenia fue generalmente bien tolerada cuando se administró diariamente en dosis de hasta 5 veces las dosis recomendadas durante un período prolongado (hasta 3 veces la duración máxima recomendada del tratamiento).', 'input': 'Cerenia was generally well tolerated when administered daily at dosages up to 5 times the recommended doses for an extended period of time ( up to 3 times the recommended maximum duration of treatment ) .'}, {'translatedText': '¿Cuáles son las precauciones para la persona que administra el medicamento o entra en contacto con el animal?', 'input': 'What are the precautions for the person who gives the medicine or comes into contact with the animal ?'}, {'translatedText': 'Cerenia no representa un riesgo particular para las personas.', 'input': 'Cerenia does not represent a particular risk for people .'}]\n"
     ]
    }
   ],
   "source": [
    "print(tgt_sents)\n",
    "tgt_sents = [s['translatedText'] for s in tgt_sents]"
   ],
   "metadata": {
    "collapsed": false,
    "ExecuteTime": {
     "end_time": "2024-07-16T01:13:03.363083Z",
     "start_time": "2024-07-16T01:13:03.314176Z"
    }
   },
   "id": "6223944ae1eaa6b6"
  },
  {
   "cell_type": "code",
   "execution_count": 66,
   "outputs": [
    {
     "data": {
      "text/plain": "          ID                                            English  \\\n0  d001.s001  This document is a summary of the European Pub...   \n1  d001.s002  It explains how the Committee for Medicinal Pr...   \n2  d001.s003  If you need more information about your medica...   \n3  d001.s004  If you want more information on the basis of t...   \n4  d001.s005                                   What is Alimta ?   \n\n                                 Spanish Translation  \n0  Este documento es un resumen del Informe Públi...  \n1  Explica cómo el Comité de Medicamentos de Uso ...  \n2  Si necesita más información sobre su condición...  \n3  Si desea obtener más información sobre la base...  \n4                                    ¿Qué es Alimta?  ",
      "text/html": "<div>\n<style scoped>\n    .dataframe tbody tr th:only-of-type {\n        vertical-align: middle;\n    }\n\n    .dataframe tbody tr th {\n        vertical-align: top;\n    }\n\n    .dataframe thead th {\n        text-align: right;\n    }\n</style>\n<table border=\"1\" class=\"dataframe\">\n  <thead>\n    <tr style=\"text-align: right;\">\n      <th></th>\n      <th>ID</th>\n      <th>English</th>\n      <th>Spanish Translation</th>\n    </tr>\n  </thead>\n  <tbody>\n    <tr>\n      <th>0</th>\n      <td>d001.s001</td>\n      <td>This document is a summary of the European Pub...</td>\n      <td>Este documento es un resumen del Informe Públi...</td>\n    </tr>\n    <tr>\n      <th>1</th>\n      <td>d001.s002</td>\n      <td>It explains how the Committee for Medicinal Pr...</td>\n      <td>Explica cómo el Comité de Medicamentos de Uso ...</td>\n    </tr>\n    <tr>\n      <th>2</th>\n      <td>d001.s003</td>\n      <td>If you need more information about your medica...</td>\n      <td>Si necesita más información sobre su condición...</td>\n    </tr>\n    <tr>\n      <th>3</th>\n      <td>d001.s004</td>\n      <td>If you want more information on the basis of t...</td>\n      <td>Si desea obtener más información sobre la base...</td>\n    </tr>\n    <tr>\n      <th>4</th>\n      <td>d001.s005</td>\n      <td>What is Alimta ?</td>\n      <td>¿Qué es Alimta?</td>\n    </tr>\n  </tbody>\n</table>\n</div>"
     },
     "execution_count": 66,
     "metadata": {},
     "output_type": "execute_result"
    }
   ],
   "source": [
    "# output\n",
    "trans_df = pd.DataFrame({\n",
    "    'ID': sids\n",
    "    , 'English': sents\n",
    "    , language+ ' Translation': tgt_sents\n",
    "    })\n",
    "trans_df.head()"
   ],
   "metadata": {
    "collapsed": false,
    "ExecuteTime": {
     "end_time": "2024-07-16T01:13:06.692454Z",
     "start_time": "2024-07-16T01:13:06.664896Z"
    }
   },
   "id": "e0c0239ef97cce37"
  },
  {
   "cell_type": "code",
   "execution_count": 67,
   "outputs": [],
   "source": [
    "# Save to TSV \n",
    "trans_df.to_csv(TRANS_FILE, sep='\\t', index=False)"
   ],
   "metadata": {
    "collapsed": false,
    "ExecuteTime": {
     "end_time": "2024-07-16T01:13:07.566347Z",
     "start_time": "2024-07-16T01:13:07.548258Z"
    }
   },
   "id": "985f57293a2b1111"
  },
  {
   "cell_type": "code",
   "execution_count": 68,
   "outputs": [
    {
     "data": {
      "text/plain": "          ID                                            English  \\\n0  d001.s001  This document is a summary of the European Pub...   \n1  d001.s002  It explains how the Committee for Medicinal Pr...   \n2  d001.s003  If you need more information about your medica...   \n3  d001.s004  If you want more information on the basis of t...   \n4  d001.s005                                   What is Alimta ?   \n\n                                 Spanish Translation  \n0  Este documento es un resumen del Informe Públi...  \n1  Explica cómo el Comité de Medicamentos de Uso ...  \n2  Si necesita más información sobre su condición...  \n3  Si desea obtener más información sobre la base...  \n4                                    ¿Qué es Alimta?  ",
      "text/html": "<div>\n<style scoped>\n    .dataframe tbody tr th:only-of-type {\n        vertical-align: middle;\n    }\n\n    .dataframe tbody tr th {\n        vertical-align: top;\n    }\n\n    .dataframe thead th {\n        text-align: right;\n    }\n</style>\n<table border=\"1\" class=\"dataframe\">\n  <thead>\n    <tr style=\"text-align: right;\">\n      <th></th>\n      <th>ID</th>\n      <th>English</th>\n      <th>Spanish Translation</th>\n    </tr>\n  </thead>\n  <tbody>\n    <tr>\n      <th>0</th>\n      <td>d001.s001</td>\n      <td>This document is a summary of the European Pub...</td>\n      <td>Este documento es un resumen del Informe Públi...</td>\n    </tr>\n    <tr>\n      <th>1</th>\n      <td>d001.s002</td>\n      <td>It explains how the Committee for Medicinal Pr...</td>\n      <td>Explica cómo el Comité de Medicamentos de Uso ...</td>\n    </tr>\n    <tr>\n      <th>2</th>\n      <td>d001.s003</td>\n      <td>If you need more information about your medica...</td>\n      <td>Si necesita más información sobre su condición...</td>\n    </tr>\n    <tr>\n      <th>3</th>\n      <td>d001.s004</td>\n      <td>If you want more information on the basis of t...</td>\n      <td>Si desea obtener más información sobre la base...</td>\n    </tr>\n    <tr>\n      <th>4</th>\n      <td>d001.s005</td>\n      <td>What is Alimta ?</td>\n      <td>¿Qué es Alimta?</td>\n    </tr>\n  </tbody>\n</table>\n</div>"
     },
     "execution_count": 68,
     "metadata": {},
     "output_type": "execute_result"
    }
   ],
   "source": [
    "# load TSV \n",
    "trans_df = pd.read_csv(TRANS_FILE, delimiter='\\t', quoting=csv.QUOTE_NONE)\n",
    "trans_df.head()"
   ],
   "metadata": {
    "collapsed": false,
    "ExecuteTime": {
     "end_time": "2024-07-16T01:13:08.291994Z",
     "start_time": "2024-07-16T01:13:08.275298Z"
    }
   },
   "id": "e5f07b12c39b974a"
  },
  {
   "cell_type": "code",
   "execution_count": 69,
   "outputs": [],
   "source": [
    "trans_sents = trans_df[language+ \" Translation\"].tolist()"
   ],
   "metadata": {
    "collapsed": false,
    "ExecuteTime": {
     "end_time": "2024-07-16T01:13:10.296256Z",
     "start_time": "2024-07-16T01:13:10.280430Z"
    }
   },
   "id": "646c2a83e177404f"
  },
  {
   "cell_type": "markdown",
   "source": [
    "# EVALUATE QUALITY"
   ],
   "metadata": {
    "collapsed": false
   },
   "id": "747b3fcf3d8e292b"
  },
  {
   "cell_type": "code",
   "execution_count": 70,
   "outputs": [
    {
     "data": {
      "text/plain": "  Sentence ID                                           Sentence\n0   d001.s001  En el presente documento se resume el Informe ...\n1   d001.s002  En él se explica cómo el Comité de Medicamento...\n2   d001.s003  Si desea más información sobre su enfermedad o...\n3   d001.s004  Si desea más información sobre el fundamento e...\n4   d001.s005                                   ¿Qué es Alimta ?",
      "text/html": "<div>\n<style scoped>\n    .dataframe tbody tr th:only-of-type {\n        vertical-align: middle;\n    }\n\n    .dataframe tbody tr th {\n        vertical-align: top;\n    }\n\n    .dataframe thead th {\n        text-align: right;\n    }\n</style>\n<table border=\"1\" class=\"dataframe\">\n  <thead>\n    <tr style=\"text-align: right;\">\n      <th></th>\n      <th>Sentence ID</th>\n      <th>Sentence</th>\n    </tr>\n  </thead>\n  <tbody>\n    <tr>\n      <th>0</th>\n      <td>d001.s001</td>\n      <td>En el presente documento se resume el Informe ...</td>\n    </tr>\n    <tr>\n      <th>1</th>\n      <td>d001.s002</td>\n      <td>En él se explica cómo el Comité de Medicamento...</td>\n    </tr>\n    <tr>\n      <th>2</th>\n      <td>d001.s003</td>\n      <td>Si desea más información sobre su enfermedad o...</td>\n    </tr>\n    <tr>\n      <th>3</th>\n      <td>d001.s004</td>\n      <td>Si desea más información sobre el fundamento e...</td>\n    </tr>\n    <tr>\n      <th>4</th>\n      <td>d001.s005</td>\n      <td>¿Qué es Alimta ?</td>\n    </tr>\n  </tbody>\n</table>\n</div>"
     },
     "execution_count": 70,
     "metadata": {},
     "output_type": "execute_result"
    }
   ],
   "source": [
    "gold_df = pd.read_csv(GOLD_FILE, delimiter='\\t', quoting=csv.QUOTE_NONE)\n",
    "gold_df.head()\n"
   ],
   "metadata": {
    "collapsed": false,
    "ExecuteTime": {
     "end_time": "2024-07-16T01:13:12.223987Z",
     "start_time": "2024-07-16T01:13:12.201912Z"
    }
   },
   "id": "cb0819657e768b72"
  },
  {
   "cell_type": "code",
   "execution_count": 71,
   "outputs": [
    {
     "data": {
      "text/plain": "(131, 131)"
     },
     "execution_count": 71,
     "metadata": {},
     "output_type": "execute_result"
    }
   ],
   "source": [
    "gold_sents = gold_df[\"Sentence\"].tolist()\n",
    "len(gold_sents),len(trans_sents)"
   ],
   "metadata": {
    "collapsed": false,
    "ExecuteTime": {
     "end_time": "2024-07-16T01:13:14.343499Z",
     "start_time": "2024-07-16T01:13:14.326712Z"
    }
   },
   "id": "58f939a6b839b38c"
  },
  {
   "cell_type": "code",
   "execution_count": 72,
   "outputs": [],
   "source": [
    "def calculate_bleu(reference_sentences, candidate_sentences):\n",
    "    \"\"\"\n",
    "    Calculate the BLEU score between two lists of sentences.\n",
    "\n",
    "    :param reference_sentences: List of reference sentences\n",
    "    :param candidate_sentences: List of candidate sentences\n",
    "    :return: BLEU score\n",
    "    \"\"\"\n",
    "    references = [[ref.split()] for ref in reference_sentences]\n",
    "    candidates = [cand.split() for cand in candidate_sentences]\n",
    "    \n",
    "    # Calculate sentence-level BLEU scores\n",
    "    sentence_bleu_scores = [sentence_bleu(ref, cand,  weights=(0.25,0.25,0.25,0.25)) for ref, cand in zip(references, candidates)]\n",
    "    \n",
    "    # Calculate corpus-level BLEU score\n",
    "    corpus_bleu_score = corpus_bleu(references, candidates, weights=(0.25,0.25,0.25,0.25))\n",
    "    \n",
    "    return sentence_bleu_scores, corpus_bleu_score\n",
    "\n",
    "\n"
   ],
   "metadata": {
    "collapsed": false,
    "ExecuteTime": {
     "end_time": "2024-07-16T01:13:15.420852Z",
     "start_time": "2024-07-16T01:13:15.403731Z"
    }
   },
   "id": "652f5b8dd68761cb"
  },
  {
   "cell_type": "code",
   "execution_count": 73,
   "outputs": [
    {
     "name": "stdout",
     "output_type": "stream",
     "text": [
      "Sentence-level BLEU scores: [0.23961829057131984, 0.27039777221233924, 0.13740950768136106, 3.0052113220051886e-78, 9.53091075863908e-155, 0.2852636439147137, 0.5081327481546147, 0.5081327481546147, 0.2649268590278449, 0.3806658939363621, 0.5370756670734657, 0.8633400213704505, 8.38826642100846e-155, 0.7828785637123031, 0.5839895781169013, 0.36161426197529906, 0.2135323752004724, 6.276154237151866e-155, 0.4257110866884422, 0.2082198320914845, 1.2882297539194154e-231, 0.27958160935889725, 0.6007307912522272, 1.0244914152188952e-231, 0.38899050791510964, 0.6098820960308446, 0.43471993230956535, 0.45592167592757143, 2.9154018748021785e-78, 0.37991784282579627, 0.6930977286178778, 0.2846824368437765, 0.46836246523694947, 0.34616316658919044, 0.4198850012185551, 0.2644073920994416, 0.2829559628326351, 0.6816650778781156, 0.28373869773074895, 4.539377974371219e-78, 0.7259795291154771, 6.961252661205922e-155, 0.4240125351805037, 9.53091075863908e-155, 0.14654357858721576, 0.41180376356915777, 0.12467162911272897, 3.328255793132717e-78, 5.157006819435075e-155, 5.019362538473707e-155, 0.19674979811155635, 6.08970970641905e-155, 1.4488496539373276e-231, 3.9126302422016713e-78, 0.24808415001701817, 8.49652450650231e-155, 0.190456852083354, 1.0338718040106506e-154, 5.359624986283916e-155, 0.17447394295753052, 0.13018401384073014, 5.74340400309589e-155, 0.16719528196867423, 7.241926111174567e-155, 5.359624986283916e-155, 4.484824319939061e-78, 0.44632361378533286, 0.141543757252386, 0.23418123261847473, 8.121328445417258e-155, 1.2882297539194154e-231, 5.623118184955381e-78, 6.206021746903507e-78, 6.164444051541174e-155, 5.623118184955381e-78, 0.23909453161355018, 0.1673872929477023, 7.380245217279165e-78, 0.6236362995619311, 1.2213386697554703e-77, 9.53091075863908e-155, 0.23135181197435825, 0.2545984531673679, 4.622133158301186e-78, 0.19319794288373765, 3.690122608639576e-78, 6.13274920178966e-155, 1.2882297539194154e-231, 0.42311785416105785, 0.20043541742584264, 0.21365324973627853, 0.29059578523099455, 0.5756446367610886, 0.4217019135502955, 0.3263598326609893, 0.5026590787634744, 0.23249088747471255, 0.14528679532351443, 3.038284580814188e-78, 3.191385619211647e-78, 0.3527295712700594, 0.5142932594746844, 0.2001670147593021, 0.36519346563474564, 0.1637237544630715, 0.22233922818300378, 3.402425686854093e-78, 0.33799901079888467, 0.10435185733665414, 9.53091075863908e-155, 0.5398995684986874, 0.4126152034907945, 0.4511309588517889, 0.5081327481546147, 3.690122608639576e-78, 0.3066723681478951, 0.3519053000448044, 0.3334477432809602, 1.2882297539194154e-231, 0.195647514979229, 1.0244914152188952e-231, 0.4389321784429702, 0.3155984539112945, 0.6485979481323837, 0.17140739929345014, 6.1683028603484695e-155, 0.19084758996741738, 0, 0.3594318191493972, 0.25448050157066204, 6.513869329968086e-155]\n",
      "Corpus-level BLEU score: 0.3067668839882311\n"
     ]
    },
    {
     "name": "stderr",
     "output_type": "stream",
     "text": [
      "/usr/local/lib/python3.11/site-packages/nltk/translate/bleu_score.py:552: UserWarning: \n",
      "The hypothesis contains 0 counts of 4-gram overlaps.\n",
      "Therefore the BLEU score evaluates to 0, independently of\n",
      "how many N-gram overlaps of lower order it contains.\n",
      "Consider using lower n-gram order or use SmoothingFunction()\n",
      "  warnings.warn(_msg)\n",
      "/usr/local/lib/python3.11/site-packages/nltk/translate/bleu_score.py:552: UserWarning: \n",
      "The hypothesis contains 0 counts of 3-gram overlaps.\n",
      "Therefore the BLEU score evaluates to 0, independently of\n",
      "how many N-gram overlaps of lower order it contains.\n",
      "Consider using lower n-gram order or use SmoothingFunction()\n",
      "  warnings.warn(_msg)\n",
      "/usr/local/lib/python3.11/site-packages/nltk/translate/bleu_score.py:552: UserWarning: \n",
      "The hypothesis contains 0 counts of 2-gram overlaps.\n",
      "Therefore the BLEU score evaluates to 0, independently of\n",
      "how many N-gram overlaps of lower order it contains.\n",
      "Consider using lower n-gram order or use SmoothingFunction()\n",
      "  warnings.warn(_msg)\n"
     ]
    }
   ],
   "source": [
    "sentence_scores, corpus_score = calculate_bleu(trans_sents, gold_sents)\n",
    "print(f\"Sentence-level BLEU scores: {sentence_scores}\")\n",
    "print(f\"Corpus-level BLEU score: {corpus_score}\")\n"
   ],
   "metadata": {
    "collapsed": false,
    "ExecuteTime": {
     "end_time": "2024-07-16T01:13:16.214411Z",
     "start_time": "2024-07-16T01:13:16.180664Z"
    }
   },
   "id": "bbec5ef75b6a0641"
  },
  {
   "cell_type": "code",
   "execution_count": 74,
   "outputs": [
    {
     "name": "stdout",
     "output_type": "stream",
     "text": [
      "0.3072473201468685\n"
     ]
    }
   ],
   "source": [
    "from torchtext.data.metrics import bleu_score\n",
    "references = [[ref.split()] for ref in gold_sents]\n",
    "candidates = [cand.split() for cand in trans_sents]\n",
    "print(bleu_score( candidates, references))\n"
   ],
   "metadata": {
    "collapsed": false,
    "ExecuteTime": {
     "end_time": "2024-07-16T01:13:17.021700Z",
     "start_time": "2024-07-16T01:13:16.954398Z"
    }
   },
   "id": "e215f3dfda8b35f8"
  },
  {
   "cell_type": "code",
   "execution_count": 192,
   "outputs": [
    {
     "ename": "ImportError",
     "evalue": "cannot import name 'LastCommitInfo' from 'huggingface_hub.hf_api' (/usr/local/lib/python3.11/site-packages/huggingface_hub/hf_api.py)",
     "output_type": "error",
     "traceback": [
      "\u001B[0;31m---------------------------------------------------------------------------\u001B[0m",
      "\u001B[0;31mImportError\u001B[0m                               Traceback (most recent call last)",
      "Cell \u001B[0;32mIn[192], line 1\u001B[0m\n\u001B[0;32m----> 1\u001B[0m \u001B[38;5;28;01mimport\u001B[39;00m \u001B[38;5;21;01mevaluate\u001B[39;00m\n\u001B[1;32m      2\u001B[0m bleu \u001B[38;5;241m=\u001B[39m evaluate\u001B[38;5;241m.\u001B[39mload(\u001B[38;5;124m'\u001B[39m\u001B[38;5;124mbleu\u001B[39m\u001B[38;5;124m'\u001B[39m)\n",
      "File \u001B[0;32m/usr/local/lib/python3.11/site-packages/evaluate/__init__.py:29\u001B[0m\n\u001B[1;32m     25\u001B[0m SCRIPTS_VERSION \u001B[38;5;241m=\u001B[39m \u001B[38;5;124m\"\u001B[39m\u001B[38;5;124mmain\u001B[39m\u001B[38;5;124m\"\u001B[39m \u001B[38;5;28;01mif\u001B[39;00m version\u001B[38;5;241m.\u001B[39mparse(__version__)\u001B[38;5;241m.\u001B[39mis_devrelease \u001B[38;5;28;01melse\u001B[39;00m __version__\n\u001B[1;32m     27\u001B[0m \u001B[38;5;28;01mdel\u001B[39;00m version\n\u001B[0;32m---> 29\u001B[0m \u001B[38;5;28;01mfrom\u001B[39;00m \u001B[38;5;21;01m.\u001B[39;00m\u001B[38;5;21;01mevaluation_suite\u001B[39;00m \u001B[38;5;28;01mimport\u001B[39;00m EvaluationSuite\n\u001B[1;32m     30\u001B[0m \u001B[38;5;28;01mfrom\u001B[39;00m \u001B[38;5;21;01m.\u001B[39;00m\u001B[38;5;21;01mevaluator\u001B[39;00m \u001B[38;5;28;01mimport\u001B[39;00m (\n\u001B[1;32m     31\u001B[0m     AudioClassificationEvaluator,\n\u001B[1;32m     32\u001B[0m     AutomaticSpeechRecognitionEvaluator,\n\u001B[0;32m   (...)\u001B[0m\n\u001B[1;32m     42\u001B[0m     evaluator,\n\u001B[1;32m     43\u001B[0m )\n\u001B[1;32m     44\u001B[0m \u001B[38;5;28;01mfrom\u001B[39;00m \u001B[38;5;21;01m.\u001B[39;00m\u001B[38;5;21;01mhub\u001B[39;00m \u001B[38;5;28;01mimport\u001B[39;00m push_to_hub\n",
      "File \u001B[0;32m/usr/local/lib/python3.11/site-packages/evaluate/evaluation_suite/__init__.py:7\u001B[0m\n\u001B[1;32m      4\u001B[0m \u001B[38;5;28;01mfrom\u001B[39;00m \u001B[38;5;21;01mpathlib\u001B[39;00m \u001B[38;5;28;01mimport\u001B[39;00m Path\n\u001B[1;32m      5\u001B[0m \u001B[38;5;28;01mfrom\u001B[39;00m \u001B[38;5;21;01mtyping\u001B[39;00m \u001B[38;5;28;01mimport\u001B[39;00m Callable, Dict, Optional, Union\n\u001B[0;32m----> 7\u001B[0m \u001B[38;5;28;01mfrom\u001B[39;00m \u001B[38;5;21;01mdatasets\u001B[39;00m \u001B[38;5;28;01mimport\u001B[39;00m Dataset, DownloadConfig, DownloadMode, load_dataset\n\u001B[1;32m      8\u001B[0m \u001B[38;5;28;01mfrom\u001B[39;00m \u001B[38;5;21;01mdatasets\u001B[39;00m\u001B[38;5;21;01m.\u001B[39;00m\u001B[38;5;21;01mutils\u001B[39;00m\u001B[38;5;21;01m.\u001B[39;00m\u001B[38;5;21;01mversion\u001B[39;00m \u001B[38;5;28;01mimport\u001B[39;00m Version\n\u001B[1;32m     10\u001B[0m \u001B[38;5;28;01mfrom\u001B[39;00m \u001B[38;5;21;01m.\u001B[39;00m\u001B[38;5;21;01m.\u001B[39;00m\u001B[38;5;21;01mevaluator\u001B[39;00m \u001B[38;5;28;01mimport\u001B[39;00m evaluator\n",
      "File \u001B[0;32m/usr/local/lib/python3.11/site-packages/datasets/__init__.py:17\u001B[0m\n\u001B[1;32m      1\u001B[0m \u001B[38;5;66;03m# Copyright 2020 The HuggingFace Datasets Authors and the TensorFlow Datasets Authors.\u001B[39;00m\n\u001B[1;32m      2\u001B[0m \u001B[38;5;66;03m#\u001B[39;00m\n\u001B[1;32m      3\u001B[0m \u001B[38;5;66;03m# Licensed under the Apache License, Version 2.0 (the \"License\");\u001B[39;00m\n\u001B[0;32m   (...)\u001B[0m\n\u001B[1;32m     12\u001B[0m \u001B[38;5;66;03m# See the License for the specific language governing permissions and\u001B[39;00m\n\u001B[1;32m     13\u001B[0m \u001B[38;5;66;03m# limitations under the License.\u001B[39;00m\n\u001B[1;32m     15\u001B[0m __version__ \u001B[38;5;241m=\u001B[39m \u001B[38;5;124m\"\u001B[39m\u001B[38;5;124m2.20.0\u001B[39m\u001B[38;5;124m\"\u001B[39m\n\u001B[0;32m---> 17\u001B[0m \u001B[38;5;28;01mfrom\u001B[39;00m \u001B[38;5;21;01m.\u001B[39;00m\u001B[38;5;21;01marrow_dataset\u001B[39;00m \u001B[38;5;28;01mimport\u001B[39;00m Dataset\n\u001B[1;32m     18\u001B[0m \u001B[38;5;28;01mfrom\u001B[39;00m \u001B[38;5;21;01m.\u001B[39;00m\u001B[38;5;21;01marrow_reader\u001B[39;00m \u001B[38;5;28;01mimport\u001B[39;00m ReadInstruction\n\u001B[1;32m     19\u001B[0m \u001B[38;5;28;01mfrom\u001B[39;00m \u001B[38;5;21;01m.\u001B[39;00m\u001B[38;5;21;01mbuilder\u001B[39;00m \u001B[38;5;28;01mimport\u001B[39;00m ArrowBasedBuilder, BeamBasedBuilder, BuilderConfig, DatasetBuilder, GeneratorBasedBuilder\n",
      "File \u001B[0;32m/usr/local/lib/python3.11/site-packages/datasets/arrow_dataset.py:76\u001B[0m\n\u001B[1;32m     73\u001B[0m \u001B[38;5;28;01mfrom\u001B[39;00m \u001B[38;5;21;01mtqdm\u001B[39;00m\u001B[38;5;21;01m.\u001B[39;00m\u001B[38;5;21;01mcontrib\u001B[39;00m\u001B[38;5;21;01m.\u001B[39;00m\u001B[38;5;21;01mconcurrent\u001B[39;00m \u001B[38;5;28;01mimport\u001B[39;00m thread_map\n\u001B[1;32m     75\u001B[0m \u001B[38;5;28;01mfrom\u001B[39;00m \u001B[38;5;21;01m.\u001B[39;00m \u001B[38;5;28;01mimport\u001B[39;00m config\n\u001B[0;32m---> 76\u001B[0m \u001B[38;5;28;01mfrom\u001B[39;00m \u001B[38;5;21;01m.\u001B[39;00m\u001B[38;5;21;01marrow_reader\u001B[39;00m \u001B[38;5;28;01mimport\u001B[39;00m ArrowReader\n\u001B[1;32m     77\u001B[0m \u001B[38;5;28;01mfrom\u001B[39;00m \u001B[38;5;21;01m.\u001B[39;00m\u001B[38;5;21;01marrow_writer\u001B[39;00m \u001B[38;5;28;01mimport\u001B[39;00m ArrowWriter, OptimizedTypedSequence\n\u001B[1;32m     78\u001B[0m \u001B[38;5;28;01mfrom\u001B[39;00m \u001B[38;5;21;01m.\u001B[39;00m\u001B[38;5;21;01mdata_files\u001B[39;00m \u001B[38;5;28;01mimport\u001B[39;00m sanitize_patterns\n",
      "File \u001B[0;32m/usr/local/lib/python3.11/site-packages/datasets/arrow_reader.py:34\u001B[0m\n\u001B[1;32m     32\u001B[0m \u001B[38;5;28;01mfrom\u001B[39;00m \u001B[38;5;21;01m.\u001B[39;00m\u001B[38;5;21;01mdownload\u001B[39;00m\u001B[38;5;21;01m.\u001B[39;00m\u001B[38;5;21;01mdownload_config\u001B[39;00m \u001B[38;5;28;01mimport\u001B[39;00m DownloadConfig\n\u001B[1;32m     33\u001B[0m \u001B[38;5;28;01mfrom\u001B[39;00m \u001B[38;5;21;01m.\u001B[39;00m\u001B[38;5;21;01mnaming\u001B[39;00m \u001B[38;5;28;01mimport\u001B[39;00m _split_re, filenames_for_dataset_split\n\u001B[0;32m---> 34\u001B[0m \u001B[38;5;28;01mfrom\u001B[39;00m \u001B[38;5;21;01m.\u001B[39;00m\u001B[38;5;21;01mtable\u001B[39;00m \u001B[38;5;28;01mimport\u001B[39;00m InMemoryTable, MemoryMappedTable, Table, concat_tables\n\u001B[1;32m     35\u001B[0m \u001B[38;5;28;01mfrom\u001B[39;00m \u001B[38;5;21;01m.\u001B[39;00m\u001B[38;5;21;01mutils\u001B[39;00m \u001B[38;5;28;01mimport\u001B[39;00m logging\n\u001B[1;32m     36\u001B[0m \u001B[38;5;28;01mfrom\u001B[39;00m \u001B[38;5;21;01m.\u001B[39;00m\u001B[38;5;21;01mutils\u001B[39;00m \u001B[38;5;28;01mimport\u001B[39;00m tqdm \u001B[38;5;28;01mas\u001B[39;00m hf_tqdm\n",
      "File \u001B[0;32m/usr/local/lib/python3.11/site-packages/datasets/table.py:13\u001B[0m\n\u001B[1;32m     10\u001B[0m \u001B[38;5;28;01mimport\u001B[39;00m \u001B[38;5;21;01mpyarrow\u001B[39;00m\u001B[38;5;21;01m.\u001B[39;00m\u001B[38;5;21;01mtypes\u001B[39;00m\n\u001B[1;32m     12\u001B[0m \u001B[38;5;28;01mfrom\u001B[39;00m \u001B[38;5;21;01m.\u001B[39;00m \u001B[38;5;28;01mimport\u001B[39;00m config\n\u001B[0;32m---> 13\u001B[0m \u001B[38;5;28;01mfrom\u001B[39;00m \u001B[38;5;21;01m.\u001B[39;00m\u001B[38;5;21;01mutils\u001B[39;00m\u001B[38;5;21;01m.\u001B[39;00m\u001B[38;5;21;01mlogging\u001B[39;00m \u001B[38;5;28;01mimport\u001B[39;00m get_logger\n\u001B[1;32m     16\u001B[0m \u001B[38;5;28;01mif\u001B[39;00m TYPE_CHECKING:\n\u001B[1;32m     17\u001B[0m     \u001B[38;5;28;01mfrom\u001B[39;00m \u001B[38;5;21;01m.\u001B[39;00m\u001B[38;5;21;01mfeatures\u001B[39;00m\u001B[38;5;21;01m.\u001B[39;00m\u001B[38;5;21;01mfeatures\u001B[39;00m \u001B[38;5;28;01mimport\u001B[39;00m Features, FeatureType\n",
      "File \u001B[0;32m/usr/local/lib/python3.11/site-packages/datasets/utils/__init__.py:17\u001B[0m\n\u001B[1;32m     15\u001B[0m \u001B[38;5;28;01mfrom\u001B[39;00m \u001B[38;5;21;01m.\u001B[39;00m \u001B[38;5;28;01mimport\u001B[39;00m tqdm \u001B[38;5;28;01mas\u001B[39;00m _tqdm  \u001B[38;5;66;03m# _tqdm is the module\u001B[39;00m\n\u001B[1;32m     16\u001B[0m \u001B[38;5;28;01mfrom\u001B[39;00m \u001B[38;5;21;01m.\u001B[39;00m\u001B[38;5;21;01mexperimental\u001B[39;00m \u001B[38;5;28;01mimport\u001B[39;00m experimental\n\u001B[0;32m---> 17\u001B[0m \u001B[38;5;28;01mfrom\u001B[39;00m \u001B[38;5;21;01m.\u001B[39;00m\u001B[38;5;21;01minfo_utils\u001B[39;00m \u001B[38;5;28;01mimport\u001B[39;00m VerificationMode\n\u001B[1;32m     18\u001B[0m \u001B[38;5;28;01mfrom\u001B[39;00m \u001B[38;5;21;01m.\u001B[39;00m\u001B[38;5;21;01mlogging\u001B[39;00m \u001B[38;5;28;01mimport\u001B[39;00m disable_progress_bar, enable_progress_bar, is_progress_bar_enabled\n\u001B[1;32m     19\u001B[0m \u001B[38;5;28;01mfrom\u001B[39;00m \u001B[38;5;21;01m.\u001B[39;00m\u001B[38;5;21;01mtqdm\u001B[39;00m \u001B[38;5;28;01mimport\u001B[39;00m (\n\u001B[1;32m     20\u001B[0m     are_progress_bars_disabled,\n\u001B[1;32m     21\u001B[0m     disable_progress_bars,\n\u001B[1;32m     22\u001B[0m     enable_progress_bars,\n\u001B[1;32m     23\u001B[0m     tqdm,\n\u001B[1;32m     24\u001B[0m )\n",
      "File \u001B[0;32m/usr/local/lib/python3.11/site-packages/datasets/utils/info_utils.py:8\u001B[0m\n\u001B[1;32m      5\u001B[0m \u001B[38;5;28;01mfrom\u001B[39;00m \u001B[38;5;21;01mhuggingface_hub\u001B[39;00m\u001B[38;5;21;01m.\u001B[39;00m\u001B[38;5;21;01mutils\u001B[39;00m \u001B[38;5;28;01mimport\u001B[39;00m insecure_hashlib\n\u001B[1;32m      7\u001B[0m \u001B[38;5;28;01mfrom\u001B[39;00m \u001B[38;5;21;01m.\u001B[39;00m\u001B[38;5;21;01m.\u001B[39;00m \u001B[38;5;28;01mimport\u001B[39;00m config\n\u001B[0;32m----> 8\u001B[0m \u001B[38;5;28;01mfrom\u001B[39;00m \u001B[38;5;21;01m.\u001B[39;00m\u001B[38;5;21;01m.\u001B[39;00m\u001B[38;5;21;01mexceptions\u001B[39;00m \u001B[38;5;28;01mimport\u001B[39;00m (\n\u001B[1;32m      9\u001B[0m     ExpectedMoreDownloadedFilesError,\n\u001B[1;32m     10\u001B[0m     ExpectedMoreSplitsError,\n\u001B[1;32m     11\u001B[0m     NonMatchingChecksumError,\n\u001B[1;32m     12\u001B[0m     NonMatchingSplitsSizesError,\n\u001B[1;32m     13\u001B[0m     UnexpectedDownloadedFileError,\n\u001B[1;32m     14\u001B[0m     UnexpectedSplitsError,\n\u001B[1;32m     15\u001B[0m )\n\u001B[1;32m     16\u001B[0m \u001B[38;5;28;01mfrom\u001B[39;00m \u001B[38;5;21;01m.\u001B[39;00m\u001B[38;5;21;01mlogging\u001B[39;00m \u001B[38;5;28;01mimport\u001B[39;00m get_logger\n\u001B[1;32m     19\u001B[0m logger \u001B[38;5;241m=\u001B[39m get_logger(\u001B[38;5;18m__name__\u001B[39m)\n",
      "File \u001B[0;32m/usr/local/lib/python3.11/site-packages/datasets/exceptions.py:5\u001B[0m\n\u001B[1;32m      1\u001B[0m \u001B[38;5;66;03m# SPDX-License-Identifier: Apache-2.0\u001B[39;00m\n\u001B[1;32m      2\u001B[0m \u001B[38;5;66;03m# Copyright 2023 The HuggingFace Authors.\u001B[39;00m\n\u001B[1;32m      3\u001B[0m \u001B[38;5;28;01mfrom\u001B[39;00m \u001B[38;5;21;01mtyping\u001B[39;00m \u001B[38;5;28;01mimport\u001B[39;00m Any, Dict, List, Optional, Union\n\u001B[0;32m----> 5\u001B[0m \u001B[38;5;28;01mfrom\u001B[39;00m \u001B[38;5;21;01mhuggingface_hub\u001B[39;00m \u001B[38;5;28;01mimport\u001B[39;00m HfFileSystem\n\u001B[1;32m      7\u001B[0m \u001B[38;5;28;01mfrom\u001B[39;00m \u001B[38;5;21;01m.\u001B[39;00m \u001B[38;5;28;01mimport\u001B[39;00m config\n\u001B[1;32m      8\u001B[0m \u001B[38;5;28;01mfrom\u001B[39;00m \u001B[38;5;21;01m.\u001B[39;00m\u001B[38;5;21;01mtable\u001B[39;00m \u001B[38;5;28;01mimport\u001B[39;00m CastError\n",
      "File \u001B[0;32m/usr/local/lib/python3.11/site-packages/huggingface_hub/__init__.py:357\u001B[0m, in \u001B[0;36m__getattr__\u001B[0;34m(name)\u001B[0m\n\u001B[1;32m     49\u001B[0m __version__ \u001B[38;5;241m=\u001B[39m \u001B[38;5;124m\"\u001B[39m\u001B[38;5;124m0.23.4\u001B[39m\u001B[38;5;124m\"\u001B[39m\n\u001B[1;32m     51\u001B[0m \u001B[38;5;66;03m# Alphabetical order of definitions is ensured in tests\u001B[39;00m\n\u001B[1;32m     52\u001B[0m \u001B[38;5;66;03m# WARNING: any comment added in this dictionary definition will be lost when\u001B[39;00m\n\u001B[1;32m     53\u001B[0m \u001B[38;5;66;03m# re-generating the file !\u001B[39;00m\n\u001B[1;32m     54\u001B[0m _SUBMOD_ATTRS \u001B[38;5;241m=\u001B[39m {\n\u001B[1;32m     55\u001B[0m     \u001B[38;5;124m\"\u001B[39m\u001B[38;5;124m_commit_scheduler\u001B[39m\u001B[38;5;124m\"\u001B[39m: [\n\u001B[1;32m     56\u001B[0m         \u001B[38;5;124m\"\u001B[39m\u001B[38;5;124mCommitScheduler\u001B[39m\u001B[38;5;124m\"\u001B[39m,\n\u001B[1;32m     57\u001B[0m     ],\n\u001B[1;32m     58\u001B[0m     \u001B[38;5;124m\"\u001B[39m\u001B[38;5;124m_inference_endpoints\u001B[39m\u001B[38;5;124m\"\u001B[39m: [\n\u001B[1;32m     59\u001B[0m         \u001B[38;5;124m\"\u001B[39m\u001B[38;5;124mInferenceEndpoint\u001B[39m\u001B[38;5;124m\"\u001B[39m,\n\u001B[1;32m     60\u001B[0m         \u001B[38;5;124m\"\u001B[39m\u001B[38;5;124mInferenceEndpointError\u001B[39m\u001B[38;5;124m\"\u001B[39m,\n\u001B[1;32m     61\u001B[0m         \u001B[38;5;124m\"\u001B[39m\u001B[38;5;124mInferenceEndpointStatus\u001B[39m\u001B[38;5;124m\"\u001B[39m,\n\u001B[1;32m     62\u001B[0m         \u001B[38;5;124m\"\u001B[39m\u001B[38;5;124mInferenceEndpointTimeoutError\u001B[39m\u001B[38;5;124m\"\u001B[39m,\n\u001B[1;32m     63\u001B[0m         \u001B[38;5;124m\"\u001B[39m\u001B[38;5;124mInferenceEndpointType\u001B[39m\u001B[38;5;124m\"\u001B[39m,\n\u001B[1;32m     64\u001B[0m     ],\n\u001B[1;32m     65\u001B[0m     \u001B[38;5;124m\"\u001B[39m\u001B[38;5;124m_login\u001B[39m\u001B[38;5;124m\"\u001B[39m: [\n\u001B[1;32m     66\u001B[0m         \u001B[38;5;124m\"\u001B[39m\u001B[38;5;124minterpreter_login\u001B[39m\u001B[38;5;124m\"\u001B[39m,\n\u001B[1;32m     67\u001B[0m         \u001B[38;5;124m\"\u001B[39m\u001B[38;5;124mlogin\u001B[39m\u001B[38;5;124m\"\u001B[39m,\n\u001B[1;32m     68\u001B[0m         \u001B[38;5;124m\"\u001B[39m\u001B[38;5;124mlogout\u001B[39m\u001B[38;5;124m\"\u001B[39m,\n\u001B[1;32m     69\u001B[0m         \u001B[38;5;124m\"\u001B[39m\u001B[38;5;124mnotebook_login\u001B[39m\u001B[38;5;124m\"\u001B[39m,\n\u001B[1;32m     70\u001B[0m     ],\n\u001B[1;32m     71\u001B[0m     \u001B[38;5;124m\"\u001B[39m\u001B[38;5;124m_multi_commits\u001B[39m\u001B[38;5;124m\"\u001B[39m: [\n\u001B[1;32m     72\u001B[0m         \u001B[38;5;124m\"\u001B[39m\u001B[38;5;124mMultiCommitException\u001B[39m\u001B[38;5;124m\"\u001B[39m,\n\u001B[1;32m     73\u001B[0m         \u001B[38;5;124m\"\u001B[39m\u001B[38;5;124mplan_multi_commits\u001B[39m\u001B[38;5;124m\"\u001B[39m,\n\u001B[1;32m     74\u001B[0m     ],\n\u001B[1;32m     75\u001B[0m     \u001B[38;5;124m\"\u001B[39m\u001B[38;5;124m_snapshot_download\u001B[39m\u001B[38;5;124m\"\u001B[39m: [\n\u001B[1;32m     76\u001B[0m         \u001B[38;5;124m\"\u001B[39m\u001B[38;5;124msnapshot_download\u001B[39m\u001B[38;5;124m\"\u001B[39m,\n\u001B[1;32m     77\u001B[0m     ],\n\u001B[1;32m     78\u001B[0m     \u001B[38;5;124m\"\u001B[39m\u001B[38;5;124m_space_api\u001B[39m\u001B[38;5;124m\"\u001B[39m: [\n\u001B[1;32m     79\u001B[0m         \u001B[38;5;124m\"\u001B[39m\u001B[38;5;124mSpaceHardware\u001B[39m\u001B[38;5;124m\"\u001B[39m,\n\u001B[1;32m     80\u001B[0m         \u001B[38;5;124m\"\u001B[39m\u001B[38;5;124mSpaceRuntime\u001B[39m\u001B[38;5;124m\"\u001B[39m,\n\u001B[1;32m     81\u001B[0m         \u001B[38;5;124m\"\u001B[39m\u001B[38;5;124mSpaceStage\u001B[39m\u001B[38;5;124m\"\u001B[39m,\n\u001B[1;32m     82\u001B[0m         \u001B[38;5;124m\"\u001B[39m\u001B[38;5;124mSpaceStorage\u001B[39m\u001B[38;5;124m\"\u001B[39m,\n\u001B[1;32m     83\u001B[0m         \u001B[38;5;124m\"\u001B[39m\u001B[38;5;124mSpaceVariable\u001B[39m\u001B[38;5;124m\"\u001B[39m,\n\u001B[1;32m     84\u001B[0m     ],\n\u001B[1;32m     85\u001B[0m     \u001B[38;5;124m\"\u001B[39m\u001B[38;5;124m_tensorboard_logger\u001B[39m\u001B[38;5;124m\"\u001B[39m: [\n\u001B[1;32m     86\u001B[0m         \u001B[38;5;124m\"\u001B[39m\u001B[38;5;124mHFSummaryWriter\u001B[39m\u001B[38;5;124m\"\u001B[39m,\n\u001B[1;32m     87\u001B[0m     ],\n\u001B[1;32m     88\u001B[0m     \u001B[38;5;124m\"\u001B[39m\u001B[38;5;124m_webhooks_payload\u001B[39m\u001B[38;5;124m\"\u001B[39m: [\n\u001B[1;32m     89\u001B[0m         \u001B[38;5;124m\"\u001B[39m\u001B[38;5;124mWebhookPayload\u001B[39m\u001B[38;5;124m\"\u001B[39m,\n\u001B[1;32m     90\u001B[0m         \u001B[38;5;124m\"\u001B[39m\u001B[38;5;124mWebhookPayloadComment\u001B[39m\u001B[38;5;124m\"\u001B[39m,\n\u001B[1;32m     91\u001B[0m         \u001B[38;5;124m\"\u001B[39m\u001B[38;5;124mWebhookPayloadDiscussion\u001B[39m\u001B[38;5;124m\"\u001B[39m,\n\u001B[1;32m     92\u001B[0m         \u001B[38;5;124m\"\u001B[39m\u001B[38;5;124mWebhookPayloadDiscussionChanges\u001B[39m\u001B[38;5;124m\"\u001B[39m,\n\u001B[1;32m     93\u001B[0m         \u001B[38;5;124m\"\u001B[39m\u001B[38;5;124mWebhookPayloadEvent\u001B[39m\u001B[38;5;124m\"\u001B[39m,\n\u001B[1;32m     94\u001B[0m         \u001B[38;5;124m\"\u001B[39m\u001B[38;5;124mWebhookPayloadMovedTo\u001B[39m\u001B[38;5;124m\"\u001B[39m,\n\u001B[1;32m     95\u001B[0m         \u001B[38;5;124m\"\u001B[39m\u001B[38;5;124mWebhookPayloadRepo\u001B[39m\u001B[38;5;124m\"\u001B[39m,\n\u001B[1;32m     96\u001B[0m         \u001B[38;5;124m\"\u001B[39m\u001B[38;5;124mWebhookPayloadUrl\u001B[39m\u001B[38;5;124m\"\u001B[39m,\n\u001B[1;32m     97\u001B[0m         \u001B[38;5;124m\"\u001B[39m\u001B[38;5;124mWebhookPayloadWebhook\u001B[39m\u001B[38;5;124m\"\u001B[39m,\n\u001B[1;32m     98\u001B[0m     ],\n\u001B[1;32m     99\u001B[0m     \u001B[38;5;124m\"\u001B[39m\u001B[38;5;124m_webhooks_server\u001B[39m\u001B[38;5;124m\"\u001B[39m: [\n\u001B[1;32m    100\u001B[0m         \u001B[38;5;124m\"\u001B[39m\u001B[38;5;124mWebhooksServer\u001B[39m\u001B[38;5;124m\"\u001B[39m,\n\u001B[1;32m    101\u001B[0m         \u001B[38;5;124m\"\u001B[39m\u001B[38;5;124mwebhook_endpoint\u001B[39m\u001B[38;5;124m\"\u001B[39m,\n\u001B[1;32m    102\u001B[0m     ],\n\u001B[1;32m    103\u001B[0m     \u001B[38;5;124m\"\u001B[39m\u001B[38;5;124mcommunity\u001B[39m\u001B[38;5;124m\"\u001B[39m: [\n\u001B[1;32m    104\u001B[0m         \u001B[38;5;124m\"\u001B[39m\u001B[38;5;124mDiscussion\u001B[39m\u001B[38;5;124m\"\u001B[39m,\n\u001B[1;32m    105\u001B[0m         \u001B[38;5;124m\"\u001B[39m\u001B[38;5;124mDiscussionComment\u001B[39m\u001B[38;5;124m\"\u001B[39m,\n\u001B[1;32m    106\u001B[0m         \u001B[38;5;124m\"\u001B[39m\u001B[38;5;124mDiscussionCommit\u001B[39m\u001B[38;5;124m\"\u001B[39m,\n\u001B[1;32m    107\u001B[0m         \u001B[38;5;124m\"\u001B[39m\u001B[38;5;124mDiscussionEvent\u001B[39m\u001B[38;5;124m\"\u001B[39m,\n\u001B[1;32m    108\u001B[0m         \u001B[38;5;124m\"\u001B[39m\u001B[38;5;124mDiscussionStatusChange\u001B[39m\u001B[38;5;124m\"\u001B[39m,\n\u001B[1;32m    109\u001B[0m         \u001B[38;5;124m\"\u001B[39m\u001B[38;5;124mDiscussionTitleChange\u001B[39m\u001B[38;5;124m\"\u001B[39m,\n\u001B[1;32m    110\u001B[0m         \u001B[38;5;124m\"\u001B[39m\u001B[38;5;124mDiscussionWithDetails\u001B[39m\u001B[38;5;124m\"\u001B[39m,\n\u001B[1;32m    111\u001B[0m     ],\n\u001B[1;32m    112\u001B[0m     \u001B[38;5;124m\"\u001B[39m\u001B[38;5;124mconstants\u001B[39m\u001B[38;5;124m\"\u001B[39m: [\n\u001B[1;32m    113\u001B[0m         \u001B[38;5;124m\"\u001B[39m\u001B[38;5;124mCONFIG_NAME\u001B[39m\u001B[38;5;124m\"\u001B[39m,\n\u001B[1;32m    114\u001B[0m         \u001B[38;5;124m\"\u001B[39m\u001B[38;5;124mFLAX_WEIGHTS_NAME\u001B[39m\u001B[38;5;124m\"\u001B[39m,\n\u001B[1;32m    115\u001B[0m         \u001B[38;5;124m\"\u001B[39m\u001B[38;5;124mHUGGINGFACE_CO_URL_HOME\u001B[39m\u001B[38;5;124m\"\u001B[39m,\n\u001B[1;32m    116\u001B[0m         \u001B[38;5;124m\"\u001B[39m\u001B[38;5;124mHUGGINGFACE_CO_URL_TEMPLATE\u001B[39m\u001B[38;5;124m\"\u001B[39m,\n\u001B[1;32m    117\u001B[0m         \u001B[38;5;124m\"\u001B[39m\u001B[38;5;124mPYTORCH_WEIGHTS_NAME\u001B[39m\u001B[38;5;124m\"\u001B[39m,\n\u001B[1;32m    118\u001B[0m         \u001B[38;5;124m\"\u001B[39m\u001B[38;5;124mREPO_TYPE_DATASET\u001B[39m\u001B[38;5;124m\"\u001B[39m,\n\u001B[1;32m    119\u001B[0m         \u001B[38;5;124m\"\u001B[39m\u001B[38;5;124mREPO_TYPE_MODEL\u001B[39m\u001B[38;5;124m\"\u001B[39m,\n\u001B[1;32m    120\u001B[0m         \u001B[38;5;124m\"\u001B[39m\u001B[38;5;124mREPO_TYPE_SPACE\u001B[39m\u001B[38;5;124m\"\u001B[39m,\n\u001B[1;32m    121\u001B[0m         \u001B[38;5;124m\"\u001B[39m\u001B[38;5;124mTF2_WEIGHTS_NAME\u001B[39m\u001B[38;5;124m\"\u001B[39m,\n\u001B[1;32m    122\u001B[0m         \u001B[38;5;124m\"\u001B[39m\u001B[38;5;124mTF_WEIGHTS_NAME\u001B[39m\u001B[38;5;124m\"\u001B[39m,\n\u001B[1;32m    123\u001B[0m     ],\n\u001B[1;32m    124\u001B[0m     \u001B[38;5;124m\"\u001B[39m\u001B[38;5;124mfastai_utils\u001B[39m\u001B[38;5;124m\"\u001B[39m: [\n\u001B[1;32m    125\u001B[0m         \u001B[38;5;124m\"\u001B[39m\u001B[38;5;124m_save_pretrained_fastai\u001B[39m\u001B[38;5;124m\"\u001B[39m,\n\u001B[1;32m    126\u001B[0m         \u001B[38;5;124m\"\u001B[39m\u001B[38;5;124mfrom_pretrained_fastai\u001B[39m\u001B[38;5;124m\"\u001B[39m,\n\u001B[1;32m    127\u001B[0m         \u001B[38;5;124m\"\u001B[39m\u001B[38;5;124mpush_to_hub_fastai\u001B[39m\u001B[38;5;124m\"\u001B[39m,\n\u001B[1;32m    128\u001B[0m     ],\n\u001B[1;32m    129\u001B[0m     \u001B[38;5;124m\"\u001B[39m\u001B[38;5;124mfile_download\u001B[39m\u001B[38;5;124m\"\u001B[39m: [\n\u001B[1;32m    130\u001B[0m         \u001B[38;5;124m\"\u001B[39m\u001B[38;5;124mHfFileMetadata\u001B[39m\u001B[38;5;124m\"\u001B[39m,\n\u001B[1;32m    131\u001B[0m         \u001B[38;5;124m\"\u001B[39m\u001B[38;5;124m_CACHED_NO_EXIST\u001B[39m\u001B[38;5;124m\"\u001B[39m,\n\u001B[1;32m    132\u001B[0m         \u001B[38;5;124m\"\u001B[39m\u001B[38;5;124mcached_download\u001B[39m\u001B[38;5;124m\"\u001B[39m,\n\u001B[1;32m    133\u001B[0m         \u001B[38;5;124m\"\u001B[39m\u001B[38;5;124mget_hf_file_metadata\u001B[39m\u001B[38;5;124m\"\u001B[39m,\n\u001B[1;32m    134\u001B[0m         \u001B[38;5;124m\"\u001B[39m\u001B[38;5;124mhf_hub_download\u001B[39m\u001B[38;5;124m\"\u001B[39m,\n\u001B[1;32m    135\u001B[0m         \u001B[38;5;124m\"\u001B[39m\u001B[38;5;124mhf_hub_url\u001B[39m\u001B[38;5;124m\"\u001B[39m,\n\u001B[1;32m    136\u001B[0m         \u001B[38;5;124m\"\u001B[39m\u001B[38;5;124mtry_to_load_from_cache\u001B[39m\u001B[38;5;124m\"\u001B[39m,\n\u001B[1;32m    137\u001B[0m     ],\n\u001B[1;32m    138\u001B[0m     \u001B[38;5;124m\"\u001B[39m\u001B[38;5;124mhf_api\u001B[39m\u001B[38;5;124m\"\u001B[39m: [\n\u001B[1;32m    139\u001B[0m         \u001B[38;5;124m\"\u001B[39m\u001B[38;5;124mCollection\u001B[39m\u001B[38;5;124m\"\u001B[39m,\n\u001B[1;32m    140\u001B[0m         \u001B[38;5;124m\"\u001B[39m\u001B[38;5;124mCollectionItem\u001B[39m\u001B[38;5;124m\"\u001B[39m,\n\u001B[1;32m    141\u001B[0m         \u001B[38;5;124m\"\u001B[39m\u001B[38;5;124mCommitInfo\u001B[39m\u001B[38;5;124m\"\u001B[39m,\n\u001B[1;32m    142\u001B[0m         \u001B[38;5;124m\"\u001B[39m\u001B[38;5;124mCommitOperation\u001B[39m\u001B[38;5;124m\"\u001B[39m,\n\u001B[1;32m    143\u001B[0m         \u001B[38;5;124m\"\u001B[39m\u001B[38;5;124mCommitOperationAdd\u001B[39m\u001B[38;5;124m\"\u001B[39m,\n\u001B[1;32m    144\u001B[0m         \u001B[38;5;124m\"\u001B[39m\u001B[38;5;124mCommitOperationCopy\u001B[39m\u001B[38;5;124m\"\u001B[39m,\n\u001B[1;32m    145\u001B[0m         \u001B[38;5;124m\"\u001B[39m\u001B[38;5;124mCommitOperationDelete\u001B[39m\u001B[38;5;124m\"\u001B[39m,\n\u001B[1;32m    146\u001B[0m         \u001B[38;5;124m\"\u001B[39m\u001B[38;5;124mGitCommitInfo\u001B[39m\u001B[38;5;124m\"\u001B[39m,\n\u001B[1;32m    147\u001B[0m         \u001B[38;5;124m\"\u001B[39m\u001B[38;5;124mGitRefInfo\u001B[39m\u001B[38;5;124m\"\u001B[39m,\n\u001B[1;32m    148\u001B[0m         \u001B[38;5;124m\"\u001B[39m\u001B[38;5;124mGitRefs\u001B[39m\u001B[38;5;124m\"\u001B[39m,\n\u001B[1;32m    149\u001B[0m         \u001B[38;5;124m\"\u001B[39m\u001B[38;5;124mHfApi\u001B[39m\u001B[38;5;124m\"\u001B[39m,\n\u001B[1;32m    150\u001B[0m         \u001B[38;5;124m\"\u001B[39m\u001B[38;5;124mRepoUrl\u001B[39m\u001B[38;5;124m\"\u001B[39m,\n\u001B[1;32m    151\u001B[0m         \u001B[38;5;124m\"\u001B[39m\u001B[38;5;124mUser\u001B[39m\u001B[38;5;124m\"\u001B[39m,\n\u001B[1;32m    152\u001B[0m         \u001B[38;5;124m\"\u001B[39m\u001B[38;5;124mUserLikes\u001B[39m\u001B[38;5;124m\"\u001B[39m,\n\u001B[1;32m    153\u001B[0m         \u001B[38;5;124m\"\u001B[39m\u001B[38;5;124maccept_access_request\u001B[39m\u001B[38;5;124m\"\u001B[39m,\n\u001B[1;32m    154\u001B[0m         \u001B[38;5;124m\"\u001B[39m\u001B[38;5;124madd_collection_item\u001B[39m\u001B[38;5;124m\"\u001B[39m,\n\u001B[1;32m    155\u001B[0m         \u001B[38;5;124m\"\u001B[39m\u001B[38;5;124madd_space_secret\u001B[39m\u001B[38;5;124m\"\u001B[39m,\n\u001B[1;32m    156\u001B[0m         \u001B[38;5;124m\"\u001B[39m\u001B[38;5;124madd_space_variable\u001B[39m\u001B[38;5;124m\"\u001B[39m,\n\u001B[1;32m    157\u001B[0m         \u001B[38;5;124m\"\u001B[39m\u001B[38;5;124mcancel_access_request\u001B[39m\u001B[38;5;124m\"\u001B[39m,\n\u001B[1;32m    158\u001B[0m         \u001B[38;5;124m\"\u001B[39m\u001B[38;5;124mchange_discussion_status\u001B[39m\u001B[38;5;124m\"\u001B[39m,\n\u001B[1;32m    159\u001B[0m         \u001B[38;5;124m\"\u001B[39m\u001B[38;5;124mcomment_discussion\u001B[39m\u001B[38;5;124m\"\u001B[39m,\n\u001B[1;32m    160\u001B[0m         \u001B[38;5;124m\"\u001B[39m\u001B[38;5;124mcreate_branch\u001B[39m\u001B[38;5;124m\"\u001B[39m,\n\u001B[1;32m    161\u001B[0m         \u001B[38;5;124m\"\u001B[39m\u001B[38;5;124mcreate_collection\u001B[39m\u001B[38;5;124m\"\u001B[39m,\n\u001B[1;32m    162\u001B[0m         \u001B[38;5;124m\"\u001B[39m\u001B[38;5;124mcreate_commit\u001B[39m\u001B[38;5;124m\"\u001B[39m,\n\u001B[1;32m    163\u001B[0m         \u001B[38;5;124m\"\u001B[39m\u001B[38;5;124mcreate_commits_on_pr\u001B[39m\u001B[38;5;124m\"\u001B[39m,\n\u001B[1;32m    164\u001B[0m         \u001B[38;5;124m\"\u001B[39m\u001B[38;5;124mcreate_discussion\u001B[39m\u001B[38;5;124m\"\u001B[39m,\n\u001B[1;32m    165\u001B[0m         \u001B[38;5;124m\"\u001B[39m\u001B[38;5;124mcreate_inference_endpoint\u001B[39m\u001B[38;5;124m\"\u001B[39m,\n\u001B[1;32m    166\u001B[0m         \u001B[38;5;124m\"\u001B[39m\u001B[38;5;124mcreate_pull_request\u001B[39m\u001B[38;5;124m\"\u001B[39m,\n\u001B[1;32m    167\u001B[0m         \u001B[38;5;124m\"\u001B[39m\u001B[38;5;124mcreate_repo\u001B[39m\u001B[38;5;124m\"\u001B[39m,\n\u001B[1;32m    168\u001B[0m         \u001B[38;5;124m\"\u001B[39m\u001B[38;5;124mcreate_tag\u001B[39m\u001B[38;5;124m\"\u001B[39m,\n\u001B[1;32m    169\u001B[0m         \u001B[38;5;124m\"\u001B[39m\u001B[38;5;124mdataset_info\u001B[39m\u001B[38;5;124m\"\u001B[39m,\n\u001B[1;32m    170\u001B[0m         \u001B[38;5;124m\"\u001B[39m\u001B[38;5;124mdelete_branch\u001B[39m\u001B[38;5;124m\"\u001B[39m,\n\u001B[1;32m    171\u001B[0m         \u001B[38;5;124m\"\u001B[39m\u001B[38;5;124mdelete_collection\u001B[39m\u001B[38;5;124m\"\u001B[39m,\n\u001B[1;32m    172\u001B[0m         \u001B[38;5;124m\"\u001B[39m\u001B[38;5;124mdelete_collection_item\u001B[39m\u001B[38;5;124m\"\u001B[39m,\n\u001B[1;32m    173\u001B[0m         \u001B[38;5;124m\"\u001B[39m\u001B[38;5;124mdelete_file\u001B[39m\u001B[38;5;124m\"\u001B[39m,\n\u001B[1;32m    174\u001B[0m         \u001B[38;5;124m\"\u001B[39m\u001B[38;5;124mdelete_folder\u001B[39m\u001B[38;5;124m\"\u001B[39m,\n\u001B[1;32m    175\u001B[0m         \u001B[38;5;124m\"\u001B[39m\u001B[38;5;124mdelete_inference_endpoint\u001B[39m\u001B[38;5;124m\"\u001B[39m,\n\u001B[1;32m    176\u001B[0m         \u001B[38;5;124m\"\u001B[39m\u001B[38;5;124mdelete_repo\u001B[39m\u001B[38;5;124m\"\u001B[39m,\n\u001B[1;32m    177\u001B[0m         \u001B[38;5;124m\"\u001B[39m\u001B[38;5;124mdelete_space_secret\u001B[39m\u001B[38;5;124m\"\u001B[39m,\n\u001B[1;32m    178\u001B[0m         \u001B[38;5;124m\"\u001B[39m\u001B[38;5;124mdelete_space_storage\u001B[39m\u001B[38;5;124m\"\u001B[39m,\n\u001B[1;32m    179\u001B[0m         \u001B[38;5;124m\"\u001B[39m\u001B[38;5;124mdelete_space_variable\u001B[39m\u001B[38;5;124m\"\u001B[39m,\n\u001B[1;32m    180\u001B[0m         \u001B[38;5;124m\"\u001B[39m\u001B[38;5;124mdelete_tag\u001B[39m\u001B[38;5;124m\"\u001B[39m,\n\u001B[1;32m    181\u001B[0m         \u001B[38;5;124m\"\u001B[39m\u001B[38;5;124mduplicate_space\u001B[39m\u001B[38;5;124m\"\u001B[39m,\n\u001B[1;32m    182\u001B[0m         \u001B[38;5;124m\"\u001B[39m\u001B[38;5;124medit_discussion_comment\u001B[39m\u001B[38;5;124m\"\u001B[39m,\n\u001B[1;32m    183\u001B[0m         \u001B[38;5;124m\"\u001B[39m\u001B[38;5;124mfile_exists\u001B[39m\u001B[38;5;124m\"\u001B[39m,\n\u001B[1;32m    184\u001B[0m         \u001B[38;5;124m\"\u001B[39m\u001B[38;5;124mget_collection\u001B[39m\u001B[38;5;124m\"\u001B[39m,\n\u001B[1;32m    185\u001B[0m         \u001B[38;5;124m\"\u001B[39m\u001B[38;5;124mget_dataset_tags\u001B[39m\u001B[38;5;124m\"\u001B[39m,\n\u001B[1;32m    186\u001B[0m         \u001B[38;5;124m\"\u001B[39m\u001B[38;5;124mget_discussion_details\u001B[39m\u001B[38;5;124m\"\u001B[39m,\n\u001B[1;32m    187\u001B[0m         \u001B[38;5;124m\"\u001B[39m\u001B[38;5;124mget_full_repo_name\u001B[39m\u001B[38;5;124m\"\u001B[39m,\n\u001B[1;32m    188\u001B[0m         \u001B[38;5;124m\"\u001B[39m\u001B[38;5;124mget_inference_endpoint\u001B[39m\u001B[38;5;124m\"\u001B[39m,\n\u001B[1;32m    189\u001B[0m         \u001B[38;5;124m\"\u001B[39m\u001B[38;5;124mget_model_tags\u001B[39m\u001B[38;5;124m\"\u001B[39m,\n\u001B[1;32m    190\u001B[0m         \u001B[38;5;124m\"\u001B[39m\u001B[38;5;124mget_paths_info\u001B[39m\u001B[38;5;124m\"\u001B[39m,\n\u001B[1;32m    191\u001B[0m         \u001B[38;5;124m\"\u001B[39m\u001B[38;5;124mget_repo_discussions\u001B[39m\u001B[38;5;124m\"\u001B[39m,\n\u001B[1;32m    192\u001B[0m         \u001B[38;5;124m\"\u001B[39m\u001B[38;5;124mget_safetensors_metadata\u001B[39m\u001B[38;5;124m\"\u001B[39m,\n\u001B[1;32m    193\u001B[0m         \u001B[38;5;124m\"\u001B[39m\u001B[38;5;124mget_space_runtime\u001B[39m\u001B[38;5;124m\"\u001B[39m,\n\u001B[1;32m    194\u001B[0m         \u001B[38;5;124m\"\u001B[39m\u001B[38;5;124mget_space_variables\u001B[39m\u001B[38;5;124m\"\u001B[39m,\n\u001B[1;32m    195\u001B[0m         \u001B[38;5;124m\"\u001B[39m\u001B[38;5;124mget_token_permission\u001B[39m\u001B[38;5;124m\"\u001B[39m,\n\u001B[1;32m    196\u001B[0m         \u001B[38;5;124m\"\u001B[39m\u001B[38;5;124mgrant_access\u001B[39m\u001B[38;5;124m\"\u001B[39m,\n\u001B[1;32m    197\u001B[0m         \u001B[38;5;124m\"\u001B[39m\u001B[38;5;124mlike\u001B[39m\u001B[38;5;124m\"\u001B[39m,\n\u001B[1;32m    198\u001B[0m         \u001B[38;5;124m\"\u001B[39m\u001B[38;5;124mlist_accepted_access_requests\u001B[39m\u001B[38;5;124m\"\u001B[39m,\n\u001B[1;32m    199\u001B[0m         \u001B[38;5;124m\"\u001B[39m\u001B[38;5;124mlist_collections\u001B[39m\u001B[38;5;124m\"\u001B[39m,\n\u001B[1;32m    200\u001B[0m         \u001B[38;5;124m\"\u001B[39m\u001B[38;5;124mlist_datasets\u001B[39m\u001B[38;5;124m\"\u001B[39m,\n\u001B[1;32m    201\u001B[0m         \u001B[38;5;124m\"\u001B[39m\u001B[38;5;124mlist_inference_endpoints\u001B[39m\u001B[38;5;124m\"\u001B[39m,\n\u001B[1;32m    202\u001B[0m         \u001B[38;5;124m\"\u001B[39m\u001B[38;5;124mlist_liked_repos\u001B[39m\u001B[38;5;124m\"\u001B[39m,\n\u001B[1;32m    203\u001B[0m         \u001B[38;5;124m\"\u001B[39m\u001B[38;5;124mlist_metrics\u001B[39m\u001B[38;5;124m\"\u001B[39m,\n\u001B[1;32m    204\u001B[0m         \u001B[38;5;124m\"\u001B[39m\u001B[38;5;124mlist_models\u001B[39m\u001B[38;5;124m\"\u001B[39m,\n\u001B[1;32m    205\u001B[0m         \u001B[38;5;124m\"\u001B[39m\u001B[38;5;124mlist_pending_access_requests\u001B[39m\u001B[38;5;124m\"\u001B[39m,\n\u001B[1;32m    206\u001B[0m         \u001B[38;5;124m\"\u001B[39m\u001B[38;5;124mlist_rejected_access_requests\u001B[39m\u001B[38;5;124m\"\u001B[39m,\n\u001B[1;32m    207\u001B[0m         \u001B[38;5;124m\"\u001B[39m\u001B[38;5;124mlist_repo_commits\u001B[39m\u001B[38;5;124m\"\u001B[39m,\n\u001B[1;32m    208\u001B[0m         \u001B[38;5;124m\"\u001B[39m\u001B[38;5;124mlist_repo_files\u001B[39m\u001B[38;5;124m\"\u001B[39m,\n\u001B[1;32m    209\u001B[0m         \u001B[38;5;124m\"\u001B[39m\u001B[38;5;124mlist_repo_likers\u001B[39m\u001B[38;5;124m\"\u001B[39m,\n\u001B[1;32m    210\u001B[0m         \u001B[38;5;124m\"\u001B[39m\u001B[38;5;124mlist_repo_refs\u001B[39m\u001B[38;5;124m\"\u001B[39m,\n\u001B[1;32m    211\u001B[0m         \u001B[38;5;124m\"\u001B[39m\u001B[38;5;124mlist_repo_tree\u001B[39m\u001B[38;5;124m\"\u001B[39m,\n\u001B[1;32m    212\u001B[0m         \u001B[38;5;124m\"\u001B[39m\u001B[38;5;124mlist_spaces\u001B[39m\u001B[38;5;124m\"\u001B[39m,\n\u001B[1;32m    213\u001B[0m         \u001B[38;5;124m\"\u001B[39m\u001B[38;5;124mmerge_pull_request\u001B[39m\u001B[38;5;124m\"\u001B[39m,\n\u001B[1;32m    214\u001B[0m         \u001B[38;5;124m\"\u001B[39m\u001B[38;5;124mmodel_info\u001B[39m\u001B[38;5;124m\"\u001B[39m,\n\u001B[1;32m    215\u001B[0m         \u001B[38;5;124m\"\u001B[39m\u001B[38;5;124mmove_repo\u001B[39m\u001B[38;5;124m\"\u001B[39m,\n\u001B[1;32m    216\u001B[0m         \u001B[38;5;124m\"\u001B[39m\u001B[38;5;124mparse_safetensors_file_metadata\u001B[39m\u001B[38;5;124m\"\u001B[39m,\n\u001B[1;32m    217\u001B[0m         \u001B[38;5;124m\"\u001B[39m\u001B[38;5;124mpause_inference_endpoint\u001B[39m\u001B[38;5;124m\"\u001B[39m,\n\u001B[1;32m    218\u001B[0m         \u001B[38;5;124m\"\u001B[39m\u001B[38;5;124mpause_space\u001B[39m\u001B[38;5;124m\"\u001B[39m,\n\u001B[1;32m    219\u001B[0m         \u001B[38;5;124m\"\u001B[39m\u001B[38;5;124mpreupload_lfs_files\u001B[39m\u001B[38;5;124m\"\u001B[39m,\n\u001B[1;32m    220\u001B[0m         \u001B[38;5;124m\"\u001B[39m\u001B[38;5;124mreject_access_request\u001B[39m\u001B[38;5;124m\"\u001B[39m,\n\u001B[1;32m    221\u001B[0m         \u001B[38;5;124m\"\u001B[39m\u001B[38;5;124mrename_discussion\u001B[39m\u001B[38;5;124m\"\u001B[39m,\n\u001B[1;32m    222\u001B[0m         \u001B[38;5;124m\"\u001B[39m\u001B[38;5;124mrepo_exists\u001B[39m\u001B[38;5;124m\"\u001B[39m,\n\u001B[1;32m    223\u001B[0m         \u001B[38;5;124m\"\u001B[39m\u001B[38;5;124mrepo_info\u001B[39m\u001B[38;5;124m\"\u001B[39m,\n\u001B[1;32m    224\u001B[0m         \u001B[38;5;124m\"\u001B[39m\u001B[38;5;124mrepo_type_and_id_from_hf_id\u001B[39m\u001B[38;5;124m\"\u001B[39m,\n\u001B[1;32m    225\u001B[0m         \u001B[38;5;124m\"\u001B[39m\u001B[38;5;124mrequest_space_hardware\u001B[39m\u001B[38;5;124m\"\u001B[39m,\n\u001B[1;32m    226\u001B[0m         \u001B[38;5;124m\"\u001B[39m\u001B[38;5;124mrequest_space_storage\u001B[39m\u001B[38;5;124m\"\u001B[39m,\n\u001B[1;32m    227\u001B[0m         \u001B[38;5;124m\"\u001B[39m\u001B[38;5;124mrestart_space\u001B[39m\u001B[38;5;124m\"\u001B[39m,\n\u001B[1;32m    228\u001B[0m         \u001B[38;5;124m\"\u001B[39m\u001B[38;5;124mresume_inference_endpoint\u001B[39m\u001B[38;5;124m\"\u001B[39m,\n\u001B[1;32m    229\u001B[0m         \u001B[38;5;124m\"\u001B[39m\u001B[38;5;124mrevision_exists\u001B[39m\u001B[38;5;124m\"\u001B[39m,\n\u001B[1;32m    230\u001B[0m         \u001B[38;5;124m\"\u001B[39m\u001B[38;5;124mrun_as_future\u001B[39m\u001B[38;5;124m\"\u001B[39m,\n\u001B[1;32m    231\u001B[0m         \u001B[38;5;124m\"\u001B[39m\u001B[38;5;124mscale_to_zero_inference_endpoint\u001B[39m\u001B[38;5;124m\"\u001B[39m,\n\u001B[1;32m    232\u001B[0m         \u001B[38;5;124m\"\u001B[39m\u001B[38;5;124mset_space_sleep_time\u001B[39m\u001B[38;5;124m\"\u001B[39m,\n\u001B[1;32m    233\u001B[0m         \u001B[38;5;124m\"\u001B[39m\u001B[38;5;124mspace_info\u001B[39m\u001B[38;5;124m\"\u001B[39m,\n\u001B[1;32m    234\u001B[0m         \u001B[38;5;124m\"\u001B[39m\u001B[38;5;124msuper_squash_history\u001B[39m\u001B[38;5;124m\"\u001B[39m,\n\u001B[1;32m    235\u001B[0m         \u001B[38;5;124m\"\u001B[39m\u001B[38;5;124munlike\u001B[39m\u001B[38;5;124m\"\u001B[39m,\n\u001B[1;32m    236\u001B[0m         \u001B[38;5;124m\"\u001B[39m\u001B[38;5;124mupdate_collection_item\u001B[39m\u001B[38;5;124m\"\u001B[39m,\n\u001B[1;32m    237\u001B[0m         \u001B[38;5;124m\"\u001B[39m\u001B[38;5;124mupdate_collection_metadata\u001B[39m\u001B[38;5;124m\"\u001B[39m,\n\u001B[1;32m    238\u001B[0m         \u001B[38;5;124m\"\u001B[39m\u001B[38;5;124mupdate_inference_endpoint\u001B[39m\u001B[38;5;124m\"\u001B[39m,\n\u001B[1;32m    239\u001B[0m         \u001B[38;5;124m\"\u001B[39m\u001B[38;5;124mupdate_repo_visibility\u001B[39m\u001B[38;5;124m\"\u001B[39m,\n\u001B[1;32m    240\u001B[0m         \u001B[38;5;124m\"\u001B[39m\u001B[38;5;124mupload_file\u001B[39m\u001B[38;5;124m\"\u001B[39m,\n\u001B[1;32m    241\u001B[0m         \u001B[38;5;124m\"\u001B[39m\u001B[38;5;124mupload_folder\u001B[39m\u001B[38;5;124m\"\u001B[39m,\n\u001B[1;32m    242\u001B[0m         \u001B[38;5;124m\"\u001B[39m\u001B[38;5;124mwhoami\u001B[39m\u001B[38;5;124m\"\u001B[39m,\n\u001B[1;32m    243\u001B[0m     ],\n\u001B[1;32m    244\u001B[0m     \u001B[38;5;124m\"\u001B[39m\u001B[38;5;124mhf_file_system\u001B[39m\u001B[38;5;124m\"\u001B[39m: [\n\u001B[1;32m    245\u001B[0m         \u001B[38;5;124m\"\u001B[39m\u001B[38;5;124mHfFileSystem\u001B[39m\u001B[38;5;124m\"\u001B[39m,\n\u001B[1;32m    246\u001B[0m         \u001B[38;5;124m\"\u001B[39m\u001B[38;5;124mHfFileSystemFile\u001B[39m\u001B[38;5;124m\"\u001B[39m,\n\u001B[1;32m    247\u001B[0m         \u001B[38;5;124m\"\u001B[39m\u001B[38;5;124mHfFileSystemResolvedPath\u001B[39m\u001B[38;5;124m\"\u001B[39m,\n\u001B[1;32m    248\u001B[0m         \u001B[38;5;124m\"\u001B[39m\u001B[38;5;124mHfFileSystemStreamFile\u001B[39m\u001B[38;5;124m\"\u001B[39m,\n\u001B[1;32m    249\u001B[0m     ],\n\u001B[1;32m    250\u001B[0m     \u001B[38;5;124m\"\u001B[39m\u001B[38;5;124mhub_mixin\u001B[39m\u001B[38;5;124m\"\u001B[39m: [\n\u001B[1;32m    251\u001B[0m         \u001B[38;5;124m\"\u001B[39m\u001B[38;5;124mModelHubMixin\u001B[39m\u001B[38;5;124m\"\u001B[39m,\n\u001B[1;32m    252\u001B[0m         \u001B[38;5;124m\"\u001B[39m\u001B[38;5;124mPyTorchModelHubMixin\u001B[39m\u001B[38;5;124m\"\u001B[39m,\n\u001B[1;32m    253\u001B[0m     ],\n\u001B[1;32m    254\u001B[0m     \u001B[38;5;124m\"\u001B[39m\u001B[38;5;124minference._client\u001B[39m\u001B[38;5;124m\"\u001B[39m: [\n\u001B[1;32m    255\u001B[0m         \u001B[38;5;124m\"\u001B[39m\u001B[38;5;124mInferenceClient\u001B[39m\u001B[38;5;124m\"\u001B[39m,\n\u001B[1;32m    256\u001B[0m         \u001B[38;5;124m\"\u001B[39m\u001B[38;5;124mInferenceTimeoutError\u001B[39m\u001B[38;5;124m\"\u001B[39m,\n\u001B[1;32m    257\u001B[0m     ],\n\u001B[1;32m    258\u001B[0m     \u001B[38;5;124m\"\u001B[39m\u001B[38;5;124minference._generated._async_client\u001B[39m\u001B[38;5;124m\"\u001B[39m: [\n\u001B[1;32m    259\u001B[0m         \u001B[38;5;124m\"\u001B[39m\u001B[38;5;124mAsyncInferenceClient\u001B[39m\u001B[38;5;124m\"\u001B[39m,\n\u001B[1;32m    260\u001B[0m     ],\n\u001B[1;32m    261\u001B[0m     \u001B[38;5;124m\"\u001B[39m\u001B[38;5;124minference._generated.types\u001B[39m\u001B[38;5;124m\"\u001B[39m: [\n\u001B[1;32m    262\u001B[0m         \u001B[38;5;124m\"\u001B[39m\u001B[38;5;124mAudioClassificationInput\u001B[39m\u001B[38;5;124m\"\u001B[39m,\n\u001B[1;32m    263\u001B[0m         \u001B[38;5;124m\"\u001B[39m\u001B[38;5;124mAudioClassificationOutputElement\u001B[39m\u001B[38;5;124m\"\u001B[39m,\n\u001B[1;32m    264\u001B[0m         \u001B[38;5;124m\"\u001B[39m\u001B[38;5;124mAudioClassificationParameters\u001B[39m\u001B[38;5;124m\"\u001B[39m,\n\u001B[1;32m    265\u001B[0m         \u001B[38;5;124m\"\u001B[39m\u001B[38;5;124mAudioToAudioInput\u001B[39m\u001B[38;5;124m\"\u001B[39m,\n\u001B[1;32m    266\u001B[0m         \u001B[38;5;124m\"\u001B[39m\u001B[38;5;124mAudioToAudioOutputElement\u001B[39m\u001B[38;5;124m\"\u001B[39m,\n\u001B[1;32m    267\u001B[0m         \u001B[38;5;124m\"\u001B[39m\u001B[38;5;124mAutomaticSpeechRecognitionGenerationParameters\u001B[39m\u001B[38;5;124m\"\u001B[39m,\n\u001B[1;32m    268\u001B[0m         \u001B[38;5;124m\"\u001B[39m\u001B[38;5;124mAutomaticSpeechRecognitionInput\u001B[39m\u001B[38;5;124m\"\u001B[39m,\n\u001B[1;32m    269\u001B[0m         \u001B[38;5;124m\"\u001B[39m\u001B[38;5;124mAutomaticSpeechRecognitionOutput\u001B[39m\u001B[38;5;124m\"\u001B[39m,\n\u001B[1;32m    270\u001B[0m         \u001B[38;5;124m\"\u001B[39m\u001B[38;5;124mAutomaticSpeechRecognitionOutputChunk\u001B[39m\u001B[38;5;124m\"\u001B[39m,\n\u001B[1;32m    271\u001B[0m         \u001B[38;5;124m\"\u001B[39m\u001B[38;5;124mAutomaticSpeechRecognitionParameters\u001B[39m\u001B[38;5;124m\"\u001B[39m,\n\u001B[1;32m    272\u001B[0m         \u001B[38;5;124m\"\u001B[39m\u001B[38;5;124mChatCompletionInput\u001B[39m\u001B[38;5;124m\"\u001B[39m,\n\u001B[1;32m    273\u001B[0m         \u001B[38;5;124m\"\u001B[39m\u001B[38;5;124mChatCompletionInputFunctionDefinition\u001B[39m\u001B[38;5;124m\"\u001B[39m,\n\u001B[1;32m    274\u001B[0m         \u001B[38;5;124m\"\u001B[39m\u001B[38;5;124mChatCompletionInputMessage\u001B[39m\u001B[38;5;124m\"\u001B[39m,\n\u001B[1;32m    275\u001B[0m         \u001B[38;5;124m\"\u001B[39m\u001B[38;5;124mChatCompletionInputTool\u001B[39m\u001B[38;5;124m\"\u001B[39m,\n\u001B[1;32m    276\u001B[0m         \u001B[38;5;124m\"\u001B[39m\u001B[38;5;124mChatCompletionInputToolCall\u001B[39m\u001B[38;5;124m\"\u001B[39m,\n\u001B[1;32m    277\u001B[0m         \u001B[38;5;124m\"\u001B[39m\u001B[38;5;124mChatCompletionInputToolTypeClass\u001B[39m\u001B[38;5;124m\"\u001B[39m,\n\u001B[1;32m    278\u001B[0m         \u001B[38;5;124m\"\u001B[39m\u001B[38;5;124mChatCompletionOutput\u001B[39m\u001B[38;5;124m\"\u001B[39m,\n\u001B[1;32m    279\u001B[0m         \u001B[38;5;124m\"\u001B[39m\u001B[38;5;124mChatCompletionOutputComplete\u001B[39m\u001B[38;5;124m\"\u001B[39m,\n\u001B[1;32m    280\u001B[0m         \u001B[38;5;124m\"\u001B[39m\u001B[38;5;124mChatCompletionOutputFunctionDefinition\u001B[39m\u001B[38;5;124m\"\u001B[39m,\n\u001B[1;32m    281\u001B[0m         \u001B[38;5;124m\"\u001B[39m\u001B[38;5;124mChatCompletionOutputLogprob\u001B[39m\u001B[38;5;124m\"\u001B[39m,\n\u001B[1;32m    282\u001B[0m         \u001B[38;5;124m\"\u001B[39m\u001B[38;5;124mChatCompletionOutputLogprobs\u001B[39m\u001B[38;5;124m\"\u001B[39m,\n\u001B[1;32m    283\u001B[0m         \u001B[38;5;124m\"\u001B[39m\u001B[38;5;124mChatCompletionOutputMessage\u001B[39m\u001B[38;5;124m\"\u001B[39m,\n\u001B[1;32m    284\u001B[0m         \u001B[38;5;124m\"\u001B[39m\u001B[38;5;124mChatCompletionOutputToolCall\u001B[39m\u001B[38;5;124m\"\u001B[39m,\n\u001B[1;32m    285\u001B[0m         \u001B[38;5;124m\"\u001B[39m\u001B[38;5;124mChatCompletionOutputTopLogprob\u001B[39m\u001B[38;5;124m\"\u001B[39m,\n\u001B[1;32m    286\u001B[0m         \u001B[38;5;124m\"\u001B[39m\u001B[38;5;124mChatCompletionOutputUsage\u001B[39m\u001B[38;5;124m\"\u001B[39m,\n\u001B[1;32m    287\u001B[0m         \u001B[38;5;124m\"\u001B[39m\u001B[38;5;124mChatCompletionStreamOutput\u001B[39m\u001B[38;5;124m\"\u001B[39m,\n\u001B[1;32m    288\u001B[0m         \u001B[38;5;124m\"\u001B[39m\u001B[38;5;124mChatCompletionStreamOutputChoice\u001B[39m\u001B[38;5;124m\"\u001B[39m,\n\u001B[1;32m    289\u001B[0m         \u001B[38;5;124m\"\u001B[39m\u001B[38;5;124mChatCompletionStreamOutputDelta\u001B[39m\u001B[38;5;124m\"\u001B[39m,\n\u001B[1;32m    290\u001B[0m         \u001B[38;5;124m\"\u001B[39m\u001B[38;5;124mChatCompletionStreamOutputDeltaToolCall\u001B[39m\u001B[38;5;124m\"\u001B[39m,\n\u001B[1;32m    291\u001B[0m         \u001B[38;5;124m\"\u001B[39m\u001B[38;5;124mChatCompletionStreamOutputFunction\u001B[39m\u001B[38;5;124m\"\u001B[39m,\n\u001B[1;32m    292\u001B[0m         \u001B[38;5;124m\"\u001B[39m\u001B[38;5;124mChatCompletionStreamOutputLogprob\u001B[39m\u001B[38;5;124m\"\u001B[39m,\n\u001B[1;32m    293\u001B[0m         \u001B[38;5;124m\"\u001B[39m\u001B[38;5;124mChatCompletionStreamOutputLogprobs\u001B[39m\u001B[38;5;124m\"\u001B[39m,\n\u001B[1;32m    294\u001B[0m         \u001B[38;5;124m\"\u001B[39m\u001B[38;5;124mChatCompletionStreamOutputTopLogprob\u001B[39m\u001B[38;5;124m\"\u001B[39m,\n\u001B[1;32m    295\u001B[0m         \u001B[38;5;124m\"\u001B[39m\u001B[38;5;124mDepthEstimationInput\u001B[39m\u001B[38;5;124m\"\u001B[39m,\n\u001B[1;32m    296\u001B[0m         \u001B[38;5;124m\"\u001B[39m\u001B[38;5;124mDepthEstimationOutput\u001B[39m\u001B[38;5;124m\"\u001B[39m,\n\u001B[1;32m    297\u001B[0m         \u001B[38;5;124m\"\u001B[39m\u001B[38;5;124mDocumentQuestionAnsweringInput\u001B[39m\u001B[38;5;124m\"\u001B[39m,\n\u001B[1;32m    298\u001B[0m         \u001B[38;5;124m\"\u001B[39m\u001B[38;5;124mDocumentQuestionAnsweringInputData\u001B[39m\u001B[38;5;124m\"\u001B[39m,\n\u001B[1;32m    299\u001B[0m         \u001B[38;5;124m\"\u001B[39m\u001B[38;5;124mDocumentQuestionAnsweringOutputElement\u001B[39m\u001B[38;5;124m\"\u001B[39m,\n\u001B[1;32m    300\u001B[0m         \u001B[38;5;124m\"\u001B[39m\u001B[38;5;124mDocumentQuestionAnsweringParameters\u001B[39m\u001B[38;5;124m\"\u001B[39m,\n\u001B[1;32m    301\u001B[0m         \u001B[38;5;124m\"\u001B[39m\u001B[38;5;124mFeatureExtractionInput\u001B[39m\u001B[38;5;124m\"\u001B[39m,\n\u001B[1;32m    302\u001B[0m         \u001B[38;5;124m\"\u001B[39m\u001B[38;5;124mFillMaskInput\u001B[39m\u001B[38;5;124m\"\u001B[39m,\n\u001B[1;32m    303\u001B[0m         \u001B[38;5;124m\"\u001B[39m\u001B[38;5;124mFillMaskOutputElement\u001B[39m\u001B[38;5;124m\"\u001B[39m,\n\u001B[1;32m    304\u001B[0m         \u001B[38;5;124m\"\u001B[39m\u001B[38;5;124mFillMaskParameters\u001B[39m\u001B[38;5;124m\"\u001B[39m,\n\u001B[1;32m    305\u001B[0m         \u001B[38;5;124m\"\u001B[39m\u001B[38;5;124mImageClassificationInput\u001B[39m\u001B[38;5;124m\"\u001B[39m,\n\u001B[1;32m    306\u001B[0m         \u001B[38;5;124m\"\u001B[39m\u001B[38;5;124mImageClassificationOutputElement\u001B[39m\u001B[38;5;124m\"\u001B[39m,\n\u001B[1;32m    307\u001B[0m         \u001B[38;5;124m\"\u001B[39m\u001B[38;5;124mImageClassificationParameters\u001B[39m\u001B[38;5;124m\"\u001B[39m,\n\u001B[1;32m    308\u001B[0m         \u001B[38;5;124m\"\u001B[39m\u001B[38;5;124mImageSegmentationInput\u001B[39m\u001B[38;5;124m\"\u001B[39m,\n\u001B[1;32m    309\u001B[0m         \u001B[38;5;124m\"\u001B[39m\u001B[38;5;124mImageSegmentationOutputElement\u001B[39m\u001B[38;5;124m\"\u001B[39m,\n\u001B[1;32m    310\u001B[0m         \u001B[38;5;124m\"\u001B[39m\u001B[38;5;124mImageSegmentationParameters\u001B[39m\u001B[38;5;124m\"\u001B[39m,\n\u001B[1;32m    311\u001B[0m         \u001B[38;5;124m\"\u001B[39m\u001B[38;5;124mImageToImageInput\u001B[39m\u001B[38;5;124m\"\u001B[39m,\n\u001B[1;32m    312\u001B[0m         \u001B[38;5;124m\"\u001B[39m\u001B[38;5;124mImageToImageOutput\u001B[39m\u001B[38;5;124m\"\u001B[39m,\n\u001B[1;32m    313\u001B[0m         \u001B[38;5;124m\"\u001B[39m\u001B[38;5;124mImageToImageParameters\u001B[39m\u001B[38;5;124m\"\u001B[39m,\n\u001B[1;32m    314\u001B[0m         \u001B[38;5;124m\"\u001B[39m\u001B[38;5;124mImageToImageTargetSize\u001B[39m\u001B[38;5;124m\"\u001B[39m,\n\u001B[1;32m    315\u001B[0m         \u001B[38;5;124m\"\u001B[39m\u001B[38;5;124mImageToTextGenerationParameters\u001B[39m\u001B[38;5;124m\"\u001B[39m,\n\u001B[1;32m    316\u001B[0m         \u001B[38;5;124m\"\u001B[39m\u001B[38;5;124mImageToTextInput\u001B[39m\u001B[38;5;124m\"\u001B[39m,\n\u001B[1;32m    317\u001B[0m         \u001B[38;5;124m\"\u001B[39m\u001B[38;5;124mImageToTextOutput\u001B[39m\u001B[38;5;124m\"\u001B[39m,\n\u001B[1;32m    318\u001B[0m         \u001B[38;5;124m\"\u001B[39m\u001B[38;5;124mImageToTextParameters\u001B[39m\u001B[38;5;124m\"\u001B[39m,\n\u001B[1;32m    319\u001B[0m         \u001B[38;5;124m\"\u001B[39m\u001B[38;5;124mObjectDetectionBoundingBox\u001B[39m\u001B[38;5;124m\"\u001B[39m,\n\u001B[1;32m    320\u001B[0m         \u001B[38;5;124m\"\u001B[39m\u001B[38;5;124mObjectDetectionInput\u001B[39m\u001B[38;5;124m\"\u001B[39m,\n\u001B[1;32m    321\u001B[0m         \u001B[38;5;124m\"\u001B[39m\u001B[38;5;124mObjectDetectionOutputElement\u001B[39m\u001B[38;5;124m\"\u001B[39m,\n\u001B[1;32m    322\u001B[0m         \u001B[38;5;124m\"\u001B[39m\u001B[38;5;124mObjectDetectionParameters\u001B[39m\u001B[38;5;124m\"\u001B[39m,\n\u001B[1;32m    323\u001B[0m         \u001B[38;5;124m\"\u001B[39m\u001B[38;5;124mQuestionAnsweringInput\u001B[39m\u001B[38;5;124m\"\u001B[39m,\n\u001B[1;32m    324\u001B[0m         \u001B[38;5;124m\"\u001B[39m\u001B[38;5;124mQuestionAnsweringInputData\u001B[39m\u001B[38;5;124m\"\u001B[39m,\n\u001B[1;32m    325\u001B[0m         \u001B[38;5;124m\"\u001B[39m\u001B[38;5;124mQuestionAnsweringOutputElement\u001B[39m\u001B[38;5;124m\"\u001B[39m,\n\u001B[1;32m    326\u001B[0m         \u001B[38;5;124m\"\u001B[39m\u001B[38;5;124mQuestionAnsweringParameters\u001B[39m\u001B[38;5;124m\"\u001B[39m,\n\u001B[1;32m    327\u001B[0m         \u001B[38;5;124m\"\u001B[39m\u001B[38;5;124mSentenceSimilarityInput\u001B[39m\u001B[38;5;124m\"\u001B[39m,\n\u001B[1;32m    328\u001B[0m         \u001B[38;5;124m\"\u001B[39m\u001B[38;5;124mSentenceSimilarityInputData\u001B[39m\u001B[38;5;124m\"\u001B[39m,\n\u001B[1;32m    329\u001B[0m         \u001B[38;5;124m\"\u001B[39m\u001B[38;5;124mSummarizationGenerationParameters\u001B[39m\u001B[38;5;124m\"\u001B[39m,\n\u001B[1;32m    330\u001B[0m         \u001B[38;5;124m\"\u001B[39m\u001B[38;5;124mSummarizationInput\u001B[39m\u001B[38;5;124m\"\u001B[39m,\n\u001B[1;32m    331\u001B[0m         \u001B[38;5;124m\"\u001B[39m\u001B[38;5;124mSummarizationOutput\u001B[39m\u001B[38;5;124m\"\u001B[39m,\n\u001B[1;32m    332\u001B[0m         \u001B[38;5;124m\"\u001B[39m\u001B[38;5;124mTableQuestionAnsweringInput\u001B[39m\u001B[38;5;124m\"\u001B[39m,\n\u001B[1;32m    333\u001B[0m         \u001B[38;5;124m\"\u001B[39m\u001B[38;5;124mTableQuestionAnsweringInputData\u001B[39m\u001B[38;5;124m\"\u001B[39m,\n\u001B[1;32m    334\u001B[0m         \u001B[38;5;124m\"\u001B[39m\u001B[38;5;124mTableQuestionAnsweringOutputElement\u001B[39m\u001B[38;5;124m\"\u001B[39m,\n\u001B[1;32m    335\u001B[0m         \u001B[38;5;124m\"\u001B[39m\u001B[38;5;124mText2TextGenerationInput\u001B[39m\u001B[38;5;124m\"\u001B[39m,\n\u001B[1;32m    336\u001B[0m         \u001B[38;5;124m\"\u001B[39m\u001B[38;5;124mText2TextGenerationOutput\u001B[39m\u001B[38;5;124m\"\u001B[39m,\n\u001B[1;32m    337\u001B[0m         \u001B[38;5;124m\"\u001B[39m\u001B[38;5;124mText2TextGenerationParameters\u001B[39m\u001B[38;5;124m\"\u001B[39m,\n\u001B[1;32m    338\u001B[0m         \u001B[38;5;124m\"\u001B[39m\u001B[38;5;124mTextClassificationInput\u001B[39m\u001B[38;5;124m\"\u001B[39m,\n\u001B[1;32m    339\u001B[0m         \u001B[38;5;124m\"\u001B[39m\u001B[38;5;124mTextClassificationOutputElement\u001B[39m\u001B[38;5;124m\"\u001B[39m,\n\u001B[1;32m    340\u001B[0m         \u001B[38;5;124m\"\u001B[39m\u001B[38;5;124mTextClassificationParameters\u001B[39m\u001B[38;5;124m\"\u001B[39m,\n\u001B[1;32m    341\u001B[0m         \u001B[38;5;124m\"\u001B[39m\u001B[38;5;124mTextGenerationInput\u001B[39m\u001B[38;5;124m\"\u001B[39m,\n\u001B[1;32m    342\u001B[0m         \u001B[38;5;124m\"\u001B[39m\u001B[38;5;124mTextGenerationInputGenerateParameters\u001B[39m\u001B[38;5;124m\"\u001B[39m,\n\u001B[1;32m    343\u001B[0m         \u001B[38;5;124m\"\u001B[39m\u001B[38;5;124mTextGenerationInputGrammarType\u001B[39m\u001B[38;5;124m\"\u001B[39m,\n\u001B[1;32m    344\u001B[0m         \u001B[38;5;124m\"\u001B[39m\u001B[38;5;124mTextGenerationOutput\u001B[39m\u001B[38;5;124m\"\u001B[39m,\n\u001B[1;32m    345\u001B[0m         \u001B[38;5;124m\"\u001B[39m\u001B[38;5;124mTextGenerationOutputBestOfSequence\u001B[39m\u001B[38;5;124m\"\u001B[39m,\n\u001B[1;32m    346\u001B[0m         \u001B[38;5;124m\"\u001B[39m\u001B[38;5;124mTextGenerationOutputDetails\u001B[39m\u001B[38;5;124m\"\u001B[39m,\n\u001B[1;32m    347\u001B[0m         \u001B[38;5;124m\"\u001B[39m\u001B[38;5;124mTextGenerationOutputPrefillToken\u001B[39m\u001B[38;5;124m\"\u001B[39m,\n\u001B[1;32m    348\u001B[0m         \u001B[38;5;124m\"\u001B[39m\u001B[38;5;124mTextGenerationOutputToken\u001B[39m\u001B[38;5;124m\"\u001B[39m,\n\u001B[1;32m    349\u001B[0m         \u001B[38;5;124m\"\u001B[39m\u001B[38;5;124mTextGenerationStreamOutput\u001B[39m\u001B[38;5;124m\"\u001B[39m,\n\u001B[1;32m    350\u001B[0m         \u001B[38;5;124m\"\u001B[39m\u001B[38;5;124mTextGenerationStreamOutputStreamDetails\u001B[39m\u001B[38;5;124m\"\u001B[39m,\n\u001B[1;32m    351\u001B[0m         \u001B[38;5;124m\"\u001B[39m\u001B[38;5;124mTextGenerationStreamOutputToken\u001B[39m\u001B[38;5;124m\"\u001B[39m,\n\u001B[1;32m    352\u001B[0m         \u001B[38;5;124m\"\u001B[39m\u001B[38;5;124mTextToAudioGenerationParameters\u001B[39m\u001B[38;5;124m\"\u001B[39m,\n\u001B[1;32m    353\u001B[0m         \u001B[38;5;124m\"\u001B[39m\u001B[38;5;124mTextToAudioInput\u001B[39m\u001B[38;5;124m\"\u001B[39m,\n\u001B[1;32m    354\u001B[0m         \u001B[38;5;124m\"\u001B[39m\u001B[38;5;124mTextToAudioOutput\u001B[39m\u001B[38;5;124m\"\u001B[39m,\n\u001B[1;32m    355\u001B[0m         \u001B[38;5;124m\"\u001B[39m\u001B[38;5;124mTextToAudioParameters\u001B[39m\u001B[38;5;124m\"\u001B[39m,\n\u001B[1;32m    356\u001B[0m         \u001B[38;5;124m\"\u001B[39m\u001B[38;5;124mTextToImageInput\u001B[39m\u001B[38;5;124m\"\u001B[39m,\n\u001B[0;32m--> 357\u001B[0m         \u001B[38;5;124m\"\u001B[39m\u001B[38;5;124mTextToImageOutput\u001B[39m\u001B[38;5;124m\"\u001B[39m,\n\u001B[1;32m    358\u001B[0m         \u001B[38;5;124m\"\u001B[39m\u001B[38;5;124mTextToImageParameters\u001B[39m\u001B[38;5;124m\"\u001B[39m,\n\u001B[1;32m    359\u001B[0m         \u001B[38;5;124m\"\u001B[39m\u001B[38;5;124mTextToImageTargetSize\u001B[39m\u001B[38;5;124m\"\u001B[39m,\n\u001B[1;32m    360\u001B[0m         \u001B[38;5;124m\"\u001B[39m\u001B[38;5;124mTokenClassificationInput\u001B[39m\u001B[38;5;124m\"\u001B[39m,\n\u001B[1;32m    361\u001B[0m         \u001B[38;5;124m\"\u001B[39m\u001B[38;5;124mTokenClassificationOutputElement\u001B[39m\u001B[38;5;124m\"\u001B[39m,\n\u001B[1;32m    362\u001B[0m         \u001B[38;5;124m\"\u001B[39m\u001B[38;5;124mTokenClassificationParameters\u001B[39m\u001B[38;5;124m\"\u001B[39m,\n\u001B[1;32m    363\u001B[0m         \u001B[38;5;124m\"\u001B[39m\u001B[38;5;124mTranslationGenerationParameters\u001B[39m\u001B[38;5;124m\"\u001B[39m,\n\u001B[1;32m    364\u001B[0m         \u001B[38;5;124m\"\u001B[39m\u001B[38;5;124mTranslationInput\u001B[39m\u001B[38;5;124m\"\u001B[39m,\n\u001B[1;32m    365\u001B[0m         \u001B[38;5;124m\"\u001B[39m\u001B[38;5;124mTranslationOutput\u001B[39m\u001B[38;5;124m\"\u001B[39m,\n\u001B[1;32m    366\u001B[0m         \u001B[38;5;124m\"\u001B[39m\u001B[38;5;124mVideoClassificationInput\u001B[39m\u001B[38;5;124m\"\u001B[39m,\n\u001B[1;32m    367\u001B[0m         \u001B[38;5;124m\"\u001B[39m\u001B[38;5;124mVideoClassificationOutputElement\u001B[39m\u001B[38;5;124m\"\u001B[39m,\n\u001B[1;32m    368\u001B[0m         \u001B[38;5;124m\"\u001B[39m\u001B[38;5;124mVideoClassificationParameters\u001B[39m\u001B[38;5;124m\"\u001B[39m,\n\u001B[1;32m    369\u001B[0m         \u001B[38;5;124m\"\u001B[39m\u001B[38;5;124mVisualQuestionAnsweringInput\u001B[39m\u001B[38;5;124m\"\u001B[39m,\n\u001B[1;32m    370\u001B[0m         \u001B[38;5;124m\"\u001B[39m\u001B[38;5;124mVisualQuestionAnsweringInputData\u001B[39m\u001B[38;5;124m\"\u001B[39m,\n\u001B[1;32m    371\u001B[0m         \u001B[38;5;124m\"\u001B[39m\u001B[38;5;124mVisualQuestionAnsweringOutputElement\u001B[39m\u001B[38;5;124m\"\u001B[39m,\n\u001B[1;32m    372\u001B[0m         \u001B[38;5;124m\"\u001B[39m\u001B[38;5;124mVisualQuestionAnsweringParameters\u001B[39m\u001B[38;5;124m\"\u001B[39m,\n\u001B[1;32m    373\u001B[0m         \u001B[38;5;124m\"\u001B[39m\u001B[38;5;124mZeroShotClassificationInput\u001B[39m\u001B[38;5;124m\"\u001B[39m,\n\u001B[1;32m    374\u001B[0m         \u001B[38;5;124m\"\u001B[39m\u001B[38;5;124mZeroShotClassificationInputData\u001B[39m\u001B[38;5;124m\"\u001B[39m,\n\u001B[1;32m    375\u001B[0m         \u001B[38;5;124m\"\u001B[39m\u001B[38;5;124mZeroShotClassificationOutputElement\u001B[39m\u001B[38;5;124m\"\u001B[39m,\n\u001B[1;32m    376\u001B[0m         \u001B[38;5;124m\"\u001B[39m\u001B[38;5;124mZeroShotClassificationParameters\u001B[39m\u001B[38;5;124m\"\u001B[39m,\n\u001B[1;32m    377\u001B[0m         \u001B[38;5;124m\"\u001B[39m\u001B[38;5;124mZeroShotImageClassificationInput\u001B[39m\u001B[38;5;124m\"\u001B[39m,\n\u001B[1;32m    378\u001B[0m         \u001B[38;5;124m\"\u001B[39m\u001B[38;5;124mZeroShotImageClassificationInputData\u001B[39m\u001B[38;5;124m\"\u001B[39m,\n\u001B[1;32m    379\u001B[0m         \u001B[38;5;124m\"\u001B[39m\u001B[38;5;124mZeroShotImageClassificationOutputElement\u001B[39m\u001B[38;5;124m\"\u001B[39m,\n\u001B[1;32m    380\u001B[0m         \u001B[38;5;124m\"\u001B[39m\u001B[38;5;124mZeroShotImageClassificationParameters\u001B[39m\u001B[38;5;124m\"\u001B[39m,\n\u001B[1;32m    381\u001B[0m         \u001B[38;5;124m\"\u001B[39m\u001B[38;5;124mZeroShotObjectDetectionBoundingBox\u001B[39m\u001B[38;5;124m\"\u001B[39m,\n\u001B[1;32m    382\u001B[0m         \u001B[38;5;124m\"\u001B[39m\u001B[38;5;124mZeroShotObjectDetectionInput\u001B[39m\u001B[38;5;124m\"\u001B[39m,\n\u001B[1;32m    383\u001B[0m         \u001B[38;5;124m\"\u001B[39m\u001B[38;5;124mZeroShotObjectDetectionInputData\u001B[39m\u001B[38;5;124m\"\u001B[39m,\n\u001B[1;32m    384\u001B[0m         \u001B[38;5;124m\"\u001B[39m\u001B[38;5;124mZeroShotObjectDetectionOutputElement\u001B[39m\u001B[38;5;124m\"\u001B[39m,\n\u001B[1;32m    385\u001B[0m     ],\n\u001B[1;32m    386\u001B[0m     \u001B[38;5;124m\"\u001B[39m\u001B[38;5;124minference_api\u001B[39m\u001B[38;5;124m\"\u001B[39m: [\n\u001B[1;32m    387\u001B[0m         \u001B[38;5;124m\"\u001B[39m\u001B[38;5;124mInferenceApi\u001B[39m\u001B[38;5;124m\"\u001B[39m,\n\u001B[1;32m    388\u001B[0m     ],\n\u001B[1;32m    389\u001B[0m     \u001B[38;5;124m\"\u001B[39m\u001B[38;5;124mkeras_mixin\u001B[39m\u001B[38;5;124m\"\u001B[39m: [\n\u001B[1;32m    390\u001B[0m         \u001B[38;5;124m\"\u001B[39m\u001B[38;5;124mKerasModelHubMixin\u001B[39m\u001B[38;5;124m\"\u001B[39m,\n\u001B[1;32m    391\u001B[0m         \u001B[38;5;124m\"\u001B[39m\u001B[38;5;124mfrom_pretrained_keras\u001B[39m\u001B[38;5;124m\"\u001B[39m,\n\u001B[1;32m    392\u001B[0m         \u001B[38;5;124m\"\u001B[39m\u001B[38;5;124mpush_to_hub_keras\u001B[39m\u001B[38;5;124m\"\u001B[39m,\n\u001B[1;32m    393\u001B[0m         \u001B[38;5;124m\"\u001B[39m\u001B[38;5;124msave_pretrained_keras\u001B[39m\u001B[38;5;124m\"\u001B[39m,\n\u001B[1;32m    394\u001B[0m     ],\n\u001B[1;32m    395\u001B[0m     \u001B[38;5;124m\"\u001B[39m\u001B[38;5;124mrepocard\u001B[39m\u001B[38;5;124m\"\u001B[39m: [\n\u001B[1;32m    396\u001B[0m         \u001B[38;5;124m\"\u001B[39m\u001B[38;5;124mDatasetCard\u001B[39m\u001B[38;5;124m\"\u001B[39m,\n\u001B[1;32m    397\u001B[0m         \u001B[38;5;124m\"\u001B[39m\u001B[38;5;124mModelCard\u001B[39m\u001B[38;5;124m\"\u001B[39m,\n\u001B[1;32m    398\u001B[0m         \u001B[38;5;124m\"\u001B[39m\u001B[38;5;124mRepoCard\u001B[39m\u001B[38;5;124m\"\u001B[39m,\n\u001B[1;32m    399\u001B[0m         \u001B[38;5;124m\"\u001B[39m\u001B[38;5;124mSpaceCard\u001B[39m\u001B[38;5;124m\"\u001B[39m,\n\u001B[1;32m    400\u001B[0m         \u001B[38;5;124m\"\u001B[39m\u001B[38;5;124mmetadata_eval_result\u001B[39m\u001B[38;5;124m\"\u001B[39m,\n\u001B[1;32m    401\u001B[0m         \u001B[38;5;124m\"\u001B[39m\u001B[38;5;124mmetadata_load\u001B[39m\u001B[38;5;124m\"\u001B[39m,\n\u001B[1;32m    402\u001B[0m         \u001B[38;5;124m\"\u001B[39m\u001B[38;5;124mmetadata_save\u001B[39m\u001B[38;5;124m\"\u001B[39m,\n\u001B[1;32m    403\u001B[0m         \u001B[38;5;124m\"\u001B[39m\u001B[38;5;124mmetadata_update\u001B[39m\u001B[38;5;124m\"\u001B[39m,\n\u001B[1;32m    404\u001B[0m     ],\n\u001B[1;32m    405\u001B[0m     \u001B[38;5;124m\"\u001B[39m\u001B[38;5;124mrepocard_data\u001B[39m\u001B[38;5;124m\"\u001B[39m: [\n\u001B[1;32m    406\u001B[0m         \u001B[38;5;124m\"\u001B[39m\u001B[38;5;124mCardData\u001B[39m\u001B[38;5;124m\"\u001B[39m,\n\u001B[1;32m    407\u001B[0m         \u001B[38;5;124m\"\u001B[39m\u001B[38;5;124mDatasetCardData\u001B[39m\u001B[38;5;124m\"\u001B[39m,\n\u001B[1;32m    408\u001B[0m         \u001B[38;5;124m\"\u001B[39m\u001B[38;5;124mEvalResult\u001B[39m\u001B[38;5;124m\"\u001B[39m,\n\u001B[1;32m    409\u001B[0m         \u001B[38;5;124m\"\u001B[39m\u001B[38;5;124mModelCardData\u001B[39m\u001B[38;5;124m\"\u001B[39m,\n\u001B[1;32m    410\u001B[0m         \u001B[38;5;124m\"\u001B[39m\u001B[38;5;124mSpaceCardData\u001B[39m\u001B[38;5;124m\"\u001B[39m,\n\u001B[1;32m    411\u001B[0m     ],\n\u001B[1;32m    412\u001B[0m     \u001B[38;5;124m\"\u001B[39m\u001B[38;5;124mrepository\u001B[39m\u001B[38;5;124m\"\u001B[39m: [\n\u001B[1;32m    413\u001B[0m         \u001B[38;5;124m\"\u001B[39m\u001B[38;5;124mRepository\u001B[39m\u001B[38;5;124m\"\u001B[39m,\n\u001B[1;32m    414\u001B[0m     ],\n\u001B[1;32m    415\u001B[0m     \u001B[38;5;124m\"\u001B[39m\u001B[38;5;124mserialization\u001B[39m\u001B[38;5;124m\"\u001B[39m: [\n\u001B[1;32m    416\u001B[0m         \u001B[38;5;124m\"\u001B[39m\u001B[38;5;124mStateDictSplit\u001B[39m\u001B[38;5;124m\"\u001B[39m,\n\u001B[1;32m    417\u001B[0m         \u001B[38;5;124m\"\u001B[39m\u001B[38;5;124msplit_numpy_state_dict_into_shards\u001B[39m\u001B[38;5;124m\"\u001B[39m,\n\u001B[1;32m    418\u001B[0m         \u001B[38;5;124m\"\u001B[39m\u001B[38;5;124msplit_state_dict_into_shards_factory\u001B[39m\u001B[38;5;124m\"\u001B[39m,\n\u001B[1;32m    419\u001B[0m         \u001B[38;5;124m\"\u001B[39m\u001B[38;5;124msplit_tf_state_dict_into_shards\u001B[39m\u001B[38;5;124m\"\u001B[39m,\n\u001B[1;32m    420\u001B[0m         \u001B[38;5;124m\"\u001B[39m\u001B[38;5;124msplit_torch_state_dict_into_shards\u001B[39m\u001B[38;5;124m\"\u001B[39m,\n\u001B[1;32m    421\u001B[0m     ],\n\u001B[1;32m    422\u001B[0m     \u001B[38;5;124m\"\u001B[39m\u001B[38;5;124mutils\u001B[39m\u001B[38;5;124m\"\u001B[39m: [\n\u001B[1;32m    423\u001B[0m         \u001B[38;5;124m\"\u001B[39m\u001B[38;5;124mCacheNotFound\u001B[39m\u001B[38;5;124m\"\u001B[39m,\n\u001B[1;32m    424\u001B[0m         \u001B[38;5;124m\"\u001B[39m\u001B[38;5;124mCachedFileInfo\u001B[39m\u001B[38;5;124m\"\u001B[39m,\n\u001B[1;32m    425\u001B[0m         \u001B[38;5;124m\"\u001B[39m\u001B[38;5;124mCachedRepoInfo\u001B[39m\u001B[38;5;124m\"\u001B[39m,\n\u001B[1;32m    426\u001B[0m         \u001B[38;5;124m\"\u001B[39m\u001B[38;5;124mCachedRevisionInfo\u001B[39m\u001B[38;5;124m\"\u001B[39m,\n\u001B[1;32m    427\u001B[0m         \u001B[38;5;124m\"\u001B[39m\u001B[38;5;124mCorruptedCacheException\u001B[39m\u001B[38;5;124m\"\u001B[39m,\n\u001B[1;32m    428\u001B[0m         \u001B[38;5;124m\"\u001B[39m\u001B[38;5;124mDeleteCacheStrategy\u001B[39m\u001B[38;5;124m\"\u001B[39m,\n\u001B[1;32m    429\u001B[0m         \u001B[38;5;124m\"\u001B[39m\u001B[38;5;124mHFCacheInfo\u001B[39m\u001B[38;5;124m\"\u001B[39m,\n\u001B[1;32m    430\u001B[0m         \u001B[38;5;124m\"\u001B[39m\u001B[38;5;124mHfFolder\u001B[39m\u001B[38;5;124m\"\u001B[39m,\n\u001B[1;32m    431\u001B[0m         \u001B[38;5;124m\"\u001B[39m\u001B[38;5;124mcached_assets_path\u001B[39m\u001B[38;5;124m\"\u001B[39m,\n\u001B[1;32m    432\u001B[0m         \u001B[38;5;124m\"\u001B[39m\u001B[38;5;124mconfigure_http_backend\u001B[39m\u001B[38;5;124m\"\u001B[39m,\n\u001B[1;32m    433\u001B[0m         \u001B[38;5;124m\"\u001B[39m\u001B[38;5;124mdump_environment_info\u001B[39m\u001B[38;5;124m\"\u001B[39m,\n\u001B[1;32m    434\u001B[0m         \u001B[38;5;124m\"\u001B[39m\u001B[38;5;124mget_session\u001B[39m\u001B[38;5;124m\"\u001B[39m,\n\u001B[1;32m    435\u001B[0m         \u001B[38;5;124m\"\u001B[39m\u001B[38;5;124mget_token\u001B[39m\u001B[38;5;124m\"\u001B[39m,\n\u001B[1;32m    436\u001B[0m         \u001B[38;5;124m\"\u001B[39m\u001B[38;5;124mlogging\u001B[39m\u001B[38;5;124m\"\u001B[39m,\n\u001B[1;32m    437\u001B[0m         \u001B[38;5;124m\"\u001B[39m\u001B[38;5;124mscan_cache_dir\u001B[39m\u001B[38;5;124m\"\u001B[39m,\n\u001B[1;32m    438\u001B[0m     ],\n\u001B[1;32m    439\u001B[0m     \u001B[38;5;124m\"\u001B[39m\u001B[38;5;124mutils.endpoint_helpers\u001B[39m\u001B[38;5;124m\"\u001B[39m: [\n\u001B[1;32m    440\u001B[0m         \u001B[38;5;124m\"\u001B[39m\u001B[38;5;124mDatasetFilter\u001B[39m\u001B[38;5;124m\"\u001B[39m,\n\u001B[1;32m    441\u001B[0m         \u001B[38;5;124m\"\u001B[39m\u001B[38;5;124mModelFilter\u001B[39m\u001B[38;5;124m\"\u001B[39m,\n\u001B[1;32m    442\u001B[0m     ],\n\u001B[1;32m    443\u001B[0m }\n\u001B[1;32m    446\u001B[0m \u001B[38;5;28;01mdef\u001B[39;00m \u001B[38;5;21m_attach\u001B[39m(package_name, submodules\u001B[38;5;241m=\u001B[39m\u001B[38;5;28;01mNone\u001B[39;00m, submod_attrs\u001B[38;5;241m=\u001B[39m\u001B[38;5;28;01mNone\u001B[39;00m):\n\u001B[1;32m    447\u001B[0m \u001B[38;5;250m    \u001B[39m\u001B[38;5;124;03m\"\"\"Attach lazily loaded submodules, functions, or other attributes.\u001B[39;00m\n\u001B[1;32m    448\u001B[0m \n\u001B[1;32m    449\u001B[0m \u001B[38;5;124;03m    Typically, modules import submodules and attributes as follows:\u001B[39;00m\n\u001B[0;32m   (...)\u001B[0m\n\u001B[1;32m    484\u001B[0m \n\u001B[1;32m    485\u001B[0m \u001B[38;5;124;03m    \"\"\"\u001B[39;00m\n",
      "File \u001B[0;32m/usr/local/Cellar/python@3.11/3.11.2_1/Frameworks/Python.framework/Versions/3.11/lib/python3.11/importlib/__init__.py:126\u001B[0m, in \u001B[0;36mimport_module\u001B[0;34m(name, package)\u001B[0m\n\u001B[1;32m    124\u001B[0m             \u001B[38;5;28;01mbreak\u001B[39;00m\n\u001B[1;32m    125\u001B[0m         level \u001B[38;5;241m+\u001B[39m\u001B[38;5;241m=\u001B[39m \u001B[38;5;241m1\u001B[39m\n\u001B[0;32m--> 126\u001B[0m \u001B[38;5;28;01mreturn\u001B[39;00m \u001B[43m_bootstrap\u001B[49m\u001B[38;5;241;43m.\u001B[39;49m\u001B[43m_gcd_import\u001B[49m\u001B[43m(\u001B[49m\u001B[43mname\u001B[49m\u001B[43m[\u001B[49m\u001B[43mlevel\u001B[49m\u001B[43m:\u001B[49m\u001B[43m]\u001B[49m\u001B[43m,\u001B[49m\u001B[43m \u001B[49m\u001B[43mpackage\u001B[49m\u001B[43m,\u001B[49m\u001B[43m \u001B[49m\u001B[43mlevel\u001B[49m\u001B[43m)\u001B[49m\n",
      "File \u001B[0;32m/usr/local/lib/python3.11/site-packages/huggingface_hub/hf_file_system.py:28\u001B[0m\n\u001B[1;32m     18\u001B[0m \u001B[38;5;28;01mfrom\u001B[39;00m \u001B[38;5;21;01m.\u001B[39;00m\u001B[38;5;21;01mconstants\u001B[39;00m \u001B[38;5;28;01mimport\u001B[39;00m (\n\u001B[1;32m     19\u001B[0m     DEFAULT_REVISION,\n\u001B[1;32m     20\u001B[0m     ENDPOINT,\n\u001B[0;32m   (...)\u001B[0m\n\u001B[1;32m     25\u001B[0m     REPO_TYPES_URL_PREFIXES,\n\u001B[1;32m     26\u001B[0m )\n\u001B[1;32m     27\u001B[0m \u001B[38;5;28;01mfrom\u001B[39;00m \u001B[38;5;21;01m.\u001B[39;00m\u001B[38;5;21;01mfile_download\u001B[39;00m \u001B[38;5;28;01mimport\u001B[39;00m hf_hub_url, http_get\n\u001B[0;32m---> 28\u001B[0m \u001B[38;5;28;01mfrom\u001B[39;00m \u001B[38;5;21;01m.\u001B[39;00m\u001B[38;5;21;01mhf_api\u001B[39;00m \u001B[38;5;28;01mimport\u001B[39;00m HfApi, LastCommitInfo, RepoFile\n\u001B[1;32m     29\u001B[0m \u001B[38;5;28;01mfrom\u001B[39;00m \u001B[38;5;21;01m.\u001B[39;00m\u001B[38;5;21;01mutils\u001B[39;00m \u001B[38;5;28;01mimport\u001B[39;00m (\n\u001B[1;32m     30\u001B[0m     EntryNotFoundError,\n\u001B[1;32m     31\u001B[0m     HFValidationError,\n\u001B[0;32m   (...)\u001B[0m\n\u001B[1;32m     35\u001B[0m     http_backoff,\n\u001B[1;32m     36\u001B[0m )\n\u001B[1;32m     39\u001B[0m \u001B[38;5;66;03m# Regex used to match special revisions with \"/\" in them (see #1710)\u001B[39;00m\n",
      "\u001B[0;31mImportError\u001B[0m: cannot import name 'LastCommitInfo' from 'huggingface_hub.hf_api' (/usr/local/lib/python3.11/site-packages/huggingface_hub/hf_api.py)"
     ]
    }
   ],
   "source": [
    "import evaluate\n",
    "bleu = evaluate.load('bleu')"
   ],
   "metadata": {
    "collapsed": false,
    "ExecuteTime": {
     "end_time": "2024-07-04T20:58:44.949779Z",
     "start_time": "2024-07-04T20:58:43.994111Z"
    }
   },
   "id": "a26245f81898d4d3"
  },
  {
   "cell_type": "code",
   "execution_count": 187,
   "outputs": [
    {
     "name": "stdout",
     "output_type": "stream",
     "text": [
      "Collecting evaluate\r\n",
      "  Downloading evaluate-0.4.2-py3-none-any.whl.metadata (9.3 kB)\r\n",
      "Collecting datasets>=2.0.0 (from evaluate)\r\n",
      "  Downloading datasets-2.20.0-py3-none-any.whl.metadata (19 kB)\r\n",
      "Requirement already satisfied: numpy>=1.17 in /usr/local/lib/python3.11/site-packages (from evaluate) (1.24.3)\r\n",
      "Requirement already satisfied: dill in /usr/local/lib/python3.11/site-packages (from evaluate) (0.3.7)\r\n",
      "Requirement already satisfied: pandas in /usr/local/lib/python3.11/site-packages (from evaluate) (2.1.4)\r\n",
      "Requirement already satisfied: requests>=2.19.0 in /usr/local/lib/python3.11/site-packages (from evaluate) (2.31.0)\r\n",
      "Requirement already satisfied: tqdm>=4.62.1 in /usr/local/lib/python3.11/site-packages (from evaluate) (4.66.1)\r\n",
      "Collecting xxhash (from evaluate)\r\n",
      "  Using cached xxhash-3.4.1-cp311-cp311-macosx_10_9_x86_64.whl.metadata (12 kB)\r\n",
      "Requirement already satisfied: multiprocess in /usr/local/lib/python3.11/site-packages (from evaluate) (0.70.15)\r\n",
      "Requirement already satisfied: fsspec>=2021.05.0 in /usr/local/lib/python3.11/site-packages (from fsspec[http]>=2021.05.0->evaluate) (2023.10.0)\r\n",
      "Requirement already satisfied: huggingface-hub>=0.7.0 in /usr/local/lib/python3.11/site-packages (from evaluate) (0.19.4)\r\n",
      "Requirement already satisfied: packaging in /usr/local/lib/python3.11/site-packages (from evaluate) (23.2)\r\n",
      "Requirement already satisfied: filelock in /usr/local/lib/python3.11/site-packages (from datasets>=2.0.0->evaluate) (3.13.1)\r\n",
      "Collecting pyarrow>=15.0.0 (from datasets>=2.0.0->evaluate)\r\n",
      "  Downloading pyarrow-16.1.0-cp311-cp311-macosx_10_15_x86_64.whl.metadata (3.0 kB)\r\n",
      "Collecting pyarrow-hotfix (from datasets>=2.0.0->evaluate)\r\n",
      "  Downloading pyarrow_hotfix-0.6-py3-none-any.whl.metadata (3.6 kB)\r\n",
      "Collecting requests>=2.19.0 (from evaluate)\r\n",
      "  Downloading requests-2.32.3-py3-none-any.whl.metadata (4.6 kB)\r\n",
      "Collecting tqdm>=4.62.1 (from evaluate)\r\n",
      "  Downloading tqdm-4.66.4-py3-none-any.whl.metadata (57 kB)\r\n",
      "\u001B[2K     \u001B[90m━━━━━━━━━━━━━━━━━━━━━━━━━━━━━━━━━━━━━━━━\u001B[0m \u001B[32m57.6/57.6 kB\u001B[0m \u001B[31m1.8 MB/s\u001B[0m eta \u001B[36m0:00:00\u001B[0m\r\n",
      "\u001B[?25hRequirement already satisfied: aiohttp in /usr/local/lib/python3.11/site-packages (from datasets>=2.0.0->evaluate) (3.9.3)\r\n",
      "Collecting huggingface-hub>=0.7.0 (from evaluate)\r\n",
      "  Downloading huggingface_hub-0.23.4-py3-none-any.whl.metadata (12 kB)\r\n",
      "Requirement already satisfied: pyyaml>=5.1 in /usr/local/lib/python3.11/site-packages (from datasets>=2.0.0->evaluate) (6.0.1)\r\n",
      "Requirement already satisfied: typing-extensions>=3.7.4.3 in /usr/local/lib/python3.11/site-packages (from huggingface-hub>=0.7.0->evaluate) (4.8.0)\r\n",
      "Requirement already satisfied: charset-normalizer<4,>=2 in /usr/local/lib/python3.11/site-packages (from requests>=2.19.0->evaluate) (3.3.2)\r\n",
      "Requirement already satisfied: idna<4,>=2.5 in /usr/local/lib/python3.11/site-packages (from requests>=2.19.0->evaluate) (3.4)\r\n",
      "Requirement already satisfied: urllib3<3,>=1.21.1 in /usr/local/lib/python3.11/site-packages (from requests>=2.19.0->evaluate) (2.1.0)\r\n",
      "Requirement already satisfied: certifi>=2017.4.17 in /usr/local/lib/python3.11/site-packages (from requests>=2.19.0->evaluate) (2023.11.17)\r\n",
      "Requirement already satisfied: python-dateutil>=2.8.2 in /usr/local/lib/python3.11/site-packages (from pandas->evaluate) (2.8.2)\r\n",
      "Requirement already satisfied: pytz>=2020.1 in /usr/local/lib/python3.11/site-packages (from pandas->evaluate) (2023.3.post1)\r\n",
      "Requirement already satisfied: tzdata>=2022.1 in /usr/local/lib/python3.11/site-packages (from pandas->evaluate) (2023.3)\r\n",
      "Requirement already satisfied: aiosignal>=1.1.2 in /usr/local/lib/python3.11/site-packages (from aiohttp->datasets>=2.0.0->evaluate) (1.3.1)\r\n",
      "Requirement already satisfied: attrs>=17.3.0 in /usr/local/lib/python3.11/site-packages (from aiohttp->datasets>=2.0.0->evaluate) (23.2.0)\r\n",
      "Requirement already satisfied: frozenlist>=1.1.1 in /usr/local/lib/python3.11/site-packages (from aiohttp->datasets>=2.0.0->evaluate) (1.4.1)\r\n",
      "Requirement already satisfied: multidict<7.0,>=4.5 in /usr/local/lib/python3.11/site-packages (from aiohttp->datasets>=2.0.0->evaluate) (6.0.5)\r\n",
      "Requirement already satisfied: yarl<2.0,>=1.0 in /usr/local/lib/python3.11/site-packages (from aiohttp->datasets>=2.0.0->evaluate) (1.9.4)\r\n",
      "Requirement already satisfied: six>=1.5 in /usr/local/lib/python3.11/site-packages (from python-dateutil>=2.8.2->pandas->evaluate) (1.16.0)\r\n",
      "Downloading evaluate-0.4.2-py3-none-any.whl (84 kB)\r\n",
      "\u001B[2K   \u001B[90m━━━━━━━━━━━━━━━━━━━━━━━━━━━━━━━━━━━━━━━━\u001B[0m \u001B[32m84.1/84.1 kB\u001B[0m \u001B[31m3.2 MB/s\u001B[0m eta \u001B[36m0:00:00\u001B[0m\r\n",
      "\u001B[?25hDownloading datasets-2.20.0-py3-none-any.whl (547 kB)\r\n",
      "\u001B[2K   \u001B[90m━━━━━━━━━━━━━━━━━━━━━━━━━━━━━━━━━━━━━━━━\u001B[0m \u001B[32m547.8/547.8 kB\u001B[0m \u001B[31m12.6 MB/s\u001B[0m eta \u001B[36m0:00:00\u001B[0m00:01\u001B[0m\r\n",
      "\u001B[?25hDownloading huggingface_hub-0.23.4-py3-none-any.whl (402 kB)\r\n",
      "\u001B[2K   \u001B[90m━━━━━━━━━━━━━━━━━━━━━━━━━━━━━━━━━━━━━━━━\u001B[0m \u001B[32m402.6/402.6 kB\u001B[0m \u001B[31m14.8 MB/s\u001B[0m eta \u001B[36m0:00:00\u001B[0m\r\n",
      "\u001B[?25hDownloading requests-2.32.3-py3-none-any.whl (64 kB)\r\n",
      "\u001B[2K   \u001B[90m━━━━━━━━━━━━━━━━━━━━━━━━━━━━━━━━━━━━━━━━\u001B[0m \u001B[32m64.9/64.9 kB\u001B[0m \u001B[31m2.4 MB/s\u001B[0m eta \u001B[36m0:00:00\u001B[0m\r\n",
      "\u001B[?25hDownloading tqdm-4.66.4-py3-none-any.whl (78 kB)\r\n",
      "\u001B[2K   \u001B[90m━━━━━━━━━━━━━━━━━━━━━━━━━━━━━━━━━━━━━━━━\u001B[0m \u001B[32m78.3/78.3 kB\u001B[0m \u001B[31m3.1 MB/s\u001B[0m eta \u001B[36m0:00:00\u001B[0m\r\n",
      "\u001B[?25hUsing cached xxhash-3.4.1-cp311-cp311-macosx_10_9_x86_64.whl (31 kB)\r\n",
      "Downloading pyarrow-16.1.0-cp311-cp311-macosx_10_15_x86_64.whl (28.4 MB)\r\n",
      "\u001B[2K   \u001B[90m━━━━━━━━━━━━━━━━━━━━━━━━━━━━━━━━━━━━━━━━\u001B[0m \u001B[32m28.4/28.4 MB\u001B[0m \u001B[31m9.8 MB/s\u001B[0m eta \u001B[36m0:00:00\u001B[0m:00:01\u001B[0m0:01\u001B[0mm\r\n",
      "\u001B[?25hDownloading pyarrow_hotfix-0.6-py3-none-any.whl (7.9 kB)\r\n",
      "Installing collected packages: xxhash, tqdm, requests, pyarrow-hotfix, pyarrow, huggingface-hub, datasets, evaluate\r\n",
      "  Attempting uninstall: tqdm\r\n",
      "    Found existing installation: tqdm 4.66.1\r\n",
      "    Uninstalling tqdm-4.66.1:\r\n",
      "      Successfully uninstalled tqdm-4.66.1\r\n",
      "  Attempting uninstall: requests\r\n",
      "    Found existing installation: requests 2.31.0\r\n",
      "    Uninstalling requests-2.31.0:\r\n",
      "      Successfully uninstalled requests-2.31.0\r\n",
      "  Attempting uninstall: huggingface-hub\r\n",
      "    Found existing installation: huggingface-hub 0.19.4\r\n",
      "    Uninstalling huggingface-hub-0.19.4:\r\n",
      "      Successfully uninstalled huggingface-hub-0.19.4\r\n",
      "Successfully installed datasets-2.20.0 evaluate-0.4.2 huggingface-hub-0.23.4 pyarrow-16.1.0 pyarrow-hotfix-0.6 requests-2.32.3 tqdm-4.66.4 xxhash-3.4.1\r\n"
     ]
    }
   ],
   "source": [
    "! pip install evaluate"
   ],
   "metadata": {
    "collapsed": false,
    "ExecuteTime": {
     "end_time": "2024-07-04T20:55:45.232720Z",
     "start_time": "2024-07-04T20:55:32.763159Z"
    }
   },
   "id": "3e894573c22dd783"
  },
  {
   "cell_type": "code",
   "execution_count": 133,
   "outputs": [],
   "source": [
    "# Spanish BLEU 0.22304585226870685\n",
    "# Italian BLEU 0.1595706884838815"
   ],
   "metadata": {
    "collapsed": false,
    "ExecuteTime": {
     "end_time": "2024-07-04T20:31:12.079997Z",
     "start_time": "2024-07-04T20:31:12.072298Z"
    }
   },
   "id": "dfe32531e61eacd7"
  },
  {
   "cell_type": "markdown",
   "source": [],
   "metadata": {
    "collapsed": false
   },
   "id": "dda57466c60dba8a"
  }
 ],
 "metadata": {
  "kernelspec": {
   "display_name": "Python 3",
   "language": "python",
   "name": "python3"
  },
  "language_info": {
   "codemirror_mode": {
    "name": "ipython",
    "version": 2
   },
   "file_extension": ".py",
   "mimetype": "text/x-python",
   "name": "python",
   "nbconvert_exporter": "python",
   "pygments_lexer": "ipython2",
   "version": "2.7.6"
  }
 },
 "nbformat": 4,
 "nbformat_minor": 5
}
