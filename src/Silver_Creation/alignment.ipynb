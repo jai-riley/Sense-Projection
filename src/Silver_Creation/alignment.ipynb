{
 "cells": [
  {
   "cell_type": "code",
   "execution_count": null,
   "id": "initial_id",
   "metadata": {
    "collapsed": true
   },
   "outputs": [],
   "source": [
    "#!pip install hanlp\n",
    "#!pip install simalign"
   ]
  },
  {
   "cell_type": "code",
   "execution_count": 124,
   "outputs": [],
   "source": [
    "import os, csv\n",
    "\n",
    "import pandas as pd\n",
    "from tqdm import tqdm\n",
    "from simalign import SentenceAligner\n",
    "# from google.cloud import translate_v2 as translate"
   ],
   "metadata": {
    "collapsed": false,
    "ExecuteTime": {
     "end_time": "2024-07-29T21:07:42.110674Z",
     "start_time": "2024-07-29T21:07:42.105580Z"
    }
   },
   "id": "7cb406a76c0f6d9d"
  },
  {
   "cell_type": "code",
   "execution_count": 272,
   "outputs": [],
   "source": [
    "\n",
    "src_lan = 'en'\n",
    "# target language\n",
    "tgt_lan = 'ES'\n",
    "language = \"Spanish\"\n",
    "\n",
    "RESOURCE = '../..'\n",
    "DATA =  RESOURCE+'/data/'+language+'/aligned_2017'\n",
    "TRANS_FILE = os.path.join(DATA, 'gold-sentences-'+language+'.tsv')\n",
    "TOKENS_FILE = os.path.join(DATA, 'tokens-gold-'+language+'.tsv')\n",
    "ALIGN_SENT_FILE = os.path.join(DATA, 'sentences-aligned-'+language+'.tsv')\n",
    "ALIGN_TOKEN_FILE = os.path.join(DATA, 'tokens-aligned-'+language+'.tsv')\n",
    "\n",
    "# DATA = os.path.join(RESOURCE, 'data')\n",
    "DATA =  RESOURCE+'/data/English/2017'\n",
    "\n",
    "KEY = os.path.join(RESOURCE, 'key')\n",
    "RAW_SENSE_TSV = os.path.join(DATA, 'gold-tokens-English-wSenses.tsv')\n",
    "RAW_TOKENS_TSV =  os.path.join(DATA, 'tokens-gold-English.tsv')\n",
    "RAW_SENTENCE_TSV = os.path.join(DATA, 'gold-sentences-English.tsv')\n",
    "JSON_GOOGLE_APPLICATION_CREDENTIALS = os.path.join(KEY, 'tonal-works-420505-eda807c7cc52.json')\n",
    "os.environ['GOOGLE_APPLICATION_CREDENTIALS'] = JSON_GOOGLE_APPLICATION_CREDENTIALS"
   ],
   "metadata": {
    "collapsed": false,
    "ExecuteTime": {
     "end_time": "2024-07-29T22:51:07.763962Z",
     "start_time": "2024-07-29T22:51:07.761019Z"
    }
   },
   "id": "b13fc3dfe5421d25"
  },
  {
   "cell_type": "markdown",
   "source": [
    "# DATA"
   ],
   "metadata": {
    "collapsed": false,
    "ExecuteTime": {
     "end_time": "2024-07-20T00:25:20.160408Z",
     "start_time": "2024-07-20T00:25:20.081626Z"
    }
   },
   "id": "c20c6865ff265fa9"
  },
  {
   "cell_type": "code",
   "execution_count": 273,
   "outputs": [
    {
     "data": {
      "text/plain": "         Token ID     Token     Lemma   POS     BN Synset\n0             NaN      This      this   DET           NaN\n1  d001.s001.t001  document  document  NOUN  bn:00028015n\n2             NaN        is        be  VERB           NaN\n3             NaN         a         a   DET           NaN\n4  d001.s001.t002   summary   summary  NOUN  bn:00075142n",
      "text/html": "<div>\n<style scoped>\n    .dataframe tbody tr th:only-of-type {\n        vertical-align: middle;\n    }\n\n    .dataframe tbody tr th {\n        vertical-align: top;\n    }\n\n    .dataframe thead th {\n        text-align: right;\n    }\n</style>\n<table border=\"1\" class=\"dataframe\">\n  <thead>\n    <tr style=\"text-align: right;\">\n      <th></th>\n      <th>Token ID</th>\n      <th>Token</th>\n      <th>Lemma</th>\n      <th>POS</th>\n      <th>BN Synset</th>\n    </tr>\n  </thead>\n  <tbody>\n    <tr>\n      <th>0</th>\n      <td>NaN</td>\n      <td>This</td>\n      <td>this</td>\n      <td>DET</td>\n      <td>NaN</td>\n    </tr>\n    <tr>\n      <th>1</th>\n      <td>d001.s001.t001</td>\n      <td>document</td>\n      <td>document</td>\n      <td>NOUN</td>\n      <td>bn:00028015n</td>\n    </tr>\n    <tr>\n      <th>2</th>\n      <td>NaN</td>\n      <td>is</td>\n      <td>be</td>\n      <td>VERB</td>\n      <td>NaN</td>\n    </tr>\n    <tr>\n      <th>3</th>\n      <td>NaN</td>\n      <td>a</td>\n      <td>a</td>\n      <td>DET</td>\n      <td>NaN</td>\n    </tr>\n    <tr>\n      <th>4</th>\n      <td>d001.s001.t002</td>\n      <td>summary</td>\n      <td>summary</td>\n      <td>NOUN</td>\n      <td>bn:00075142n</td>\n    </tr>\n  </tbody>\n</table>\n</div>"
     },
     "execution_count": 273,
     "metadata": {},
     "output_type": "execute_result"
    }
   ],
   "source": [
    "# raw\n",
    "raw_sense_df = pd.read_csv(RAW_SENSE_TSV, delimiter='\\t', quoting=csv.QUOTE_NONE)\n",
    "raw_sense_df.head()"
   ],
   "metadata": {
    "collapsed": false,
    "ExecuteTime": {
     "end_time": "2024-07-29T22:51:08.541099Z",
     "start_time": "2024-07-29T22:51:08.511611Z"
    }
   },
   "id": "b00d2748a93fc3cc"
  },
  {
   "cell_type": "code",
   "execution_count": 274,
   "outputs": [
    {
     "data": {
      "text/plain": "121"
     },
     "execution_count": 274,
     "metadata": {},
     "output_type": "execute_result"
    }
   ],
   "source": [
    "sentence_df = pd.read_csv(RAW_SENTENCE_TSV, delimiter='\\t',  quoting=csv.QUOTE_NONE)\n",
    "sentence_df.head()\n",
    "sents = sentence_df[\"ID\"].tolist()\n",
    "len(sents)"
   ],
   "metadata": {
    "collapsed": false,
    "ExecuteTime": {
     "end_time": "2024-07-29T22:51:08.813557Z",
     "start_time": "2024-07-29T22:51:08.776986Z"
    }
   },
   "id": "f042be62c8de0a8c"
  },
  {
   "cell_type": "code",
   "execution_count": 275,
   "outputs": [
    {
     "name": "stdout",
     "output_type": "stream",
     "text": [
      "['d001.s001', 'd001.s002', 'd001.s003', 'd001.s004', 'd001.s005', 'd001.s006', 'd001.s007', 'd001.s008', 'd001.s009', 'd001.s010', 'd001.s011', 'd001.s012', 'd001.s013', 'd001.s014', 'd001.s015', 'd001.s016', 'd001.s017', 'd001.s018', 'd001.s019', 'd001.s020', 'd001.s021', 'd001.s022', 'd001.s023', 'd001.s024', 'd001.s025', 'd001.s026', 'd001.s027', 'd001.s028', 'd001.s029', 'd001.s030', 'd001.s031', 'd001.s032', 'd001.s033', 'd001.s034', 'd001.s035', 'd001.s036', 'd001.s037', 'd001.s038', 'd001.s039', 'd001.s040', 'd001.s041', 'd001.s042', 'd001.s043', 'd001.s044', 'd001.s045', 'd001.s046', 'd001.s047', 'd001.s048', 'd001.s049', 'd001.s050', 'd001.s051', 'd001.s052', 'd001.s053', 'd001.s054', 'd001.s055', 'd001.s056', 'd001.s057', 'd001.s058', 'd001.s059', 'd001.s060', 'd001.s061', 'd001.s062', 'd001.s063', 'd001.s064', 'd001.s065', 'd001.s066', 'd001.s067', 'd001.s068', 'd001.s069', 'd001.s070', 'd001.s071', 'd001.s072', 'd001.s073', 'd001.s074', 'd001.s075', 'd001.s076', 'd001.s077', 'd001.s078', 'd001.s079', 'd001.s080', 'd001.s081', 'd001.s082', 'd001.s083', 'd001.s084', 'd001.s085', 'd001.s086', 'd001.s087', 'd001.s088', 'd001.s089', 'd001.s090', 'd001.s091', 'd001.s092', 'd001.s093', 'd001.s094', 'd001.s095', 'd001.s096', 'd001.s097', 'd001.s098', 'd001.s099', 'd001.s100', 'd001.s101', 'd001.s102', 'd001.s103', 'd001.s104', 'd001.s105', 'd001.s106', 'd001.s107', 'd001.s108', 'd001.s109', 'd001.s110', 'd001.s111', 'd001.s112', 'd001.s113', 'd001.s114', 'd001.s115', 'd001.s116', 'd001.s117', 'd001.s118', 'd001.s119', 'd001.s120', 'd001.s121']\n"
     ]
    }
   ],
   "source": [
    "sids = sentence_df[\"ID\"].tolist()\n",
    "# sids = [i.replace('d', 'i') for i in sids]\n",
    "# sids[:4]\n",
    "print(sids)"
   ],
   "metadata": {
    "collapsed": false,
    "ExecuteTime": {
     "end_time": "2024-07-29T22:51:08.931817Z",
     "start_time": "2024-07-29T22:51:08.916600Z"
    }
   },
   "id": "3a52ea439706c5fc"
  },
  {
   "cell_type": "code",
   "execution_count": 276,
   "outputs": [
    {
     "data": {
      "text/plain": "          ID                                           Sentence\n0  d001.s001  En el presente documento se resume el Informe ...\n1  d001.s002  En él se explica cómo el Comité de Medicamento...\n2  d001.s003  Si desea más información sobre su enfermedad o...\n3  d001.s004  Si desea más información sobre el fundamento e...\n4  d001.s005                                   ¿Qué es Alimta ?",
      "text/html": "<div>\n<style scoped>\n    .dataframe tbody tr th:only-of-type {\n        vertical-align: middle;\n    }\n\n    .dataframe tbody tr th {\n        vertical-align: top;\n    }\n\n    .dataframe thead th {\n        text-align: right;\n    }\n</style>\n<table border=\"1\" class=\"dataframe\">\n  <thead>\n    <tr style=\"text-align: right;\">\n      <th></th>\n      <th>ID</th>\n      <th>Sentence</th>\n    </tr>\n  </thead>\n  <tbody>\n    <tr>\n      <th>0</th>\n      <td>d001.s001</td>\n      <td>En el presente documento se resume el Informe ...</td>\n    </tr>\n    <tr>\n      <th>1</th>\n      <td>d001.s002</td>\n      <td>En él se explica cómo el Comité de Medicamento...</td>\n    </tr>\n    <tr>\n      <th>2</th>\n      <td>d001.s003</td>\n      <td>Si desea más información sobre su enfermedad o...</td>\n    </tr>\n    <tr>\n      <th>3</th>\n      <td>d001.s004</td>\n      <td>Si desea más información sobre el fundamento e...</td>\n    </tr>\n    <tr>\n      <th>4</th>\n      <td>d001.s005</td>\n      <td>¿Qué es Alimta ?</td>\n    </tr>\n  </tbody>\n</table>\n</div>"
     },
     "execution_count": 276,
     "metadata": {},
     "output_type": "execute_result"
    }
   ],
   "source": [
    "trans_df = pd.read_csv(TRANS_FILE, delimiter='\\t', quoting=csv.QUOTE_NONE)\n",
    "trans_df.head()"
   ],
   "metadata": {
    "collapsed": false,
    "ExecuteTime": {
     "end_time": "2024-07-29T22:51:09.116723Z",
     "start_time": "2024-07-29T22:51:09.100841Z"
    }
   },
   "id": "86ef027023e515d8"
  },
  {
   "cell_type": "code",
   "execution_count": 277,
   "outputs": [
    {
     "data": {
      "text/plain": "           Token ID      Token      Lemma POS\n0    d001.s001.t001         En        NaN   X\n1    d001.s001.t002         el        NaN   X\n2    d001.s001.t003   presente   presente   J\n3    d001.s001.t004  documento  documento   N\n4    d001.s001.t005         se        NaN   X\n..              ...        ...        ...  ..\n995  d001.s039.t007       usar       usar   V\n996  d001.s039.t008   kalgebra   kalgebra   N\n997  d001.s039.t009          .        NaN   X\n998  d001.s039.t010   kalgebra   kalgebra   N\n999  d001.s039.t011         es        ser   V\n\n[1000 rows x 4 columns]",
      "text/html": "<div>\n<style scoped>\n    .dataframe tbody tr th:only-of-type {\n        vertical-align: middle;\n    }\n\n    .dataframe tbody tr th {\n        vertical-align: top;\n    }\n\n    .dataframe thead th {\n        text-align: right;\n    }\n</style>\n<table border=\"1\" class=\"dataframe\">\n  <thead>\n    <tr style=\"text-align: right;\">\n      <th></th>\n      <th>Token ID</th>\n      <th>Token</th>\n      <th>Lemma</th>\n      <th>POS</th>\n    </tr>\n  </thead>\n  <tbody>\n    <tr>\n      <th>0</th>\n      <td>d001.s001.t001</td>\n      <td>En</td>\n      <td>NaN</td>\n      <td>X</td>\n    </tr>\n    <tr>\n      <th>1</th>\n      <td>d001.s001.t002</td>\n      <td>el</td>\n      <td>NaN</td>\n      <td>X</td>\n    </tr>\n    <tr>\n      <th>2</th>\n      <td>d001.s001.t003</td>\n      <td>presente</td>\n      <td>presente</td>\n      <td>J</td>\n    </tr>\n    <tr>\n      <th>3</th>\n      <td>d001.s001.t004</td>\n      <td>documento</td>\n      <td>documento</td>\n      <td>N</td>\n    </tr>\n    <tr>\n      <th>4</th>\n      <td>d001.s001.t005</td>\n      <td>se</td>\n      <td>NaN</td>\n      <td>X</td>\n    </tr>\n    <tr>\n      <th>...</th>\n      <td>...</td>\n      <td>...</td>\n      <td>...</td>\n      <td>...</td>\n    </tr>\n    <tr>\n      <th>995</th>\n      <td>d001.s039.t007</td>\n      <td>usar</td>\n      <td>usar</td>\n      <td>V</td>\n    </tr>\n    <tr>\n      <th>996</th>\n      <td>d001.s039.t008</td>\n      <td>kalgebra</td>\n      <td>kalgebra</td>\n      <td>N</td>\n    </tr>\n    <tr>\n      <th>997</th>\n      <td>d001.s039.t009</td>\n      <td>.</td>\n      <td>NaN</td>\n      <td>X</td>\n    </tr>\n    <tr>\n      <th>998</th>\n      <td>d001.s039.t010</td>\n      <td>kalgebra</td>\n      <td>kalgebra</td>\n      <td>N</td>\n    </tr>\n    <tr>\n      <th>999</th>\n      <td>d001.s039.t011</td>\n      <td>es</td>\n      <td>ser</td>\n      <td>V</td>\n    </tr>\n  </tbody>\n</table>\n<p>1000 rows × 4 columns</p>\n</div>"
     },
     "execution_count": 277,
     "metadata": {},
     "output_type": "execute_result"
    }
   ],
   "source": [
    "tkns_df = pd.read_csv(TOKENS_FILE, delimiter='\\t', quoting=csv.QUOTE_NONE)\n",
    "tkns_df.head(1000)"
   ],
   "metadata": {
    "collapsed": false,
    "ExecuteTime": {
     "end_time": "2024-07-29T22:51:09.369497Z",
     "start_time": "2024-07-29T22:51:09.321274Z"
    }
   },
   "id": "2f432a89a379c822"
  },
  {
   "cell_type": "code",
   "execution_count": 278,
   "outputs": [
    {
     "data": {
      "text/plain": "2852"
     },
     "execution_count": 278,
     "metadata": {},
     "output_type": "execute_result"
    }
   ],
   "source": [
    "tgt_tkns = tkns_df['Token'].tolist()\n",
    "len(tgt_tkns)"
   ],
   "metadata": {
    "collapsed": false,
    "ExecuteTime": {
     "end_time": "2024-07-29T22:51:09.552236Z",
     "start_time": "2024-07-29T22:51:09.519113Z"
    }
   },
   "id": "657283dde5c279c5"
  },
  {
   "cell_type": "markdown",
   "source": [
    "# ALIGNMENT"
   ],
   "metadata": {
    "collapsed": false,
    "ExecuteTime": {
     "end_time": "2024-07-20T00:25:29.100491Z",
     "start_time": "2024-07-20T00:25:29.088726Z"
    }
   },
   "id": "19c7b3b3697f3f04"
  },
  {
   "cell_type": "code",
   "execution_count": 279,
   "outputs": [
    {
     "name": "stderr",
     "output_type": "stream",
     "text": [
      "/usr/local/lib/python3.11/site-packages/huggingface_hub/file_download.py:1132: FutureWarning: `resume_download` is deprecated and will be removed in version 1.0.0. Downloads always resume when possible. If you want to force a new download, use `force_download=True`.\n",
      "  warnings.warn(\n",
      "2024-07-29 16:51:18,880 - simalign.simalign - INFO - Initialized the EmbeddingLoader with model: xlm-roberta-base\n"
     ]
    }
   ],
   "source": [
    "device = 'cpu'\n",
    "layer = 8\n",
    "# \"bert\": \"bert-base-multilingual-cased\",\n",
    "# \"xlmr\": \"xlm-roberta-base\"\n",
    "model = 'xlmr'\n",
    "# mwmf (Match), inter (ArgMax), itermax (IterMax)\n",
    "mode = 'inter'\n",
    "matching_methods = 'mai'\n",
    "token_type='bpe'\n",
    "aligner = SentenceAligner(\n",
    "    model=model\n",
    "    , token_type=token_type\n",
    "    , matching_methods=matching_methods\n",
    "    , layer=layer\n",
    "    , device=device\n",
    ")"
   ],
   "metadata": {
    "collapsed": false,
    "ExecuteTime": {
     "end_time": "2024-07-29T22:51:18.984836Z",
     "start_time": "2024-07-29T22:51:09.895156Z"
    }
   },
   "id": "5bfcface1251e192"
  },
  {
   "cell_type": "code",
   "execution_count": 280,
   "outputs": [
    {
     "data": {
      "text/plain": "         Token ID     Token     Lemma   POS     BN Synset\n0             NaN      This      this   DET           NaN\n1  d001.s001.t001  document  document  NOUN  bn:00028015n\n2             NaN        is        be  VERB           NaN\n3             NaN         a         a   DET           NaN\n4  d001.s001.t002   summary   summary  NOUN  bn:00075142n",
      "text/html": "<div>\n<style scoped>\n    .dataframe tbody tr th:only-of-type {\n        vertical-align: middle;\n    }\n\n    .dataframe tbody tr th {\n        vertical-align: top;\n    }\n\n    .dataframe thead th {\n        text-align: right;\n    }\n</style>\n<table border=\"1\" class=\"dataframe\">\n  <thead>\n    <tr style=\"text-align: right;\">\n      <th></th>\n      <th>Token ID</th>\n      <th>Token</th>\n      <th>Lemma</th>\n      <th>POS</th>\n      <th>BN Synset</th>\n    </tr>\n  </thead>\n  <tbody>\n    <tr>\n      <th>0</th>\n      <td>NaN</td>\n      <td>This</td>\n      <td>this</td>\n      <td>DET</td>\n      <td>NaN</td>\n    </tr>\n    <tr>\n      <th>1</th>\n      <td>d001.s001.t001</td>\n      <td>document</td>\n      <td>document</td>\n      <td>NOUN</td>\n      <td>bn:00028015n</td>\n    </tr>\n    <tr>\n      <th>2</th>\n      <td>NaN</td>\n      <td>is</td>\n      <td>be</td>\n      <td>VERB</td>\n      <td>NaN</td>\n    </tr>\n    <tr>\n      <th>3</th>\n      <td>NaN</td>\n      <td>a</td>\n      <td>a</td>\n      <td>DET</td>\n      <td>NaN</td>\n    </tr>\n    <tr>\n      <th>4</th>\n      <td>d001.s001.t002</td>\n      <td>summary</td>\n      <td>summary</td>\n      <td>NOUN</td>\n      <td>bn:00075142n</td>\n    </tr>\n  </tbody>\n</table>\n</div>"
     },
     "execution_count": 280,
     "metadata": {},
     "output_type": "execute_result"
    }
   ],
   "source": [
    "raw_sense_df.head()"
   ],
   "metadata": {
    "collapsed": false,
    "ExecuteTime": {
     "end_time": "2024-07-29T22:51:18.994892Z",
     "start_time": "2024-07-29T22:51:18.986104Z"
    }
   },
   "id": "5963d6746fecc939"
  },
  {
   "cell_type": "code",
   "execution_count": 281,
   "outputs": [
    {
     "name": "stdout",
     "output_type": "stream",
     "text": [
      "[['This', 'document', 'is', 'a', 'summary', 'of', 'the', 'European', 'Public', 'Assessment', 'Report', '(', 'EPAR', ')', '.'], ['It', 'explains', 'how', 'the', 'Committee', 'for', 'Medicinal', 'Products', 'for', 'Human', 'Use', '(', 'CHMP', ')', 'assessed', 'the', 'studies', 'performed', ',', 'to', 'reach', 'their', 'recommendations', 'on', 'how', 'to', 'use', 'the', 'medicine', '.'], ['If', 'you', 'need', 'more', 'information', 'about', 'your', 'medical', 'condition', 'or', 'your', 'treatment', ',', 'read', 'the', 'Package', 'Leaflet', '(', 'also', 'part', 'of', 'the', 'EPAR', ')', 'or', 'contact', 'your', 'doctor', 'or', 'pharmacist', '.'], ['If', 'you', 'want', 'more', 'information', 'on', 'the', 'basis', 'of', 'the', 'CHMP', 'recommendations', ',', 'read', 'the', 'Scientific', 'Discussion', '(', 'also', 'part', 'of', 'the', 'EPAR', ')', '.'], ['What', 'is', 'Alimta', '?'], ['Alimta', 'is', 'a', 'powder', 'that', 'is', 'made up', 'into', 'a', 'solution', 'for', 'infusion', '(', 'drip', 'into', 'a', 'vein', ')', '.'], ['It', 'contains', 'the', 'active', 'substance', 'pemetrexed', '.'], ['What', 'is', 'Alimta', 'used', 'for', '?'], ['Alimta', 'is', 'used', 'to', 'treat', 'two', 'types', 'of', 'cancer', ':', 'pleural', 'mesothelioma', '(', 'cancer', 'of', 'the', 'lining', 'of', 'the', 'lungs', 'that', 'is', 'usually', 'caused', 'by', 'exposure', 'to', 'asbestos', ')', '.'], ['Alimta', 'is', 'used', 'together with', 'cisplatin', '(', 'another', 'anticancer', 'medicine', ')', 'when', 'the', 'cancer', 'is', 'unresectable', '(', 'cannot', 'be', 'removed', 'by', 'surgery', 'alone', ')', 'and', 'malignant', '(', 'has', 'spread', ',', 'or', 'is', 'likely', 'to', 'spread', 'easily', ',', 'to', 'other', 'parts', 'of', 'the', 'body', ')', ',', 'in', 'patients', 'who', 'have', 'not', 'received', 'chemotherapy', '(', 'medicines', 'for', 'cancer', ')', 'before', 'advanced', 'or', 'metastatic', 'non-small', 'cell', 'lung cancer', 'that', 'is', 'not', 'affecting', 'the', 'squamous cells', '.'], ['Alimta', 'is', 'used', 'in', 'combination', 'with', 'cisplatin', 'in', 'patients', 'who', 'have', 'not', 'been', 'treated', 'before', ',', 'and', 'on', 'its', 'own', 'in', 'patients', 'who', 'have', 'received', 'another', 'type', 'of', 'chemotherapy', 'in', 'the', 'past', '.'], ['The', 'medicine', 'can', 'only', 'be', 'obtained', 'with', 'a', 'prescription', '.'], ['How', 'is', 'Alimta', 'used', '?'], ['Alimta', 'should', 'only', 'be', 'given', 'under', 'the', 'supervision', 'of', 'a', 'doctor', 'who', 'is', 'qualified', 'in', 'the', 'use', 'of', 'anticancer', 'chemotherapy', '.'], ['The', 'recommended', 'dose', 'of', 'Alimta', 'is', '500', 'mg', 'per', 'square metre', 'of', 'body', 'surface area', '(', 'calculated', 'using', 'the', 'patient', 's', 'height', 'and', 'weight', ')', '.', 'It', 'is', 'given', 'once', 'every', 'three', 'weeks', 'as', 'an', 'intravenous', 'infusion', 'lasting', '10', 'minutes', '.'], ['To', 'reduce', 'side effects', ',', 'patients', 'should', 'take', 'a', 'corticosteroid', 'and', 'folic acid', '(', 'a', 'type', 'of', 'vitamin', ')', ',', 'and', 'receive', 'injections', 'of', 'vitamin B12', 'during', 'treatment', 'with', 'Alimta', '.'], ['When', 'Alimta', 'is', 'given', 'with', 'cisplatin', ',', 'an', 'anti-emetic', 'medicine', '(', 'to', 'prevent', 'vomiting', ')', 'and', 'fluids', '(', 'to', 'prevent', 'dehydration', ')', 'should', 'also', 'be', 'given', 'before', 'or', 'after', 'the', 'cisplatin', 'dose', '.'], ['Treatment', 'should', 'be', 'delayed', 'or', 'discontinued', ',', 'or', 'the', 'dose', 'reduced', ',', 'in', 'patients', 'whose', 'blood counts', 'are', 'abnormal', 'or', 'who', 'have', 'certain', 'other', 'side effects', '.'], ['Alimta', 'is', 'not', 'recommended', 'for', 'use', 'in', 'patients', 'with', 'moderate', 'or', 'severe', 'kidney', 'problems', '.'], ['For', 'more', 'information', ',', 'see', 'the', 'Summary', 'of', 'Product', 'Characteristics', '(', 'also', 'part', 'of', 'the', 'EPAR', ')', '.'], ['How', 'does', 'Alimta', 'work', '?'], ['The', 'active', 'substance', 'in', 'Alimta', ',', 'pemetrexed', ',', 'is', 'a', 'cytotoxic', 'medicine', '(', 'a', 'medicine', 'that', 'kills', 'cells', 'that', 'are', 'dividing', ',', 'such', 'as', 'cancer cells', ')', ',', 'which', 'belongs to', 'the', 'group', 'antimetabolites', '.'], ['In', 'the', 'body', ',', 'pemetrexed', 'is', 'converted', 'into', 'an', 'active', 'form', 'that', 'blocks', 'the', 'activity', 'of', 'the', 'enzymes', 'that', 'are', 'involved', 'in', 'producing', 'nucleotides', '(', 'the', 'building blocks', 'of', 'DNA', 'and', 'RNA', ',', 'the', 'genetic', 'material', 'of', 'cells', ')', '.'], ['How', 'has', 'Alimta', 'been', 'studied', '?'], ['For', 'the', 'treatment', 'of', 'malignant', 'pleural', 'mesothelioma', ',', 'Alimta', 'has', 'been', 'studied', 'in', 'one', 'main', 'study', 'in', '456', 'patients', 'who', 'had', 'not', 'received', 'chemotherapy', 'for', 'their', 'disease', 'before', '.'], ['The', 'effects', 'of', 'Alimta', 'in', 'combination', 'with', 'cisplatin', 'were', 'compared', 'with', 'those', 'of', 'cisplatin', 'alone', '.'], ['For', 'the', 'treatment', 'of', 'non-small', 'cell', 'lung cancer', ',', 'the', 'effects', 'of', 'Alimta', 'were', 'compared', 'with', 'those', 'of', 'docetaxel', '(', 'another', 'anticancer', 'medicine', ')', 'in', 'one', 'study', 'involving', '571', 'patients', 'with', 'locally', 'advanced', 'or', 'metastatic', 'disease', 'who', 'had', 'received', 'chemotherapy', 'in', 'the', 'past', '.'], ['Alimta', 'was', 'also', 'compared', 'with', 'gemcitabine', '(', 'another', 'anticancer', 'medicine', ')', ',', 'both', 'in', 'combination', 'with', 'cisplatin', ',', 'in', 'a', 'study', 'involving', '1,725', 'patients', 'who', 'had', 'not', 'received', 'chemotherapy', 'for', 'lung cancer', 'in', 'the', 'past', '.'], ['In', 'all', 'three', 'studies', ',', 'the', 'main', 'measure', 'of', 'effectiveness', 'was', 'how', 'long', 'the', 'patients', 'survived', '.'], ['What', 'benefit', 'has', 'Alimta', 'shown', 'during', 'the', 'studies', '?'], ['Alimta', 'increased', 'the', 'survival', 'time', 'of', 'patients', 'with', 'malignant', 'pleural', 'mesothelioma', '.'], ['Patients', 'receiving', 'Alimta', 'and', 'cisplatin', 'survived', 'for', 'an', 'average', 'of', '12.1', 'months', ',', 'compared', 'with', '9.3', 'months', 'in', 'those', 'receiving', 'cisplatin', 'alone', '.'], ['In', 'the', 'treatment', 'of', 'patients', 'with', 'non-small', 'cell', 'lung cancer', ',', 'Alimta', 'was', 'as', 'effective', 'as', 'the', 'comparators', '.'], ['In', 'patients', 'who', 'had', 'received', 'chemotherapy', 'in', 'the', 'past', ',', 'the', 'average', 'survival', 'time', 'was', '8.3', 'months', 'with', 'Alimta', ',', 'compared', 'with', '7.9', 'months', 'with', 'docetaxel', '.'], ['In', 'patients', 'who', 'had', 'not', 'received', 'chemotherapy', 'in', 'the', 'past', ',', 'the', 'average', 'survival', 'time', 'was', '10.3', 'months', 'in', 'both', 'groups', '.'], ['However', ',', 'in', 'both', 'studies', ',', 'patients', 'whose', 'cancer', 'was', 'not', 'affecting', 'squamous cells', 'had', 'longer', 'survival', 'times', 'if', 'they', 'received', 'Alimta', 'than', 'if', 'they', 'received', 'the', 'comparator', '.'], ['In', 'contrast', ',', 'patients', 'whose', 'cancer', 'was', 'affecting', 'squamous cells', 'had', 'shorter', 'survival', 'times', 'if', 'they', 'received', 'Alimta', '.', 'kalgebra', 'is', 'a', 'mathematical', 'calculator', 'based', 'on', 'content', 'markup', 'MathML', 'language', '.'], ['Nowadays', 'it', 'is', 'capable', 'to', 'make', 'simple', 'MathML', 'operations', '(', 'arithmetic', 'and', 'logical', ')', 'and', 'to', 'representate', '2D', 'and', '3D', 'graphs', '.'], ['It', 'is', 'actually', 'not', 'necessary', 'to', 'know', 'MathML', 'to', 'use', 'kalgebra', '.', 'kalgebra', 'is', 'a', 'MathML', 'based', 'graph', 'calculator', '.'], ['Although', 'it', 'was', 'initially', 'MathML', 'oriented', 'it', 'can', 'now', 'be', 'used', 'by', 'everyone', 'with', 'little', 'mathematical', 'knowledge', '.'], ['Here', \"'s\", 'a', 'screenshot', 'of', 'kalgebra', 'main', 'window', 'kalgebra', 'main', 'window', 'kalgebra', 'main', 'window', 'consists', 'in', 'a', 'Console', 'tab', ',', 'a', '2D', 'Graph', 'tab', ',', 'a', '3D', 'Graph', 'tab', 'and', 'a', 'Dictionary', 'tab', '.'], ['Below', 'these', 'tabs', 'you', 'will', 'find', 'an', 'input', 'field', 'to', 'type', 'your', 'functions', 'or', 'do', 'your', 'calculations', '.'], ['If', 'we', 'want', 'to', 'understand', 'how', 'it', 'works', ',', 'the', 'best', 'thing', 'we', 'can', 'do', 'is', 'to', 'realize', 'that', 'our', 'input', 'is', 'being', 'converted', 'into', 'MathML', 'although', 'it', 'is', 'not', 'necessary', 'to', 'know', 'MathML', '.'], ['I', 'have', 'based', 'the', 'syntax', 'basically', 'on', 'common sense', ',', 'it', 'should', 'not', 'be', 'hard', 'for', 'anyone', '.'], ['I', 've', 'looked', 'closely', 'to', 'maxima', 'and', 'maple', 's', 'syntax', 'so', 'they', 'look', 'very', 'similar', '.', '+', '-', '*', '/', ':', 'Addition', ',', 'subtraction', ',', 'multiplication', 'and', 'division', '.', '^', ',', '**', ':', 'Power', ',', 'you', 'can', 'use', 'them', 'both', '.'], ['Also', 'it', 'is', 'possible', 'to', 'use', 'the', 'unicode', '²', 'characters', '.'], ['Powers', 'are', 'one', 'way', 'to', 'make', 'roots', 'too', '.', '-gt', ':', 'It', 's', 'the', 'way', 'to', 'specify', 'the', 'bounded', 'variable', 'in', 'a', 'function', '.', '(', ')', ':', 'It', 'is', 'used', 'to', 'specify', 'a', 'higher', 'priority', '.', 'abc(params)', ':', 'When', 'the', 'parser', 'finds', 'a', 'function', ',', 'it', 'checks', 'if', 'abc', 'is', 'an', 'operator', '.'], ['If', 'it', 'is', ',', 'it', 'will', 'be', 'treated', 'as', 'an', 'operator', ',', 'if', 'it', 'is', 'not', ',', 'it', 'will', 'be', 'treated', 'as', 'a', 'user', 'function', '.', ':', '=', ':', 'It', 'is', 'used', 'to', 'define', 'a', 'variable', 'value', '.', '?', ':', 'Piecewise', 'condition', 'definition', '.'], ['Piecewise', 'is', 'the', 'way', 'we', 'can', 'define', 'conditional', 'operations', 'in', 'kalgebra', '.'], ['If', 'we', 'introduce', 'the', 'condition', 'before', 'the', '?', 'it', 'will', 'use', 'this', 'condition', 'only if', 'it', 'is', 'true', ',', 'if', 'it', 'finds', 'a', '?', 'without', 'any', 'condition', ',', 'it', 'will', 'enter', 'in', 'the', 'last', 'wf', '.', '{', '}', ':', 'MathML', 'container', '.', 'It', 'can', 'be', 'used', 'to', 'define', 'a', 'container', '.'], ['Mainly', 'useful', 'for', 'working', 'with', 'piecewise', '.'], ['Now', 'you', 'could', 'ask', 'me', ',', 'why', 'should', 'the', 'user', 'mind', 'about', 'MathML', '?', 'That', 's', 'easy', '.', 'With', 'this', ',', 'we', 'can', 'operate', 'with', 'functions', 'like', 'cos()', ',', 'sin()', ',', 'any', 'other', 'trigonometric', 'functions', ',', 'sum', '()', 'or', 'product', '()', '.'], ['It', 'does', 'not', 'matter', 'what', 'kind', 'it', 'is', '.'], ['We', 'can', 'use', 'plus()', ',', 'times()', 'and', 'everything', 'which', 'has', 'its', 'operator', '.', 'kalgebra', \"'s\", 'console', 'is', 'useful', 'as', 'a', 'calculator', '.'], ['There', 'you', 'have', 'a', 'list', 'of', 'the', 'declared', 'variables', '.'], ['By', 'double', 'clicking', 'on', 'them', 'you', 'will', 'see', 'a', 'dialog', 'that', 'lets', 'you', 'change', 'their', 'values', '(', 'just', 'a', 'way', 'to', 'trick', 'the', 'log', ')', '.'], ['Every', 'time', 'you', 'enter', 'an', 'expression', ',', 'the', '\"\"\"\"', 'ans', '\"\"\"\"', 'variable', 'value', 'will', 'be', 'changed', 'to', 'the', 'last', 'result', '.'], ['Ctrl', 'N', 'New', 'Window'], ['Flushes', 'the', 'log', '.'], ['Ctrl', 'L', 'Load', 'Script'], ['Executes', 'the', 'instructions', 'in', 'a', 'file', 'sequentially', '.'], ['Nice', 'if', 'you', 'want', 'to', 'define', 'some', 'libraries', 'or', 'resume', 'some', 'previous', 'work', '.'], ['Ctrl', 'G', 'Save', 'Script'], ['Saves', 'the', 'instructions', 'you', 'have', 'typed', 'since', 'the', 'session', 'began', 'to', 'be', 'able', 'to', 'reuse', '.'], ['Generates', 'text files', 'so', 'it', 'should', 'be', 'easy', 'to', 'fix', 'using', 'any', 'text editor', ',', 'like', 'Kate', '.'], ['Ctrl', 'S', 'Save', 'Log'], ['Saves', 'the', 'log', 'with', 'all', 'results', 'into', 'an', 'HTML', 'file', 'to', 'be', 'able', 'to', 'print', 'or', 'publish', '.'], ['Ctrl', 'Q', 'Quit'], ['Shuts', 'the', 'program', 'down', '.'], ['To', 'add', 'a', 'new', '2D', 'graph', 'on', 'kalgebra', ',', 'what', 'you', 'have', 'to', 'do', 'is', 'to', 'go', 'to', 'the', '2D', 'Graph', 'tab', 'and', 'click', 'in', 'the', 'Add', 'tab', 'to', 'add', 'the', 'new', 'function', '.'], ['Then', 'your', 'focus', 'will', 'go', 'to', 'an', 'input', 'text', 'box', 'where', 'you', 'can', 'type', 'your', 'function', '.'], ['If', 'you', 'want', 'to', 'use', 'a', 'typical', 'f(x)', 'function', 'it', 'is', 'not', 'necessary', 'to', 'specify', 'it', '.'], ['If', 'you', 'have', 'entered', 'the', 'function', 'click', 'on', 'the', 'OK', 'button', 'to', 'display', 'the', 'graph', 'in', 'the', 'main', 'window', '.'], ['You', 'can', 'set', 'several', 'graphs', 'on', 'the', 'same', 'view', '.'], ['Just', 'use', 'the', 'Add', 'button', 'when', 'you', 'are', 'in', 'List', 'mode', '.'], ['You', 'can', 'set', 'each', 'graph', 'its', 'own', 'color', '.'], ['The', 'Foundation', 'has', 'recently', 'been', 'involved', 'in', 'organising', 'a', 'conference', 'which', 'dealt', 'with', 'this', 'critical', 'challenge', '.'], ['Over', '100', 'participants', 'from', 'the', 'main', 'interest groups', 'attended', 'and', 'debated', 'issues', 'such', 'as', 'the', 'role', 'of', 'key', 'actors', 'including', 'public', 'authorities', ',', 'social', 'partners', ',', 'voluntary', 'and', 'community', 'organisations', 'as well', 'as', 'service', 'users', '.'], ['There', 'were', 'relatively', 'few', 'cases', 'reported', 'of', 'attempts', 'to', 'involve', 'users', 'in', 'service', 'planning', 'but', 'their', 'involvement', 'in', 'service', 'provision', 'was', 'found', 'to', 'be', 'more', 'common', '.'], ['Note', 'was', 'also', 'taken', 'of', 'the', 'variety', 'of', 'different', 'roles', 'played', 'by', 'public', 'welfare'], ['The', 'Foundation', 'organised', ',', 'together', 'with', 'the', 'European', 'Commission', ',', 'the', 'Spanish', 'Ministry', 'of', 'Social', 'Affairs', 'and', 'the', 'Galician', 'regional', 'government', ',', 'a', 'European', 'conference', 'on', 'social', 'exclusion', ':', 'a', 'major', 'challenge', 'for', 'public', 'welfare', 'services', '.'], ['The', 'Foundation', 'recently', 'published', 'a', 'comparative', 'study', 'as', 'part', 'of', 'the', 'EPOC', 'project', 'which', 'assesses', 'the', 'extent', 'to', 'which', 'direct', 'participation', 'can', 'humanise', 'work', 'while', 'increasing', 'profitability', '.'], ['The', 'study', 'is', 'based', 'on', '195', 'personal', 'interviews', 'with', 'senior', 'officials', 'of', 'the', 'social', 'partners', 'as', 'representatives', 'of', 'national', 'level', 'peak', 'organisations', 'in', 'fifteen', 'European', 'countries', '.'], ['As', 'important', 'industrial', 'sectors', ',', 'the', 'metal', 'industry', 'and', 'the', 'banking', 'sector', 'were', 'also', 'included', '.'], ['Key', 'speakers', 'at', 'the', 'social', 'exclusion', 'conference', 'were', '(', 'left', 'to', 'right', ')', 'Cristina', 'Louro', ',', 'Employment', ',', 'Industrial', 'Relations', 'and', 'Social Affairs', 'Directorate', ',', 'European', 'Commission', 'Fernando', 'Gomes', ',', 'a', 'high', 'degree', 'of', 'Committee', 'of', 'the', 'Regions', 'Barbara', 'Weiler', ',', 'Member', 'of', 'the', 'European', 'Parliament', 'José', 'Maria', 'Gil-Robles', ',', 'Vice-President', ',', 'European', 'Parliament', 'and', 'John', 'Carroll', ',', 'Economic', 'and', 'Social', 'Committee', '.'], ['Case Studies', 'Each', 'national', 'report', 'contains', 'a', 'portfolio', 'of', 'between', '25', 'and', '30', 'initiatives', 'which', 'best', 'present', 'policies', 'and', 'practices', 'to', 'improve', 'the', 'recruitment', ',', 'training', 'and', 'development', 'of', 'ageing', 'workers', 'in', 'both', 'the', 'work', 'place', 'and', 'the', 'community', '.'], ['For', 'each', 'country', ',', 'two', 'or', 'three', 'initiatives', 'have', 'been', 'selected', 'for', 'further', 'in', 'depth', 'case study', '.'], ['These', 'case studies', 'analysed', 'the', 'background', 'of', 'the', 'initiatives', ',', 'their', 'impact', 'on', 'employment', 'patterns', 'and', 'work', 'organisations', 'and', 'assessed', 'the', 'benefits', 'and', 'problems', 'of', 'the', 'initiative', '.'], ['Visits', 'and', 'interviews', 'with', 'key', 'personnel', 'were', 'also', 'undertaken', '.'], ['These', 'national', 'studies', 'will', 'form', 'the', 'basis', 'of', 'a', 'European', 'report', 'which', 'synthesises', 'overall', 'practices', '.'], ['The', 'report', 'and', 'a', 'casebook', 'of', 'initiatives', 'will', 'be', 'published', 'in', '1996', 'and', 'provide', 'the', 'backdrop', 'for', 'a', 'conference', 'to', 'be', 'staged', 'in', 'Autumn', ',', '1996', '.'], ['The', 'Foundation', 'aims', 'to', 'document', 'the', 'characteristics', 'of', 'age', 'barriers', 'in', 'job', 'recruitment', 'and', 'training', 'and', 'to', 'analyse', 'their', 'causes', '.'], ['The', 'perspectives', 'of', 'the', 'social', 'partners', 'is', 'also', 'being', 'examined', ',', 'with', 'particular', 'attention', 'paid', 'to', 'proposals', 'for', 'removing', 'age', 'barriers', '.'], ['Thirdly', ',', 'the', 'project', 'documents', 'and', 'assesses', 'initiatives', ',', 'in', 'both', 'the', 'public', 'and', 'private', 'sectors', 'which', 'combat', 'age', 'barriers', ',', 'especially', 'for', 'older', 'workers', '.'], ['Seeking', 'alternatives', 'to', 'early', 'retirement', 'and', 'redundancy', ',', 'the', 'project', 'is', 'primarily', 'concerned', 'with', 'the', 'retention', ',', 'reintegration', 'and', 'retraining', 'of', 'older', 'workers', '.'], ['The', 'gender', 'and', 'ethnic', 'backgrounds', 'of', 'workers', 'and', 'how', 'these', 'relate', 'to', 'age', 'discrimination', 'are', 'examined', '.'], ['The', 'project', 'also', 'considers', 'initiatives', 'to', 'combat', 'age', 'discrimination', 'in', 'rural areas', 'and', 'in', 'small', 'and', 'medium', 'sized', 'enterprises', '.'], ['Seven', 'member', 'states', 'are', 'covered', 'by', 'the', 'project', ':', 'Belgium', ',', 'France', ',', 'Germany', ',', 'Greece', ',', 'Italy', ',', 'the', 'Netherlands', 'and', 'the', 'United', 'Kingdom', '.'], ['This', 'document', 'is', 'a', 'summary', 'of', 'the', 'European', 'Public', 'Assessment', 'Report', '.', 'It', 'explains', 'how', 'the', 'Committee', 'for', 'Medicinal', 'Products', 'for', 'Veterinary', 'Use', '(', 'CVMP', ')', 'assessed', 'the', 'studies', 'performed', ',', 'to', 'reach', 'their', 'recommendations', 'on', 'how', 'to', 'use', 'the', 'medicine', '.'], ['What', 'is', 'Cerenia', '?'], ['Cerenia', 'contains', 'the', 'active', 'substance', 'maropitant', 'and', 'is', 'available', 'as', 'tablet', 'or', 'as', 'solution', 'for', 'injection', '.'], ['The', 'tablets', 'are', 'pale-orange', 'and', 'have', 'a', 'score', 'line', 'on', 'both', 'sides', 'so', 'that', 'they', 'can', 'be', 'halved', '.'], ['Each', 'tablet', 'is', 'marked', 'with', 'the', 'Pfizer', 'logo', 'on', 'one', 'side', 'and', 'with', 'the', 'letters', 'MPT', 'and', 'the', 'quantity', 'of', 'maropitant', 'on', 'the', 'other', 'side', '.'], ['What', 'is', 'Cerenia', 'used', 'for', '?'], ['Cerenia', 'is', 'an', 'anti-emetic', ',', 'this', 'means', 'that', 'it', 'stops', 'vomiting', '.'], ['It', 'is', 'used', 'in', 'dogs', 'to', 'prevent', 'vomiting', 'such', 'as', 'vomiting', 'caused', 'by', 'chemotherapy', '(', 'medicines', 'used', 'for', 'the', 'treatment', 'of', 'cancer', ',', 'some', 'of', 'which', 'are', 'known', 'to', 'cause', 'vomiting', ')', '.'], ['In', 'combination', 'with', 'supportive', 'measures', 'such', 'as', 'other', 'veterinary', 'treatment', 'or', 'a', 'special', 'diet', ',', 'Cerenia', 'can', 'also', 'be', 'used', 'in', 'the', 'treatment', 'of', 'vomiting', '(', 'either', 'as', 'injection', 'or', 'as', 'injection', 'followed', 'by', 'tablets', ')', '.'], ['For', 'these', 'purposes', ',', 'Cerenia', 'can', 'be', 'given', 'for', 'up', 'to', 'five', 'days'], ['How', 'does', 'Cerenia', 'work', '?'], ['Cerenia', 'blocks', 'a', 'neurokinin', '1', '(', 'NK1', ')', 'receptor', ',', 'which', 'acts', 'in', 'the', 'central nervous system', '.'], ['How', 'has', 'Cerenia', 'been', 'studied', '?'], ['A', 'large number', 'of', 'studies', 'with', 'Cerenia', 'were', 'carried out', 'either', 'in', 'laboratory', 'dogs', 'or', 'in', 'animal', 'patients', 'at', 'veterinary', 'practises', 'in', 'several', 'European countries', 'and', 'in', 'the', 'USA', '.'], ['What', 'benefit', 'has', 'Cerenia', 'shown', 'during', 'the', 'studies', '?'], ['The', 'results', 'of', 'the', 'studies', 'showed', 'that', 'Cerenia', 'was', 'more', 'effective', 'than', 'the', 'placebo', ':', 'less', 'vomiting', 'was', 'seen', 'in', 'dogs', 'that', 'received', 'the', 'medicine', 'than', 'in', 'dogs', 'that', 'received', 'a', 'placebo', ',', 'both', 'in', 'the', 'treatment', 'or', 'in', 'the', 'prevention', 'of', 'vomiting', '.'], ['The', 'treatment', 'of', 'a', 'vomiting', 'dog', 'should', 'be', 'started', 'with', 'the', 'injection', ',', 'since', 'vomiting', 'animals', 'might', 'not', 'be', 'able', 'to', 'keep', 'a', 'tablet', 'down', '(', 'as', 'they', 'might', 'throw', 'the', 'intact', 'tablet', 'up', 'again', ')', '.'], ['For', 'follow-up', 'treatment', ',', 'the', 'animal', 'owner', 'can', 'administer', 'the', 'tablets', 'to', 'the', 'dog', '.'], ['Also', ',', 'the', 'treatment', 'of', 'vomiting', 'should', 'only', 'be', 'together with', 'other', 'supportive', 'measure', 'or', 'other', 'veterinary', 'therapy', 'while', 'addressing', 'the', 'underlying', 'causes', 'of', 'the', 'vomiting', '.'], ['What', 'is', 'the', 'risk', 'associated', 'with', 'Cerenia', '?'], ['Cerenia', 'was', 'generally', 'well', 'tolerated', 'when', 'administered', 'daily', 'at', 'dosages', 'up', 'to', '5', 'times', 'the', 'recommended', 'doses', 'for', 'an', 'extended', 'period of time', '(', 'up', 'to', '3', 'times', 'the', 'recommended', 'maximum', 'duration', 'of', 'treatment', ')', '.'], ['What', 'are', 'the', 'precautions', 'for', 'the', 'person', 'who', 'gives', 'the', 'medicine', 'or', 'comes into', 'contact', 'with', 'the', 'animal', '?'], ['Cerenia', 'does', 'not', 'represent', 'a', 'particular', 'risk', 'for', 'people', '.']]\n"
     ]
    }
   ],
   "source": [
    "# english token sequences\n",
    "idxes = raw_sense_df['Token ID'].tolist()\n",
    "tokens = raw_sense_df['Token'].tolist()\n",
    "# print(idxes,tokens)\n",
    "en_sents = []\n",
    "# en_sents2 = trans_df[\"English\"].tolist()\n",
    "# pre_sid = None\n",
    "sent = []\n",
    "for i, s in zip(idxes, tokens):\n",
    "    if s != \"-end-\":\n",
    "        sent.append(s)\n",
    "    else:\n",
    "        en_sents.append(sent)\n",
    "        sent = []\n",
    "print(en_sents)\n",
    "# for x in range(len(en_sents)):\n",
    "#     print(\" \".join(en_sents[x]),en_sents2[x])\n",
    "#     if \" \".join(en_sents[x]) != en_sents2[x]:\n",
    "#         print(x)"
   ],
   "metadata": {
    "collapsed": false,
    "ExecuteTime": {
     "end_time": "2024-07-29T22:51:19.004528Z",
     "start_time": "2024-07-29T22:51:18.997978Z"
    }
   },
   "id": "3bb827932bd9b23f"
  },
  {
   "cell_type": "code",
   "execution_count": 282,
   "outputs": [
    {
     "name": "stdout",
     "output_type": "stream",
     "text": [
      "['The', 'perspectives', 'of', 'the', 'social', 'partners', 'is', 'also', 'being', 'examined', ',', 'with', 'particular', 'attention', 'paid', 'to', 'proposals', 'for', 'removing', 'age', 'barriers', '.']\n"
     ]
    }
   ],
   "source": [
    "print(en_sents[92])"
   ],
   "metadata": {
    "collapsed": false,
    "ExecuteTime": {
     "end_time": "2024-07-29T22:51:19.007164Z",
     "start_time": "2024-07-29T22:51:19.004630Z"
    }
   },
   "id": "289f3807b810c81e"
  },
  {
   "cell_type": "code",
   "execution_count": 283,
   "outputs": [
    {
     "name": "stdout",
     "output_type": "stream",
     "text": [
      "[['En', 'el', 'presente', 'documento', 'se', 'resume', 'el', 'Informe', 'Público', 'Europeo', 'de', 'Evaluación', '(', 'EPAR', ')', '.'], ['En', 'él', 'se', 'explica', 'cómo', 'el', 'Comité', 'de', 'Medicamentos', 'de', 'Uso', 'Humano', '(', 'CHMP', ')', 'ha', 'evaluado', 'los', 'estudios', 'realizados', 'con', 'el', 'medicamento', 'a fin de', 'emitir', 'unas', 'recomendaciones', 'sobre', 'su', 'uso', '.'], ['Si', 'desea', 'más', 'información', 'sobre', 'su', 'enfermedad', 'o', 'el', 'tratamiento', 'de', 'la', 'misma', ',', 'le', 'aconsejamos', 'que', 'lea', 'el', 'prospecto', '(', 'incluido', 'en', 'el', 'EPAR', ')', 'o', 'pregunte', 'a', 'su', 'médico', 'o', 'su', 'farmacéutico', '.'], ['Si', 'desea', 'más', 'información', 'sobre', 'el', 'fundamento', 'en', 'el', 'que', 'se', 'han', 'basado', 'las', 'recomendaciones', 'del', 'CHMP', ',', 'le', 'aconsejamos', 'que', 'lea', 'el', 'Debate', 'Científico', '(', 'también', 'incluido', 'en', 'el', 'EPAR', ')', '.'], ['¿Qué', 'es', 'Alimta', '?'], ['Alimta', 'es', 'un', 'polvo', 'con', 'el', 'que', 'se', 'prepara', 'una', 'solución', 'para', 'perfusión', '(', 'goteo', 'en', 'vena', ')', '.'], ['Contiene', 'el', 'principio', 'activo', 'pemetrexed', '.'], ['¿Para', 'qué', 'se', 'utiliza', 'Alimta', '?'], ['Alimta', 'está', 'indicado', 'para', 'el', 'tratamiento', 'de', 'dos', 'tipos', 'de', 'cáncer', ':', 'mesotelioma', 'pleural', '(', 'cáncer', 'del', 'revestimiento', 'de', 'los', 'pulmones', 'causado', 'generalmente', 'por', 'la', 'exposición', 'al', 'amianto', ')', '.'], ['Alimta', 'se', 'administra', 'en', 'combinación', 'con', 'cisplatino', '(', 'otro', 'medicamento', 'contra', 'el', 'cáncer', ')', 'cuando', 'el', 'tumor', '«', 'no', 'es', 'resecable', '»', '(', 'no', 'puede', 'extirparse', 'sólo', 'mediante', 'cirugía', ')', 'y', 'es', '«', 'maligno', '»', '(', 'se', 'ha', 'extendido', ',', 'o', 'es', 'probable', 'que', 'se', 'extienda', 'fácilmente', ',', 'a', 'otras', 'partes', 'del', 'cuerpo', ')', ',', 'en', 'pacientes', 'que', 'no', 'han', 'recibido', 'quimioterapia', '(', 'medicamentos', 'contra', 'el', 'cáncer', ')', 'previamente', ',', 'cáncer', 'de', 'pulmón', '«', 'no', 'microcítico', '»', 'avanzado', 'o', 'metastásico', 'que', 'no', 'afecte', 'a', 'las', 'células', '«', 'escamosas', '»', '.'], ['Alimta', 'se', 'utiliza', 'en', 'combinación', 'con', 'cisplatino', 'en', 'pacientes', 'que', 'no', 'han', 'sido', 'tratados', 'previamente', 'y', 'en', 'monoterapia', 'en', 'pacientes', 'que', 'han', 'sido', 'tratado', 'previamente', 'con', 'otros', 'tipos', 'de', 'quimioterapia', '.'], ['Este', 'medicamento', 'sólo', 'podrá', 'dispensarse', 'con', 'receta', 'médica', '.'], ['¿Cómo', 'se', 'usa', 'Alimta', '?'], ['Alimta', 'sólo', 'debe', 'administrarse', 'bajo', 'la', 'supervisión', 'de', 'un', 'médico', 'cualificado', 'en', 'el', 'uso', 'de', 'quimioterapia', 'contra', 'el', 'cáncer', '.'], ['La', 'dosis', 'recomendada', 'de', 'Alimta', 'es', 'de', '500', 'mg', 'por', 'metro', 'cuadrado', 'de', 'superficie', 'corporal', '(', 'calculada', 'a partir de', 'la', 'estatura', 'y', 'el', 'peso', 'del', 'paciente', ')', '.', 'Se', 'administra', 'una', 'vez', 'cada', 'tres', 'semanas', 'por', 'perfusión', 'intravenosa', 'durante', '10', 'minutos', '.'], ['Con', 'el', 'fin', 'de', 'reducir', 'los', 'efectos', 'secundarios', ',', 'los', 'pacientes', 'deben', 'recibir', 'un', 'corticosteroide', 'y', 'ácido', 'fólico', '(', 'un', 'tipo', 'de', 'vitamina', ')', ',', 'así como', 'inyecciones', 'de', 'vitamina', 'B12', 'durante', 'el', 'tratamiento', 'con', 'Alimta', '.'], ['Cuando', 'Alimta', 'se', 'utiliza', 'conjuntamente', 'con', 'cisplatino', ',', 'hay que', 'administrar', 'además', 'un', 'medicamento', '«', 'antiemético', '»', '(', 'para', 'evitar', 'los', 'vómitos', ')', 'y', 'líquidos', '(', 'para', 'evitar', 'la', 'deshidratación', ')', 'antes', 'o', 'después de', 'la', 'dosis', 'de', 'cisplatino', '.'], ['Será', 'necesario', 'retrasar', 'o', 'suspender', 'el', 'tratamiento', ',', 'o', 'reducir', 'la', 'dosis', ',', 'en', 'pacientes', 'que', 'presenten', 'alteraciones', 'en', 'los', 'recuentos', 'sanguíneos', 'o', 'determinados', 'efectos', 'secundarios', '.'], ['No', 'se', 'recomienda', 'administrar', 'Alimta', 'a', 'pacientes', 'con', 'problemas', 'renales', 'moderados', 'o', 'graves', '.'], ['Si', 'desea', 'más', 'información', ',', 'consulte', 'el', 'Resumen', 'de', 'las', 'Características', 'del', 'Producto', ',', 'que', 'también', 'forma', 'parte', 'del', 'EPAR', '.'], ['¿Cómo', 'actúa', 'Alimta', '?'], ['El', 'principio', 'activo', 'de', 'Alimta', ',', 'el', 'pemetrexed', ',', 'es', 'un', 'medicamento', 'citotóxico', '(', 'un', 'medicamento', 'que', 'destruye', 'las', 'células', 'que', 'están', 'en', 'fase', 'de', 'división', ',', 'como', 'las', 'cancerosas', ')', 'que', 'pertenece', 'al', 'grupo', 'de', 'los', '«', 'antimetabolitos', '»', '.'], ['En', 'el', 'organismo', ',', 'el', 'pemetrexed', 'se', 'convierte', 'en', 'una', 'forma', 'activa', 'que', 'bloquea', 'la', 'actividad', 'de', 'las', 'enzimas', 'que', 'participan', 'en', 'la', 'producción', 'de', '«', 'nucleótidos', '»', '(', 'elementos', 'esenciales', 'del', 'ADN', 'y', 'el', 'ARN', ',', 'el', 'material', 'genético', 'de', 'las', 'células', ')', '.'], ['¿Qué', 'tipo', 'de', 'estudios', 'se', 'han', 'realizado', 'con', 'Alimta', '?'], ['Por', 'lo', 'que', 'se', 'refiere', 'al', 'tratamiento', 'del', 'mesotelioma', 'pleural', 'maligno', ',', 'Alimta', 'ha', 'sido', 'evaluado', 'en', 'un', 'estudio', 'principal', 'realizado', 'en', '456', 'pacientes', 'que', 'no', 'habían', 'recibido', 'quimioterapia', 'anteriormente', '.'], ['Se', 'compararon', 'los', 'efectos', 'de', 'Alimta', 'en', 'combinación', 'con', 'cisplatino', 'con', 'los', 'efectos', 'del', 'cisplatino', 'administrado', 'en', 'solitario', '.'], ['En', 'cuanto', 'al', 'tratamiento', 'del', 'cáncer', 'de', 'pulmón', 'no', 'microcítico', ',', 'se', 'compararon', 'los', 'efectos', 'de', 'Alimta', 'con', 'los', 'del', 'docetaxel', '(', 'otro', 'medicamento', 'contra', 'el', 'cáncer', ')', 'en', 'un', 'estudio', 'realizado', 'en', '571', 'pacientes', 'con', 'enfermedad', 'localmente', 'avanzada', 'o', 'metastásica', 'que', 'habían', 'recibido', 'quimioterapia', 'previamente', '.'], ['Alimta', 'también', 'se', 'comparó', 'con', 'gemcitabina', '(', 'otro', 'medicamento', 'contra', 'el', 'cáncer', ')', ',', 'ambos', 'en', 'combinación', 'con', 'cisplatino', ',', 'en', 'un', 'estudio', 'con', '1.725', 'pacientes', 'que', 'no', 'habían', 'recibido', 'quimioterapia', 'contra', 'el', 'cáncer', 'de', 'pulmón', 'previamente', '.'], ['En', 'los', 'tres', 'estudios', ',', 'el', 'criterio', 'principal', 'de', 'valoración', 'de', 'la', 'eficacia', 'fue', 'el', 'tiempo', 'de', 'supervivencia', 'de', 'los', 'pacientes', '.'], ['¿Qué', 'beneficio', 'ha', 'demostrado', 'tener', 'Alimta', 'durante', 'los', 'estudios', '?'], ['Alimta', 'prolongó', 'el', 'tiempo', 'de', 'supervivencia', 'de', 'los', 'pacientes', 'con', 'mesotelioma', 'pleural', 'maligno', '.'], ['Los', 'pacientes', 'que', 'recibieron', 'Alimta', 'y', 'cisplatino', 'sobrevivieron', 'una', 'media', 'de', '12,1', 'meses', ',', 'mientras que', 'la', 'supervivencia', 'de', 'los', 'enfermos', 'tratados', 'sólo', 'con', 'cisplatino', 'fue', 'de', '9,3', 'meses', '.'], ['En', 'el', 'tratamiento', 'de', 'pacientes', 'con', 'cáncer', 'de', 'pulmón', 'no', 'microcítico', ',', 'Alimta', 'fue', 'tan', 'efectivo', 'como', 'los', 'medicamentos', 'de', 'comparación', '.'], ['En', 'los', 'pacientes', 'que', 'habían', 'recibido', 'quimioterapia', 'previamente', ',', 'el', 'tiempo', 'medio', 'de', 'supervivencia', 'fue', 'de', '8,3', 'meses', 'con', 'Alimta', 'frente a', '7,9', 'meses', 'con', 'docetaxel', '.'], ['En', 'pacientes', 'que', 'no', 'habían', 'recibido', 'previamente', 'quimioterapia', ',', 'el', 'tiempo', 'medio', 'de', 'supervivencia', 'fue', 'de', '10,3', 'meses', 'en', 'ambos', 'grupos', '.'], ['No obstante', ',', 'los', 'pacientes', 'de', 'ambos', 'estudios', 'cuyo', 'cáncer', 'no', 'afectaba', 'a', 'las', 'células', 'escamosas', 'presentaban', 'un', 'mayor', 'tiempo', 'de', 'supervivencia', 'cuando', 'recibían', 'Alimta', 'que', 'cuando', 'recibían', 'el', 'medicamento', 'de', 'comparación', '.'], ['Por el contrario', ',', 'los', 'pacientes', 'cuyo', 'cáncer', 'estaba', 'afectando', 'a', 'las', 'células', 'escamosas', 'presentaron', 'tiempos', 'de', 'supervivencia', 'más', 'breve', 'si', 'se', 'les', 'trataba', 'con', 'Alimta', '.', 'kalgebra', 'es', 'una', 'calculadora', 'matemática', 'basada', 'en', 'el', 'lenguaje', 'de', 'marcado', 'MathML', '.'], ['Hoy', 'en', 'día', 'es', 'capaz', 'de', 'realizar', 'operaciones', 'simples', '(', 'aritméticas', 'y', 'lógicas', ')', 'usando', 'MathML', 'y', 'de', 'representarlas', 'en', 'gráficas', 'de', 'dos', 'y', 'tres', 'dimensiones', '.'], ['No', 'es', 'necesario', 'conocer', 'MathML', 'para', 'usar', 'kalgebra', '.', 'kalgebra', 'es', 'una', 'calculadora', 'gráfica', 'basada', 'en', 'MathML', '.'], ['Aunque', 'en', 'un', 'principio', 'estuvo', 'orientado', 'a', 'MathML', ',', 'actualmente', 'puede', 'ser', 'usado', 'por', 'cualquier', 'persona', ',', 'aunque', 'posea', 'pocos', 'conocimientos', 'matemáticos', '.'], ['Aquí', 'se', 'muestra', 'una', 'captura', 'de', 'la', 'ventana', 'principal', 'de', 'kalgebra', '.', 'Ventana', 'principal', 'de', 'kalgebra', 'La', 'ventana', 'principal', 'de', 'kalgebra', 'consta', 'de', 'cuatro', 'pestañas', ':', 'Consola', ',', 'Gráfica', '2D', ',', 'Gráfica', '3D', 'y', 'Diccionario', '.'], ['Bajo', 'estas', 'pestañas', 'encontrará', 'un', 'campo', 'de', 'entrada', 'donde', 'podrá', 'introducir', 'sus', 'funciones', 'o', 'realizar', 'sus', 'cálculos', '.'], ['Para', 'entender', 'cómo', 'funciona', ',', 'conviene', 'comprender', 'que', 'lo', 'que', 'introducimos', 'está', 'siendo', 'convertido', 'a', 'MathML', ',', 'aunque', 'no', 'es', 'necesario', 'conocer', 'MathML', '.'], ['He', 'basado', 'la', 'sintaxis', 'en', 'el', 'sentido', 'común', ',', 'por', 'lo', 'que', 'debería', 'ser', 'asequible', 'para', 'todos', '.'], ['He', 'tenido', 'también', 'en', 'cuenta', 'las', 'sintaxis', 'de', 'Maxima', 'y', 'Maple', ',', 'por', 'lo', 'que', 'es', 'muy', 'similar', 'a', 'estas', '.', '+', '-', '*', '/', ':', 'suma', ',', 'resta', ',', 'multiplicación', 'y', 'división', '.', '^', ',', '**', ':', 'potencia', ',', 'puede', 'usar', 'cualquiera', 'de', 'las', 'dos', 'formas', '.'], ['Asimismo', ',', 'puede', 'usar', 'los', 'caracteres', 'unicode', '²', '.'], ['Las', 'potencias', 'son', 'también', 'una', 'forma', 'de', 'expresar', 'raíces', '.', '-gt', ':', 'Permite', 'especificar', 'la', 'variable', 'limitada', 'en', 'una', 'función', '.', '(', ')', ':', 'se', 'usa', 'para', 'especificar', 'una', 'prioridad', 'mayor', '.', 'abc(parámetros)', ':', 'Cuando', 'el', 'analizador', 'sintáctico', 'encuentra', 'una', 'función', ',', 'comprueba', 'si', '«', 'abc', '»', 'es', 'un', 'operador', '.'], ['Si', 'lo', 'es', ',', 'lo', 'trata', 'como', 'un', 'operador', 'si', 'no', 'lo', 'es', ',', 'lo', 'trata', 'como', 'una', 'función', 'de', 'usuario', '.', ':', '=', ':', 'Se', 'usa', 'para', 'definir', 'el', 'valor', 'de', 'una', 'variable', '.', '?', ':', 'definición', 'de', 'condiciones', 'en', 'funciones', 'definidas', 'a', 'trozos', '(', '«', 'piecewise', '»', ')', '.'], ['Permite', 'definir', 'operaciones', 'condicionales', 'en', 'kalgebra', '.'], ['Cuando', 'introducimos', 'la', 'condición', 'antes', 'del', 'símbolo', '«', '?', '»', ',', 'kalgebra', 'utiliza', 'esta', 'condición', 'solo', 'si', 'es', 'verdadera', 'en cambio', ',', 'si', 'encuentra', 'un', 'símbolo', '«', '?', '»', 'sin', 'ninguna', 'condición', ',', 'toma', 'en', 'cuenta', 'el', 'último', 'caso', '.', '{', '}', ':', 'Puede', 'usarse', 'para', 'definir', 'un', 'contenedor', '.'], ['Es', 'muy', 'útil', 'a', 'la', 'hora', 'de', 'trabajar', 'con', 'funciones', 'definidas', 'a', 'trozos', '.'], ['Ahora', 'puede', 'preguntarme', 'por qué', 'debería', 'el', 'usuario', 'preocuparse', 'por', 'MathML', '.', 'La', 'respuesta', 'es', 'fácil', '.', 'Con', 'esto', 'podremos', 'realizar', 'operaciones', 'con', 'funciones', 'como', 'cos()', ',', 'sin()', '(', 'o', 'cualquier', 'otra', 'función', 'trigonométrica', ')', ',', 'sum()', 'o', 'product()', '.'], ['No', 'importa', 'el', 'tipo', 'de', 'función', 'que', 'sea', '.'], ['Podremos', 'usar', 'plus()', ',', 'times()', 'y', 'cualquier', 'cosa', 'a la que', 'le', 'corresponda', 'un', 'operador', '.', 'La', 'consola', 'de', 'kalgebra', 'es', 'tan', 'útil', 'como', 'una', 'calculadora', '.'], ['Aquí', 'tiene', 'una', 'lista', 'de', 'las', 'variables', 'declaradas', '.'], ['Si', 'pulsa', 'dos', 'veces', 'sobre', 'una', 'de', 'ellas', ',', 'le', 'aparecerá', 'un', 'diálogo', 'con', 'el', 'que', 'podrá', 'cambiar', 'su', 'valor', '(', 'es', 'una', 'forma', 'de', 'engañar', 'al', 'registro', ')', '.'], ['Cada vez que', 'introduzca', 'una', 'expresión', ',', 'el', 'valor', 'de', 'la', 'variable', '«', 'ans', '»', 'cambiará', 'para', 'reproducir', 'el', 'último', 'resultado', '.'], ['Ctrl', 'N', 'Nuevo'], ['Refresca', 'el', 'registro', '.'], ['Ctrl', 'L', 'Cargar', 'un', 'guión'], ['Ejecuta', 'las', 'instrucciones', 'en', 'una', 'archivo', 'de', 'forma', 'secuencial', '.'], ['Es', 'útil', 'si', 'lo', 'que', 'desea', 'es', 'definir', 'una', 'biblioteca', 'o', 'reanudar', 'un', 'trabajo', 'anterior', '.'], ['Ctrl', 'G', 'Guardar', 'el', 'guión'], ['Guarda', 'las', 'intrucciones', 'que', 'ha', 'introducido', 'desde', 'que', 'comenzó', 'la', 'sesión', ',', 'con', 'lo', 'que', 'podrá', 'reutilizarlas', '.'], ['Genera', 'un', 'archivo', 'de', 'texto', 'que', 'podrá', 'corregir', 'usando', 'cualquier', 'editor', 'de', 'texto', ',', 'por ejemplo', 'Kate', '.'], ['Ctrl', 'S', 'Guardar', 'el', 'registro'], ['Guarda', 'el', 'registro', 'con', 'todos', 'los', 'resultados', 'en', 'un', 'archivo', 'HTML', 'que', 'podrá', 'imprimir', 'o', 'publicar', '.'], ['Ctrl', 'Q', 'Salir'], ['Cierra', 'el', 'programa', '.'], ['Para', 'añadir', 'un', 'gráfica', '2D', 'en', 'kalgebra', ',', 'lo', 'que', 'tiene que', 'hacer', 'es', 'ir', 'a', 'la', 'pestaña', 'Gráfica', '2D', 'y', 'aquí', 'pulsar', 'la', 'pestaña', 'Añadir', ',', 'que', 'le', 'permitirá', 'añadir', 'una', 'nueva', 'función', '.'], ['A', 'continuación', 'tendrá', 'dirigirse', 'al', 'cuadro', 'de', 'texto', 'de', 'entrada', ',', 'donde', 'podrá', 'introducir', 'su', 'función', '.'], ['Si', 'quiere', 'usar', 'una', 'función', 'f(x)', 'típica', ',', 'no', 'es', 'necesario', 'que', 'la', 'especifique', '.'], ['Después de', 'haber', 'introducido', 'la', 'función', ',', 'pulse', 'el', 'botón', 'Aceptar', 'para', 'dibujar', 'la', 'gráfica', 'en', 'la', 'ventana', 'principal', '.'], ['Es', 'posible', 'dibujar', 'varias', 'gráficas', 'en', 'la', 'misma', 'vista', '.'], ['Para', 'esto', 'use', 'simplemente', 'el', 'botón', 'Añadir', 'cuando', 'se', 'encuentre', 'en', 'el', 'modo', 'Lista', '.'], ['Puede', 'ajustar', 'el', 'color', 'de', 'cada', 'gráfica', '.'], ['La', 'Fundación', 'ha', 'intervenido', 'recientemente', 'en', 'la', 'organización', 'de', 'una', 'conferencia', 'sobre', 'este', 'decisivo', 'reto', '.'], ['Asistieron', 'más', 'de', '100', 'participantes', 'en', 'representación', 'de', 'los', 'principales', 'grupos', 'de', 'interés', ',', 'los', 'cuales', 'discutieron', 'cuestiones', 'tales', 'como', 'el', 'papel', 'de', 'los', 'principales', 'agentes', ',', 'entre', 'ellos', ',', 'las', 'autoridades', 'públicas', ',', 'los', 'interlocutores', 'sociales', 'y', 'las', 'organizaciones', 'comunitarias', 'y', 'de', 'voluntarios', ',', 'además', 'de', 'los', 'propios', 'usuarios', '.'], ['Se', 'llegó', 'a', 'la', 'conclusión', 'de', 'que', 'es', 'necesario', 'adoptar', 'un', 'enfoque', 'más', 'global', 'que', 'tenga en cuenta', 'que', 'los', 'usuarios', 'no', 'se', 'sirven', 'de', 'esos', 'servicios', 'de', 'forma', 'aislada', ',', 'sino', 'como', 'parte', 'de', 'su', 'vida', 'cotidiana', '.'], ['Se', 'tomó', 'nota', 'también', 'de', 'la', 'diversidad', 'de', 'funciones', 'que', 'desempeñan', 'estos', 'servicios'], ['La', 'Fundación', 'organizó', ',', 'junto con', 'la', 'Comisión', 'Europea', ',', 'el', 'Ministerio', 'español', 'de', 'Asuntos', 'Sociales', 'y', 'la', 'Comunidad', 'Autónoma', 'de', 'Galicia', ',', 'una', 'conferencia', 'europea', 'sobre', 'el', 'tema', '\"\"\"\"', 'Exclusión', 'social', ':', 'Un', 'gran', 'reto', 'para', 'los', 'servicios', 'públicos', 'de', 'protección', 'social', '\"\"\"\"', '.'], ['La', 'Fundación', 'publicó', 'recientemente', 'en', 'el', 'marco', 'del', 'proyecto', 'EPOC', 'un', 'estudio', 'comparativo', 'en', 'el', 'que', 'se', 'evalúa', 'hasta', 'qué', 'punto', 'la', 'participación', 'directa', 'puede', 'humanizar', 'el', 'trabajo', 'e', 'incrementar', 'al mismo tiempo', 'la', 'rentabilidad', '.'], ['El', 'estudio', 'se', 'basa', 'en', '195', 'entrevistas', 'personales', 'con', 'altos', 'responsables', 'de', 'los', 'interlocutores', 'sociales', ',', 'en', 'su', 'calidad', 'de', 'representantes', 'de', 'importantes', 'organizaciones', 'nacionales', 'de', '15', 'países', 'europeos', '.'], ['La', 'industria', 'del', 'metal', 'y', 'el', 'sector', 'bancario', 'se', 'incluyeron', 'también', 'en', 'atención', 'a', 'su', 'importancia', '.'], ['Los', 'principales', 'oradores', 'en', 'la', 'conferencia', 'sobre', 'exclusión', 'socialfueron', '(', 'de', 'izquierda', 'a', 'derecha', ')', 'Cristina', 'Louro', ',', 'Dirección', 'General', 'de', 'Empleo', ',', 'Relaciones', 'Laborales', 'y', 'Asuntos', 'Sociales', 'de', 'la', 'Comisión', 'Europea', 'Fernando', 'Gomes', ',', 'Comité', 'de', 'las', 'Regiones', 'Barbara', 'Weiler', ',', 'diputada', 'al', 'Parlamento', 'Europeo', 'José', 'María', 'Gil-Robles', 'Gil-Delgado', ',', 'Vicepresidente', ',', 'Parlamento', 'Europeo', ',', 'John', 'Carroll', 'Comité', 'Económico', 'y', 'Social'], ['En', 'cada', 'informe', 'nacional', 'se', 'incluyen', 'las', '25', 'o', '30', 'iniciativas', 'que', 'mejor', 'reflejan', 'prácticas', 'y', 'políticas', 'de', 'mejora', 'de', 'la', 'contratación', ',', 'la', 'formación', 'y', 'el', 'desarrollo', 'profesional', 'de', 'los', 'trabajadores', 'mayores', 'en', 'el', 'lugar', 'de', 'trabajo', 'y', 'a nivel de', 'la', 'comunidad', '.'], ['Se', 'seleccionaron', 'dos', 'o', 'tres', 'iniciativas', 'por', 'cada', 'país', ',', 'para', 'que', 'fueran', 'objeto', 'de', 'un', 'estudio', 'de', 'caso', 'detallado', '.'], ['En', 'estos', 'estudios', 'de', 'caso', 'se', 'han', 'analizado', 'el', 'contexto', 'de', 'esas', 'iniciativas', 'y', 'sus', 'repercusiones', 'en', 'las', 'pautas', 'de', 'empleo', 'y', 'en', 'las', 'organizaciones', ',', 'y', 'se', 'han', 'evaluado', 'las', 'ventajas', 'y', 'problemas', 'derivados', 'de', 'las', 'mismas', '.'], ['Se', 'han', 'realizado', 'además', 'visitas', 'y', 'entrevistas', 'a', 'miembros', 'clave', 'del', 'personal', '.'], ['Estos', 'estudios', 'nacionales', 'constituirán', 'la', 'liase', 'de', 'un', 'informe', 'europeo', 'en', 'el', 'que', 'se', 'resumirán', 'las', 'prácticas', 'generales', '.'], ['El', 'informe', 'y', 'un', 'repertorio', 'de', 'iniciativas', 'se', 'publicarán', 'en', '1996', ',', 'y', 'servirán', 'de', 'telón', 'de', 'fondo', 'a', 'una', 'conferencia', 'que', 'se', 'celebrará', 'el', 'próximo', 'otoño', '.'], ['La', 'Fundación', 'se', 'propone', 'documentar', 'las', 'características', 'de', 'los', 'obstáculos', 'relacionados', 'con', 'la', 'edad', 'en', 'materia', 'de', 'contratación', 'y', 'formación', ',', 'y', 'analizar', 'sus', 'causas', '.'], ['Está', 'examinando', 'asimismo', 'los', 'puntos', 'de', 'vista', 'de', 'los', 'interlocutores', 'sociales', ',', 'prestando', 'especial', 'atención', 'a', 'las', 'propuestas', 'para', 'eliminar', 'dichos', 'obstáculos', '.'], ['En', 'tercer', 'lugar', ',', 'el', 'proyecto', 'documenta', 'y', 'evalúa', 'las', 'iniciativas', 'de', 'los', 'sectores', 'público', 'y', 'privado', 'para', 'combatir', 'estas', 'limitaciones', ',', 'especialmente', 'en relación con', 'los', 'trabajadores', 'mayores', '.'], ['El', 'proyecto', ',', 'que', 'busca', 'alternativas', 'a', 'la', 'jubilación', 'anticipada', 'y', 'al', 'despido', ',', 'se', 'ocupa', 'ante', 'todo', 'de', 'la', 'retención', ',', 'la', 'reintegración', 'y', 'la', 'reconversión', 'profesional', 'de', 'los', 'trabajadores', 'mayores', '.'], ['Estudia', 'asimismo', 'liasta', 'qué', 'punto', 'influyen', 'el', 'sexo', 'y', 'la', 'raza', 'de', 'los', 'trabajadores', 'en', 'la', 'discriminación', 'por', 'razón', 'de', 'la', 'edad', '.'], ['El', 'proyecto', 'tiene', 'en', 'cuenta', ',', 'por', 'otra', 'paite', ',', 'las', 'iniciativas', 'para', 'luchar', 'contra', 'esta', 'clase', 'de', 'discriminación', 'en', 'las', 'zonas', 'rurales', 'y', 'en', 'las', 'pequeñas', 'y', 'medianas', 'empresas', '.'], ['Siete', 'Estados', 'miembros', 'se', 'incluyen', 'en', 'el', 'proyecto', ':', 'Alemania', ',', 'Bélgica', ',', 'Francia', ',', 'Grecia', ',', 'Italia', ',', 'Países Bajos', 'y', 'Reino Unido', '.'], ['Resumen', 'del', 'EPAR', 'para', 'el', 'público', 'general', 'En', 'el', 'presente', 'documento', 'se', 'resume', 'el', 'Informe', 'Público', 'Europeo', 'de', 'Evaluación', ',', 'y', 'se', 'explica', 'cómo', 'la', 'evaluación', 'del', 'Comité', 'de', 'Medicamentos', 'de', 'Uso', 'Veterinario', '(', 'CVMP', ')', ',', 'efectuada', 'a partir de', 'los', 'estudios', 'existentes', ',', 'ha', 'llevado', 'a', 'las', 'recomendaciones', 'sobre', 'las', 'condiciones', 'de', 'uso', 'del', 'medicamento', '.'], ['¿Qué', 'es', 'Cerenia', '?'], ['Cerenia', 'contiene', 'el', 'principio', 'activo', 'maropitant', 'y', 'se', 'presenta', 'en', 'forma', 'de', 'comprimidos', 'o', 'de', 'solución', 'inyectables', '.'], ['Los', 'comprimidos', 'son', 'de', 'color', 'naranja', 'claro', 'y', 'tienen', 'una', 'ranura', 'en', 'ambas', 'caras', ',', 'lo', 'que', 'permite', 'dividirlos', 'por', 'la', 'mitad', '.'], ['Cada', 'comprimido', 'va', 'marcado', 'con', 'el', 'logo', 'Pfizer', 'en', 'una', 'cara', 'y', 'las', 'letras', 'MPT', 'y', 'la', 'cantidad', 'de', 'maropitant', 'en', 'la', 'otra', '.'], ['¿Para', 'qué', 'se', 'utiliza', 'Cerenia', '?'], ['Cerenia', 'es', 'un', 'antiemético', '(', 'ataja', 'los', 'vómitos', ')', '.'], ['Se', 'utiliza', 'en', 'perros', 'para', 'la', 'prevención', 'de', 'los', 'vómitos', ',', 'por ejemplo', 'los', 'causados', 'por', 'la', 'quimioterapia', '(', 'fármacos', 'utilizados', 'para', 'el', 'tratamiento', 'del', 'cáncer', ',', 'algunos', 'de', 'los', 'cuales', 'producen', 'vómitos', ')', '.'], ['Combinado', 'con', 'otras', 'medidas', 'complementarias', ',', 'como', 'otros', 'tratamientos', 'veterinarios', 'o', 'una', 'dieta', 'especial', ',', 'Cerenia', 'se', 'utiliza', 'también', 'como', 'tratamiento', 'del', 'vómito', '(', 'como', 'inyección', 'o', 'como', 'inyección', 'seguida', 'de', 'comprimidos', ')', '.'], ['A', 'estos', 'efectos', ',', 'Cerenia', 'se', 'puede', 'administrar', 'durante', 'un', 'período', 'de', 'hasta', 'cinco', 'días', '.'], ['¿Cómo', 'actúa', 'Cerenia', '?'], ['Cerenia', 'bloquea', 'los', 'receptores', 'de', 'neurocinina', '1', '(', 'NK1', ')', 'en', 'el', 'sistema', 'nervioso', 'central', '.'], ['¿Qué', 'tipo', 'de', 'estudios', 'se', 'han', 'realizado', 'sobre', 'Cerenia', '?'], ['Se', 'han', 'realizado', 'una', 'gran', 'cantidad', 'de', 'estudios', 'con', 'Cerenia', 'en', 'perros', 'de', 'laboratorio', 'y', 'en', 'perros', 'pacientes', 'de', 'clínicas', 'veterinarias', 'de', 'varios', 'países', 'europeos', 'y', 'de', 'EE.UU.'], ['¿Qué', 'beneficios', 'ha', 'demostrado', 'Cerenia', 'durante', 'dichos', 'estudios', '?'], ['Los', 'resultados', 'de', 'los', 'estudios', 'demostraron', 'que', 'Cerenia', 'fue', 'más', 'eficaz', 'que', 'el', 'placebo', ':', 'se', 'observaron', 'menos', 'vómitos', 'en', 'los', 'perros', 'que', 'recibieron', 'el', 'medicamento', 'que', 'en', 'los', 'perros', 'que', 'recibieron', 'placebo', ',', 'bien', 'como', 'tratamiento', ',', 'bien', 'como', 'prevención', 'del', 'vómito', '.'], ['El', 'tratamiento', 'de', 'un', 'perro', 'con', 'vómitos', 'debe', 'iniciarse', 'en', 'forma', 'inyectable', 'puesto que', 'los', 'animales', 'con', 'vómitos', 'podrían', 'no', 'retener', 'el', 'comprimido', '(', 'podrían', 'vomitar', 'el', 'comprimido', 'intacto', ')', '.'], ['Para', 'la', 'continuación', 'del', 'tratamiento', ',', 'el', 'propietario', 'puede', 'administrar', 'el', 'medicamento', 'al', 'animal', 'en', 'forma', 'de', 'comprimidos', '.'], ['El', 'tratamiento', 'del', 'vómito', 'debe', 'realizarse', 'siempre', 'en', 'asociación', 'con', 'otras', 'medidas', 'de', 'apoyo', 'u', 'otros', 'tratamientos', 'veterinarios', 'para', 'combatir', 'también', 'la', 'causa', 'subyacente', 'del', 'vómito', '.'], ['¿Cuáles', 'son', 'los', 'efectos', 'secundarios', 'de', 'Cerenia', '?'], ['En general', ',', 'Cerenia', 'fue', 'bien', 'tolerado', 'cuando', 'se', 'administró', 'diariamente', 'a', 'dosis', 'de', 'hasta', '5', 'veces', 'la', 'dosis', 'recomendada', 'durante', 'un', 'período', 'de', 'tiempo', 'prolongado', '(', 'hasta', '3', 'veces', 'la', 'duración', 'máxima', 'recomendada', 'del', 'tratamiento', ')', '.'], ['¿Qué', 'precauciones', 'debe', 'adoptar', 'la', 'persona', 'que', 'administre', 'el', 'medicamento', 'o', 'esté', 'en', 'contacto', 'con', 'el', 'animal', '?'], ['Cerenia', 'no', 'presenta', 'ningún', 'riesgo', 'especial', 'para', 'el', 'ser', 'humano', '.']]\n"
     ]
    }
   ],
   "source": [
    "# Italian token sequences\n",
    "idxes = tkns_df['Token ID'].tolist()\n",
    "tokens = tkns_df['Token'].tolist()\n",
    "\n",
    "tgt_sents = []\n",
    "pre_sid = None\n",
    "s = []\n",
    "for i, t in zip(idxes, tokens):\n",
    "    sid = i.split('.')[1]\n",
    "    if sid != pre_sid:\n",
    "        if s:\n",
    "            tgt_sents.append(s)\n",
    "        pre_sid = sid\n",
    "        s = [t]\n",
    "    else:\n",
    "        s.append(t)\n",
    "tgt_sents.append(s)\n",
    "len(tgt_sents)\n",
    "print(tgt_sents)"
   ],
   "metadata": {
    "collapsed": false,
    "ExecuteTime": {
     "end_time": "2024-07-29T22:51:19.122254Z",
     "start_time": "2024-07-29T22:51:19.013196Z"
    }
   },
   "id": "518ec95ddd6db19"
  },
  {
   "cell_type": "code",
   "execution_count": 284,
   "outputs": [
    {
     "name": "stdout",
     "output_type": "stream",
     "text": [
      "['Está', 'examinando', 'asimismo', 'los', 'puntos', 'de', 'vista', 'de', 'los', 'interlocutores', 'sociales', ',', 'prestando', 'especial', 'atención', 'a', 'las', 'propuestas', 'para', 'eliminar', 'dichos', 'obstáculos', '.']\n"
     ]
    }
   ],
   "source": [
    "print(tgt_sents[92])"
   ],
   "metadata": {
    "collapsed": false,
    "ExecuteTime": {
     "end_time": "2024-07-29T22:51:19.123462Z",
     "start_time": "2024-07-29T22:51:19.018245Z"
    }
   },
   "id": "cba97c84c3337f7e"
  },
  {
   "cell_type": "code",
   "execution_count": 285,
   "outputs": [
    {
     "name": "stderr",
     "output_type": "stream",
     "text": [
      "100%|██████████| 121/121 [00:58<00:00,  2.07it/s]\n"
     ]
    }
   ],
   "source": [
    "# do the alignment\n",
    "aligns = []\n",
    "for en_s, tgt_s in zip(tqdm(en_sents), tgt_sents):\n",
    "    # print(en_s,tgt_s,'\\n')\n",
    "    alignments = aligner.get_word_aligns(en_s, tgt_s)\n",
    "    align = ''\n",
    "    for w1, w2 in alignments[mode]:\n",
    "        align += f'{w1}-{w2} '\n",
    "    align = align.strip()\n",
    "    aligns.append(align)"
   ],
   "metadata": {
    "collapsed": false,
    "ExecuteTime": {
     "end_time": "2024-07-29T22:52:17.557014Z",
     "start_time": "2024-07-29T22:51:19.024260Z"
    }
   },
   "id": "5d6f1f0ac368d047"
  },
  {
   "cell_type": "code",
   "execution_count": 286,
   "outputs": [
    {
     "data": {
      "text/plain": "'0-2 1-3 2-4 6-6 7-9 8-8 9-11 10-7 11-12 12-13 13-14 14-15'"
     },
     "execution_count": 286,
     "metadata": {},
     "output_type": "execute_result"
    }
   ],
   "source": [
    "aligns[0]"
   ],
   "metadata": {
    "collapsed": false,
    "ExecuteTime": {
     "end_time": "2024-07-29T22:52:17.569780Z",
     "start_time": "2024-07-29T22:52:17.557985Z"
    }
   },
   "id": "ccfce3cfa0a1f17d"
  },
  {
   "cell_type": "code",
   "execution_count": 287,
   "outputs": [
    {
     "name": "stdout",
     "output_type": "stream",
     "text": [
      "121\n"
     ]
    },
    {
     "data": {
      "text/plain": "          ID                                           Sentence  \\\n0  d001.s001  En el presente documento se resume el Informe ...   \n1  d001.s002  En él se explica cómo el Comité de Medicamento...   \n2  d001.s003  Si desea más información sobre su enfermedad o...   \n3  d001.s004  Si desea más información sobre el fundamento e...   \n4  d001.s005                                   ¿Qué es Alimta ?   \n\n                           English-Spanish Alignment  \n0  0-2 1-3 2-4 6-6 7-9 8-8 9-11 10-7 11-12 12-13 ...  \n1  0-1 1-3 2-4 3-5 4-6 5-7 6-8 6-11 7-8 8-9 9-11 ...  \n2  0-0 2-1 3-2 4-3 5-4 6-5 8-6 9-7 11-9 12-13 13-...  \n3  0-0 2-1 3-2 4-3 5-4 6-5 7-6 10-16 11-14 12-17 ...  \n4                                    0-0 1-1 2-2 3-3  ",
      "text/html": "<div>\n<style scoped>\n    .dataframe tbody tr th:only-of-type {\n        vertical-align: middle;\n    }\n\n    .dataframe tbody tr th {\n        vertical-align: top;\n    }\n\n    .dataframe thead th {\n        text-align: right;\n    }\n</style>\n<table border=\"1\" class=\"dataframe\">\n  <thead>\n    <tr style=\"text-align: right;\">\n      <th></th>\n      <th>ID</th>\n      <th>Sentence</th>\n      <th>English-Spanish Alignment</th>\n    </tr>\n  </thead>\n  <tbody>\n    <tr>\n      <th>0</th>\n      <td>d001.s001</td>\n      <td>En el presente documento se resume el Informe ...</td>\n      <td>0-2 1-3 2-4 6-6 7-9 8-8 9-11 10-7 11-12 12-13 ...</td>\n    </tr>\n    <tr>\n      <th>1</th>\n      <td>d001.s002</td>\n      <td>En él se explica cómo el Comité de Medicamento...</td>\n      <td>0-1 1-3 2-4 3-5 4-6 5-7 6-8 6-11 7-8 8-9 9-11 ...</td>\n    </tr>\n    <tr>\n      <th>2</th>\n      <td>d001.s003</td>\n      <td>Si desea más información sobre su enfermedad o...</td>\n      <td>0-0 2-1 3-2 4-3 5-4 6-5 8-6 9-7 11-9 12-13 13-...</td>\n    </tr>\n    <tr>\n      <th>3</th>\n      <td>d001.s004</td>\n      <td>Si desea más información sobre el fundamento e...</td>\n      <td>0-0 2-1 3-2 4-3 5-4 6-5 7-6 10-16 11-14 12-17 ...</td>\n    </tr>\n    <tr>\n      <th>4</th>\n      <td>d001.s005</td>\n      <td>¿Qué es Alimta ?</td>\n      <td>0-0 1-1 2-2 3-3</td>\n    </tr>\n  </tbody>\n</table>\n</div>"
     },
     "execution_count": 287,
     "metadata": {},
     "output_type": "execute_result"
    }
   ],
   "source": [
    "print(len(aligns))\n",
    "trans_df['English-'+language+' Alignment'] = aligns\n",
    "trans_df.head()"
   ],
   "metadata": {
    "collapsed": false,
    "ExecuteTime": {
     "end_time": "2024-07-29T22:52:17.574694Z",
     "start_time": "2024-07-29T22:52:17.569396Z"
    }
   },
   "id": "c9f6bf5b055261f2"
  },
  {
   "cell_type": "code",
   "execution_count": 288,
   "outputs": [
    {
     "name": "stdout",
     "output_type": "stream",
     "text": [
      "121\n"
     ]
    },
    {
     "data": {
      "text/plain": "          ID                                           Sentence  \\\n0  d001.s001  En el presente documento se resume el Informe ...   \n1  d001.s002  En él se explica cómo el Comité de Medicamento...   \n2  d001.s003  Si desea más información sobre su enfermedad o...   \n3  d001.s004  Si desea más información sobre el fundamento e...   \n4  d001.s005                                   ¿Qué es Alimta ?   \n\n                           English-Spanish Alignment  \n0  0-2 1-3 2-4 6-6 7-9 8-8 9-11 10-7 11-12 12-13 ...  \n1  0-1 1-3 2-4 3-5 4-6 5-7 6-8 6-11 7-8 8-9 9-11 ...  \n2  0-0 2-1 3-2 4-3 5-4 6-5 8-6 9-7 11-9 12-13 13-...  \n3  0-0 2-1 3-2 4-3 5-4 6-5 7-6 10-16 11-14 12-17 ...  \n4                                    0-0 1-1 2-2 3-3  ",
      "text/html": "<div>\n<style scoped>\n    .dataframe tbody tr th:only-of-type {\n        vertical-align: middle;\n    }\n\n    .dataframe tbody tr th {\n        vertical-align: top;\n    }\n\n    .dataframe thead th {\n        text-align: right;\n    }\n</style>\n<table border=\"1\" class=\"dataframe\">\n  <thead>\n    <tr style=\"text-align: right;\">\n      <th></th>\n      <th>ID</th>\n      <th>Sentence</th>\n      <th>English-Spanish Alignment</th>\n    </tr>\n  </thead>\n  <tbody>\n    <tr>\n      <th>0</th>\n      <td>d001.s001</td>\n      <td>En el presente documento se resume el Informe ...</td>\n      <td>0-2 1-3 2-4 6-6 7-9 8-8 9-11 10-7 11-12 12-13 ...</td>\n    </tr>\n    <tr>\n      <th>1</th>\n      <td>d001.s002</td>\n      <td>En él se explica cómo el Comité de Medicamento...</td>\n      <td>0-1 1-3 2-4 3-5 4-6 5-7 6-8 6-11 7-8 8-9 9-11 ...</td>\n    </tr>\n    <tr>\n      <th>2</th>\n      <td>d001.s003</td>\n      <td>Si desea más información sobre su enfermedad o...</td>\n      <td>0-0 2-1 3-2 4-3 5-4 6-5 8-6 9-7 11-9 12-13 13-...</td>\n    </tr>\n    <tr>\n      <th>3</th>\n      <td>d001.s004</td>\n      <td>Si desea más información sobre el fundamento e...</td>\n      <td>0-0 2-1 3-2 4-3 5-4 6-5 7-6 10-16 11-14 12-17 ...</td>\n    </tr>\n    <tr>\n      <th>4</th>\n      <td>d001.s005</td>\n      <td>¿Qué es Alimta ?</td>\n      <td>0-0 1-1 2-2 3-3</td>\n    </tr>\n  </tbody>\n</table>\n</div>"
     },
     "execution_count": 288,
     "metadata": {},
     "output_type": "execute_result"
    }
   ],
   "source": [
    "# output\n",
    "print(len(aligns))\n",
    "trans_df['English-'+language+' Alignment'] = aligns\n",
    "trans_df.head()"
   ],
   "metadata": {
    "collapsed": false,
    "ExecuteTime": {
     "end_time": "2024-07-29T22:52:17.632310Z",
     "start_time": "2024-07-29T22:52:17.581027Z"
    }
   },
   "id": "ca915db44f34710b"
  },
  {
   "cell_type": "code",
   "execution_count": 289,
   "outputs": [],
   "source": [
    "trans_df.to_csv(ALIGN_SENT_FILE, sep='\\t', index=False)"
   ],
   "metadata": {
    "collapsed": false,
    "ExecuteTime": {
     "end_time": "2024-07-29T22:52:17.633861Z",
     "start_time": "2024-07-29T22:52:17.588526Z"
    }
   },
   "id": "c1399438fa263261"
  },
  {
   "cell_type": "markdown",
   "source": [],
   "metadata": {
    "collapsed": false,
    "ExecuteTime": {
     "end_time": "2024-07-20T00:26:58.685090Z",
     "start_time": "2024-07-20T00:26:58.668497Z"
    }
   },
   "id": "b6729b5a32fd85f2"
  },
  {
   "cell_type": "markdown",
   "source": [
    "# ALIGN TOKENS IN TOKEN FILE"
   ],
   "metadata": {
    "collapsed": false,
    "ExecuteTime": {
     "end_time": "2024-07-20T00:26:59.328824Z",
     "start_time": "2024-07-20T00:26:59.273476Z"
    }
   },
   "id": "7912a9624f4b8438"
  },
  {
   "cell_type": "code",
   "execution_count": 290,
   "outputs": [
    {
     "data": {
      "text/plain": "         Token ID      Token      Lemma POS\n0  d001.s001.t001         En        NaN   X\n1  d001.s001.t002         el        NaN   X\n2  d001.s001.t003   presente   presente   J\n3  d001.s001.t004  documento  documento   N\n4  d001.s001.t005         se        NaN   X",
      "text/html": "<div>\n<style scoped>\n    .dataframe tbody tr th:only-of-type {\n        vertical-align: middle;\n    }\n\n    .dataframe tbody tr th {\n        vertical-align: top;\n    }\n\n    .dataframe thead th {\n        text-align: right;\n    }\n</style>\n<table border=\"1\" class=\"dataframe\">\n  <thead>\n    <tr style=\"text-align: right;\">\n      <th></th>\n      <th>Token ID</th>\n      <th>Token</th>\n      <th>Lemma</th>\n      <th>POS</th>\n    </tr>\n  </thead>\n  <tbody>\n    <tr>\n      <th>0</th>\n      <td>d001.s001.t001</td>\n      <td>En</td>\n      <td>NaN</td>\n      <td>X</td>\n    </tr>\n    <tr>\n      <th>1</th>\n      <td>d001.s001.t002</td>\n      <td>el</td>\n      <td>NaN</td>\n      <td>X</td>\n    </tr>\n    <tr>\n      <th>2</th>\n      <td>d001.s001.t003</td>\n      <td>presente</td>\n      <td>presente</td>\n      <td>J</td>\n    </tr>\n    <tr>\n      <th>3</th>\n      <td>d001.s001.t004</td>\n      <td>documento</td>\n      <td>documento</td>\n      <td>N</td>\n    </tr>\n    <tr>\n      <th>4</th>\n      <td>d001.s001.t005</td>\n      <td>se</td>\n      <td>NaN</td>\n      <td>X</td>\n    </tr>\n  </tbody>\n</table>\n</div>"
     },
     "execution_count": 290,
     "metadata": {},
     "output_type": "execute_result"
    }
   ],
   "source": [
    "tkns_df.head()\n"
   ],
   "metadata": {
    "collapsed": false,
    "ExecuteTime": {
     "end_time": "2024-07-29T22:52:17.667895Z",
     "start_time": "2024-07-29T22:52:17.601237Z"
    }
   },
   "id": "7f494bb7b47b2faa"
  },
  {
   "cell_type": "code",
   "execution_count": 291,
   "outputs": [
    {
     "data": {
      "text/plain": "         Token ID     Token     Lemma   POS     BN Synset\n0             NaN      This      this   DET           NaN\n1  d001.s001.t001  document  document  NOUN  bn:00028015n\n2             NaN        is        be  VERB           NaN\n3             NaN         a         a   DET           NaN\n4  d001.s001.t002   summary   summary  NOUN  bn:00075142n",
      "text/html": "<div>\n<style scoped>\n    .dataframe tbody tr th:only-of-type {\n        vertical-align: middle;\n    }\n\n    .dataframe tbody tr th {\n        vertical-align: top;\n    }\n\n    .dataframe thead th {\n        text-align: right;\n    }\n</style>\n<table border=\"1\" class=\"dataframe\">\n  <thead>\n    <tr style=\"text-align: right;\">\n      <th></th>\n      <th>Token ID</th>\n      <th>Token</th>\n      <th>Lemma</th>\n      <th>POS</th>\n      <th>BN Synset</th>\n    </tr>\n  </thead>\n  <tbody>\n    <tr>\n      <th>0</th>\n      <td>NaN</td>\n      <td>This</td>\n      <td>this</td>\n      <td>DET</td>\n      <td>NaN</td>\n    </tr>\n    <tr>\n      <th>1</th>\n      <td>d001.s001.t001</td>\n      <td>document</td>\n      <td>document</td>\n      <td>NOUN</td>\n      <td>bn:00028015n</td>\n    </tr>\n    <tr>\n      <th>2</th>\n      <td>NaN</td>\n      <td>is</td>\n      <td>be</td>\n      <td>VERB</td>\n      <td>NaN</td>\n    </tr>\n    <tr>\n      <th>3</th>\n      <td>NaN</td>\n      <td>a</td>\n      <td>a</td>\n      <td>DET</td>\n      <td>NaN</td>\n    </tr>\n    <tr>\n      <th>4</th>\n      <td>d001.s001.t002</td>\n      <td>summary</td>\n      <td>summary</td>\n      <td>NOUN</td>\n      <td>bn:00075142n</td>\n    </tr>\n  </tbody>\n</table>\n</div>"
     },
     "execution_count": 291,
     "metadata": {},
     "output_type": "execute_result"
    }
   ],
   "source": [
    "aligned_tks_df = pd.read_csv(RAW_SENSE_TSV, delimiter='\\t', quoting=csv.QUOTE_NONE)\n",
    "aligned_tks_df.head()"
   ],
   "metadata": {
    "collapsed": false,
    "ExecuteTime": {
     "end_time": "2024-07-29T22:52:17.696587Z",
     "start_time": "2024-07-29T22:52:17.607051Z"
    }
   },
   "id": "8b05842023dacc1b"
  },
  {
   "cell_type": "code",
   "execution_count": 292,
   "outputs": [],
   "source": [
    "aligned_tks_df['Token ID '+tgt_lan] = None\n",
    "aligned_tks_df['Token '+tgt_lan] = None\n",
    "aligned_tks_df['Lemma '+tgt_lan] = None\n",
    "aligned_tks_df['POS '+tgt_lan] = None\n",
    "aligned_tks_df['Sense '+tgt_lan] = None"
   ],
   "metadata": {
    "collapsed": false,
    "ExecuteTime": {
     "end_time": "2024-07-29T22:52:17.696741Z",
     "start_time": "2024-07-29T22:52:17.622462Z"
    }
   },
   "id": "cf87633624b64662"
  },
  {
   "cell_type": "code",
   "execution_count": 293,
   "outputs": [
    {
     "name": "stdout",
     "output_type": "stream",
     "text": [
      "2725\n"
     ]
    }
   ],
   "source": [
    "aligned_tks_df.head()\n",
    "print(len(aligned_tks_df['Token']))"
   ],
   "metadata": {
    "collapsed": false,
    "ExecuteTime": {
     "end_time": "2024-07-29T22:52:17.696907Z",
     "start_time": "2024-07-29T22:52:17.627777Z"
    }
   },
   "id": "96cb23c1328bebd2"
  },
  {
   "cell_type": "code",
   "execution_count": 294,
   "outputs": [
    {
     "data": {
      "text/plain": "          ID                                           Sentence  \\\n0  d001.s001  En el presente documento se resume el Informe ...   \n1  d001.s002  En él se explica cómo el Comité de Medicamento...   \n2  d001.s003  Si desea más información sobre su enfermedad o...   \n3  d001.s004  Si desea más información sobre el fundamento e...   \n4  d001.s005                                   ¿Qué es Alimta ?   \n\n                           English-Spanish Alignment  \n0  0-2 1-3 2-4 6-6 7-9 8-8 9-11 10-7 11-12 12-13 ...  \n1  0-1 1-3 2-4 3-5 4-6 5-7 6-8 6-11 7-8 8-9 9-11 ...  \n2  0-0 2-1 3-2 4-3 5-4 6-5 8-6 9-7 11-9 12-13 13-...  \n3  0-0 2-1 3-2 4-3 5-4 6-5 7-6 10-16 11-14 12-17 ...  \n4                                    0-0 1-1 2-2 3-3  ",
      "text/html": "<div>\n<style scoped>\n    .dataframe tbody tr th:only-of-type {\n        vertical-align: middle;\n    }\n\n    .dataframe tbody tr th {\n        vertical-align: top;\n    }\n\n    .dataframe thead th {\n        text-align: right;\n    }\n</style>\n<table border=\"1\" class=\"dataframe\">\n  <thead>\n    <tr style=\"text-align: right;\">\n      <th></th>\n      <th>ID</th>\n      <th>Sentence</th>\n      <th>English-Spanish Alignment</th>\n    </tr>\n  </thead>\n  <tbody>\n    <tr>\n      <th>0</th>\n      <td>d001.s001</td>\n      <td>En el presente documento se resume el Informe ...</td>\n      <td>0-2 1-3 2-4 6-6 7-9 8-8 9-11 10-7 11-12 12-13 ...</td>\n    </tr>\n    <tr>\n      <th>1</th>\n      <td>d001.s002</td>\n      <td>En él se explica cómo el Comité de Medicamento...</td>\n      <td>0-1 1-3 2-4 3-5 4-6 5-7 6-8 6-11 7-8 8-9 9-11 ...</td>\n    </tr>\n    <tr>\n      <th>2</th>\n      <td>d001.s003</td>\n      <td>Si desea más información sobre su enfermedad o...</td>\n      <td>0-0 2-1 3-2 4-3 5-4 6-5 8-6 9-7 11-9 12-13 13-...</td>\n    </tr>\n    <tr>\n      <th>3</th>\n      <td>d001.s004</td>\n      <td>Si desea más información sobre el fundamento e...</td>\n      <td>0-0 2-1 3-2 4-3 5-4 6-5 7-6 10-16 11-14 12-17 ...</td>\n    </tr>\n    <tr>\n      <th>4</th>\n      <td>d001.s005</td>\n      <td>¿Qué es Alimta ?</td>\n      <td>0-0 1-1 2-2 3-3</td>\n    </tr>\n  </tbody>\n</table>\n</div>"
     },
     "execution_count": 294,
     "metadata": {},
     "output_type": "execute_result"
    }
   ],
   "source": [
    "trans_df.head()"
   ],
   "metadata": {
    "collapsed": false,
    "ExecuteTime": {
     "end_time": "2024-07-29T22:52:17.775475Z",
     "start_time": "2024-07-29T22:52:17.636992Z"
    }
   },
   "id": "6a7cf5efede63ac"
  },
  {
   "cell_type": "code",
   "execution_count": 297,
   "outputs": [],
   "source": [
    "def process_nan(s):\n",
    "  if type(s)!=type(''):\n",
    "    return ''\n",
    "  return s"
   ],
   "metadata": {
    "collapsed": false,
    "ExecuteTime": {
     "end_time": "2024-07-29T22:52:22.149257Z",
     "start_time": "2024-07-29T22:52:22.143868Z"
    }
   },
   "id": "d27a48d2ff0f089a"
  },
  {
   "cell_type": "code",
   "execution_count": 298,
   "outputs": [],
   "source": [
    "count_en = 0\n",
    "sentence_num = 0\n",
    "count_es = 0\n",
    "for i, row in trans_df.iterrows():\n",
    "    # print(row.iloc[0])\n",
    "    sent_i = row.iloc[0]\n",
    "    # print(sent_i)\n",
    "    # print(sent_i)\n",
    "    tgt_sent_i = sent_i\n",
    "    # print(row)\n",
    "    # sent_i = sent_i.replace(\"i\",\"d\")\n",
    "    tgt_sent = tkns_df.loc[count_es:count_es+len(tgt_sents[sentence_num])-1]\n",
    "    en_sent = aligned_tks_df.loc[count_en:count_en+len(en_sents[sentence_num])-1]\n",
    "    # print(tgt_sent.loc[2])\n",
    "    for alignment in row['English-'+language+' Alignment'].split():\n",
    "        w1, w2 = alignment.split('-')\n",
    "        row_tgt = tgt_sent.loc[count_es+int(w2)]\n",
    "        row_en = en_sent.loc[count_en+int(w1)]\n",
    "        if row_en['Token ID '+tgt_lan] is not None:\n",
    "            aligned_tks_df.loc[count_en+int(w1), 'Token ID '+tgt_lan] += '➕' + str(row_tgt['Token ID'])\n",
    "            aligned_tks_df.loc[count_en+int(w1), 'Token '+tgt_lan] += '➕' + row_tgt['Token']\n",
    "            if aligned_tks_df.loc[count_en+int(w1), 'POS '+tgt_lan] != process_nan(row_tgt['POS']):\n",
    "                aligned_tks_df.loc[count_en+int(w1), 'POS '+tgt_lan] += '➕' + process_nan(row_tgt['POS'])\n",
    "            if aligned_tks_df.loc[count_en+int(w1), 'Sense '+tgt_lan] != process_nan(row_en['BN Synset']):\n",
    "                if str(aligned_tks_df.loc[count_en+int(w1), 'Sense '+tgt_lan]) != \"nan\":\n",
    "                    aligned_tks_df.loc[count_en+int(w1), 'Sense '+tgt_lan] += '➕' + process_nan(row_en['BN Synset'])\n",
    "        else:\n",
    "            aligned_tks_df.loc[count_en+int(w1), 'Token ID '+tgt_lan] = row_tgt['Token ID']\n",
    "            aligned_tks_df.loc[count_en+int(w1), 'Token '+tgt_lan] = row_tgt['Token']\n",
    "            aligned_tks_df.loc[count_en+int(w1), 'Lemma '+tgt_lan] = row_tgt[\"Lemma\"]\n",
    "            aligned_tks_df.loc[count_en+int(w1), 'POS '+tgt_lan] = row_tgt['POS']\n",
    "            aligned_tks_df.loc[count_en+int(w1), 'Sense '+tgt_lan] = row_en['BN Synset']\n",
    "\n",
    "    count_en += len(en_sents[sentence_num])+1\n",
    "    count_es += len(tgt_sents[sentence_num])\n",
    "    sentence_num += 1\n",
    "    # print(count_en)"
   ],
   "metadata": {
    "collapsed": false,
    "ExecuteTime": {
     "end_time": "2024-07-29T22:52:24.486311Z",
     "start_time": "2024-07-29T22:52:23.332833Z"
    }
   },
   "id": "2ae5b20f4241c471"
  },
  {
   "cell_type": "code",
   "execution_count": 299,
   "outputs": [
    {
     "data": {
      "text/plain": "          Token ID       Token       Lemma    POS     BN Synset  \\\n0              NaN        This        this    DET           NaN   \n1   d001.s001.t001    document    document   NOUN  bn:00028015n   \n2              NaN          is          be   VERB           NaN   \n3              NaN           a           a    DET           NaN   \n4   d001.s001.t002     summary     summary   NOUN  bn:00075142n   \n5              NaN          of          of    ADP           NaN   \n6              NaN         the         the    DET           NaN   \n7   d001.s001.t003    European    european    ADJ  bn:00102440a   \n8   d001.s001.t004      Public      public    ADJ  bn:00109211a   \n9   d001.s001.t005  Assessment  assessment   NOUN  bn:00006502n   \n10  d001.s001.t006      Report      report   NOUN  bn:00067181n   \n11             NaN           (           (      .           NaN   \n12             NaN        EPAR        epar   NOUN           NaN   \n13             NaN           )           )      .           NaN   \n14             NaN           .           .      .           NaN   \n15             NaN       -end-       -end-  -end-           NaN   \n16             NaN          It          it   PRON           NaN   \n17  d001.s002.t001    explains     explain   VERB  bn:00087870v   \n18             NaN         how         how    ADV           NaN   \n19             NaN         the         the    DET           NaN   \n20  d001.s002.t002   Committee   committee   NOUN  bn:00021015n   \n21             NaN         for         for    ADP           NaN   \n22  d001.s002.t003   Medicinal   medicinal    ADJ  bn:00106556a   \n23  d001.s002.t004    Products     product   NOUN  bn:00064584n   \n24             NaN         for         for    ADP           NaN   \n25  d001.s002.t005       Human       human    ADJ  bn:00104385a   \n26  d001.s002.t006         Use         use   NOUN  bn:00030627n   \n27             NaN           (           (      .           NaN   \n28             NaN        CHMP        chmp   NOUN           NaN   \n29             NaN           )           )      .           NaN   \n\n                      Token ID ES             Token ES     Lemma ES POS ES  \\\n0                  d001.s001.t003             presente     presente      J   \n1                  d001.s001.t004            documento    documento      N   \n2                  d001.s001.t005                   se          NaN      X   \n3                            None                 None         None   None   \n4                            None                 None         None   None   \n5                            None                 None         None   None   \n6                  d001.s001.t007                   el          NaN      X   \n7                  d001.s001.t010              Europeo      europeo      J   \n8                  d001.s001.t009              Público      público      J   \n9                  d001.s001.t012           Evaluación   evaluación      N   \n10                 d001.s001.t008              Informe      informe      N   \n11                 d001.s001.t013                    (          NaN      X   \n12                 d001.s001.t014                 EPAR         epar      N   \n13                 d001.s001.t015                    )          NaN      X   \n14                 d001.s001.t016                    .          NaN      X   \n15                           None                 None         None   None   \n16                 d001.s002.t002                   él          NaN      X   \n17                 d001.s002.t004              explica     explicar      V   \n18                 d001.s002.t005                 cómo         cómo      R   \n19                 d001.s002.t006                   el          NaN      X   \n20                 d001.s002.t007               Comité       comité      N   \n21                 d001.s002.t008                   de          NaN      X   \n22  d001.s002.t009➕d001.s002.t012  Medicamentos➕Humano  medicamento    N➕J   \n23                 d001.s002.t009         Medicamentos  medicamento      N   \n24                 d001.s002.t010                   de          NaN      X   \n25                 d001.s002.t012               Humano       humano      J   \n26                 d001.s002.t011                  Uso          uso      N   \n27                 d001.s002.t013                    (          NaN      X   \n28                 d001.s002.t014                 CHMP         chmp      N   \n29                 d001.s002.t015                    )          NaN      X   \n\n        Sense ES  \n0            NaN  \n1   bn:00028015n  \n2            NaN  \n3           None  \n4           None  \n5           None  \n6            NaN  \n7   bn:00102440a  \n8   bn:00109211a  \n9   bn:00006502n  \n10  bn:00067181n  \n11           NaN  \n12           NaN  \n13           NaN  \n14           NaN  \n15          None  \n16           NaN  \n17  bn:00087870v  \n18           NaN  \n19           NaN  \n20  bn:00021015n  \n21           NaN  \n22  bn:00106556a  \n23  bn:00064584n  \n24           NaN  \n25  bn:00104385a  \n26  bn:00030627n  \n27           NaN  \n28           NaN  \n29           NaN  ",
      "text/html": "<div>\n<style scoped>\n    .dataframe tbody tr th:only-of-type {\n        vertical-align: middle;\n    }\n\n    .dataframe tbody tr th {\n        vertical-align: top;\n    }\n\n    .dataframe thead th {\n        text-align: right;\n    }\n</style>\n<table border=\"1\" class=\"dataframe\">\n  <thead>\n    <tr style=\"text-align: right;\">\n      <th></th>\n      <th>Token ID</th>\n      <th>Token</th>\n      <th>Lemma</th>\n      <th>POS</th>\n      <th>BN Synset</th>\n      <th>Token ID ES</th>\n      <th>Token ES</th>\n      <th>Lemma ES</th>\n      <th>POS ES</th>\n      <th>Sense ES</th>\n    </tr>\n  </thead>\n  <tbody>\n    <tr>\n      <th>0</th>\n      <td>NaN</td>\n      <td>This</td>\n      <td>this</td>\n      <td>DET</td>\n      <td>NaN</td>\n      <td>d001.s001.t003</td>\n      <td>presente</td>\n      <td>presente</td>\n      <td>J</td>\n      <td>NaN</td>\n    </tr>\n    <tr>\n      <th>1</th>\n      <td>d001.s001.t001</td>\n      <td>document</td>\n      <td>document</td>\n      <td>NOUN</td>\n      <td>bn:00028015n</td>\n      <td>d001.s001.t004</td>\n      <td>documento</td>\n      <td>documento</td>\n      <td>N</td>\n      <td>bn:00028015n</td>\n    </tr>\n    <tr>\n      <th>2</th>\n      <td>NaN</td>\n      <td>is</td>\n      <td>be</td>\n      <td>VERB</td>\n      <td>NaN</td>\n      <td>d001.s001.t005</td>\n      <td>se</td>\n      <td>NaN</td>\n      <td>X</td>\n      <td>NaN</td>\n    </tr>\n    <tr>\n      <th>3</th>\n      <td>NaN</td>\n      <td>a</td>\n      <td>a</td>\n      <td>DET</td>\n      <td>NaN</td>\n      <td>None</td>\n      <td>None</td>\n      <td>None</td>\n      <td>None</td>\n      <td>None</td>\n    </tr>\n    <tr>\n      <th>4</th>\n      <td>d001.s001.t002</td>\n      <td>summary</td>\n      <td>summary</td>\n      <td>NOUN</td>\n      <td>bn:00075142n</td>\n      <td>None</td>\n      <td>None</td>\n      <td>None</td>\n      <td>None</td>\n      <td>None</td>\n    </tr>\n    <tr>\n      <th>5</th>\n      <td>NaN</td>\n      <td>of</td>\n      <td>of</td>\n      <td>ADP</td>\n      <td>NaN</td>\n      <td>None</td>\n      <td>None</td>\n      <td>None</td>\n      <td>None</td>\n      <td>None</td>\n    </tr>\n    <tr>\n      <th>6</th>\n      <td>NaN</td>\n      <td>the</td>\n      <td>the</td>\n      <td>DET</td>\n      <td>NaN</td>\n      <td>d001.s001.t007</td>\n      <td>el</td>\n      <td>NaN</td>\n      <td>X</td>\n      <td>NaN</td>\n    </tr>\n    <tr>\n      <th>7</th>\n      <td>d001.s001.t003</td>\n      <td>European</td>\n      <td>european</td>\n      <td>ADJ</td>\n      <td>bn:00102440a</td>\n      <td>d001.s001.t010</td>\n      <td>Europeo</td>\n      <td>europeo</td>\n      <td>J</td>\n      <td>bn:00102440a</td>\n    </tr>\n    <tr>\n      <th>8</th>\n      <td>d001.s001.t004</td>\n      <td>Public</td>\n      <td>public</td>\n      <td>ADJ</td>\n      <td>bn:00109211a</td>\n      <td>d001.s001.t009</td>\n      <td>Público</td>\n      <td>público</td>\n      <td>J</td>\n      <td>bn:00109211a</td>\n    </tr>\n    <tr>\n      <th>9</th>\n      <td>d001.s001.t005</td>\n      <td>Assessment</td>\n      <td>assessment</td>\n      <td>NOUN</td>\n      <td>bn:00006502n</td>\n      <td>d001.s001.t012</td>\n      <td>Evaluación</td>\n      <td>evaluación</td>\n      <td>N</td>\n      <td>bn:00006502n</td>\n    </tr>\n    <tr>\n      <th>10</th>\n      <td>d001.s001.t006</td>\n      <td>Report</td>\n      <td>report</td>\n      <td>NOUN</td>\n      <td>bn:00067181n</td>\n      <td>d001.s001.t008</td>\n      <td>Informe</td>\n      <td>informe</td>\n      <td>N</td>\n      <td>bn:00067181n</td>\n    </tr>\n    <tr>\n      <th>11</th>\n      <td>NaN</td>\n      <td>(</td>\n      <td>(</td>\n      <td>.</td>\n      <td>NaN</td>\n      <td>d001.s001.t013</td>\n      <td>(</td>\n      <td>NaN</td>\n      <td>X</td>\n      <td>NaN</td>\n    </tr>\n    <tr>\n      <th>12</th>\n      <td>NaN</td>\n      <td>EPAR</td>\n      <td>epar</td>\n      <td>NOUN</td>\n      <td>NaN</td>\n      <td>d001.s001.t014</td>\n      <td>EPAR</td>\n      <td>epar</td>\n      <td>N</td>\n      <td>NaN</td>\n    </tr>\n    <tr>\n      <th>13</th>\n      <td>NaN</td>\n      <td>)</td>\n      <td>)</td>\n      <td>.</td>\n      <td>NaN</td>\n      <td>d001.s001.t015</td>\n      <td>)</td>\n      <td>NaN</td>\n      <td>X</td>\n      <td>NaN</td>\n    </tr>\n    <tr>\n      <th>14</th>\n      <td>NaN</td>\n      <td>.</td>\n      <td>.</td>\n      <td>.</td>\n      <td>NaN</td>\n      <td>d001.s001.t016</td>\n      <td>.</td>\n      <td>NaN</td>\n      <td>X</td>\n      <td>NaN</td>\n    </tr>\n    <tr>\n      <th>15</th>\n      <td>NaN</td>\n      <td>-end-</td>\n      <td>-end-</td>\n      <td>-end-</td>\n      <td>NaN</td>\n      <td>None</td>\n      <td>None</td>\n      <td>None</td>\n      <td>None</td>\n      <td>None</td>\n    </tr>\n    <tr>\n      <th>16</th>\n      <td>NaN</td>\n      <td>It</td>\n      <td>it</td>\n      <td>PRON</td>\n      <td>NaN</td>\n      <td>d001.s002.t002</td>\n      <td>él</td>\n      <td>NaN</td>\n      <td>X</td>\n      <td>NaN</td>\n    </tr>\n    <tr>\n      <th>17</th>\n      <td>d001.s002.t001</td>\n      <td>explains</td>\n      <td>explain</td>\n      <td>VERB</td>\n      <td>bn:00087870v</td>\n      <td>d001.s002.t004</td>\n      <td>explica</td>\n      <td>explicar</td>\n      <td>V</td>\n      <td>bn:00087870v</td>\n    </tr>\n    <tr>\n      <th>18</th>\n      <td>NaN</td>\n      <td>how</td>\n      <td>how</td>\n      <td>ADV</td>\n      <td>NaN</td>\n      <td>d001.s002.t005</td>\n      <td>cómo</td>\n      <td>cómo</td>\n      <td>R</td>\n      <td>NaN</td>\n    </tr>\n    <tr>\n      <th>19</th>\n      <td>NaN</td>\n      <td>the</td>\n      <td>the</td>\n      <td>DET</td>\n      <td>NaN</td>\n      <td>d001.s002.t006</td>\n      <td>el</td>\n      <td>NaN</td>\n      <td>X</td>\n      <td>NaN</td>\n    </tr>\n    <tr>\n      <th>20</th>\n      <td>d001.s002.t002</td>\n      <td>Committee</td>\n      <td>committee</td>\n      <td>NOUN</td>\n      <td>bn:00021015n</td>\n      <td>d001.s002.t007</td>\n      <td>Comité</td>\n      <td>comité</td>\n      <td>N</td>\n      <td>bn:00021015n</td>\n    </tr>\n    <tr>\n      <th>21</th>\n      <td>NaN</td>\n      <td>for</td>\n      <td>for</td>\n      <td>ADP</td>\n      <td>NaN</td>\n      <td>d001.s002.t008</td>\n      <td>de</td>\n      <td>NaN</td>\n      <td>X</td>\n      <td>NaN</td>\n    </tr>\n    <tr>\n      <th>22</th>\n      <td>d001.s002.t003</td>\n      <td>Medicinal</td>\n      <td>medicinal</td>\n      <td>ADJ</td>\n      <td>bn:00106556a</td>\n      <td>d001.s002.t009➕d001.s002.t012</td>\n      <td>Medicamentos➕Humano</td>\n      <td>medicamento</td>\n      <td>N➕J</td>\n      <td>bn:00106556a</td>\n    </tr>\n    <tr>\n      <th>23</th>\n      <td>d001.s002.t004</td>\n      <td>Products</td>\n      <td>product</td>\n      <td>NOUN</td>\n      <td>bn:00064584n</td>\n      <td>d001.s002.t009</td>\n      <td>Medicamentos</td>\n      <td>medicamento</td>\n      <td>N</td>\n      <td>bn:00064584n</td>\n    </tr>\n    <tr>\n      <th>24</th>\n      <td>NaN</td>\n      <td>for</td>\n      <td>for</td>\n      <td>ADP</td>\n      <td>NaN</td>\n      <td>d001.s002.t010</td>\n      <td>de</td>\n      <td>NaN</td>\n      <td>X</td>\n      <td>NaN</td>\n    </tr>\n    <tr>\n      <th>25</th>\n      <td>d001.s002.t005</td>\n      <td>Human</td>\n      <td>human</td>\n      <td>ADJ</td>\n      <td>bn:00104385a</td>\n      <td>d001.s002.t012</td>\n      <td>Humano</td>\n      <td>humano</td>\n      <td>J</td>\n      <td>bn:00104385a</td>\n    </tr>\n    <tr>\n      <th>26</th>\n      <td>d001.s002.t006</td>\n      <td>Use</td>\n      <td>use</td>\n      <td>NOUN</td>\n      <td>bn:00030627n</td>\n      <td>d001.s002.t011</td>\n      <td>Uso</td>\n      <td>uso</td>\n      <td>N</td>\n      <td>bn:00030627n</td>\n    </tr>\n    <tr>\n      <th>27</th>\n      <td>NaN</td>\n      <td>(</td>\n      <td>(</td>\n      <td>.</td>\n      <td>NaN</td>\n      <td>d001.s002.t013</td>\n      <td>(</td>\n      <td>NaN</td>\n      <td>X</td>\n      <td>NaN</td>\n    </tr>\n    <tr>\n      <th>28</th>\n      <td>NaN</td>\n      <td>CHMP</td>\n      <td>chmp</td>\n      <td>NOUN</td>\n      <td>NaN</td>\n      <td>d001.s002.t014</td>\n      <td>CHMP</td>\n      <td>chmp</td>\n      <td>N</td>\n      <td>NaN</td>\n    </tr>\n    <tr>\n      <th>29</th>\n      <td>NaN</td>\n      <td>)</td>\n      <td>)</td>\n      <td>.</td>\n      <td>NaN</td>\n      <td>d001.s002.t015</td>\n      <td>)</td>\n      <td>NaN</td>\n      <td>X</td>\n      <td>NaN</td>\n    </tr>\n  </tbody>\n</table>\n</div>"
     },
     "execution_count": 299,
     "metadata": {},
     "output_type": "execute_result"
    }
   ],
   "source": [
    "# aligned_tks_df[]\n",
    "aligned_tks_df.head(30)"
   ],
   "metadata": {
    "collapsed": false,
    "ExecuteTime": {
     "end_time": "2024-07-29T22:52:25.081695Z",
     "start_time": "2024-07-29T22:52:25.076865Z"
    }
   },
   "id": "3762e840ae06d384"
  },
  {
   "cell_type": "code",
   "execution_count": 300,
   "outputs": [],
   "source": [
    "aligned_tks_df.to_csv(ALIGN_TOKEN_FILE, sep='\\t', index=False)"
   ],
   "metadata": {
    "collapsed": false,
    "ExecuteTime": {
     "end_time": "2024-07-29T22:52:37.840493Z",
     "start_time": "2024-07-29T22:52:37.826151Z"
    }
   },
   "id": "e5368fae50b58bf8"
  },
  {
   "cell_type": "code",
   "execution_count": null,
   "outputs": [],
   "source": [],
   "metadata": {
    "collapsed": false
   },
   "id": "58f3349a3405b870"
  }
 ],
 "metadata": {
  "kernelspec": {
   "display_name": "Python 3",
   "language": "python",
   "name": "python3"
  },
  "language_info": {
   "codemirror_mode": {
    "name": "ipython",
    "version": 2
   },
   "file_extension": ".py",
   "mimetype": "text/x-python",
   "name": "python",
   "nbconvert_exporter": "python",
   "pygments_lexer": "ipython2",
   "version": "2.7.6"
  }
 },
 "nbformat": 4,
 "nbformat_minor": 5
}
