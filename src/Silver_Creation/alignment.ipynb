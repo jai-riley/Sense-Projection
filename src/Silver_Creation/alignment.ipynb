{
 "cells": [
  {
   "cell_type": "code",
   "execution_count": null,
   "id": "initial_id",
   "metadata": {
    "collapsed": true
   },
   "outputs": [],
   "source": [
    "#!pip install hanlp\n",
    "#!pip install simalign"
   ]
  },
  {
   "cell_type": "code",
   "execution_count": 439,
   "outputs": [],
   "source": [
    "import os, csv\n",
    "# public\n",
    "import hanlp\n",
    "import pandas as pd\n",
    "from tqdm import tqdm\n",
    "from simalign import SentenceAligner\n",
    "# from google.cloud import translate_v2 as translate"
   ],
   "metadata": {
    "collapsed": false,
    "ExecuteTime": {
     "end_time": "2024-07-08T14:56:58.506741Z",
     "start_time": "2024-07-08T14:56:58.497343Z"
    }
   },
   "id": "7cb406a76c0f6d9d"
  },
  {
   "cell_type": "code",
   "execution_count": 612,
   "outputs": [],
   "source": [
    "src_lan = 'en'\n",
    "# target language\n",
    "tgt_lan = 'ES'\n",
    "language = \"Spanish\"\n",
    "\n",
    "RESOURCE = 'res'\n",
    "RESULTS = os.path.join(RESOURCE, 'results')\n",
    "TRANS_FILE = os.path.join(RESULTS, 'sentences-'+language+'-Translations.tsv')\n",
    "TOKENS_FILE = os.path.join(RESULTS, 'tokens-'+language+'.tsv')\n",
    "ALIGN_SENT_FILE = os.path.join(RESULTS, 'sentences_aligned-'+language+'.tsv')\n",
    "ALIGN_TOKEN_FILE = os.path.join(RESULTS, 'tokens_aligned-'+language+'.tsv')\n",
    "\n",
    "DATA = os.path.join(RESOURCE, 'data')\n",
    "KEY = os.path.join(RESOURCE, 'key')\n",
    "RAW_SENSE_TSV = os.path.join(DATA, 'process_s15.tsv')\n",
    "RAW_TOKENS_TSV =  os.path.join(DATA, 'tokens-English.tsv')\n",
    "RAW_SENTENCE_TSV = os.path.join(DATA, 'sentences-English.tsv')\n",
    "JSON_GOOGLE_APPLICATION_CREDENTIALS = os.path.join(KEY, 'tonal-works-420505-eda807c7cc52.json')\n",
    "os.environ['GOOGLE_APPLICATION_CREDENTIALS'] = JSON_GOOGLE_APPLICATION_CREDENTIALS\n"
   ],
   "metadata": {
    "collapsed": false,
    "ExecuteTime": {
     "end_time": "2024-07-08T16:20:23.701789Z",
     "start_time": "2024-07-08T16:20:23.697539Z"
    }
   },
   "id": "be72751b2e4b4ea4"
  },
  {
   "cell_type": "code",
   "execution_count": 652,
   "outputs": [],
   "source": [
    "\n",
    "src_lan = 'en'\n",
    "# target language\n",
    "tgt_lan = 'ES'\n",
    "language = \"Spanish\"\n",
    "\n",
    "RESOURCE = '../..'\n",
    "RESULTS =  RESOURCE+'/data/'+language\n",
    "TRANS_FILE = os.path.join(RESULTS, 'gold-sentences-'+language+'.tsv')\n",
    "TOKENS_FILE = os.path.join(RESULTS, 'tokens_gold_'+language+'.tsv')\n",
    "ALIGN_SENT_FILE = os.path.join(RESULTS, 'sentences_aligned-'+language+'.tsv')\n",
    "ALIGN_TOKEN_FILE = os.path.join(RESULTS, 'tokens_aligned-'+language+'.tsv')\n",
    "\n",
    "DATA = os.path.join(RESOURCE, 'data')\n",
    "KEY = os.path.join(RESOURCE, 'key')\n",
    "RAW_SENSE_TSV = os.path.join(DATA, 'process_s15.tsv')\n",
    "RAW_TOKENS_TSV =  os.path.join(DATA, 'tokens-English.tsv')\n",
    "RAW_SENTENCE_TSV = os.path.join(DATA, 'sentences-English.tsv')\n",
    "JSON_GOOGLE_APPLICATION_CREDENTIALS = os.path.join(KEY, 'tonal-works-420505-eda807c7cc52.json')\n",
    "os.environ['GOOGLE_APPLICATION_CREDENTIALS'] = JSON_GOOGLE_APPLICATION_CREDENTIALS"
   ],
   "metadata": {
    "collapsed": false,
    "ExecuteTime": {
     "end_time": "2024-07-08T16:27:18.541535Z",
     "start_time": "2024-07-08T16:27:18.522641Z"
    }
   },
   "id": "b13fc3dfe5421d25"
  },
  {
   "cell_type": "markdown",
   "source": [
    "# DATA"
   ],
   "metadata": {
    "collapsed": false
   },
   "id": "c20c6865ff265fa9"
  },
  {
   "cell_type": "code",
   "execution_count": 653,
   "outputs": [
    {
     "data": {
      "text/plain": "                0         1         2  3             4\n0  d001.s001.t001      This       NaN  X           NaN\n1  d001.s001.t002  document  document  N  bn:00028015n\n2  d001.s001.t003        is        be  V           NaN\n3  d001.s001.t004         a       NaN  X           NaN\n4  d001.s001.t005   summary   summary  N  bn:00075142n",
      "text/html": "<div>\n<style scoped>\n    .dataframe tbody tr th:only-of-type {\n        vertical-align: middle;\n    }\n\n    .dataframe tbody tr th {\n        vertical-align: top;\n    }\n\n    .dataframe thead th {\n        text-align: right;\n    }\n</style>\n<table border=\"1\" class=\"dataframe\">\n  <thead>\n    <tr style=\"text-align: right;\">\n      <th></th>\n      <th>0</th>\n      <th>1</th>\n      <th>2</th>\n      <th>3</th>\n      <th>4</th>\n    </tr>\n  </thead>\n  <tbody>\n    <tr>\n      <th>0</th>\n      <td>d001.s001.t001</td>\n      <td>This</td>\n      <td>NaN</td>\n      <td>X</td>\n      <td>NaN</td>\n    </tr>\n    <tr>\n      <th>1</th>\n      <td>d001.s001.t002</td>\n      <td>document</td>\n      <td>document</td>\n      <td>N</td>\n      <td>bn:00028015n</td>\n    </tr>\n    <tr>\n      <th>2</th>\n      <td>d001.s001.t003</td>\n      <td>is</td>\n      <td>be</td>\n      <td>V</td>\n      <td>NaN</td>\n    </tr>\n    <tr>\n      <th>3</th>\n      <td>d001.s001.t004</td>\n      <td>a</td>\n      <td>NaN</td>\n      <td>X</td>\n      <td>NaN</td>\n    </tr>\n    <tr>\n      <th>4</th>\n      <td>d001.s001.t005</td>\n      <td>summary</td>\n      <td>summary</td>\n      <td>N</td>\n      <td>bn:00075142n</td>\n    </tr>\n  </tbody>\n</table>\n</div>"
     },
     "execution_count": 653,
     "metadata": {},
     "output_type": "execute_result"
    }
   ],
   "source": [
    "# raw\n",
    "raw_sense_df = pd.read_csv(RAW_SENSE_TSV, delimiter='\\t', header=None, quoting=csv.QUOTE_NONE)\n",
    "raw_sense_df.head()"
   ],
   "metadata": {
    "collapsed": false,
    "ExecuteTime": {
     "end_time": "2024-07-08T16:27:18.941715Z",
     "start_time": "2024-07-08T16:27:18.898077Z"
    }
   },
   "id": "b00d2748a93fc3cc"
  },
  {
   "cell_type": "code",
   "execution_count": 654,
   "outputs": [
    {
     "data": {
      "text/plain": "['English',\n 'This document is a summary of the European Public Assessment Report ( EPAR ) .',\n 'It explains how the Committee for Medicinal Products for Human Use ( CHMP ) assessed the studies performed, to reach their recommendations on how to use the medicine .',\n 'If you need more information about your medical condition or your treatment, read the Package Leaflet ( also part of the EPAR ) or contact your doctor or pharmacist .',\n 'If you want more information on the basis of the CHMP recommendations, read the Scientific Discussion ( also part of the EPAR ) .',\n 'What is Alimta ?',\n 'Alimta is a powder that is made up into a solution for infusion ( drip into a vein ) .',\n 'It contains the active substance pemetrexed .',\n 'What is Alimta used for ?',\n 'Alimta is used to treat two types of cancer: pleural mesothelioma ( cancer of the lining of the lungs that is usually caused by exposure to asbestos ) .',\n 'Alimta is used together with cisplatin ( another anticancer medicine ) when the cancer is unresectable ( cannot be removed by surgery alone ) and malignant ( has spread , or is likely to spread easily , to other parts of the body ) , in patients who have not received chemotherapy ( medicines for cancer ) before advanced or metastatic non-small cell lung cancer that is not affecting the squamous cells . ',\n 'Alimta is used in combination with cisplatin in patients who have not been treated before, and on its own in patients who have received another type of chemotherapy in the past.',\n 'The medicine can only be obtained with a prescription.',\n 'How is Alimta used?',\n 'Alimta should only be given under the supervision of a doctor who is qualified in the use of anticancer chemotherapy.',\n \"The recommended dose of Alimta is 500 mg per square metre of body surface area (calculated using the patient's height and weight).\",\n 'It is given once every three weeks as an intravenous infusion lasting 10 minutes.',\n 'To reduce side effects, patients should take a corticosteroid and folic acid (a type of vitamin), and receive injections of vitamin B12 during treatment with Alimta.',\n 'When Alimta is given with cisplatin, an anti-emetic medicine (to prevent vomiting) and fluids (to prevent dehydration) should also be given before or after the cisplatin dose.',\n 'Treatment should be delayed or discontinued, or the dose reduced, in patients whose blood counts are abnormal or who have certain other side effects.',\n 'Alimta is not recommended for use in patients with moderate or severe kidney problems.',\n 'For more information, see the Summary of Product Characteristics (also part of the EPAR).',\n 'How does Alimta work?',\n 'The active substance in Alimta, pemetrexed, is a cytotoxic medicine (a medicine that kills cells that are dividing, such as cancer cells), which belongs to the group antimetabolites.',\n 'In the body, pemetrexed is converted into an active form that blocks the activity of the enzymes that are involved in producing nucleotides (the building blocks of DNA and RNA, the genetic material of cells).',\n 'How has Alimta been studied?',\n 'For the treatment of malignant pleural mesothelioma, Alimta has been studied in one main study in 456 patients who had not received chemotherapy for their disease before.',\n 'The effects of Alimta in combination with cisplatin were compared with those of cisplatin alone.',\n 'For the treatment of non-small cell lung cancer, the effects of Alimta were compared with those of docetaxel (another anticancer medicine) in one study involving 571 patients with locally advanced or metastatic disease who had received chemotherapy in the past.',\n 'Alimta was also compared with gemcitabine (another anticancer medicine), both in combination with cisplatin, in a study involving 1,725 patients who had not received chemotherapy for lung cancer in the past.',\n 'In all three studies, the main measure of effectiveness was how long the patients survived.',\n 'What benefit has Alimta shown during the studies?',\n 'Alimta increased the survival time of patients with malignant pleural mesothelioma.',\n 'Patients receiving Alimta and cisplatin survived for an average of 12.1 months, compared with 9.3 months in those receiving cisplatin alone.',\n 'In the treatment of patients with non-small cell lung cancer, Alimta was as effective as the comparators.',\n 'In patients who had received chemotherapy in the past, the average survival time was 8.3 months with Alimta, compared with 7.9 months with docetaxel.',\n 'In patients who had not received chemotherapy in the past, the average survival time was 10.3 months in both groups.',\n 'However, in both studies, patients whose cancer was not affecting squamous cells had longer survival times if they received Alimta than if they received the comparator.',\n 'kalgebra is a mathematical calculator based on content markup MathML language.',\n 'Nowadays it is capable to make simple MathML operations (arithmetic and logical) and to representate 2D and 3D graphs.',\n 'It is actually not necessary to know MathML to use kalgebra.',\n 'kalgebra is a MathML based graph calculator.',\n 'Although it was initially MathML oriented it can now be used by everyone with little mathematical knowledge.',\n \"Here's a screenshot of kalgebra main window\",\n 'kalgebra main window',\n 'kalgebra main window consists in a Console tab, a 2D Graph tab, a 3D Graph tab and a Dictionary tab.',\n 'Below these tabs you will find an input field to type your functions or do your calculations.',\n 'If we want to understand how it works, the best thing we can do is to realize that our input is being converted into MathML although it is not necessary to know MathML.',\n 'I have based the syntax basically on common sense, it should not be hard for anyone.',\n \"I've looked closely to maxima and maple's syntax so they look very similar.\",\n '#ERROR!',\n '^, **: Power, you can use them both.',\n 'Also it is possible to use the unicode² characters.',\n 'Powers are one way to make roots too.',\n \"-gt: It's the way to specify the bounded variable in a function.\",\n '(): It is used to specify a higher priority.',\n 'abc(params): When the parser finds a function, it checks if abc is an operator.',\n 'If it is, it will be treated as an operator, if it is not, it will be treated as a user function.',\n ':=: It is used to define a variable value.',\n '?: Piecewise condition definition.',\n 'Piecewise is the way we can define conditional operations in kalgebra.',\n 'If we introduce the condition before the? it will use this condition only if it is true, if it finds a? without any condition, it will enter in the last instance.',\n '{}: MathML container.',\n 'It can be used to define a container.',\n 'Now you could ask me, why should the user mind about MathML?',\n \"That's easy. With this, we can operate with functions like cos(), sin(), any other trigonometric functions, sum() or product().\",\n 'It does not matter what kind it is.',\n 'We can use plus(), times() and everything which has its operator.',\n \"kalgebra's console is useful as a calculator.\",\n 'There you have a list of the declared variables.',\n 'By double clicking on them you will see a dialog that lets you change their values (just a way to trick the log).',\n 'Every time you enter an expression, the \" ans \" variable value will be changed to the last result.',\n 'Ctrl N New Window',\n 'Flushes the log.',\n 'Ctrl L Load Script',\n 'Executes the instructions in a file sequentially.',\n 'Nice if you want to define some libraries or resume some previous work.',\n 'Ctrl G Save Script',\n 'Saves the instructions you have typed since the session began to be able to reuse.',\n 'Generates text files so it should be easy to fix using any text editor, like Kate.',\n 'Ctrl S Save Log',\n 'Saves the log with all results into an HTML file to be able to print or publish.',\n 'Ctrl Q Quit',\n 'Shuts the program down.',\n 'To add a new 2D graph on kalgebra, what you have to do is to go to the 2D Graph tab and click in the Add tab to add the new function.',\n 'Then your focus will go to an input text box where you can type your function.',\n 'If you want to use a typical f(x) function it is not necessary to specify it.',\n 'If you have entered the function click on the OK button to display the graph in the main window.',\n 'You can set several graphs on the same view.',\n 'The Foundation has recently been involved in organising a conference which dealt with this critical challenge.',\n 'Over 100 participants from the main interest groups attended and debated issues such as the role of key actors including public authorities, social partners, voluntary and community organisations as well as service users.',\n 'There were relatively few cases reported of attempts to involve users in service planning but their involvement in service provision was found to be more common.',\n 'Note was also taken of the variety of different roles played by public welfare',\n 'The Foundation organised, together with the European Commission, the Spanish Ministry of Social Affairs and the Galician regional government, a European conference on social exclusion: a major challenge for public welfare services.',\n 'The Foundation recently published a comparative study as part of the EPOC project which assesses the extent to which direct participation can humanise work while increasing profitability.',\n 'The study is based on 195 personal interviews with senior officials of the social partners as representatives of national level peak organisations in fifteen European countries.',\n 'As important industrial sectors, the metal industry and the banking sector were also included.',\n 'Key speakers at the social exclusion conference were (left to right) Cristina Louro, Employment, Industrial Relations and Social Affairs Directorate, European Commission Fernando Gomes, a high degree of Committee of the Regions Barbara Weiler, Member of the European Parliament José Maria Gil-Robles, Vice-President, European Parliament and John Carroll, Economic and Social Committee.',\n 'Case Studies Each national report contains a portfolio of between 25 and 30 initiatives which best present policies and practices to improve the recruitment, training and development of ageing workers in both the work place and the community.',\n 'For each country, two or three initiatives have been selected for further in depth case study.',\n 'These case studies analysed the background of the initiatives, their impact on employment patterns and work organisations and assessed the benefits and problems of the initiative.',\n 'Visits and interviews with key personnel were also undertaken.',\n 'These national studies will form the basis of a European report which synthesises overall practices.',\n 'The report and a case book of initiatives will be published in 1996 and provide the backdrop for a conference to be staged in Autumn, 1996.',\n 'The Foundation aims to document the characteristics of age barriers in job recruitment and training and to analyse their causes.',\n 'The perspectives of the social partners is also being examined, with particular attention paid to proposals for removing age barriers.',\n 'Thirdly, the project documents and assesses initiatives, in both the public and private sectors which combat age barriers, especially for older workers.',\n 'Seeking alternatives to early retirement and redundancy, the project is primarily concerned with the retention, reintegration and retraining of older workers.',\n 'The gender and ethnic backgrounds of workers and how these relate to age discrimination are examined.',\n 'The project also considers initiatives to combat age discrimination in rural areas and in small and medium sized enterprises.',\n 'This document is a summary of the European Public Assessment Report.',\n 'It explains how the Committee for Medicinal Products for Veterinary Use (CVMP) assessed the studies performed, to reach their recommendations on how to use the medicine.',\n 'What is Cerenia?',\n 'Cerenia contains the active substance maropitant and is available as tablet or as solution for injection.',\n 'The tablets are pale-orange and have a score line on both sides so that they can be halved.',\n 'Each tablet is marked with the Pfizer logo on one side and with the letters MPT and the quantity of maropitant on the other side.',\n 'What is Cerenia used for?',\n 'Cerenia is an anti-emetic, this means that it stops vomiting.',\n 'It is used in dogs to prevent vomiting such as vomiting caused by chemotherapy (medicines used for the treatment of cancer, some of which are known to cause vomiting).',\n 'In combination with supportive measures such as other veterinary treatment or a special diet, Cerenia can also be used in the treatment of vomiting (either as injection or as injection followed by tablets).',\n 'For these purposes, Cerenia can be given for up to five days',\n 'How does Cerenia work?',\n 'Cerenia blocks a neurokinin 1 (NK1) receptor, which acts in the central nervous system.',\n 'How has Cerenia been studied?',\n 'A large number of studies with Cerenia were carried out either in laboratory dogs or in animal patients at veterinary practises in several European countries and in the USA.',\n 'What benefit has Cerenia shown during the studies?',\n 'The results of the studies showed that Cerenia was more effective than the placebo: less vomiting was seen in dogs that received the medicine than in dogs that received a placebo, both in the treatment or in the prevention of vomiting.',\n 'The treatment of a vomiting dog should be started with the injection, since vomiting animals might not be able to keep a tablet down (as they might throw the intact tablet up again).',\n 'For follow-up treatment, the animal owner can administer the tablets to the dog.',\n 'Also, the treatment of vomiting should only be together with other supportive measure or other veterinary therapy while addressing the underlying causes of the vomiting.',\n 'What is the risk associated with Cerenia?',\n 'Cerenia was generally well tolerated when administered daily at dosages up to 5 times the recommended doses for an extended period of time (up to 3 times the recommended maximum duration of treatment).',\n 'What are the precautions for the person who gives the medicine or comes into contact with the animal?',\n 'Cerenia does not represent a particular risk for people.']"
     },
     "execution_count": 654,
     "metadata": {},
     "output_type": "execute_result"
    }
   ],
   "source": [
    "sentence_df = pd.read_csv(RAW_SENTENCE_TSV, delimiter='\\t', header=None, quoting=csv.QUOTE_NONE)\n",
    "sentence_df.head()\n",
    "sents = sentence_df[1].tolist()\n",
    "sents"
   ],
   "metadata": {
    "collapsed": false,
    "ExecuteTime": {
     "end_time": "2024-07-08T16:27:19.180265Z",
     "start_time": "2024-07-08T16:27:19.117223Z"
    }
   },
   "id": "f042be62c8de0a8c"
  },
  {
   "cell_type": "code",
   "execution_count": 655,
   "outputs": [],
   "source": [
    "sids = sentence_df[0].tolist()\n",
    "# sids = [i.replace('d', 'i') for i in sids]\n",
    "# sids[:4]"
   ],
   "metadata": {
    "collapsed": false,
    "ExecuteTime": {
     "end_time": "2024-07-08T16:27:19.305733Z",
     "start_time": "2024-07-08T16:27:19.283346Z"
    }
   },
   "id": "3a52ea439706c5fc"
  },
  {
   "cell_type": "code",
   "execution_count": 656,
   "outputs": [
    {
     "data": {
      "text/plain": "          ID                                            English  \\\n0  d001.s001  This document is a summary of the European Pub...   \n1  d001.s002  It explains how the Committee for Medicinal Pr...   \n2  d001.s003  If you need more information about your medica...   \n3  d001.s004  If you want more information on the basis of t...   \n4  d001.s005                                   What is Alimta ?   \n\n                                             Spanish  \n0  En el presente documento se resume el Informe ...  \n1  En él se explica cómo el Comité de Medicamento...  \n2  Si desea más información sobre su enfermedad o...  \n3  Si desea más información sobre el fundamento e...  \n4                                   ¿Qué es Alimta ?  ",
      "text/html": "<div>\n<style scoped>\n    .dataframe tbody tr th:only-of-type {\n        vertical-align: middle;\n    }\n\n    .dataframe tbody tr th {\n        vertical-align: top;\n    }\n\n    .dataframe thead th {\n        text-align: right;\n    }\n</style>\n<table border=\"1\" class=\"dataframe\">\n  <thead>\n    <tr style=\"text-align: right;\">\n      <th></th>\n      <th>ID</th>\n      <th>English</th>\n      <th>Spanish</th>\n    </tr>\n  </thead>\n  <tbody>\n    <tr>\n      <th>0</th>\n      <td>d001.s001</td>\n      <td>This document is a summary of the European Pub...</td>\n      <td>En el presente documento se resume el Informe ...</td>\n    </tr>\n    <tr>\n      <th>1</th>\n      <td>d001.s002</td>\n      <td>It explains how the Committee for Medicinal Pr...</td>\n      <td>En él se explica cómo el Comité de Medicamento...</td>\n    </tr>\n    <tr>\n      <th>2</th>\n      <td>d001.s003</td>\n      <td>If you need more information about your medica...</td>\n      <td>Si desea más información sobre su enfermedad o...</td>\n    </tr>\n    <tr>\n      <th>3</th>\n      <td>d001.s004</td>\n      <td>If you want more information on the basis of t...</td>\n      <td>Si desea más información sobre el fundamento e...</td>\n    </tr>\n    <tr>\n      <th>4</th>\n      <td>d001.s005</td>\n      <td>What is Alimta ?</td>\n      <td>¿Qué es Alimta ?</td>\n    </tr>\n  </tbody>\n</table>\n</div>"
     },
     "execution_count": 656,
     "metadata": {},
     "output_type": "execute_result"
    }
   ],
   "source": [
    "trans_df = pd.read_csv(TRANS_FILE, delimiter='\\t', quoting=csv.QUOTE_NONE)\n",
    "trans_df.head()"
   ],
   "metadata": {
    "collapsed": false,
    "ExecuteTime": {
     "end_time": "2024-07-08T16:27:19.473253Z",
     "start_time": "2024-07-08T16:27:19.449921Z"
    }
   },
   "id": "86ef027023e515d8"
  },
  {
   "cell_type": "code",
   "execution_count": 657,
   "outputs": [
    {
     "data": {
      "text/plain": "          Token ID      Token      Lemma POS\n0  es001.s001.t001         En        NaN   X\n1  es001.s001.t002         el        NaN   X\n2  es001.s001.t003   presente   presente   J\n3  es001.s001.t004  documento  documento   N\n4  es001.s001.t005         se        NaN   X",
      "text/html": "<div>\n<style scoped>\n    .dataframe tbody tr th:only-of-type {\n        vertical-align: middle;\n    }\n\n    .dataframe tbody tr th {\n        vertical-align: top;\n    }\n\n    .dataframe thead th {\n        text-align: right;\n    }\n</style>\n<table border=\"1\" class=\"dataframe\">\n  <thead>\n    <tr style=\"text-align: right;\">\n      <th></th>\n      <th>Token ID</th>\n      <th>Token</th>\n      <th>Lemma</th>\n      <th>POS</th>\n    </tr>\n  </thead>\n  <tbody>\n    <tr>\n      <th>0</th>\n      <td>es001.s001.t001</td>\n      <td>En</td>\n      <td>NaN</td>\n      <td>X</td>\n    </tr>\n    <tr>\n      <th>1</th>\n      <td>es001.s001.t002</td>\n      <td>el</td>\n      <td>NaN</td>\n      <td>X</td>\n    </tr>\n    <tr>\n      <th>2</th>\n      <td>es001.s001.t003</td>\n      <td>presente</td>\n      <td>presente</td>\n      <td>J</td>\n    </tr>\n    <tr>\n      <th>3</th>\n      <td>es001.s001.t004</td>\n      <td>documento</td>\n      <td>documento</td>\n      <td>N</td>\n    </tr>\n    <tr>\n      <th>4</th>\n      <td>es001.s001.t005</td>\n      <td>se</td>\n      <td>NaN</td>\n      <td>X</td>\n    </tr>\n  </tbody>\n</table>\n</div>"
     },
     "execution_count": 657,
     "metadata": {},
     "output_type": "execute_result"
    }
   ],
   "source": [
    "tkns_df = pd.read_csv(TOKENS_FILE, delimiter='\\t', quoting=csv.QUOTE_NONE)\n",
    "tkns_df.head()"
   ],
   "metadata": {
    "collapsed": false,
    "ExecuteTime": {
     "end_time": "2024-07-08T16:27:19.752761Z",
     "start_time": "2024-07-08T16:27:19.663463Z"
    }
   },
   "id": "2f432a89a379c822"
  },
  {
   "cell_type": "code",
   "execution_count": 658,
   "outputs": [
    {
     "data": {
      "text/plain": "2803"
     },
     "execution_count": 658,
     "metadata": {},
     "output_type": "execute_result"
    }
   ],
   "source": [
    "tgt_tkns = tkns_df['Token'].tolist()\n",
    "len(tgt_tkns)"
   ],
   "metadata": {
    "collapsed": false,
    "ExecuteTime": {
     "end_time": "2024-07-08T16:27:19.999722Z",
     "start_time": "2024-07-08T16:27:19.889653Z"
    }
   },
   "id": "657283dde5c279c5"
  },
  {
   "cell_type": "markdown",
   "source": [
    "# ALIGNMENT"
   ],
   "metadata": {
    "collapsed": false
   },
   "id": "19c7b3b3697f3f04"
  },
  {
   "cell_type": "code",
   "execution_count": 659,
   "outputs": [
    {
     "name": "stderr",
     "output_type": "stream",
     "text": [
      "/usr/local/lib/python3.11/site-packages/huggingface_hub/file_download.py:1132: FutureWarning: `resume_download` is deprecated and will be removed in version 1.0.0. Downloads always resume when possible. If you want to force a new download, use `force_download=True`.\n",
      "  warnings.warn(\n",
      "2024-07-08 10:27:31,285 - simalign.simalign - INFO - Initialized the EmbeddingLoader with model: xlm-roberta-base\n"
     ]
    }
   ],
   "source": [
    "device = 'cpu'\n",
    "layer = 8\n",
    "# \"bert\": \"bert-base-multilingual-cased\",\n",
    "# \"xlmr\": \"xlm-roberta-base\"\n",
    "model = 'xlmr'\n",
    "# mwmf (Match), inter (ArgMax), itermax (IterMax)\n",
    "mode = 'itermax'\n",
    "matching_methods = 'mai'\n",
    "token_type='bpe'\n",
    "aligner = SentenceAligner(\n",
    "    model=model\n",
    "    , token_type=token_type\n",
    "    , matching_methods=matching_methods\n",
    "    , layer=layer\n",
    "    , device=device\n",
    ")"
   ],
   "metadata": {
    "collapsed": false,
    "ExecuteTime": {
     "end_time": "2024-07-08T16:27:31.486738Z",
     "start_time": "2024-07-08T16:27:20.232001Z"
    }
   },
   "id": "5bfcface1251e192"
  },
  {
   "cell_type": "code",
   "execution_count": 660,
   "outputs": [
    {
     "data": {
      "text/plain": "133"
     },
     "execution_count": 660,
     "metadata": {},
     "output_type": "execute_result"
    }
   ],
   "source": [
    "# english token sequences\n",
    "idxes = raw_sense_df[0].tolist()\n",
    "tokens = raw_sense_df[1].tolist()\n",
    "\n",
    "en_sents = []\n",
    "# en_sents2 = trans_df[\"English\"].tolist()\n",
    "pre_sid = None\n",
    "s = []\n",
    "for i, t in zip(idxes, tokens):\n",
    "    sid = i.split('.')[1]\n",
    "    if sid != pre_sid:\n",
    "        if s:\n",
    "            en_sents.append(s)\n",
    "        pre_sid = sid\n",
    "        s = [t]\n",
    "    else:\n",
    "        s.append(t)\n",
    "en_sents.append(s)\n",
    "len(en_sents)\n",
    "# for x in range(len(en_sents)):\n",
    "#     print(\" \".join(en_sents[x]),en_sents2[x])\n",
    "#     if \" \".join(en_sents[x]) != en_sents2[x]:\n",
    "#         print(x)"
   ],
   "metadata": {
    "collapsed": false,
    "ExecuteTime": {
     "end_time": "2024-07-08T16:27:31.504645Z",
     "start_time": "2024-07-08T16:27:31.492649Z"
    }
   },
   "id": "3bb827932bd9b23f"
  },
  {
   "cell_type": "code",
   "execution_count": 661,
   "outputs": [
    {
     "name": "stdout",
     "output_type": "stream",
     "text": [
      "['The', 'Foundation', 'organised', ',', 'together', 'with', 'the', 'European', 'Commission', ',', 'the', 'Spanish', 'Ministry', 'of', 'Social', 'Affairs', 'and', 'the', 'Galician', 'regional', 'government', ',', 'a', 'European', 'conference', 'on', 'social', 'exclusion', ':', 'a', 'major', 'challenge', 'for', 'public', 'welfare', 'services', '.']\n"
     ]
    }
   ],
   "source": [
    "print(en_sents[92])"
   ],
   "metadata": {
    "collapsed": false,
    "ExecuteTime": {
     "end_time": "2024-07-08T16:27:31.504891Z",
     "start_time": "2024-07-08T16:27:31.500532Z"
    }
   },
   "id": "289f3807b810c81e"
  },
  {
   "cell_type": "code",
   "execution_count": 662,
   "outputs": [
    {
     "data": {
      "text/plain": "134"
     },
     "execution_count": 662,
     "metadata": {},
     "output_type": "execute_result"
    }
   ],
   "source": [
    "# Italian token sequences\n",
    "idxes = tkns_df['Token ID'].tolist()\n",
    "tokens = tkns_df['Token'].tolist()\n",
    "\n",
    "tgt_sents = []\n",
    "pre_sid = None\n",
    "s = []\n",
    "for i, t in zip(idxes, tokens):\n",
    "    sid = i.split('.')[1]\n",
    "    if sid != pre_sid:\n",
    "        if s:\n",
    "            tgt_sents.append(s)\n",
    "        pre_sid = sid\n",
    "        s = [t]\n",
    "    else:\n",
    "        s.append(t)\n",
    "tgt_sents.append(s)\n",
    "len(tgt_sents)"
   ],
   "metadata": {
    "collapsed": false,
    "ExecuteTime": {
     "end_time": "2024-07-08T16:27:31.661778Z",
     "start_time": "2024-07-08T16:27:31.510306Z"
    }
   },
   "id": "518ec95ddd6db19"
  },
  {
   "cell_type": "code",
   "execution_count": 663,
   "outputs": [
    {
     "name": "stdout",
     "output_type": "stream",
     "text": [
      "['La', 'Fundación', 'organizó', ',', 'junto con', 'la', 'Comisión', 'Europea', ',', 'el', 'Ministerio', 'español', 'de', 'Asuntos', 'Sociales', 'y', 'la', 'Comunidad', 'Autónoma', 'de', 'Galicia', ',', 'una', 'conferencia', 'europea', 'sobre', 'el', 'tema', '\"\"\"\"', 'Exclusión', 'social', ':', 'Un', 'gran', 'reto', 'para', 'los', 'servicios', 'públicos', 'de', 'protección', 'social', '\"\"\"\"', '.']\n"
     ]
    }
   ],
   "source": [
    "print(tgt_sents[92])"
   ],
   "metadata": {
    "collapsed": false,
    "ExecuteTime": {
     "end_time": "2024-07-08T16:27:31.662136Z",
     "start_time": "2024-07-08T16:27:31.516398Z"
    }
   },
   "id": "cba97c84c3337f7e"
  },
  {
   "cell_type": "code",
   "execution_count": 664,
   "outputs": [
    {
     "name": "stderr",
     "output_type": "stream",
     "text": [
      "100%|██████████| 133/133 [00:50<00:00,  2.63it/s]\n"
     ]
    }
   ],
   "source": [
    "# do the alignment\n",
    "aligns = []\n",
    "for en_s, tgt_s in zip(tqdm(en_sents), tgt_sents):\n",
    "    # print(en_s,tgt_s,'\\n')\n",
    "    alignments = aligner.get_word_aligns(en_s, tgt_s)\n",
    "    align = ''\n",
    "    for w1, w2 in alignments[mode]:\n",
    "        align += f'{w1}-{w2} '\n",
    "    align = align.strip()\n",
    "    aligns.append(align)"
   ],
   "metadata": {
    "collapsed": false,
    "ExecuteTime": {
     "end_time": "2024-07-08T16:28:22.067210Z",
     "start_time": "2024-07-08T16:27:31.522272Z"
    }
   },
   "id": "5d6f1f0ac368d047"
  },
  {
   "cell_type": "code",
   "execution_count": 665,
   "outputs": [
    {
     "data": {
      "text/plain": "'0-2 1-3 2-4 3-1 4-5 5-10 6-6 7-9 8-8 9-11 10-7 11-12 12-13 13-14 14-15'"
     },
     "execution_count": 665,
     "metadata": {},
     "output_type": "execute_result"
    }
   ],
   "source": [
    "aligns[0]"
   ],
   "metadata": {
    "collapsed": false,
    "ExecuteTime": {
     "end_time": "2024-07-08T16:28:22.091433Z",
     "start_time": "2024-07-08T16:28:22.063667Z"
    }
   },
   "id": "ccfce3cfa0a1f17d"
  },
  {
   "cell_type": "code",
   "execution_count": 668,
   "outputs": [
    {
     "name": "stdout",
     "output_type": "stream",
     "text": [
      "133\n"
     ]
    },
    {
     "data": {
      "text/plain": "          ID                                            English  \\\n0  d001.s001  This document is a summary of the European Pub...   \n1  d001.s002  It explains how the Committee for Medicinal Pr...   \n2  d001.s003  If you need more information about your medica...   \n3  d001.s004  If you want more information on the basis of t...   \n4  d001.s005                                   What is Alimta ?   \n\n                                             Spanish  \\\n0  En el presente documento se resume el Informe ...   \n1  En él se explica cómo el Comité de Medicamento...   \n2  Si desea más información sobre su enfermedad o...   \n3  Si desea más información sobre el fundamento e...   \n4                                   ¿Qué es Alimta ?   \n\n                           English-Spanish Alignment  \n0  0-2 1-3 2-4 3-1 4-5 5-10 6-6 7-9 8-8 9-11 10-7...  \n1  0-1 1-2 1-3 2-4 3-5 4-6 5-7 6-8 6-11 7-8 8-9 9...  \n2  0-0 1-15 2-1 3-2 4-3 5-4 6-5 8-6 9-7 11-9 12-1...  \n3  0-0 1-19 2-1 3-2 4-3 5-4 6-5 7-6 9-15 10-16 11...  \n4                                    0-0 1-1 2-2 3-3  ",
      "text/html": "<div>\n<style scoped>\n    .dataframe tbody tr th:only-of-type {\n        vertical-align: middle;\n    }\n\n    .dataframe tbody tr th {\n        vertical-align: top;\n    }\n\n    .dataframe thead th {\n        text-align: right;\n    }\n</style>\n<table border=\"1\" class=\"dataframe\">\n  <thead>\n    <tr style=\"text-align: right;\">\n      <th></th>\n      <th>ID</th>\n      <th>English</th>\n      <th>Spanish</th>\n      <th>English-Spanish Alignment</th>\n    </tr>\n  </thead>\n  <tbody>\n    <tr>\n      <th>0</th>\n      <td>d001.s001</td>\n      <td>This document is a summary of the European Pub...</td>\n      <td>En el presente documento se resume el Informe ...</td>\n      <td>0-2 1-3 2-4 3-1 4-5 5-10 6-6 7-9 8-8 9-11 10-7...</td>\n    </tr>\n    <tr>\n      <th>1</th>\n      <td>d001.s002</td>\n      <td>It explains how the Committee for Medicinal Pr...</td>\n      <td>En él se explica cómo el Comité de Medicamento...</td>\n      <td>0-1 1-2 1-3 2-4 3-5 4-6 5-7 6-8 6-11 7-8 8-9 9...</td>\n    </tr>\n    <tr>\n      <th>2</th>\n      <td>d001.s003</td>\n      <td>If you need more information about your medica...</td>\n      <td>Si desea más información sobre su enfermedad o...</td>\n      <td>0-0 1-15 2-1 3-2 4-3 5-4 6-5 8-6 9-7 11-9 12-1...</td>\n    </tr>\n    <tr>\n      <th>3</th>\n      <td>d001.s004</td>\n      <td>If you want more information on the basis of t...</td>\n      <td>Si desea más información sobre el fundamento e...</td>\n      <td>0-0 1-19 2-1 3-2 4-3 5-4 6-5 7-6 9-15 10-16 11...</td>\n    </tr>\n    <tr>\n      <th>4</th>\n      <td>d001.s005</td>\n      <td>What is Alimta ?</td>\n      <td>¿Qué es Alimta ?</td>\n      <td>0-0 1-1 2-2 3-3</td>\n    </tr>\n  </tbody>\n</table>\n</div>"
     },
     "execution_count": 668,
     "metadata": {},
     "output_type": "execute_result"
    }
   ],
   "source": [
    "# output\n",
    "print(len(aligns))\n",
    "trans_df['English-'+language+' Alignment'] = aligns\n",
    "trans_df.head()"
   ],
   "metadata": {
    "collapsed": false,
    "ExecuteTime": {
     "end_time": "2024-07-08T16:28:29.059736Z",
     "start_time": "2024-07-08T16:28:29.036441Z"
    }
   },
   "id": "ca915db44f34710b"
  },
  {
   "cell_type": "code",
   "execution_count": 669,
   "outputs": [],
   "source": [
    "trans_df.to_csv(ALIGN_SENT_FILE, sep='\\t', index=False)"
   ],
   "metadata": {
    "collapsed": false,
    "ExecuteTime": {
     "end_time": "2024-07-08T16:28:30.128891Z",
     "start_time": "2024-07-08T16:28:30.096486Z"
    }
   },
   "id": "c1399438fa263261"
  },
  {
   "cell_type": "markdown",
   "source": [
    "# ALIGN TOKENS IN TOKEN FILE"
   ],
   "metadata": {
    "collapsed": false
   },
   "id": "7912a9624f4b8438"
  },
  {
   "cell_type": "code",
   "execution_count": 670,
   "outputs": [
    {
     "data": {
      "text/plain": "          Token ID      Token      Lemma POS\n0  es001.s001.t001         En        NaN   X\n1  es001.s001.t002         el        NaN   X\n2  es001.s001.t003   presente   presente   J\n3  es001.s001.t004  documento  documento   N\n4  es001.s001.t005         se        NaN   X",
      "text/html": "<div>\n<style scoped>\n    .dataframe tbody tr th:only-of-type {\n        vertical-align: middle;\n    }\n\n    .dataframe tbody tr th {\n        vertical-align: top;\n    }\n\n    .dataframe thead th {\n        text-align: right;\n    }\n</style>\n<table border=\"1\" class=\"dataframe\">\n  <thead>\n    <tr style=\"text-align: right;\">\n      <th></th>\n      <th>Token ID</th>\n      <th>Token</th>\n      <th>Lemma</th>\n      <th>POS</th>\n    </tr>\n  </thead>\n  <tbody>\n    <tr>\n      <th>0</th>\n      <td>es001.s001.t001</td>\n      <td>En</td>\n      <td>NaN</td>\n      <td>X</td>\n    </tr>\n    <tr>\n      <th>1</th>\n      <td>es001.s001.t002</td>\n      <td>el</td>\n      <td>NaN</td>\n      <td>X</td>\n    </tr>\n    <tr>\n      <th>2</th>\n      <td>es001.s001.t003</td>\n      <td>presente</td>\n      <td>presente</td>\n      <td>J</td>\n    </tr>\n    <tr>\n      <th>3</th>\n      <td>es001.s001.t004</td>\n      <td>documento</td>\n      <td>documento</td>\n      <td>N</td>\n    </tr>\n    <tr>\n      <th>4</th>\n      <td>es001.s001.t005</td>\n      <td>se</td>\n      <td>NaN</td>\n      <td>X</td>\n    </tr>\n  </tbody>\n</table>\n</div>"
     },
     "execution_count": 670,
     "metadata": {},
     "output_type": "execute_result"
    }
   ],
   "source": [
    "tkns_df.head()\n"
   ],
   "metadata": {
    "collapsed": false,
    "ExecuteTime": {
     "end_time": "2024-07-08T16:28:32.271871Z",
     "start_time": "2024-07-08T16:28:31.859855Z"
    }
   },
   "id": "7f494bb7b47b2faa"
  },
  {
   "cell_type": "code",
   "execution_count": 679,
   "outputs": [
    {
     "data": {
      "text/plain": "         Token ID     Token     Lemma POS         Sense\n0  d001.s001.t001      This       NaN   X           NaN\n1  d001.s001.t002  document  document   N  bn:00028015n\n2  d001.s001.t003        is        be   V           NaN\n3  d001.s001.t004         a       NaN   X           NaN\n4  d001.s001.t005   summary   summary   N  bn:00075142n",
      "text/html": "<div>\n<style scoped>\n    .dataframe tbody tr th:only-of-type {\n        vertical-align: middle;\n    }\n\n    .dataframe tbody tr th {\n        vertical-align: top;\n    }\n\n    .dataframe thead th {\n        text-align: right;\n    }\n</style>\n<table border=\"1\" class=\"dataframe\">\n  <thead>\n    <tr style=\"text-align: right;\">\n      <th></th>\n      <th>Token ID</th>\n      <th>Token</th>\n      <th>Lemma</th>\n      <th>POS</th>\n      <th>Sense</th>\n    </tr>\n  </thead>\n  <tbody>\n    <tr>\n      <th>0</th>\n      <td>d001.s001.t001</td>\n      <td>This</td>\n      <td>NaN</td>\n      <td>X</td>\n      <td>NaN</td>\n    </tr>\n    <tr>\n      <th>1</th>\n      <td>d001.s001.t002</td>\n      <td>document</td>\n      <td>document</td>\n      <td>N</td>\n      <td>bn:00028015n</td>\n    </tr>\n    <tr>\n      <th>2</th>\n      <td>d001.s001.t003</td>\n      <td>is</td>\n      <td>be</td>\n      <td>V</td>\n      <td>NaN</td>\n    </tr>\n    <tr>\n      <th>3</th>\n      <td>d001.s001.t004</td>\n      <td>a</td>\n      <td>NaN</td>\n      <td>X</td>\n      <td>NaN</td>\n    </tr>\n    <tr>\n      <th>4</th>\n      <td>d001.s001.t005</td>\n      <td>summary</td>\n      <td>summary</td>\n      <td>N</td>\n      <td>bn:00075142n</td>\n    </tr>\n  </tbody>\n</table>\n</div>"
     },
     "execution_count": 679,
     "metadata": {},
     "output_type": "execute_result"
    }
   ],
   "source": [
    "aligned_tks_df = pd.read_csv(RAW_TOKENS_TSV, delimiter='\\t', quoting=csv.QUOTE_NONE)\n",
    "aligned_tks_df.head()"
   ],
   "metadata": {
    "collapsed": false,
    "ExecuteTime": {
     "end_time": "2024-07-08T16:35:37.315934Z",
     "start_time": "2024-07-08T16:35:37.253968Z"
    }
   },
   "id": "8b05842023dacc1b"
  },
  {
   "cell_type": "code",
   "execution_count": 680,
   "outputs": [],
   "source": [
    "aligned_tks_df['Token ID '+tgt_lan] = None\n",
    "aligned_tks_df['Token '+tgt_lan] = None\n",
    "aligned_tks_df['Lemma '+tgt_lan] = None\n",
    "aligned_tks_df['POS '+tgt_lan] = None\n",
    "aligned_tks_df['Sense '+tgt_lan] = None"
   ],
   "metadata": {
    "collapsed": false,
    "ExecuteTime": {
     "end_time": "2024-07-08T16:35:37.695285Z",
     "start_time": "2024-07-08T16:35:37.614620Z"
    }
   },
   "id": "cf87633624b64662"
  },
  {
   "cell_type": "code",
   "execution_count": 681,
   "outputs": [
    {
     "data": {
      "text/plain": "         Token ID     Token     Lemma POS         Sense Token ID ES Token ES  \\\n0  d001.s001.t001      This       NaN   X           NaN        None     None   \n1  d001.s001.t002  document  document   N  bn:00028015n        None     None   \n2  d001.s001.t003        is        be   V           NaN        None     None   \n3  d001.s001.t004         a       NaN   X           NaN        None     None   \n4  d001.s001.t005   summary   summary   N  bn:00075142n        None     None   \n\n  Lemma ES POS ES Sense ES  \n0     None   None     None  \n1     None   None     None  \n2     None   None     None  \n3     None   None     None  \n4     None   None     None  ",
      "text/html": "<div>\n<style scoped>\n    .dataframe tbody tr th:only-of-type {\n        vertical-align: middle;\n    }\n\n    .dataframe tbody tr th {\n        vertical-align: top;\n    }\n\n    .dataframe thead th {\n        text-align: right;\n    }\n</style>\n<table border=\"1\" class=\"dataframe\">\n  <thead>\n    <tr style=\"text-align: right;\">\n      <th></th>\n      <th>Token ID</th>\n      <th>Token</th>\n      <th>Lemma</th>\n      <th>POS</th>\n      <th>Sense</th>\n      <th>Token ID ES</th>\n      <th>Token ES</th>\n      <th>Lemma ES</th>\n      <th>POS ES</th>\n      <th>Sense ES</th>\n    </tr>\n  </thead>\n  <tbody>\n    <tr>\n      <th>0</th>\n      <td>d001.s001.t001</td>\n      <td>This</td>\n      <td>NaN</td>\n      <td>X</td>\n      <td>NaN</td>\n      <td>None</td>\n      <td>None</td>\n      <td>None</td>\n      <td>None</td>\n      <td>None</td>\n    </tr>\n    <tr>\n      <th>1</th>\n      <td>d001.s001.t002</td>\n      <td>document</td>\n      <td>document</td>\n      <td>N</td>\n      <td>bn:00028015n</td>\n      <td>None</td>\n      <td>None</td>\n      <td>None</td>\n      <td>None</td>\n      <td>None</td>\n    </tr>\n    <tr>\n      <th>2</th>\n      <td>d001.s001.t003</td>\n      <td>is</td>\n      <td>be</td>\n      <td>V</td>\n      <td>NaN</td>\n      <td>None</td>\n      <td>None</td>\n      <td>None</td>\n      <td>None</td>\n      <td>None</td>\n    </tr>\n    <tr>\n      <th>3</th>\n      <td>d001.s001.t004</td>\n      <td>a</td>\n      <td>NaN</td>\n      <td>X</td>\n      <td>NaN</td>\n      <td>None</td>\n      <td>None</td>\n      <td>None</td>\n      <td>None</td>\n      <td>None</td>\n    </tr>\n    <tr>\n      <th>4</th>\n      <td>d001.s001.t005</td>\n      <td>summary</td>\n      <td>summary</td>\n      <td>N</td>\n      <td>bn:00075142n</td>\n      <td>None</td>\n      <td>None</td>\n      <td>None</td>\n      <td>None</td>\n      <td>None</td>\n    </tr>\n  </tbody>\n</table>\n</div>"
     },
     "execution_count": 681,
     "metadata": {},
     "output_type": "execute_result"
    }
   ],
   "source": [
    "aligned_tks_df.head()"
   ],
   "metadata": {
    "collapsed": false,
    "ExecuteTime": {
     "end_time": "2024-07-08T16:35:37.920664Z",
     "start_time": "2024-07-08T16:35:37.875404Z"
    }
   },
   "id": "96cb23c1328bebd2"
  },
  {
   "cell_type": "code",
   "execution_count": 682,
   "outputs": [
    {
     "data": {
      "text/plain": "          ID                                            English  \\\n0  d001.s001  This document is a summary of the European Pub...   \n1  d001.s002  It explains how the Committee for Medicinal Pr...   \n2  d001.s003  If you need more information about your medica...   \n3  d001.s004  If you want more information on the basis of t...   \n4  d001.s005                                   What is Alimta ?   \n\n                                             Spanish  \\\n0  En el presente documento se resume el Informe ...   \n1  En él se explica cómo el Comité de Medicamento...   \n2  Si desea más información sobre su enfermedad o...   \n3  Si desea más información sobre el fundamento e...   \n4                                   ¿Qué es Alimta ?   \n\n                           English-Spanish Alignment  \n0  0-2 1-3 2-4 3-1 4-5 5-10 6-6 7-9 8-8 9-11 10-7...  \n1  0-1 1-2 1-3 2-4 3-5 4-6 5-7 6-8 6-11 7-8 8-9 9...  \n2  0-0 1-15 2-1 3-2 4-3 5-4 6-5 8-6 9-7 11-9 12-1...  \n3  0-0 1-19 2-1 3-2 4-3 5-4 6-5 7-6 9-15 10-16 11...  \n4                                    0-0 1-1 2-2 3-3  ",
      "text/html": "<div>\n<style scoped>\n    .dataframe tbody tr th:only-of-type {\n        vertical-align: middle;\n    }\n\n    .dataframe tbody tr th {\n        vertical-align: top;\n    }\n\n    .dataframe thead th {\n        text-align: right;\n    }\n</style>\n<table border=\"1\" class=\"dataframe\">\n  <thead>\n    <tr style=\"text-align: right;\">\n      <th></th>\n      <th>ID</th>\n      <th>English</th>\n      <th>Spanish</th>\n      <th>English-Spanish Alignment</th>\n    </tr>\n  </thead>\n  <tbody>\n    <tr>\n      <th>0</th>\n      <td>d001.s001</td>\n      <td>This document is a summary of the European Pub...</td>\n      <td>En el presente documento se resume el Informe ...</td>\n      <td>0-2 1-3 2-4 3-1 4-5 5-10 6-6 7-9 8-8 9-11 10-7...</td>\n    </tr>\n    <tr>\n      <th>1</th>\n      <td>d001.s002</td>\n      <td>It explains how the Committee for Medicinal Pr...</td>\n      <td>En él se explica cómo el Comité de Medicamento...</td>\n      <td>0-1 1-2 1-3 2-4 3-5 4-6 5-7 6-8 6-11 7-8 8-9 9...</td>\n    </tr>\n    <tr>\n      <th>2</th>\n      <td>d001.s003</td>\n      <td>If you need more information about your medica...</td>\n      <td>Si desea más información sobre su enfermedad o...</td>\n      <td>0-0 1-15 2-1 3-2 4-3 5-4 6-5 8-6 9-7 11-9 12-1...</td>\n    </tr>\n    <tr>\n      <th>3</th>\n      <td>d001.s004</td>\n      <td>If you want more information on the basis of t...</td>\n      <td>Si desea más información sobre el fundamento e...</td>\n      <td>0-0 1-19 2-1 3-2 4-3 5-4 6-5 7-6 9-15 10-16 11...</td>\n    </tr>\n    <tr>\n      <th>4</th>\n      <td>d001.s005</td>\n      <td>What is Alimta ?</td>\n      <td>¿Qué es Alimta ?</td>\n      <td>0-0 1-1 2-2 3-3</td>\n    </tr>\n  </tbody>\n</table>\n</div>"
     },
     "execution_count": 682,
     "metadata": {},
     "output_type": "execute_result"
    }
   ],
   "source": [
    "trans_df.head()"
   ],
   "metadata": {
    "collapsed": false,
    "ExecuteTime": {
     "end_time": "2024-07-08T16:35:38.186917Z",
     "start_time": "2024-07-08T16:35:38.153227Z"
    }
   },
   "id": "6a7cf5efede63ac"
  },
  {
   "cell_type": "code",
   "execution_count": 683,
   "outputs": [],
   "source": [
    "def process_nan(s):\n",
    "  if type(s)!=type(''):\n",
    "    return ''\n",
    "  return s"
   ],
   "metadata": {
    "collapsed": false,
    "ExecuteTime": {
     "end_time": "2024-07-08T16:35:38.511660Z",
     "start_time": "2024-07-08T16:35:38.482967Z"
    }
   },
   "id": "d27a48d2ff0f089a"
  },
  {
   "cell_type": "code",
   "execution_count": 684,
   "outputs": [
    {
     "name": "stdout",
     "output_type": "stream",
     "text": [
      "d001.s001\n",
      "d001.s002\n",
      "d001.s003\n",
      "d001.s004\n",
      "d001.s005\n",
      "d001.s006\n",
      "d001.s007\n",
      "d001.s008\n",
      "d001.s009\n",
      "d001.s010\n",
      "d001.s011\n",
      "d001.s012\n",
      "d001.s013\n",
      "d001.s014\n",
      "d001.s015\n",
      "d001.s016\n",
      "d001.s017\n",
      "d001.s018\n",
      "d001.s019\n",
      "d001.s020\n",
      "d001.s021\n",
      "d001.s022\n",
      "d001.s023\n",
      "d001.s024\n",
      "d001.s025\n",
      "d001.s026\n",
      "d001.s027\n",
      "d001.s028\n",
      "d001.s029\n",
      "d001.s030\n",
      "d001.s031\n",
      "d001.s032\n",
      "d001.s033\n",
      "d001.s034\n",
      "d001.s035\n",
      "d001.s036\n",
      "d001.s037\n",
      "d002.s001\n",
      "d002.s002\n",
      "d002.s003\n",
      "d002.s004\n",
      "d002.s005\n",
      "d002.s006\n",
      "d002.s007\n",
      "d002.s008\n",
      "d002.s009\n",
      "d002.s010\n",
      "d002.s011\n",
      "d002.s012\n",
      "d002.s013\n",
      "d002.s014\n",
      "d002.s015\n",
      "d002.s016\n",
      "d002.s017\n",
      "d002.s018\n",
      "d002.s019\n",
      "d002.s020\n",
      "d002.s021\n",
      "d002.s022\n",
      "d002.s023\n",
      "d002.s024\n",
      "d002.s025\n",
      "d002.s026\n",
      "d002.s027\n",
      "d002.s028\n",
      "d002.s029\n",
      "d002.s030\n",
      "d002.s031\n",
      "d002.s032\n",
      "d002.s033\n",
      "d002.s034\n",
      "d002.s035\n",
      "d002.s036\n",
      "d002.s037\n",
      "d002.s038\n",
      "d002.s039\n",
      "d002.s040\n",
      "d002.s041\n",
      "d002.s042\n",
      "d002.s043\n",
      "d002.s044\n",
      "d002.s045\n",
      "d002.s046\n",
      "d002.s047\n",
      "d002.s048\n",
      "d002.s049\n",
      "d002.s050\n",
      "d002.s051\n",
      "d002.s052\n",
      "d003.s002\n",
      "d003.s003\n",
      "d003.s004\n",
      "d003.s005\n",
      "d003.s006\n",
      "d003.s007\n",
      "d003.s008\n",
      "d003.s009\n",
      "d003.s010\n",
      "d003.s011\n",
      "d003.s012\n",
      "d003.s013\n",
      "d003.s014\n",
      "d003.s015\n",
      "d003.s016\n",
      "d003.s017\n",
      "d003.s018\n",
      "d003.s019\n",
      "d003.s020\n",
      "d003.s021\n",
      "d004.s001\n"
     ]
    },
    {
     "ename": "IndexError",
     "evalue": "single positional indexer is out-of-bounds",
     "output_type": "error",
     "traceback": [
      "\u001B[0;31m---------------------------------------------------------------------------\u001B[0m",
      "\u001B[0;31mIndexError\u001B[0m                                Traceback (most recent call last)",
      "Cell \u001B[0;32mIn[684], line 25\u001B[0m\n\u001B[1;32m     22\u001B[0m         aligned_tks_df\u001B[38;5;241m.\u001B[39mloc[row_en\u001B[38;5;241m.\u001B[39mindex, \u001B[38;5;124m'\u001B[39m\u001B[38;5;124mSense \u001B[39m\u001B[38;5;124m'\u001B[39m\u001B[38;5;241m+\u001B[39mtgt_lan] \u001B[38;5;241m+\u001B[39m\u001B[38;5;241m=\u001B[39m \u001B[38;5;124m'\u001B[39m\u001B[38;5;124m➕\u001B[39m\u001B[38;5;124m'\u001B[39m \u001B[38;5;241m+\u001B[39m process_nan(row_en\u001B[38;5;241m.\u001B[39miloc[\u001B[38;5;241m0\u001B[39m][\u001B[38;5;124m'\u001B[39m\u001B[38;5;124mSense\u001B[39m\u001B[38;5;124m'\u001B[39m])\n\u001B[1;32m     23\u001B[0m \u001B[38;5;28;01melse\u001B[39;00m:\n\u001B[1;32m     24\u001B[0m     \u001B[38;5;66;03m# print(row_en.index.values)\u001B[39;00m\n\u001B[0;32m---> 25\u001B[0m     aligned_tks_df\u001B[38;5;241m.\u001B[39mloc[row_en\u001B[38;5;241m.\u001B[39mindex\u001B[38;5;241m.\u001B[39mvalues[\u001B[38;5;241m0\u001B[39m], \u001B[38;5;124m'\u001B[39m\u001B[38;5;124mToken ID \u001B[39m\u001B[38;5;124m'\u001B[39m\u001B[38;5;241m+\u001B[39mtgt_lan] \u001B[38;5;241m=\u001B[39m \u001B[43mrow_tgt\u001B[49m\u001B[38;5;241;43m.\u001B[39;49m\u001B[43miloc\u001B[49m\u001B[43m[\u001B[49m\u001B[38;5;241;43m0\u001B[39;49m\u001B[43m]\u001B[49m[\u001B[38;5;124m'\u001B[39m\u001B[38;5;124mToken ID\u001B[39m\u001B[38;5;124m'\u001B[39m]\n\u001B[1;32m     26\u001B[0m     \u001B[38;5;66;03m# print(aligned_tks_df.loc[row_en.index, 'Token ID '+tgt_lan],row_tgt.iloc[0]['Token ID'],'\\n\\n')\u001B[39;00m\n\u001B[1;32m     28\u001B[0m     aligned_tks_df\u001B[38;5;241m.\u001B[39mloc[row_en\u001B[38;5;241m.\u001B[39mindex\u001B[38;5;241m.\u001B[39mvalues[\u001B[38;5;241m0\u001B[39m], \u001B[38;5;124m'\u001B[39m\u001B[38;5;124mToken \u001B[39m\u001B[38;5;124m'\u001B[39m\u001B[38;5;241m+\u001B[39mtgt_lan] \u001B[38;5;241m=\u001B[39m row_tgt\u001B[38;5;241m.\u001B[39miloc[\u001B[38;5;241m0\u001B[39m][\u001B[38;5;124m'\u001B[39m\u001B[38;5;124mToken\u001B[39m\u001B[38;5;124m'\u001B[39m]\n",
      "File \u001B[0;32m/usr/local/lib/python3.11/site-packages/pandas/core/indexing.py:1153\u001B[0m, in \u001B[0;36m_LocationIndexer.__getitem__\u001B[0;34m(self, key)\u001B[0m\n\u001B[1;32m   1150\u001B[0m axis \u001B[38;5;241m=\u001B[39m \u001B[38;5;28mself\u001B[39m\u001B[38;5;241m.\u001B[39maxis \u001B[38;5;129;01mor\u001B[39;00m \u001B[38;5;241m0\u001B[39m\n\u001B[1;32m   1152\u001B[0m maybe_callable \u001B[38;5;241m=\u001B[39m com\u001B[38;5;241m.\u001B[39mapply_if_callable(key, \u001B[38;5;28mself\u001B[39m\u001B[38;5;241m.\u001B[39mobj)\n\u001B[0;32m-> 1153\u001B[0m \u001B[38;5;28;01mreturn\u001B[39;00m \u001B[38;5;28;43mself\u001B[39;49m\u001B[38;5;241;43m.\u001B[39;49m\u001B[43m_getitem_axis\u001B[49m\u001B[43m(\u001B[49m\u001B[43mmaybe_callable\u001B[49m\u001B[43m,\u001B[49m\u001B[43m \u001B[49m\u001B[43maxis\u001B[49m\u001B[38;5;241;43m=\u001B[39;49m\u001B[43maxis\u001B[49m\u001B[43m)\u001B[49m\n",
      "File \u001B[0;32m/usr/local/lib/python3.11/site-packages/pandas/core/indexing.py:1714\u001B[0m, in \u001B[0;36m_iLocIndexer._getitem_axis\u001B[0;34m(self, key, axis)\u001B[0m\n\u001B[1;32m   1711\u001B[0m     \u001B[38;5;28;01mraise\u001B[39;00m \u001B[38;5;167;01mTypeError\u001B[39;00m(\u001B[38;5;124m\"\u001B[39m\u001B[38;5;124mCannot index by location index with a non-integer key\u001B[39m\u001B[38;5;124m\"\u001B[39m)\n\u001B[1;32m   1713\u001B[0m \u001B[38;5;66;03m# validate the location\u001B[39;00m\n\u001B[0;32m-> 1714\u001B[0m \u001B[38;5;28;43mself\u001B[39;49m\u001B[38;5;241;43m.\u001B[39;49m\u001B[43m_validate_integer\u001B[49m\u001B[43m(\u001B[49m\u001B[43mkey\u001B[49m\u001B[43m,\u001B[49m\u001B[43m \u001B[49m\u001B[43maxis\u001B[49m\u001B[43m)\u001B[49m\n\u001B[1;32m   1716\u001B[0m \u001B[38;5;28;01mreturn\u001B[39;00m \u001B[38;5;28mself\u001B[39m\u001B[38;5;241m.\u001B[39mobj\u001B[38;5;241m.\u001B[39m_ixs(key, axis\u001B[38;5;241m=\u001B[39maxis)\n",
      "File \u001B[0;32m/usr/local/lib/python3.11/site-packages/pandas/core/indexing.py:1647\u001B[0m, in \u001B[0;36m_iLocIndexer._validate_integer\u001B[0;34m(self, key, axis)\u001B[0m\n\u001B[1;32m   1645\u001B[0m len_axis \u001B[38;5;241m=\u001B[39m \u001B[38;5;28mlen\u001B[39m(\u001B[38;5;28mself\u001B[39m\u001B[38;5;241m.\u001B[39mobj\u001B[38;5;241m.\u001B[39m_get_axis(axis))\n\u001B[1;32m   1646\u001B[0m \u001B[38;5;28;01mif\u001B[39;00m key \u001B[38;5;241m>\u001B[39m\u001B[38;5;241m=\u001B[39m len_axis \u001B[38;5;129;01mor\u001B[39;00m key \u001B[38;5;241m<\u001B[39m \u001B[38;5;241m-\u001B[39mlen_axis:\n\u001B[0;32m-> 1647\u001B[0m     \u001B[38;5;28;01mraise\u001B[39;00m \u001B[38;5;167;01mIndexError\u001B[39;00m(\u001B[38;5;124m\"\u001B[39m\u001B[38;5;124msingle positional indexer is out-of-bounds\u001B[39m\u001B[38;5;124m\"\u001B[39m)\n",
      "\u001B[0;31mIndexError\u001B[0m: single positional indexer is out-of-bounds"
     ]
    }
   ],
   "source": [
    "for i, row in trans_df.iterrows():\n",
    "    print(row.iloc[0])\n",
    "    sent_i = row.iloc[0]\n",
    "    # print(sent_i)\n",
    "    tgt_sent_i = sent_i.replace(\"d\",\"es\")\n",
    "    # sent_i = sent_i.replace(\"i\",\"d\")\n",
    "    for alignment in row['English-'+language+' Alignment'].split():\n",
    "        w1, w2 = alignment.split('-')\n",
    "        en_id = f'{sent_i}.t{\"%03d\" % (int(w1)+1)}'\n",
    "        tgt_id = f'{tgt_sent_i}.t{\"%03d\" % (int(w2)+1)}'\n",
    "        row_en = aligned_tks_df[aligned_tks_df['Token ID'] == en_id]\n",
    "        row_tgt = tkns_df[tkns_df['Token ID'] == tgt_id]\n",
    "        # print(aligned_tks_df['Token ID'] )\n",
    "        # print(row_tgt)\n",
    "        # print(row_en.iloc[0]['Token ID '+tgt_lan])\n",
    "        if row_en.iloc[0]['Token ID '+tgt_lan] is not None:\n",
    "            aligned_tks_df.loc[row_en.index, 'Token ID '+tgt_lan] += '➕' + row_tgt.iloc[0]['Token ID']\n",
    "            aligned_tks_df.loc[row_en.index, 'Token '+tgt_lan] += '➕' + row_tgt.iloc[0]['Token']\n",
    "            if aligned_tks_df.loc[row_en.index, 'POS '+tgt_lan].item() != process_nan(row_tgt.iloc[0]['POS']):\n",
    "                aligned_tks_df.loc[row_en.index, 'POS '+tgt_lan] += '➕' + process_nan(row_tgt.iloc[0]['POS'])\n",
    "            if aligned_tks_df.loc[row_en.index, 'Sense '+tgt_lan].item() != process_nan(row_en.iloc[0]['Sense']):\n",
    "                aligned_tks_df.loc[row_en.index, 'Sense '+tgt_lan] += '➕' + process_nan(row_en.iloc[0]['Sense'])\n",
    "        else:\n",
    "            # print(row_en.index.values)\n",
    "            aligned_tks_df.loc[row_en.index.values[0], 'Token ID '+tgt_lan] = row_tgt.iloc[0]['Token ID']\n",
    "            # print(aligned_tks_df.loc[row_en.index, 'Token ID '+tgt_lan],row_tgt.iloc[0]['Token ID'],'\\n\\n')\n",
    "    \n",
    "            aligned_tks_df.loc[row_en.index.values[0], 'Token '+tgt_lan] = row_tgt.iloc[0]['Token']\n",
    "            aligned_tks_df.loc[row_en.index.values[0], 'Lemma '+tgt_lan] = row_tgt.iloc[0]['Lemma']\n",
    "            aligned_tks_df.loc[row_en.index.values[0], 'POS '+tgt_lan] = row_tgt.iloc[0]['POS']\n",
    "            aligned_tks_df.loc[row_en.index.values[0], 'Sense '+tgt_lan] = row_en.iloc[0]['Sense']"
   ],
   "metadata": {
    "collapsed": false,
    "ExecuteTime": {
     "end_time": "2024-07-08T16:35:43.024761Z",
     "start_time": "2024-07-08T16:35:39.179181Z"
    }
   },
   "id": "2ae5b20f4241c471"
  },
  {
   "cell_type": "code",
   "execution_count": 677,
   "outputs": [
    {
     "data": {
      "text/plain": "          Token ID       Token       Lemma POS         Sense  \\\n0   d001.s001.t001        This         NaN   X           NaN   \n1   d001.s001.t002    document    document   N  bn:00028015n   \n2   d001.s001.t003          is          be   V           NaN   \n3   d001.s001.t004           a         NaN   X           NaN   \n4   d001.s001.t005     summary     summary   N  bn:00075142n   \n5   d001.s001.t006          of         NaN   X           NaN   \n6   d001.s001.t007         the         NaN   X           NaN   \n7   d001.s001.t008    European    european   J  bn:00102440a   \n8   d001.s001.t009      Public      public   J  bn:00109211a   \n9   d001.s001.t010  Assessment  assessment   N  bn:00006502n   \n10  d001.s001.t011      Report      report   N  bn:00067181n   \n11  d001.s001.t012           (         NaN   X           NaN   \n12  d001.s001.t013        EPAR        epar   N           NaN   \n13  d001.s001.t014           )         NaN   X           NaN   \n14  d001.s001.t015           .         NaN   X           NaN   \n15  d001.s002.t001          It         NaN   X           NaN   \n16  d001.s002.t002    explains     explain   V  bn:00087869v   \n17  d001.s002.t003         how         NaN   X           NaN   \n18  d001.s002.t004         the         NaN   X           NaN   \n19  d001.s002.t005   Committee   committee   N  bn:00021015n   \n\n                        Token ID ES    Token ES    Lemma ES POS ES  \\\n0                   es001.s001.t003    presente    presente      J   \n1                   es001.s001.t004   documento   documento      N   \n2                   es001.s001.t005          se         NaN      X   \n3                   es001.s001.t002          el         NaN      X   \n4                   es001.s001.t006      resume     resumir      V   \n5                   es001.s001.t011          de         NaN      X   \n6                   es001.s001.t007          el         NaN      X   \n7                   es001.s001.t010     Europeo     europeo      J   \n8                   es001.s001.t009     Público     público      J   \n9                   es001.s001.t012  Evaluación  evaluación      N   \n10                  es001.s001.t008     Informe     informe      N   \n11                  es001.s001.t013           (         NaN      X   \n12                  es001.s001.t014        EPAR        epar      N   \n13                  es001.s001.t015           )         NaN      X   \n14                  es001.s001.t016           .         NaN      X   \n15                  es001.s002.t002          él         NaN      X   \n16  es001.s002.t003➕es001.s002.t004  se➕explica         NaN    X➕V   \n17                  es001.s002.t005        cómo        cómo      R   \n18                  es001.s002.t006          el         NaN      X   \n19                  es001.s002.t007      Comité      comité      N   \n\n        Sense ES  \n0            NaN  \n1   bn:00028015n  \n2            NaN  \n3            NaN  \n4   bn:00075142n  \n5            NaN  \n6            NaN  \n7   bn:00102440a  \n8   bn:00109211a  \n9   bn:00006502n  \n10  bn:00067181n  \n11           NaN  \n12           NaN  \n13           NaN  \n14           NaN  \n15           NaN  \n16  bn:00087869v  \n17           NaN  \n18           NaN  \n19  bn:00021015n  ",
      "text/html": "<div>\n<style scoped>\n    .dataframe tbody tr th:only-of-type {\n        vertical-align: middle;\n    }\n\n    .dataframe tbody tr th {\n        vertical-align: top;\n    }\n\n    .dataframe thead th {\n        text-align: right;\n    }\n</style>\n<table border=\"1\" class=\"dataframe\">\n  <thead>\n    <tr style=\"text-align: right;\">\n      <th></th>\n      <th>Token ID</th>\n      <th>Token</th>\n      <th>Lemma</th>\n      <th>POS</th>\n      <th>Sense</th>\n      <th>Token ID ES</th>\n      <th>Token ES</th>\n      <th>Lemma ES</th>\n      <th>POS ES</th>\n      <th>Sense ES</th>\n    </tr>\n  </thead>\n  <tbody>\n    <tr>\n      <th>0</th>\n      <td>d001.s001.t001</td>\n      <td>This</td>\n      <td>NaN</td>\n      <td>X</td>\n      <td>NaN</td>\n      <td>es001.s001.t003</td>\n      <td>presente</td>\n      <td>presente</td>\n      <td>J</td>\n      <td>NaN</td>\n    </tr>\n    <tr>\n      <th>1</th>\n      <td>d001.s001.t002</td>\n      <td>document</td>\n      <td>document</td>\n      <td>N</td>\n      <td>bn:00028015n</td>\n      <td>es001.s001.t004</td>\n      <td>documento</td>\n      <td>documento</td>\n      <td>N</td>\n      <td>bn:00028015n</td>\n    </tr>\n    <tr>\n      <th>2</th>\n      <td>d001.s001.t003</td>\n      <td>is</td>\n      <td>be</td>\n      <td>V</td>\n      <td>NaN</td>\n      <td>es001.s001.t005</td>\n      <td>se</td>\n      <td>NaN</td>\n      <td>X</td>\n      <td>NaN</td>\n    </tr>\n    <tr>\n      <th>3</th>\n      <td>d001.s001.t004</td>\n      <td>a</td>\n      <td>NaN</td>\n      <td>X</td>\n      <td>NaN</td>\n      <td>es001.s001.t002</td>\n      <td>el</td>\n      <td>NaN</td>\n      <td>X</td>\n      <td>NaN</td>\n    </tr>\n    <tr>\n      <th>4</th>\n      <td>d001.s001.t005</td>\n      <td>summary</td>\n      <td>summary</td>\n      <td>N</td>\n      <td>bn:00075142n</td>\n      <td>es001.s001.t006</td>\n      <td>resume</td>\n      <td>resumir</td>\n      <td>V</td>\n      <td>bn:00075142n</td>\n    </tr>\n    <tr>\n      <th>5</th>\n      <td>d001.s001.t006</td>\n      <td>of</td>\n      <td>NaN</td>\n      <td>X</td>\n      <td>NaN</td>\n      <td>es001.s001.t011</td>\n      <td>de</td>\n      <td>NaN</td>\n      <td>X</td>\n      <td>NaN</td>\n    </tr>\n    <tr>\n      <th>6</th>\n      <td>d001.s001.t007</td>\n      <td>the</td>\n      <td>NaN</td>\n      <td>X</td>\n      <td>NaN</td>\n      <td>es001.s001.t007</td>\n      <td>el</td>\n      <td>NaN</td>\n      <td>X</td>\n      <td>NaN</td>\n    </tr>\n    <tr>\n      <th>7</th>\n      <td>d001.s001.t008</td>\n      <td>European</td>\n      <td>european</td>\n      <td>J</td>\n      <td>bn:00102440a</td>\n      <td>es001.s001.t010</td>\n      <td>Europeo</td>\n      <td>europeo</td>\n      <td>J</td>\n      <td>bn:00102440a</td>\n    </tr>\n    <tr>\n      <th>8</th>\n      <td>d001.s001.t009</td>\n      <td>Public</td>\n      <td>public</td>\n      <td>J</td>\n      <td>bn:00109211a</td>\n      <td>es001.s001.t009</td>\n      <td>Público</td>\n      <td>público</td>\n      <td>J</td>\n      <td>bn:00109211a</td>\n    </tr>\n    <tr>\n      <th>9</th>\n      <td>d001.s001.t010</td>\n      <td>Assessment</td>\n      <td>assessment</td>\n      <td>N</td>\n      <td>bn:00006502n</td>\n      <td>es001.s001.t012</td>\n      <td>Evaluación</td>\n      <td>evaluación</td>\n      <td>N</td>\n      <td>bn:00006502n</td>\n    </tr>\n    <tr>\n      <th>10</th>\n      <td>d001.s001.t011</td>\n      <td>Report</td>\n      <td>report</td>\n      <td>N</td>\n      <td>bn:00067181n</td>\n      <td>es001.s001.t008</td>\n      <td>Informe</td>\n      <td>informe</td>\n      <td>N</td>\n      <td>bn:00067181n</td>\n    </tr>\n    <tr>\n      <th>11</th>\n      <td>d001.s001.t012</td>\n      <td>(</td>\n      <td>NaN</td>\n      <td>X</td>\n      <td>NaN</td>\n      <td>es001.s001.t013</td>\n      <td>(</td>\n      <td>NaN</td>\n      <td>X</td>\n      <td>NaN</td>\n    </tr>\n    <tr>\n      <th>12</th>\n      <td>d001.s001.t013</td>\n      <td>EPAR</td>\n      <td>epar</td>\n      <td>N</td>\n      <td>NaN</td>\n      <td>es001.s001.t014</td>\n      <td>EPAR</td>\n      <td>epar</td>\n      <td>N</td>\n      <td>NaN</td>\n    </tr>\n    <tr>\n      <th>13</th>\n      <td>d001.s001.t014</td>\n      <td>)</td>\n      <td>NaN</td>\n      <td>X</td>\n      <td>NaN</td>\n      <td>es001.s001.t015</td>\n      <td>)</td>\n      <td>NaN</td>\n      <td>X</td>\n      <td>NaN</td>\n    </tr>\n    <tr>\n      <th>14</th>\n      <td>d001.s001.t015</td>\n      <td>.</td>\n      <td>NaN</td>\n      <td>X</td>\n      <td>NaN</td>\n      <td>es001.s001.t016</td>\n      <td>.</td>\n      <td>NaN</td>\n      <td>X</td>\n      <td>NaN</td>\n    </tr>\n    <tr>\n      <th>15</th>\n      <td>d001.s002.t001</td>\n      <td>It</td>\n      <td>NaN</td>\n      <td>X</td>\n      <td>NaN</td>\n      <td>es001.s002.t002</td>\n      <td>él</td>\n      <td>NaN</td>\n      <td>X</td>\n      <td>NaN</td>\n    </tr>\n    <tr>\n      <th>16</th>\n      <td>d001.s002.t002</td>\n      <td>explains</td>\n      <td>explain</td>\n      <td>V</td>\n      <td>bn:00087869v</td>\n      <td>es001.s002.t003➕es001.s002.t004</td>\n      <td>se➕explica</td>\n      <td>NaN</td>\n      <td>X➕V</td>\n      <td>bn:00087869v</td>\n    </tr>\n    <tr>\n      <th>17</th>\n      <td>d001.s002.t003</td>\n      <td>how</td>\n      <td>NaN</td>\n      <td>X</td>\n      <td>NaN</td>\n      <td>es001.s002.t005</td>\n      <td>cómo</td>\n      <td>cómo</td>\n      <td>R</td>\n      <td>NaN</td>\n    </tr>\n    <tr>\n      <th>18</th>\n      <td>d001.s002.t004</td>\n      <td>the</td>\n      <td>NaN</td>\n      <td>X</td>\n      <td>NaN</td>\n      <td>es001.s002.t006</td>\n      <td>el</td>\n      <td>NaN</td>\n      <td>X</td>\n      <td>NaN</td>\n    </tr>\n    <tr>\n      <th>19</th>\n      <td>d001.s002.t005</td>\n      <td>Committee</td>\n      <td>committee</td>\n      <td>N</td>\n      <td>bn:00021015n</td>\n      <td>es001.s002.t007</td>\n      <td>Comité</td>\n      <td>comité</td>\n      <td>N</td>\n      <td>bn:00021015n</td>\n    </tr>\n  </tbody>\n</table>\n</div>"
     },
     "execution_count": 677,
     "metadata": {},
     "output_type": "execute_result"
    }
   ],
   "source": [
    "# aligned_tks_df[]\n",
    "aligned_tks_df.head(20)"
   ],
   "metadata": {
    "collapsed": false,
    "ExecuteTime": {
     "end_time": "2024-07-08T16:28:55.694668Z",
     "start_time": "2024-07-08T16:28:55.677228Z"
    }
   },
   "id": "3762e840ae06d384"
  },
  {
   "cell_type": "code",
   "execution_count": 678,
   "outputs": [],
   "source": [
    "aligned_tks_df.to_csv(ALIGN_TOKEN_FILE, sep='\\t', index=False)"
   ],
   "metadata": {
    "collapsed": false,
    "ExecuteTime": {
     "end_time": "2024-07-08T16:29:06.012711Z",
     "start_time": "2024-07-08T16:29:05.993540Z"
    }
   },
   "id": "e5368fae50b58bf8"
  },
  {
   "cell_type": "code",
   "execution_count": null,
   "outputs": [],
   "source": [],
   "metadata": {
    "collapsed": false
   },
   "id": "58f3349a3405b870"
  }
 ],
 "metadata": {
  "kernelspec": {
   "display_name": "Python 3",
   "language": "python",
   "name": "python3"
  },
  "language_info": {
   "codemirror_mode": {
    "name": "ipython",
    "version": 2
   },
   "file_extension": ".py",
   "mimetype": "text/x-python",
   "name": "python",
   "nbconvert_exporter": "python",
   "pygments_lexer": "ipython2",
   "version": "2.7.6"
  }
 },
 "nbformat": 4,
 "nbformat_minor": 5
}
