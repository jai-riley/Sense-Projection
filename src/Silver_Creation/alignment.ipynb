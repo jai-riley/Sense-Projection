{
 "cells": [
  {
   "cell_type": "code",
   "execution_count": null,
   "id": "initial_id",
   "metadata": {
    "collapsed": true
   },
   "outputs": [],
   "source": [
    "#!pip install hanlp\n",
    "#!pip install simalign"
   ]
  },
  {
   "cell_type": "code",
   "execution_count": 1,
   "outputs": [
    {
     "name": "stderr",
     "output_type": "stream",
     "text": [
      "/usr/local/lib/python3.11/site-packages/transformers/utils/generic.py:441: UserWarning: torch.utils._pytree._register_pytree_node is deprecated. Please use torch.utils._pytree.register_pytree_node instead.\n",
      "  _torch_pytree._register_pytree_node(\n",
      "/usr/local/lib/python3.11/site-packages/transformers/utils/generic.py:309: UserWarning: torch.utils._pytree._register_pytree_node is deprecated. Please use torch.utils._pytree.register_pytree_node instead.\n",
      "  _torch_pytree._register_pytree_node(\n"
     ]
    }
   ],
   "source": [
    "import os, csv\n",
    "\n",
    "import pandas as pd\n",
    "from tqdm import tqdm\n",
    "from simalign import SentenceAligner\n",
    "# from google.cloud import translate_v2 as translate"
   ],
   "metadata": {
    "collapsed": false,
    "ExecuteTime": {
     "end_time": "2024-08-13T02:37:18.760050Z",
     "start_time": "2024-08-13T02:36:35.342407Z"
    }
   },
   "id": "7cb406a76c0f6d9d"
  },
  {
   "cell_type": "code",
   "execution_count": 178,
   "outputs": [],
   "source": [
    "\n",
    "src_lan = 'en'\n",
    "# target language\n",
    "tgt_lan = 'IT'\n",
    "language = \"Italian\"\n",
    "\n",
    "RESOURCE = '/Users/jairiley/Desktop/Research/Sense-Projection'\n",
    "DATA =  RESOURCE+'/data/'+language+'/second-sense'\n",
    "TRANS_FILE = os.path.join(DATA, 'gold-sentences-'+language+'.tsv')\n",
    "TOKENS_FILE = os.path.join(DATA, 'tokens-gold-'+language+'.tsv')\n",
    "ALIGN_SENT_FILE = os.path.join(DATA, 'sentences-aligned-'+language+'.tsv')\n",
    "ALIGN_TOKEN_FILE = os.path.join(DATA, 'tokens-aligned-'+language+'.tsv')\n",
    "\n",
    "# DATA = os.path.join(RESOURCE, 'data')\n",
    "DATA =  RESOURCE+'/data/English/second-sense'\n",
    "\n",
    "KEY = os.path.join(RESOURCE, 'key')\n",
    "RAW_SENSE_TSV = os.path.join(DATA, 'gold-tokens-English-wSenses.tsv')\n",
    "RAW_TOKENS_TSV =  os.path.join(DATA, 'tokens-gold-English.tsv')\n",
    "RAW_SENTENCE_TSV = os.path.join(DATA, 'gold-sentences-English.tsv')\n",
    "JSON_GOOGLE_APPLICATION_CREDENTIALS = os.path.join(KEY, 'tonal-works-420505-eda807c7cc52.json')\n",
    "os.environ['GOOGLE_APPLICATION_CREDENTIALS'] = JSON_GOOGLE_APPLICATION_CREDENTIALS"
   ],
   "metadata": {
    "collapsed": false,
    "ExecuteTime": {
     "end_time": "2024-08-13T04:32:08.801935Z",
     "start_time": "2024-08-13T04:32:08.792631Z"
    }
   },
   "id": "b13fc3dfe5421d25"
  },
  {
   "cell_type": "markdown",
   "source": [
    "# DATA"
   ],
   "metadata": {
    "collapsed": false,
    "ExecuteTime": {
     "end_time": "2024-07-20T00:25:20.160408Z",
     "start_time": "2024-07-20T00:25:20.081626Z"
    }
   },
   "id": "c20c6865ff265fa9"
  },
  {
   "cell_type": "code",
   "execution_count": 179,
   "outputs": [
    {
     "data": {
      "text/plain": "         Token ID     Token     Lemma   POS  \\\n0             NaN      This       NaN     X   \n1  d000.s000.t000  document  document  NOUN   \n2             NaN        is        be  VERB   \n3             NaN         a       NaN     X   \n4  d000.s000.t001   summary   summary  NOUN   \n\n                                           BN Synset  \n0                                                NaN  \n1  bn:00028015n;wiki:document;wn:document%1:10:00...  \n2                                                NaN  \n3                                                NaN  \n4  bn:00075142n;wiki:summary_(law);wn:sum-up%1:10...  ",
      "text/html": "<div>\n<style scoped>\n    .dataframe tbody tr th:only-of-type {\n        vertical-align: middle;\n    }\n\n    .dataframe tbody tr th {\n        vertical-align: top;\n    }\n\n    .dataframe thead th {\n        text-align: right;\n    }\n</style>\n<table border=\"1\" class=\"dataframe\">\n  <thead>\n    <tr style=\"text-align: right;\">\n      <th></th>\n      <th>Token ID</th>\n      <th>Token</th>\n      <th>Lemma</th>\n      <th>POS</th>\n      <th>BN Synset</th>\n    </tr>\n  </thead>\n  <tbody>\n    <tr>\n      <th>0</th>\n      <td>NaN</td>\n      <td>This</td>\n      <td>NaN</td>\n      <td>X</td>\n      <td>NaN</td>\n    </tr>\n    <tr>\n      <th>1</th>\n      <td>d000.s000.t000</td>\n      <td>document</td>\n      <td>document</td>\n      <td>NOUN</td>\n      <td>bn:00028015n;wiki:document;wn:document%1:10:00...</td>\n    </tr>\n    <tr>\n      <th>2</th>\n      <td>NaN</td>\n      <td>is</td>\n      <td>be</td>\n      <td>VERB</td>\n      <td>NaN</td>\n    </tr>\n    <tr>\n      <th>3</th>\n      <td>NaN</td>\n      <td>a</td>\n      <td>NaN</td>\n      <td>X</td>\n      <td>NaN</td>\n    </tr>\n    <tr>\n      <th>4</th>\n      <td>d000.s000.t001</td>\n      <td>summary</td>\n      <td>summary</td>\n      <td>NOUN</td>\n      <td>bn:00075142n;wiki:summary_(law);wn:sum-up%1:10...</td>\n    </tr>\n  </tbody>\n</table>\n</div>"
     },
     "execution_count": 179,
     "metadata": {},
     "output_type": "execute_result"
    }
   ],
   "source": [
    "# raw\n",
    "raw_sense_df = pd.read_csv(RAW_SENSE_TSV, delimiter='\\t', quoting=csv.QUOTE_NONE)\n",
    "raw_sense_df.head()"
   ],
   "metadata": {
    "collapsed": false,
    "ExecuteTime": {
     "end_time": "2024-08-13T04:32:09.136521Z",
     "start_time": "2024-08-13T04:32:09.121413Z"
    }
   },
   "id": "b00d2748a93fc3cc"
  },
  {
   "cell_type": "code",
   "execution_count": 180,
   "outputs": [
    {
     "data": {
      "text/plain": "121"
     },
     "execution_count": 180,
     "metadata": {},
     "output_type": "execute_result"
    }
   ],
   "source": [
    "sentence_df = pd.read_csv(RAW_SENTENCE_TSV, delimiter='\\t',  quoting=csv.QUOTE_NONE)\n",
    "sentence_df.head()\n",
    "sents = sentence_df[\"ID\"].tolist()\n",
    "len(sents)\n",
    "# print(sents)"
   ],
   "metadata": {
    "collapsed": false,
    "ExecuteTime": {
     "end_time": "2024-08-13T04:32:09.367656Z",
     "start_time": "2024-08-13T04:32:09.327803Z"
    }
   },
   "id": "f042be62c8de0a8c"
  },
  {
   "cell_type": "code",
   "execution_count": 181,
   "outputs": [
    {
     "name": "stdout",
     "output_type": "stream",
     "text": [
      "['d000.s000', 'd000.s001', 'd000.s002', 'd000.s003', 'd000.s004', 'd000.s005', 'd000.s006', 'd000.s007', 'd000.s008', 'd000.s009', 'd000.s010', 'd000.s011', 'd000.s012', 'd000.s013', 'd000.s014', 'd000.s015', 'd000.s016', 'd000.s017', 'd000.s018', 'd000.s019', 'd000.s020', 'd000.s021', 'd000.s022', 'd000.s023', 'd000.s024', 'd000.s025', 'd000.s026', 'd000.s027', 'd000.s028', 'd000.s029', 'd000.s030', 'd000.s031', 'd000.s032', 'd000.s033', 'd000.s034', 'd000.s035', 'd000.s036', 'd000.s037', 'd000.s038', 'd000.s039', 'd000.s040', 'd000.s041', 'd000.s042', 'd000.s043', 'd000.s044', 'd000.s045', 'd000.s046', 'd000.s047', 'd000.s048', 'd000.s049', 'd000.s050', 'd000.s051', 'd000.s052', 'd000.s053', 'd000.s054', 'd000.s055', 'd000.s056', 'd000.s057', 'd000.s058', 'd000.s059', 'd000.s060', 'd000.s061', 'd000.s062', 'd000.s063', 'd000.s064', 'd000.s065', 'd000.s066', 'd000.s067', 'd000.s068', 'd000.s069', 'd000.s070', 'd000.s071', 'd000.s072', 'd000.s073', 'd000.s074', 'd000.s075', 'd000.s076', 'd000.s077', 'd000.s078', 'd000.s079', 'd000.s080', 'd000.s081', 'd000.s082', 'd000.s083', 'd000.s084', 'd000.s085', 'd000.s086', 'd000.s087', 'd000.s088', 'd000.s089', 'd000.s090', 'd000.s091', 'd000.s092', 'd000.s093', 'd000.s094', 'd000.s095', 'd000.s096', 'd000.s097', 'd000.s098', 'd000.s099', 'd000.s100', 'd000.s101', 'd000.s102', 'd000.s103', 'd000.s104', 'd000.s105', 'd000.s106', 'd000.s107', 'd000.s108', 'd000.s109', 'd000.s110', 'd000.s111', 'd000.s112', 'd000.s113', 'd000.s114', 'd000.s115', 'd000.s116', 'd000.s117', 'd000.s118', 'd000.s119', 'd000.s120']\n"
     ]
    }
   ],
   "source": [
    "sids = sentence_df[\"ID\"].tolist()\n",
    "# sids = [i.replace('d', 'i') for i in sids]\n",
    "# sids[:4]\n",
    "print(sids)"
   ],
   "metadata": {
    "collapsed": false,
    "ExecuteTime": {
     "end_time": "2024-08-13T04:32:09.455927Z",
     "start_time": "2024-08-13T04:32:09.444711Z"
    }
   },
   "id": "3a52ea439706c5fc"
  },
  {
   "cell_type": "code",
   "execution_count": 182,
   "outputs": [
    {
     "data": {
      "text/plain": "          ID                                           Sentence\n0  d000.s000  Questo documento è la sintesi di una relazione...\n1  d000.s001  L EPAR descrive il modo in cui il comitato per...\n2  d000.s002  Per maggiori informazioni riguardanti le propr...\n3  d000.s003  Per maggiori informazioni riguardo alle motiva...\n4  d000.s004                                 Che cos è Alimta ?",
      "text/html": "<div>\n<style scoped>\n    .dataframe tbody tr th:only-of-type {\n        vertical-align: middle;\n    }\n\n    .dataframe tbody tr th {\n        vertical-align: top;\n    }\n\n    .dataframe thead th {\n        text-align: right;\n    }\n</style>\n<table border=\"1\" class=\"dataframe\">\n  <thead>\n    <tr style=\"text-align: right;\">\n      <th></th>\n      <th>ID</th>\n      <th>Sentence</th>\n    </tr>\n  </thead>\n  <tbody>\n    <tr>\n      <th>0</th>\n      <td>d000.s000</td>\n      <td>Questo documento è la sintesi di una relazione...</td>\n    </tr>\n    <tr>\n      <th>1</th>\n      <td>d000.s001</td>\n      <td>L EPAR descrive il modo in cui il comitato per...</td>\n    </tr>\n    <tr>\n      <th>2</th>\n      <td>d000.s002</td>\n      <td>Per maggiori informazioni riguardanti le propr...</td>\n    </tr>\n    <tr>\n      <th>3</th>\n      <td>d000.s003</td>\n      <td>Per maggiori informazioni riguardo alle motiva...</td>\n    </tr>\n    <tr>\n      <th>4</th>\n      <td>d000.s004</td>\n      <td>Che cos è Alimta ?</td>\n    </tr>\n  </tbody>\n</table>\n</div>"
     },
     "execution_count": 182,
     "metadata": {},
     "output_type": "execute_result"
    }
   ],
   "source": [
    "trans_df = pd.read_csv(TRANS_FILE, delimiter='\\t', quoting=csv.QUOTE_NONE)\n",
    "trans_df.head()"
   ],
   "metadata": {
    "collapsed": false,
    "ExecuteTime": {
     "end_time": "2024-08-13T04:32:09.645514Z",
     "start_time": "2024-08-13T04:32:09.628828Z"
    }
   },
   "id": "86ef027023e515d8"
  },
  {
   "cell_type": "code",
   "execution_count": 183,
   "outputs": [
    {
     "data": {
      "text/plain": "           Token ID       Token       Lemma   POS\n0               NaN      Questo         NaN     X\n1    d000.s000.t000   documento   documento  NOUN\n2               NaN           è      essere  VERB\n3               NaN          la         NaN     X\n4    d000.s000.t001     sintesi     sintesi  NOUN\n..              ...         ...         ...   ...\n995  d000.s038.t000         Non         non   ADV\n996             NaN           è      essere  VERB\n997  d000.s038.t001  necessario  necessario   ADJ\n998  d000.s038.t002   conoscere   conoscere  VERB\n999             NaN      MathML      mathml  NOUN\n\n[1000 rows x 4 columns]",
      "text/html": "<div>\n<style scoped>\n    .dataframe tbody tr th:only-of-type {\n        vertical-align: middle;\n    }\n\n    .dataframe tbody tr th {\n        vertical-align: top;\n    }\n\n    .dataframe thead th {\n        text-align: right;\n    }\n</style>\n<table border=\"1\" class=\"dataframe\">\n  <thead>\n    <tr style=\"text-align: right;\">\n      <th></th>\n      <th>Token ID</th>\n      <th>Token</th>\n      <th>Lemma</th>\n      <th>POS</th>\n    </tr>\n  </thead>\n  <tbody>\n    <tr>\n      <th>0</th>\n      <td>NaN</td>\n      <td>Questo</td>\n      <td>NaN</td>\n      <td>X</td>\n    </tr>\n    <tr>\n      <th>1</th>\n      <td>d000.s000.t000</td>\n      <td>documento</td>\n      <td>documento</td>\n      <td>NOUN</td>\n    </tr>\n    <tr>\n      <th>2</th>\n      <td>NaN</td>\n      <td>è</td>\n      <td>essere</td>\n      <td>VERB</td>\n    </tr>\n    <tr>\n      <th>3</th>\n      <td>NaN</td>\n      <td>la</td>\n      <td>NaN</td>\n      <td>X</td>\n    </tr>\n    <tr>\n      <th>4</th>\n      <td>d000.s000.t001</td>\n      <td>sintesi</td>\n      <td>sintesi</td>\n      <td>NOUN</td>\n    </tr>\n    <tr>\n      <th>...</th>\n      <td>...</td>\n      <td>...</td>\n      <td>...</td>\n      <td>...</td>\n    </tr>\n    <tr>\n      <th>995</th>\n      <td>d000.s038.t000</td>\n      <td>Non</td>\n      <td>non</td>\n      <td>ADV</td>\n    </tr>\n    <tr>\n      <th>996</th>\n      <td>NaN</td>\n      <td>è</td>\n      <td>essere</td>\n      <td>VERB</td>\n    </tr>\n    <tr>\n      <th>997</th>\n      <td>d000.s038.t001</td>\n      <td>necessario</td>\n      <td>necessario</td>\n      <td>ADJ</td>\n    </tr>\n    <tr>\n      <th>998</th>\n      <td>d000.s038.t002</td>\n      <td>conoscere</td>\n      <td>conoscere</td>\n      <td>VERB</td>\n    </tr>\n    <tr>\n      <th>999</th>\n      <td>NaN</td>\n      <td>MathML</td>\n      <td>mathml</td>\n      <td>NOUN</td>\n    </tr>\n  </tbody>\n</table>\n<p>1000 rows × 4 columns</p>\n</div>"
     },
     "execution_count": 183,
     "metadata": {},
     "output_type": "execute_result"
    }
   ],
   "source": [
    "tkns_df = pd.read_csv(TOKENS_FILE, delimiter='\\t', quoting=csv.QUOTE_NONE)\n",
    "tkns_df.head(1000)"
   ],
   "metadata": {
    "collapsed": false,
    "ExecuteTime": {
     "end_time": "2024-08-13T04:32:09.863671Z",
     "start_time": "2024-08-13T04:32:09.816070Z"
    }
   },
   "id": "2f432a89a379c822"
  },
  {
   "cell_type": "code",
   "execution_count": 184,
   "outputs": [
    {
     "data": {
      "text/plain": "2851"
     },
     "execution_count": 184,
     "metadata": {},
     "output_type": "execute_result"
    }
   ],
   "source": [
    "tgt_tkns = tkns_df['Token'].tolist()\n",
    "len(tgt_tkns)"
   ],
   "metadata": {
    "collapsed": false,
    "ExecuteTime": {
     "end_time": "2024-08-13T04:32:10.072404Z",
     "start_time": "2024-08-13T04:32:10.022Z"
    }
   },
   "id": "657283dde5c279c5"
  },
  {
   "cell_type": "markdown",
   "source": [
    "# ALIGNMENT"
   ],
   "metadata": {
    "collapsed": false,
    "ExecuteTime": {
     "end_time": "2024-07-20T00:25:29.100491Z",
     "start_time": "2024-07-20T00:25:29.088726Z"
    }
   },
   "id": "19c7b3b3697f3f04"
  },
  {
   "cell_type": "code",
   "execution_count": 185,
   "outputs": [
    {
     "name": "stderr",
     "output_type": "stream",
     "text": [
      "/usr/local/lib/python3.11/site-packages/huggingface_hub/file_download.py:1132: FutureWarning: `resume_download` is deprecated and will be removed in version 1.0.0. Downloads always resume when possible. If you want to force a new download, use `force_download=True`.\n",
      "  warnings.warn(\n",
      "2024-08-12 22:32:16,266 - simalign.simalign - INFO - Initialized the EmbeddingLoader with model: xlm-roberta-base\n"
     ]
    }
   ],
   "source": [
    "device = 'cpu'\n",
    "layer = 8\n",
    "# \"bert\": \"bert-base-multilingual-cased\",\n",
    "# \"xlmr\": \"xlm-roberta-base\"\n",
    "model = 'xlmr'\n",
    "# mwmf (Match), inter (ArgMax), itermax (IterMax)\n",
    "mode = 'inter'\n",
    "matching_methods = 'mai'\n",
    "token_type='bpe'\n",
    "aligner = SentenceAligner(\n",
    "    model=model\n",
    "    , token_type=token_type\n",
    "    , matching_methods=matching_methods\n",
    "    , layer=layer\n",
    "    , device=device\n",
    ")"
   ],
   "metadata": {
    "collapsed": false,
    "ExecuteTime": {
     "end_time": "2024-08-13T04:32:16.276804Z",
     "start_time": "2024-08-13T04:32:10.339018Z"
    }
   },
   "id": "5bfcface1251e192"
  },
  {
   "cell_type": "code",
   "execution_count": 186,
   "outputs": [
    {
     "data": {
      "text/plain": "         Token ID     Token     Lemma   POS  \\\n0             NaN      This       NaN     X   \n1  d000.s000.t000  document  document  NOUN   \n2             NaN        is        be  VERB   \n3             NaN         a       NaN     X   \n4  d000.s000.t001   summary   summary  NOUN   \n\n                                           BN Synset  \n0                                                NaN  \n1  bn:00028015n;wiki:document;wn:document%1:10:00...  \n2                                                NaN  \n3                                                NaN  \n4  bn:00075142n;wiki:summary_(law);wn:sum-up%1:10...  ",
      "text/html": "<div>\n<style scoped>\n    .dataframe tbody tr th:only-of-type {\n        vertical-align: middle;\n    }\n\n    .dataframe tbody tr th {\n        vertical-align: top;\n    }\n\n    .dataframe thead th {\n        text-align: right;\n    }\n</style>\n<table border=\"1\" class=\"dataframe\">\n  <thead>\n    <tr style=\"text-align: right;\">\n      <th></th>\n      <th>Token ID</th>\n      <th>Token</th>\n      <th>Lemma</th>\n      <th>POS</th>\n      <th>BN Synset</th>\n    </tr>\n  </thead>\n  <tbody>\n    <tr>\n      <th>0</th>\n      <td>NaN</td>\n      <td>This</td>\n      <td>NaN</td>\n      <td>X</td>\n      <td>NaN</td>\n    </tr>\n    <tr>\n      <th>1</th>\n      <td>d000.s000.t000</td>\n      <td>document</td>\n      <td>document</td>\n      <td>NOUN</td>\n      <td>bn:00028015n;wiki:document;wn:document%1:10:00...</td>\n    </tr>\n    <tr>\n      <th>2</th>\n      <td>NaN</td>\n      <td>is</td>\n      <td>be</td>\n      <td>VERB</td>\n      <td>NaN</td>\n    </tr>\n    <tr>\n      <th>3</th>\n      <td>NaN</td>\n      <td>a</td>\n      <td>NaN</td>\n      <td>X</td>\n      <td>NaN</td>\n    </tr>\n    <tr>\n      <th>4</th>\n      <td>d000.s000.t001</td>\n      <td>summary</td>\n      <td>summary</td>\n      <td>NOUN</td>\n      <td>bn:00075142n;wiki:summary_(law);wn:sum-up%1:10...</td>\n    </tr>\n  </tbody>\n</table>\n</div>"
     },
     "execution_count": 186,
     "metadata": {},
     "output_type": "execute_result"
    }
   ],
   "source": [
    "raw_sense_df.head()"
   ],
   "metadata": {
    "collapsed": false,
    "ExecuteTime": {
     "end_time": "2024-08-13T04:32:16.293343Z",
     "start_time": "2024-08-13T04:32:16.285844Z"
    }
   },
   "id": "5963d6746fecc939"
  },
  {
   "cell_type": "code",
   "execution_count": 187,
   "outputs": [
    {
     "name": "stdout",
     "output_type": "stream",
     "text": [
      "121\n"
     ]
    }
   ],
   "source": [
    "# english token sequences\n",
    "idxes = raw_sense_df['Token ID'].tolist()\n",
    "tokens = raw_sense_df['Token'].tolist()\n",
    "# print(idxes,tokens)\n",
    "en_sents = []\n",
    "# en_sents2 = trans_df[\"English\"].tolist()\n",
    "# pre_sid = None\n",
    "sent = []\n",
    "for i, s in zip(idxes, tokens):\n",
    "    if s != \"-end-\":\n",
    "        sent.append(s)\n",
    "    else:\n",
    "        en_sents.append(sent)\n",
    "        sent = []\n",
    "print(len(en_sents))\n",
    "# for x in range(len(en_sents)):\n",
    "#     print(\" \".join(en_sents[x]),en_sents2[x])\n",
    "#     if \" \".join(en_sents[x]) != en_sents2[x]:\n",
    "#         print(x)"
   ],
   "metadata": {
    "collapsed": false,
    "ExecuteTime": {
     "end_time": "2024-08-13T04:32:16.327958Z",
     "start_time": "2024-08-13T04:32:16.297047Z"
    }
   },
   "id": "3bb827932bd9b23f"
  },
  {
   "cell_type": "code",
   "execution_count": 188,
   "outputs": [
    {
     "name": "stdout",
     "output_type": "stream",
     "text": [
      "['This', 'document', 'is', 'a', 'summary', 'of', 'the', 'European', 'Public', 'Assessment', 'Report', '(', 'EPAR', ')', '.']\n"
     ]
    }
   ],
   "source": [
    "print(en_sents[0])"
   ],
   "metadata": {
    "collapsed": false,
    "ExecuteTime": {
     "end_time": "2024-08-13T04:32:16.329852Z",
     "start_time": "2024-08-13T04:32:16.305588Z"
    }
   },
   "id": "289f3807b810c81e"
  },
  {
   "cell_type": "code",
   "execution_count": 189,
   "outputs": [
    {
     "name": "stdout",
     "output_type": "stream",
     "text": [
      "[['Questo', 'documento', 'è', 'la', 'sintesi', 'di', 'una', 'relazione', 'pubblica', 'di', 'valutazione', 'europea', '(', 'EPAR', ')', '.'], ['L', 'EPAR', 'descrive', 'il', 'modo', 'in', 'cui', 'il', 'comitato', 'per', 'i', 'medicinali', 'per', 'uso', 'umano', '(', 'CHMP', ')', 'ha', 'valutato', 'gli', 'studi', 'scientifici', 'effettuati', 'e', 'ha', 'formulato', 'le', 'raccomandazioni', 'su', 'come', 'usare', 'il', 'medicinale', '.'], ['Per', 'maggiori', 'informazioni', 'riguardanti', 'le', 'proprie', 'condizioni', 'di', 'salute', 'o', 'la', 'terapia', ',', 'leggere', 'il', 'foglio', 'illustrativo', '(', 'allegato', 'all', 'EPAR', ')', 'oppure', 'consultare', 'il', 'medico', 'o', 'il', 'farmacista', '.'], ['Per', 'maggiori', 'informazioni', 'riguardo', 'alle', 'motivazioni', 'delle', 'raccomandazioni', 'del', 'CHMP', ',', 'leggere', 'la', 'discussione', 'scientifica', '(', 'anch', 'essa', 'allegato', 'all', 'EPAR', ')', '.'], ['Che', 'cos', 'è', 'Alimta', '?'], ['Alimta', 'è', 'una', 'polvere', 'da', 'ricostituire', 'in', 'soluzione', 'per', 'infusione', '(', 'iniezione', 'goccia', 'a', 'goccia', 'in', 'vena', ')', '.'], ['Contiene', 'il', 'principio', 'attivo', 'pemetrexed', '.'], ['Per', 'che', 'cosa', 'si', 'usa', 'Alimta', '?'], ['Alimta', 'è', 'indicato', 'nel', 'trattamento', 'di', 'due', 'tipi', 'di', 'tumore', ':', 'il', 'mesotelioma', 'pleurico', '(', 'tumore', 'della', 'membrana', 'che', 'riveste', 'i', 'polmoni', ',', 'generalmente', 'provocato', 'dall', 'esposizione', 'all', 'amianto', ')', '.'], ['Alimta', 'è', 'utilizzato', 'in', 'combinazione', 'con', 'cisplatino', '(', 'un', 'altro', 'farmaco', 'antitumorale', ')', 'quando', 'il', 'tumore', 'non', 'è', 'asportabile', '(', 'non', 'può', 'essere', 'asportato', 'con', 'il', 'solo', 'intervento', 'chirurgico', ')', 'ed', 'è', 'maligno', '(', 'si', 'è', 'diffuso', ',', 'o', 'è', 'probabile', 'si', 'diffonda', 'facilmente', ',', 'ad', 'altre', 'parti', 'del', 'corpo', ')', ',', 'in', 'pazienti', 'che', 'non', 'sono', 'stati', 'sottoposti', 'in', 'precedenza', 'a', 'chemioterapia', 'il', 'carcinoma', 'polmonare', 'non', 'a', 'piccole', 'cellule', 'in', 'stadio', 'avanzato', 'o', 'metastatico', 'che', 'non', 'interessa', 'le', 'cellule', 'squamose', '.'], ['Alimta', 'è', 'usato', 'in', 'associazione', 'con', 'cisplatino', 'in', 'pazienti', 'non', 'trattati', 'in', 'passato', 'e', 'da', 'solo', 'in', 'pazienti', 'che', 'in', 'passato', 'sono', 'stati', 'sottoposti', 'ad', 'un', 'altro', 'tipo', 'di', 'chemioterapia', '.'], ['Il', 'medicinale', 'può', 'essere', 'ottenuto', 'soltanto', 'con', 'prescrizione', 'medica', '.'], ['Come', 'si', 'usa', 'Alimta', '?'], ['Alimta', 'deve', 'essere', 'somministrato', 'solamente', 'sotto', 'la', 'supervisione', 'di', 'un', 'medico', 'qualificato', 'per', 'l', 'uso', 'della', 'chemioterapia', 'antitumorale', '.'], ['La', 'dose', 'raccomandata', 'di', 'Alimta', 'è', 'di', '500', 'mg', 'per', 'metro', 'quadrato', 'di', 'superficie', 'corporea', '(', 'calcolata', 'utilizzando', 'l', 'altezza', 'e', 'il', 'peso', 'del', 'paziente', ')', 'da', 'somministrare', 'per', 'infusione', 'endovenosa', 'in', '10', 'minuti', 'una', 'volta', 'ogni', 'tre', 'settimane', '.'], ['Per', 'ridurre', 'gli', 'effetti', 'indesiderati', ',', 'i', 'pazienti', 'devono', 'assumere', 'un', 'corticosteroide', 'e', 'acido', 'folico', '(', 'un', 'tipo', 'di', 'vitamina', ')', 'e', 'ricevere', 'iniezioni', 'di', 'vitamina', 'B12', 'durante', 'il', 'trattamento', 'con', 'Alimta', '.'], ['Quando', 'Alimta', 'è', 'somministrato', 'con', 'cisplatino', ',', 'i', 'pazienti', 'devono', 'assumere', 'un', 'farmaco', 'antiemetico', '(', 'per', 'prevenire', 'il', 'vomito', ')', 'e', 'ricevere', 'un', 'adeguata', 'idratazione', '(', 'per', 'prevenire', 'la', 'disidratazione', ')', 'prima', 'o', 'dopo', 'l', 'assunzione', 'di', 'cisplatino', '.'], ['Il', 'trattamento', 'deve', 'essere', 'posticipato', 'o', 'interrotto', ',', 'o', 'la', 'dose', 'deve', 'essere', 'ridotta', ',', 'nei', 'pazienti', 'con', 'alterazioni', 'nelle', 'conte', 'ematiche', 'o', 'che', 'riportano', 'altri', 'effetti', 'indesiderati', '.'], ['L', 'impiego', 'di', 'Alimta', 'è', 'sconsigliato', 'nei', 'pazienti', 'con', 'insufficienza', 'renale', 'grave', 'o', 'moderata', '.'], ['Per', 'maggiori', 'informazioni', ',', 'si', 'rimanda', 'al', 'Riassunto', 'delle', 'caratteristiche', 'del', 'prodotto', ',', 'anch', 'esso', 'allegato', 'all', 'EPAR', '.'], ['Come', 'agisce', 'Alimta', '?'], ['Il', 'principio', 'attivo', 'di', 'Alimta', ',', 'pemetrexed', ',', 'è', 'un', 'medicinale', 'citotossico', '(', 'medicinale', 'che', 'uccide', 'le', 'cellule', 'in', 'attiva', 'divisione', ',', 'come', 'le', 'cellule', 'tumorali', ')', ',', 'che', 'appartiene', 'al', 'gruppo', 'degli', 'antimetaboliti', '.'], ['Nell', 'organismo', ',', 'pemetrexed', 'viene', 'trasformato', 'in', 'una', 'forma', 'attiva', 'che', 'blocca', 'l', 'attività', 'degli', 'enzimi', 'coinvolti', 'nella', 'produzione', 'dei', 'nucleotidi', '(', 'gli', 'elementi', 'costitutivi', 'di', 'DNA', 'e', 'RNA', ',', 'il', 'materiale', 'genetico', 'delle', 'cellule', ')', '.'], ['Quali', 'studi', 'sono', 'stati', 'effettuati', 'su', 'Alimta', '?'], ['Per', 'il', 'trattamento', 'del', 'mesotelioma', 'pleurico', 'maligno', ',', 'Alimta', 'è', 'stato', 'esaminato', 'nell', 'ambito', 'di', 'uno', 'studio', 'principale', 'condotto', 'su', '456', 'pazienti', 'che', 'non', 'erano', 'stati', 'sottoposti', 'a', 'chemioterapia', 'in', 'precedenza', '.'], ['Gli', 'effetti', 'di', 'Alimta', 'somministrato', 'in', 'combinazione', 'con', 'cisplatino', 'sono', 'stati', 'confrontati', 'con', 'quelli', 'di', 'cisplatino', 'in', 'monoterapia', '.'], ['Per', 'il', 'trattamento', 'del', 'carcinoma', 'polmonare', 'non', 'a', 'piccole', 'cellule', ',', 'gli', 'effetti', 'di', 'Alimta', 'sono', 'stati', 'confrontati', 'con', 'quelli', 'di', 'docetaxel', '(', 'un', 'altro', 'farmaco', 'antitumorale', ')', 'in', 'uno', 'studio', 'condotto', 'su', '571', 'pazienti', 'con', 'tumore', 'in', 'fase', 'avanzata', 'o', 'metastatica', ',', 'già', 'sottoposti', 'in', 'precedenza', 'a', 'chemioterapia', '.'], ['Alimta', 'è', 'stato', 'anche', 'confrontato', 'con', 'gemcitabina', '(', 'altro', 'medicinale', 'antitumorale', ')', ',', 'entrambi', 'in', 'associazione', 'con', 'cisplatino', ',', 'in', 'uno', 'studio', 'su', '1.725', 'pazienti', 'che', 'in', 'passato', 'non', 'erano', 'mai', 'stati', 'sottoposti', 'a', 'chemioterapia', 'per', 'tumore', 'polmonare', '.'], ['In', 'tutti', 'e', 'tre', 'gli', 'studi', ',', 'il', 'principale', 'indicatore', 'dell', 'efficacia', 'era', 'il', 'tempo', 'di', 'sopravvivenza', 'dei', 'pazienti', '.'], ['Quali', 'benefici', 'ha', 'mostrato', 'Alimta', 'nel', 'corso', 'degli', 'studi', '?'], ['Alimta', 'ha', 'aumentato', 'il', 'tempo', 'di', 'sopravvivenza', 'dei', 'pazienti', 'affetti', 'da', 'mesotelioma', 'pleurico', 'maligno', '.'], ['I', 'soggetti', 'a', 'cui', 'è', 'stato', 'somministrato', 'Alimta', 'in', 'combinazione', 'con', 'cisplatino', 'sono', 'sopravvissuti', 'in', 'media', '12,1', 'mesi', ',', 'rispetto', 'ai', '9,3', 'mesi', 'dei', 'pazienti', 'che', 'hanno', 'assunto', 'cisplatino', 'in', 'monoterapia', '.'], ['Nel', 'trattamento', 'dei', 'pazienti', 'con', 'carcinoma', 'polmonare', 'non', 'a', 'piccole', 'cellule', ',', 'Alimta', 'si', 'è', 'rivelato', 'tanto', 'efficace', 'quanto', 'i', 'comparatori', '.'], ['Nei', 'pazienti', 'che', 'in', 'passato', 'erano', 'stati', 'sottoposti', 'a', 'chemioterapia', ',', 'il', 'tempo', 'di', 'sopravvivenza', 'medio', 'è', 'stato', 'di', '8,3', 'mesi', 'con', 'Alimta', ',', 'contro', '7,9', 'con', 'docetaxel', '.'], ['Nei', 'pazienti', 'che', 'in', 'passato', 'non', 'erano', 'stati', 'sottoposti', 'a', 'chemioterapia', ',', 'il', 'tempo', 'di', 'sopravvivenza', 'medio', 'è', 'stato', 'di', '10,3', 'mesi', 'in', 'entrambi', 'i', 'gruppi', '.'], ['Tuttavia', ',', 'in', 'entrambi', 'gli', 'studi', 'i', 'pazienti', 'il', 'cui', 'tumore', 'non', 'interessava', 'cellule', 'squamose', 'hanno', 'riportato', 'tempi', 'di', 'sopravvivenza', 'più', 'lunghi', 'se', 'trattati', 'con', 'Alimta', 'che', 'se', 'trattati', 'con', 'il', 'comparatore', '.'], ['Invece', ',', 'i', 'pazienti', 'il', 'cui', 'tumore', 'interessava', 'cellule', 'squamose', 'hanno', 'riportato', 'tempi', 'di', 'sopravvivenza', 'più', 'brevi', 'se', 'trattati', 'con', 'Alimta', '.', 'kalgebra', 'è', 'una', 'calcolatrice', 'matematica', 'basata', 'sul', 'linguaggio', 'MathML', '.'], ['Può', 'eseguire', 'semplici', 'operazioni', '(', 'aritmetiche', 'e', 'logiche', ')', 'in', 'MathML', 'e', 'può', 'rappresentare', 'grafici', '2D', 'e', '3D', '.'], ['Non', 'è', 'necessario', 'conoscere', 'MathML', 'per', 'usare', 'kalgebra', '.', 'kalgebra', 'è', 'una', 'calcolatrice', 'grafica', 'basata', 'sul', 'linguaggio', 'MathML', '.'], ['Anche', 'se', 'inizialmente', 'era', 'orientata', \"all'\", 'uso', 'usando', 'MathML', ',', 'può', 'essere', 'usata', 'da', 'chiunque', 'con', 'un', 'minimo', 'di', 'conoscenza', 'matematica', '.'], ['Immagine', 'della', 'finestra', 'principale', 'di', 'kalgebra', 'Finestra', 'principale', 'di', 'kalgebra', 'La', 'finestra', 'principale', 'di', 'kalgebra', 'è', 'composta', 'da', 'una', 'scheda', 'Console', ',', 'una', 'scheda', '2D', ',', 'una', 'scheda', '3D', 'e', 'una', 'scheda', 'Dizionario', '.'], ['Sotto', 'queste', 'schede', 'si', 'trova', 'un', 'campo', 'di', 'inserimento', 'per', 'scrivere', 'le', 'funzioni', 'o', 'fare', 'calcoli', '.'], ['Se', 'vogliamo', 'capire', 'come', 'funziona', ',', 'la', 'cosa', 'migliore', 'da', 'fare', 'è', 'comprendere', 'che', 'ciò', 'che', 'viene', 'inserito', 'è', 'convertito', 'in', 'MathML', ',', 'anche', 'se', 'non', 'è', 'necessario', 'conoscere', 'MathML', '.'], ['Ho', 'basato', 'la', 'sintassi', 'praticamente', 'sul', 'senso', 'comune', ',', 'e', 'non', 'dovrebbe', 'essere', 'difficile', '.'], ['Ho', 'dato', \"un'\", 'occhiata', 'alla', 'sintassi', 'di', 'Maxima', 'e', 'di', 'Maple', ',', 'in', 'modo', 'da', 'esserne', 'abbastanza', 'simile', '.', '+', '-', '*', '/', ':', 'addizione', ',', 'sottrazione', ',', 'moltiplicazione', 'e', 'divisione', '.', '^', ',', '**', ':', 'elevamento', 'a', 'potenza', ',', 'puoi', 'usare', 'entrambi', '.'], ['È', 'anche', 'possibile', 'usare', 'il', 'carattere', 'Unicode', '²', '.'], ['Con', 'gli', 'elevamenti', 'a', 'potenza', 'è', 'anche', 'possibile', 'effettuare', 'radici', '-gt', ':', 'È', 'il', 'modo', 'di', 'specificare', 'la', 'variabile', 'vincolata', 'in', 'una', 'funzione', '.', '(', ')', ':', 'usato', 'per', 'specificare', 'una', 'priorità', 'più', 'alta', '.', 'abc(parametri)', ':', 'Quando', \"l'\", 'analizzatore', 'trova', 'una', 'funzione', ',', 'controlla', 'se', '«', 'abc', '»', 'è', 'un', 'operatore', '.'], ['Se', 'lo', 'è', ',', 'sarà', 'trattato', 'come', 'un', 'operatore', 'se', 'non', 'lo', 'è', ',', 'sarà', 'trattato', 'come', 'una', 'funzione', 'utente', '.', ':', '=', ':', 'Usata', 'per', 'definire', 'il', 'valore', 'di', 'una', 'variabile', '.', '?', ':', 'Definizione', 'di', 'condizione', 'definita', 'a', 'tratti', '.'], ['Una', 'definizione', '\"\"\"\"', 'a', 'tratti', '\"\"\"\"', 'è', 'il', 'modo', 'in', 'cui', 'possiamo', 'definire', 'operazioni', 'condizionali', 'in', 'kalgebra', '.'], ['Se', 'introduciamo', 'la', 'condizione', 'prima', 'del', '«', '?', '»', ',', 'questa', 'condizione', 'sarà', 'usata', 'solo', 'se', 'è', 'vera', 'se', 'viene', 'trovato', 'un', '«', '?', '»', 'senza', 'condizione', ',', 'verrà', 'usato', 'come', 'ultima', 'alternativa', '.', '{', '}', ':', 'contenitore', 'MathML', ';', 'Può', 'essere', 'usato', 'per', 'definire', 'un', 'contenitore', '.'], ['Utile', 'principalmente', 'per', 'le', 'funzioni', 'definite', 'a', 'tratti', '.'], ['Adesso', 'potresti', 'chiedermi', ':', 'perché', \"l'\", 'utente', 'dovrebbe', 'conoscere', 'MathML', '?', 'Semplice', ':', 'con', 'il', 'MathML', 'possiamo', 'operare', 'con', 'funzioni', 'come', 'cos()', ',', 'sin()', '(', 'e', 'qualsiasi', 'altra', 'funzione', 'trigonometrica', ')', ',', 'sum()', 'o', 'product()', '.'], ['Non', 'importa', 'che', 'tipo', 'di', 'funzione', 'sia', '.'], ['Possiamo', 'usare', 'plus()', ',', 'times()', 'e', 'qualunque', 'cosa', 'che', 'ha', 'un', 'operatore', '.', 'La', 'console', 'di', 'kalgebra', 'è', 'utile', 'come', 'calcolatrice', '.'], ['C', 'è', 'una', 'lista', 'delle', 'variabili', 'dichiarate', '.'], ['Facendo', 'doppio', 'clic', 'su', 'ognuna', 'di', 'esse', 'puoi', 'vedere', 'una', 'finestra', 'di', 'dialogo', 'che', 'ti', 'permette', 'di', 'modificarne', 'il', 'valore', '(', 'un', 'modo', 'per', 'ingannare', 'il', 'log', ')', '.'], ['Ogni', 'volta', 'che', 'inserisci', \"un'\", 'espressione', ',', 'il', 'valore', 'della', 'variabile', '«', 'ans', '»', 'sarà', 'modificato', \"all'\", 'ultimo', 'risultato', '.'], ['Ctrl', 'N', 'Nuovo'], ['Pulisce', 'la', 'console', '.'], ['Ctrl', 'C', 'Carica', 'script'], ['Esegue', 'le', 'istruzioni', 'presenti', 'in', 'un', 'file', '.'], ['Un', 'buon', 'metodo', 'per', 'creare', '\"\"\"\"', 'librerie', '\"\"\"\"', 'o', 'riprendere', 'un', 'lavoro', 'interrotto', 'in', 'precedenza', '.'], ['Ctrl', 'S', 'Salva', 'script'], ['Salva', 'le', 'istruzioni', 'eseguite', \"dall'\", 'inizio', 'della', 'sessione', 'in', 'modo', 'da', 'poterle', 'riusare', '.'], ['Genera', 'file', 'di', 'testo', 'semplice', ',', 'quindi', 'è', 'possibile', 'modificarli', 'usando', 'un', 'qualsiasi', 'editor', 'di', 'testo', '(', 'come', 'Kate', ')', '.'], ['Ctrl', 'L', 'Salva', 'log'], ['Salva', 'il', 'log', 'e', 'tutti', 'i', 'risultati', 'su', 'file', 'HTML', 'che', 'può', 'essere', 'stampato', 'o', 'pubblicato', '.'], ['Ctrl', 'Q', 'Esci'], ['Chiude', 'il', 'programma', '.'], ['Per', 'aggiungere', 'un', 'nuovo', 'grafico', '2D', 'in', 'kalgebra', ',', 'devi', 'andare', 'nella', 'scheda', 'Grafico', '2D', 'e', 'fare', 'clic', 'sulla', 'scheda', 'Aggiungi', 'per', 'aggiungere', 'una', 'nuova', 'funzione', '.'], ['Sarà', 'quindi', 'attivata', 'la', 'casella', 'di', 'testo', 'dove', 'puoi', 'scrivere', 'la', 'funzione', '.'], ['Se', 'vuoi', 'usare', 'una', 'tipica', 'funzione', 'f(x)', 'non', 'è', 'necessario', 'specificarla', '.'], ['Quando', 'hai', 'inserito', 'la', 'funzione', 'premi', 'OK', 'per', 'visualizzare', 'il', 'grafico', 'nella', 'finestra', 'principale', '.'], ['Puoi', 'avere', 'più', 'grafici', 'nella', 'stessa', 'vista', '.'], ['Usa', 'il', 'pulsante', 'Aggiungi', 'in', 'modalità', '«', 'lista', '»', '.'], ['Puoi', 'impostare', 'un', 'diverso', 'colore', 'per', 'ogni', 'grafico', '.'], ['Recentemente', 'la', 'Fondazione', 'ha', 'partecipato', \"all'\", 'organizzazione', 'di', 'una', 'conferenza', 'che', 'ha', 'affrontato', 'questa', 'sfida', 'critica', '.'], ['Hanno', 'partecipato', 'oltre', '100', 'esponenti', 'delle', 'principali', 'categorie', 'interessate', ',', 'i', 'quali', 'hanno', 'discusso', 'fra', \"l'\", 'altro', 'del', 'ruolo', 'degli', 'attori', 'chiave', 'quali', 'pubbliche', 'autorità', ',', 'parti', 'sociali', ',', 'organizzazioni', 'di', 'volontariato', 'e', 'locali', 'nonché', 'utenti', 'dei', 'servizi', '.'], ['Si', 'è', 'convenuto', 'sulla', 'necessità', 'di', \"un'\", 'impostazione', 'più', 'olistica', ',', 'che', 'tenga', 'conto', 'del', 'fatto', 'che', 'gli', 'utenti', 'non', 'beneficiano', 'di', 'questi', 'servizi', 'in', 'isolamento', ',', 'ma', 'piuttosto', 'quale', 'elemento', 'della', 'loro', 'vita', 'quotidiana', '.'], ['Si', 'è', 'anche', 'preso', 'atto', 'della', 'gamma', 'di', 'aioli', 'diversi', 'svolti'], ['Unitamente', 'alla', 'Commissione', 'europea', ',', 'al', 'Ministero', 'degli', 'affari', 'sociali', 'spagnolo', 'e', 'al', 'governo', 'regionale', 'della', 'Galizia', ',', 'la', 'Fondazione', 'ha', 'organizzato', 'una', 'conferenza', 'europea', 'sul', 'tema', 'Esclusione', 'sociale', ':', 'una', 'grande', 'sfida', 'per', 'i', 'servizi', 'pubblici', 'di', 'assistenza', '.'], ['Recentemente', 'la', 'Fondazione', 'ha', 'pubblicato', ',', 'nel', 'quadro', 'del', 'progetto', 'EPOC', ',', 'uno', 'studio', 'comparativo', 'che', 'valuta', 'la', 'misura', 'in', 'cui', 'la', 'partecipazione', 'diretta', 'può', 'umanizzare', 'il', 'lavoro', 'migliorando', 'allo', 'stesso', 'tempo', 'la', 'redditività', '.'], ['Lo', 'studio', 'si', 'basa', 'su', '195', 'interviste', 'personali', 'con', 'alti', 'dirigenti', 'delle', 'parti', 'sociali', ',', 'in', 'rappresentanza', 'delle', 'principali', 'organizzazioni', 'nazionali', 'di', 'quindici', 'paesi', 'europei', '.'], ['Quali', 'settori', 'industriali', 'di', 'rilievo', ',', 'sono', 'stati', 'inclusi', 'anche', \"l'\", 'industria', 'metallurgica', 'e', 'il', 'settore', 'bancario', '.'], ['I', 'principali', 'oratori', 'in', 'occasione', 'della', 'conferenza', \"sull'\", 'esclusione', 'sociale', '(', 'da', 'sinistra', 'a', 'destra', ')', ':', 'Cristina', 'louro', ',', 'Direzione', 'generale', 'per', \"l'\", 'Occupazione', ',', 'le', 'relazioni', 'industriali', 'e', 'gli', 'affari', 'sociali', ',', 'Commissione', 'europea', 'Fernando', 'Gomes', ',', 'Comitato', 'delle', 'regioni', 'Barbara', 'Weiler', ',', 'deputato', 'al', 'Parlamento', 'europeo', 'José', 'María', 'Gil-Robles', 'Gil-Delgado', ',', 'vicepresidente', 'del', 'Parlamento', 'europeo', 'John', 'Cairoti', ',', 'Comitato', 'economico', 'e', 'sociale', '.'], ['Studi', 'di', 'casi', 'Ogni', 'rapporto', 'nazionale', 'contiene', 'una', 'serie', 'di', '25-30', 'iniziative', ',', 'selezionate', 'fra', 'quelle', 'più', 'idonee', 'ad', 'illustrare', 'politiche', 'e', 'prassi', 'volte', 'a', 'migliorare', \"l'\", 'assunzione', ',', 'la', 'formazione', 'e', 'lo', 'sviluppo', 'dei', 'lavoratori', 'anziani', \"nell'\", 'azienda', 'e', 'nella', 'comunità', '.'], ['Per', 'ciascun', 'paese', 'due', 'o', 'tre', 'iniziative', 'sono', 'state', 'ulteriormente', 'selezionate', 'in', 'vista', 'di', 'uno', 'studio', 'di', 'caso', 'più', 'approfondito', '.'], ['Questi', 'studi', 'hanno', 'analizzato', 'il', 'contesto', 'delle', 'iniziative', 'e', 'il', 'loro', 'impatto', 'sui', 'modelli', 'occupazionali', 'e', 'sulle', 'organizzazioni', 'del', 'lavoro', ',', 'valutando', 'inoltre', 'i', 'vantaggi', 'e', 'i', 'problemi', \"dell'\", 'iniziativa', '.'], ['Hanno', 'anche', 'avuto', 'luogo', 'visite', 'e', 'interviste', 'con', 'esponenti', 'chiave', 'del', 'personale', '.'], ['Gli', 'studi', 'nazionali', 'sfoceranno', 'in', 'un', 'rapporto', 'europeo', 'che', 'sintetizzerà', 'le', 'prassi', 'più', 'comuni', '.'], ['Questo', 'rapporto', 'e', 'una', 'raccolta', 'di', 'iniziative', 'saranno', 'pubblicati', 'nel', '1996', 'e', 'costituiranno', 'la', 'base', 'di', 'una', 'conferenza', 'prevista', 'per', \"l'\", 'autunno', 'dello', 'stesso', 'anno', '.'], ['La', 'Fondazione', 'intende', 'documentare', 'le', 'caratteristiche', 'delle', 'barriere', 'inerenti', \"all'\", 'età', 'a', 'livello', 'di', 'assunzione', 'e', 'formazione', 'e', 'analizzarne', 'le', 'cause', '.'], ['Vengono', 'esaminati', 'anche', 'i', 'punti', 'di', 'vista', 'delle', 'parti', 'sociali', ',', 'dedicando', \"un'\", 'attenzione', 'particolare', 'alle', 'proposte', 'volte', 'ad', 'eliminare', 'le', 'barriere', 'inerenti', \"all'\", 'età', '.'], ['In', 'terzo', 'luogo', ',', 'il', 'progetto', 'documenta', 'e', 'valuta', 'iniziative', ',', 'pubbliche', 'e', 'private', ',', 'volte', 'a', 'lottare', 'contro', 'le', 'barriere', 'legate', \"all'\", 'età', ',', 'specialmente', 'a', 'favore', 'dei', 'lavoratori', 'anziani', '.'], ['Ricercando', 'alternative', 'al', 'prepensionamento', 'e', 'al', 'licenziamento', ',', 'il', 'progetto', 'si', 'interessa', 'principalmente', 'al', 'mantenimento', ',', 'alla', 'reintegrazione', 'e', 'alla', 'riqualificazione', 'dei', 'lavoratori', 'anziani', '.'], ['Sono', 'presi', 'in', 'considerazione', 'il', 'sesso', 'e', \"l'\", 'appartenenza', 'etnica', 'dei', 'lavoratori', ',', 'e', 'la', 'loro', 'correlazione', 'con', 'la', 'discriminazione', 'in', 'base', \"all'\", 'età', '.'], ['Il', 'progetto', 'esamina', 'anche', 'iniziative', 'volte', 'a', 'lottare', 'contro', 'la', 'discriminazione', 'basata', \"sull'\", 'età', 'nelle', 'zone', 'rurali', 'e', 'nelle', 'piccole', 'e', 'medie', 'imprese', '.'], ['La', 'ricerca', 'ha', 'per', 'oggetto', 'sette', 'Stati', 'membri', ':', 'Belgio', ',', 'Francia', ',', 'Germania', ',', 'Grecia', ',', 'Italia', ',', 'Paesi', 'Bassi', 'e', 'Regno', 'Unito', '.', 'Sintesi', 'destinata', 'al', 'pubblico'], ['Il', 'presente', 'documento', 'è', 'la', 'sintesi', 'di', 'una', 'relazione', 'di', 'valutazione', 'pubblica', 'europea', '(', 'EPAR', ')', '.'], ['Che', 'cos', 'è', 'Cerenia', '?'], ['Cerenia', 'contiene', 'il', 'principio', 'attivo', 'maropitant', 'ed', 'è', 'disponibile', 'sotto', 'forma', 'di', 'compressa', 'o', 'di', 'soluzione', 'iniettabile', '.'], ['Le', 'compresse', 'sono', 'di', 'color', 'arancione', 'chiaro', 'e', 'hanno', 'una', 'tacca', 'su', 'entrambi', 'i', 'lati', ',', 'per', 'facilitarne', 'la', 'divisione', 'in', 'due', 'metà', '.'], ['Ciascuna', 'compressa', 'è', 'marcata', 'da', 'un', 'lato', 'con', 'il', 'logo', 'Pfizer', 'e', 'dall', 'altro', 'lato', 'con', 'le', 'lettere', 'MPT', 'e', 'con', 'numeri', 'che', 'indicano', 'la', 'quantità', 'di', 'maropitant', '.'], ['Per', 'che', 'cosa', 'si', 'usa', 'Cerenia', '?'], ['Cerenia', 'è', 'un', 'antiemetico', ',', 'ossia', 'un', 'medicinale', 'che', 'arresta', 'il', 'vomito', '.'], ['È', 'usato', 'nei', 'cani', 'per', 'prevenire', 'il', 'vomito', 'causato', ',', 'per', 'esempio', ',', 'dalla', 'chemioterapia', '(', 'medicinali', 'usati', 'per', 'la', 'cura', 'del', 'cancro', ',', 'alcuni', 'dei', 'quali', 'noti', 'per', 'provocare', 'il', 'vomito', ')', '.'], ['In', 'combinazione', 'con', 'altre', 'misure', 'di', 'supporto', ',', 'per', 'esempio', 'altre', 'terapie', 'veterinarie', 'o', 'una', 'dieta', 'speciale', ',', 'Cerenia', 'può', 'anche', 'essere', 'usato', 'nel', 'trattamento', 'del', 'vomito', '(', 'sia', 'come', 'iniezione', 'che', 'come', 'iniezione', 'seguita', 'da', 'compresse', ')', '.'], ['Per', 'tali', 'scopi', 'Cerenia', 'può', 'essere', 'somministrato', 'fino', 'a', 'un', 'massimo', 'di', 'cinque', 'giorni', '.'], ['Come', 'agisce', 'Cerenia', '?'], ['Cerenia', 'blocca', 'un', 'recettore', 'della', 'neurochinina', '(', 'NK1', ')', 'che', 'agisce', 'a', 'livello', 'del', 'sistema', 'nervoso', 'centrale', '.'], ['Come', 'è', 'stata', 'studiata', 'l', 'efficacia', 'di', 'Cerenia', '?'], ['Sono', 'stati', 'condotti', 'numerosi', 'studi', 'con', 'Cerenia', ',', 'sia', 'su', 'cani', 'da', 'laboratorio', 'sia', 'su', 'animali', 'in', 'cura', 'presso', 'studi', 'veterinari', 'di', 'diversi', 'paesi', 'europei', 'e', 'negli', 'Stati', 'Uniti', 'd', 'America', '.'], ['Quali', 'benefici', 'ha', 'mostrato', 'Cerenia', 'nel', 'corso', 'degli', 'studi', '?'], ['Dai', 'risultati', 'degli', 'studi', 'è', 'emerso', 'che', 'Cerenia', 'è', 'più', 'efficace', 'del', 'placebo', ':', 'nei', 'cani', 'trattati', 'con', 'il', 'medicinale', 'gli', 'attacchi', 'di', 'vomito', 'sono', 'stati', 'meno', 'frequenti', 'rispetto', 'agli', 'animali', 'trattati', 'con', 'il', 'placebo', ',', 'sia', 'nel', 'trattamento', 'che', 'nella', 'prevenzione', 'del', 'vomito', '.'], ['Il', 'trattamento', 'di', 'un', 'cane', 'con', 'vomito', 'deve', 'iniziare', 'con', 'l', 'iniezione', ',', 'perché', 'gli', 'animali', 'con', 'attacchi', 'di', 'vomito', 'possono', 'non', 'essere', 'in', 'grado', 'di', 'trattenere', 'la', 'compressa', 'nell', 'organismo', '(', 'che', 'può', 'essere', 'vomitata', 'intatta', ')', '.'], ['Per', 'il', 'trattamento', 'di', 'follow-up', ',', 'le', 'compresse', 'possono', 'essere', 'somministrate', 'dal', 'padrone', 'del', 'cane', '.'], ['Inoltre', ',', 'la', 'cura', 'del', 'vomito', 'deve', 'essere', 'associata', 'ad', 'altre', 'misure', 'di', 'supporto', 'o', 'ad', 'altre', 'terapie', 'veterinarie', 'che', 'intervengano', 'sulle', 'cause', 'del', 'vomito', '.'], ['Quali', 'sono', 'i', 'rischi', 'associati', 'a', 'Cerenia', '?'], ['Cerenia', 'è', 'generalmente', 'ben', 'tollerato', 'se', 'somministrato', 'giornalmente', 'con', 'dosi', 'fino', 'a', '5', 'volte', 'la', 'dose', 'raccomandata', 'per', 'un', 'lungo', 'periodo', 'di', 'tempo', '(', 'fino', 'a', '3', 'volte', 'la', 'durata', 'di', 'trattamento', 'raccomandata', ')', '.'], ['Quali', 'sono', 'le', 'precauzioni', 'che', 'deve', 'prendere', 'la', 'persona', 'che', 'somministra', 'il', 'medicinale', 'o', 'entra', 'in', 'contatto', 'con', 'l', 'animale', '?'], ['Cerenia', 'non', 'presenta', 'particolari', 'rischi', 'per', 'l', 'uomo', '.']]\n",
      "121\n"
     ]
    }
   ],
   "source": [
    "# Italian token sequences\n",
    "idxes = tkns_df['Token ID'].tolist()\n",
    "tokens = tkns_df['Token'].tolist()\n",
    "\n",
    "tgt_sents = []\n",
    "# en_sents2 = trans_df[\"English\"].tolist()\n",
    "# pre_sid = None\n",
    "sent = []\n",
    "for i, s in zip(idxes, tokens):\n",
    "    if s != \"-end-\":\n",
    "        sent.append(s)\n",
    "    else:\n",
    "        tgt_sents.append(sent)\n",
    "        sent = []\n",
    "# print(tgt_sents)\n",
    "# tgt_sents = []\n",
    "# pre_sid = None\n",
    "# s = []\n",
    "# for i, t in zip(idxes, tokens):\n",
    "#     print(i)\n",
    "#     sid = i.split('.')[1]\n",
    "#     if sid != pre_sid:\n",
    "#         if s:\n",
    "#             tgt_sents.append(s)\n",
    "#         pre_sid = sid\n",
    "#         s = [t]\n",
    "#     else:\n",
    "#         s.append(t)\n",
    "# tgt_sents.append(s)\n",
    "print(tgt_sents)\n",
    "print(len(tgt_sents))"
   ],
   "metadata": {
    "collapsed": false,
    "ExecuteTime": {
     "end_time": "2024-08-13T04:32:16.433403Z",
     "start_time": "2024-08-13T04:32:16.316339Z"
    }
   },
   "id": "518ec95ddd6db19"
  },
  {
   "cell_type": "code",
   "execution_count": 190,
   "outputs": [
    {
     "name": "stdout",
     "output_type": "stream",
     "text": [
      "['Vengono', 'esaminati', 'anche', 'i', 'punti', 'di', 'vista', 'delle', 'parti', 'sociali', ',', 'dedicando', \"un'\", 'attenzione', 'particolare', 'alle', 'proposte', 'volte', 'ad', 'eliminare', 'le', 'barriere', 'inerenti', \"all'\", 'età', '.']\n"
     ]
    }
   ],
   "source": [
    "print(tgt_sents[92])"
   ],
   "metadata": {
    "collapsed": false,
    "ExecuteTime": {
     "end_time": "2024-08-13T04:32:16.433831Z",
     "start_time": "2024-08-13T04:32:16.323957Z"
    }
   },
   "id": "cba97c84c3337f7e"
  },
  {
   "cell_type": "code",
   "execution_count": 191,
   "outputs": [
    {
     "name": "stderr",
     "output_type": "stream",
     "text": [
      "100%|██████████| 121/121 [01:03<00:00,  1.91it/s]\n"
     ]
    }
   ],
   "source": [
    "# do the alignment\n",
    "aligns = []\n",
    "for en_s, tgt_s in zip(tqdm(en_sents), tgt_sents):\n",
    "    # print(en_s,tgt_s,'\\n')\n",
    "    alignments = aligner.get_word_aligns(en_s, tgt_s)\n",
    "    align = ''\n",
    "    for w1, w2 in alignments[mode]:\n",
    "        align += f'{w1}-{w2} '\n",
    "    align = align.strip()\n",
    "    aligns.append(align)"
   ],
   "metadata": {
    "collapsed": false,
    "ExecuteTime": {
     "end_time": "2024-08-13T04:33:19.676952Z",
     "start_time": "2024-08-13T04:32:16.333172Z"
    }
   },
   "id": "5d6f1f0ac368d047"
  },
  {
   "cell_type": "code",
   "execution_count": 192,
   "outputs": [
    {
     "data": {
      "text/plain": "'0-0 1-1 2-2 3-3 4-4 5-5 7-11 8-8 9-10 10-7 11-12 12-13 13-14 14-15'"
     },
     "execution_count": 192,
     "metadata": {},
     "output_type": "execute_result"
    }
   ],
   "source": [
    "aligns[0]"
   ],
   "metadata": {
    "collapsed": false,
    "ExecuteTime": {
     "end_time": "2024-08-13T04:33:19.683762Z",
     "start_time": "2024-08-13T04:33:19.679693Z"
    }
   },
   "id": "ccfce3cfa0a1f17d"
  },
  {
   "cell_type": "code",
   "execution_count": 193,
   "outputs": [
    {
     "name": "stdout",
     "output_type": "stream",
     "text": [
      "121\n"
     ]
    },
    {
     "data": {
      "text/plain": "          ID                                           Sentence  \\\n0  d000.s000  Questo documento è la sintesi di una relazione...   \n1  d000.s001  L EPAR descrive il modo in cui il comitato per...   \n2  d000.s002  Per maggiori informazioni riguardanti le propr...   \n3  d000.s003  Per maggiori informazioni riguardo alle motiva...   \n4  d000.s004                                 Che cos è Alimta ?   \n\n                           English-Italian Alignment  \n0  0-0 1-1 2-2 3-3 4-4 5-5 7-11 8-8 9-10 10-7 11-...  \n1  1-2 2-4 3-7 5-9 6-11 8-12 9-14 10-13 11-15 12-...  \n2  0-0 3-1 4-2 5-3 6-5 7-8 8-6 9-9 11-11 12-12 13...  \n3  0-0 3-1 4-2 6-4 9-8 10-9 11-7 12-10 13-11 14-1...  \n4                                    0-1 1-2 2-3 3-4  ",
      "text/html": "<div>\n<style scoped>\n    .dataframe tbody tr th:only-of-type {\n        vertical-align: middle;\n    }\n\n    .dataframe tbody tr th {\n        vertical-align: top;\n    }\n\n    .dataframe thead th {\n        text-align: right;\n    }\n</style>\n<table border=\"1\" class=\"dataframe\">\n  <thead>\n    <tr style=\"text-align: right;\">\n      <th></th>\n      <th>ID</th>\n      <th>Sentence</th>\n      <th>English-Italian Alignment</th>\n    </tr>\n  </thead>\n  <tbody>\n    <tr>\n      <th>0</th>\n      <td>d000.s000</td>\n      <td>Questo documento è la sintesi di una relazione...</td>\n      <td>0-0 1-1 2-2 3-3 4-4 5-5 7-11 8-8 9-10 10-7 11-...</td>\n    </tr>\n    <tr>\n      <th>1</th>\n      <td>d000.s001</td>\n      <td>L EPAR descrive il modo in cui il comitato per...</td>\n      <td>1-2 2-4 3-7 5-9 6-11 8-12 9-14 10-13 11-15 12-...</td>\n    </tr>\n    <tr>\n      <th>2</th>\n      <td>d000.s002</td>\n      <td>Per maggiori informazioni riguardanti le propr...</td>\n      <td>0-0 3-1 4-2 5-3 6-5 7-8 8-6 9-9 11-11 12-12 13...</td>\n    </tr>\n    <tr>\n      <th>3</th>\n      <td>d000.s003</td>\n      <td>Per maggiori informazioni riguardo alle motiva...</td>\n      <td>0-0 3-1 4-2 6-4 9-8 10-9 11-7 12-10 13-11 14-1...</td>\n    </tr>\n    <tr>\n      <th>4</th>\n      <td>d000.s004</td>\n      <td>Che cos è Alimta ?</td>\n      <td>0-1 1-2 2-3 3-4</td>\n    </tr>\n  </tbody>\n</table>\n</div>"
     },
     "execution_count": 193,
     "metadata": {},
     "output_type": "execute_result"
    }
   ],
   "source": [
    "print(len(aligns))\n",
    "trans_df['English-'+language+' Alignment'] = aligns\n",
    "trans_df.head()"
   ],
   "metadata": {
    "collapsed": false,
    "ExecuteTime": {
     "end_time": "2024-08-13T04:33:19.712086Z",
     "start_time": "2024-08-13T04:33:19.691Z"
    }
   },
   "id": "c9f6bf5b055261f2"
  },
  {
   "cell_type": "code",
   "execution_count": 194,
   "outputs": [],
   "source": [
    "trans_df.to_csv(ALIGN_SENT_FILE, sep='\\t', index=False)"
   ],
   "metadata": {
    "collapsed": false,
    "ExecuteTime": {
     "end_time": "2024-08-13T04:33:19.714258Z",
     "start_time": "2024-08-13T04:33:19.702500Z"
    }
   },
   "id": "c1399438fa263261"
  },
  {
   "cell_type": "markdown",
   "source": [],
   "metadata": {
    "collapsed": false,
    "ExecuteTime": {
     "end_time": "2024-07-20T00:26:58.685090Z",
     "start_time": "2024-07-20T00:26:58.668497Z"
    }
   },
   "id": "b6729b5a32fd85f2"
  },
  {
   "cell_type": "markdown",
   "source": [
    "# ALIGN TOKENS IN TOKEN FILE"
   ],
   "metadata": {
    "collapsed": false,
    "ExecuteTime": {
     "end_time": "2024-07-20T00:26:59.328824Z",
     "start_time": "2024-07-20T00:26:59.273476Z"
    }
   },
   "id": "7912a9624f4b8438"
  },
  {
   "cell_type": "code",
   "execution_count": 195,
   "outputs": [
    {
     "data": {
      "text/plain": "         Token ID      Token      Lemma   POS\n0             NaN     Questo        NaN     X\n1  d000.s000.t000  documento  documento  NOUN\n2             NaN          è     essere  VERB\n3             NaN         la        NaN     X\n4  d000.s000.t001    sintesi    sintesi  NOUN",
      "text/html": "<div>\n<style scoped>\n    .dataframe tbody tr th:only-of-type {\n        vertical-align: middle;\n    }\n\n    .dataframe tbody tr th {\n        vertical-align: top;\n    }\n\n    .dataframe thead th {\n        text-align: right;\n    }\n</style>\n<table border=\"1\" class=\"dataframe\">\n  <thead>\n    <tr style=\"text-align: right;\">\n      <th></th>\n      <th>Token ID</th>\n      <th>Token</th>\n      <th>Lemma</th>\n      <th>POS</th>\n    </tr>\n  </thead>\n  <tbody>\n    <tr>\n      <th>0</th>\n      <td>NaN</td>\n      <td>Questo</td>\n      <td>NaN</td>\n      <td>X</td>\n    </tr>\n    <tr>\n      <th>1</th>\n      <td>d000.s000.t000</td>\n      <td>documento</td>\n      <td>documento</td>\n      <td>NOUN</td>\n    </tr>\n    <tr>\n      <th>2</th>\n      <td>NaN</td>\n      <td>è</td>\n      <td>essere</td>\n      <td>VERB</td>\n    </tr>\n    <tr>\n      <th>3</th>\n      <td>NaN</td>\n      <td>la</td>\n      <td>NaN</td>\n      <td>X</td>\n    </tr>\n    <tr>\n      <th>4</th>\n      <td>d000.s000.t001</td>\n      <td>sintesi</td>\n      <td>sintesi</td>\n      <td>NOUN</td>\n    </tr>\n  </tbody>\n</table>\n</div>"
     },
     "execution_count": 195,
     "metadata": {},
     "output_type": "execute_result"
    }
   ],
   "source": [
    "tkns_df.head()\n"
   ],
   "metadata": {
    "collapsed": false,
    "ExecuteTime": {
     "end_time": "2024-08-13T04:33:19.742963Z",
     "start_time": "2024-08-13T04:33:19.710871Z"
    }
   },
   "id": "7f494bb7b47b2faa"
  },
  {
   "cell_type": "code",
   "execution_count": 196,
   "outputs": [
    {
     "data": {
      "text/plain": "         Token ID     Token     Lemma   POS  \\\n0             NaN      This       NaN     X   \n1  d000.s000.t000  document  document  NOUN   \n2             NaN        is        be  VERB   \n3             NaN         a       NaN     X   \n4  d000.s000.t001   summary   summary  NOUN   \n\n                                           BN Synset  \n0                                                NaN  \n1  bn:00028015n;wiki:document;wn:document%1:10:00...  \n2                                                NaN  \n3                                                NaN  \n4  bn:00075142n;wiki:summary_(law);wn:sum-up%1:10...  ",
      "text/html": "<div>\n<style scoped>\n    .dataframe tbody tr th:only-of-type {\n        vertical-align: middle;\n    }\n\n    .dataframe tbody tr th {\n        vertical-align: top;\n    }\n\n    .dataframe thead th {\n        text-align: right;\n    }\n</style>\n<table border=\"1\" class=\"dataframe\">\n  <thead>\n    <tr style=\"text-align: right;\">\n      <th></th>\n      <th>Token ID</th>\n      <th>Token</th>\n      <th>Lemma</th>\n      <th>POS</th>\n      <th>BN Synset</th>\n    </tr>\n  </thead>\n  <tbody>\n    <tr>\n      <th>0</th>\n      <td>NaN</td>\n      <td>This</td>\n      <td>NaN</td>\n      <td>X</td>\n      <td>NaN</td>\n    </tr>\n    <tr>\n      <th>1</th>\n      <td>d000.s000.t000</td>\n      <td>document</td>\n      <td>document</td>\n      <td>NOUN</td>\n      <td>bn:00028015n;wiki:document;wn:document%1:10:00...</td>\n    </tr>\n    <tr>\n      <th>2</th>\n      <td>NaN</td>\n      <td>is</td>\n      <td>be</td>\n      <td>VERB</td>\n      <td>NaN</td>\n    </tr>\n    <tr>\n      <th>3</th>\n      <td>NaN</td>\n      <td>a</td>\n      <td>NaN</td>\n      <td>X</td>\n      <td>NaN</td>\n    </tr>\n    <tr>\n      <th>4</th>\n      <td>d000.s000.t001</td>\n      <td>summary</td>\n      <td>summary</td>\n      <td>NOUN</td>\n      <td>bn:00075142n;wiki:summary_(law);wn:sum-up%1:10...</td>\n    </tr>\n  </tbody>\n</table>\n</div>"
     },
     "execution_count": 196,
     "metadata": {},
     "output_type": "execute_result"
    }
   ],
   "source": [
    "aligned_tks_df = pd.read_csv(RAW_SENSE_TSV, delimiter='\\t', quoting=csv.QUOTE_NONE)\n",
    "aligned_tks_df.head()"
   ],
   "metadata": {
    "collapsed": false,
    "ExecuteTime": {
     "end_time": "2024-08-13T04:33:19.788145Z",
     "start_time": "2024-08-13T04:33:19.725876Z"
    }
   },
   "id": "8b05842023dacc1b"
  },
  {
   "cell_type": "code",
   "execution_count": 197,
   "outputs": [],
   "source": [
    "aligned_tks_df['Token ID '+tgt_lan] = None\n",
    "aligned_tks_df['Token '+tgt_lan] = None\n",
    "aligned_tks_df['Lemma '+tgt_lan] = None\n",
    "aligned_tks_df['POS '+tgt_lan] = None\n",
    "aligned_tks_df['Sense '+tgt_lan] = None"
   ],
   "metadata": {
    "collapsed": false,
    "ExecuteTime": {
     "end_time": "2024-08-13T04:33:19.789159Z",
     "start_time": "2024-08-13T04:33:19.742162Z"
    }
   },
   "id": "cf87633624b64662"
  },
  {
   "cell_type": "code",
   "execution_count": 198,
   "outputs": [
    {
     "name": "stdout",
     "output_type": "stream",
     "text": [
      "2759\n"
     ]
    }
   ],
   "source": [
    "aligned_tks_df.head()\n",
    "print(len(aligned_tks_df['Token']))"
   ],
   "metadata": {
    "collapsed": false,
    "ExecuteTime": {
     "end_time": "2024-08-13T04:33:19.790770Z",
     "start_time": "2024-08-13T04:33:19.751094Z"
    }
   },
   "id": "96cb23c1328bebd2"
  },
  {
   "cell_type": "code",
   "execution_count": 199,
   "outputs": [
    {
     "data": {
      "text/plain": "          ID                                           Sentence  \\\n0  d000.s000  Questo documento è la sintesi di una relazione...   \n1  d000.s001  L EPAR descrive il modo in cui il comitato per...   \n2  d000.s002  Per maggiori informazioni riguardanti le propr...   \n3  d000.s003  Per maggiori informazioni riguardo alle motiva...   \n4  d000.s004                                 Che cos è Alimta ?   \n\n                           English-Italian Alignment  \n0  0-0 1-1 2-2 3-3 4-4 5-5 7-11 8-8 9-10 10-7 11-...  \n1  1-2 2-4 3-7 5-9 6-11 8-12 9-14 10-13 11-15 12-...  \n2  0-0 3-1 4-2 5-3 6-5 7-8 8-6 9-9 11-11 12-12 13...  \n3  0-0 3-1 4-2 6-4 9-8 10-9 11-7 12-10 13-11 14-1...  \n4                                    0-1 1-2 2-3 3-4  ",
      "text/html": "<div>\n<style scoped>\n    .dataframe tbody tr th:only-of-type {\n        vertical-align: middle;\n    }\n\n    .dataframe tbody tr th {\n        vertical-align: top;\n    }\n\n    .dataframe thead th {\n        text-align: right;\n    }\n</style>\n<table border=\"1\" class=\"dataframe\">\n  <thead>\n    <tr style=\"text-align: right;\">\n      <th></th>\n      <th>ID</th>\n      <th>Sentence</th>\n      <th>English-Italian Alignment</th>\n    </tr>\n  </thead>\n  <tbody>\n    <tr>\n      <th>0</th>\n      <td>d000.s000</td>\n      <td>Questo documento è la sintesi di una relazione...</td>\n      <td>0-0 1-1 2-2 3-3 4-4 5-5 7-11 8-8 9-10 10-7 11-...</td>\n    </tr>\n    <tr>\n      <th>1</th>\n      <td>d000.s001</td>\n      <td>L EPAR descrive il modo in cui il comitato per...</td>\n      <td>1-2 2-4 3-7 5-9 6-11 8-12 9-14 10-13 11-15 12-...</td>\n    </tr>\n    <tr>\n      <th>2</th>\n      <td>d000.s002</td>\n      <td>Per maggiori informazioni riguardanti le propr...</td>\n      <td>0-0 3-1 4-2 5-3 6-5 7-8 8-6 9-9 11-11 12-12 13...</td>\n    </tr>\n    <tr>\n      <th>3</th>\n      <td>d000.s003</td>\n      <td>Per maggiori informazioni riguardo alle motiva...</td>\n      <td>0-0 3-1 4-2 6-4 9-8 10-9 11-7 12-10 13-11 14-1...</td>\n    </tr>\n    <tr>\n      <th>4</th>\n      <td>d000.s004</td>\n      <td>Che cos è Alimta ?</td>\n      <td>0-1 1-2 2-3 3-4</td>\n    </tr>\n  </tbody>\n</table>\n</div>"
     },
     "execution_count": 199,
     "metadata": {},
     "output_type": "execute_result"
    }
   ],
   "source": [
    "trans_df.head()"
   ],
   "metadata": {
    "collapsed": false,
    "ExecuteTime": {
     "end_time": "2024-08-13T04:33:19.791296Z",
     "start_time": "2024-08-13T04:33:19.775408Z"
    }
   },
   "id": "6a7cf5efede63ac"
  },
  {
   "cell_type": "code",
   "execution_count": 200,
   "outputs": [],
   "source": [
    "def process_nan(s):\n",
    "  if type(s)!=type(''):\n",
    "    return ''\n",
    "  return s"
   ],
   "metadata": {
    "collapsed": false,
    "ExecuteTime": {
     "end_time": "2024-08-13T04:33:19.791887Z",
     "start_time": "2024-08-13T04:33:19.782182Z"
    }
   },
   "id": "d27a48d2ff0f089a"
  },
  {
   "cell_type": "code",
   "execution_count": 201,
   "outputs": [],
   "source": [
    "count_en = 0\n",
    "sentence_num = 0\n",
    "count_es = 0\n",
    "for i, row in trans_df.iterrows():\n",
    "    # print(row.iloc[0])\n",
    "    sent_i = row.iloc[0]\n",
    "    # print(sent_i)\n",
    "    # print(sent_i)\n",
    "    tgt_sent_i = sent_i\n",
    "    # print(row)\n",
    "    # sent_i = sent_i.replace(\"i\",\"d\")\n",
    "    tgt_sent = tkns_df.loc[count_es:count_es+len(tgt_sents[sentence_num])-1]\n",
    "    en_sent = aligned_tks_df.loc[count_en:count_en+len(en_sents[sentence_num])-1]\n",
    "    # print(tgt_sent.loc[2])\n",
    "    for alignment in row['English-'+language+' Alignment'].split():\n",
    "        w1, w2 = alignment.split('-')\n",
    "        row_tgt = tgt_sent.loc[count_es+int(w2)]\n",
    "        row_en = en_sent.loc[count_en+int(w1)]\n",
    "        if row_en['Token ID '+tgt_lan] is not None:\n",
    "            if str(aligned_tks_df.loc[count_en+int(w1), 'Token ID '+tgt_lan]) != \"nan\":\n",
    "                aligned_tks_df.loc[count_en+int(w1), 'Token ID '+tgt_lan] += '➕' + str(row_tgt['Token ID'])\n",
    "            else:\n",
    "                aligned_tks_df.loc[count_en+int(w1), 'Token ID '+tgt_lan] = str(row_tgt['Token ID'])\n",
    "            aligned_tks_df.loc[count_en+int(w1), 'Token '+tgt_lan] += '➕' + row_tgt['Token']\n",
    "            if aligned_tks_df.loc[count_en+int(w1), 'POS '+tgt_lan] != process_nan(row_tgt['POS']):\n",
    "                aligned_tks_df.loc[count_en+int(w1), 'POS '+tgt_lan] += '➕' + process_nan(row_tgt['POS'])\n",
    "            if aligned_tks_df.loc[count_en+int(w1), 'Sense '+tgt_lan] != process_nan(row_en['BN Synset']):\n",
    "                if str(aligned_tks_df.loc[count_en+int(w1), 'Sense '+tgt_lan]) != \"nan\":\n",
    "                    aligned_tks_df.loc[count_en+int(w1), 'Sense '+tgt_lan] += '➕' + process_nan(row_en['BN Synset'])\n",
    "        else:\n",
    "            aligned_tks_df.loc[count_en+int(w1), 'Token ID '+tgt_lan] = row_tgt['Token ID']\n",
    "            aligned_tks_df.loc[count_en+int(w1), 'Token '+tgt_lan] = row_tgt['Token']\n",
    "            aligned_tks_df.loc[count_en+int(w1), 'Lemma '+tgt_lan] = row_tgt[\"Lemma\"]\n",
    "            aligned_tks_df.loc[count_en+int(w1), 'POS '+tgt_lan] = row_tgt['POS']\n",
    "            aligned_tks_df.loc[count_en+int(w1), 'Sense '+tgt_lan] = row_en['BN Synset']\n",
    "\n",
    "    count_en += len(en_sents[sentence_num])+1\n",
    "    count_es += len(tgt_sents[sentence_num])+1\n",
    "    sentence_num += 1\n",
    "    # print(count_en)"
   ],
   "metadata": {
    "collapsed": false,
    "ExecuteTime": {
     "end_time": "2024-08-13T04:33:20.830307Z",
     "start_time": "2024-08-13T04:33:19.801047Z"
    }
   },
   "id": "2ae5b20f4241c471"
  },
  {
   "cell_type": "code",
   "execution_count": 202,
   "outputs": [
    {
     "data": {
      "text/plain": "          Token ID       Token       Lemma   POS  \\\n0              NaN        This         NaN     X   \n1   d000.s000.t000    document    document  NOUN   \n2              NaN          is          be  VERB   \n3              NaN           a         NaN     X   \n4   d000.s000.t001     summary     summary  NOUN   \n5              NaN          of         NaN     X   \n6              NaN         the         NaN     X   \n7   d000.s000.t002    European    european   ADJ   \n8   d000.s000.t003      Public      public   ADJ   \n9   d000.s000.t004  Assessment  assessment  NOUN   \n10  d000.s000.t005      Report      report  NOUN   \n11             NaN           (         NaN     X   \n12             NaN        EPAR        epar  NOUN   \n13             NaN           )         NaN     X   \n14             NaN           .         NaN     X   \n15             NaN       -end-         NaN     X   \n16             NaN          It         NaN     X   \n17  d000.s001.t000    explains     explain  VERB   \n18             NaN         how         NaN     X   \n19             NaN         the         NaN     X   \n20  d000.s001.t001   Committee   committee  NOUN   \n21             NaN         for         NaN     X   \n22  d000.s001.t002   Medicinal   medicinal   ADJ   \n23  d000.s001.t003    Products     product  NOUN   \n24             NaN         for         NaN     X   \n25  d000.s001.t004       Human       human   ADJ   \n26  d000.s001.t005         Use         use  NOUN   \n27             NaN           (         NaN     X   \n28             NaN        CHMP        chmp  NOUN   \n29             NaN           )         NaN     X   \n\n                                            BN Synset     Token ID IT  \\\n0                                                 NaN             NaN   \n1   bn:00028015n;wiki:document;wn:document%1:10:00...  d000.s000.t000   \n2                                                 NaN             NaN   \n3                                                 NaN             NaN   \n4   bn:00075142n;wiki:summary_(law);wn:sum-up%1:10...  d000.s000.t001   \n5                                                 NaN             NaN   \n6                                                 NaN            None   \n7                  bn:00102440a;wn:european%3:01:00::  d000.s000.t005   \n8                    bn:00109211a;wn:public%3:00:00::  d000.s000.t003   \n9   bn:00006502n;wn:assessment%1:04:00::;wn:judgem...  d000.s000.t004   \n10  bn:00067181n;wiki:report;wn:report%1:10:03::;w...  d000.s000.t002   \n11                                                NaN             NaN   \n12                                                NaN             NaN   \n13                                                NaN             NaN   \n14                                                NaN             NaN   \n15                                                NaN            None   \n16                                                NaN            None   \n17  bn:00087869v;bn:00087870v;wn:explain%2:32:00::...  d000.s001.t000   \n18                                                NaN  d000.s001.t001   \n19                                                NaN             NaN   \n20  bn:00021015n;wiki:committee;wn:commission%1:14...            None   \n21                                                NaN             NaN   \n22  bn:00106556a;wn:medicative%5:00:00:healthful:0...  d000.s001.t003   \n23  bn:00064584n;bn:01740339n;wiki:product_(busine...            None   \n24                                                NaN             NaN   \n25                    bn:00104385a;wn:human%3:01:01::  d000.s001.t005   \n26  bn:00030627n;bn:00079370n;wn:employment%1:04:0...  d000.s001.t004   \n27                                                NaN             NaN   \n28                                                NaN             NaN   \n29                                                NaN             NaN   \n\n       Token IT     Lemma IT POS IT  \\\n0        Questo          NaN      X   \n1     documento    documento   NOUN   \n2             è       essere   VERB   \n3            la          NaN      X   \n4       sintesi      sintesi   NOUN   \n5            di          NaN      X   \n6          None         None   None   \n7       europea      europeo    ADJ   \n8      pubblica     pubblico    ADJ   \n9   valutazione  valutazione   NOUN   \n10    relazione    relazione   NOUN   \n11            (          NaN      X   \n12         EPAR         epar   NOUN   \n13            )          NaN      X   \n14            .          NaN      X   \n15         None         None   None   \n16         None         None   None   \n17     descrive   descrivere   VERB   \n18         modo         modo   NOUN   \n19           il          NaN      X   \n20         None         None   None   \n21          per          NaN      X   \n22   medicinali   medicinale   NOUN   \n23         None         None   None   \n24          per          NaN      X   \n25        umano        umano    ADJ   \n26          uso          uso   NOUN   \n27            (          NaN      X   \n28         CHMP         chmp   NOUN   \n29            )          NaN      X   \n\n                                             Sense IT  \n0                                                 NaN  \n1   bn:00028015n;wiki:document;wn:document%1:10:00...  \n2                                                 NaN  \n3                                                 NaN  \n4   bn:00075142n;wiki:summary_(law);wn:sum-up%1:10...  \n5                                                 NaN  \n6                                                None  \n7                  bn:00102440a;wn:european%3:01:00::  \n8                    bn:00109211a;wn:public%3:00:00::  \n9   bn:00006502n;wn:assessment%1:04:00::;wn:judgem...  \n10  bn:00067181n;wiki:report;wn:report%1:10:03::;w...  \n11                                                NaN  \n12                                                NaN  \n13                                                NaN  \n14                                                NaN  \n15                                               None  \n16                                               None  \n17  bn:00087869v;bn:00087870v;wn:explain%2:32:00::...  \n18                                                NaN  \n19                                                NaN  \n20                                               None  \n21                                                NaN  \n22  bn:00106556a;wn:medicative%5:00:00:healthful:0...  \n23                                               None  \n24                                                NaN  \n25                    bn:00104385a;wn:human%3:01:01::  \n26  bn:00030627n;bn:00079370n;wn:employment%1:04:0...  \n27                                                NaN  \n28                                                NaN  \n29                                                NaN  ",
      "text/html": "<div>\n<style scoped>\n    .dataframe tbody tr th:only-of-type {\n        vertical-align: middle;\n    }\n\n    .dataframe tbody tr th {\n        vertical-align: top;\n    }\n\n    .dataframe thead th {\n        text-align: right;\n    }\n</style>\n<table border=\"1\" class=\"dataframe\">\n  <thead>\n    <tr style=\"text-align: right;\">\n      <th></th>\n      <th>Token ID</th>\n      <th>Token</th>\n      <th>Lemma</th>\n      <th>POS</th>\n      <th>BN Synset</th>\n      <th>Token ID IT</th>\n      <th>Token IT</th>\n      <th>Lemma IT</th>\n      <th>POS IT</th>\n      <th>Sense IT</th>\n    </tr>\n  </thead>\n  <tbody>\n    <tr>\n      <th>0</th>\n      <td>NaN</td>\n      <td>This</td>\n      <td>NaN</td>\n      <td>X</td>\n      <td>NaN</td>\n      <td>NaN</td>\n      <td>Questo</td>\n      <td>NaN</td>\n      <td>X</td>\n      <td>NaN</td>\n    </tr>\n    <tr>\n      <th>1</th>\n      <td>d000.s000.t000</td>\n      <td>document</td>\n      <td>document</td>\n      <td>NOUN</td>\n      <td>bn:00028015n;wiki:document;wn:document%1:10:00...</td>\n      <td>d000.s000.t000</td>\n      <td>documento</td>\n      <td>documento</td>\n      <td>NOUN</td>\n      <td>bn:00028015n;wiki:document;wn:document%1:10:00...</td>\n    </tr>\n    <tr>\n      <th>2</th>\n      <td>NaN</td>\n      <td>is</td>\n      <td>be</td>\n      <td>VERB</td>\n      <td>NaN</td>\n      <td>NaN</td>\n      <td>è</td>\n      <td>essere</td>\n      <td>VERB</td>\n      <td>NaN</td>\n    </tr>\n    <tr>\n      <th>3</th>\n      <td>NaN</td>\n      <td>a</td>\n      <td>NaN</td>\n      <td>X</td>\n      <td>NaN</td>\n      <td>NaN</td>\n      <td>la</td>\n      <td>NaN</td>\n      <td>X</td>\n      <td>NaN</td>\n    </tr>\n    <tr>\n      <th>4</th>\n      <td>d000.s000.t001</td>\n      <td>summary</td>\n      <td>summary</td>\n      <td>NOUN</td>\n      <td>bn:00075142n;wiki:summary_(law);wn:sum-up%1:10...</td>\n      <td>d000.s000.t001</td>\n      <td>sintesi</td>\n      <td>sintesi</td>\n      <td>NOUN</td>\n      <td>bn:00075142n;wiki:summary_(law);wn:sum-up%1:10...</td>\n    </tr>\n    <tr>\n      <th>5</th>\n      <td>NaN</td>\n      <td>of</td>\n      <td>NaN</td>\n      <td>X</td>\n      <td>NaN</td>\n      <td>NaN</td>\n      <td>di</td>\n      <td>NaN</td>\n      <td>X</td>\n      <td>NaN</td>\n    </tr>\n    <tr>\n      <th>6</th>\n      <td>NaN</td>\n      <td>the</td>\n      <td>NaN</td>\n      <td>X</td>\n      <td>NaN</td>\n      <td>None</td>\n      <td>None</td>\n      <td>None</td>\n      <td>None</td>\n      <td>None</td>\n    </tr>\n    <tr>\n      <th>7</th>\n      <td>d000.s000.t002</td>\n      <td>European</td>\n      <td>european</td>\n      <td>ADJ</td>\n      <td>bn:00102440a;wn:european%3:01:00::</td>\n      <td>d000.s000.t005</td>\n      <td>europea</td>\n      <td>europeo</td>\n      <td>ADJ</td>\n      <td>bn:00102440a;wn:european%3:01:00::</td>\n    </tr>\n    <tr>\n      <th>8</th>\n      <td>d000.s000.t003</td>\n      <td>Public</td>\n      <td>public</td>\n      <td>ADJ</td>\n      <td>bn:00109211a;wn:public%3:00:00::</td>\n      <td>d000.s000.t003</td>\n      <td>pubblica</td>\n      <td>pubblico</td>\n      <td>ADJ</td>\n      <td>bn:00109211a;wn:public%3:00:00::</td>\n    </tr>\n    <tr>\n      <th>9</th>\n      <td>d000.s000.t004</td>\n      <td>Assessment</td>\n      <td>assessment</td>\n      <td>NOUN</td>\n      <td>bn:00006502n;wn:assessment%1:04:00::;wn:judgem...</td>\n      <td>d000.s000.t004</td>\n      <td>valutazione</td>\n      <td>valutazione</td>\n      <td>NOUN</td>\n      <td>bn:00006502n;wn:assessment%1:04:00::;wn:judgem...</td>\n    </tr>\n    <tr>\n      <th>10</th>\n      <td>d000.s000.t005</td>\n      <td>Report</td>\n      <td>report</td>\n      <td>NOUN</td>\n      <td>bn:00067181n;wiki:report;wn:report%1:10:03::;w...</td>\n      <td>d000.s000.t002</td>\n      <td>relazione</td>\n      <td>relazione</td>\n      <td>NOUN</td>\n      <td>bn:00067181n;wiki:report;wn:report%1:10:03::;w...</td>\n    </tr>\n    <tr>\n      <th>11</th>\n      <td>NaN</td>\n      <td>(</td>\n      <td>NaN</td>\n      <td>X</td>\n      <td>NaN</td>\n      <td>NaN</td>\n      <td>(</td>\n      <td>NaN</td>\n      <td>X</td>\n      <td>NaN</td>\n    </tr>\n    <tr>\n      <th>12</th>\n      <td>NaN</td>\n      <td>EPAR</td>\n      <td>epar</td>\n      <td>NOUN</td>\n      <td>NaN</td>\n      <td>NaN</td>\n      <td>EPAR</td>\n      <td>epar</td>\n      <td>NOUN</td>\n      <td>NaN</td>\n    </tr>\n    <tr>\n      <th>13</th>\n      <td>NaN</td>\n      <td>)</td>\n      <td>NaN</td>\n      <td>X</td>\n      <td>NaN</td>\n      <td>NaN</td>\n      <td>)</td>\n      <td>NaN</td>\n      <td>X</td>\n      <td>NaN</td>\n    </tr>\n    <tr>\n      <th>14</th>\n      <td>NaN</td>\n      <td>.</td>\n      <td>NaN</td>\n      <td>X</td>\n      <td>NaN</td>\n      <td>NaN</td>\n      <td>.</td>\n      <td>NaN</td>\n      <td>X</td>\n      <td>NaN</td>\n    </tr>\n    <tr>\n      <th>15</th>\n      <td>NaN</td>\n      <td>-end-</td>\n      <td>NaN</td>\n      <td>X</td>\n      <td>NaN</td>\n      <td>None</td>\n      <td>None</td>\n      <td>None</td>\n      <td>None</td>\n      <td>None</td>\n    </tr>\n    <tr>\n      <th>16</th>\n      <td>NaN</td>\n      <td>It</td>\n      <td>NaN</td>\n      <td>X</td>\n      <td>NaN</td>\n      <td>None</td>\n      <td>None</td>\n      <td>None</td>\n      <td>None</td>\n      <td>None</td>\n    </tr>\n    <tr>\n      <th>17</th>\n      <td>d000.s001.t000</td>\n      <td>explains</td>\n      <td>explain</td>\n      <td>VERB</td>\n      <td>bn:00087869v;bn:00087870v;wn:explain%2:32:00::...</td>\n      <td>d000.s001.t000</td>\n      <td>descrive</td>\n      <td>descrivere</td>\n      <td>VERB</td>\n      <td>bn:00087869v;bn:00087870v;wn:explain%2:32:00::...</td>\n    </tr>\n    <tr>\n      <th>18</th>\n      <td>NaN</td>\n      <td>how</td>\n      <td>NaN</td>\n      <td>X</td>\n      <td>NaN</td>\n      <td>d000.s001.t001</td>\n      <td>modo</td>\n      <td>modo</td>\n      <td>NOUN</td>\n      <td>NaN</td>\n    </tr>\n    <tr>\n      <th>19</th>\n      <td>NaN</td>\n      <td>the</td>\n      <td>NaN</td>\n      <td>X</td>\n      <td>NaN</td>\n      <td>NaN</td>\n      <td>il</td>\n      <td>NaN</td>\n      <td>X</td>\n      <td>NaN</td>\n    </tr>\n    <tr>\n      <th>20</th>\n      <td>d000.s001.t001</td>\n      <td>Committee</td>\n      <td>committee</td>\n      <td>NOUN</td>\n      <td>bn:00021015n;wiki:committee;wn:commission%1:14...</td>\n      <td>None</td>\n      <td>None</td>\n      <td>None</td>\n      <td>None</td>\n      <td>None</td>\n    </tr>\n    <tr>\n      <th>21</th>\n      <td>NaN</td>\n      <td>for</td>\n      <td>NaN</td>\n      <td>X</td>\n      <td>NaN</td>\n      <td>NaN</td>\n      <td>per</td>\n      <td>NaN</td>\n      <td>X</td>\n      <td>NaN</td>\n    </tr>\n    <tr>\n      <th>22</th>\n      <td>d000.s001.t002</td>\n      <td>Medicinal</td>\n      <td>medicinal</td>\n      <td>ADJ</td>\n      <td>bn:00106556a;wn:medicative%5:00:00:healthful:0...</td>\n      <td>d000.s001.t003</td>\n      <td>medicinali</td>\n      <td>medicinale</td>\n      <td>NOUN</td>\n      <td>bn:00106556a;wn:medicative%5:00:00:healthful:0...</td>\n    </tr>\n    <tr>\n      <th>23</th>\n      <td>d000.s001.t003</td>\n      <td>Products</td>\n      <td>product</td>\n      <td>NOUN</td>\n      <td>bn:00064584n;bn:01740339n;wiki:product_(busine...</td>\n      <td>None</td>\n      <td>None</td>\n      <td>None</td>\n      <td>None</td>\n      <td>None</td>\n    </tr>\n    <tr>\n      <th>24</th>\n      <td>NaN</td>\n      <td>for</td>\n      <td>NaN</td>\n      <td>X</td>\n      <td>NaN</td>\n      <td>NaN</td>\n      <td>per</td>\n      <td>NaN</td>\n      <td>X</td>\n      <td>NaN</td>\n    </tr>\n    <tr>\n      <th>25</th>\n      <td>d000.s001.t004</td>\n      <td>Human</td>\n      <td>human</td>\n      <td>ADJ</td>\n      <td>bn:00104385a;wn:human%3:01:01::</td>\n      <td>d000.s001.t005</td>\n      <td>umano</td>\n      <td>umano</td>\n      <td>ADJ</td>\n      <td>bn:00104385a;wn:human%3:01:01::</td>\n    </tr>\n    <tr>\n      <th>26</th>\n      <td>d000.s001.t005</td>\n      <td>Use</td>\n      <td>use</td>\n      <td>NOUN</td>\n      <td>bn:00030627n;bn:00079370n;wn:employment%1:04:0...</td>\n      <td>d000.s001.t004</td>\n      <td>uso</td>\n      <td>uso</td>\n      <td>NOUN</td>\n      <td>bn:00030627n;bn:00079370n;wn:employment%1:04:0...</td>\n    </tr>\n    <tr>\n      <th>27</th>\n      <td>NaN</td>\n      <td>(</td>\n      <td>NaN</td>\n      <td>X</td>\n      <td>NaN</td>\n      <td>NaN</td>\n      <td>(</td>\n      <td>NaN</td>\n      <td>X</td>\n      <td>NaN</td>\n    </tr>\n    <tr>\n      <th>28</th>\n      <td>NaN</td>\n      <td>CHMP</td>\n      <td>chmp</td>\n      <td>NOUN</td>\n      <td>NaN</td>\n      <td>NaN</td>\n      <td>CHMP</td>\n      <td>chmp</td>\n      <td>NOUN</td>\n      <td>NaN</td>\n    </tr>\n    <tr>\n      <th>29</th>\n      <td>NaN</td>\n      <td>)</td>\n      <td>NaN</td>\n      <td>X</td>\n      <td>NaN</td>\n      <td>NaN</td>\n      <td>)</td>\n      <td>NaN</td>\n      <td>X</td>\n      <td>NaN</td>\n    </tr>\n  </tbody>\n</table>\n</div>"
     },
     "execution_count": 202,
     "metadata": {},
     "output_type": "execute_result"
    }
   ],
   "source": [
    "# aligned_tks_df[]\n",
    "aligned_tks_df.head(30)"
   ],
   "metadata": {
    "collapsed": false,
    "ExecuteTime": {
     "end_time": "2024-08-13T04:33:20.841397Z",
     "start_time": "2024-08-13T04:33:20.830430Z"
    }
   },
   "id": "3762e840ae06d384"
  },
  {
   "cell_type": "code",
   "execution_count": 203,
   "outputs": [],
   "source": [
    "aligned_tks_df.to_csv(ALIGN_TOKEN_FILE, sep='\\t', index=False)"
   ],
   "metadata": {
    "collapsed": false,
    "ExecuteTime": {
     "end_time": "2024-08-13T04:33:20.858885Z",
     "start_time": "2024-08-13T04:33:20.842645Z"
    }
   },
   "id": "e5368fae50b58bf8"
  },
  {
   "cell_type": "code",
   "execution_count": 203,
   "outputs": [],
   "source": [],
   "metadata": {
    "collapsed": false,
    "ExecuteTime": {
     "end_time": "2024-08-13T04:33:20.868420Z",
     "start_time": "2024-08-13T04:33:20.857097Z"
    }
   },
   "id": "58f3349a3405b870"
  },
  {
   "cell_type": "code",
   "execution_count": null,
   "outputs": [],
   "source": [],
   "metadata": {
    "collapsed": false,
    "ExecuteTime": {
     "start_time": "2024-08-13T03:56:01.925347Z"
    }
   },
   "id": "208073961ba04e84"
  },
  {
   "cell_type": "code",
   "execution_count": null,
   "outputs": [],
   "source": [],
   "metadata": {
    "collapsed": false,
    "ExecuteTime": {
     "start_time": "2024-08-13T03:49:09.771714Z"
    }
   },
   "id": "76baae863fa61026"
  },
  {
   "cell_type": "code",
   "execution_count": null,
   "outputs": [],
   "source": [],
   "metadata": {
    "collapsed": false
   },
   "id": "bd9908155dab54be"
  }
 ],
 "metadata": {
  "kernelspec": {
   "display_name": "Python 3",
   "language": "python",
   "name": "python3"
  },
  "language_info": {
   "codemirror_mode": {
    "name": "ipython",
    "version": 2
   },
   "file_extension": ".py",
   "mimetype": "text/x-python",
   "name": "python",
   "nbconvert_exporter": "python",
   "pygments_lexer": "ipython2",
   "version": "2.7.6"
  }
 },
 "nbformat": 4,
 "nbformat_minor": 5
}
