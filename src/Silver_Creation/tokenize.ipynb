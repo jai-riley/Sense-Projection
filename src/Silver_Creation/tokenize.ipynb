{
 "cells": [
  {
   "cell_type": "code",
   "execution_count": 73,
   "id": "initial_id",
   "metadata": {
    "collapsed": true,
    "ExecuteTime": {
     "end_time": "2024-07-04T21:35:24.388431Z",
     "start_time": "2024-07-04T21:35:16.178890Z"
    }
   },
   "outputs": [
    {
     "name": "stdout",
     "output_type": "stream",
     "text": [
      "Collecting it-core-news-md==3.7.0\r\n",
      "  Downloading https://github.com/explosion/spacy-models/releases/download/it_core_news_md-3.7.0/it_core_news_md-3.7.0-py3-none-any.whl (42.4 MB)\r\n",
      "\u001B[2K     \u001B[90m━━━━━━━━━━━━━━━━━━━━━━━━━━━━━━━━━━━━━━━━\u001B[0m \u001B[32m42.4/42.4 MB\u001B[0m \u001B[31m32.3 MB/s\u001B[0m eta \u001B[36m0:00:00\u001B[0m00:01\u001B[0m00:01\u001B[0m\r\n",
      "\u001B[?25hRequirement already satisfied: spacy<3.8.0,>=3.7.0 in /usr/local/lib/python3.11/site-packages (from it-core-news-md==3.7.0) (3.7.5)\r\n",
      "Requirement already satisfied: spacy-legacy<3.1.0,>=3.0.11 in /usr/local/lib/python3.11/site-packages (from spacy<3.8.0,>=3.7.0->it-core-news-md==3.7.0) (3.0.12)\r\n",
      "Requirement already satisfied: spacy-loggers<2.0.0,>=1.0.0 in /usr/local/lib/python3.11/site-packages (from spacy<3.8.0,>=3.7.0->it-core-news-md==3.7.0) (1.0.5)\r\n",
      "Requirement already satisfied: murmurhash<1.1.0,>=0.28.0 in /usr/local/lib/python3.11/site-packages (from spacy<3.8.0,>=3.7.0->it-core-news-md==3.7.0) (1.0.10)\r\n",
      "Requirement already satisfied: cymem<2.1.0,>=2.0.2 in /usr/local/lib/python3.11/site-packages (from spacy<3.8.0,>=3.7.0->it-core-news-md==3.7.0) (2.0.8)\r\n",
      "Requirement already satisfied: preshed<3.1.0,>=3.0.2 in /usr/local/lib/python3.11/site-packages (from spacy<3.8.0,>=3.7.0->it-core-news-md==3.7.0) (3.0.9)\r\n",
      "Requirement already satisfied: thinc<8.3.0,>=8.2.2 in /usr/local/lib/python3.11/site-packages (from spacy<3.8.0,>=3.7.0->it-core-news-md==3.7.0) (8.2.5)\r\n",
      "Requirement already satisfied: wasabi<1.2.0,>=0.9.1 in /usr/local/lib/python3.11/site-packages (from spacy<3.8.0,>=3.7.0->it-core-news-md==3.7.0) (1.1.3)\r\n",
      "Requirement already satisfied: srsly<3.0.0,>=2.4.3 in /usr/local/lib/python3.11/site-packages (from spacy<3.8.0,>=3.7.0->it-core-news-md==3.7.0) (2.4.8)\r\n",
      "Requirement already satisfied: catalogue<2.1.0,>=2.0.6 in /usr/local/lib/python3.11/site-packages (from spacy<3.8.0,>=3.7.0->it-core-news-md==3.7.0) (2.0.10)\r\n",
      "Requirement already satisfied: weasel<0.5.0,>=0.1.0 in /usr/local/lib/python3.11/site-packages (from spacy<3.8.0,>=3.7.0->it-core-news-md==3.7.0) (0.4.1)\r\n",
      "Requirement already satisfied: typer<1.0.0,>=0.3.0 in /usr/local/lib/python3.11/site-packages (from spacy<3.8.0,>=3.7.0->it-core-news-md==3.7.0) (0.12.3)\r\n",
      "Requirement already satisfied: tqdm<5.0.0,>=4.38.0 in /usr/local/lib/python3.11/site-packages (from spacy<3.8.0,>=3.7.0->it-core-news-md==3.7.0) (4.66.4)\r\n",
      "Requirement already satisfied: requests<3.0.0,>=2.13.0 in /usr/local/lib/python3.11/site-packages (from spacy<3.8.0,>=3.7.0->it-core-news-md==3.7.0) (2.32.3)\r\n",
      "Requirement already satisfied: pydantic!=1.8,!=1.8.1,<3.0.0,>=1.7.4 in /usr/local/lib/python3.11/site-packages (from spacy<3.8.0,>=3.7.0->it-core-news-md==3.7.0) (2.7.1)\r\n",
      "Requirement already satisfied: jinja2 in /usr/local/lib/python3.11/site-packages (from spacy<3.8.0,>=3.7.0->it-core-news-md==3.7.0) (3.1.3)\r\n",
      "Requirement already satisfied: setuptools in /usr/local/lib/python3.11/site-packages (from spacy<3.8.0,>=3.7.0->it-core-news-md==3.7.0) (69.0.2)\r\n",
      "Requirement already satisfied: packaging>=20.0 in /usr/local/lib/python3.11/site-packages (from spacy<3.8.0,>=3.7.0->it-core-news-md==3.7.0) (23.2)\r\n",
      "Requirement already satisfied: langcodes<4.0.0,>=3.2.0 in /usr/local/lib/python3.11/site-packages (from spacy<3.8.0,>=3.7.0->it-core-news-md==3.7.0) (3.4.0)\r\n",
      "Requirement already satisfied: numpy>=1.19.0 in /usr/local/lib/python3.11/site-packages (from spacy<3.8.0,>=3.7.0->it-core-news-md==3.7.0) (1.24.3)\r\n",
      "Requirement already satisfied: language-data>=1.2 in /usr/local/lib/python3.11/site-packages (from langcodes<4.0.0,>=3.2.0->spacy<3.8.0,>=3.7.0->it-core-news-md==3.7.0) (1.2.0)\r\n",
      "Requirement already satisfied: annotated-types>=0.4.0 in /usr/local/lib/python3.11/site-packages (from pydantic!=1.8,!=1.8.1,<3.0.0,>=1.7.4->spacy<3.8.0,>=3.7.0->it-core-news-md==3.7.0) (0.7.0)\r\n",
      "Requirement already satisfied: pydantic-core==2.18.2 in /usr/local/lib/python3.11/site-packages (from pydantic!=1.8,!=1.8.1,<3.0.0,>=1.7.4->spacy<3.8.0,>=3.7.0->it-core-news-md==3.7.0) (2.18.2)\r\n",
      "Requirement already satisfied: typing-extensions>=4.6.1 in /usr/local/lib/python3.11/site-packages (from pydantic!=1.8,!=1.8.1,<3.0.0,>=1.7.4->spacy<3.8.0,>=3.7.0->it-core-news-md==3.7.0) (4.8.0)\r\n",
      "Requirement already satisfied: charset-normalizer<4,>=2 in /usr/local/lib/python3.11/site-packages (from requests<3.0.0,>=2.13.0->spacy<3.8.0,>=3.7.0->it-core-news-md==3.7.0) (3.3.2)\r\n",
      "Requirement already satisfied: idna<4,>=2.5 in /usr/local/lib/python3.11/site-packages (from requests<3.0.0,>=2.13.0->spacy<3.8.0,>=3.7.0->it-core-news-md==3.7.0) (3.4)\r\n",
      "Requirement already satisfied: urllib3<3,>=1.21.1 in /usr/local/lib/python3.11/site-packages (from requests<3.0.0,>=2.13.0->spacy<3.8.0,>=3.7.0->it-core-news-md==3.7.0) (2.1.0)\r\n",
      "Requirement already satisfied: certifi>=2017.4.17 in /usr/local/lib/python3.11/site-packages (from requests<3.0.0,>=2.13.0->spacy<3.8.0,>=3.7.0->it-core-news-md==3.7.0) (2023.11.17)\r\n",
      "Requirement already satisfied: blis<0.8.0,>=0.7.8 in /usr/local/lib/python3.11/site-packages (from thinc<8.3.0,>=8.2.2->spacy<3.8.0,>=3.7.0->it-core-news-md==3.7.0) (0.7.11)\r\n",
      "Requirement already satisfied: confection<1.0.0,>=0.0.1 in /usr/local/lib/python3.11/site-packages (from thinc<8.3.0,>=8.2.2->spacy<3.8.0,>=3.7.0->it-core-news-md==3.7.0) (0.1.5)\r\n",
      "Requirement already satisfied: click>=8.0.0 in /usr/local/lib/python3.11/site-packages (from typer<1.0.0,>=0.3.0->spacy<3.8.0,>=3.7.0->it-core-news-md==3.7.0) (8.1.7)\r\n",
      "Requirement already satisfied: shellingham>=1.3.0 in /usr/local/lib/python3.11/site-packages (from typer<1.0.0,>=0.3.0->spacy<3.8.0,>=3.7.0->it-core-news-md==3.7.0) (1.5.4)\r\n",
      "Requirement already satisfied: rich>=10.11.0 in /usr/local/lib/python3.11/site-packages (from typer<1.0.0,>=0.3.0->spacy<3.8.0,>=3.7.0->it-core-news-md==3.7.0) (13.7.1)\r\n",
      "Requirement already satisfied: cloudpathlib<1.0.0,>=0.7.0 in /usr/local/lib/python3.11/site-packages (from weasel<0.5.0,>=0.1.0->spacy<3.8.0,>=3.7.0->it-core-news-md==3.7.0) (0.18.1)\r\n",
      "Requirement already satisfied: smart-open<8.0.0,>=5.2.1 in /usr/local/lib/python3.11/site-packages (from weasel<0.5.0,>=0.1.0->spacy<3.8.0,>=3.7.0->it-core-news-md==3.7.0) (6.4.0)\r\n",
      "Requirement already satisfied: MarkupSafe>=2.0 in /usr/local/lib/python3.11/site-packages (from jinja2->spacy<3.8.0,>=3.7.0->it-core-news-md==3.7.0) (2.1.3)\r\n",
      "Requirement already satisfied: marisa-trie>=0.7.7 in /usr/local/lib/python3.11/site-packages (from language-data>=1.2->langcodes<4.0.0,>=3.2.0->spacy<3.8.0,>=3.7.0->it-core-news-md==3.7.0) (1.2.0)\r\n",
      "Requirement already satisfied: markdown-it-py>=2.2.0 in /usr/local/lib/python3.11/site-packages (from rich>=10.11.0->typer<1.0.0,>=0.3.0->spacy<3.8.0,>=3.7.0->it-core-news-md==3.7.0) (3.0.0)\r\n",
      "Requirement already satisfied: pygments<3.0.0,>=2.13.0 in /usr/local/lib/python3.11/site-packages (from rich>=10.11.0->typer<1.0.0,>=0.3.0->spacy<3.8.0,>=3.7.0->it-core-news-md==3.7.0) (2.17.2)\r\n",
      "Requirement already satisfied: mdurl~=0.1 in /usr/local/lib/python3.11/site-packages (from markdown-it-py>=2.2.0->rich>=10.11.0->typer<1.0.0,>=0.3.0->spacy<3.8.0,>=3.7.0->it-core-news-md==3.7.0) (0.1.2)\r\n",
      "Installing collected packages: it-core-news-md\r\n",
      "Successfully installed it-core-news-md-3.7.0\r\n",
      "\u001B[38;5;2m✔ Download and installation successful\u001B[0m\r\n",
      "You can now load the package via spacy.load('it_core_news_md')\r\n"
     ]
    }
   ],
   "source": [
    "#!pip install hanlp\n",
    "#!pip install simalign\n",
    "! spacy download it_core_news_md"
   ]
  },
  {
   "cell_type": "code",
   "execution_count": 1,
   "outputs": [
    {
     "name": "stderr",
     "output_type": "stream",
     "text": [
      "/usr/local/lib/python3.11/site-packages/transformers/utils/generic.py:441: UserWarning: torch.utils._pytree._register_pytree_node is deprecated. Please use torch.utils._pytree.register_pytree_node instead.\n",
      "  _torch_pytree._register_pytree_node(\n",
      "/usr/local/lib/python3.11/site-packages/transformers/utils/generic.py:309: UserWarning: torch.utils._pytree._register_pytree_node is deprecated. Please use torch.utils._pytree.register_pytree_node instead.\n",
      "  _torch_pytree._register_pytree_node(\n"
     ]
    }
   ],
   "source": [
    "import os, csv\n",
    "# public\n",
    "import hanlp\n",
    "import pandas as pd\n",
    "from tqdm import tqdm\n",
    "from simalign import SentenceAligner\n",
    "# from google.cloud import translate_v2 as translate"
   ],
   "metadata": {
    "collapsed": false,
    "ExecuteTime": {
     "end_time": "2024-07-05T01:34:08.213966Z",
     "start_time": "2024-07-05T01:34:02.726610Z"
    }
   },
   "id": "7cb406a76c0f6d9d"
  },
  {
   "cell_type": "code",
   "execution_count": 20,
   "outputs": [],
   "source": [
    "# target \n",
    "language = \"Spanish\"\n",
    "\n",
    "RESOURCE = 'res'\n",
    "RESULTS = os.path.join(RESOURCE, 'results')\n",
    "TOKENS_FILE = os.path.join(RESULTS, 'tokens-'+language+'.tsv')\n",
    "TRANS_FILE = os.path.join(RESULTS, 'sentences-'+language+'-Translations.tsv')\n",
    "KEY = os.path.join(RESOURCE, 'key')\n",
    "JSON_GOOGLE_APPLICATION_CREDENTIALS = os.path.join(KEY, 'tonal-works-420505-eda807c7cc52.json')\n",
    "os.environ['GOOGLE_APPLICATION_CREDENTIALS'] = JSON_GOOGLE_APPLICATION_CREDENTIALS\n"
   ],
   "metadata": {
    "collapsed": false,
    "ExecuteTime": {
     "end_time": "2024-07-05T01:40:24.003717Z",
     "start_time": "2024-07-05T01:40:23.990677Z"
    }
   },
   "id": "be72751b2e4b4ea4"
  },
  {
   "cell_type": "markdown",
   "source": [
    "#DATA"
   ],
   "metadata": {
    "collapsed": false
   },
   "id": "c20c6865ff265fa9"
  },
  {
   "cell_type": "code",
   "execution_count": 21,
   "outputs": [],
   "source": [
    "trans_df = pd.read_csv(TRANS_FILE, delimiter='\\t', quoting=csv.QUOTE_NONE)\n",
    "trans_df.head()\n",
    "sids = trans_df[\"ID\"].tolist()"
   ],
   "metadata": {
    "collapsed": false,
    "ExecuteTime": {
     "end_time": "2024-07-05T01:40:25.666092Z",
     "start_time": "2024-07-05T01:40:25.642069Z"
    }
   },
   "id": "2f432a89a379c822"
  },
  {
   "cell_type": "code",
   "execution_count": 22,
   "outputs": [],
   "source": [
    "tgt_sents = trans_df[language+' Translation'].tolist()\n"
   ],
   "metadata": {
    "collapsed": false,
    "ExecuteTime": {
     "end_time": "2024-07-05T01:40:26.777260Z",
     "start_time": "2024-07-05T01:40:26.750936Z"
    }
   },
   "id": "657283dde5c279c5"
  },
  {
   "cell_type": "markdown",
   "source": [
    "# TOKENIZATION"
   ],
   "metadata": {
    "collapsed": false
   },
   "id": "19c7b3b3697f3f04"
  },
  {
   "cell_type": "code",
   "execution_count": 23,
   "outputs": [],
   "source": [
    "import spacy\n",
    "nlp = spacy.load(\"es_core_news_md\")\n",
    "# nlp = spacy.load(\"it_core_news_md\")\n"
   ],
   "metadata": {
    "collapsed": false,
    "ExecuteTime": {
     "end_time": "2024-07-05T01:40:35.475868Z",
     "start_time": "2024-07-05T01:40:33.267199Z"
    }
   },
   "id": "5bfcface1251e192"
  },
  {
   "cell_type": "code",
   "execution_count": 24,
   "outputs": [
    {
     "data": {
      "text/plain": "(2787, 2787, 2787, 2787)"
     },
     "execution_count": 24,
     "metadata": {},
     "output_type": "execute_result"
    }
   ],
   "source": [
    "tk_ids, tks_list, pos_list , lemma_list = [], [], [], []\n",
    "total = 0\n",
    "x = []\n",
    "for sid, tgt_s in zip(sids, tgt_sents):\n",
    "    doc = nlp(tgt_s)\n",
    "    seq_len = len(doc)\n",
    "    total += seq_len\n",
    "    for token in doc:\n",
    "        tks_list.append(token.text)\n",
    "        pos_list.append(token.pos_)\n",
    "        lemma_list.append(token.lemma_)\n",
    "    tk_ids += [f'{sid}.t{i:03}' for i in range(1, seq_len+1)]\n",
    "len(tk_ids), len(tks_list), len(pos_list), len(lemma_list)\n",
    "#print(total)"
   ],
   "metadata": {
    "collapsed": false,
    "ExecuteTime": {
     "end_time": "2024-07-05T01:40:37.107507Z",
     "start_time": "2024-07-05T01:40:35.453989Z"
    }
   },
   "id": "12d6edf9bac27f81"
  },
  {
   "cell_type": "code",
   "execution_count": 25,
   "outputs": [
    {
     "data": {
      "text/plain": "2787"
     },
     "execution_count": 25,
     "metadata": {},
     "output_type": "execute_result"
    }
   ],
   "source": [
    "len(lemma_list)"
   ],
   "metadata": {
    "collapsed": false,
    "ExecuteTime": {
     "end_time": "2024-07-05T01:40:37.107935Z",
     "start_time": "2024-07-05T01:40:37.020963Z"
    }
   },
   "id": "71be254e2e858f21"
  },
  {
   "cell_type": "code",
   "execution_count": 26,
   "outputs": [
    {
     "data": {
      "text/plain": "          Token ID      Token      Lemma   POS\n0  es001.s001.t001       Este       este   DET\n1  es001.s001.t002  documento  documento  NOUN\n2  es001.s001.t003         es        ser   AUX\n3  es001.s001.t004         un        uno   DET\n4  es001.s001.t005    resumen    resumen  NOUN",
      "text/html": "<div>\n<style scoped>\n    .dataframe tbody tr th:only-of-type {\n        vertical-align: middle;\n    }\n\n    .dataframe tbody tr th {\n        vertical-align: top;\n    }\n\n    .dataframe thead th {\n        text-align: right;\n    }\n</style>\n<table border=\"1\" class=\"dataframe\">\n  <thead>\n    <tr style=\"text-align: right;\">\n      <th></th>\n      <th>Token ID</th>\n      <th>Token</th>\n      <th>Lemma</th>\n      <th>POS</th>\n    </tr>\n  </thead>\n  <tbody>\n    <tr>\n      <th>0</th>\n      <td>es001.s001.t001</td>\n      <td>Este</td>\n      <td>este</td>\n      <td>DET</td>\n    </tr>\n    <tr>\n      <th>1</th>\n      <td>es001.s001.t002</td>\n      <td>documento</td>\n      <td>documento</td>\n      <td>NOUN</td>\n    </tr>\n    <tr>\n      <th>2</th>\n      <td>es001.s001.t003</td>\n      <td>es</td>\n      <td>ser</td>\n      <td>AUX</td>\n    </tr>\n    <tr>\n      <th>3</th>\n      <td>es001.s001.t004</td>\n      <td>un</td>\n      <td>uno</td>\n      <td>DET</td>\n    </tr>\n    <tr>\n      <th>4</th>\n      <td>es001.s001.t005</td>\n      <td>resumen</td>\n      <td>resumen</td>\n      <td>NOUN</td>\n    </tr>\n  </tbody>\n</table>\n</div>"
     },
     "execution_count": 26,
     "metadata": {},
     "output_type": "execute_result"
    }
   ],
   "source": [
    "tks_df = pd.DataFrame({\n",
    "    'Token ID': tk_ids\n",
    "    , 'Token': tks_list\n",
    "    , 'Lemma': lemma_list\n",
    "    , 'POS': pos_list\n",
    "    })\n",
    "tks_df.head()"
   ],
   "metadata": {
    "collapsed": false,
    "ExecuteTime": {
     "end_time": "2024-07-05T01:40:37.108455Z",
     "start_time": "2024-07-05T01:40:37.081622Z"
    }
   },
   "id": "3bb827932bd9b23f"
  },
  {
   "cell_type": "code",
   "execution_count": 27,
   "outputs": [],
   "source": [
    "tks_df.to_csv(TOKENS_FILE, sep='\\t', index=False)"
   ],
   "metadata": {
    "collapsed": false,
    "ExecuteTime": {
     "end_time": "2024-07-05T01:40:37.108621Z",
     "start_time": "2024-07-05T01:40:37.085357Z"
    }
   },
   "id": "289f3807b810c81e"
  },
  {
   "cell_type": "code",
   "execution_count": null,
   "outputs": [],
   "source": [],
   "metadata": {
    "collapsed": false
   },
   "id": "921a1606f590f3c4"
  },
  {
   "cell_type": "markdown",
   "source": [],
   "metadata": {
    "collapsed": false
   },
   "id": "ad55cdaecb83c5de"
  }
 ],
 "metadata": {
  "kernelspec": {
   "display_name": "Python 3",
   "language": "python",
   "name": "python3"
  },
  "language_info": {
   "codemirror_mode": {
    "name": "ipython",
    "version": 2
   },
   "file_extension": ".py",
   "mimetype": "text/x-python",
   "name": "python",
   "nbconvert_exporter": "python",
   "pygments_lexer": "ipython2",
   "version": "2.7.6"
  }
 },
 "nbformat": 4,
 "nbformat_minor": 5
}
