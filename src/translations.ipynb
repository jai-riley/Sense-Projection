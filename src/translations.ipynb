{
 "cells": [
  {
   "cell_type": "code",
   "execution_count": null,
   "id": "initial_id",
   "metadata": {
    "collapsed": true
   },
   "outputs": [],
   "source": [
    "# !pip install google.cloud.translate"
   ]
  },
  {
   "cell_type": "code",
   "execution_count": 2,
   "outputs": [],
   "source": [
    "import os, csv\n",
    "# public\n",
    "import nltk\n",
    "from nltk.translate.bleu_score import sentence_bleu, corpus_bleu\n",
    "import pandas as pd\n",
    "from tqdm import tqdm\n",
    "from google.cloud import translate_v2 as translate"
   ],
   "metadata": {
    "collapsed": false,
    "ExecuteTime": {
     "end_time": "2024-07-04T19:09:30.663691Z",
     "start_time": "2024-07-04T19:09:26.062973Z"
    }
   },
   "id": "80c6c189866e3a19"
  },
  {
   "cell_type": "code",
   "execution_count": 28,
   "outputs": [],
   "source": [
    "# a method that calls the cloud translator\n",
    "def translate_text(source: str, target: str, text: str) -> dict:\n",
    "    \"\"\"\n",
    "    Translates text into the target language.\n",
    "    Target must be an ISO 639-1 language code.\n",
    "    See https://g.co/cloud/translate/v2/translate-reference#supported_languages\n",
    "    \"\"\"\n",
    "\n",
    "    translate_client = translate.Client()\n",
    "\n",
    "    if isinstance(text, bytes):\n",
    "        text = text.decode(\"utf-8\")\n",
    "\n",
    "    # Text can also be a sequence of strings, in which case this method\n",
    "    # will return a sequence of results for each text.\n",
    "    result = translate_client.translate(\n",
    "        text\n",
    "        , source_language=source\n",
    "        , target_language=target\n",
    "    )\n",
    "    return result\n",
    "\n",
    "def process_nan(s):\n",
    "  if type(s)!=type(''):\n",
    "    return ''\n",
    "  return s"
   ],
   "metadata": {
    "collapsed": false,
    "ExecuteTime": {
     "end_time": "2024-07-04T19:26:06.106622Z",
     "start_time": "2024-07-04T19:26:06.095831Z"
    }
   },
   "id": "919ad264843fbff1"
  },
  {
   "cell_type": "code",
   "execution_count": 177,
   "outputs": [],
   "source": [
    "src_lan = 'en'\n",
    "# target language\n",
    "tgt_lan = 'it'\n",
    "language = \"Italian\"\n",
    "\n",
    "RESOURCE = 'res'\n",
    "RESULTS = os.path.join(RESOURCE, 'results')\n",
    "TRANS_FILE = os.path.join(RESULTS, 'sentences-'+language+'-Translations.tsv')\n",
    "\n",
    "\n",
    "DATA = os.path.join(RESOURCE, 'data')\n",
    "KEY = os.path.join(RESOURCE, 'key')\n",
    "RAW_SENTENCE_TSV = os.path.join(DATA, 'EnglishSentences.tsv')\n",
    "GOLD_FILE = os.path.join(DATA, \"gold-sentences-\"+language+\".tsv\")\n",
    "JSON_GOOGLE_APPLICATION_CREDENTIALS = os.path.join(KEY, 'tonal-works-420505-eda807c7cc52.json')\n",
    "os.environ['GOOGLE_APPLICATION_CREDENTIALS'] = JSON_GOOGLE_APPLICATION_CREDENTIALS"
   ],
   "metadata": {
    "collapsed": false,
    "ExecuteTime": {
     "end_time": "2024-07-04T20:52:13.473846Z",
     "start_time": "2024-07-04T20:52:13.458089Z"
    }
   },
   "id": "7476e6353c29e16c"
  },
  {
   "cell_type": "markdown",
   "source": [
    "# DATA"
   ],
   "metadata": {
    "collapsed": false
   },
   "id": "1a06defe255431c"
  },
  {
   "cell_type": "code",
   "execution_count": 30,
   "outputs": [
    {
     "data": {
      "text/plain": "           0                                                  1\n0         ID                                            English\n1  d001.s001  This document is a summary of the European Pub...\n2  d001.s002  It explains how the Committee for Medicinal Pr...\n3  d001.s003  If you need more information about your medica...\n4  d001.s004  If you want more information on the basis of t...",
      "text/html": "<div>\n<style scoped>\n    .dataframe tbody tr th:only-of-type {\n        vertical-align: middle;\n    }\n\n    .dataframe tbody tr th {\n        vertical-align: top;\n    }\n\n    .dataframe thead th {\n        text-align: right;\n    }\n</style>\n<table border=\"1\" class=\"dataframe\">\n  <thead>\n    <tr style=\"text-align: right;\">\n      <th></th>\n      <th>0</th>\n      <th>1</th>\n    </tr>\n  </thead>\n  <tbody>\n    <tr>\n      <th>0</th>\n      <td>ID</td>\n      <td>English</td>\n    </tr>\n    <tr>\n      <th>1</th>\n      <td>d001.s001</td>\n      <td>This document is a summary of the European Pub...</td>\n    </tr>\n    <tr>\n      <th>2</th>\n      <td>d001.s002</td>\n      <td>It explains how the Committee for Medicinal Pr...</td>\n    </tr>\n    <tr>\n      <th>3</th>\n      <td>d001.s003</td>\n      <td>If you need more information about your medica...</td>\n    </tr>\n    <tr>\n      <th>4</th>\n      <td>d001.s004</td>\n      <td>If you want more information on the basis of t...</td>\n    </tr>\n  </tbody>\n</table>\n</div>"
     },
     "execution_count": 30,
     "metadata": {},
     "output_type": "execute_result"
    }
   ],
   "source": [
    "sentence_df = pd.read_csv(RAW_SENTENCE_TSV, delimiter='\\t', header=None, quoting=csv.QUOTE_NONE)\n",
    "sentence_df.head()\n",
    "# sents = sentence_df[1][1:].tolist()\n",
    "# sents"
   ],
   "metadata": {
    "collapsed": false,
    "ExecuteTime": {
     "end_time": "2024-07-04T19:26:09.368443Z",
     "start_time": "2024-07-04T19:26:09.355883Z"
    }
   },
   "id": "47021c77a038d739"
  },
  {
   "cell_type": "code",
   "execution_count": 31,
   "outputs": [
    {
     "data": {
      "text/plain": "['i001.s001', 'i001.s002', 'i001.s003', 'i001.s004']"
     },
     "execution_count": 31,
     "metadata": {},
     "output_type": "execute_result"
    }
   ],
   "source": [
    "sids = sentence_df[0][1:].tolist()\n",
    "sids = [i.replace('d', 'i') for i in sids]\n",
    "sids[:4]"
   ],
   "metadata": {
    "collapsed": false,
    "ExecuteTime": {
     "end_time": "2024-07-04T19:26:10.902182Z",
     "start_time": "2024-07-04T19:26:10.890381Z"
    }
   },
   "id": "71402ea706257025"
  },
  {
   "cell_type": "code",
   "execution_count": null,
   "outputs": [],
   "source": [
    "# len(sids), len(sents)"
   ],
   "metadata": {
    "collapsed": false
   },
   "id": "b3861ba466e11ffc"
  },
  {
   "cell_type": "markdown",
   "source": [
    "# TRANSLATE"
   ],
   "metadata": {
    "collapsed": false
   },
   "id": "5503125cdea76173"
  },
  {
   "cell_type": "code",
   "execution_count": null,
   "outputs": [],
   "source": [
    "# get languages\n",
    "client = translate.Client()\n",
    "languages = client.get_languages()\n",
    "languages"
   ],
   "metadata": {
    "collapsed": false
   },
   "id": "47d154e8c35949cf"
  },
  {
   "cell_type": "code",
   "execution_count": null,
   "outputs": [],
   "source": [
    "src_lan, tgt_lan"
   ],
   "metadata": {
    "collapsed": false
   },
   "id": "8ddc6eea0e2598b5"
  },
  {
   "cell_type": "code",
   "execution_count": null,
   "outputs": [],
   "source": [
    "# sample test\n",
    "sentence = sents[0]\n",
    "test = translate_text(src_lan, tgt_lan, sentence)\n",
    "test"
   ],
   "metadata": {
    "collapsed": false
   },
   "id": "17a8de281822e43a"
  },
  {
   "cell_type": "code",
   "execution_count": null,
   "outputs": [],
   "source": [
    "# translating all the sentences from English to target language\n",
    "tgt_sents = []\n",
    "for s in tqdm(sents):\n",
    "    tgt_s = translate_text(src_lan, tgt_lan, s)\n",
    "    tgt_sents.append(tgt_s)"
   ],
   "metadata": {
    "collapsed": false
   },
   "id": "415a61a1c19a4aff"
  },
  {
   "cell_type": "code",
   "execution_count": null,
   "outputs": [],
   "source": [
    "tgt_sents = [s['translatedText'] for s in tgt_sents]"
   ],
   "metadata": {
    "collapsed": false
   },
   "id": "6223944ae1eaa6b6"
  },
  {
   "cell_type": "code",
   "execution_count": null,
   "outputs": [],
   "source": [
    "# output\n",
    "trans_df = pd.DataFrame({\n",
    "    'ID': sids\n",
    "    , 'English': sents\n",
    "    , language+ ' Translation': tgt_sents\n",
    "    })\n",
    "trans_df.head()"
   ],
   "metadata": {
    "collapsed": false
   },
   "id": "e0c0239ef97cce37"
  },
  {
   "cell_type": "code",
   "execution_count": null,
   "outputs": [],
   "source": [
    "# Save to TSV \n",
    "trans_df.to_csv(TRANS_FILE, sep='\\t', index=False)"
   ],
   "metadata": {
    "collapsed": false
   },
   "id": "985f57293a2b1111"
  },
  {
   "cell_type": "code",
   "execution_count": 178,
   "outputs": [
    {
     "data": {
      "text/plain": "          ID                                            English  \\\n0  i001.s001  This document is a summary of the European Pub...   \n1  i001.s002  It explains how the Committee for Medicinal Pr...   \n2  i001.s003  If you need more information about your medica...   \n3  i001.s004  If you want more information on the basis of t...   \n4  i001.s005                                    What is Alimta?   \n\n                                 Italian Translation  \n0  Il presente documento è una sintesi della rela...  \n1  Spiega come il comitato per i medicinali per u...  \n2  Se hai bisogno di maggiori informazioni sulla ...  \n3  Se desideri maggiori informazioni sulla base d...  \n4                                  Cos&#39;è Alimta?  ",
      "text/html": "<div>\n<style scoped>\n    .dataframe tbody tr th:only-of-type {\n        vertical-align: middle;\n    }\n\n    .dataframe tbody tr th {\n        vertical-align: top;\n    }\n\n    .dataframe thead th {\n        text-align: right;\n    }\n</style>\n<table border=\"1\" class=\"dataframe\">\n  <thead>\n    <tr style=\"text-align: right;\">\n      <th></th>\n      <th>ID</th>\n      <th>English</th>\n      <th>Italian Translation</th>\n    </tr>\n  </thead>\n  <tbody>\n    <tr>\n      <th>0</th>\n      <td>i001.s001</td>\n      <td>This document is a summary of the European Pub...</td>\n      <td>Il presente documento è una sintesi della rela...</td>\n    </tr>\n    <tr>\n      <th>1</th>\n      <td>i001.s002</td>\n      <td>It explains how the Committee for Medicinal Pr...</td>\n      <td>Spiega come il comitato per i medicinali per u...</td>\n    </tr>\n    <tr>\n      <th>2</th>\n      <td>i001.s003</td>\n      <td>If you need more information about your medica...</td>\n      <td>Se hai bisogno di maggiori informazioni sulla ...</td>\n    </tr>\n    <tr>\n      <th>3</th>\n      <td>i001.s004</td>\n      <td>If you want more information on the basis of t...</td>\n      <td>Se desideri maggiori informazioni sulla base d...</td>\n    </tr>\n    <tr>\n      <th>4</th>\n      <td>i001.s005</td>\n      <td>What is Alimta?</td>\n      <td>Cos&amp;#39;è Alimta?</td>\n    </tr>\n  </tbody>\n</table>\n</div>"
     },
     "execution_count": 178,
     "metadata": {},
     "output_type": "execute_result"
    }
   ],
   "source": [
    "# load TSV \n",
    "trans_df = pd.read_csv(TRANS_FILE, delimiter='\\t', quoting=csv.QUOTE_NONE)\n",
    "trans_df.head()"
   ],
   "metadata": {
    "collapsed": false,
    "ExecuteTime": {
     "end_time": "2024-07-04T20:52:25.644823Z",
     "start_time": "2024-07-04T20:52:25.617773Z"
    }
   },
   "id": "e5f07b12c39b974a"
  },
  {
   "cell_type": "code",
   "execution_count": 179,
   "outputs": [],
   "source": [
    "trans_sents = trans_df[language+ \" Translation\"].tolist()"
   ],
   "metadata": {
    "collapsed": false,
    "ExecuteTime": {
     "end_time": "2024-07-04T20:52:26.128511Z",
     "start_time": "2024-07-04T20:52:26.102253Z"
    }
   },
   "id": "646c2a83e177404f"
  },
  {
   "cell_type": "markdown",
   "source": [
    "# EVALUATE QUALITY"
   ],
   "metadata": {
    "collapsed": false
   },
   "id": "747b3fcf3d8e292b"
  },
  {
   "cell_type": "code",
   "execution_count": 180,
   "outputs": [
    {
     "data": {
      "text/plain": "          ID                                           Sentence\n0  i001.s001  Questo documento è la sintesi di una relazione...\n1  i001.s002  L EPAR descrive il modo in cui il comitato per...\n2  i001.s003  Per maggiori informazioni riguardanti le propr...\n3  i001.s004  Per maggiori informazioni riguardo alle motiva...\n4  i001.s005                                 Che cos è Alimta ?",
      "text/html": "<div>\n<style scoped>\n    .dataframe tbody tr th:only-of-type {\n        vertical-align: middle;\n    }\n\n    .dataframe tbody tr th {\n        vertical-align: top;\n    }\n\n    .dataframe thead th {\n        text-align: right;\n    }\n</style>\n<table border=\"1\" class=\"dataframe\">\n  <thead>\n    <tr style=\"text-align: right;\">\n      <th></th>\n      <th>ID</th>\n      <th>Sentence</th>\n    </tr>\n  </thead>\n  <tbody>\n    <tr>\n      <th>0</th>\n      <td>i001.s001</td>\n      <td>Questo documento è la sintesi di una relazione...</td>\n    </tr>\n    <tr>\n      <th>1</th>\n      <td>i001.s002</td>\n      <td>L EPAR descrive il modo in cui il comitato per...</td>\n    </tr>\n    <tr>\n      <th>2</th>\n      <td>i001.s003</td>\n      <td>Per maggiori informazioni riguardanti le propr...</td>\n    </tr>\n    <tr>\n      <th>3</th>\n      <td>i001.s004</td>\n      <td>Per maggiori informazioni riguardo alle motiva...</td>\n    </tr>\n    <tr>\n      <th>4</th>\n      <td>i001.s005</td>\n      <td>Che cos è Alimta ?</td>\n    </tr>\n  </tbody>\n</table>\n</div>"
     },
     "execution_count": 180,
     "metadata": {},
     "output_type": "execute_result"
    }
   ],
   "source": [
    "gold_df = pd.read_csv(GOLD_FILE, delimiter='\\t', quoting=csv.QUOTE_NONE)\n",
    "gold_df.head()\n"
   ],
   "metadata": {
    "collapsed": false,
    "ExecuteTime": {
     "end_time": "2024-07-04T20:52:27.744702Z",
     "start_time": "2024-07-04T20:52:27.717931Z"
    }
   },
   "id": "cb0819657e768b72"
  },
  {
   "cell_type": "code",
   "execution_count": 181,
   "outputs": [
    {
     "data": {
      "text/plain": "(139, 139)"
     },
     "execution_count": 181,
     "metadata": {},
     "output_type": "execute_result"
    }
   ],
   "source": [
    "gold_sents = gold_df[\"Sentence\"].tolist()\n",
    "len(gold_sents),len(trans_sents)"
   ],
   "metadata": {
    "collapsed": false,
    "ExecuteTime": {
     "end_time": "2024-07-04T20:52:28.608360Z",
     "start_time": "2024-07-04T20:52:28.583022Z"
    }
   },
   "id": "58f939a6b839b38c"
  },
  {
   "cell_type": "code",
   "execution_count": 182,
   "outputs": [],
   "source": [
    "def calculate_bleu(reference_sentences, candidate_sentences):\n",
    "    \"\"\"\n",
    "    Calculate the BLEU score between two lists of sentences.\n",
    "\n",
    "    :param reference_sentences: List of reference sentences\n",
    "    :param candidate_sentences: List of candidate sentences\n",
    "    :return: BLEU score\n",
    "    \"\"\"\n",
    "    references = [[ref.split()] for ref in reference_sentences]\n",
    "    candidates = [cand.split() for cand in candidate_sentences]\n",
    "    \n",
    "    # Calculate sentence-level BLEU scores\n",
    "    sentence_bleu_scores = [sentence_bleu(ref, cand,  weights=(0.25,0.25,0.25,0.25)) for ref, cand in zip(references, candidates)]\n",
    "    \n",
    "    # Calculate corpus-level BLEU score\n",
    "    corpus_bleu_score = corpus_bleu(references, candidates, weights=(0.25,0.25,0.25,0.25))\n",
    "    \n",
    "    return sentence_bleu_scores, corpus_bleu_score\n",
    "\n",
    "\n"
   ],
   "metadata": {
    "collapsed": false,
    "ExecuteTime": {
     "end_time": "2024-07-04T20:52:29.514012Z",
     "start_time": "2024-07-04T20:52:29.488412Z"
    }
   },
   "id": "652f5b8dd68761cb"
  },
  {
   "cell_type": "code",
   "execution_count": 183,
   "outputs": [
    {
     "name": "stdout",
     "output_type": "stream",
     "text": [
      "Sentence-level BLEU scores: [7.806161490833773e-155, 0.27042049185058636, 2.517850593541856e-78, 3.597627147271579e-78, 0, 0.18951629567590741, 0.5081327481546147, 1.1200407237786664e-231, 2.850285529650453e-78, 0.2184256744855776, 0.42867218109674143, 0.7598356856515925, 6.86809206056511e-78, 0.4702773871923361, 0.37732439539854146, 7.601159375410181e-232, 0.11103047724581815, 4.036919020698081e-155, 2.6616427895302863e-155, 0, 0, 0, 1.1045881851389632e-231, 0, 7.659859945595747e-232, 6.130577389498242e-232, 0.09886263593840232, 1.8762356783661748e-78, 4.603336663472925e-232, 0, 1.1008876702055895e-231, 3.4980387115113817e-155, 1.0108847629878795e-231, 1.1739546629120287e-231, 3.88673520364074e-78, 5.389821251330404e-155, 0.16826922745352202, 1.0, 0.6520028108523781, 0.20522120509305022, 5.432864809012988e-78, 0.5169731539571706, 5.721523971118206e-155, 0.36409302398068727, 8.636168555094496e-78, 0.5302459604351236, 4.556426120374367e-78, 0.17115279944073908, 0.3388714363186176, 0.13400825781778894, 0, 9.788429383461836e-232, 1.0518351895246305e-231, 0, 4.1097221129325703e-78, 0.3508439695638686, 7.634782735554776e-155, 0.21012158044530976, 5.791739854583281e-155, 1.384292958842266e-231, 0.41180376356915777, 0.1599214476819184, 9.418382295637229e-232, 1.0518351895246305e-231, 0, 0, 0, 1.0518351895246305e-231, 0, 7.850707993042515e-232, 0, 0, 0, 1.2882297539194154e-231, 0, 0, 0, 0, 0, 2.8744291130001147e-232, 1.0669733992029681e-231, 9.918892480173173e-232, 6.413718283190248e-233, 0, 0, 2.3739004130723252e-232, 8.432010639666965e-232, 0, 6.686350417856737e-232, 1.0518351895246305e-231, 1.0, 1.0, 1.0, 7.290245807398516e-232, 3.2576421111739282e-155, 2.5365023561096446e-232, 7.244248269687037e-232, 3.0202505652128895e-155, 8.54892650991793e-232, 5.3646693108613774e-232, 7.601159375410181e-232, 7.790361646728078e-232, 4.643598961723441e-232, 7.720899511627474e-232, 3.08571940142557e-232, 0, 0.09562406574442013, 1.0578943770529682e-231, 1.1409851298103347e-231, 3.4980387115113817e-155, 3.3528855202636597e-155, 5.609571844608773e-155, 4.3521358589488775e-155, 9.689041594391036e-232, 1.0, 0, 0, 0, 0.659109604993135, 0.24239154567526094, 0.32743129582216096, 1.1200407237786664e-231, 3.191385619211647e-78, 0.179364704966932, 0.31404161351558685, 0.4121183751323027, 1.2882297539194154e-231, 0.32702929224554894, 0.2984745896009823, 0.4849576058746578, 0.7598356856515925, 0.23416747869173535, 0.26941404204598735, 3.1569965207666664e-78, 0.335342205547807, 1.0832677820940877e-231, 0.4305942407708262, 0.605478327168454, 6.7393716283177006e-155]\n",
      "Corpus-level BLEU score: 0.1595706884838815\n"
     ]
    },
    {
     "name": "stderr",
     "output_type": "stream",
     "text": [
      "/usr/local/lib/python3.11/site-packages/nltk/translate/bleu_score.py:552: UserWarning: \n",
      "The hypothesis contains 0 counts of 3-gram overlaps.\n",
      "Therefore the BLEU score evaluates to 0, independently of\n",
      "how many N-gram overlaps of lower order it contains.\n",
      "Consider using lower n-gram order or use SmoothingFunction()\n",
      "  warnings.warn(_msg)\n",
      "/usr/local/lib/python3.11/site-packages/nltk/translate/bleu_score.py:552: UserWarning: \n",
      "The hypothesis contains 0 counts of 4-gram overlaps.\n",
      "Therefore the BLEU score evaluates to 0, independently of\n",
      "how many N-gram overlaps of lower order it contains.\n",
      "Consider using lower n-gram order or use SmoothingFunction()\n",
      "  warnings.warn(_msg)\n",
      "/usr/local/lib/python3.11/site-packages/nltk/translate/bleu_score.py:552: UserWarning: \n",
      "The hypothesis contains 0 counts of 2-gram overlaps.\n",
      "Therefore the BLEU score evaluates to 0, independently of\n",
      "how many N-gram overlaps of lower order it contains.\n",
      "Consider using lower n-gram order or use SmoothingFunction()\n",
      "  warnings.warn(_msg)\n"
     ]
    }
   ],
   "source": [
    "sentence_scores, corpus_score = calculate_bleu(trans_sents, gold_sents)\n",
    "print(f\"Sentence-level BLEU scores: {sentence_scores}\")\n",
    "print(f\"Corpus-level BLEU score: {corpus_score}\")\n"
   ],
   "metadata": {
    "collapsed": false,
    "ExecuteTime": {
     "end_time": "2024-07-04T20:52:30.053407Z",
     "start_time": "2024-07-04T20:52:30.038398Z"
    }
   },
   "id": "bbec5ef75b6a0641"
  },
  {
   "cell_type": "code",
   "execution_count": 185,
   "outputs": [
    {
     "name": "stdout",
     "output_type": "stream",
     "text": [
      "0.15975379907255308\n"
     ]
    }
   ],
   "source": [
    "from torchtext.data.metrics import bleu_score\n",
    "references = [[ref.split()] for ref in gold_sents]\n",
    "candidates = [cand.split() for cand in trans_sents]\n",
    "print(bleu_score( candidates, references))\n"
   ],
   "metadata": {
    "collapsed": false,
    "ExecuteTime": {
     "end_time": "2024-07-04T20:52:59.430607Z",
     "start_time": "2024-07-04T20:52:59.373794Z"
    }
   },
   "id": "e215f3dfda8b35f8"
  },
  {
   "cell_type": "code",
   "execution_count": 192,
   "outputs": [
    {
     "ename": "ImportError",
     "evalue": "cannot import name 'LastCommitInfo' from 'huggingface_hub.hf_api' (/usr/local/lib/python3.11/site-packages/huggingface_hub/hf_api.py)",
     "output_type": "error",
     "traceback": [
      "\u001B[0;31m---------------------------------------------------------------------------\u001B[0m",
      "\u001B[0;31mImportError\u001B[0m                               Traceback (most recent call last)",
      "Cell \u001B[0;32mIn[192], line 1\u001B[0m\n\u001B[0;32m----> 1\u001B[0m \u001B[38;5;28;01mimport\u001B[39;00m \u001B[38;5;21;01mevaluate\u001B[39;00m\n\u001B[1;32m      2\u001B[0m bleu \u001B[38;5;241m=\u001B[39m evaluate\u001B[38;5;241m.\u001B[39mload(\u001B[38;5;124m'\u001B[39m\u001B[38;5;124mbleu\u001B[39m\u001B[38;5;124m'\u001B[39m)\n",
      "File \u001B[0;32m/usr/local/lib/python3.11/site-packages/evaluate/__init__.py:29\u001B[0m\n\u001B[1;32m     25\u001B[0m SCRIPTS_VERSION \u001B[38;5;241m=\u001B[39m \u001B[38;5;124m\"\u001B[39m\u001B[38;5;124mmain\u001B[39m\u001B[38;5;124m\"\u001B[39m \u001B[38;5;28;01mif\u001B[39;00m version\u001B[38;5;241m.\u001B[39mparse(__version__)\u001B[38;5;241m.\u001B[39mis_devrelease \u001B[38;5;28;01melse\u001B[39;00m __version__\n\u001B[1;32m     27\u001B[0m \u001B[38;5;28;01mdel\u001B[39;00m version\n\u001B[0;32m---> 29\u001B[0m \u001B[38;5;28;01mfrom\u001B[39;00m \u001B[38;5;21;01m.\u001B[39;00m\u001B[38;5;21;01mevaluation_suite\u001B[39;00m \u001B[38;5;28;01mimport\u001B[39;00m EvaluationSuite\n\u001B[1;32m     30\u001B[0m \u001B[38;5;28;01mfrom\u001B[39;00m \u001B[38;5;21;01m.\u001B[39;00m\u001B[38;5;21;01mevaluator\u001B[39;00m \u001B[38;5;28;01mimport\u001B[39;00m (\n\u001B[1;32m     31\u001B[0m     AudioClassificationEvaluator,\n\u001B[1;32m     32\u001B[0m     AutomaticSpeechRecognitionEvaluator,\n\u001B[0;32m   (...)\u001B[0m\n\u001B[1;32m     42\u001B[0m     evaluator,\n\u001B[1;32m     43\u001B[0m )\n\u001B[1;32m     44\u001B[0m \u001B[38;5;28;01mfrom\u001B[39;00m \u001B[38;5;21;01m.\u001B[39;00m\u001B[38;5;21;01mhub\u001B[39;00m \u001B[38;5;28;01mimport\u001B[39;00m push_to_hub\n",
      "File \u001B[0;32m/usr/local/lib/python3.11/site-packages/evaluate/evaluation_suite/__init__.py:7\u001B[0m\n\u001B[1;32m      4\u001B[0m \u001B[38;5;28;01mfrom\u001B[39;00m \u001B[38;5;21;01mpathlib\u001B[39;00m \u001B[38;5;28;01mimport\u001B[39;00m Path\n\u001B[1;32m      5\u001B[0m \u001B[38;5;28;01mfrom\u001B[39;00m \u001B[38;5;21;01mtyping\u001B[39;00m \u001B[38;5;28;01mimport\u001B[39;00m Callable, Dict, Optional, Union\n\u001B[0;32m----> 7\u001B[0m \u001B[38;5;28;01mfrom\u001B[39;00m \u001B[38;5;21;01mdatasets\u001B[39;00m \u001B[38;5;28;01mimport\u001B[39;00m Dataset, DownloadConfig, DownloadMode, load_dataset\n\u001B[1;32m      8\u001B[0m \u001B[38;5;28;01mfrom\u001B[39;00m \u001B[38;5;21;01mdatasets\u001B[39;00m\u001B[38;5;21;01m.\u001B[39;00m\u001B[38;5;21;01mutils\u001B[39;00m\u001B[38;5;21;01m.\u001B[39;00m\u001B[38;5;21;01mversion\u001B[39;00m \u001B[38;5;28;01mimport\u001B[39;00m Version\n\u001B[1;32m     10\u001B[0m \u001B[38;5;28;01mfrom\u001B[39;00m \u001B[38;5;21;01m.\u001B[39;00m\u001B[38;5;21;01m.\u001B[39;00m\u001B[38;5;21;01mevaluator\u001B[39;00m \u001B[38;5;28;01mimport\u001B[39;00m evaluator\n",
      "File \u001B[0;32m/usr/local/lib/python3.11/site-packages/datasets/__init__.py:17\u001B[0m\n\u001B[1;32m      1\u001B[0m \u001B[38;5;66;03m# Copyright 2020 The HuggingFace Datasets Authors and the TensorFlow Datasets Authors.\u001B[39;00m\n\u001B[1;32m      2\u001B[0m \u001B[38;5;66;03m#\u001B[39;00m\n\u001B[1;32m      3\u001B[0m \u001B[38;5;66;03m# Licensed under the Apache License, Version 2.0 (the \"License\");\u001B[39;00m\n\u001B[0;32m   (...)\u001B[0m\n\u001B[1;32m     12\u001B[0m \u001B[38;5;66;03m# See the License for the specific language governing permissions and\u001B[39;00m\n\u001B[1;32m     13\u001B[0m \u001B[38;5;66;03m# limitations under the License.\u001B[39;00m\n\u001B[1;32m     15\u001B[0m __version__ \u001B[38;5;241m=\u001B[39m \u001B[38;5;124m\"\u001B[39m\u001B[38;5;124m2.20.0\u001B[39m\u001B[38;5;124m\"\u001B[39m\n\u001B[0;32m---> 17\u001B[0m \u001B[38;5;28;01mfrom\u001B[39;00m \u001B[38;5;21;01m.\u001B[39;00m\u001B[38;5;21;01marrow_dataset\u001B[39;00m \u001B[38;5;28;01mimport\u001B[39;00m Dataset\n\u001B[1;32m     18\u001B[0m \u001B[38;5;28;01mfrom\u001B[39;00m \u001B[38;5;21;01m.\u001B[39;00m\u001B[38;5;21;01marrow_reader\u001B[39;00m \u001B[38;5;28;01mimport\u001B[39;00m ReadInstruction\n\u001B[1;32m     19\u001B[0m \u001B[38;5;28;01mfrom\u001B[39;00m \u001B[38;5;21;01m.\u001B[39;00m\u001B[38;5;21;01mbuilder\u001B[39;00m \u001B[38;5;28;01mimport\u001B[39;00m ArrowBasedBuilder, BeamBasedBuilder, BuilderConfig, DatasetBuilder, GeneratorBasedBuilder\n",
      "File \u001B[0;32m/usr/local/lib/python3.11/site-packages/datasets/arrow_dataset.py:76\u001B[0m\n\u001B[1;32m     73\u001B[0m \u001B[38;5;28;01mfrom\u001B[39;00m \u001B[38;5;21;01mtqdm\u001B[39;00m\u001B[38;5;21;01m.\u001B[39;00m\u001B[38;5;21;01mcontrib\u001B[39;00m\u001B[38;5;21;01m.\u001B[39;00m\u001B[38;5;21;01mconcurrent\u001B[39;00m \u001B[38;5;28;01mimport\u001B[39;00m thread_map\n\u001B[1;32m     75\u001B[0m \u001B[38;5;28;01mfrom\u001B[39;00m \u001B[38;5;21;01m.\u001B[39;00m \u001B[38;5;28;01mimport\u001B[39;00m config\n\u001B[0;32m---> 76\u001B[0m \u001B[38;5;28;01mfrom\u001B[39;00m \u001B[38;5;21;01m.\u001B[39;00m\u001B[38;5;21;01marrow_reader\u001B[39;00m \u001B[38;5;28;01mimport\u001B[39;00m ArrowReader\n\u001B[1;32m     77\u001B[0m \u001B[38;5;28;01mfrom\u001B[39;00m \u001B[38;5;21;01m.\u001B[39;00m\u001B[38;5;21;01marrow_writer\u001B[39;00m \u001B[38;5;28;01mimport\u001B[39;00m ArrowWriter, OptimizedTypedSequence\n\u001B[1;32m     78\u001B[0m \u001B[38;5;28;01mfrom\u001B[39;00m \u001B[38;5;21;01m.\u001B[39;00m\u001B[38;5;21;01mdata_files\u001B[39;00m \u001B[38;5;28;01mimport\u001B[39;00m sanitize_patterns\n",
      "File \u001B[0;32m/usr/local/lib/python3.11/site-packages/datasets/arrow_reader.py:34\u001B[0m\n\u001B[1;32m     32\u001B[0m \u001B[38;5;28;01mfrom\u001B[39;00m \u001B[38;5;21;01m.\u001B[39;00m\u001B[38;5;21;01mdownload\u001B[39;00m\u001B[38;5;21;01m.\u001B[39;00m\u001B[38;5;21;01mdownload_config\u001B[39;00m \u001B[38;5;28;01mimport\u001B[39;00m DownloadConfig\n\u001B[1;32m     33\u001B[0m \u001B[38;5;28;01mfrom\u001B[39;00m \u001B[38;5;21;01m.\u001B[39;00m\u001B[38;5;21;01mnaming\u001B[39;00m \u001B[38;5;28;01mimport\u001B[39;00m _split_re, filenames_for_dataset_split\n\u001B[0;32m---> 34\u001B[0m \u001B[38;5;28;01mfrom\u001B[39;00m \u001B[38;5;21;01m.\u001B[39;00m\u001B[38;5;21;01mtable\u001B[39;00m \u001B[38;5;28;01mimport\u001B[39;00m InMemoryTable, MemoryMappedTable, Table, concat_tables\n\u001B[1;32m     35\u001B[0m \u001B[38;5;28;01mfrom\u001B[39;00m \u001B[38;5;21;01m.\u001B[39;00m\u001B[38;5;21;01mutils\u001B[39;00m \u001B[38;5;28;01mimport\u001B[39;00m logging\n\u001B[1;32m     36\u001B[0m \u001B[38;5;28;01mfrom\u001B[39;00m \u001B[38;5;21;01m.\u001B[39;00m\u001B[38;5;21;01mutils\u001B[39;00m \u001B[38;5;28;01mimport\u001B[39;00m tqdm \u001B[38;5;28;01mas\u001B[39;00m hf_tqdm\n",
      "File \u001B[0;32m/usr/local/lib/python3.11/site-packages/datasets/table.py:13\u001B[0m\n\u001B[1;32m     10\u001B[0m \u001B[38;5;28;01mimport\u001B[39;00m \u001B[38;5;21;01mpyarrow\u001B[39;00m\u001B[38;5;21;01m.\u001B[39;00m\u001B[38;5;21;01mtypes\u001B[39;00m\n\u001B[1;32m     12\u001B[0m \u001B[38;5;28;01mfrom\u001B[39;00m \u001B[38;5;21;01m.\u001B[39;00m \u001B[38;5;28;01mimport\u001B[39;00m config\n\u001B[0;32m---> 13\u001B[0m \u001B[38;5;28;01mfrom\u001B[39;00m \u001B[38;5;21;01m.\u001B[39;00m\u001B[38;5;21;01mutils\u001B[39;00m\u001B[38;5;21;01m.\u001B[39;00m\u001B[38;5;21;01mlogging\u001B[39;00m \u001B[38;5;28;01mimport\u001B[39;00m get_logger\n\u001B[1;32m     16\u001B[0m \u001B[38;5;28;01mif\u001B[39;00m TYPE_CHECKING:\n\u001B[1;32m     17\u001B[0m     \u001B[38;5;28;01mfrom\u001B[39;00m \u001B[38;5;21;01m.\u001B[39;00m\u001B[38;5;21;01mfeatures\u001B[39;00m\u001B[38;5;21;01m.\u001B[39;00m\u001B[38;5;21;01mfeatures\u001B[39;00m \u001B[38;5;28;01mimport\u001B[39;00m Features, FeatureType\n",
      "File \u001B[0;32m/usr/local/lib/python3.11/site-packages/datasets/utils/__init__.py:17\u001B[0m\n\u001B[1;32m     15\u001B[0m \u001B[38;5;28;01mfrom\u001B[39;00m \u001B[38;5;21;01m.\u001B[39;00m \u001B[38;5;28;01mimport\u001B[39;00m tqdm \u001B[38;5;28;01mas\u001B[39;00m _tqdm  \u001B[38;5;66;03m# _tqdm is the module\u001B[39;00m\n\u001B[1;32m     16\u001B[0m \u001B[38;5;28;01mfrom\u001B[39;00m \u001B[38;5;21;01m.\u001B[39;00m\u001B[38;5;21;01mexperimental\u001B[39;00m \u001B[38;5;28;01mimport\u001B[39;00m experimental\n\u001B[0;32m---> 17\u001B[0m \u001B[38;5;28;01mfrom\u001B[39;00m \u001B[38;5;21;01m.\u001B[39;00m\u001B[38;5;21;01minfo_utils\u001B[39;00m \u001B[38;5;28;01mimport\u001B[39;00m VerificationMode\n\u001B[1;32m     18\u001B[0m \u001B[38;5;28;01mfrom\u001B[39;00m \u001B[38;5;21;01m.\u001B[39;00m\u001B[38;5;21;01mlogging\u001B[39;00m \u001B[38;5;28;01mimport\u001B[39;00m disable_progress_bar, enable_progress_bar, is_progress_bar_enabled\n\u001B[1;32m     19\u001B[0m \u001B[38;5;28;01mfrom\u001B[39;00m \u001B[38;5;21;01m.\u001B[39;00m\u001B[38;5;21;01mtqdm\u001B[39;00m \u001B[38;5;28;01mimport\u001B[39;00m (\n\u001B[1;32m     20\u001B[0m     are_progress_bars_disabled,\n\u001B[1;32m     21\u001B[0m     disable_progress_bars,\n\u001B[1;32m     22\u001B[0m     enable_progress_bars,\n\u001B[1;32m     23\u001B[0m     tqdm,\n\u001B[1;32m     24\u001B[0m )\n",
      "File \u001B[0;32m/usr/local/lib/python3.11/site-packages/datasets/utils/info_utils.py:8\u001B[0m\n\u001B[1;32m      5\u001B[0m \u001B[38;5;28;01mfrom\u001B[39;00m \u001B[38;5;21;01mhuggingface_hub\u001B[39;00m\u001B[38;5;21;01m.\u001B[39;00m\u001B[38;5;21;01mutils\u001B[39;00m \u001B[38;5;28;01mimport\u001B[39;00m insecure_hashlib\n\u001B[1;32m      7\u001B[0m \u001B[38;5;28;01mfrom\u001B[39;00m \u001B[38;5;21;01m.\u001B[39;00m\u001B[38;5;21;01m.\u001B[39;00m \u001B[38;5;28;01mimport\u001B[39;00m config\n\u001B[0;32m----> 8\u001B[0m \u001B[38;5;28;01mfrom\u001B[39;00m \u001B[38;5;21;01m.\u001B[39;00m\u001B[38;5;21;01m.\u001B[39;00m\u001B[38;5;21;01mexceptions\u001B[39;00m \u001B[38;5;28;01mimport\u001B[39;00m (\n\u001B[1;32m      9\u001B[0m     ExpectedMoreDownloadedFilesError,\n\u001B[1;32m     10\u001B[0m     ExpectedMoreSplitsError,\n\u001B[1;32m     11\u001B[0m     NonMatchingChecksumError,\n\u001B[1;32m     12\u001B[0m     NonMatchingSplitsSizesError,\n\u001B[1;32m     13\u001B[0m     UnexpectedDownloadedFileError,\n\u001B[1;32m     14\u001B[0m     UnexpectedSplitsError,\n\u001B[1;32m     15\u001B[0m )\n\u001B[1;32m     16\u001B[0m \u001B[38;5;28;01mfrom\u001B[39;00m \u001B[38;5;21;01m.\u001B[39;00m\u001B[38;5;21;01mlogging\u001B[39;00m \u001B[38;5;28;01mimport\u001B[39;00m get_logger\n\u001B[1;32m     19\u001B[0m logger \u001B[38;5;241m=\u001B[39m get_logger(\u001B[38;5;18m__name__\u001B[39m)\n",
      "File \u001B[0;32m/usr/local/lib/python3.11/site-packages/datasets/exceptions.py:5\u001B[0m\n\u001B[1;32m      1\u001B[0m \u001B[38;5;66;03m# SPDX-License-Identifier: Apache-2.0\u001B[39;00m\n\u001B[1;32m      2\u001B[0m \u001B[38;5;66;03m# Copyright 2023 The HuggingFace Authors.\u001B[39;00m\n\u001B[1;32m      3\u001B[0m \u001B[38;5;28;01mfrom\u001B[39;00m \u001B[38;5;21;01mtyping\u001B[39;00m \u001B[38;5;28;01mimport\u001B[39;00m Any, Dict, List, Optional, Union\n\u001B[0;32m----> 5\u001B[0m \u001B[38;5;28;01mfrom\u001B[39;00m \u001B[38;5;21;01mhuggingface_hub\u001B[39;00m \u001B[38;5;28;01mimport\u001B[39;00m HfFileSystem\n\u001B[1;32m      7\u001B[0m \u001B[38;5;28;01mfrom\u001B[39;00m \u001B[38;5;21;01m.\u001B[39;00m \u001B[38;5;28;01mimport\u001B[39;00m config\n\u001B[1;32m      8\u001B[0m \u001B[38;5;28;01mfrom\u001B[39;00m \u001B[38;5;21;01m.\u001B[39;00m\u001B[38;5;21;01mtable\u001B[39;00m \u001B[38;5;28;01mimport\u001B[39;00m CastError\n",
      "File \u001B[0;32m/usr/local/lib/python3.11/site-packages/huggingface_hub/__init__.py:357\u001B[0m, in \u001B[0;36m__getattr__\u001B[0;34m(name)\u001B[0m\n\u001B[1;32m     49\u001B[0m __version__ \u001B[38;5;241m=\u001B[39m \u001B[38;5;124m\"\u001B[39m\u001B[38;5;124m0.23.4\u001B[39m\u001B[38;5;124m\"\u001B[39m\n\u001B[1;32m     51\u001B[0m \u001B[38;5;66;03m# Alphabetical order of definitions is ensured in tests\u001B[39;00m\n\u001B[1;32m     52\u001B[0m \u001B[38;5;66;03m# WARNING: any comment added in this dictionary definition will be lost when\u001B[39;00m\n\u001B[1;32m     53\u001B[0m \u001B[38;5;66;03m# re-generating the file !\u001B[39;00m\n\u001B[1;32m     54\u001B[0m _SUBMOD_ATTRS \u001B[38;5;241m=\u001B[39m {\n\u001B[1;32m     55\u001B[0m     \u001B[38;5;124m\"\u001B[39m\u001B[38;5;124m_commit_scheduler\u001B[39m\u001B[38;5;124m\"\u001B[39m: [\n\u001B[1;32m     56\u001B[0m         \u001B[38;5;124m\"\u001B[39m\u001B[38;5;124mCommitScheduler\u001B[39m\u001B[38;5;124m\"\u001B[39m,\n\u001B[1;32m     57\u001B[0m     ],\n\u001B[1;32m     58\u001B[0m     \u001B[38;5;124m\"\u001B[39m\u001B[38;5;124m_inference_endpoints\u001B[39m\u001B[38;5;124m\"\u001B[39m: [\n\u001B[1;32m     59\u001B[0m         \u001B[38;5;124m\"\u001B[39m\u001B[38;5;124mInferenceEndpoint\u001B[39m\u001B[38;5;124m\"\u001B[39m,\n\u001B[1;32m     60\u001B[0m         \u001B[38;5;124m\"\u001B[39m\u001B[38;5;124mInferenceEndpointError\u001B[39m\u001B[38;5;124m\"\u001B[39m,\n\u001B[1;32m     61\u001B[0m         \u001B[38;5;124m\"\u001B[39m\u001B[38;5;124mInferenceEndpointStatus\u001B[39m\u001B[38;5;124m\"\u001B[39m,\n\u001B[1;32m     62\u001B[0m         \u001B[38;5;124m\"\u001B[39m\u001B[38;5;124mInferenceEndpointTimeoutError\u001B[39m\u001B[38;5;124m\"\u001B[39m,\n\u001B[1;32m     63\u001B[0m         \u001B[38;5;124m\"\u001B[39m\u001B[38;5;124mInferenceEndpointType\u001B[39m\u001B[38;5;124m\"\u001B[39m,\n\u001B[1;32m     64\u001B[0m     ],\n\u001B[1;32m     65\u001B[0m     \u001B[38;5;124m\"\u001B[39m\u001B[38;5;124m_login\u001B[39m\u001B[38;5;124m\"\u001B[39m: [\n\u001B[1;32m     66\u001B[0m         \u001B[38;5;124m\"\u001B[39m\u001B[38;5;124minterpreter_login\u001B[39m\u001B[38;5;124m\"\u001B[39m,\n\u001B[1;32m     67\u001B[0m         \u001B[38;5;124m\"\u001B[39m\u001B[38;5;124mlogin\u001B[39m\u001B[38;5;124m\"\u001B[39m,\n\u001B[1;32m     68\u001B[0m         \u001B[38;5;124m\"\u001B[39m\u001B[38;5;124mlogout\u001B[39m\u001B[38;5;124m\"\u001B[39m,\n\u001B[1;32m     69\u001B[0m         \u001B[38;5;124m\"\u001B[39m\u001B[38;5;124mnotebook_login\u001B[39m\u001B[38;5;124m\"\u001B[39m,\n\u001B[1;32m     70\u001B[0m     ],\n\u001B[1;32m     71\u001B[0m     \u001B[38;5;124m\"\u001B[39m\u001B[38;5;124m_multi_commits\u001B[39m\u001B[38;5;124m\"\u001B[39m: [\n\u001B[1;32m     72\u001B[0m         \u001B[38;5;124m\"\u001B[39m\u001B[38;5;124mMultiCommitException\u001B[39m\u001B[38;5;124m\"\u001B[39m,\n\u001B[1;32m     73\u001B[0m         \u001B[38;5;124m\"\u001B[39m\u001B[38;5;124mplan_multi_commits\u001B[39m\u001B[38;5;124m\"\u001B[39m,\n\u001B[1;32m     74\u001B[0m     ],\n\u001B[1;32m     75\u001B[0m     \u001B[38;5;124m\"\u001B[39m\u001B[38;5;124m_snapshot_download\u001B[39m\u001B[38;5;124m\"\u001B[39m: [\n\u001B[1;32m     76\u001B[0m         \u001B[38;5;124m\"\u001B[39m\u001B[38;5;124msnapshot_download\u001B[39m\u001B[38;5;124m\"\u001B[39m,\n\u001B[1;32m     77\u001B[0m     ],\n\u001B[1;32m     78\u001B[0m     \u001B[38;5;124m\"\u001B[39m\u001B[38;5;124m_space_api\u001B[39m\u001B[38;5;124m\"\u001B[39m: [\n\u001B[1;32m     79\u001B[0m         \u001B[38;5;124m\"\u001B[39m\u001B[38;5;124mSpaceHardware\u001B[39m\u001B[38;5;124m\"\u001B[39m,\n\u001B[1;32m     80\u001B[0m         \u001B[38;5;124m\"\u001B[39m\u001B[38;5;124mSpaceRuntime\u001B[39m\u001B[38;5;124m\"\u001B[39m,\n\u001B[1;32m     81\u001B[0m         \u001B[38;5;124m\"\u001B[39m\u001B[38;5;124mSpaceStage\u001B[39m\u001B[38;5;124m\"\u001B[39m,\n\u001B[1;32m     82\u001B[0m         \u001B[38;5;124m\"\u001B[39m\u001B[38;5;124mSpaceStorage\u001B[39m\u001B[38;5;124m\"\u001B[39m,\n\u001B[1;32m     83\u001B[0m         \u001B[38;5;124m\"\u001B[39m\u001B[38;5;124mSpaceVariable\u001B[39m\u001B[38;5;124m\"\u001B[39m,\n\u001B[1;32m     84\u001B[0m     ],\n\u001B[1;32m     85\u001B[0m     \u001B[38;5;124m\"\u001B[39m\u001B[38;5;124m_tensorboard_logger\u001B[39m\u001B[38;5;124m\"\u001B[39m: [\n\u001B[1;32m     86\u001B[0m         \u001B[38;5;124m\"\u001B[39m\u001B[38;5;124mHFSummaryWriter\u001B[39m\u001B[38;5;124m\"\u001B[39m,\n\u001B[1;32m     87\u001B[0m     ],\n\u001B[1;32m     88\u001B[0m     \u001B[38;5;124m\"\u001B[39m\u001B[38;5;124m_webhooks_payload\u001B[39m\u001B[38;5;124m\"\u001B[39m: [\n\u001B[1;32m     89\u001B[0m         \u001B[38;5;124m\"\u001B[39m\u001B[38;5;124mWebhookPayload\u001B[39m\u001B[38;5;124m\"\u001B[39m,\n\u001B[1;32m     90\u001B[0m         \u001B[38;5;124m\"\u001B[39m\u001B[38;5;124mWebhookPayloadComment\u001B[39m\u001B[38;5;124m\"\u001B[39m,\n\u001B[1;32m     91\u001B[0m         \u001B[38;5;124m\"\u001B[39m\u001B[38;5;124mWebhookPayloadDiscussion\u001B[39m\u001B[38;5;124m\"\u001B[39m,\n\u001B[1;32m     92\u001B[0m         \u001B[38;5;124m\"\u001B[39m\u001B[38;5;124mWebhookPayloadDiscussionChanges\u001B[39m\u001B[38;5;124m\"\u001B[39m,\n\u001B[1;32m     93\u001B[0m         \u001B[38;5;124m\"\u001B[39m\u001B[38;5;124mWebhookPayloadEvent\u001B[39m\u001B[38;5;124m\"\u001B[39m,\n\u001B[1;32m     94\u001B[0m         \u001B[38;5;124m\"\u001B[39m\u001B[38;5;124mWebhookPayloadMovedTo\u001B[39m\u001B[38;5;124m\"\u001B[39m,\n\u001B[1;32m     95\u001B[0m         \u001B[38;5;124m\"\u001B[39m\u001B[38;5;124mWebhookPayloadRepo\u001B[39m\u001B[38;5;124m\"\u001B[39m,\n\u001B[1;32m     96\u001B[0m         \u001B[38;5;124m\"\u001B[39m\u001B[38;5;124mWebhookPayloadUrl\u001B[39m\u001B[38;5;124m\"\u001B[39m,\n\u001B[1;32m     97\u001B[0m         \u001B[38;5;124m\"\u001B[39m\u001B[38;5;124mWebhookPayloadWebhook\u001B[39m\u001B[38;5;124m\"\u001B[39m,\n\u001B[1;32m     98\u001B[0m     ],\n\u001B[1;32m     99\u001B[0m     \u001B[38;5;124m\"\u001B[39m\u001B[38;5;124m_webhooks_server\u001B[39m\u001B[38;5;124m\"\u001B[39m: [\n\u001B[1;32m    100\u001B[0m         \u001B[38;5;124m\"\u001B[39m\u001B[38;5;124mWebhooksServer\u001B[39m\u001B[38;5;124m\"\u001B[39m,\n\u001B[1;32m    101\u001B[0m         \u001B[38;5;124m\"\u001B[39m\u001B[38;5;124mwebhook_endpoint\u001B[39m\u001B[38;5;124m\"\u001B[39m,\n\u001B[1;32m    102\u001B[0m     ],\n\u001B[1;32m    103\u001B[0m     \u001B[38;5;124m\"\u001B[39m\u001B[38;5;124mcommunity\u001B[39m\u001B[38;5;124m\"\u001B[39m: [\n\u001B[1;32m    104\u001B[0m         \u001B[38;5;124m\"\u001B[39m\u001B[38;5;124mDiscussion\u001B[39m\u001B[38;5;124m\"\u001B[39m,\n\u001B[1;32m    105\u001B[0m         \u001B[38;5;124m\"\u001B[39m\u001B[38;5;124mDiscussionComment\u001B[39m\u001B[38;5;124m\"\u001B[39m,\n\u001B[1;32m    106\u001B[0m         \u001B[38;5;124m\"\u001B[39m\u001B[38;5;124mDiscussionCommit\u001B[39m\u001B[38;5;124m\"\u001B[39m,\n\u001B[1;32m    107\u001B[0m         \u001B[38;5;124m\"\u001B[39m\u001B[38;5;124mDiscussionEvent\u001B[39m\u001B[38;5;124m\"\u001B[39m,\n\u001B[1;32m    108\u001B[0m         \u001B[38;5;124m\"\u001B[39m\u001B[38;5;124mDiscussionStatusChange\u001B[39m\u001B[38;5;124m\"\u001B[39m,\n\u001B[1;32m    109\u001B[0m         \u001B[38;5;124m\"\u001B[39m\u001B[38;5;124mDiscussionTitleChange\u001B[39m\u001B[38;5;124m\"\u001B[39m,\n\u001B[1;32m    110\u001B[0m         \u001B[38;5;124m\"\u001B[39m\u001B[38;5;124mDiscussionWithDetails\u001B[39m\u001B[38;5;124m\"\u001B[39m,\n\u001B[1;32m    111\u001B[0m     ],\n\u001B[1;32m    112\u001B[0m     \u001B[38;5;124m\"\u001B[39m\u001B[38;5;124mconstants\u001B[39m\u001B[38;5;124m\"\u001B[39m: [\n\u001B[1;32m    113\u001B[0m         \u001B[38;5;124m\"\u001B[39m\u001B[38;5;124mCONFIG_NAME\u001B[39m\u001B[38;5;124m\"\u001B[39m,\n\u001B[1;32m    114\u001B[0m         \u001B[38;5;124m\"\u001B[39m\u001B[38;5;124mFLAX_WEIGHTS_NAME\u001B[39m\u001B[38;5;124m\"\u001B[39m,\n\u001B[1;32m    115\u001B[0m         \u001B[38;5;124m\"\u001B[39m\u001B[38;5;124mHUGGINGFACE_CO_URL_HOME\u001B[39m\u001B[38;5;124m\"\u001B[39m,\n\u001B[1;32m    116\u001B[0m         \u001B[38;5;124m\"\u001B[39m\u001B[38;5;124mHUGGINGFACE_CO_URL_TEMPLATE\u001B[39m\u001B[38;5;124m\"\u001B[39m,\n\u001B[1;32m    117\u001B[0m         \u001B[38;5;124m\"\u001B[39m\u001B[38;5;124mPYTORCH_WEIGHTS_NAME\u001B[39m\u001B[38;5;124m\"\u001B[39m,\n\u001B[1;32m    118\u001B[0m         \u001B[38;5;124m\"\u001B[39m\u001B[38;5;124mREPO_TYPE_DATASET\u001B[39m\u001B[38;5;124m\"\u001B[39m,\n\u001B[1;32m    119\u001B[0m         \u001B[38;5;124m\"\u001B[39m\u001B[38;5;124mREPO_TYPE_MODEL\u001B[39m\u001B[38;5;124m\"\u001B[39m,\n\u001B[1;32m    120\u001B[0m         \u001B[38;5;124m\"\u001B[39m\u001B[38;5;124mREPO_TYPE_SPACE\u001B[39m\u001B[38;5;124m\"\u001B[39m,\n\u001B[1;32m    121\u001B[0m         \u001B[38;5;124m\"\u001B[39m\u001B[38;5;124mTF2_WEIGHTS_NAME\u001B[39m\u001B[38;5;124m\"\u001B[39m,\n\u001B[1;32m    122\u001B[0m         \u001B[38;5;124m\"\u001B[39m\u001B[38;5;124mTF_WEIGHTS_NAME\u001B[39m\u001B[38;5;124m\"\u001B[39m,\n\u001B[1;32m    123\u001B[0m     ],\n\u001B[1;32m    124\u001B[0m     \u001B[38;5;124m\"\u001B[39m\u001B[38;5;124mfastai_utils\u001B[39m\u001B[38;5;124m\"\u001B[39m: [\n\u001B[1;32m    125\u001B[0m         \u001B[38;5;124m\"\u001B[39m\u001B[38;5;124m_save_pretrained_fastai\u001B[39m\u001B[38;5;124m\"\u001B[39m,\n\u001B[1;32m    126\u001B[0m         \u001B[38;5;124m\"\u001B[39m\u001B[38;5;124mfrom_pretrained_fastai\u001B[39m\u001B[38;5;124m\"\u001B[39m,\n\u001B[1;32m    127\u001B[0m         \u001B[38;5;124m\"\u001B[39m\u001B[38;5;124mpush_to_hub_fastai\u001B[39m\u001B[38;5;124m\"\u001B[39m,\n\u001B[1;32m    128\u001B[0m     ],\n\u001B[1;32m    129\u001B[0m     \u001B[38;5;124m\"\u001B[39m\u001B[38;5;124mfile_download\u001B[39m\u001B[38;5;124m\"\u001B[39m: [\n\u001B[1;32m    130\u001B[0m         \u001B[38;5;124m\"\u001B[39m\u001B[38;5;124mHfFileMetadata\u001B[39m\u001B[38;5;124m\"\u001B[39m,\n\u001B[1;32m    131\u001B[0m         \u001B[38;5;124m\"\u001B[39m\u001B[38;5;124m_CACHED_NO_EXIST\u001B[39m\u001B[38;5;124m\"\u001B[39m,\n\u001B[1;32m    132\u001B[0m         \u001B[38;5;124m\"\u001B[39m\u001B[38;5;124mcached_download\u001B[39m\u001B[38;5;124m\"\u001B[39m,\n\u001B[1;32m    133\u001B[0m         \u001B[38;5;124m\"\u001B[39m\u001B[38;5;124mget_hf_file_metadata\u001B[39m\u001B[38;5;124m\"\u001B[39m,\n\u001B[1;32m    134\u001B[0m         \u001B[38;5;124m\"\u001B[39m\u001B[38;5;124mhf_hub_download\u001B[39m\u001B[38;5;124m\"\u001B[39m,\n\u001B[1;32m    135\u001B[0m         \u001B[38;5;124m\"\u001B[39m\u001B[38;5;124mhf_hub_url\u001B[39m\u001B[38;5;124m\"\u001B[39m,\n\u001B[1;32m    136\u001B[0m         \u001B[38;5;124m\"\u001B[39m\u001B[38;5;124mtry_to_load_from_cache\u001B[39m\u001B[38;5;124m\"\u001B[39m,\n\u001B[1;32m    137\u001B[0m     ],\n\u001B[1;32m    138\u001B[0m     \u001B[38;5;124m\"\u001B[39m\u001B[38;5;124mhf_api\u001B[39m\u001B[38;5;124m\"\u001B[39m: [\n\u001B[1;32m    139\u001B[0m         \u001B[38;5;124m\"\u001B[39m\u001B[38;5;124mCollection\u001B[39m\u001B[38;5;124m\"\u001B[39m,\n\u001B[1;32m    140\u001B[0m         \u001B[38;5;124m\"\u001B[39m\u001B[38;5;124mCollectionItem\u001B[39m\u001B[38;5;124m\"\u001B[39m,\n\u001B[1;32m    141\u001B[0m         \u001B[38;5;124m\"\u001B[39m\u001B[38;5;124mCommitInfo\u001B[39m\u001B[38;5;124m\"\u001B[39m,\n\u001B[1;32m    142\u001B[0m         \u001B[38;5;124m\"\u001B[39m\u001B[38;5;124mCommitOperation\u001B[39m\u001B[38;5;124m\"\u001B[39m,\n\u001B[1;32m    143\u001B[0m         \u001B[38;5;124m\"\u001B[39m\u001B[38;5;124mCommitOperationAdd\u001B[39m\u001B[38;5;124m\"\u001B[39m,\n\u001B[1;32m    144\u001B[0m         \u001B[38;5;124m\"\u001B[39m\u001B[38;5;124mCommitOperationCopy\u001B[39m\u001B[38;5;124m\"\u001B[39m,\n\u001B[1;32m    145\u001B[0m         \u001B[38;5;124m\"\u001B[39m\u001B[38;5;124mCommitOperationDelete\u001B[39m\u001B[38;5;124m\"\u001B[39m,\n\u001B[1;32m    146\u001B[0m         \u001B[38;5;124m\"\u001B[39m\u001B[38;5;124mGitCommitInfo\u001B[39m\u001B[38;5;124m\"\u001B[39m,\n\u001B[1;32m    147\u001B[0m         \u001B[38;5;124m\"\u001B[39m\u001B[38;5;124mGitRefInfo\u001B[39m\u001B[38;5;124m\"\u001B[39m,\n\u001B[1;32m    148\u001B[0m         \u001B[38;5;124m\"\u001B[39m\u001B[38;5;124mGitRefs\u001B[39m\u001B[38;5;124m\"\u001B[39m,\n\u001B[1;32m    149\u001B[0m         \u001B[38;5;124m\"\u001B[39m\u001B[38;5;124mHfApi\u001B[39m\u001B[38;5;124m\"\u001B[39m,\n\u001B[1;32m    150\u001B[0m         \u001B[38;5;124m\"\u001B[39m\u001B[38;5;124mRepoUrl\u001B[39m\u001B[38;5;124m\"\u001B[39m,\n\u001B[1;32m    151\u001B[0m         \u001B[38;5;124m\"\u001B[39m\u001B[38;5;124mUser\u001B[39m\u001B[38;5;124m\"\u001B[39m,\n\u001B[1;32m    152\u001B[0m         \u001B[38;5;124m\"\u001B[39m\u001B[38;5;124mUserLikes\u001B[39m\u001B[38;5;124m\"\u001B[39m,\n\u001B[1;32m    153\u001B[0m         \u001B[38;5;124m\"\u001B[39m\u001B[38;5;124maccept_access_request\u001B[39m\u001B[38;5;124m\"\u001B[39m,\n\u001B[1;32m    154\u001B[0m         \u001B[38;5;124m\"\u001B[39m\u001B[38;5;124madd_collection_item\u001B[39m\u001B[38;5;124m\"\u001B[39m,\n\u001B[1;32m    155\u001B[0m         \u001B[38;5;124m\"\u001B[39m\u001B[38;5;124madd_space_secret\u001B[39m\u001B[38;5;124m\"\u001B[39m,\n\u001B[1;32m    156\u001B[0m         \u001B[38;5;124m\"\u001B[39m\u001B[38;5;124madd_space_variable\u001B[39m\u001B[38;5;124m\"\u001B[39m,\n\u001B[1;32m    157\u001B[0m         \u001B[38;5;124m\"\u001B[39m\u001B[38;5;124mcancel_access_request\u001B[39m\u001B[38;5;124m\"\u001B[39m,\n\u001B[1;32m    158\u001B[0m         \u001B[38;5;124m\"\u001B[39m\u001B[38;5;124mchange_discussion_status\u001B[39m\u001B[38;5;124m\"\u001B[39m,\n\u001B[1;32m    159\u001B[0m         \u001B[38;5;124m\"\u001B[39m\u001B[38;5;124mcomment_discussion\u001B[39m\u001B[38;5;124m\"\u001B[39m,\n\u001B[1;32m    160\u001B[0m         \u001B[38;5;124m\"\u001B[39m\u001B[38;5;124mcreate_branch\u001B[39m\u001B[38;5;124m\"\u001B[39m,\n\u001B[1;32m    161\u001B[0m         \u001B[38;5;124m\"\u001B[39m\u001B[38;5;124mcreate_collection\u001B[39m\u001B[38;5;124m\"\u001B[39m,\n\u001B[1;32m    162\u001B[0m         \u001B[38;5;124m\"\u001B[39m\u001B[38;5;124mcreate_commit\u001B[39m\u001B[38;5;124m\"\u001B[39m,\n\u001B[1;32m    163\u001B[0m         \u001B[38;5;124m\"\u001B[39m\u001B[38;5;124mcreate_commits_on_pr\u001B[39m\u001B[38;5;124m\"\u001B[39m,\n\u001B[1;32m    164\u001B[0m         \u001B[38;5;124m\"\u001B[39m\u001B[38;5;124mcreate_discussion\u001B[39m\u001B[38;5;124m\"\u001B[39m,\n\u001B[1;32m    165\u001B[0m         \u001B[38;5;124m\"\u001B[39m\u001B[38;5;124mcreate_inference_endpoint\u001B[39m\u001B[38;5;124m\"\u001B[39m,\n\u001B[1;32m    166\u001B[0m         \u001B[38;5;124m\"\u001B[39m\u001B[38;5;124mcreate_pull_request\u001B[39m\u001B[38;5;124m\"\u001B[39m,\n\u001B[1;32m    167\u001B[0m         \u001B[38;5;124m\"\u001B[39m\u001B[38;5;124mcreate_repo\u001B[39m\u001B[38;5;124m\"\u001B[39m,\n\u001B[1;32m    168\u001B[0m         \u001B[38;5;124m\"\u001B[39m\u001B[38;5;124mcreate_tag\u001B[39m\u001B[38;5;124m\"\u001B[39m,\n\u001B[1;32m    169\u001B[0m         \u001B[38;5;124m\"\u001B[39m\u001B[38;5;124mdataset_info\u001B[39m\u001B[38;5;124m\"\u001B[39m,\n\u001B[1;32m    170\u001B[0m         \u001B[38;5;124m\"\u001B[39m\u001B[38;5;124mdelete_branch\u001B[39m\u001B[38;5;124m\"\u001B[39m,\n\u001B[1;32m    171\u001B[0m         \u001B[38;5;124m\"\u001B[39m\u001B[38;5;124mdelete_collection\u001B[39m\u001B[38;5;124m\"\u001B[39m,\n\u001B[1;32m    172\u001B[0m         \u001B[38;5;124m\"\u001B[39m\u001B[38;5;124mdelete_collection_item\u001B[39m\u001B[38;5;124m\"\u001B[39m,\n\u001B[1;32m    173\u001B[0m         \u001B[38;5;124m\"\u001B[39m\u001B[38;5;124mdelete_file\u001B[39m\u001B[38;5;124m\"\u001B[39m,\n\u001B[1;32m    174\u001B[0m         \u001B[38;5;124m\"\u001B[39m\u001B[38;5;124mdelete_folder\u001B[39m\u001B[38;5;124m\"\u001B[39m,\n\u001B[1;32m    175\u001B[0m         \u001B[38;5;124m\"\u001B[39m\u001B[38;5;124mdelete_inference_endpoint\u001B[39m\u001B[38;5;124m\"\u001B[39m,\n\u001B[1;32m    176\u001B[0m         \u001B[38;5;124m\"\u001B[39m\u001B[38;5;124mdelete_repo\u001B[39m\u001B[38;5;124m\"\u001B[39m,\n\u001B[1;32m    177\u001B[0m         \u001B[38;5;124m\"\u001B[39m\u001B[38;5;124mdelete_space_secret\u001B[39m\u001B[38;5;124m\"\u001B[39m,\n\u001B[1;32m    178\u001B[0m         \u001B[38;5;124m\"\u001B[39m\u001B[38;5;124mdelete_space_storage\u001B[39m\u001B[38;5;124m\"\u001B[39m,\n\u001B[1;32m    179\u001B[0m         \u001B[38;5;124m\"\u001B[39m\u001B[38;5;124mdelete_space_variable\u001B[39m\u001B[38;5;124m\"\u001B[39m,\n\u001B[1;32m    180\u001B[0m         \u001B[38;5;124m\"\u001B[39m\u001B[38;5;124mdelete_tag\u001B[39m\u001B[38;5;124m\"\u001B[39m,\n\u001B[1;32m    181\u001B[0m         \u001B[38;5;124m\"\u001B[39m\u001B[38;5;124mduplicate_space\u001B[39m\u001B[38;5;124m\"\u001B[39m,\n\u001B[1;32m    182\u001B[0m         \u001B[38;5;124m\"\u001B[39m\u001B[38;5;124medit_discussion_comment\u001B[39m\u001B[38;5;124m\"\u001B[39m,\n\u001B[1;32m    183\u001B[0m         \u001B[38;5;124m\"\u001B[39m\u001B[38;5;124mfile_exists\u001B[39m\u001B[38;5;124m\"\u001B[39m,\n\u001B[1;32m    184\u001B[0m         \u001B[38;5;124m\"\u001B[39m\u001B[38;5;124mget_collection\u001B[39m\u001B[38;5;124m\"\u001B[39m,\n\u001B[1;32m    185\u001B[0m         \u001B[38;5;124m\"\u001B[39m\u001B[38;5;124mget_dataset_tags\u001B[39m\u001B[38;5;124m\"\u001B[39m,\n\u001B[1;32m    186\u001B[0m         \u001B[38;5;124m\"\u001B[39m\u001B[38;5;124mget_discussion_details\u001B[39m\u001B[38;5;124m\"\u001B[39m,\n\u001B[1;32m    187\u001B[0m         \u001B[38;5;124m\"\u001B[39m\u001B[38;5;124mget_full_repo_name\u001B[39m\u001B[38;5;124m\"\u001B[39m,\n\u001B[1;32m    188\u001B[0m         \u001B[38;5;124m\"\u001B[39m\u001B[38;5;124mget_inference_endpoint\u001B[39m\u001B[38;5;124m\"\u001B[39m,\n\u001B[1;32m    189\u001B[0m         \u001B[38;5;124m\"\u001B[39m\u001B[38;5;124mget_model_tags\u001B[39m\u001B[38;5;124m\"\u001B[39m,\n\u001B[1;32m    190\u001B[0m         \u001B[38;5;124m\"\u001B[39m\u001B[38;5;124mget_paths_info\u001B[39m\u001B[38;5;124m\"\u001B[39m,\n\u001B[1;32m    191\u001B[0m         \u001B[38;5;124m\"\u001B[39m\u001B[38;5;124mget_repo_discussions\u001B[39m\u001B[38;5;124m\"\u001B[39m,\n\u001B[1;32m    192\u001B[0m         \u001B[38;5;124m\"\u001B[39m\u001B[38;5;124mget_safetensors_metadata\u001B[39m\u001B[38;5;124m\"\u001B[39m,\n\u001B[1;32m    193\u001B[0m         \u001B[38;5;124m\"\u001B[39m\u001B[38;5;124mget_space_runtime\u001B[39m\u001B[38;5;124m\"\u001B[39m,\n\u001B[1;32m    194\u001B[0m         \u001B[38;5;124m\"\u001B[39m\u001B[38;5;124mget_space_variables\u001B[39m\u001B[38;5;124m\"\u001B[39m,\n\u001B[1;32m    195\u001B[0m         \u001B[38;5;124m\"\u001B[39m\u001B[38;5;124mget_token_permission\u001B[39m\u001B[38;5;124m\"\u001B[39m,\n\u001B[1;32m    196\u001B[0m         \u001B[38;5;124m\"\u001B[39m\u001B[38;5;124mgrant_access\u001B[39m\u001B[38;5;124m\"\u001B[39m,\n\u001B[1;32m    197\u001B[0m         \u001B[38;5;124m\"\u001B[39m\u001B[38;5;124mlike\u001B[39m\u001B[38;5;124m\"\u001B[39m,\n\u001B[1;32m    198\u001B[0m         \u001B[38;5;124m\"\u001B[39m\u001B[38;5;124mlist_accepted_access_requests\u001B[39m\u001B[38;5;124m\"\u001B[39m,\n\u001B[1;32m    199\u001B[0m         \u001B[38;5;124m\"\u001B[39m\u001B[38;5;124mlist_collections\u001B[39m\u001B[38;5;124m\"\u001B[39m,\n\u001B[1;32m    200\u001B[0m         \u001B[38;5;124m\"\u001B[39m\u001B[38;5;124mlist_datasets\u001B[39m\u001B[38;5;124m\"\u001B[39m,\n\u001B[1;32m    201\u001B[0m         \u001B[38;5;124m\"\u001B[39m\u001B[38;5;124mlist_inference_endpoints\u001B[39m\u001B[38;5;124m\"\u001B[39m,\n\u001B[1;32m    202\u001B[0m         \u001B[38;5;124m\"\u001B[39m\u001B[38;5;124mlist_liked_repos\u001B[39m\u001B[38;5;124m\"\u001B[39m,\n\u001B[1;32m    203\u001B[0m         \u001B[38;5;124m\"\u001B[39m\u001B[38;5;124mlist_metrics\u001B[39m\u001B[38;5;124m\"\u001B[39m,\n\u001B[1;32m    204\u001B[0m         \u001B[38;5;124m\"\u001B[39m\u001B[38;5;124mlist_models\u001B[39m\u001B[38;5;124m\"\u001B[39m,\n\u001B[1;32m    205\u001B[0m         \u001B[38;5;124m\"\u001B[39m\u001B[38;5;124mlist_pending_access_requests\u001B[39m\u001B[38;5;124m\"\u001B[39m,\n\u001B[1;32m    206\u001B[0m         \u001B[38;5;124m\"\u001B[39m\u001B[38;5;124mlist_rejected_access_requests\u001B[39m\u001B[38;5;124m\"\u001B[39m,\n\u001B[1;32m    207\u001B[0m         \u001B[38;5;124m\"\u001B[39m\u001B[38;5;124mlist_repo_commits\u001B[39m\u001B[38;5;124m\"\u001B[39m,\n\u001B[1;32m    208\u001B[0m         \u001B[38;5;124m\"\u001B[39m\u001B[38;5;124mlist_repo_files\u001B[39m\u001B[38;5;124m\"\u001B[39m,\n\u001B[1;32m    209\u001B[0m         \u001B[38;5;124m\"\u001B[39m\u001B[38;5;124mlist_repo_likers\u001B[39m\u001B[38;5;124m\"\u001B[39m,\n\u001B[1;32m    210\u001B[0m         \u001B[38;5;124m\"\u001B[39m\u001B[38;5;124mlist_repo_refs\u001B[39m\u001B[38;5;124m\"\u001B[39m,\n\u001B[1;32m    211\u001B[0m         \u001B[38;5;124m\"\u001B[39m\u001B[38;5;124mlist_repo_tree\u001B[39m\u001B[38;5;124m\"\u001B[39m,\n\u001B[1;32m    212\u001B[0m         \u001B[38;5;124m\"\u001B[39m\u001B[38;5;124mlist_spaces\u001B[39m\u001B[38;5;124m\"\u001B[39m,\n\u001B[1;32m    213\u001B[0m         \u001B[38;5;124m\"\u001B[39m\u001B[38;5;124mmerge_pull_request\u001B[39m\u001B[38;5;124m\"\u001B[39m,\n\u001B[1;32m    214\u001B[0m         \u001B[38;5;124m\"\u001B[39m\u001B[38;5;124mmodel_info\u001B[39m\u001B[38;5;124m\"\u001B[39m,\n\u001B[1;32m    215\u001B[0m         \u001B[38;5;124m\"\u001B[39m\u001B[38;5;124mmove_repo\u001B[39m\u001B[38;5;124m\"\u001B[39m,\n\u001B[1;32m    216\u001B[0m         \u001B[38;5;124m\"\u001B[39m\u001B[38;5;124mparse_safetensors_file_metadata\u001B[39m\u001B[38;5;124m\"\u001B[39m,\n\u001B[1;32m    217\u001B[0m         \u001B[38;5;124m\"\u001B[39m\u001B[38;5;124mpause_inference_endpoint\u001B[39m\u001B[38;5;124m\"\u001B[39m,\n\u001B[1;32m    218\u001B[0m         \u001B[38;5;124m\"\u001B[39m\u001B[38;5;124mpause_space\u001B[39m\u001B[38;5;124m\"\u001B[39m,\n\u001B[1;32m    219\u001B[0m         \u001B[38;5;124m\"\u001B[39m\u001B[38;5;124mpreupload_lfs_files\u001B[39m\u001B[38;5;124m\"\u001B[39m,\n\u001B[1;32m    220\u001B[0m         \u001B[38;5;124m\"\u001B[39m\u001B[38;5;124mreject_access_request\u001B[39m\u001B[38;5;124m\"\u001B[39m,\n\u001B[1;32m    221\u001B[0m         \u001B[38;5;124m\"\u001B[39m\u001B[38;5;124mrename_discussion\u001B[39m\u001B[38;5;124m\"\u001B[39m,\n\u001B[1;32m    222\u001B[0m         \u001B[38;5;124m\"\u001B[39m\u001B[38;5;124mrepo_exists\u001B[39m\u001B[38;5;124m\"\u001B[39m,\n\u001B[1;32m    223\u001B[0m         \u001B[38;5;124m\"\u001B[39m\u001B[38;5;124mrepo_info\u001B[39m\u001B[38;5;124m\"\u001B[39m,\n\u001B[1;32m    224\u001B[0m         \u001B[38;5;124m\"\u001B[39m\u001B[38;5;124mrepo_type_and_id_from_hf_id\u001B[39m\u001B[38;5;124m\"\u001B[39m,\n\u001B[1;32m    225\u001B[0m         \u001B[38;5;124m\"\u001B[39m\u001B[38;5;124mrequest_space_hardware\u001B[39m\u001B[38;5;124m\"\u001B[39m,\n\u001B[1;32m    226\u001B[0m         \u001B[38;5;124m\"\u001B[39m\u001B[38;5;124mrequest_space_storage\u001B[39m\u001B[38;5;124m\"\u001B[39m,\n\u001B[1;32m    227\u001B[0m         \u001B[38;5;124m\"\u001B[39m\u001B[38;5;124mrestart_space\u001B[39m\u001B[38;5;124m\"\u001B[39m,\n\u001B[1;32m    228\u001B[0m         \u001B[38;5;124m\"\u001B[39m\u001B[38;5;124mresume_inference_endpoint\u001B[39m\u001B[38;5;124m\"\u001B[39m,\n\u001B[1;32m    229\u001B[0m         \u001B[38;5;124m\"\u001B[39m\u001B[38;5;124mrevision_exists\u001B[39m\u001B[38;5;124m\"\u001B[39m,\n\u001B[1;32m    230\u001B[0m         \u001B[38;5;124m\"\u001B[39m\u001B[38;5;124mrun_as_future\u001B[39m\u001B[38;5;124m\"\u001B[39m,\n\u001B[1;32m    231\u001B[0m         \u001B[38;5;124m\"\u001B[39m\u001B[38;5;124mscale_to_zero_inference_endpoint\u001B[39m\u001B[38;5;124m\"\u001B[39m,\n\u001B[1;32m    232\u001B[0m         \u001B[38;5;124m\"\u001B[39m\u001B[38;5;124mset_space_sleep_time\u001B[39m\u001B[38;5;124m\"\u001B[39m,\n\u001B[1;32m    233\u001B[0m         \u001B[38;5;124m\"\u001B[39m\u001B[38;5;124mspace_info\u001B[39m\u001B[38;5;124m\"\u001B[39m,\n\u001B[1;32m    234\u001B[0m         \u001B[38;5;124m\"\u001B[39m\u001B[38;5;124msuper_squash_history\u001B[39m\u001B[38;5;124m\"\u001B[39m,\n\u001B[1;32m    235\u001B[0m         \u001B[38;5;124m\"\u001B[39m\u001B[38;5;124munlike\u001B[39m\u001B[38;5;124m\"\u001B[39m,\n\u001B[1;32m    236\u001B[0m         \u001B[38;5;124m\"\u001B[39m\u001B[38;5;124mupdate_collection_item\u001B[39m\u001B[38;5;124m\"\u001B[39m,\n\u001B[1;32m    237\u001B[0m         \u001B[38;5;124m\"\u001B[39m\u001B[38;5;124mupdate_collection_metadata\u001B[39m\u001B[38;5;124m\"\u001B[39m,\n\u001B[1;32m    238\u001B[0m         \u001B[38;5;124m\"\u001B[39m\u001B[38;5;124mupdate_inference_endpoint\u001B[39m\u001B[38;5;124m\"\u001B[39m,\n\u001B[1;32m    239\u001B[0m         \u001B[38;5;124m\"\u001B[39m\u001B[38;5;124mupdate_repo_visibility\u001B[39m\u001B[38;5;124m\"\u001B[39m,\n\u001B[1;32m    240\u001B[0m         \u001B[38;5;124m\"\u001B[39m\u001B[38;5;124mupload_file\u001B[39m\u001B[38;5;124m\"\u001B[39m,\n\u001B[1;32m    241\u001B[0m         \u001B[38;5;124m\"\u001B[39m\u001B[38;5;124mupload_folder\u001B[39m\u001B[38;5;124m\"\u001B[39m,\n\u001B[1;32m    242\u001B[0m         \u001B[38;5;124m\"\u001B[39m\u001B[38;5;124mwhoami\u001B[39m\u001B[38;5;124m\"\u001B[39m,\n\u001B[1;32m    243\u001B[0m     ],\n\u001B[1;32m    244\u001B[0m     \u001B[38;5;124m\"\u001B[39m\u001B[38;5;124mhf_file_system\u001B[39m\u001B[38;5;124m\"\u001B[39m: [\n\u001B[1;32m    245\u001B[0m         \u001B[38;5;124m\"\u001B[39m\u001B[38;5;124mHfFileSystem\u001B[39m\u001B[38;5;124m\"\u001B[39m,\n\u001B[1;32m    246\u001B[0m         \u001B[38;5;124m\"\u001B[39m\u001B[38;5;124mHfFileSystemFile\u001B[39m\u001B[38;5;124m\"\u001B[39m,\n\u001B[1;32m    247\u001B[0m         \u001B[38;5;124m\"\u001B[39m\u001B[38;5;124mHfFileSystemResolvedPath\u001B[39m\u001B[38;5;124m\"\u001B[39m,\n\u001B[1;32m    248\u001B[0m         \u001B[38;5;124m\"\u001B[39m\u001B[38;5;124mHfFileSystemStreamFile\u001B[39m\u001B[38;5;124m\"\u001B[39m,\n\u001B[1;32m    249\u001B[0m     ],\n\u001B[1;32m    250\u001B[0m     \u001B[38;5;124m\"\u001B[39m\u001B[38;5;124mhub_mixin\u001B[39m\u001B[38;5;124m\"\u001B[39m: [\n\u001B[1;32m    251\u001B[0m         \u001B[38;5;124m\"\u001B[39m\u001B[38;5;124mModelHubMixin\u001B[39m\u001B[38;5;124m\"\u001B[39m,\n\u001B[1;32m    252\u001B[0m         \u001B[38;5;124m\"\u001B[39m\u001B[38;5;124mPyTorchModelHubMixin\u001B[39m\u001B[38;5;124m\"\u001B[39m,\n\u001B[1;32m    253\u001B[0m     ],\n\u001B[1;32m    254\u001B[0m     \u001B[38;5;124m\"\u001B[39m\u001B[38;5;124minference._client\u001B[39m\u001B[38;5;124m\"\u001B[39m: [\n\u001B[1;32m    255\u001B[0m         \u001B[38;5;124m\"\u001B[39m\u001B[38;5;124mInferenceClient\u001B[39m\u001B[38;5;124m\"\u001B[39m,\n\u001B[1;32m    256\u001B[0m         \u001B[38;5;124m\"\u001B[39m\u001B[38;5;124mInferenceTimeoutError\u001B[39m\u001B[38;5;124m\"\u001B[39m,\n\u001B[1;32m    257\u001B[0m     ],\n\u001B[1;32m    258\u001B[0m     \u001B[38;5;124m\"\u001B[39m\u001B[38;5;124minference._generated._async_client\u001B[39m\u001B[38;5;124m\"\u001B[39m: [\n\u001B[1;32m    259\u001B[0m         \u001B[38;5;124m\"\u001B[39m\u001B[38;5;124mAsyncInferenceClient\u001B[39m\u001B[38;5;124m\"\u001B[39m,\n\u001B[1;32m    260\u001B[0m     ],\n\u001B[1;32m    261\u001B[0m     \u001B[38;5;124m\"\u001B[39m\u001B[38;5;124minference._generated.types\u001B[39m\u001B[38;5;124m\"\u001B[39m: [\n\u001B[1;32m    262\u001B[0m         \u001B[38;5;124m\"\u001B[39m\u001B[38;5;124mAudioClassificationInput\u001B[39m\u001B[38;5;124m\"\u001B[39m,\n\u001B[1;32m    263\u001B[0m         \u001B[38;5;124m\"\u001B[39m\u001B[38;5;124mAudioClassificationOutputElement\u001B[39m\u001B[38;5;124m\"\u001B[39m,\n\u001B[1;32m    264\u001B[0m         \u001B[38;5;124m\"\u001B[39m\u001B[38;5;124mAudioClassificationParameters\u001B[39m\u001B[38;5;124m\"\u001B[39m,\n\u001B[1;32m    265\u001B[0m         \u001B[38;5;124m\"\u001B[39m\u001B[38;5;124mAudioToAudioInput\u001B[39m\u001B[38;5;124m\"\u001B[39m,\n\u001B[1;32m    266\u001B[0m         \u001B[38;5;124m\"\u001B[39m\u001B[38;5;124mAudioToAudioOutputElement\u001B[39m\u001B[38;5;124m\"\u001B[39m,\n\u001B[1;32m    267\u001B[0m         \u001B[38;5;124m\"\u001B[39m\u001B[38;5;124mAutomaticSpeechRecognitionGenerationParameters\u001B[39m\u001B[38;5;124m\"\u001B[39m,\n\u001B[1;32m    268\u001B[0m         \u001B[38;5;124m\"\u001B[39m\u001B[38;5;124mAutomaticSpeechRecognitionInput\u001B[39m\u001B[38;5;124m\"\u001B[39m,\n\u001B[1;32m    269\u001B[0m         \u001B[38;5;124m\"\u001B[39m\u001B[38;5;124mAutomaticSpeechRecognitionOutput\u001B[39m\u001B[38;5;124m\"\u001B[39m,\n\u001B[1;32m    270\u001B[0m         \u001B[38;5;124m\"\u001B[39m\u001B[38;5;124mAutomaticSpeechRecognitionOutputChunk\u001B[39m\u001B[38;5;124m\"\u001B[39m,\n\u001B[1;32m    271\u001B[0m         \u001B[38;5;124m\"\u001B[39m\u001B[38;5;124mAutomaticSpeechRecognitionParameters\u001B[39m\u001B[38;5;124m\"\u001B[39m,\n\u001B[1;32m    272\u001B[0m         \u001B[38;5;124m\"\u001B[39m\u001B[38;5;124mChatCompletionInput\u001B[39m\u001B[38;5;124m\"\u001B[39m,\n\u001B[1;32m    273\u001B[0m         \u001B[38;5;124m\"\u001B[39m\u001B[38;5;124mChatCompletionInputFunctionDefinition\u001B[39m\u001B[38;5;124m\"\u001B[39m,\n\u001B[1;32m    274\u001B[0m         \u001B[38;5;124m\"\u001B[39m\u001B[38;5;124mChatCompletionInputMessage\u001B[39m\u001B[38;5;124m\"\u001B[39m,\n\u001B[1;32m    275\u001B[0m         \u001B[38;5;124m\"\u001B[39m\u001B[38;5;124mChatCompletionInputTool\u001B[39m\u001B[38;5;124m\"\u001B[39m,\n\u001B[1;32m    276\u001B[0m         \u001B[38;5;124m\"\u001B[39m\u001B[38;5;124mChatCompletionInputToolCall\u001B[39m\u001B[38;5;124m\"\u001B[39m,\n\u001B[1;32m    277\u001B[0m         \u001B[38;5;124m\"\u001B[39m\u001B[38;5;124mChatCompletionInputToolTypeClass\u001B[39m\u001B[38;5;124m\"\u001B[39m,\n\u001B[1;32m    278\u001B[0m         \u001B[38;5;124m\"\u001B[39m\u001B[38;5;124mChatCompletionOutput\u001B[39m\u001B[38;5;124m\"\u001B[39m,\n\u001B[1;32m    279\u001B[0m         \u001B[38;5;124m\"\u001B[39m\u001B[38;5;124mChatCompletionOutputComplete\u001B[39m\u001B[38;5;124m\"\u001B[39m,\n\u001B[1;32m    280\u001B[0m         \u001B[38;5;124m\"\u001B[39m\u001B[38;5;124mChatCompletionOutputFunctionDefinition\u001B[39m\u001B[38;5;124m\"\u001B[39m,\n\u001B[1;32m    281\u001B[0m         \u001B[38;5;124m\"\u001B[39m\u001B[38;5;124mChatCompletionOutputLogprob\u001B[39m\u001B[38;5;124m\"\u001B[39m,\n\u001B[1;32m    282\u001B[0m         \u001B[38;5;124m\"\u001B[39m\u001B[38;5;124mChatCompletionOutputLogprobs\u001B[39m\u001B[38;5;124m\"\u001B[39m,\n\u001B[1;32m    283\u001B[0m         \u001B[38;5;124m\"\u001B[39m\u001B[38;5;124mChatCompletionOutputMessage\u001B[39m\u001B[38;5;124m\"\u001B[39m,\n\u001B[1;32m    284\u001B[0m         \u001B[38;5;124m\"\u001B[39m\u001B[38;5;124mChatCompletionOutputToolCall\u001B[39m\u001B[38;5;124m\"\u001B[39m,\n\u001B[1;32m    285\u001B[0m         \u001B[38;5;124m\"\u001B[39m\u001B[38;5;124mChatCompletionOutputTopLogprob\u001B[39m\u001B[38;5;124m\"\u001B[39m,\n\u001B[1;32m    286\u001B[0m         \u001B[38;5;124m\"\u001B[39m\u001B[38;5;124mChatCompletionOutputUsage\u001B[39m\u001B[38;5;124m\"\u001B[39m,\n\u001B[1;32m    287\u001B[0m         \u001B[38;5;124m\"\u001B[39m\u001B[38;5;124mChatCompletionStreamOutput\u001B[39m\u001B[38;5;124m\"\u001B[39m,\n\u001B[1;32m    288\u001B[0m         \u001B[38;5;124m\"\u001B[39m\u001B[38;5;124mChatCompletionStreamOutputChoice\u001B[39m\u001B[38;5;124m\"\u001B[39m,\n\u001B[1;32m    289\u001B[0m         \u001B[38;5;124m\"\u001B[39m\u001B[38;5;124mChatCompletionStreamOutputDelta\u001B[39m\u001B[38;5;124m\"\u001B[39m,\n\u001B[1;32m    290\u001B[0m         \u001B[38;5;124m\"\u001B[39m\u001B[38;5;124mChatCompletionStreamOutputDeltaToolCall\u001B[39m\u001B[38;5;124m\"\u001B[39m,\n\u001B[1;32m    291\u001B[0m         \u001B[38;5;124m\"\u001B[39m\u001B[38;5;124mChatCompletionStreamOutputFunction\u001B[39m\u001B[38;5;124m\"\u001B[39m,\n\u001B[1;32m    292\u001B[0m         \u001B[38;5;124m\"\u001B[39m\u001B[38;5;124mChatCompletionStreamOutputLogprob\u001B[39m\u001B[38;5;124m\"\u001B[39m,\n\u001B[1;32m    293\u001B[0m         \u001B[38;5;124m\"\u001B[39m\u001B[38;5;124mChatCompletionStreamOutputLogprobs\u001B[39m\u001B[38;5;124m\"\u001B[39m,\n\u001B[1;32m    294\u001B[0m         \u001B[38;5;124m\"\u001B[39m\u001B[38;5;124mChatCompletionStreamOutputTopLogprob\u001B[39m\u001B[38;5;124m\"\u001B[39m,\n\u001B[1;32m    295\u001B[0m         \u001B[38;5;124m\"\u001B[39m\u001B[38;5;124mDepthEstimationInput\u001B[39m\u001B[38;5;124m\"\u001B[39m,\n\u001B[1;32m    296\u001B[0m         \u001B[38;5;124m\"\u001B[39m\u001B[38;5;124mDepthEstimationOutput\u001B[39m\u001B[38;5;124m\"\u001B[39m,\n\u001B[1;32m    297\u001B[0m         \u001B[38;5;124m\"\u001B[39m\u001B[38;5;124mDocumentQuestionAnsweringInput\u001B[39m\u001B[38;5;124m\"\u001B[39m,\n\u001B[1;32m    298\u001B[0m         \u001B[38;5;124m\"\u001B[39m\u001B[38;5;124mDocumentQuestionAnsweringInputData\u001B[39m\u001B[38;5;124m\"\u001B[39m,\n\u001B[1;32m    299\u001B[0m         \u001B[38;5;124m\"\u001B[39m\u001B[38;5;124mDocumentQuestionAnsweringOutputElement\u001B[39m\u001B[38;5;124m\"\u001B[39m,\n\u001B[1;32m    300\u001B[0m         \u001B[38;5;124m\"\u001B[39m\u001B[38;5;124mDocumentQuestionAnsweringParameters\u001B[39m\u001B[38;5;124m\"\u001B[39m,\n\u001B[1;32m    301\u001B[0m         \u001B[38;5;124m\"\u001B[39m\u001B[38;5;124mFeatureExtractionInput\u001B[39m\u001B[38;5;124m\"\u001B[39m,\n\u001B[1;32m    302\u001B[0m         \u001B[38;5;124m\"\u001B[39m\u001B[38;5;124mFillMaskInput\u001B[39m\u001B[38;5;124m\"\u001B[39m,\n\u001B[1;32m    303\u001B[0m         \u001B[38;5;124m\"\u001B[39m\u001B[38;5;124mFillMaskOutputElement\u001B[39m\u001B[38;5;124m\"\u001B[39m,\n\u001B[1;32m    304\u001B[0m         \u001B[38;5;124m\"\u001B[39m\u001B[38;5;124mFillMaskParameters\u001B[39m\u001B[38;5;124m\"\u001B[39m,\n\u001B[1;32m    305\u001B[0m         \u001B[38;5;124m\"\u001B[39m\u001B[38;5;124mImageClassificationInput\u001B[39m\u001B[38;5;124m\"\u001B[39m,\n\u001B[1;32m    306\u001B[0m         \u001B[38;5;124m\"\u001B[39m\u001B[38;5;124mImageClassificationOutputElement\u001B[39m\u001B[38;5;124m\"\u001B[39m,\n\u001B[1;32m    307\u001B[0m         \u001B[38;5;124m\"\u001B[39m\u001B[38;5;124mImageClassificationParameters\u001B[39m\u001B[38;5;124m\"\u001B[39m,\n\u001B[1;32m    308\u001B[0m         \u001B[38;5;124m\"\u001B[39m\u001B[38;5;124mImageSegmentationInput\u001B[39m\u001B[38;5;124m\"\u001B[39m,\n\u001B[1;32m    309\u001B[0m         \u001B[38;5;124m\"\u001B[39m\u001B[38;5;124mImageSegmentationOutputElement\u001B[39m\u001B[38;5;124m\"\u001B[39m,\n\u001B[1;32m    310\u001B[0m         \u001B[38;5;124m\"\u001B[39m\u001B[38;5;124mImageSegmentationParameters\u001B[39m\u001B[38;5;124m\"\u001B[39m,\n\u001B[1;32m    311\u001B[0m         \u001B[38;5;124m\"\u001B[39m\u001B[38;5;124mImageToImageInput\u001B[39m\u001B[38;5;124m\"\u001B[39m,\n\u001B[1;32m    312\u001B[0m         \u001B[38;5;124m\"\u001B[39m\u001B[38;5;124mImageToImageOutput\u001B[39m\u001B[38;5;124m\"\u001B[39m,\n\u001B[1;32m    313\u001B[0m         \u001B[38;5;124m\"\u001B[39m\u001B[38;5;124mImageToImageParameters\u001B[39m\u001B[38;5;124m\"\u001B[39m,\n\u001B[1;32m    314\u001B[0m         \u001B[38;5;124m\"\u001B[39m\u001B[38;5;124mImageToImageTargetSize\u001B[39m\u001B[38;5;124m\"\u001B[39m,\n\u001B[1;32m    315\u001B[0m         \u001B[38;5;124m\"\u001B[39m\u001B[38;5;124mImageToTextGenerationParameters\u001B[39m\u001B[38;5;124m\"\u001B[39m,\n\u001B[1;32m    316\u001B[0m         \u001B[38;5;124m\"\u001B[39m\u001B[38;5;124mImageToTextInput\u001B[39m\u001B[38;5;124m\"\u001B[39m,\n\u001B[1;32m    317\u001B[0m         \u001B[38;5;124m\"\u001B[39m\u001B[38;5;124mImageToTextOutput\u001B[39m\u001B[38;5;124m\"\u001B[39m,\n\u001B[1;32m    318\u001B[0m         \u001B[38;5;124m\"\u001B[39m\u001B[38;5;124mImageToTextParameters\u001B[39m\u001B[38;5;124m\"\u001B[39m,\n\u001B[1;32m    319\u001B[0m         \u001B[38;5;124m\"\u001B[39m\u001B[38;5;124mObjectDetectionBoundingBox\u001B[39m\u001B[38;5;124m\"\u001B[39m,\n\u001B[1;32m    320\u001B[0m         \u001B[38;5;124m\"\u001B[39m\u001B[38;5;124mObjectDetectionInput\u001B[39m\u001B[38;5;124m\"\u001B[39m,\n\u001B[1;32m    321\u001B[0m         \u001B[38;5;124m\"\u001B[39m\u001B[38;5;124mObjectDetectionOutputElement\u001B[39m\u001B[38;5;124m\"\u001B[39m,\n\u001B[1;32m    322\u001B[0m         \u001B[38;5;124m\"\u001B[39m\u001B[38;5;124mObjectDetectionParameters\u001B[39m\u001B[38;5;124m\"\u001B[39m,\n\u001B[1;32m    323\u001B[0m         \u001B[38;5;124m\"\u001B[39m\u001B[38;5;124mQuestionAnsweringInput\u001B[39m\u001B[38;5;124m\"\u001B[39m,\n\u001B[1;32m    324\u001B[0m         \u001B[38;5;124m\"\u001B[39m\u001B[38;5;124mQuestionAnsweringInputData\u001B[39m\u001B[38;5;124m\"\u001B[39m,\n\u001B[1;32m    325\u001B[0m         \u001B[38;5;124m\"\u001B[39m\u001B[38;5;124mQuestionAnsweringOutputElement\u001B[39m\u001B[38;5;124m\"\u001B[39m,\n\u001B[1;32m    326\u001B[0m         \u001B[38;5;124m\"\u001B[39m\u001B[38;5;124mQuestionAnsweringParameters\u001B[39m\u001B[38;5;124m\"\u001B[39m,\n\u001B[1;32m    327\u001B[0m         \u001B[38;5;124m\"\u001B[39m\u001B[38;5;124mSentenceSimilarityInput\u001B[39m\u001B[38;5;124m\"\u001B[39m,\n\u001B[1;32m    328\u001B[0m         \u001B[38;5;124m\"\u001B[39m\u001B[38;5;124mSentenceSimilarityInputData\u001B[39m\u001B[38;5;124m\"\u001B[39m,\n\u001B[1;32m    329\u001B[0m         \u001B[38;5;124m\"\u001B[39m\u001B[38;5;124mSummarizationGenerationParameters\u001B[39m\u001B[38;5;124m\"\u001B[39m,\n\u001B[1;32m    330\u001B[0m         \u001B[38;5;124m\"\u001B[39m\u001B[38;5;124mSummarizationInput\u001B[39m\u001B[38;5;124m\"\u001B[39m,\n\u001B[1;32m    331\u001B[0m         \u001B[38;5;124m\"\u001B[39m\u001B[38;5;124mSummarizationOutput\u001B[39m\u001B[38;5;124m\"\u001B[39m,\n\u001B[1;32m    332\u001B[0m         \u001B[38;5;124m\"\u001B[39m\u001B[38;5;124mTableQuestionAnsweringInput\u001B[39m\u001B[38;5;124m\"\u001B[39m,\n\u001B[1;32m    333\u001B[0m         \u001B[38;5;124m\"\u001B[39m\u001B[38;5;124mTableQuestionAnsweringInputData\u001B[39m\u001B[38;5;124m\"\u001B[39m,\n\u001B[1;32m    334\u001B[0m         \u001B[38;5;124m\"\u001B[39m\u001B[38;5;124mTableQuestionAnsweringOutputElement\u001B[39m\u001B[38;5;124m\"\u001B[39m,\n\u001B[1;32m    335\u001B[0m         \u001B[38;5;124m\"\u001B[39m\u001B[38;5;124mText2TextGenerationInput\u001B[39m\u001B[38;5;124m\"\u001B[39m,\n\u001B[1;32m    336\u001B[0m         \u001B[38;5;124m\"\u001B[39m\u001B[38;5;124mText2TextGenerationOutput\u001B[39m\u001B[38;5;124m\"\u001B[39m,\n\u001B[1;32m    337\u001B[0m         \u001B[38;5;124m\"\u001B[39m\u001B[38;5;124mText2TextGenerationParameters\u001B[39m\u001B[38;5;124m\"\u001B[39m,\n\u001B[1;32m    338\u001B[0m         \u001B[38;5;124m\"\u001B[39m\u001B[38;5;124mTextClassificationInput\u001B[39m\u001B[38;5;124m\"\u001B[39m,\n\u001B[1;32m    339\u001B[0m         \u001B[38;5;124m\"\u001B[39m\u001B[38;5;124mTextClassificationOutputElement\u001B[39m\u001B[38;5;124m\"\u001B[39m,\n\u001B[1;32m    340\u001B[0m         \u001B[38;5;124m\"\u001B[39m\u001B[38;5;124mTextClassificationParameters\u001B[39m\u001B[38;5;124m\"\u001B[39m,\n\u001B[1;32m    341\u001B[0m         \u001B[38;5;124m\"\u001B[39m\u001B[38;5;124mTextGenerationInput\u001B[39m\u001B[38;5;124m\"\u001B[39m,\n\u001B[1;32m    342\u001B[0m         \u001B[38;5;124m\"\u001B[39m\u001B[38;5;124mTextGenerationInputGenerateParameters\u001B[39m\u001B[38;5;124m\"\u001B[39m,\n\u001B[1;32m    343\u001B[0m         \u001B[38;5;124m\"\u001B[39m\u001B[38;5;124mTextGenerationInputGrammarType\u001B[39m\u001B[38;5;124m\"\u001B[39m,\n\u001B[1;32m    344\u001B[0m         \u001B[38;5;124m\"\u001B[39m\u001B[38;5;124mTextGenerationOutput\u001B[39m\u001B[38;5;124m\"\u001B[39m,\n\u001B[1;32m    345\u001B[0m         \u001B[38;5;124m\"\u001B[39m\u001B[38;5;124mTextGenerationOutputBestOfSequence\u001B[39m\u001B[38;5;124m\"\u001B[39m,\n\u001B[1;32m    346\u001B[0m         \u001B[38;5;124m\"\u001B[39m\u001B[38;5;124mTextGenerationOutputDetails\u001B[39m\u001B[38;5;124m\"\u001B[39m,\n\u001B[1;32m    347\u001B[0m         \u001B[38;5;124m\"\u001B[39m\u001B[38;5;124mTextGenerationOutputPrefillToken\u001B[39m\u001B[38;5;124m\"\u001B[39m,\n\u001B[1;32m    348\u001B[0m         \u001B[38;5;124m\"\u001B[39m\u001B[38;5;124mTextGenerationOutputToken\u001B[39m\u001B[38;5;124m\"\u001B[39m,\n\u001B[1;32m    349\u001B[0m         \u001B[38;5;124m\"\u001B[39m\u001B[38;5;124mTextGenerationStreamOutput\u001B[39m\u001B[38;5;124m\"\u001B[39m,\n\u001B[1;32m    350\u001B[0m         \u001B[38;5;124m\"\u001B[39m\u001B[38;5;124mTextGenerationStreamOutputStreamDetails\u001B[39m\u001B[38;5;124m\"\u001B[39m,\n\u001B[1;32m    351\u001B[0m         \u001B[38;5;124m\"\u001B[39m\u001B[38;5;124mTextGenerationStreamOutputToken\u001B[39m\u001B[38;5;124m\"\u001B[39m,\n\u001B[1;32m    352\u001B[0m         \u001B[38;5;124m\"\u001B[39m\u001B[38;5;124mTextToAudioGenerationParameters\u001B[39m\u001B[38;5;124m\"\u001B[39m,\n\u001B[1;32m    353\u001B[0m         \u001B[38;5;124m\"\u001B[39m\u001B[38;5;124mTextToAudioInput\u001B[39m\u001B[38;5;124m\"\u001B[39m,\n\u001B[1;32m    354\u001B[0m         \u001B[38;5;124m\"\u001B[39m\u001B[38;5;124mTextToAudioOutput\u001B[39m\u001B[38;5;124m\"\u001B[39m,\n\u001B[1;32m    355\u001B[0m         \u001B[38;5;124m\"\u001B[39m\u001B[38;5;124mTextToAudioParameters\u001B[39m\u001B[38;5;124m\"\u001B[39m,\n\u001B[1;32m    356\u001B[0m         \u001B[38;5;124m\"\u001B[39m\u001B[38;5;124mTextToImageInput\u001B[39m\u001B[38;5;124m\"\u001B[39m,\n\u001B[0;32m--> 357\u001B[0m         \u001B[38;5;124m\"\u001B[39m\u001B[38;5;124mTextToImageOutput\u001B[39m\u001B[38;5;124m\"\u001B[39m,\n\u001B[1;32m    358\u001B[0m         \u001B[38;5;124m\"\u001B[39m\u001B[38;5;124mTextToImageParameters\u001B[39m\u001B[38;5;124m\"\u001B[39m,\n\u001B[1;32m    359\u001B[0m         \u001B[38;5;124m\"\u001B[39m\u001B[38;5;124mTextToImageTargetSize\u001B[39m\u001B[38;5;124m\"\u001B[39m,\n\u001B[1;32m    360\u001B[0m         \u001B[38;5;124m\"\u001B[39m\u001B[38;5;124mTokenClassificationInput\u001B[39m\u001B[38;5;124m\"\u001B[39m,\n\u001B[1;32m    361\u001B[0m         \u001B[38;5;124m\"\u001B[39m\u001B[38;5;124mTokenClassificationOutputElement\u001B[39m\u001B[38;5;124m\"\u001B[39m,\n\u001B[1;32m    362\u001B[0m         \u001B[38;5;124m\"\u001B[39m\u001B[38;5;124mTokenClassificationParameters\u001B[39m\u001B[38;5;124m\"\u001B[39m,\n\u001B[1;32m    363\u001B[0m         \u001B[38;5;124m\"\u001B[39m\u001B[38;5;124mTranslationGenerationParameters\u001B[39m\u001B[38;5;124m\"\u001B[39m,\n\u001B[1;32m    364\u001B[0m         \u001B[38;5;124m\"\u001B[39m\u001B[38;5;124mTranslationInput\u001B[39m\u001B[38;5;124m\"\u001B[39m,\n\u001B[1;32m    365\u001B[0m         \u001B[38;5;124m\"\u001B[39m\u001B[38;5;124mTranslationOutput\u001B[39m\u001B[38;5;124m\"\u001B[39m,\n\u001B[1;32m    366\u001B[0m         \u001B[38;5;124m\"\u001B[39m\u001B[38;5;124mVideoClassificationInput\u001B[39m\u001B[38;5;124m\"\u001B[39m,\n\u001B[1;32m    367\u001B[0m         \u001B[38;5;124m\"\u001B[39m\u001B[38;5;124mVideoClassificationOutputElement\u001B[39m\u001B[38;5;124m\"\u001B[39m,\n\u001B[1;32m    368\u001B[0m         \u001B[38;5;124m\"\u001B[39m\u001B[38;5;124mVideoClassificationParameters\u001B[39m\u001B[38;5;124m\"\u001B[39m,\n\u001B[1;32m    369\u001B[0m         \u001B[38;5;124m\"\u001B[39m\u001B[38;5;124mVisualQuestionAnsweringInput\u001B[39m\u001B[38;5;124m\"\u001B[39m,\n\u001B[1;32m    370\u001B[0m         \u001B[38;5;124m\"\u001B[39m\u001B[38;5;124mVisualQuestionAnsweringInputData\u001B[39m\u001B[38;5;124m\"\u001B[39m,\n\u001B[1;32m    371\u001B[0m         \u001B[38;5;124m\"\u001B[39m\u001B[38;5;124mVisualQuestionAnsweringOutputElement\u001B[39m\u001B[38;5;124m\"\u001B[39m,\n\u001B[1;32m    372\u001B[0m         \u001B[38;5;124m\"\u001B[39m\u001B[38;5;124mVisualQuestionAnsweringParameters\u001B[39m\u001B[38;5;124m\"\u001B[39m,\n\u001B[1;32m    373\u001B[0m         \u001B[38;5;124m\"\u001B[39m\u001B[38;5;124mZeroShotClassificationInput\u001B[39m\u001B[38;5;124m\"\u001B[39m,\n\u001B[1;32m    374\u001B[0m         \u001B[38;5;124m\"\u001B[39m\u001B[38;5;124mZeroShotClassificationInputData\u001B[39m\u001B[38;5;124m\"\u001B[39m,\n\u001B[1;32m    375\u001B[0m         \u001B[38;5;124m\"\u001B[39m\u001B[38;5;124mZeroShotClassificationOutputElement\u001B[39m\u001B[38;5;124m\"\u001B[39m,\n\u001B[1;32m    376\u001B[0m         \u001B[38;5;124m\"\u001B[39m\u001B[38;5;124mZeroShotClassificationParameters\u001B[39m\u001B[38;5;124m\"\u001B[39m,\n\u001B[1;32m    377\u001B[0m         \u001B[38;5;124m\"\u001B[39m\u001B[38;5;124mZeroShotImageClassificationInput\u001B[39m\u001B[38;5;124m\"\u001B[39m,\n\u001B[1;32m    378\u001B[0m         \u001B[38;5;124m\"\u001B[39m\u001B[38;5;124mZeroShotImageClassificationInputData\u001B[39m\u001B[38;5;124m\"\u001B[39m,\n\u001B[1;32m    379\u001B[0m         \u001B[38;5;124m\"\u001B[39m\u001B[38;5;124mZeroShotImageClassificationOutputElement\u001B[39m\u001B[38;5;124m\"\u001B[39m,\n\u001B[1;32m    380\u001B[0m         \u001B[38;5;124m\"\u001B[39m\u001B[38;5;124mZeroShotImageClassificationParameters\u001B[39m\u001B[38;5;124m\"\u001B[39m,\n\u001B[1;32m    381\u001B[0m         \u001B[38;5;124m\"\u001B[39m\u001B[38;5;124mZeroShotObjectDetectionBoundingBox\u001B[39m\u001B[38;5;124m\"\u001B[39m,\n\u001B[1;32m    382\u001B[0m         \u001B[38;5;124m\"\u001B[39m\u001B[38;5;124mZeroShotObjectDetectionInput\u001B[39m\u001B[38;5;124m\"\u001B[39m,\n\u001B[1;32m    383\u001B[0m         \u001B[38;5;124m\"\u001B[39m\u001B[38;5;124mZeroShotObjectDetectionInputData\u001B[39m\u001B[38;5;124m\"\u001B[39m,\n\u001B[1;32m    384\u001B[0m         \u001B[38;5;124m\"\u001B[39m\u001B[38;5;124mZeroShotObjectDetectionOutputElement\u001B[39m\u001B[38;5;124m\"\u001B[39m,\n\u001B[1;32m    385\u001B[0m     ],\n\u001B[1;32m    386\u001B[0m     \u001B[38;5;124m\"\u001B[39m\u001B[38;5;124minference_api\u001B[39m\u001B[38;5;124m\"\u001B[39m: [\n\u001B[1;32m    387\u001B[0m         \u001B[38;5;124m\"\u001B[39m\u001B[38;5;124mInferenceApi\u001B[39m\u001B[38;5;124m\"\u001B[39m,\n\u001B[1;32m    388\u001B[0m     ],\n\u001B[1;32m    389\u001B[0m     \u001B[38;5;124m\"\u001B[39m\u001B[38;5;124mkeras_mixin\u001B[39m\u001B[38;5;124m\"\u001B[39m: [\n\u001B[1;32m    390\u001B[0m         \u001B[38;5;124m\"\u001B[39m\u001B[38;5;124mKerasModelHubMixin\u001B[39m\u001B[38;5;124m\"\u001B[39m,\n\u001B[1;32m    391\u001B[0m         \u001B[38;5;124m\"\u001B[39m\u001B[38;5;124mfrom_pretrained_keras\u001B[39m\u001B[38;5;124m\"\u001B[39m,\n\u001B[1;32m    392\u001B[0m         \u001B[38;5;124m\"\u001B[39m\u001B[38;5;124mpush_to_hub_keras\u001B[39m\u001B[38;5;124m\"\u001B[39m,\n\u001B[1;32m    393\u001B[0m         \u001B[38;5;124m\"\u001B[39m\u001B[38;5;124msave_pretrained_keras\u001B[39m\u001B[38;5;124m\"\u001B[39m,\n\u001B[1;32m    394\u001B[0m     ],\n\u001B[1;32m    395\u001B[0m     \u001B[38;5;124m\"\u001B[39m\u001B[38;5;124mrepocard\u001B[39m\u001B[38;5;124m\"\u001B[39m: [\n\u001B[1;32m    396\u001B[0m         \u001B[38;5;124m\"\u001B[39m\u001B[38;5;124mDatasetCard\u001B[39m\u001B[38;5;124m\"\u001B[39m,\n\u001B[1;32m    397\u001B[0m         \u001B[38;5;124m\"\u001B[39m\u001B[38;5;124mModelCard\u001B[39m\u001B[38;5;124m\"\u001B[39m,\n\u001B[1;32m    398\u001B[0m         \u001B[38;5;124m\"\u001B[39m\u001B[38;5;124mRepoCard\u001B[39m\u001B[38;5;124m\"\u001B[39m,\n\u001B[1;32m    399\u001B[0m         \u001B[38;5;124m\"\u001B[39m\u001B[38;5;124mSpaceCard\u001B[39m\u001B[38;5;124m\"\u001B[39m,\n\u001B[1;32m    400\u001B[0m         \u001B[38;5;124m\"\u001B[39m\u001B[38;5;124mmetadata_eval_result\u001B[39m\u001B[38;5;124m\"\u001B[39m,\n\u001B[1;32m    401\u001B[0m         \u001B[38;5;124m\"\u001B[39m\u001B[38;5;124mmetadata_load\u001B[39m\u001B[38;5;124m\"\u001B[39m,\n\u001B[1;32m    402\u001B[0m         \u001B[38;5;124m\"\u001B[39m\u001B[38;5;124mmetadata_save\u001B[39m\u001B[38;5;124m\"\u001B[39m,\n\u001B[1;32m    403\u001B[0m         \u001B[38;5;124m\"\u001B[39m\u001B[38;5;124mmetadata_update\u001B[39m\u001B[38;5;124m\"\u001B[39m,\n\u001B[1;32m    404\u001B[0m     ],\n\u001B[1;32m    405\u001B[0m     \u001B[38;5;124m\"\u001B[39m\u001B[38;5;124mrepocard_data\u001B[39m\u001B[38;5;124m\"\u001B[39m: [\n\u001B[1;32m    406\u001B[0m         \u001B[38;5;124m\"\u001B[39m\u001B[38;5;124mCardData\u001B[39m\u001B[38;5;124m\"\u001B[39m,\n\u001B[1;32m    407\u001B[0m         \u001B[38;5;124m\"\u001B[39m\u001B[38;5;124mDatasetCardData\u001B[39m\u001B[38;5;124m\"\u001B[39m,\n\u001B[1;32m    408\u001B[0m         \u001B[38;5;124m\"\u001B[39m\u001B[38;5;124mEvalResult\u001B[39m\u001B[38;5;124m\"\u001B[39m,\n\u001B[1;32m    409\u001B[0m         \u001B[38;5;124m\"\u001B[39m\u001B[38;5;124mModelCardData\u001B[39m\u001B[38;5;124m\"\u001B[39m,\n\u001B[1;32m    410\u001B[0m         \u001B[38;5;124m\"\u001B[39m\u001B[38;5;124mSpaceCardData\u001B[39m\u001B[38;5;124m\"\u001B[39m,\n\u001B[1;32m    411\u001B[0m     ],\n\u001B[1;32m    412\u001B[0m     \u001B[38;5;124m\"\u001B[39m\u001B[38;5;124mrepository\u001B[39m\u001B[38;5;124m\"\u001B[39m: [\n\u001B[1;32m    413\u001B[0m         \u001B[38;5;124m\"\u001B[39m\u001B[38;5;124mRepository\u001B[39m\u001B[38;5;124m\"\u001B[39m,\n\u001B[1;32m    414\u001B[0m     ],\n\u001B[1;32m    415\u001B[0m     \u001B[38;5;124m\"\u001B[39m\u001B[38;5;124mserialization\u001B[39m\u001B[38;5;124m\"\u001B[39m: [\n\u001B[1;32m    416\u001B[0m         \u001B[38;5;124m\"\u001B[39m\u001B[38;5;124mStateDictSplit\u001B[39m\u001B[38;5;124m\"\u001B[39m,\n\u001B[1;32m    417\u001B[0m         \u001B[38;5;124m\"\u001B[39m\u001B[38;5;124msplit_numpy_state_dict_into_shards\u001B[39m\u001B[38;5;124m\"\u001B[39m,\n\u001B[1;32m    418\u001B[0m         \u001B[38;5;124m\"\u001B[39m\u001B[38;5;124msplit_state_dict_into_shards_factory\u001B[39m\u001B[38;5;124m\"\u001B[39m,\n\u001B[1;32m    419\u001B[0m         \u001B[38;5;124m\"\u001B[39m\u001B[38;5;124msplit_tf_state_dict_into_shards\u001B[39m\u001B[38;5;124m\"\u001B[39m,\n\u001B[1;32m    420\u001B[0m         \u001B[38;5;124m\"\u001B[39m\u001B[38;5;124msplit_torch_state_dict_into_shards\u001B[39m\u001B[38;5;124m\"\u001B[39m,\n\u001B[1;32m    421\u001B[0m     ],\n\u001B[1;32m    422\u001B[0m     \u001B[38;5;124m\"\u001B[39m\u001B[38;5;124mutils\u001B[39m\u001B[38;5;124m\"\u001B[39m: [\n\u001B[1;32m    423\u001B[0m         \u001B[38;5;124m\"\u001B[39m\u001B[38;5;124mCacheNotFound\u001B[39m\u001B[38;5;124m\"\u001B[39m,\n\u001B[1;32m    424\u001B[0m         \u001B[38;5;124m\"\u001B[39m\u001B[38;5;124mCachedFileInfo\u001B[39m\u001B[38;5;124m\"\u001B[39m,\n\u001B[1;32m    425\u001B[0m         \u001B[38;5;124m\"\u001B[39m\u001B[38;5;124mCachedRepoInfo\u001B[39m\u001B[38;5;124m\"\u001B[39m,\n\u001B[1;32m    426\u001B[0m         \u001B[38;5;124m\"\u001B[39m\u001B[38;5;124mCachedRevisionInfo\u001B[39m\u001B[38;5;124m\"\u001B[39m,\n\u001B[1;32m    427\u001B[0m         \u001B[38;5;124m\"\u001B[39m\u001B[38;5;124mCorruptedCacheException\u001B[39m\u001B[38;5;124m\"\u001B[39m,\n\u001B[1;32m    428\u001B[0m         \u001B[38;5;124m\"\u001B[39m\u001B[38;5;124mDeleteCacheStrategy\u001B[39m\u001B[38;5;124m\"\u001B[39m,\n\u001B[1;32m    429\u001B[0m         \u001B[38;5;124m\"\u001B[39m\u001B[38;5;124mHFCacheInfo\u001B[39m\u001B[38;5;124m\"\u001B[39m,\n\u001B[1;32m    430\u001B[0m         \u001B[38;5;124m\"\u001B[39m\u001B[38;5;124mHfFolder\u001B[39m\u001B[38;5;124m\"\u001B[39m,\n\u001B[1;32m    431\u001B[0m         \u001B[38;5;124m\"\u001B[39m\u001B[38;5;124mcached_assets_path\u001B[39m\u001B[38;5;124m\"\u001B[39m,\n\u001B[1;32m    432\u001B[0m         \u001B[38;5;124m\"\u001B[39m\u001B[38;5;124mconfigure_http_backend\u001B[39m\u001B[38;5;124m\"\u001B[39m,\n\u001B[1;32m    433\u001B[0m         \u001B[38;5;124m\"\u001B[39m\u001B[38;5;124mdump_environment_info\u001B[39m\u001B[38;5;124m\"\u001B[39m,\n\u001B[1;32m    434\u001B[0m         \u001B[38;5;124m\"\u001B[39m\u001B[38;5;124mget_session\u001B[39m\u001B[38;5;124m\"\u001B[39m,\n\u001B[1;32m    435\u001B[0m         \u001B[38;5;124m\"\u001B[39m\u001B[38;5;124mget_token\u001B[39m\u001B[38;5;124m\"\u001B[39m,\n\u001B[1;32m    436\u001B[0m         \u001B[38;5;124m\"\u001B[39m\u001B[38;5;124mlogging\u001B[39m\u001B[38;5;124m\"\u001B[39m,\n\u001B[1;32m    437\u001B[0m         \u001B[38;5;124m\"\u001B[39m\u001B[38;5;124mscan_cache_dir\u001B[39m\u001B[38;5;124m\"\u001B[39m,\n\u001B[1;32m    438\u001B[0m     ],\n\u001B[1;32m    439\u001B[0m     \u001B[38;5;124m\"\u001B[39m\u001B[38;5;124mutils.endpoint_helpers\u001B[39m\u001B[38;5;124m\"\u001B[39m: [\n\u001B[1;32m    440\u001B[0m         \u001B[38;5;124m\"\u001B[39m\u001B[38;5;124mDatasetFilter\u001B[39m\u001B[38;5;124m\"\u001B[39m,\n\u001B[1;32m    441\u001B[0m         \u001B[38;5;124m\"\u001B[39m\u001B[38;5;124mModelFilter\u001B[39m\u001B[38;5;124m\"\u001B[39m,\n\u001B[1;32m    442\u001B[0m     ],\n\u001B[1;32m    443\u001B[0m }\n\u001B[1;32m    446\u001B[0m \u001B[38;5;28;01mdef\u001B[39;00m \u001B[38;5;21m_attach\u001B[39m(package_name, submodules\u001B[38;5;241m=\u001B[39m\u001B[38;5;28;01mNone\u001B[39;00m, submod_attrs\u001B[38;5;241m=\u001B[39m\u001B[38;5;28;01mNone\u001B[39;00m):\n\u001B[1;32m    447\u001B[0m \u001B[38;5;250m    \u001B[39m\u001B[38;5;124;03m\"\"\"Attach lazily loaded submodules, functions, or other attributes.\u001B[39;00m\n\u001B[1;32m    448\u001B[0m \n\u001B[1;32m    449\u001B[0m \u001B[38;5;124;03m    Typically, modules import submodules and attributes as follows:\u001B[39;00m\n\u001B[0;32m   (...)\u001B[0m\n\u001B[1;32m    484\u001B[0m \n\u001B[1;32m    485\u001B[0m \u001B[38;5;124;03m    \"\"\"\u001B[39;00m\n",
      "File \u001B[0;32m/usr/local/Cellar/python@3.11/3.11.2_1/Frameworks/Python.framework/Versions/3.11/lib/python3.11/importlib/__init__.py:126\u001B[0m, in \u001B[0;36mimport_module\u001B[0;34m(name, package)\u001B[0m\n\u001B[1;32m    124\u001B[0m             \u001B[38;5;28;01mbreak\u001B[39;00m\n\u001B[1;32m    125\u001B[0m         level \u001B[38;5;241m+\u001B[39m\u001B[38;5;241m=\u001B[39m \u001B[38;5;241m1\u001B[39m\n\u001B[0;32m--> 126\u001B[0m \u001B[38;5;28;01mreturn\u001B[39;00m \u001B[43m_bootstrap\u001B[49m\u001B[38;5;241;43m.\u001B[39;49m\u001B[43m_gcd_import\u001B[49m\u001B[43m(\u001B[49m\u001B[43mname\u001B[49m\u001B[43m[\u001B[49m\u001B[43mlevel\u001B[49m\u001B[43m:\u001B[49m\u001B[43m]\u001B[49m\u001B[43m,\u001B[49m\u001B[43m \u001B[49m\u001B[43mpackage\u001B[49m\u001B[43m,\u001B[49m\u001B[43m \u001B[49m\u001B[43mlevel\u001B[49m\u001B[43m)\u001B[49m\n",
      "File \u001B[0;32m/usr/local/lib/python3.11/site-packages/huggingface_hub/hf_file_system.py:28\u001B[0m\n\u001B[1;32m     18\u001B[0m \u001B[38;5;28;01mfrom\u001B[39;00m \u001B[38;5;21;01m.\u001B[39;00m\u001B[38;5;21;01mconstants\u001B[39;00m \u001B[38;5;28;01mimport\u001B[39;00m (\n\u001B[1;32m     19\u001B[0m     DEFAULT_REVISION,\n\u001B[1;32m     20\u001B[0m     ENDPOINT,\n\u001B[0;32m   (...)\u001B[0m\n\u001B[1;32m     25\u001B[0m     REPO_TYPES_URL_PREFIXES,\n\u001B[1;32m     26\u001B[0m )\n\u001B[1;32m     27\u001B[0m \u001B[38;5;28;01mfrom\u001B[39;00m \u001B[38;5;21;01m.\u001B[39;00m\u001B[38;5;21;01mfile_download\u001B[39;00m \u001B[38;5;28;01mimport\u001B[39;00m hf_hub_url, http_get\n\u001B[0;32m---> 28\u001B[0m \u001B[38;5;28;01mfrom\u001B[39;00m \u001B[38;5;21;01m.\u001B[39;00m\u001B[38;5;21;01mhf_api\u001B[39;00m \u001B[38;5;28;01mimport\u001B[39;00m HfApi, LastCommitInfo, RepoFile\n\u001B[1;32m     29\u001B[0m \u001B[38;5;28;01mfrom\u001B[39;00m \u001B[38;5;21;01m.\u001B[39;00m\u001B[38;5;21;01mutils\u001B[39;00m \u001B[38;5;28;01mimport\u001B[39;00m (\n\u001B[1;32m     30\u001B[0m     EntryNotFoundError,\n\u001B[1;32m     31\u001B[0m     HFValidationError,\n\u001B[0;32m   (...)\u001B[0m\n\u001B[1;32m     35\u001B[0m     http_backoff,\n\u001B[1;32m     36\u001B[0m )\n\u001B[1;32m     39\u001B[0m \u001B[38;5;66;03m# Regex used to match special revisions with \"/\" in them (see #1710)\u001B[39;00m\n",
      "\u001B[0;31mImportError\u001B[0m: cannot import name 'LastCommitInfo' from 'huggingface_hub.hf_api' (/usr/local/lib/python3.11/site-packages/huggingface_hub/hf_api.py)"
     ]
    }
   ],
   "source": [
    "import evaluate\n",
    "bleu = evaluate.load('bleu')"
   ],
   "metadata": {
    "collapsed": false,
    "ExecuteTime": {
     "end_time": "2024-07-04T20:58:44.949779Z",
     "start_time": "2024-07-04T20:58:43.994111Z"
    }
   },
   "id": "a26245f81898d4d3"
  },
  {
   "cell_type": "code",
   "execution_count": 187,
   "outputs": [
    {
     "name": "stdout",
     "output_type": "stream",
     "text": [
      "Collecting evaluate\r\n",
      "  Downloading evaluate-0.4.2-py3-none-any.whl.metadata (9.3 kB)\r\n",
      "Collecting datasets>=2.0.0 (from evaluate)\r\n",
      "  Downloading datasets-2.20.0-py3-none-any.whl.metadata (19 kB)\r\n",
      "Requirement already satisfied: numpy>=1.17 in /usr/local/lib/python3.11/site-packages (from evaluate) (1.24.3)\r\n",
      "Requirement already satisfied: dill in /usr/local/lib/python3.11/site-packages (from evaluate) (0.3.7)\r\n",
      "Requirement already satisfied: pandas in /usr/local/lib/python3.11/site-packages (from evaluate) (2.1.4)\r\n",
      "Requirement already satisfied: requests>=2.19.0 in /usr/local/lib/python3.11/site-packages (from evaluate) (2.31.0)\r\n",
      "Requirement already satisfied: tqdm>=4.62.1 in /usr/local/lib/python3.11/site-packages (from evaluate) (4.66.1)\r\n",
      "Collecting xxhash (from evaluate)\r\n",
      "  Using cached xxhash-3.4.1-cp311-cp311-macosx_10_9_x86_64.whl.metadata (12 kB)\r\n",
      "Requirement already satisfied: multiprocess in /usr/local/lib/python3.11/site-packages (from evaluate) (0.70.15)\r\n",
      "Requirement already satisfied: fsspec>=2021.05.0 in /usr/local/lib/python3.11/site-packages (from fsspec[http]>=2021.05.0->evaluate) (2023.10.0)\r\n",
      "Requirement already satisfied: huggingface-hub>=0.7.0 in /usr/local/lib/python3.11/site-packages (from evaluate) (0.19.4)\r\n",
      "Requirement already satisfied: packaging in /usr/local/lib/python3.11/site-packages (from evaluate) (23.2)\r\n",
      "Requirement already satisfied: filelock in /usr/local/lib/python3.11/site-packages (from datasets>=2.0.0->evaluate) (3.13.1)\r\n",
      "Collecting pyarrow>=15.0.0 (from datasets>=2.0.0->evaluate)\r\n",
      "  Downloading pyarrow-16.1.0-cp311-cp311-macosx_10_15_x86_64.whl.metadata (3.0 kB)\r\n",
      "Collecting pyarrow-hotfix (from datasets>=2.0.0->evaluate)\r\n",
      "  Downloading pyarrow_hotfix-0.6-py3-none-any.whl.metadata (3.6 kB)\r\n",
      "Collecting requests>=2.19.0 (from evaluate)\r\n",
      "  Downloading requests-2.32.3-py3-none-any.whl.metadata (4.6 kB)\r\n",
      "Collecting tqdm>=4.62.1 (from evaluate)\r\n",
      "  Downloading tqdm-4.66.4-py3-none-any.whl.metadata (57 kB)\r\n",
      "\u001B[2K     \u001B[90m━━━━━━━━━━━━━━━━━━━━━━━━━━━━━━━━━━━━━━━━\u001B[0m \u001B[32m57.6/57.6 kB\u001B[0m \u001B[31m1.8 MB/s\u001B[0m eta \u001B[36m0:00:00\u001B[0m\r\n",
      "\u001B[?25hRequirement already satisfied: aiohttp in /usr/local/lib/python3.11/site-packages (from datasets>=2.0.0->evaluate) (3.9.3)\r\n",
      "Collecting huggingface-hub>=0.7.0 (from evaluate)\r\n",
      "  Downloading huggingface_hub-0.23.4-py3-none-any.whl.metadata (12 kB)\r\n",
      "Requirement already satisfied: pyyaml>=5.1 in /usr/local/lib/python3.11/site-packages (from datasets>=2.0.0->evaluate) (6.0.1)\r\n",
      "Requirement already satisfied: typing-extensions>=3.7.4.3 in /usr/local/lib/python3.11/site-packages (from huggingface-hub>=0.7.0->evaluate) (4.8.0)\r\n",
      "Requirement already satisfied: charset-normalizer<4,>=2 in /usr/local/lib/python3.11/site-packages (from requests>=2.19.0->evaluate) (3.3.2)\r\n",
      "Requirement already satisfied: idna<4,>=2.5 in /usr/local/lib/python3.11/site-packages (from requests>=2.19.0->evaluate) (3.4)\r\n",
      "Requirement already satisfied: urllib3<3,>=1.21.1 in /usr/local/lib/python3.11/site-packages (from requests>=2.19.0->evaluate) (2.1.0)\r\n",
      "Requirement already satisfied: certifi>=2017.4.17 in /usr/local/lib/python3.11/site-packages (from requests>=2.19.0->evaluate) (2023.11.17)\r\n",
      "Requirement already satisfied: python-dateutil>=2.8.2 in /usr/local/lib/python3.11/site-packages (from pandas->evaluate) (2.8.2)\r\n",
      "Requirement already satisfied: pytz>=2020.1 in /usr/local/lib/python3.11/site-packages (from pandas->evaluate) (2023.3.post1)\r\n",
      "Requirement already satisfied: tzdata>=2022.1 in /usr/local/lib/python3.11/site-packages (from pandas->evaluate) (2023.3)\r\n",
      "Requirement already satisfied: aiosignal>=1.1.2 in /usr/local/lib/python3.11/site-packages (from aiohttp->datasets>=2.0.0->evaluate) (1.3.1)\r\n",
      "Requirement already satisfied: attrs>=17.3.0 in /usr/local/lib/python3.11/site-packages (from aiohttp->datasets>=2.0.0->evaluate) (23.2.0)\r\n",
      "Requirement already satisfied: frozenlist>=1.1.1 in /usr/local/lib/python3.11/site-packages (from aiohttp->datasets>=2.0.0->evaluate) (1.4.1)\r\n",
      "Requirement already satisfied: multidict<7.0,>=4.5 in /usr/local/lib/python3.11/site-packages (from aiohttp->datasets>=2.0.0->evaluate) (6.0.5)\r\n",
      "Requirement already satisfied: yarl<2.0,>=1.0 in /usr/local/lib/python3.11/site-packages (from aiohttp->datasets>=2.0.0->evaluate) (1.9.4)\r\n",
      "Requirement already satisfied: six>=1.5 in /usr/local/lib/python3.11/site-packages (from python-dateutil>=2.8.2->pandas->evaluate) (1.16.0)\r\n",
      "Downloading evaluate-0.4.2-py3-none-any.whl (84 kB)\r\n",
      "\u001B[2K   \u001B[90m━━━━━━━━━━━━━━━━━━━━━━━━━━━━━━━━━━━━━━━━\u001B[0m \u001B[32m84.1/84.1 kB\u001B[0m \u001B[31m3.2 MB/s\u001B[0m eta \u001B[36m0:00:00\u001B[0m\r\n",
      "\u001B[?25hDownloading datasets-2.20.0-py3-none-any.whl (547 kB)\r\n",
      "\u001B[2K   \u001B[90m━━━━━━━━━━━━━━━━━━━━━━━━━━━━━━━━━━━━━━━━\u001B[0m \u001B[32m547.8/547.8 kB\u001B[0m \u001B[31m12.6 MB/s\u001B[0m eta \u001B[36m0:00:00\u001B[0m00:01\u001B[0m\r\n",
      "\u001B[?25hDownloading huggingface_hub-0.23.4-py3-none-any.whl (402 kB)\r\n",
      "\u001B[2K   \u001B[90m━━━━━━━━━━━━━━━━━━━━━━━━━━━━━━━━━━━━━━━━\u001B[0m \u001B[32m402.6/402.6 kB\u001B[0m \u001B[31m14.8 MB/s\u001B[0m eta \u001B[36m0:00:00\u001B[0m\r\n",
      "\u001B[?25hDownloading requests-2.32.3-py3-none-any.whl (64 kB)\r\n",
      "\u001B[2K   \u001B[90m━━━━━━━━━━━━━━━━━━━━━━━━━━━━━━━━━━━━━━━━\u001B[0m \u001B[32m64.9/64.9 kB\u001B[0m \u001B[31m2.4 MB/s\u001B[0m eta \u001B[36m0:00:00\u001B[0m\r\n",
      "\u001B[?25hDownloading tqdm-4.66.4-py3-none-any.whl (78 kB)\r\n",
      "\u001B[2K   \u001B[90m━━━━━━━━━━━━━━━━━━━━━━━━━━━━━━━━━━━━━━━━\u001B[0m \u001B[32m78.3/78.3 kB\u001B[0m \u001B[31m3.1 MB/s\u001B[0m eta \u001B[36m0:00:00\u001B[0m\r\n",
      "\u001B[?25hUsing cached xxhash-3.4.1-cp311-cp311-macosx_10_9_x86_64.whl (31 kB)\r\n",
      "Downloading pyarrow-16.1.0-cp311-cp311-macosx_10_15_x86_64.whl (28.4 MB)\r\n",
      "\u001B[2K   \u001B[90m━━━━━━━━━━━━━━━━━━━━━━━━━━━━━━━━━━━━━━━━\u001B[0m \u001B[32m28.4/28.4 MB\u001B[0m \u001B[31m9.8 MB/s\u001B[0m eta \u001B[36m0:00:00\u001B[0m:00:01\u001B[0m0:01\u001B[0mm\r\n",
      "\u001B[?25hDownloading pyarrow_hotfix-0.6-py3-none-any.whl (7.9 kB)\r\n",
      "Installing collected packages: xxhash, tqdm, requests, pyarrow-hotfix, pyarrow, huggingface-hub, datasets, evaluate\r\n",
      "  Attempting uninstall: tqdm\r\n",
      "    Found existing installation: tqdm 4.66.1\r\n",
      "    Uninstalling tqdm-4.66.1:\r\n",
      "      Successfully uninstalled tqdm-4.66.1\r\n",
      "  Attempting uninstall: requests\r\n",
      "    Found existing installation: requests 2.31.0\r\n",
      "    Uninstalling requests-2.31.0:\r\n",
      "      Successfully uninstalled requests-2.31.0\r\n",
      "  Attempting uninstall: huggingface-hub\r\n",
      "    Found existing installation: huggingface-hub 0.19.4\r\n",
      "    Uninstalling huggingface-hub-0.19.4:\r\n",
      "      Successfully uninstalled huggingface-hub-0.19.4\r\n",
      "Successfully installed datasets-2.20.0 evaluate-0.4.2 huggingface-hub-0.23.4 pyarrow-16.1.0 pyarrow-hotfix-0.6 requests-2.32.3 tqdm-4.66.4 xxhash-3.4.1\r\n"
     ]
    }
   ],
   "source": [
    "! pip install evaluate"
   ],
   "metadata": {
    "collapsed": false,
    "ExecuteTime": {
     "end_time": "2024-07-04T20:55:45.232720Z",
     "start_time": "2024-07-04T20:55:32.763159Z"
    }
   },
   "id": "3e894573c22dd783"
  },
  {
   "cell_type": "code",
   "execution_count": 133,
   "outputs": [],
   "source": [
    "# Spanish BLEU 0.22304585226870685\n",
    "# Italian BLEU 0.1595706884838815"
   ],
   "metadata": {
    "collapsed": false,
    "ExecuteTime": {
     "end_time": "2024-07-04T20:31:12.079997Z",
     "start_time": "2024-07-04T20:31:12.072298Z"
    }
   },
   "id": "dfe32531e61eacd7"
  },
  {
   "cell_type": "markdown",
   "source": [],
   "metadata": {
    "collapsed": false
   },
   "id": "dda57466c60dba8a"
  }
 ],
 "metadata": {
  "kernelspec": {
   "display_name": "Python 3",
   "language": "python",
   "name": "python3"
  },
  "language_info": {
   "codemirror_mode": {
    "name": "ipython",
    "version": 2
   },
   "file_extension": ".py",
   "mimetype": "text/x-python",
   "name": "python",
   "nbconvert_exporter": "python",
   "pygments_lexer": "ipython2",
   "version": "2.7.6"
  }
 },
 "nbformat": 4,
 "nbformat_minor": 5
}
