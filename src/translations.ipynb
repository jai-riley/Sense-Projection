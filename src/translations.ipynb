{
 "cells": [
  {
   "cell_type": "markdown",
   "source": [
    "This file can be used to translate text using Google Cloud. \n",
    "In order to run this program you will need a Google Cloud API key. \n",
    "Information about the Google Cloud API can be found here: https://console.cloud.google.com/marketplace/product/google/translate.googleapis.com"
   ],
   "metadata": {
    "collapsed": false
   },
   "id": "faae32a919aa17e3"
  },
  {
   "cell_type": "code",
   "execution_count": null,
   "outputs": [],
   "source": [
    "# !pip install google.cloud.translate"
   ],
   "metadata": {
    "collapsed": false
   },
   "id": "initial_id"
  },
  {
   "cell_type": "code",
   "execution_count": 102,
   "outputs": [
    {
     "name": "stderr",
     "output_type": "stream",
     "text": [
      "/usr/local/lib/python3.11/site-packages/transformers/utils/generic.py:441: UserWarning: torch.utils._pytree._register_pytree_node is deprecated. Please use torch.utils._pytree.register_pytree_node instead.\n",
      "  _torch_pytree._register_pytree_node(\n"
     ]
    }
   ],
   "source": [
    "import os, csv\n",
    "# public\n",
    "from nltk.translate.bleu_score import sentence_bleu, corpus_bleu\n",
    "import pandas as pd\n",
    "from tqdm import tqdm\n",
    "from google.cloud import translate_v2 as translate\n",
    "import pandas as pd\n",
    "import ast"
   ],
   "metadata": {
    "collapsed": false,
    "ExecuteTime": {
     "start_time": "2024-11-25T23:03:34.923022Z"
    }
   },
   "id": "80c6c189866e3a19"
  },
  {
   "cell_type": "code",
   "execution_count": 2,
   "outputs": [],
   "source": [
    "# a method that calls the cloud translator\n",
    "def translate_text(source: str, target: str, text: str) -> dict:\n",
    "    \"\"\"\n",
    "    Translates text into the target language.\n",
    "    Target must be an ISO 639-1 language code.\n",
    "    See https://g.co/cloud/translate/v2/translate-reference#supported_languages\n",
    "    \"\"\"\n",
    "\n",
    "    translate_client = translate.Client()\n",
    "\n",
    "    if isinstance(text, bytes):\n",
    "        text = text.decode(\"utf-8\")\n",
    "\n",
    "    # Text can also be a sequence of strings, in which case this method\n",
    "    # will return a sequence of results for each text.\n",
    "    result = translate_client.translate(\n",
    "        text\n",
    "        , source_language=source\n",
    "        , target_language=target\n",
    "    )\n",
    "    return result\n",
    "\n",
    "def process_nan(s):\n",
    "  if type(s)!=type(''):\n",
    "    return ''\n",
    "  return s"
   ],
   "metadata": {
    "collapsed": false,
    "ExecuteTime": {
     "start_time": "2024-11-25T22:31:36.849420Z"
    }
   },
   "id": "919ad264843fbff1"
  },
  {
   "cell_type": "code",
   "execution_count": 292,
   "outputs": [],
   "source": [
    "# source language\n",
    "src_lan = 'en'\n",
    "\n",
    "# target language\n",
    "tgt_lan = 'fa'\n",
    "language = \"Farsi\"\n",
    "\n",
    "\n",
    "RESOURCE = 'Sense-Projection'\n",
    "DATA =  RESOURCE+'/data/'+language\n",
    "GOLD_FILE = os.path.join(DATA, 'gold-sentences-'+language+'.tsv')\n",
    "TRANS_FILE = os.path.join(DATA, 'trans-sentences-'+language+'.tsv')\n",
    "\n",
    "# DATA = os.path.join(RESOURCE, 'data')\n",
    "DATA =  RESOURCE+'/data/English/Original'\n",
    "\n",
    "RAW_SENSE_TSV = os.path.join(DATA, 'gold-tokens-English-wSenses.tsv')\n",
    "RAW_TOKENS_TSV =  os.path.join(DATA, 'gold-tokens-English-wSenses.tsv')\n",
    "RAW_SENTENCE_TSV = os.path.join(DATA, 'gold-sentences-English.tsv')\n"
   ],
   "metadata": {
    "collapsed": false,
    "ExecuteTime": {
     "start_time": "2024-11-26T00:38:22.261209Z"
    }
   },
   "id": "7476e6353c29e16c"
  },
  {
   "cell_type": "code",
   "execution_count": null,
   "outputs": [],
   "source": [
    "KEY = os.path.join(RESOURCE, 'key')\n",
    "key_file = \"\" # replace this with the name of the .json file that holds your google cloud translation API information \n",
    "JSON_GOOGLE_APPLICATION_CREDENTIALS = os.path.join(KEY, key_file)\n",
    "os.environ['GOOGLE_APPLICATION_CREDENTIALS'] = JSON_GOOGLE_APPLICATION_CREDENTIALS"
   ],
   "metadata": {
    "collapsed": false
   },
   "id": "41ea7cbaf7b539c1"
  },
  {
   "cell_type": "markdown",
   "source": [
    "# DATA"
   ],
   "metadata": {
    "collapsed": false
   },
   "id": "1a06defe255431c"
  },
  {
   "cell_type": "code",
   "execution_count": 256,
   "outputs": [],
   "source": [
    "sentence_df = pd.read_csv(RAW_SENTENCE_TSV, delimiter='\\t', quoting=csv.QUOTE_NONE)\n",
    "sents = sentence_df[\"Sentence\"].tolist()"
   ],
   "metadata": {
    "collapsed": false,
    "ExecuteTime": {
     "end_time": "2024-11-26T00:03:17.460947Z",
     "start_time": "2024-11-26T00:03:17.433308Z"
    }
   },
   "id": "47021c77a038d739"
  },
  {
   "cell_type": "code",
   "execution_count": 218,
   "outputs": [
    {
     "data": {
      "text/plain": "['d000.s000', 'd000.s001', 'd000.s002', 'd000.s003']"
     },
     "execution_count": 218,
     "metadata": {},
     "output_type": "execute_result"
    }
   ],
   "source": [
    "sids = sentence_df[\"ID\"].tolist()\n",
    "sids[:4]"
   ],
   "metadata": {
    "collapsed": false,
    "ExecuteTime": {
     "end_time": "2024-11-25T23:44:21.855887Z",
     "start_time": "2024-11-25T23:44:21.774103Z"
    }
   },
   "id": "71402ea706257025"
  },
  {
   "cell_type": "markdown",
   "source": [
    "# TRANSLATE"
   ],
   "metadata": {
    "collapsed": false
   },
   "id": "5503125cdea76173"
  },
  {
   "cell_type": "code",
   "execution_count": 220,
   "outputs": [
    {
     "data": {
      "text/plain": "[{'language': 'ab', 'name': 'Abkhaz'},\n {'language': 'ace', 'name': 'Acehnese'},\n {'language': 'ach', 'name': 'Acholi'},\n {'language': 'af', 'name': 'Afrikaans'},\n {'language': 'sq', 'name': 'Albanian'},\n {'language': 'alz', 'name': 'Alur'},\n {'language': 'am', 'name': 'Amharic'},\n {'language': 'ar', 'name': 'Arabic'},\n {'language': 'hy', 'name': 'Armenian'},\n {'language': 'as', 'name': 'Assamese'},\n {'language': 'awa', 'name': 'Awadhi'},\n {'language': 'ay', 'name': 'Aymara'},\n {'language': 'az', 'name': 'Azerbaijani'},\n {'language': 'ban', 'name': 'Balinese'},\n {'language': 'bm', 'name': 'Bambara'},\n {'language': 'ba', 'name': 'Bashkir'},\n {'language': 'eu', 'name': 'Basque'},\n {'language': 'btx', 'name': 'Batak Karo'},\n {'language': 'bts', 'name': 'Batak Simalungun'},\n {'language': 'bbc', 'name': 'Batak Toba'},\n {'language': 'be', 'name': 'Belarusian'},\n {'language': 'bem', 'name': 'Bemba'},\n {'language': 'bn', 'name': 'Bengali'},\n {'language': 'bew', 'name': 'Betawi'},\n {'language': 'bho', 'name': 'Bhojpuri'},\n {'language': 'bik', 'name': 'Bikol'},\n {'language': 'bs', 'name': 'Bosnian'},\n {'language': 'br', 'name': 'Breton'},\n {'language': 'bg', 'name': 'Bulgarian'},\n {'language': 'bua', 'name': 'Buryat'},\n {'language': 'yue', 'name': 'Cantonese'},\n {'language': 'ca', 'name': 'Catalan'},\n {'language': 'ceb', 'name': 'Cebuano'},\n {'language': 'ny', 'name': 'Chichewa'},\n {'language': 'zh', 'name': 'Chinese (Simplified)'},\n {'language': 'zh-TW', 'name': 'Chinese (Traditional)'},\n {'language': 'cv', 'name': 'Chuvash'},\n {'language': 'co', 'name': 'Corsican'},\n {'language': 'crh', 'name': 'Crimean Tatar'},\n {'language': 'hr', 'name': 'Croatian'},\n {'language': 'cs', 'name': 'Czech'},\n {'language': 'da', 'name': 'Danish'},\n {'language': 'dv', 'name': 'Dhivehi'},\n {'language': 'din', 'name': 'Dinka'},\n {'language': 'doi', 'name': 'Dogri'},\n {'language': 'dov', 'name': 'Dombe'},\n {'language': 'nl', 'name': 'Dutch'},\n {'language': 'dz', 'name': 'Dzongkha'},\n {'language': 'en', 'name': 'English'},\n {'language': 'eo', 'name': 'Esperanto'},\n {'language': 'et', 'name': 'Estonian'},\n {'language': 'ee', 'name': 'Ewe'},\n {'language': 'fj', 'name': 'Fijian'},\n {'language': 'tl', 'name': 'Filipino'},\n {'language': 'fi', 'name': 'Finnish'},\n {'language': 'fr', 'name': 'French'},\n {'language': 'fy', 'name': 'Frisian'},\n {'language': 'ff', 'name': 'Fulani'},\n {'language': 'gaa', 'name': 'Ga'},\n {'language': 'gl', 'name': 'Galician'},\n {'language': 'ka', 'name': 'Georgian'},\n {'language': 'de', 'name': 'German'},\n {'language': 'el', 'name': 'Greek'},\n {'language': 'gn', 'name': 'Guarani'},\n {'language': 'gu', 'name': 'Gujarati'},\n {'language': 'ht', 'name': 'Haitian Creole'},\n {'language': 'cnh', 'name': 'Hakha Chin'},\n {'language': 'ha', 'name': 'Hausa'},\n {'language': 'haw', 'name': 'Hawaiian'},\n {'language': 'iw', 'name': 'Hebrew'},\n {'language': 'hil', 'name': 'Hiligaynon'},\n {'language': 'hi', 'name': 'Hindi'},\n {'language': 'hmn', 'name': 'Hmong'},\n {'language': 'hu', 'name': 'Hungarian'},\n {'language': 'hrx', 'name': 'Hunsrik'},\n {'language': 'is', 'name': 'Icelandic'},\n {'language': 'ig', 'name': 'Igbo'},\n {'language': 'ilo', 'name': 'Ilocano'},\n {'language': 'id', 'name': 'Indonesian'},\n {'language': 'ga', 'name': 'Irish'},\n {'language': 'it', 'name': 'Italian'},\n {'language': 'ja', 'name': 'Japanese'},\n {'language': 'jw', 'name': 'Javanese'},\n {'language': 'kn', 'name': 'Kannada'},\n {'language': 'pam', 'name': 'Kapampangan'},\n {'language': 'kk', 'name': 'Kazakh'},\n {'language': 'km', 'name': 'Khmer'},\n {'language': 'cgg', 'name': 'Kiga'},\n {'language': 'rw', 'name': 'Kinyarwanda'},\n {'language': 'ktu', 'name': 'Kituba'},\n {'language': 'gom', 'name': 'Konkani'},\n {'language': 'ko', 'name': 'Korean'},\n {'language': 'kri', 'name': 'Krio'},\n {'language': 'ku', 'name': 'Kurdish (Kurmanji)'},\n {'language': 'ckb', 'name': 'Kurdish (Sorani)'},\n {'language': 'ky', 'name': 'Kyrgyz'},\n {'language': 'lo', 'name': 'Lao'},\n {'language': 'ltg', 'name': 'Latgalian'},\n {'language': 'la', 'name': 'Latin'},\n {'language': 'lv', 'name': 'Latvian'},\n {'language': 'lij', 'name': 'Ligurian'},\n {'language': 'li', 'name': 'Limburgish'},\n {'language': 'ln', 'name': 'Lingala'},\n {'language': 'lt', 'name': 'Lithuanian'},\n {'language': 'lmo', 'name': 'Lombard'},\n {'language': 'lg', 'name': 'Luganda'},\n {'language': 'luo', 'name': 'Luo'},\n {'language': 'lb', 'name': 'Luxembourgish'},\n {'language': 'mk', 'name': 'Macedonian'},\n {'language': 'mai', 'name': 'Maithili'},\n {'language': 'mak', 'name': 'Makassar'},\n {'language': 'mg', 'name': 'Malagasy'},\n {'language': 'ms', 'name': 'Malay'},\n {'language': 'ms-Arab', 'name': 'Malay (Jawi)'},\n {'language': 'ml', 'name': 'Malayalam'},\n {'language': 'mt', 'name': 'Maltese'},\n {'language': 'mi', 'name': 'Maori'},\n {'language': 'mr', 'name': 'Marathi'},\n {'language': 'chm', 'name': 'Meadow Mari'},\n {'language': 'mni-Mtei', 'name': 'Meiteilon (Manipuri)'},\n {'language': 'min', 'name': 'Minang'},\n {'language': 'lus', 'name': 'Mizo'},\n {'language': 'mn', 'name': 'Mongolian'},\n {'language': 'my', 'name': 'Myanmar (Burmese)'},\n {'language': 'nr', 'name': 'Ndebele (South)'},\n {'language': 'new', 'name': 'Nepalbhasa (Newari)'},\n {'language': 'ne', 'name': 'Nepali'},\n {'language': 'no', 'name': 'Norwegian'},\n {'language': 'nus', 'name': 'Nuer'},\n {'language': 'oc', 'name': 'Occitan'},\n {'language': 'or', 'name': 'Odia (Oriya)'},\n {'language': 'om', 'name': 'Oromo'},\n {'language': 'pag', 'name': 'Pangasinan'},\n {'language': 'pap', 'name': 'Papiamento'},\n {'language': 'ps', 'name': 'Pashto'},\n {'language': 'fa', 'name': 'Persian'},\n {'language': 'pl', 'name': 'Polish'},\n {'language': 'pt', 'name': 'Portuguese (Brazil)'},\n {'language': 'pa', 'name': 'Punjabi (Gurmukhi)'},\n {'language': 'pa-Arab', 'name': 'Punjabi (Shahmukhi)'},\n {'language': 'qu', 'name': 'Quechua'},\n {'language': 'rom', 'name': 'Romani'},\n {'language': 'ro', 'name': 'Romanian'},\n {'language': 'rn', 'name': 'Rundi'},\n {'language': 'ru', 'name': 'Russian'},\n {'language': 'sm', 'name': 'Samoan'},\n {'language': 'sg', 'name': 'Sango'},\n {'language': 'sa', 'name': 'Sanskrit'},\n {'language': 'gd', 'name': 'Scots Gaelic'},\n {'language': 'nso', 'name': 'Sepedi'},\n {'language': 'sr', 'name': 'Serbian'},\n {'language': 'st', 'name': 'Sesotho'},\n {'language': 'crs', 'name': 'Seychellois Creole'},\n {'language': 'shn', 'name': 'Shan'},\n {'language': 'sn', 'name': 'Shona'},\n {'language': 'scn', 'name': 'Sicilian'},\n {'language': 'szl', 'name': 'Silesian'},\n {'language': 'sd', 'name': 'Sindhi'},\n {'language': 'si', 'name': 'Sinhala'},\n {'language': 'sk', 'name': 'Slovak'},\n {'language': 'sl', 'name': 'Slovenian'},\n {'language': 'so', 'name': 'Somali'},\n {'language': 'es', 'name': 'Spanish'},\n {'language': 'su', 'name': 'Sundanese'},\n {'language': 'sw', 'name': 'Swahili'},\n {'language': 'ss', 'name': 'Swati'},\n {'language': 'sv', 'name': 'Swedish'},\n {'language': 'tg', 'name': 'Tajik'},\n {'language': 'ta', 'name': 'Tamil'},\n {'language': 'tt', 'name': 'Tatar'},\n {'language': 'te', 'name': 'Telugu'},\n {'language': 'tet', 'name': 'Tetum'},\n {'language': 'th', 'name': 'Thai'},\n {'language': 'ti', 'name': 'Tigrinya'},\n {'language': 'ts', 'name': 'Tsonga'},\n {'language': 'tn', 'name': 'Tswana'},\n {'language': 'tr', 'name': 'Turkish'},\n {'language': 'tk', 'name': 'Turkmen'},\n {'language': 'ak', 'name': 'Twi'},\n {'language': 'uk', 'name': 'Ukrainian'},\n {'language': 'ur', 'name': 'Urdu'},\n {'language': 'ug', 'name': 'Uyghur'},\n {'language': 'uz', 'name': 'Uzbek'},\n {'language': 'vi', 'name': 'Vietnamese'},\n {'language': 'cy', 'name': 'Welsh'},\n {'language': 'xh', 'name': 'Xhosa'},\n {'language': 'yi', 'name': 'Yiddish'},\n {'language': 'yo', 'name': 'Yoruba'},\n {'language': 'yua', 'name': 'Yucatec Maya'},\n {'language': 'zu', 'name': 'Zulu'},\n {'language': 'he', 'name': 'Hebrew'},\n {'language': 'jv', 'name': 'Javanese'},\n {'language': 'zh-CN', 'name': 'Chinese (Simplified)'}]"
     },
     "execution_count": 220,
     "metadata": {},
     "output_type": "execute_result"
    }
   ],
   "source": [
    "# get languages\n",
    "client = translate.Client()\n",
    "languages = client.get_languages()\n",
    "languages"
   ],
   "metadata": {
    "collapsed": false,
    "ExecuteTime": {
     "end_time": "2024-11-25T23:44:22.194230Z",
     "start_time": "2024-11-25T23:44:21.784240Z"
    }
   },
   "id": "47d154e8c35949cf"
  },
  {
   "cell_type": "code",
   "execution_count": 221,
   "outputs": [
    {
     "data": {
      "text/plain": "('en', 'es')"
     },
     "execution_count": 221,
     "metadata": {},
     "output_type": "execute_result"
    }
   ],
   "source": [
    "src_lan, tgt_lan"
   ],
   "metadata": {
    "collapsed": false,
    "ExecuteTime": {
     "end_time": "2024-11-25T23:44:22.201725Z",
     "start_time": "2024-11-25T23:44:22.193843Z"
    }
   },
   "id": "8ddc6eea0e2598b5"
  },
  {
   "cell_type": "code",
   "execution_count": 222,
   "outputs": [
    {
     "data": {
      "text/plain": "{'translatedText': 'Este documento es un resumen del Informe Público Europeo de Evaluación (EPAR).',\n 'input': 'This document is a summary of the European Public Assessment Report ( EPAR ) .'}"
     },
     "execution_count": 222,
     "metadata": {},
     "output_type": "execute_result"
    }
   ],
   "source": [
    "# sample test\n",
    "sentence = sents[0]\n",
    "test = translate_text(src_lan, tgt_lan, sentence)\n",
    "test"
   ],
   "metadata": {
    "collapsed": false,
    "ExecuteTime": {
     "end_time": "2024-11-25T23:44:22.825298Z",
     "start_time": "2024-11-25T23:44:22.201005Z"
    }
   },
   "id": "17a8de281822e43a"
  },
  {
   "cell_type": "code",
   "execution_count": 223,
   "outputs": [
    {
     "name": "stderr",
     "output_type": "stream",
     "text": [
      "100%|██████████| 121/121 [00:42<00:00,  2.85it/s]\n"
     ]
    }
   ],
   "source": [
    "# translating all the sentences from English to target language\n",
    "tgt_sents = []\n",
    "for s in tqdm(sents):\n",
    "    tgt_s = translate_text(src_lan, tgt_lan, s)\n",
    "    tgt_sents.append(tgt_s)"
   ],
   "metadata": {
    "collapsed": false,
    "ExecuteTime": {
     "end_time": "2024-11-25T23:45:05.274217Z",
     "start_time": "2024-11-25T23:44:22.782138Z"
    }
   },
   "id": "415a61a1c19a4aff"
  },
  {
   "cell_type": "code",
   "execution_count": 224,
   "outputs": [
    {
     "name": "stdout",
     "output_type": "stream",
     "text": [
      "[{'translatedText': 'Este documento es un resumen del Informe Público Europeo de Evaluación (EPAR).', 'input': 'This document is a summary of the European Public Assessment Report ( EPAR ) .'}, {'translatedText': 'Explica cómo el Comité de Medicamentos de Uso Humano (CHMP) evaluó los estudios realizados para llegar a sus recomendaciones sobre cómo utilizar el medicamento.', 'input': 'It explains how the Committee for Medicinal Products for Human Use ( CHMP ) assessed the studies performed , to reach their recommendations on how to use the medicine .'}, {'translatedText': 'Si necesita más información sobre su enfermedad o su tratamiento, lea el prospecto (también incluido en el EPAR) o póngase en contacto con su médico o farmacéutico.', 'input': 'If you need more information about your medical condition or your treatment , read the Package Leaflet ( also part of the EPAR ) or contact your doctor or pharmacist .'}, {'translatedText': 'Si desea más información sobre las bases de las recomendaciones del CHMP, lea la Discusión científica (también parte del EPAR).', 'input': 'If you want more information on the basis of the CHMP recommendations , read the Scientific Discussion ( also part of the EPAR ) .'}, {'translatedText': '¿Qué es Alimta?', 'input': 'What is Alimta ?'}, {'translatedText': 'Alimta es un polvo que se prepara en una solución para infusión (goteo en una vena).', 'input': 'Alimta is a powder that is made up into a solution for infusion ( drip into a vein ) .'}, {'translatedText': 'Contiene el principio activo pemetrexed.', 'input': 'It contains the active substance pemetrexed .'}, {'translatedText': '¿Para qué se utiliza Alimta?', 'input': 'What is Alimta used for ?'}, {'translatedText': 'Alimta se utiliza para tratar dos tipos de cáncer: mesotelioma pleural (cáncer del revestimiento de los pulmones que generalmente es causado por la exposición al asbesto).', 'input': 'Alimta is used to treat two types of cancer : pleural mesothelioma ( cancer of the lining of the lungs that is usually caused by exposure to asbestos ) .'}, {'translatedText': 'Alimta se utiliza junto con cisplatino (otro medicamento contra el cáncer) cuando el cáncer es irresecable (no se puede extirpar únicamente con cirugía) y maligno (se ha diseminado, o es probable que se disemine fácilmente, a otras partes del cuerpo), en pacientes que no han recibido quimioterapia (medicamentos para el cáncer) antes del cáncer de pulmón de células no pequeñas avanzado o metastásico que no afecta las células escamosas.', 'input': 'Alimta is used together with cisplatin ( another anticancer medicine ) when the cancer is unresectable ( cannot be removed by surgery alone ) and malignant ( has spread , or is likely to spread easily , to other parts of the body ) , in patients who have not received chemotherapy ( medicines for cancer ) before advanced or metastatic non-small cell lung cancer that is not affecting the squamous cells .'}, {'translatedText': 'Alimta se utiliza en combinación con cisplatino en pacientes que no han sido tratados previamente y solo en pacientes que han recibido otro tipo de quimioterapia en el pasado.', 'input': 'Alimta is used in combination with cisplatin in patients who have not been treated before , and on its own in patients who have received another type of chemotherapy in the past .'}, {'translatedText': 'El medicamento sólo puede obtenerse con receta médica.', 'input': 'The medicine can only be obtained with a prescription .'}, {'translatedText': '¿Cómo se utiliza Alimta?', 'input': 'How is Alimta used ?'}, {'translatedText': 'Alimta sólo debe administrarse bajo la supervisión de un médico calificado en el uso de quimioterapia contra el cáncer.', 'input': 'Alimta should only be given under the supervision of a doctor who is qualified in the use of anticancer chemotherapy .'}, {'translatedText': 'La dosis recomendada de Alimta es de 500 mg por metro cuadrado de superficie corporal (calculada a partir de la altura y el peso del paciente). Se administra una vez cada tres semanas en forma de infusión intravenosa de 10 minutos de duración.', 'input': 'The recommended dose of Alimta is 500 mg per square metre of body surface area ( calculated using the patient s height and weight ) . It is given once every three weeks as an intravenous infusion lasting 10 minutes .'}, {'translatedText': 'Para reducir los efectos secundarios, los pacientes deben tomar un corticosteroide y ácido fólico (un tipo de vitamina) y recibir inyecciones de vitamina B12 durante el tratamiento con Alimta.', 'input': 'To reduce side effects , patients should take a corticosteroid and folic acid ( a type of vitamin ) , and receive injections of vitamin B12 during treatment with Alimta .'}, {'translatedText': 'Cuando se administra Alimta con cisplatino, también se debe administrar un medicamento antiemético (para prevenir los vómitos) y líquidos (para prevenir la deshidratación) antes o después de la dosis de cisplatino.', 'input': 'When Alimta is given with cisplatin , an anti-emetic medicine ( to prevent vomiting ) and fluids ( to prevent dehydration ) should also be given before or after the cisplatin dose .'}, {'translatedText': 'Se debe retrasar o suspender el tratamiento, o reducir la dosis, en pacientes cuyos recuentos sanguíneos sean anormales o que presenten ciertos otros efectos secundarios.', 'input': 'Treatment should be delayed or discontinued , or the dose reduced , in patients whose blood counts are abnormal or who have certain other side effects .'}, {'translatedText': 'No se recomienda el uso de Alimta en pacientes con problemas renales moderados o graves.', 'input': 'Alimta is not recommended for use in patients with moderate or severe kidney problems .'}, {'translatedText': 'Para obtener más información, consulte el Resumen de las características del producto (también parte del EPAR).', 'input': 'For more information , see the Summary of Product Characteristics ( also part of the EPAR ) .'}, {'translatedText': '¿Cómo funciona Alimta?', 'input': 'How does Alimta work ?'}, {'translatedText': 'El principio activo de Alimta, pemetrexed, es un medicamento citotóxico (un medicamento que mata las células que se están dividiendo, como las células cancerosas), que pertenece al grupo de los antimetabolitos.', 'input': 'The active substance in Alimta , pemetrexed , is a cytotoxic medicine ( a medicine that kills cells that are dividing , such as cancer cells ) , which belongs to the group antimetabolites .'}, {'translatedText': 'En el cuerpo, el pemetrexed se convierte en una forma activa que bloquea la actividad de las enzimas que participan en la producción de nucleótidos (los componentes básicos del ADN y el ARN, el material genético de las células).', 'input': 'In the body , pemetrexed is converted into an active form that blocks the activity of the enzymes that are involved in producing nucleotides ( the building blocks of DNA and RNA , the genetic material of cells ) .'}, {'translatedText': '¿Cómo se ha estudiado Alimta?', 'input': 'How has Alimta been studied ?'}, {'translatedText': 'Para el tratamiento del mesotelioma pleural maligno, Alimta se ha estudiado en un estudio principal en 456 pacientes que no habían recibido quimioterapia para su enfermedad antes.', 'input': 'For the treatment of malignant pleural mesothelioma , Alimta has been studied in one main study in 456 patients who had not received chemotherapy for their disease before .'}, {'translatedText': 'Se compararon los efectos de Alimta en combinación con cisplatino con los del cisplatino solo.', 'input': 'The effects of Alimta in combination with cisplatin were compared with those of cisplatin alone .'}, {'translatedText': 'Para el tratamiento del cáncer de pulmón de células no pequeñas, se compararon los efectos de Alimta con los del docetaxel (otro medicamento contra el cáncer) en un estudio en el que participaron 571 pacientes con enfermedad localmente avanzada o metastásica que habían recibido quimioterapia en el pasado.', 'input': 'For the treatment of non-small cell lung cancer , the effects of Alimta were compared with those of docetaxel ( another anticancer medicine ) in one study involving 571 patients with locally advanced or metastatic disease who had received chemotherapy in the past .'}, {'translatedText': 'Alimta también se comparó con gemcitabina (otro medicamento contra el cáncer), ambos en combinación con cisplatino, en un estudio en el que participaron 1.725 pacientes que no habían recibido quimioterapia para el cáncer de pulmón en el pasado.', 'input': 'Alimta was also compared with gemcitabine ( another anticancer medicine ) , both in combination with cisplatin , in a study involving 1,725 patients who had not received chemotherapy for lung cancer in the past .'}, {'translatedText': 'En los tres estudios, la principal medida de eficacia fue el tiempo de supervivencia de los pacientes.', 'input': 'In all three studies , the main measure of effectiveness was how long the patients survived .'}, {'translatedText': '¿Qué beneficios ha demostrado Alimta durante los estudios?', 'input': 'What benefit has Alimta shown during the studies ?'}, {'translatedText': 'Alimta aumentó el tiempo de supervivencia de los pacientes con mesotelioma pleural maligno.', 'input': 'Alimta increased the survival time of patients with malignant pleural mesothelioma .'}, {'translatedText': 'Los pacientes que recibieron Alimta y cisplatino sobrevivieron un promedio de 12,1 meses, en comparación con 9,3 meses en aquellos que recibieron cisplatino solo.', 'input': 'Patients receiving Alimta and cisplatin survived for an average of 12.1 months , compared with 9.3 months in those receiving cisplatin alone .'}, {'translatedText': 'En el tratamiento de pacientes con cáncer de pulmón de células no pequeñas, Alimta fue tan eficaz como los comparadores.', 'input': 'In the treatment of patients with non-small cell lung cancer , Alimta was as effective as the comparators .'}, {'translatedText': 'En pacientes que habían recibido quimioterapia en el pasado, el tiempo promedio de supervivencia fue de 8,3 meses con Alimta, en comparación con 7,9 meses con docetaxel.', 'input': 'In patients who had received chemotherapy in the past , the average survival time was 8.3 months with Alimta , compared with 7.9 months with docetaxel .'}, {'translatedText': 'En los pacientes que no habían recibido quimioterapia en el pasado, el tiempo promedio de supervivencia fue de 10,3 meses en ambos grupos.', 'input': 'In patients who had not received chemotherapy in the past , the average survival time was 10.3 months in both groups .'}, {'translatedText': 'Sin embargo, en ambos estudios, los pacientes cuyo cáncer no afectaba a las células escamosas tuvieron tiempos de supervivencia más prolongados si recibieron Alimta que si recibieron el comparador.', 'input': 'However , in both studies , patients whose cancer was not affecting squamous cells had longer survival times if they received Alimta than if they received the comparator .'}, {'translatedText': 'Por el contrario, los pacientes cuyo cáncer afectaba a las células escamosas tuvieron tiempos de supervivencia más cortos si recibieron Alimta. kalgebra es una calculadora matemática basada en el lenguaje de marcado de contenido MathML.', 'input': 'In contrast , patients whose cancer was affecting squamous cells had shorter survival times if they received Alimta . kalgebra is a mathematical calculator based on content markup MathML language .'}, {'translatedText': 'Hoy en día es capaz de realizar operaciones MathML simples (aritméticas y lógicas) y representar gráficos 2D y 3D.', 'input': 'Nowadays it is capable to make simple MathML operations ( arithmetic and logical ) and to representate 2D and 3D graphs .'}, {'translatedText': 'En realidad, no es necesario saber MathML para usar Kalgebra. Kalgebra es una calculadora gráfica basada en MathML.', 'input': 'It is actually not necessary to know MathML to use kalgebra . kalgebra is a MathML based graph calculator .'}, {'translatedText': 'Aunque inicialmente estaba orientado a MathML, ahora puede ser utilizado por cualquier persona con pocos conocimientos matemáticos.', 'input': 'Although it was initially MathML oriented it can now be used by everyone with little mathematical knowledge .'}, {'translatedText': 'Aquí hay una captura de pantalla de la ventana principal de Kalgebra. La ventana principal de Kalgebra consta de una pestaña Consola, una pestaña Gráfico 2D, una pestaña Gráfico 3D y una pestaña Diccionario.', 'input': \"Here 's a screenshot of kalgebra main window kalgebra main window kalgebra main window consists in a Console tab , a 2D Graph tab , a 3D Graph tab and a Dictionary tab .\"}, {'translatedText': 'Debajo de estas pestañas encontrarás un campo de entrada para escribir tus funciones o hacer tus cálculos.', 'input': 'Below these tabs you will find an input field to type your functions or do your calculations .'}, {'translatedText': 'Si queremos entender cómo funciona, lo mejor que podemos hacer es darnos cuenta de que nuestra entrada se está convirtiendo en MathML aunque no es necesario saber MathML.', 'input': 'If we want to understand how it works , the best thing we can do is to realize that our input is being converted into MathML although it is not necessary to know MathML .'}, {'translatedText': 'He basado la sintaxis básicamente en el sentido común, no debería ser difícil para nadie.', 'input': 'I have based the syntax basically on common sense , it should not be hard for anyone .'}, {'translatedText': 'He analizado de cerca la sintaxis de maxima y maple, por lo que parecen muy similares. + - * /: suma, resta, multiplicación y división. ^, **: potencia, puedes usar ambas.', 'input': 'I ve looked closely to maxima and maple s syntax so they look very similar . + - * / : Addition , subtraction , multiplication and division . ^ , ** : Power , you can use them both .'}, {'translatedText': 'También es posible utilizar caracteres unicode².', 'input': 'Also it is possible to use the unicode ² characters .'}, {'translatedText': 'Las potencias también son una forma de crear raíces. -gt: es la forma de especificar la variable acotada en una función. (): se utiliza para especificar una prioridad más alta. abc(params): cuando el analizador encuentra una función, verifica si abc es un operador.', 'input': 'Powers are one way to make roots too . -gt : It s the way to specify the bounded variable in a function . ( ) : It is used to specify a higher priority . abc(params) : When the parser finds a function , it checks if abc is an operator .'}, {'translatedText': 'Si es así, se tratará como un operador; si no, se tratará como una función de usuario. : = : Se utiliza para definir un valor de variable. ? : Definición de condición por partes.', 'input': 'If it is , it will be treated as an operator , if it is not , it will be treated as a user function . : = : It is used to define a variable value . ? : Piecewise condition definition .'}, {'translatedText': 'Por partes es la forma en que podemos definir operaciones condicionales en Kalgebra.', 'input': 'Piecewise is the way we can define conditional operations in kalgebra .'}, {'translatedText': 'Si introducimos la condición antes del ? utilizará esta condición solo si es verdadera, si encuentra un ? sin ninguna condición, entrará en última instancia. { } : contenedor MathML. Se puede utilizar para definir un contenedor.', 'input': 'If we introduce the condition before the ? it will use this condition only if it is true , if it finds a ? without any condition , it will enter in the last instance . { } : MathML container . It can be used to define a container .'}, {'translatedText': 'Principalmente útil para trabajar con piezas.', 'input': 'Mainly useful for working with piecewise .'}, {'translatedText': 'Ahora bien, podrías preguntarme por qué debería importarle al usuario MathML. Es fácil. Con esto, podemos operar con funciones como cos(), sin(), cualquier otra función trigonométrica, suma() o producto().', 'input': 'Now you could ask me , why should the user mind about MathML ? That s easy . With this , we can operate with functions like cos() , sin() , any other trigonometric functions , sum() or product() .'}, {'translatedText': 'No importa de qué tipo sea.', 'input': 'It does not matter what kind it is .'}, {'translatedText': 'Podemos usar plus(), times() y todo lo que tenga su operador. La consola de kalgebra es útil como calculadora.', 'input': \"We can use plus() , times() and everything which has its operator . kalgebra 's console is useful as a calculator .\"}, {'translatedText': 'Allí tienes una lista de las variables declaradas.', 'input': 'There you have a list of the declared variables .'}, {'translatedText': 'Al hacer doble clic en ellos, verá un cuadro de diálogo que le permitirá cambiar sus valores (solo una forma de engañar al registro).', 'input': 'By double clicking on them you will see a dialog that lets you change their values ( just a way to trick the log ) .'}, {'translatedText': '&quot;Cada vez que ingrese una expresión, el valor de la variable &quot;ans&quot; cambiará al último resultado&quot;.', 'input': '\"Every time you enter an expression , the \"\" ans \"\" variable value will be changed to the last result .\"'}, {'translatedText': 'Ctrl N Nueva ventana', 'input': 'Ctrl N New Window'}, {'translatedText': 'Limpia el registro.', 'input': 'Flushes the log .'}, {'translatedText': 'Ctrl L Cargar script', 'input': 'Ctrl L Load Script'}, {'translatedText': 'Ejecuta las instrucciones de un archivo secuencialmente.', 'input': 'Executes the instructions in a file sequentially .'}, {'translatedText': 'Es útil si quieres definir algunas bibliotecas o reanudar algún trabajo anterior.', 'input': 'Nice if you want to define some libraries or resume some previous work .'}, {'translatedText': 'Ctrl G Guardar script', 'input': 'Ctrl G Save Script'}, {'translatedText': 'Guarda las instrucciones que has escrito desde que comenzó la sesión para poder reutilizarlas.', 'input': 'Saves the instructions you have typed since the session began to be able to reuse .'}, {'translatedText': 'Genera archivos de texto, por lo que debería ser fácil solucionarlo con cualquier editor de texto, como Kate.', 'input': 'Generates text files so it should be easy to fix using any text editor , like Kate .'}, {'translatedText': 'Ctrl S Guardar registro', 'input': 'Ctrl S Save Log'}, {'translatedText': 'Guarda el registro con todos los resultados en un archivo HTML para poder imprimirlo o publicarlo.', 'input': 'Saves the log with all results into an HTML file to be able to print or publish .'}, {'translatedText': 'Ctrl Q Salir', 'input': 'Ctrl Q Quit'}, {'translatedText': 'Cierra el programa.', 'input': 'Shuts the program down .'}, {'translatedText': 'Para agregar un nuevo gráfico 2D en Kalgebra, lo que tienes que hacer es ir a la pestaña Gráfico 2D y hacer clic en la pestaña Agregar para agregar la nueva función.', 'input': 'To add a new 2D graph on kalgebra , what you have to do is to go to the 2D Graph tab and click in the Add tab to add the new function .'}, {'translatedText': 'Luego, su atención se dirigirá a un cuadro de texto de entrada donde podrá escribir su función.', 'input': 'Then your focus will go to an input text box where you can type your function .'}, {'translatedText': 'Si desea utilizar una función f(x) típica, no es necesario especificarla.', 'input': 'If you want to use a typical f(x) function it is not necessary to specify it .'}, {'translatedText': 'Si ha ingresado la función haga clic en el botón Aceptar para mostrar el gráfico en la ventana principal.', 'input': 'If you have entered the function click on the OK button to display the graph in the main window .'}, {'translatedText': 'Puede configurar varios gráficos en la misma vista.', 'input': 'You can set several graphs on the same view .'}, {'translatedText': 'Simplemente utilice el botón Agregar cuando esté en el modo Lista.', 'input': 'Just use the Add button when you are in List mode .'}, {'translatedText': 'Puedes configurar cada gráfico con su propio color.', 'input': 'You can set each graph its own color .'}, {'translatedText': 'La Fundación ha participado recientemente en la organización de una conferencia que abordó este desafío crítico.', 'input': 'The Foundation has recently been involved in organising a conference which dealt with this critical challenge .'}, {'translatedText': 'Más de 100 participantes de los principales grupos de interés asistieron y debatieron cuestiones como el papel de los actores clave, incluidas las autoridades públicas, los interlocutores sociales, las organizaciones voluntarias y comunitarias, así como los usuarios de los servicios.', 'input': 'Over 100 participants from the main interest groups attended and debated issues such as the role of key actors including public authorities , social partners , voluntary and community organisations as well as service users .'}, {'translatedText': 'Se informaron relativamente pocos casos de intentos de involucrar a los usuarios en la planificación de servicios, pero se encontró que su participación en la prestación de servicios era más común.', 'input': 'There were relatively few cases reported of attempts to involve users in service planning but their involvement in service provision was found to be more common .'}, {'translatedText': 'También se tomó nota de la variedad de diferentes funciones que desempeña el bienestar público.', 'input': 'Note was also taken of the variety of different roles played by public welfare'}, {'translatedText': 'La Fundación organizó, junto con la Comisión Europea, el Ministerio de Asuntos Sociales y la Xunta de Galicia, una conferencia europea sobre exclusión social: un gran reto para los servicios públicos de bienestar.', 'input': 'The Foundation organised , together with the European Commission , the Spanish Ministry of Social Affairs and the Galician regional government , a European conference on social exclusion : a major challenge for public welfare services .'}, {'translatedText': 'La Fundación ha publicado recientemente un estudio comparativo en el marco del proyecto EPOC que evalúa hasta qué punto la participación directa puede humanizar el trabajo y aumentar la rentabilidad.', 'input': 'The Foundation recently published a comparative study as part of the EPOC project which assesses the extent to which direct participation can humanise work while increasing profitability .'}, {'translatedText': 'El estudio se basa en 195 entrevistas personales con altos funcionarios de los interlocutores sociales, representantes de importantes organizaciones a nivel nacional en quince países europeos.', 'input': 'The study is based on 195 personal interviews with senior officials of the social partners as representatives of national level peak organisations in fifteen European countries .'}, {'translatedText': 'Como sectores industriales importantes se incluyeron también la industria metalúrgica y el sector bancario.', 'input': 'As important industrial sectors , the metal industry and the banking sector were also included .'}, {'translatedText': 'Los principales oradores de la conferencia sobre exclusión social fueron (de izquierda a derecha) Cristina Louro, Dirección de Empleo, Relaciones Industriales y Asuntos Sociales, Comisión Europea Fernando Gomes, alto cargo del Comité de las Regiones Barbara Weiler, miembro del Parlamento Europeo José Maria Gil-Robles, Vicepresidente del Parlamento Europeo y John Carroll, del Comité Económico y Social.', 'input': 'Key speakers at the social exclusion conference were ( left to right ) Cristina Louro , Employment , Industrial Relations and Social Affairs Directorate , European Commission Fernando Gomes , a high degree of Committee of the Regions Barbara Weiler , Member of the European Parliament José Maria Gil-Robles , Vice-President , European Parliament and John Carroll , Economic and Social Committee .'}, {'translatedText': 'Estudios de caso Cada informe nacional contiene una cartera de entre 25 y 30 iniciativas que presentan mejor las políticas y prácticas para mejorar el reclutamiento, la capacitación y el desarrollo de los trabajadores mayores, tanto en el lugar de trabajo como en la comunidad.', 'input': 'Case Studies Each national report contains a portfolio of between 25 and 30 initiatives which best present policies and practices to improve the recruitment , training and development of ageing workers in both the work place and the community .'}, {'translatedText': 'Para cada país se han seleccionado dos o tres iniciativas para un estudio de caso más profundo.', 'input': 'For each country , two or three initiatives have been selected for further in depth case study .'}, {'translatedText': 'Estos estudios de caso analizaron los antecedentes de las iniciativas, su impacto en los patrones de empleo y las organizaciones de trabajo y evaluaron los beneficios y problemas de la iniciativa.', 'input': 'These case studies analysed the background of the initiatives , their impact on employment patterns and work organisations and assessed the benefits and problems of the initiative .'}, {'translatedText': 'También se realizaron visitas y entrevistas con personal clave.', 'input': 'Visits and interviews with key personnel were also undertaken .'}, {'translatedText': 'Estos estudios nacionales formarán la base de un informe europeo que sintetice las prácticas generales.', 'input': 'These national studies will form the basis of a European report which synthesises overall practices .'}, {'translatedText': 'El informe y un libro de casos de iniciativas se publicarán en 1996 y proporcionarán el marco para una conferencia que se celebrará en otoño de 1996.', 'input': 'The report and a case book of initiatives will be published in 1996 and provide the backdrop for a conference to be staged in Autumn , 1996 .'}, {'translatedText': 'La Fundación tiene como objetivo documentar las características de las barreras de edad en la contratación y formación laboral y analizar sus causas.', 'input': 'The Foundation aims to document the characteristics of age barriers in job recruitment and training and to analyse their causes .'}, {'translatedText': 'También se están examinando las perspectivas de los interlocutores sociales, con especial atención a las propuestas para eliminar las barreras de edad.', 'input': 'The perspectives of the social partners is also being examined , with particular attention paid to proposals for removing age barriers .'}, {'translatedText': 'En tercer lugar, el proyecto documenta y evalúa iniciativas, tanto en el sector público como en el privado, que combaten las barreras relacionadas con la edad, especialmente para los trabajadores de mayor edad.', 'input': 'Thirdly , the project documents and assesses initiatives , in both the public and private sectors which combat age barriers , especially for older workers .'}, {'translatedText': 'En la búsqueda de alternativas a la jubilación anticipada y al despido, el proyecto se centra principalmente en la retención, la reintegración y la capacitación de los trabajadores de mayor edad.', 'input': 'Seeking alternatives to early retirement and redundancy , the project is primarily concerned with the retention , reintegration and retraining of older workers .'}, {'translatedText': 'Se examinan los antecedentes de género y étnicos de los trabajadores y cómo estos se relacionan con la discriminación por edad.', 'input': 'The gender and ethnic backgrounds of workers and how these relate to age discrimination are examined .'}, {'translatedText': 'El proyecto también considera iniciativas para combatir la discriminación por edad en las zonas rurales y en las pequeñas y medianas empresas.', 'input': 'The project also considers initiatives to combat age discrimination in rural areas and in small and medium sized enterprises .'}, {'translatedText': 'El proyecto abarca siete Estados miembros: Bélgica, Francia, Alemania, Grecia, Italia, Países Bajos y Reino Unido.', 'input': 'Seven member states are covered by the project : Belgium , France , Germany , Greece , Italy , the Netherlands and the United Kingdom .'}, {'translatedText': 'Este documento es un resumen del Informe Público Europeo de Evaluación. En él se explica cómo el Comité de Medicamentos de Uso Veterinario (CVMP) ha evaluado los estudios realizados para emitir sus recomendaciones sobre el uso del medicamento.', 'input': 'This document is a summary of the European Public Assessment Report . It explains how the Committee for Medicinal Products for Veterinary Use ( CVMP ) assessed the studies performed , to reach their recommendations on how to use the medicine .'}, {'translatedText': '¿Qué es Cerenia?', 'input': 'What is Cerenia ?'}, {'translatedText': 'Cerenia contiene el principio activo maropitant y está disponible en forma de comprimidos o de solución inyectable.', 'input': 'Cerenia contains the active substance maropitant and is available as tablet or as solution for injection .'}, {'translatedText': 'Los comprimidos son de color naranja pálido y tienen una ranura en ambos lados para poder partirlos por la mitad.', 'input': 'The tablets are pale-orange and have a score line on both sides so that they can be halved .'}, {'translatedText': 'Cada comprimido está marcado con el logotipo de Pfizer en un lado y con las letras MPT y la cantidad de maropitant en el otro lado.', 'input': 'Each tablet is marked with the Pfizer logo on one side and with the letters MPT and the quantity of maropitant on the other side .'}, {'translatedText': '¿Para qué se utiliza Cerenia?', 'input': 'What is Cerenia used for ?'}, {'translatedText': 'Cerenia es un antiemético, esto significa que detiene el vómito.', 'input': 'Cerenia is an anti-emetic , this means that it stops vomiting .'}, {'translatedText': 'Se utiliza en perros para prevenir vómitos como los provocados por la quimioterapia (medicamentos utilizados para el tratamiento del cáncer, algunos de los cuales se sabe que provocan vómitos).', 'input': 'It is used in dogs to prevent vomiting such as vomiting caused by chemotherapy ( medicines used for the treatment of cancer , some of which are known to cause vomiting ) .'}, {'translatedText': 'En combinación con medidas de apoyo como otros tratamientos veterinarios o una dieta especial, Cerenia también puede utilizarse en el tratamiento de los vómitos (ya sea como inyección o como inyección seguida de comprimidos).', 'input': 'In combination with supportive measures such as other veterinary treatment or a special diet , Cerenia can also be used in the treatment of vomiting ( either as injection or as injection followed by tablets ) .'}, {'translatedText': 'Para estos fines, Cerenia puede administrarse hasta por cinco días.', 'input': 'For these purposes , Cerenia can be given for up to five days'}, {'translatedText': '¿Cómo actúa Cerenia?', 'input': 'How does Cerenia work ?'}, {'translatedText': 'Cerenia bloquea un receptor de neuroquinina 1 (NK1), que actúa en el sistema nervioso central.', 'input': 'Cerenia blocks a neurokinin 1 ( NK1 ) receptor , which acts in the central nervous system .'}, {'translatedText': '¿Cómo se ha estudiado Cerenia?', 'input': 'How has Cerenia been studied ?'}, {'translatedText': 'Se han realizado numerosos estudios con Cerenia tanto en perros de laboratorio como en pacientes animales en consultas veterinarias de varios países europeos y de los EE.UU.', 'input': 'A large number of studies with Cerenia were carried out either in laboratory dogs or in animal patients at veterinary practises in several European countries and in the USA .'}, {'translatedText': '¿Qué beneficios ha demostrado Cerenia durante los estudios?', 'input': 'What benefit has Cerenia shown during the studies ?'}, {'translatedText': 'Los resultados de los estudios mostraron que Cerenia fue más eficaz que el placebo: se observaron menos vómitos en los perros que recibieron el medicamento que en los perros que recibieron un placebo, tanto en el tratamiento como en la prevención de los vómitos.', 'input': 'The results of the studies showed that Cerenia was more effective than the placebo : less vomiting was seen in dogs that received the medicine than in dogs that received a placebo , both in the treatment or in the prevention of vomiting .'}, {'translatedText': 'El tratamiento de un perro que vomita debe iniciarse con la inyección, ya que los animales que vomitan pueden no ser capaces de retener la pastilla en el estómago (ya que podrían vomitar la pastilla intacta de nuevo).', 'input': 'The treatment of a vomiting dog should be started with the injection , since vomiting animals might not be able to keep a tablet down ( as they might throw the intact tablet up again ) .'}, {'translatedText': 'Como tratamiento de seguimiento, el dueño del animal puede administrar los comprimidos al perro.', 'input': 'For follow-up treatment , the animal owner can administer the tablets to the dog .'}, {'translatedText': 'Además, el tratamiento de los vómitos solo debe realizarse junto con otras medidas de apoyo u otra terapia veterinaria mientras se abordan las causas subyacentes de los vómitos.', 'input': 'Also , the treatment of vomiting should only be together with other supportive measure or other veterinary therapy while addressing the underlying causes of the vomiting .'}, {'translatedText': '¿Cuál es el riesgo asociado con Cerenia?', 'input': 'What is the risk associated with Cerenia ?'}, {'translatedText': 'Cerenia fue generalmente bien tolerado cuando se administró diariamente en dosis hasta 5 veces las dosis recomendadas durante un período prolongado de tiempo (hasta 3 veces la duración máxima recomendada del tratamiento).', 'input': 'Cerenia was generally well tolerated when administered daily at dosages up to 5 times the recommended doses for an extended period of time ( up to 3 times the recommended maximum duration of treatment ) .'}, {'translatedText': '¿Cuáles son las precauciones que debe tomar la persona que administra el medicamento o entra en contacto con el animal?', 'input': 'What are the precautions for the person who gives the medicine or comes into contact with the animal ?'}, {'translatedText': 'Cerenia no representa un riesgo particular para las personas.', 'input': 'Cerenia does not represent a particular risk for people .'}]\n"
     ]
    }
   ],
   "source": [
    "tgt_sents = [s['translatedText'] for s in tgt_sents]"
   ],
   "metadata": {
    "collapsed": false,
    "ExecuteTime": {
     "end_time": "2024-11-25T23:45:05.284222Z",
     "start_time": "2024-11-25T23:45:05.274024Z"
    }
   },
   "id": "6223944ae1eaa6b6"
  },
  {
   "cell_type": "code",
   "execution_count": 225,
   "outputs": [
    {
     "data": {
      "text/plain": "          ID                                            English  \\\n0  d000.s000  This document is a summary of the European Pub...   \n1  d000.s001  It explains how the Committee for Medicinal Pr...   \n2  d000.s002  If you need more information about your medica...   \n3  d000.s003  If you want more information on the basis of t...   \n4  d000.s004                                   What is Alimta ?   \n\n                                 Spanish Translation  \n0  Este documento es un resumen del Informe Públi...  \n1  Explica cómo el Comité de Medicamentos de Uso ...  \n2  Si necesita más información sobre su enfermeda...  \n3  Si desea más información sobre las bases de la...  \n4                                    ¿Qué es Alimta?  ",
      "text/html": "<div>\n<style scoped>\n    .dataframe tbody tr th:only-of-type {\n        vertical-align: middle;\n    }\n\n    .dataframe tbody tr th {\n        vertical-align: top;\n    }\n\n    .dataframe thead th {\n        text-align: right;\n    }\n</style>\n<table border=\"1\" class=\"dataframe\">\n  <thead>\n    <tr style=\"text-align: right;\">\n      <th></th>\n      <th>ID</th>\n      <th>English</th>\n      <th>Spanish Translation</th>\n    </tr>\n  </thead>\n  <tbody>\n    <tr>\n      <th>0</th>\n      <td>d000.s000</td>\n      <td>This document is a summary of the European Pub...</td>\n      <td>Este documento es un resumen del Informe Públi...</td>\n    </tr>\n    <tr>\n      <th>1</th>\n      <td>d000.s001</td>\n      <td>It explains how the Committee for Medicinal Pr...</td>\n      <td>Explica cómo el Comité de Medicamentos de Uso ...</td>\n    </tr>\n    <tr>\n      <th>2</th>\n      <td>d000.s002</td>\n      <td>If you need more information about your medica...</td>\n      <td>Si necesita más información sobre su enfermeda...</td>\n    </tr>\n    <tr>\n      <th>3</th>\n      <td>d000.s003</td>\n      <td>If you want more information on the basis of t...</td>\n      <td>Si desea más información sobre las bases de la...</td>\n    </tr>\n    <tr>\n      <th>4</th>\n      <td>d000.s004</td>\n      <td>What is Alimta ?</td>\n      <td>¿Qué es Alimta?</td>\n    </tr>\n  </tbody>\n</table>\n</div>"
     },
     "execution_count": 225,
     "metadata": {},
     "output_type": "execute_result"
    }
   ],
   "source": [
    "# output\n",
    "trans_df = pd.DataFrame({\n",
    "    'ID': sids\n",
    "    , 'English': sents\n",
    "    , language+ ' Translation': tgt_sents\n",
    "    })\n",
    "trans_df.head()"
   ],
   "metadata": {
    "collapsed": false,
    "ExecuteTime": {
     "end_time": "2024-11-25T23:45:05.296355Z",
     "start_time": "2024-11-25T23:45:05.287374Z"
    }
   },
   "id": "e0c0239ef97cce37"
  },
  {
   "cell_type": "code",
   "execution_count": 226,
   "outputs": [],
   "source": [
    "# Save to TSV \n",
    "trans_df.to_csv(TRANS_FILE, sep='\\t', index=False)"
   ],
   "metadata": {
    "collapsed": false,
    "ExecuteTime": {
     "end_time": "2024-11-25T23:45:05.331744Z",
     "start_time": "2024-11-25T23:45:05.290962Z"
    }
   },
   "id": "985f57293a2b1111"
  },
  {
   "cell_type": "code",
   "execution_count": 277,
   "outputs": [
    {
     "data": {
      "text/plain": "          ID                                            English  \\\n0  d001.s001  This document is a summary of the European Pub...   \n1  d001.s002  It explains how the Committee for Medicinal Pr...   \n2  d001.s003  If you need more information about your medica...   \n3  d001.s004  If you want more information on the basis of t...   \n4  d001.s005                                   What is Alimta ?   \n\n                                 Chinese Translation  \n0                           本文件是欧洲公共评估报告 (EPAR) 的摘要。  \n1      它解释了人用药品委员会 (CHMP) 如何评估所进行的研究，以得出关于如何使用药物的建议。  \n2  如果您需要更多有关您的医疗状况或治疗的信息，请阅读药品说明书（也是 EPAR 的一部分）或联...  \n3       如果您想了解有关 CHMP 建议的更多信息，请阅读科学讨论（也是 EPAR 的一部分）。  \n4                                        什么是 Alimta？  ",
      "text/html": "<div>\n<style scoped>\n    .dataframe tbody tr th:only-of-type {\n        vertical-align: middle;\n    }\n\n    .dataframe tbody tr th {\n        vertical-align: top;\n    }\n\n    .dataframe thead th {\n        text-align: right;\n    }\n</style>\n<table border=\"1\" class=\"dataframe\">\n  <thead>\n    <tr style=\"text-align: right;\">\n      <th></th>\n      <th>ID</th>\n      <th>English</th>\n      <th>Chinese Translation</th>\n    </tr>\n  </thead>\n  <tbody>\n    <tr>\n      <th>0</th>\n      <td>d001.s001</td>\n      <td>This document is a summary of the European Pub...</td>\n      <td>本文件是欧洲公共评估报告 (EPAR) 的摘要。</td>\n    </tr>\n    <tr>\n      <th>1</th>\n      <td>d001.s002</td>\n      <td>It explains how the Committee for Medicinal Pr...</td>\n      <td>它解释了人用药品委员会 (CHMP) 如何评估所进行的研究，以得出关于如何使用药物的建议。</td>\n    </tr>\n    <tr>\n      <th>2</th>\n      <td>d001.s003</td>\n      <td>If you need more information about your medica...</td>\n      <td>如果您需要更多有关您的医疗状况或治疗的信息，请阅读药品说明书（也是 EPAR 的一部分）或联...</td>\n    </tr>\n    <tr>\n      <th>3</th>\n      <td>d001.s004</td>\n      <td>If you want more information on the basis of t...</td>\n      <td>如果您想了解有关 CHMP 建议的更多信息，请阅读科学讨论（也是 EPAR 的一部分）。</td>\n    </tr>\n    <tr>\n      <th>4</th>\n      <td>d001.s005</td>\n      <td>What is Alimta ?</td>\n      <td>什么是 Alimta？</td>\n    </tr>\n  </tbody>\n</table>\n</div>"
     },
     "execution_count": 277,
     "metadata": {},
     "output_type": "execute_result"
    }
   ],
   "source": [
    "# load TSV \n",
    "trans_df = pd.read_csv(TRANS_FILE, delimiter='\\t', quoting=csv.QUOTE_NONE)\n",
    "trans_df.head()"
   ],
   "metadata": {
    "collapsed": false,
    "ExecuteTime": {
     "end_time": "2024-11-26T00:21:50.812813Z",
     "start_time": "2024-11-26T00:21:50.798669Z"
    }
   },
   "id": "e5f07b12c39b974a"
  },
  {
   "cell_type": "code",
   "execution_count": 278,
   "outputs": [],
   "source": [
    "trans_sents = trans_df[language+ \" Translation\"].tolist()"
   ],
   "metadata": {
    "collapsed": false,
    "ExecuteTime": {
     "end_time": "2024-11-26T00:21:51.235379Z",
     "start_time": "2024-11-26T00:21:51.217434Z"
    }
   },
   "id": "646c2a83e177404f"
  },
  {
   "cell_type": "code",
   "execution_count": 289,
   "outputs": [
    {
     "name": "stdout",
     "output_type": "stream",
     "text": [
      "[['本', '文件', '是', '欧洲', '公共', '评估', '报告', '(', 'EPAR', ')', '的', '摘要', '。'], ['它', '解释', '了', '人用', '药品', '委员会', '(', 'CHMP', ')', '如何', '评估所', '进行', '的', '研究', '，', '以', '得出', '关于', '如何', '使用', '药物', '的', '建议', '。'], ['如果', '您', '需要', '更', '多', '有关', '您', '的', '医疗', '状况', '或', '治疗', '的', '信息', '，', '请', '阅读', '药品', '说明书', '（', '也', '是', 'EPAR', '的', '一部分', '）', '或', '联系', '您', '的', '医生', '或', '药剂师', '。'], ['如果', '您', '想', '了解', '有关', 'CHMP', '建议', '的', '更', '多', '信息', '，', '请', '阅读', '科学', '讨论', '（', '也', '是', 'EPAR', '的', '一部分', '）', '。'], ['什么', '是', 'Alimta', '？'], ['Alimta', '是', '一种', '粉末', '，', '可', '制成', '输液', '溶液', '（', '滴入', '静脉', '）', '。'], ['它', '含有', '活性', '成分', '培美曲', '塞', '。'], ['Alimta', '的', '用途', '是', '什么', '？'], ['Alimta', '用于', '治疗', '两种', '类型', '的', '癌症', '：', '胸膜', '间皮瘤', '（', '肺部', '内膜', '癌症', '，', '通常', '由', '接触', '石棉', '引起', '）', '。'], ['当', '癌症', '无法', '切除', '（', '不能', '仅', '通过', '手术', '切除', '）', '且', '为', '恶性', '（', '已经', '扩散', '或', '可能', '轻易', '扩散', '到', '身体', '其他', '部位', '）', '，', '且', '之前', '未', '接受', '过', '化疗', '（', '抗癌', '药物', '）', '的', '晚期', '或', '转移性', '非小', '细胞', '肺癌', '患者', '（', '未', '影响', '鳞状', '细胞', '）', '时', '，', 'Alimta', '与', '顺', '铂', '（', '另', '一种', '抗癌', '药物', '）', '一起', '使用', '。'], ['对于', '以前', '未', '接受', '过', '治疗', '的', '患者', '，', 'Alimta', '与', '顺', '铂', '联合', '使用', '；', '对于', '以前', '接受', '过', '其他', '类型', '化疗', '的', '患者', '，', 'Alimta', '可', '单独', '使用', '。'], ['这种', '药', '必须', '凭处方', '才能', '买', '到', '。'], ['Alimta', '如何', '使用', '？'], ['Alimta', '只能', '在', '具有', '抗癌', '化疗', '使用', '资质', '的', '医生', '的', '监督', '下', '使用', '。'], ['Alimta', '的', '推荐', '剂量', '为', '每平方米', '体表', '面积', '500', '毫克', '（', '根据', '患者', '的', '身高', '和', '体重', '计算', '）', '。'], ['每', '三周', '进行', '一次', '静脉', '输注', '，', '每次', '持续', '10', '分钟', '。'], ['为了', '减少', '副作用', '，', '患者', '在', '使用', 'Alimta', '治疗', '期间', '应该', '服用', '皮质', '类固醇', '和', '叶酸', '（', '一种', '维生素', '）', '，', '并', '注射', '维生素', 'B12', '。'], ['当', 'Alimta', '与', '顺', '铂', '一起', '服用', '时', '，', '还', '应', '在', '顺', '铂', '给', '药', '之前', '或', '之后', '给予', '止吐药', '（', '防止', '呕吐', '）', '和', '液体', '（', '防止', '脱水', '）', '。'], ['对于', '血细胞', '计数', '异常', '或', '出现', '其他', '副作用', '的', '患者', '，', '应', '推迟', '或', '停止', '治疗', '，', '或', '减少', '剂量', '。'], ['不', '建议', '患有', '中度', '或', '重度', '肾脏', '疾病', '的', '患者', '使用', 'Alimta', '。'], ['欲了解', '更', '多', '信息', '，', '请参阅', '产品', '特性', '摘要', '（', '也', '是', 'EPAR', '的', '一部分', '）', '。'], ['Alimta', '如何', '发挥作用', '？'], ['Alimta', '中', '的', '活性', '成分', '培美曲', '塞', '是', '一种', '细胞毒', '药物', '（', '杀死', '正在', '分裂', '的', '细胞', '，', '如', '癌细胞', '的', '药物', '）', '，', '属于', '抗', '代谢', '药类', '。'], ['在', '体内', '，', '培美曲', '塞', '被', '转化成', '活性', '形式', '，', '从而', '抑制', '参与', '生成', '核苷酸', '（', 'DNA', '和', 'RNA', '的', '组成部分', '，', '即', '细胞', '的', '遗传物质', '）', '的', '酶', '的', '活性', '。'], ['Alimta', '的', '研究进展', '如何', '？'], ['为了', '治疗', '恶性', '胸膜', '间皮瘤', '，', 'Alimta', '已', '在', '一项', '主要', '研究', '中', '对', '456', '名', '之前', '未', '接受', '过', '化疗', '的', '患者', '进行', '了', '研究', '。'], ['比较', '了', 'Alimta', '与', '顺', '铂', '联合', '治疗', '与', '单独', '使用', '顺铂', '治疗', '的', '效果', '。'], ['在', '非', '小', '细胞', '肺癌', '的', '治疗', '方面', '，', '一项', '涉及', '571', '名', '既往', '接受', '过', '化疗', '的', '局部', '晚期', '或', '转移性', '疾病', '患者', '的', '研究', '比较', '了', 'Alimta', '与', '多西', '他赛', '（', '另', '一种', '抗癌', '药物', '）', '的', '效果', '。'], ['在', '一项', '涉及', '1725', '名', '过去', '未', '接受', '过', '化疗', '的', '肺癌', '患者', '的', '研究', '中', '，', '阿利', '泰', '与', '吉西', '他', '滨', '(', '另', '一种', '抗癌药', ')', '进行', '了', '比较', '，', '两者', '都', '与', '顺', '铂', '联合', '使用', '。'], ['在', '这三项', '研究', '中', '，', '疗效', '的', '主要', '衡量标准', '是', '患者', '存活', '的', '时间', '。'], ['Alimta', '在', '研究', '期间', '显示', '出', '了', '什么', '益处', '？'], ['Alimta', '延长', '了', '恶性', '胸膜', '间皮瘤', '患者', '的', '生存', '时间', '。'], ['接受', 'Alimta', '和顺', '铂', '治疗', '的', '患者', '平均', '生存期', '为', '12.1', '个', '月', '，', '而仅', '接受', '顺铂', '治疗', '的', '患者', '平均', '生存期', '为', '9.3', '个', '月', '。'], ['在', '治疗', '非小', '细胞', '肺癌', '患者', '方面', '，', 'Alimta', '与', '对照', '药物', '一样', '有效', '。'], ['对于', '过去', '接受', '过', '化疗', '的', '患者', '，', '使用', 'Alimta', '治疗', '后', '平均', '生存期', '为', '8.3', '个', '月', '，', '而', '使用', '多西', '他赛', '治疗', '后', '平均', '生存期', '为', '7.9', '个', '月', '。'], ['对于', '既往', '未', '接受', '过', '化疗', '的', '患者', '，', '两组', '平均', '生存期', '均', '为', '10.3', '个', '月', '。'], ['然而', '，', '在', '这两项', '研究', '中', '，', '对于', '癌症', '未', '影响', '到', '鳞', '状', '细胞', '的', '患者', '，', '接受', 'Alimta', '治疗', '的', '患者', '比', '接受', '对照', '药物', '治疗', '的', '患者', '存活', '时间', '更长', '。'], ['相反', '，', '癌症', '影响', '鳞状', '细胞', '的', '患者', '如果', '接受', 'Alimta', '治疗', '则', '存活', '时间', '较', '短', '。'], ['kalgebra', '是', '一个', '基于', '内容', '标记', 'MathML', '语言', '的', '数学', '计算器', '。'], ['现在', '它', '能够', '进行', '简单', '的', 'MathML', '运算', '（', '算术', '和', '逻辑', '）', '以及', '表示', '2D', '和', '3D', '图形', '。'], ['实际上', '，', '不', '需要', '了解', 'MathML', '就', '可以', '使用', 'kalgebra', '。'], ['kalgebra', '是', '一个', '基于', 'MathML', '的', '图形', '计算器', '。'], ['尽管', '它', '最初', '是', '面向', 'MathML', '的', '，', '但', '现在', '任何', '具有', '少量', '数学知识', '的', '人', '都', '可以', '使用', '它', '。'], ['这是', 'kalgebra', '主', '窗口', '的', '屏幕', '截图'], ['kalgebra', '主', '窗口'], ['kalgebra', '主', '窗口', '由', '一个', '控制台', '选项卡', '、', '一个二维', '图形', '选项卡', '、', '一个三维', '图形', '选项卡', '和', '一个', '词典', '选项卡', '组成', '。'], ['在', '这些', '选项卡', '下面', '，', '您', '将', '看到', '一个', '输入', '字', '段', '，', '您', '可以', '用', '它', '来', '输入', '函数', '或', '进行', '计算', '。'], ['如果', '我们', '想', '了解', '它', '是', '如何', '工作', '的', '，', '我们', '能', '做', '的', '最好', '的', '事情', '就是', '意识', '到', '我们', '的', '输入', '正在', '转换成', 'MathML', '，', '尽管', '没有', '必要', '了解', 'MathML', '。'], ['我', '的', '语法', '基本上', '是', '基于', '常识', '的', '，', '对于', '任何人', '来说', '这', '都', '应该', '不难', '。'], ['我', '仔细', '研究', '了', 'maxima', '和', 'maple', '的', '语法', '，', '发现', '它们', '看起来', '非常', '相似', '。'], ['+-', '*', '/', '：', '加', '、', '减', '、', '乘', '、', '除', '。'], ['^', '，', '*', '*', '：', '力量', '，', '你', '可以', '同时', '使用', '它们', '。'], ['也', '可以', '使用', 'unicode', '²', '字符', '。'], ['权力', '也', '是', '建立', '根基', '的', '一种', '方法', '。'], ['-', 'gt', '：', '这', '是', '在', '函数', '中', '指定', '有', '界', '变量', '的', '方法', '。'], ['（', '）', '：', '用于', '指定', '较', '高', '的', '优先级', '。'], ['abc', '(', 'params', ')', '：', '当', '解析器', '找到', '一个', '函数', '时', '，', '它会', '检查', 'abc', '是否是', '一个', '运算符', '。'], ['如果', '是', '，', '它', '将', '被', '视为', '运算符', '，', '如果', '不是', '，', '它', '将', '被', '视为', '用户', '函数', '。'], ['：', '=', '：', '用于', '定义', '一个', '变量值', '。'], ['？', '：', '分段', '条件', '定义', '。'], ['我们', '可以', '在', 'kalgebra', '中', '定义', '条件', '运算', '的', '方式', '是', '分段', '方式', '。'], ['如果', '我们', '在', '?', '之前', '引入', '条件', '，', '则', '仅', '当', '条件', '为', '真时', '才', '会', '使用', '此', '条件', '，', '如果', '发现', '没有', '任何', '条件', '的', '?', '，', '它', '将', '进入', '最后', '一个', '实例', '。'], ['{', '}', '：', 'MathML', '容器', '。'], ['它', '可', '用于', '定义', '一个', '容器', '。'], ['主要', '用于', '分段', '工作', '。'], ['现在', '您', '可能', '会', '问', '我', '，', '用户', '为什么', '要', '介意', 'MathML', '？'], ['这', '很', '简单', '。', '有', '了', '它', '，', '我们', '就', '可以', '操作', 'cos', '(', ')', '、', 'sin', '(', ')', '等', '函数', '，', '以及', '任何', '其他', '三角函数', '、', 'sum', '(', ')', '或', 'product', '(', ')', '。'], ['不管', '是', '哪种', '类型', '。'], ['我们', '可以', '使用', 'plus', '(', ')', '、', 'times', '(', ')', '以及', '所有', '带有', '其', '运算符', '的', '函数', '。'], ['kalgebra', '的', '控制台', '可', '用作', '计算器', '。'], ['这里', '有', '一个', '已', '声明', '变量', '的', '列表', '。'], ['通过', '双击', '它们', '，', '您', '将', '看到', '一个', '对话框', '，', '您', '可以', '更改', '它们', '的', '值', '（', '这', '只是', '一种', '欺骗', '日志', '的', '方法', '）', '。'], ['每次', '输入', '一个', '表达式', '时', '，', '“', 'ans', '”', '变量', '的', '值', '都', '会', '改变', '为', '最后', '一个', '结果', '。'], ['Ctrl', 'N', '新窗口'], ['刷新', '日志', '。'], ['Ctrl', 'L', '加载', '脚本'], ['按', '顺序', '执行', '文件', '中', '的', '指令', '。'], ['如果', '您', '想', '定义', '一些', '库', '或者', '恢复', '一些', '以前', '的', '工作', '，', '那', '就', '太好了', '。'], ['Ctrl', 'G', '保存', '脚本'], ['保存', '您', '自会话', '开始', '以来', '键入', '的', '指令', '，', '以便', '能够', '重复使用', '。'], ['生成', '文本文件', '，', '因此', '使用', '任何', '文本编辑', '器', '（', '如', 'Kate', '）', '都', '可以', '轻松', '修复', '。'], ['Ctrl', 'S', '保存', '日志'], ['将', '所有', '结果', '的', '日志', '保存', '到', 'HTML', '文件', '中', '，', '以便', '打印', '或', '发布', '。'], ['Ctrl', 'Q', '退出'], ['关闭程序', '。'], ['要', '在', 'kalgebra', '上', '添加', '新', '的', '2D', '图形', '，', '您', '需要', '做', '的', '是', '转到', '“', '2D', '图形', '”', '选项卡', '，', '然后', '单击', '“', '添加', '”', '选项卡', '以', '添加', '新', '函数', '。'], ['然后', '你', '的', '焦点', '将', '转到', '输入', '文本框', '，', '你', '可以', '在', '其中', '输入', '你', '的', '函数', '。'], ['如果', '您', '想', '使用', '典型', '的', 'f', '(', 'x', ')', '函数', '，', '则', '无需', '指定', '它', '。'], ['如果', '您', '已经', '输入', '该', '功能', '请单击', '“', '确定', '”', '按钮', '以', '在', '主', '窗口', '中', '显示', '图表', '。'], ['您', '可以', '在', '同一', '视图', '上', '设置', '多个', '图表', '。'], ['当', '您', '处于', '列表', '模式', '时', '，', '只', '需', '使用', '添加', '按钮', '即可', '。'], ['您', '可以', '为', '每个', '图形', '设置', '其', '自己', '的', '颜色', '。'], ['该', '基金会', '最近', '参与', '组织', '了', '一次', '应对', '这一', '严峻', '挑战', '的', '会议', '。'], ['来自', '各', '主要', '利益', '群体', '的', '100', '多名', '参与者', '出席', '了', '会议', '，', '并', '就', '公共', '当局', '、', '社会', '伙伴', '、', '志愿者', '和', '社区', '组织', '以及', '服务', '用户', '等', '主要', '参与者', '的', '作用', '等', '问题', '进行', '了', '辩论', '。'], ['报告', '显示', '，', '尝试', '让', '用户', '参与', '服务', '规划', '的', '案例', '相对', '较', '少', '，', '但', '用户', '参与', '服务', '提供', '的', '情况', '却', '更为', '常见', '。'], ['还', '注意', '到', '公共', '福利', '发挥', '着', '各种', '不同', '的', '作用'], ['该', '基金会', '与', '欧盟委员会', '、', '西班牙', '社会', '事务部', '和', '加利西亚', '大', '区政府', '联合', '举办', '了', '一次', '以', '“', '社会', '排斥', '：', '公共', '福利', '服务', '面临', '的', '重大', '挑战', '”', '为', '主题', '的', '欧洲', '会议', '。'], ['作为', 'EPOC', '项目', '的', '一部分', '，', '该', '基金会', '最近', '发布', '了', '一项', '比较', '研究', '，', '该', '项目', '评估', '了', '直接参与', '在', '多', '大程度', '上', '可以', '使', '工作', '人性化', '同时', '提高', '盈利', '能力', '。'], ['该', '研究', '基于', '对', '来自', '欧洲', '15', '个', '国家', '的', '国家级', '高峰', '组织', '的', '代表', '社会', '伙伴', '高级官员', '进行', '的', '195', '次', '个人', '访谈', '。'], ['作为', '重要', '的', '工业部门', '，', '金属', '工业', '和', '银行业', '也', '被', '纳入', '其中', '。'], ['社会', '排斥', '会议', '的', '主要', '发言人', '有', '（', '从左到右', '）', '欧盟委员会', '就业', '、', '劳资关系', '和', '社会', '事务司', '的', '克里斯蒂娜', '·', '洛罗', '（', 'Cristina', 'Louro', '）', '、', '欧洲议会', '议员', '、', '地区', '高级', '委员会', '委员', '费尔南多', '·', '戈麦斯', '（', 'Fernando', 'Gomes', '）', '、', '欧洲议会', '议员', '、', '欧洲议会', '副', '主席', '何塞', '·', '玛丽亚', '·', '吉尔', '-', '罗夫', '莱斯', '（', 'Jos', 'é', 'Maria', 'Gil', '-', 'Robles', '）', '和', '经济', '和', '社会', '委员会', '委员', '约翰', '·', '卡罗尔', '（', 'John', 'Carroll', '）', '。'], ['案例', '研究', '每', '一份', '国家', '报告', '都', '包含', '25', '至', '30', '项', '举措', '，', '这些', '举措', '最好', '地', '介绍', '了', '改善', '工作', '地点', '和', '社区', '中', '老龄', '工人', '的', '招聘', '、', '培训', '和', '发展', '的', '政策', '和', '实践', '。'], ['对于', '每个', '国家', '，', '我们', '选取', '了', '两到', '三个', '举措', '进行', '进一步', '深入', '的', '案例', '研究', '。'], ['这些', '案例', '研究', '分析', '了', '这些', '举措', '的', '背景', '、', '它们', '对', '就业', '模式', '和', '工作', '组织', '的', '影响', '，', '并', '评估', '了', '这些', '举措', '的', '好处', '和', '问题', '。'], ['我们', '还', '对', '主要', '人员', '进行', '了', '走访', '和', '访谈', '。'], ['这些', '国家', '研究', '将', '形成', '一份', '综合', '整体', '实践', '的', '欧洲', '报告', '的', '基础', '。'], ['该', '报告', '及', '一系列', '举措', '案例', '将', '于', '1996', '年', '出版', '，', '并', '为', '1996', '年', '秋季', '举行', '的', '会议', '提供', '背景', '。'], ['该', '基金会', '的', '目标', '是', '记录', '求职', '招聘', '和', '培训', '中', '年龄', '障碍', '的', '特点', '并', '分析', '其', '原因', '。'], ['社会', '伙伴', '的', '观点', '也', '正在', '接受', '审查', ',', '其中', '特别', '关注', '消除', '年龄', '障碍', '的', '建议', '.'], ['第三', '，', '该', '项目', '记录', '并', '评估', '了', '公共', '和', '私营部门', '消除', '年龄', '障碍', '（', '特别', '是', '针对', '老年', '工人', '）', '的', '举措', '。'], ['为了', '寻求', '提前退休', '和', '裁员', '的', '替代', '方案', '，', '该', '项目', '主要', '关注', '老年', '工人', '的', '保留', '、', '重返', '社会', '和', '再', '培训', '。'], ['研究', '了', '工人', '的', '性别', '和', '种族', '背景', '以及', '这些', '与', '年龄', '歧视', '的', '关系', '。'], ['该', '项目', '还', '考虑', '采取', '举措', '，', '打击', '农村', '地区', '和', '中小企业', '中', '的', '年龄', '歧视', '。'], ['此', '项目', '覆盖', '七个', '成员国', '：', '比利时', '、', '法国', '、', '德国', '、', '希腊', '、', '意大利', '、', '荷兰', '和', '英国', '。'], ['本', '文件', '是', '欧洲', '公共', '评估', '报告', '的', '摘要', '。'], ['它', '解释', '了', '兽药', '委员会', '(', 'CVMP', ')', '如何', '评估所', '进行', '的', '研究', '，', '以', '得出', '关于', '如何', '使用', '该', '药物', '的', '建议', '。'], ['Cerenia', '是', '什么', '？'], ['Cerenia', '含有', '活性', '物质', '马罗匹坦', '，', '有', '片剂', '和', '注射液', '两种', '形式', '。'], ['药片', '呈淡', '橙色', '，', '两面', '都', '有', '刻痕', '，', '可以', '切成', '两半', '。'], ['每片', '药片', '一面', '标有', '辉瑞', '标志', '，', '另一面', '标有', '字母', 'MPT', '和', '马罗匹坦', '的', '数量', '。'], ['Cerenia', '用于', '什么', '？'], ['Cerenia', '是', '一种', '止吐药', '，', '这', '意味着', '它', '可以', '停止', '呕吐', '。'], ['它', '用于', '防止', '狗', '出现', '呕吐', '，', '例如', '化疗', '引起', '的', '呕吐', '（', '用于', '治疗', '癌症', '的', '药物', '，', '其中', '一些', '已知', '会', '引起', '呕吐', '）', '。'], ['与', '其他', '兽医', '治疗', '或', '特殊', '饮食', '等', '支持', '措施', '相结合', '，', 'Cerenia', '也', '可', '用于', '治疗', '呕吐', '（', '注射', '或', '注射', '后', '服用', '药片', '）', '。'], ['为了', '达到', '这些', '目的', '，', 'Cerenia', '最', '多', '可以', '服用', '五天'], ['Cerenia', '如何', '发挥作用', '？'], ['Cerenia', '可', '阻断', '神经', '激肽', '1', '(', 'NK1', ')', '受体', '，', '该', '受体', '在', '中枢神经', '系统', '中起', '作用', '。'], ['如何', '对', 'Cerenia', '进行', '研究', '？'], ['在', '欧洲', '多个', '国家', '和', '美国', '的', '兽医', '诊所', '中', '，', '对', '实验', '犬', '和', '动物', '患者', '进行', '了', '大量', '有关', 'Cerenia', '的', '研究', '。'], ['Cerenia', '在', '研究', '期间', '表现', '出', '了', '什么', '益处', '？'], ['研究', '结果表明', '，', 'Cerenia', '比', '安慰剂', '更', '有效', '：', '无论是', '在', '治疗', '还是', '预防', '呕吐', '方面', '，', '服用', '该', '药物', '的', '狗', '的', '呕吐', '次数', '都', '比', '服用', '安慰剂', '的', '狗', '少', '。'], ['治疗', '呕吐', '的', '狗', '应该', '从', '注射', '开始', '，', '因为', '呕吐', '的', '动物', '可能', '无法', '吞下', '药片', '（', '因为', '它们', '可能', '会', '再次', '将', '完整', '的', '药片', '吐出来', '）', '。'], ['为了', '进行', '后续', '治疗', '，', '动物', '主人', '可以', '给', '狗', '服用', '药片', '。'], ['此外', '，', '呕吐', '的', '治疗', '应', '与', '其他', '支持', '措施', '或', '其他', '兽医', '疗法', '一起', '进行', '，', '同时', '解决', '呕吐', '的', '根本原因', '。'], ['Cerenia', '有', '哪些', '风险', '？'], ['当', '每日', '服用', '剂量', '高', '达', '推荐', '剂量', '的', '5', '倍', '并且', '持续', '较长时间', '（', '高', '达', '建议', '最大', '治疗', '时间', '的', '3', '倍', '）', '时', '，', 'Cerenia', '通常', '耐受性', '良好', '。'], ['给', '动物', '注射', '药物', '或者', '接触', '动物', '的', '人', '需要', '注意', '什么', '？']]\n"
     ]
    }
   ],
   "source": [
    "# combine the tokens in the sentence \n",
    "for x in range(len(trans_sents)):\n",
    "    trans_sents[x] = \" \".join(trans_sents[x])"
   ],
   "metadata": {
    "collapsed": false,
    "ExecuteTime": {
     "end_time": "2024-11-26T00:26:05.410691Z",
     "start_time": "2024-11-26T00:26:05.385013Z"
    }
   },
   "id": "3e8922c33c8838d1"
  },
  {
   "cell_type": "markdown",
   "source": [
    "# EVALUATE QUALITY\n",
    "This can only be done for those languages in which you have gold translations. We have provided gold translations for Spanish, Italian, Chinese, Bengali, and Farsi."
   ],
   "metadata": {
    "collapsed": false
   },
   "id": "747b3fcf3d8e292b"
  },
  {
   "cell_type": "code",
   "execution_count": 251,
   "outputs": [],
   "source": [
    "gold_df = pd.read_csv(GOLD_FILE,sep=\"\\t\")\n",
    "gold_sents = gold_df[\"Sentence\"].tolist()"
   ],
   "metadata": {
    "collapsed": false,
    "ExecuteTime": {
     "end_time": "2024-11-25T23:58:58.643859Z",
     "start_time": "2024-11-25T23:58:58.630465Z"
    }
   },
   "id": "ad1424239b432ab4"
  },
  {
   "cell_type": "code",
   "execution_count": 290,
   "outputs": [],
   "source": [
    "def calculate_bleu(reference_sentences, candidate_sentences):\n",
    "    \"\"\"\n",
    "    Calculate the BLEU score between two lists of sentences.\n",
    "\n",
    "    :param reference_sentences: List of reference sentences\n",
    "    :param candidate_sentences: List of candidate sentences\n",
    "    :return: BLEU score\n",
    "    \"\"\"\n",
    "    references = [[ref.split()] for ref in reference_sentences]\n",
    "    candidates = [cand.split() for cand in candidate_sentences]\n",
    "    \n",
    "    # Calculate sentence-level BLEU scores\n",
    "    sentence_bleu_scores = [sentence_bleu( ref,cand, weights=(0.25,0.25,0.25,0.25)) for ref, cand in zip(references, candidates)]\n",
    "    \n",
    "    # Calculate corpus-level BLEU score\n",
    "    corpus_bleu_score = corpus_bleu(references, candidates, weights=(0.25,0.25,0.25,0.25))\n",
    "    \n",
    "    return sentence_bleu_scores, corpus_bleu_score\n",
    "\n",
    "\n"
   ],
   "metadata": {
    "collapsed": false,
    "ExecuteTime": {
     "end_time": "2024-11-26T00:26:13.604106Z",
     "start_time": "2024-11-26T00:26:13.596565Z"
    }
   },
   "id": "652f5b8dd68761cb"
  },
  {
   "cell_type": "code",
   "execution_count": 291,
   "outputs": [
    {
     "name": "stdout",
     "output_type": "stream",
     "text": [
      "['本 文件 是 欧洲 公共 评估 报告 ( EPAR ) 的 摘要 。 ', '它 解释 了 人 用 药品 委员会 ( CHMP ) 如何 评估 所 进行 的 研究 ， 以 得出 关于 如何 使用 药物 的 建议 。 ', '如果 您 需要 更 多 有关 您 的 医疗 状况 或 治疗 的 信息 ， 请 阅读 药品 说明书 （ 也 是 EPAR 的 一部分 ） 或 联系 您 的 医生 或 药剂师 。 ', '如果 您 想 了解 有关 CHMP 建议 的 更 多 信息 ， 请 阅读 科学 讨论 （ 也 是 EPAR 的 一部分 ） 。 ', '什么 是 Alimta ？ ', 'Alimta 是 一 种 粉末 ， 可 制成 输液 溶液 （ 滴入 静脉 ） 。 ', '它 含有 活性 成分 培美 曲塞 。 ', 'Alimta 的 用途 是 什么 ？ ', 'Alimta 用于 治疗 两 种 类型 的 癌症 ： 胸膜 间 皮 瘤 （ 肺部 内膜 癌症 ， 通常 由 接触 石棉 引起 ） 。 ', '当 癌症 无法切除 （ 不能 仅 通过 手术 切除 ） 且 为 恶性 （ 已经 扩散 或 可能 轻易 扩散 到 身体 其他 部位 ） ， 且 之前 未 接受 过 化疗 （ 抗癌 药物 ） 的 晚期 或 转移 性 非 小 细胞 肺癌 患者 （ 未 影响 鳞 状 细胞 ） 时 ， Alimta 与 顺 铂 （ 另 一 种 抗癌 药物 ） 一起 使用 。 ', '对于 以前 未 接受 过 治疗 的 患者 ， Alimta 与 顺铂 联合 使用 ； 对于 以前 接受 过 其他 类型 化疗 的 患者 ， Alimta 可 单独 使用 。 ', '这 种 药 必须 凭 处方 才 能 买到 。 ', 'Alimta 如何 使用 ？ ', 'Alimta 只 能 在 具有 抗癌 化疗 使用 资质 的 医生 的 监督 下 使用 。 ', 'Alimta 的 推荐 剂量 为 每 平方米 体表 面积 500 毫克 （ 根据 患者 的 身高 和 体重 计算 ） 。 ', '每 三 周 进行 一 次 静脉 输 注 ， 每次 持续 10 分钟 。 ', '为了 减少 副作用 ， 患者 在 使用 Alimta 治疗 期间 应该 服用 皮质类固醇 和 叶酸 （ 一 种 维生素 ） ， 并 注射 维生素 B12 。 ', '当 Alimta 与 顺 铂 一起 服用 时 ， 还 应 在 顺 铂 给 药 之前 或 之后 给予 止吐 药 （ 以 防止 呕吐 ） 和 液体 （ 以 防止 脱水 ） 。 ', '对于 血细胞 计数 异常 或 出现 其他 副作用 的 患者 ， 应 推迟 或 停止 治疗 ， 或 减少 剂量 。 ', '不 建议 患有 中度 或 重度 肾脏 疾病 的 患者 使用 Alimta 。 ', '欲 了解 更 多 信息 ， 请 参阅 产品 特性 摘要 （ 也 是 EPAR 的 一部分 ） 。 ', 'Alimta 如何 发挥 作用 ？ ', 'Alimta 中 的 活性 成分 培美曲塞 是 一 种 细胞 毒 药物 （ 杀死 正在 分裂 的 细胞 ， 如 癌细胞 的 药物 ） ， 属于 抗代谢药 类 。 ', '在 体内 ， 培美 曲 塞 被 转化 成 活性 形式 ， 从而 抑制 参与 生成 核苷酸 （ DNA 和 RNA 的 组成部分 ， 即 细胞 的 遗传物质 ） 的 酶 的 活性 。 ', 'Alimta 的 研究 进展 如何 ？ ', '为了 治疗 恶性 胸膜间 皮 瘤 ， Alimta 已 在 一 项 主要 研究 中 对 456 名 之前 未 接受 过 化疗 的 患者 进行 了 研究 。 ', '比较 了 Alimta 与 顺 铂 联合 治疗 与 单独 使用 顺 铂 治疗 的 效果 。 ', '在 非 小 细胞 肺癌 的 治疗 方面 ， 一 项 涉及 571 名 既往 接受 过 化疗 的 局部 晚期 或 转移性 疾病 患者 的 研究 比较 了 Alimta 与 多西他赛 （ 另 一 种 抗癌 药物 ） 的 效果 。 ', '在 一 项 涉及 1725 名 过去 未 接受 过 化疗 的 肺癌 患者 的 研究 中 ， 阿利泰 还 与 吉西他滨 ( 另 一 种 抗癌 药 ) 进行 了 比较 ， 两者 都 与 顺 铂 联合 使用 。 ', '在 这 三 项 研究 中 ， 疗效 的 主要 衡量标准 是 患者 存活 的 时间 。 ', 'Alimta 在 研究 期间 显示出 了 什么 益处 ？ ', 'Alimta 延长 了 恶性 胸膜间 皮 瘤 患者 的 生存 时间 。 ', '接受 Alimta 和 顺 铂 治疗 的 患者 平均 生存 为 12.1 个 月 ， 然而 仅 接受 顺铂 治疗 的 患者 平均 为 9.3 个 月 。 ', '在 治疗 非 小 细胞 肺癌 患者 方面 ， Alimta 与 对照 药物 一样 有效 。 ', '对于 过去 接受 过 化疗 的 患者 ， 使用 Alimta 治疗 后 平均 生存 期 为 8.3 个 月 ， 而 使用 多西他赛 治疗 后 平均 生存 期 为 7.9 个 月 。 ', '对于 既往 未 接受 过 化疗 的 患者 ， 两 组 平均 生存 期 均 为 10.3 个 月 。 ', '然而 ， 在 这 两 项 研究 中 ， 对于 癌症 未 影响 到 鳞 状 细胞 的 患者 ， 接受 Alimta 治疗 的 患者 比 接受 对照 药物 治疗 的 患者 存活 时间 更 长 。 ', '相反 ， 癌症 影响 鳞 状 细胞 的 患者 如果 接受 Alimta 治疗 则 存活 时间 较 短 。 ', 'kalgebra 是 一个 基于 内容 标记 MathML 语言 的 数学 计算器 。 ', '现在 它 能够 进行 简单 的 MathML 运算 （ 算术的 和 逻辑的 ） 以及 表示 2D 和 3D 图形 。 ', '实际上 ， 不 需要 了解 MathML 就 可以 使用 kalgebra 。 ', 'kalgebra 是 一个 基于 MathML 的 图形 计算器 。 ', '尽管 它 最初 是 面向 MathML 的 ， 但是 现在 任何 具有 少量 数学 知识 的 人 都 可以 使用 它 。 ', '这 是 kalgebra 主 窗口 的 屏幕截图 ', 'kalgebra 主窗口 ', 'kalgebra 主窗口 由 一 个 控制台 选项 卡 、 一 个 二维 图形 选项 卡 、 一个 三维 图形 选项 卡 和 一 个 词典 选项 卡 组成 。 ', '在 这些 选项卡 下面 ， 您 将 看到 一 个 输入 字段 ， 您 可以 用 它 来 输入 函数 或 进行 计算 。 ', '如果 我们 想 了解 它 是 如何 工作 的 ， 我们 能 做 的 最 好 的 事情 就是 意识到 我们 的 输入 正在 转换 成 MathML ， 尽管 没有 必要 了解 MathML 。 ', '我 的 语法 基本上 是 基于 常识 的 ， 对于 任何 人 来说 这 都 应该 不 难 。 ', '我 仔细 研究 了 maxima 和 maple 的 语法 ， 发现 它们 看起来 非常 相似 。 ', '#ERROR! - * / ： 加 、 减 、 乘 、 除 。 ', '^ ， * * ： 幂 ， 你 可以 同时 使用 它们 。 ', '也 可以 使用 unicode² 字符 。 ', '幂 也是 建立 根 的 一 种 方法 。 ', '- gt ： 这 是 在 函数 中 指定 有 界 变量 的 方法 。 ', '（ ） ： 用于 指定 较 高 的 优先级 。 ', 'abc ( params ) ： 当 解析器 找到 一个 函数 时 ， 它 会 检查 abc 是否 是 一个 运算 符 。 ', '如果 是 ， 它 将 被 视为 运算符 ， 如果 不是 ， 它 将 被 视为 用户 函数 。 ', '： #ERROR! ： 用于 定义 一个 变量 值 。 ', '？ ： 分段 条件 定义 。 ', '我们 可以 在 kalgebra 中 定义 条件 运算 的 方式 是 分段 方式 。 ', '如果 我们 在 ? 之前 引入 条件 ， 则 仅 当 条件 为 真 时 才 会 使用 此 条件 ， 如果 发现 没有 任何 条件 的 ? ， 它 将 进入 最后 一 个 实例 。 ', '{ } ： MathML 容器 。 ', '它 可 用于 定义 一个 容器 。 ', '主要 用于 分段 工作 。 ', '现在 您 可能 会 问 我 ， 用户 为什么 要 介意 MathML ？ ', '这 很 简单 。 有 了 它 ， 我们 就 可以 操作 cos ( ) 、 sin ( ) 等 函数 ， 以及 任何 其他 三角 函数 、 sum ( ) 或 product ( ) 。 ', '不管 是 哪 种 类型 。 ', '我们 可以 使用 plus ( ) 、 times ( ) 以及 所有 带有 其 运算符 的 函数 。 ', 'kalgebra 的 控制台 可 用作 计算器 。 ', '这里 有 一个 已 声明 变量 的 列表 。 ', '通过 双击 它们 ， 您 将 看到 一 个 对话框 ， 您 可以 更改 它们 的 值 （ 这 只 是 一 种 欺骗 日志 的 方法 ） 。 ', '每次 输入 表达式 时 ， “ ” 和 “ ” 变量 值 都会 更改 为 最后 一个 结果 。 ', 'Ctrl N 新 窗口 ', '刷新 日志 。 ', 'Ctrl L 加载 脚本 ', '按 顺序 执行 文件 中 的 指令 。 ', '如果 您 想 定义 一些 库 或者 恢复 一些 以前 的 工作 ， 那 就 太 好 了 。 ', 'Ctrl G 保存 脚本 ', '保存 您 自 会话 开始 以来 键入 的 指令 ， 以便 能够 重复使用 。 ', '生成 文本 文件 ， 因此 使用 任何 文本 编辑器 （ 如 Kate ） 都 可以 轻松 修复 。 ', 'Ctrl S 保存 日志 ', '将 所有 结果 的 日志 保存 到 HTML 文件 中 ， 以便 打印 或 发布 。 ', 'Ctrl Q 退出 ', '关闭 程序 。 ', '要 在 kalgebra 上 添加 新 的 2D 图形 ， 您 需要 做 的 是 转到 “ 2D 图形 ” 选项 ， 然后 单击 “ 添加 ” 选项 卡 以 添加 新 函数 。 ', '然后 你 的 焦点 将 转到 输入 文本 框 ， 你 可以 在 其中 输入 你 的 函数 。 ', '如果 您 想 使用 典型 的 f ( x ) 函数 ， 则 无需 指定 它 。 ', '如果 您 已经 输入 该 功能 请 单击 “ 确定 ” 按钮 以 在 主窗口 中 显示 图表 。 ', '您 可以 在 同一 视图 上 设置 多 个 图表 。 ', '当 您 处于 列表 模式 时 ， 只 需 使用 添加 按钮 即可 。 ', '您 可以 为 每 个 图形 设置 其 自己 的 颜色 。 ', '该 基金会 最近 参与 组织 了 一 次 应对 这 一 严峻 挑战 的 会议 。 ', '来自 各 主要 利益 群体 的 100 多 名 参与者 出席 了 会议 ， 并 就 公共 当局 、 社会 伙伴 、 志愿者 和 社区 组织 以及 服务 用户 等 主要 参与者 的 作用 等 问题 进行 了 辩论 。 ', '报告 显示 ， 尝试 让 用户 参与 服务 规划 的 案例 相对 较 少 ， 但是 用户 参与 服务 提供 的 情况 却 更为 常见 。 ', '还 注意 到 公共 福利 发挥 着 各种 不同 的 作用 ', '该 基金会 与 欧盟 委员会 、 西班牙 社会 事务部 和 加利西亚 大区 政府 联合 举办 了 一 次 以 “ 社会 排斥 ： 公共 福利 服务 面临 的 重大 挑战 ” 为 主题 的 欧洲 会议 。 ', '作为 EPOC 项目 的 一部分 ， 该 基金会 最近 发布 了 一 项 比较 研究 ， 该 项目 评估 了 直接 参与 在 多 大 程度 上 可以 使 工作 人性化 同时 提高 盈利 能力 。 ', '该 研究 基于 对 来自 欧洲 15 个 国家 的 国家级 高峰 组织 的 代表 社会 伙伴 高级 官员 进行 的 195 次 个人 访谈 。 ', '作为 重要 的 工业 部门 ， 金属 工业 和 银行业 也 被 纳入 其中 。 ', '社会 排斥 会议 的 主要 发言人 有 （ 从 左 到 右 ） 欧盟 委员会 就业 、 劳资 关系 和 社会 事务 司 的 克里斯蒂娜·洛罗 ( Cristina Louro ) 、 欧洲 议会 议员 、 地区 高级 委员会 委员 费尔南多·戈麦斯 ( Fernando Gomes ) 、 欧洲 议会 议员 、 欧洲 议会 副主席 何塞·玛丽亚·吉尔·罗夫莱斯 ( José Maria Gil - Robles ) 和 经济 和 社会 委员会 委员 约翰·卡罗尔 ( John Carroll ) 。 ', '案例 研究 每 一 份 国家 报告 都 包含 25 至 30 项 举措 ， 这些 举措 最 好 地 介绍 了 改善 工作 地点 和 社区 中 老龄 工人 的 招聘 、 培训 和 发展 的 政策 和 实践 。 ', '对于 每个 国家 ， 我们 选取 了 两 到 三 个 举措 进行 进一步 深入的 案例 研究 。 ', '这些 案例 研究 分析 了 这些 举措 的 背景 、 它们 对 就业 模式 和 工作 组织 的 影响 ， 并 评估 了 这些 举措 的 好处 和 问题 。 ', '我们 还 对 主要 人员 进行 了 走访 和 访谈 。 ', '这些 国家 研究 将 形成 一 份 综合 整体 实践 的 欧洲 报告 的 基础 。 ', '该 报告 及 一系列 举措 案例 将 于 1996 年 出版 ， 并 为 1996 年 秋季 举行 的 会议 提供 背景 。 ', '该 基金会 的 目标 是 记录 求职 招聘 和 培训 中 年龄 障碍 的 特点 并 分析 其 原因 。 ', '社会 伙伴 的 观点 也 正在 接受 审查 , 其中 特别 关注 消除 年龄 障碍 的 建议 . ', '第 三 ， 该 项目 记录 并 评估 了 公共 和 私营 部门 消除 年龄 障碍 （ 特别 是 针对 老年 工人 ） 的 举措 。 ', '为了 寻求 提前 退休 和 裁员 的 替代 方案 ， 该 项目 主要 关注 老年 工人 的 保留 、 重返社会 和 再培训 。 ', '研究 了 工人 的 性别 和 种族 背景 以及 这些 与 年龄 歧视 的 关系 。 ', '该 项目 还 考虑 采取 举措 ， 打击 农村 地区 和 中小 企业 中 的 年龄 歧视 。 ', '此 项目 覆盖 七 个 成员国 ： 比利时 、 法国 、 德国 、 希腊 、 意大利 、 荷兰 和 英国 。 ', '本 文件 是 欧洲 公共 评估 报告 的 摘要 。 ', '它 解释 了 兽 药 委员会 ( CVMP ) 如何 评估 所 进行 的 研究 ， 以 得出 关于 如何 使用 该 药物 的 建议 。 ', 'Cerenia 是 什么 ？ ', 'Cerenia 含有 活性 物质 马罗匹坦 ， 有片剂 和 注射液 两 种 形式 。 ', '药片 呈 淡 橙色 ， 两面 都 有 刻痕 ， 可以 切成 两 半 。 ', '每 片 药片 一面 标有 辉瑞 标志 ， 另一面 标有 字母 MPT 和 马罗匹坦 的 数量 。 ', 'Cerenia 用于 什么 ？ ', 'Cerenia 是 一 种 止吐药 ， 这 意味 着 它 可以 停止 呕吐 。 ', '它 用于 防止 狗 出现 呕吐 ， 例如 化疗 引起 的 呕吐 （ 用于 治疗 癌症 的 药物 ， 其中 一些 已知 会 引起 呕吐 ） 。 ', '与 其他 兽医 治疗 或 特殊 饮食 等 支持 措施 相 结合 ， Cerenia 也 可 用于 治疗 呕吐 （ 注射 或 注射 后 服用 药片 ） 。 ', '为了 达到 这些 目的 ， Cerenia 最多 可以 服用 五 天 ', 'Cerenia 如何 发挥 作用 ？ ', 'Cerenia 可 阻断 神经 激肽 1 ( NK1 ) 受体 ， 该 受体 在 中枢神经 系统 中 起作用 。 ', '如何 对 Cerenia 进行 研究 ？ ', '在 欧洲 多 个 国家 和 美国 的 兽医 诊所 中 ， 对 实验 犬 和 动物 患者 进行 了 大量 有关 Cerenia 的 研究 。 ', 'Cerenia 在 研究 期间 表现 出 了 什么 益处 ？ ', '研究 结果 表明 ， Cerenia 比 安慰剂 更 有效 ： 无论 是 在 治疗 还是 预防 呕吐 方面 ， 服用 该 药物 的 狗 的 呕吐 次数 都 比 服用 安慰剂 的 狗 少 。 ', '治疗 呕吐 的 狗 应该 从 注射 开始 ， 因为 呕吐 的 动物 可能 没有 方法 吞下 药片 （ 因为 它们 可能 会 再次 将 完整 的 药片 吐 出来 ） 。 ', '为了 进行 后续 治疗 ， 动物 主人 可以 给 狗 服用 药片 。 ', '此外 ， 呕吐 的 治疗 应 与 其他 支持 措施 或 其他 兽医 疗法 一起 进行 ， 同时 解决 呕吐 的 根本 原因 。 ', 'Cerenia 有 哪些 风险 ？ ', '当 每日 服用 剂量 高达 推荐 剂量 的 5 倍 并且 持续 较 长 时间 （ 高达 建议 最大 治疗 时间 的 3 倍 ） 时 ， Cerenia 通常 耐受性 良好 。 ', '给 动物 注射 药物 或者 接触 动物 的 人 需要 注意 什么 ？ '] ['本 文件 是 欧洲 公共 评估 报告 ( EPAR ) 的 摘要 。', '它 解释 了 人用 药品 委员会 ( CHMP ) 如何 评估所 进行 的 研究 ， 以 得出 关于 如何 使用 药物 的 建议 。', '如果 您 需要 更 多 有关 您 的 医疗 状况 或 治疗 的 信息 ， 请 阅读 药品 说明书 （ 也 是 EPAR 的 一部分 ） 或 联系 您 的 医生 或 药剂师 。', '如果 您 想 了解 有关 CHMP 建议 的 更 多 信息 ， 请 阅读 科学 讨论 （ 也 是 EPAR 的 一部分 ） 。', '什么 是 Alimta ？', 'Alimta 是 一种 粉末 ， 可 制成 输液 溶液 （ 滴入 静脉 ） 。', '它 含有 活性 成分 培美曲 塞 。', 'Alimta 的 用途 是 什么 ？', 'Alimta 用于 治疗 两种 类型 的 癌症 ： 胸膜 间皮瘤 （ 肺部 内膜 癌症 ， 通常 由 接触 石棉 引起 ） 。', '当 癌症 无法 切除 （ 不能 仅 通过 手术 切除 ） 且 为 恶性 （ 已经 扩散 或 可能 轻易 扩散 到 身体 其他 部位 ） ， 且 之前 未 接受 过 化疗 （ 抗癌 药物 ） 的 晚期 或 转移性 非小 细胞 肺癌 患者 （ 未 影响 鳞状 细胞 ） 时 ， Alimta 与 顺 铂 （ 另 一种 抗癌 药物 ） 一起 使用 。', '对于 以前 未 接受 过 治疗 的 患者 ， Alimta 与 顺 铂 联合 使用 ； 对于 以前 接受 过 其他 类型 化疗 的 患者 ， Alimta 可 单独 使用 。', '这种 药 必须 凭处方 才能 买 到 。', 'Alimta 如何 使用 ？', 'Alimta 只能 在 具有 抗癌 化疗 使用 资质 的 医生 的 监督 下 使用 。', 'Alimta 的 推荐 剂量 为 每平方米 体表 面积 500 毫克 （ 根据 患者 的 身高 和 体重 计算 ） 。', '每 三周 进行 一次 静脉 输注 ， 每次 持续 10 分钟 。', '为了 减少 副作用 ， 患者 在 使用 Alimta 治疗 期间 应该 服用 皮质 类固醇 和 叶酸 （ 一种 维生素 ） ， 并 注射 维生素 B12 。', '当 Alimta 与 顺 铂 一起 服用 时 ， 还 应 在 顺 铂 给 药 之前 或 之后 给予 止吐药 （ 防止 呕吐 ） 和 液体 （ 防止 脱水 ） 。', '对于 血细胞 计数 异常 或 出现 其他 副作用 的 患者 ， 应 推迟 或 停止 治疗 ， 或 减少 剂量 。', '不 建议 患有 中度 或 重度 肾脏 疾病 的 患者 使用 Alimta 。', '欲了解 更 多 信息 ， 请参阅 产品 特性 摘要 （ 也 是 EPAR 的 一部分 ） 。', 'Alimta 如何 发挥作用 ？', 'Alimta 中 的 活性 成分 培美曲 塞 是 一种 细胞毒 药物 （ 杀死 正在 分裂 的 细胞 ， 如 癌细胞 的 药物 ） ， 属于 抗 代谢 药类 。', '在 体内 ， 培美曲 塞 被 转化成 活性 形式 ， 从而 抑制 参与 生成 核苷酸 （ DNA 和 RNA 的 组成部分 ， 即 细胞 的 遗传物质 ） 的 酶 的 活性 。', 'Alimta 的 研究进展 如何 ？', '为了 治疗 恶性 胸膜 间皮瘤 ， Alimta 已 在 一项 主要 研究 中 对 456 名 之前 未 接受 过 化疗 的 患者 进行 了 研究 。', '比较 了 Alimta 与 顺 铂 联合 治疗 与 单独 使用 顺铂 治疗 的 效果 。', '在 非 小 细胞 肺癌 的 治疗 方面 ， 一项 涉及 571 名 既往 接受 过 化疗 的 局部 晚期 或 转移性 疾病 患者 的 研究 比较 了 Alimta 与 多西 他赛 （ 另 一种 抗癌 药物 ） 的 效果 。', '在 一项 涉及 1725 名 过去 未 接受 过 化疗 的 肺癌 患者 的 研究 中 ， 阿利 泰 与 吉西 他 滨 ( 另 一种 抗癌药 ) 进行 了 比较 ， 两者 都 与 顺 铂 联合 使用 。', '在 这三项 研究 中 ， 疗效 的 主要 衡量标准 是 患者 存活 的 时间 。', 'Alimta 在 研究 期间 显示 出 了 什么 益处 ？', 'Alimta 延长 了 恶性 胸膜 间皮瘤 患者 的 生存 时间 。', '接受 Alimta 和顺 铂 治疗 的 患者 平均 生存期 为 12.1 个 月 ， 而仅 接受 顺铂 治疗 的 患者 平均 生存期 为 9.3 个 月 。', '在 治疗 非小 细胞 肺癌 患者 方面 ， Alimta 与 对照 药物 一样 有效 。', '对于 过去 接受 过 化疗 的 患者 ， 使用 Alimta 治疗 后 平均 生存期 为 8.3 个 月 ， 而 使用 多西 他赛 治疗 后 平均 生存期 为 7.9 个 月 。', '对于 既往 未 接受 过 化疗 的 患者 ， 两组 平均 生存期 均 为 10.3 个 月 。', '然而 ， 在 这两项 研究 中 ， 对于 癌症 未 影响 到 鳞 状 细胞 的 患者 ， 接受 Alimta 治疗 的 患者 比 接受 对照 药物 治疗 的 患者 存活 时间 更长 。', '相反 ， 癌症 影响 鳞状 细胞 的 患者 如果 接受 Alimta 治疗 则 存活 时间 较 短 。', 'kalgebra 是 一个 基于 内容 标记 MathML 语言 的 数学 计算器 。', '现在 它 能够 进行 简单 的 MathML 运算 （ 算术 和 逻辑 ） 以及 表示 2D 和 3D 图形 。', '实际上 ， 不 需要 了解 MathML 就 可以 使用 kalgebra 。', 'kalgebra 是 一个 基于 MathML 的 图形 计算器 。', '尽管 它 最初 是 面向 MathML 的 ， 但 现在 任何 具有 少量 数学知识 的 人 都 可以 使用 它 。', '这是 kalgebra 主 窗口 的 屏幕 截图', 'kalgebra 主 窗口', 'kalgebra 主 窗口 由 一个 控制台 选项卡 、 一个二维 图形 选项卡 、 一个三维 图形 选项卡 和 一个 词典 选项卡 组成 。', '在 这些 选项卡 下面 ， 您 将 看到 一个 输入 字 段 ， 您 可以 用 它 来 输入 函数 或 进行 计算 。', '如果 我们 想 了解 它 是 如何 工作 的 ， 我们 能 做 的 最好 的 事情 就是 意识 到 我们 的 输入 正在 转换成 MathML ， 尽管 没有 必要 了解 MathML 。', '我 的 语法 基本上 是 基于 常识 的 ， 对于 任何人 来说 这 都 应该 不难 。', '我 仔细 研究 了 maxima 和 maple 的 语法 ， 发现 它们 看起来 非常 相似 。', '+- * / ： 加 、 减 、 乘 、 除 。', '^ ， * * ： 力量 ， 你 可以 同时 使用 它们 。', '也 可以 使用 unicode ² 字符 。', '权力 也 是 建立 根基 的 一种 方法 。', '- gt ： 这 是 在 函数 中 指定 有 界 变量 的 方法 。', '（ ） ： 用于 指定 较 高 的 优先级 。', 'abc ( params ) ： 当 解析器 找到 一个 函数 时 ， 它会 检查 abc 是否是 一个 运算符 。', '如果 是 ， 它 将 被 视为 运算符 ， 如果 不是 ， 它 将 被 视为 用户 函数 。', '： = ： 用于 定义 一个 变量值 。', '？ ： 分段 条件 定义 。', '我们 可以 在 kalgebra 中 定义 条件 运算 的 方式 是 分段 方式 。', '如果 我们 在 ? 之前 引入 条件 ， 则 仅 当 条件 为 真时 才 会 使用 此 条件 ， 如果 发现 没有 任何 条件 的 ? ， 它 将 进入 最后 一个 实例 。', '{ } ： MathML 容器 。', '它 可 用于 定义 一个 容器 。', '主要 用于 分段 工作 。', '现在 您 可能 会 问 我 ， 用户 为什么 要 介意 MathML ？', '这 很 简单 。 有 了 它 ， 我们 就 可以 操作 cos ( ) 、 sin ( ) 等 函数 ， 以及 任何 其他 三角函数 、 sum ( ) 或 product ( ) 。', '不管 是 哪种 类型 。', '我们 可以 使用 plus ( ) 、 times ( ) 以及 所有 带有 其 运算符 的 函数 。', 'kalgebra 的 控制台 可 用作 计算器 。', '这里 有 一个 已 声明 变量 的 列表 。', '通过 双击 它们 ， 您 将 看到 一个 对话框 ， 您 可以 更改 它们 的 值 （ 这 只是 一种 欺骗 日志 的 方法 ） 。', '每次 输入 一个 表达式 时 ， “ ans ” 变量 的 值 都 会 改变 为 最后 一个 结果 。', 'Ctrl N 新窗口', '刷新 日志 。', 'Ctrl L 加载 脚本', '按 顺序 执行 文件 中 的 指令 。', '如果 您 想 定义 一些 库 或者 恢复 一些 以前 的 工作 ， 那 就 太好了 。', 'Ctrl G 保存 脚本', '保存 您 自会话 开始 以来 键入 的 指令 ， 以便 能够 重复使用 。', '生成 文本文件 ， 因此 使用 任何 文本编辑 器 （ 如 Kate ） 都 可以 轻松 修复 。', 'Ctrl S 保存 日志', '将 所有 结果 的 日志 保存 到 HTML 文件 中 ， 以便 打印 或 发布 。', 'Ctrl Q 退出', '关闭程序 。', '要 在 kalgebra 上 添加 新 的 2D 图形 ， 您 需要 做 的 是 转到 “ 2D 图形 ” 选项卡 ， 然后 单击 “ 添加 ” 选项卡 以 添加 新 函数 。', '然后 你 的 焦点 将 转到 输入 文本框 ， 你 可以 在 其中 输入 你 的 函数 。', '如果 您 想 使用 典型 的 f ( x ) 函数 ， 则 无需 指定 它 。', '如果 您 已经 输入 该 功能 请单击 “ 确定 ” 按钮 以 在 主 窗口 中 显示 图表 。', '您 可以 在 同一 视图 上 设置 多个 图表 。', '当 您 处于 列表 模式 时 ， 只 需 使用 添加 按钮 即可 。', '您 可以 为 每个 图形 设置 其 自己 的 颜色 。', '该 基金会 最近 参与 组织 了 一次 应对 这一 严峻 挑战 的 会议 。', '来自 各 主要 利益 群体 的 100 多名 参与者 出席 了 会议 ， 并 就 公共 当局 、 社会 伙伴 、 志愿者 和 社区 组织 以及 服务 用户 等 主要 参与者 的 作用 等 问题 进行 了 辩论 。', '报告 显示 ， 尝试 让 用户 参与 服务 规划 的 案例 相对 较 少 ， 但 用户 参与 服务 提供 的 情况 却 更为 常见 。', '还 注意 到 公共 福利 发挥 着 各种 不同 的 作用', '该 基金会 与 欧盟委员会 、 西班牙 社会 事务部 和 加利西亚 大 区政府 联合 举办 了 一次 以 “ 社会 排斥 ： 公共 福利 服务 面临 的 重大 挑战 ” 为 主题 的 欧洲 会议 。', '作为 EPOC 项目 的 一部分 ， 该 基金会 最近 发布 了 一项 比较 研究 ， 该 项目 评估 了 直接参与 在 多 大程度 上 可以 使 工作 人性化 同时 提高 盈利 能力 。', '该 研究 基于 对 来自 欧洲 15 个 国家 的 国家级 高峰 组织 的 代表 社会 伙伴 高级官员 进行 的 195 次 个人 访谈 。', '作为 重要 的 工业部门 ， 金属 工业 和 银行业 也 被 纳入 其中 。', '社会 排斥 会议 的 主要 发言人 有 （ 从左到右 ） 欧盟委员会 就业 、 劳资关系 和 社会 事务司 的 克里斯蒂娜 · 洛罗 （ Cristina Louro ） 、 欧洲议会 议员 、 地区 高级 委员会 委员 费尔南多 · 戈麦斯 （ Fernando Gomes ） 、 欧洲议会 议员 、 欧洲议会 副 主席 何塞 · 玛丽亚 · 吉尔 - 罗夫 莱斯 （ Jos é Maria Gil - Robles ） 和 经济 和 社会 委员会 委员 约翰 · 卡罗尔 （ John Carroll ） 。', '案例 研究 每 一份 国家 报告 都 包含 25 至 30 项 举措 ， 这些 举措 最好 地 介绍 了 改善 工作 地点 和 社区 中 老龄 工人 的 招聘 、 培训 和 发展 的 政策 和 实践 。', '对于 每个 国家 ， 我们 选取 了 两到 三个 举措 进行 进一步 深入 的 案例 研究 。', '这些 案例 研究 分析 了 这些 举措 的 背景 、 它们 对 就业 模式 和 工作 组织 的 影响 ， 并 评估 了 这些 举措 的 好处 和 问题 。', '我们 还 对 主要 人员 进行 了 走访 和 访谈 。', '这些 国家 研究 将 形成 一份 综合 整体 实践 的 欧洲 报告 的 基础 。', '该 报告 及 一系列 举措 案例 将 于 1996 年 出版 ， 并 为 1996 年 秋季 举行 的 会议 提供 背景 。', '该 基金会 的 目标 是 记录 求职 招聘 和 培训 中 年龄 障碍 的 特点 并 分析 其 原因 。', '社会 伙伴 的 观点 也 正在 接受 审查 , 其中 特别 关注 消除 年龄 障碍 的 建议 .', '第三 ， 该 项目 记录 并 评估 了 公共 和 私营部门 消除 年龄 障碍 （ 特别 是 针对 老年 工人 ） 的 举措 。', '为了 寻求 提前退休 和 裁员 的 替代 方案 ， 该 项目 主要 关注 老年 工人 的 保留 、 重返 社会 和 再 培训 。', '研究 了 工人 的 性别 和 种族 背景 以及 这些 与 年龄 歧视 的 关系 。', '该 项目 还 考虑 采取 举措 ， 打击 农村 地区 和 中小企业 中 的 年龄 歧视 。', '此 项目 覆盖 七个 成员国 ： 比利时 、 法国 、 德国 、 希腊 、 意大利 、 荷兰 和 英国 。', '本 文件 是 欧洲 公共 评估 报告 的 摘要 。', '它 解释 了 兽药 委员会 ( CVMP ) 如何 评估所 进行 的 研究 ， 以 得出 关于 如何 使用 该 药物 的 建议 。', 'Cerenia 是 什么 ？', 'Cerenia 含有 活性 物质 马罗匹坦 ， 有 片剂 和 注射液 两种 形式 。', '药片 呈淡 橙色 ， 两面 都 有 刻痕 ， 可以 切成 两半 。', '每片 药片 一面 标有 辉瑞 标志 ， 另一面 标有 字母 MPT 和 马罗匹坦 的 数量 。', 'Cerenia 用于 什么 ？', 'Cerenia 是 一种 止吐药 ， 这 意味着 它 可以 停止 呕吐 。', '它 用于 防止 狗 出现 呕吐 ， 例如 化疗 引起 的 呕吐 （ 用于 治疗 癌症 的 药物 ， 其中 一些 已知 会 引起 呕吐 ） 。', '与 其他 兽医 治疗 或 特殊 饮食 等 支持 措施 相结合 ， Cerenia 也 可 用于 治疗 呕吐 （ 注射 或 注射 后 服用 药片 ） 。', '为了 达到 这些 目的 ， Cerenia 最 多 可以 服用 五天', 'Cerenia 如何 发挥作用 ？', 'Cerenia 可 阻断 神经 激肽 1 ( NK1 ) 受体 ， 该 受体 在 中枢神经 系统 中起 作用 。', '如何 对 Cerenia 进行 研究 ？', '在 欧洲 多个 国家 和 美国 的 兽医 诊所 中 ， 对 实验 犬 和 动物 患者 进行 了 大量 有关 Cerenia 的 研究 。', 'Cerenia 在 研究 期间 表现 出 了 什么 益处 ？', '研究 结果表明 ， Cerenia 比 安慰剂 更 有效 ： 无论是 在 治疗 还是 预防 呕吐 方面 ， 服用 该 药物 的 狗 的 呕吐 次数 都 比 服用 安慰剂 的 狗 少 。', '治疗 呕吐 的 狗 应该 从 注射 开始 ， 因为 呕吐 的 动物 可能 无法 吞下 药片 （ 因为 它们 可能 会 再次 将 完整 的 药片 吐出来 ） 。', '为了 进行 后续 治疗 ， 动物 主人 可以 给 狗 服用 药片 。', '此外 ， 呕吐 的 治疗 应 与 其他 支持 措施 或 其他 兽医 疗法 一起 进行 ， 同时 解决 呕吐 的 根本原因 。', 'Cerenia 有 哪些 风险 ？', '当 每日 服用 剂量 高 达 推荐 剂量 的 5 倍 并且 持续 较长时间 （ 高 达 建议 最大 治疗 时间 的 3 倍 ） 时 ， Cerenia 通常 耐受性 良好 。', '给 动物 注射 药物 或者 接触 动物 的 人 需要 注意 什么 ？']\n",
      "Corpus-level BLEU score: 0.7645716811013941\n"
     ]
    },
    {
     "name": "stderr",
     "output_type": "stream",
     "text": [
      "/usr/local/lib/python3.11/site-packages/nltk/translate/bleu_score.py:552: UserWarning: \n",
      "The hypothesis contains 0 counts of 3-gram overlaps.\n",
      "Therefore the BLEU score evaluates to 0, independently of\n",
      "how many N-gram overlaps of lower order it contains.\n",
      "Consider using lower n-gram order or use SmoothingFunction()\n",
      "  warnings.warn(_msg)\n",
      "/usr/local/lib/python3.11/site-packages/nltk/translate/bleu_score.py:552: UserWarning: \n",
      "The hypothesis contains 0 counts of 4-gram overlaps.\n",
      "Therefore the BLEU score evaluates to 0, independently of\n",
      "how many N-gram overlaps of lower order it contains.\n",
      "Consider using lower n-gram order or use SmoothingFunction()\n",
      "  warnings.warn(_msg)\n",
      "/usr/local/lib/python3.11/site-packages/nltk/translate/bleu_score.py:552: UserWarning: \n",
      "The hypothesis contains 0 counts of 2-gram overlaps.\n",
      "Therefore the BLEU score evaluates to 0, independently of\n",
      "how many N-gram overlaps of lower order it contains.\n",
      "Consider using lower n-gram order or use SmoothingFunction()\n",
      "  warnings.warn(_msg)\n"
     ]
    }
   ],
   "source": [
    "sentence_scores, corpus_score = calculate_bleu(gold_sents,trans_sents)\n",
    "print(f\"Sentence-level BLEU scores: {sentence_scores}\")\n",
    "print(f\"Corpus-level BLEU score: {corpus_score}\")\n"
   ],
   "metadata": {
    "collapsed": false,
    "ExecuteTime": {
     "end_time": "2024-11-26T00:26:16.016943Z",
     "start_time": "2024-11-26T00:26:15.995867Z"
    }
   },
   "id": "bbec5ef75b6a0641"
  },
  {
   "cell_type": "code",
   "execution_count": null,
   "outputs": [],
   "source": [],
   "metadata": {
    "collapsed": false
   },
   "id": "d24d7824f1cd0074"
  }
 ],
 "metadata": {
  "kernelspec": {
   "display_name": "Python 3",
   "language": "python",
   "name": "python3"
  },
  "language_info": {
   "codemirror_mode": {
    "name": "ipython",
    "version": 2
   },
   "file_extension": ".py",
   "mimetype": "text/x-python",
   "name": "python",
   "nbconvert_exporter": "python",
   "pygments_lexer": "ipython2",
   "version": "2.7.6"
  }
 },
 "nbformat": 4,
 "nbformat_minor": 5
}
