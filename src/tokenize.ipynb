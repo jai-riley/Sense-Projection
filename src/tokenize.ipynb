{
 "cells": [
  {
   "cell_type": "markdown",
   "source": [
    "# Tokenization of Translated Sentences\n",
    "This file can be used to tokenize translated sentence using Spacy.\n",
    "For information on Spacy models and languages covered by Spacy visit here: https://spacy.io/models"
   ],
   "metadata": {
    "collapsed": false
   },
   "id": "4e72221dddf7027"
  },
  {
   "cell_type": "code",
   "execution_count": 73,
   "outputs": [
    {
     "name": "stdout",
     "output_type": "stream",
     "text": [
      "Collecting it-core-news-md==3.7.0\r\n",
      "  Downloading https://github.com/explosion/spacy-models/releases/download/it_core_news_md-3.7.0/it_core_news_md-3.7.0-py3-none-any.whl (42.4 MB)\r\n",
      "\u001B[2K     \u001B[90m━━━━━━━━━━━━━━━━━━━━━━━━━━━━━━━━━━━━━━━━\u001B[0m \u001B[32m42.4/42.4 MB\u001B[0m \u001B[31m32.3 MB/s\u001B[0m eta \u001B[36m0:00:00\u001B[0m00:01\u001B[0m00:01\u001B[0m\r\n",
      "\u001B[?25hRequirement already satisfied: spacy<3.8.0,>=3.7.0 in /usr/local/lib/python3.11/site-packages (from it-core-news-md==3.7.0) (3.7.5)\r\n",
      "Requirement already satisfied: spacy-legacy<3.1.0,>=3.0.11 in /usr/local/lib/python3.11/site-packages (from spacy<3.8.0,>=3.7.0->it-core-news-md==3.7.0) (3.0.12)\r\n",
      "Requirement already satisfied: spacy-loggers<2.0.0,>=1.0.0 in /usr/local/lib/python3.11/site-packages (from spacy<3.8.0,>=3.7.0->it-core-news-md==3.7.0) (1.0.5)\r\n",
      "Requirement already satisfied: murmurhash<1.1.0,>=0.28.0 in /usr/local/lib/python3.11/site-packages (from spacy<3.8.0,>=3.7.0->it-core-news-md==3.7.0) (1.0.10)\r\n",
      "Requirement already satisfied: cymem<2.1.0,>=2.0.2 in /usr/local/lib/python3.11/site-packages (from spacy<3.8.0,>=3.7.0->it-core-news-md==3.7.0) (2.0.8)\r\n",
      "Requirement already satisfied: preshed<3.1.0,>=3.0.2 in /usr/local/lib/python3.11/site-packages (from spacy<3.8.0,>=3.7.0->it-core-news-md==3.7.0) (3.0.9)\r\n",
      "Requirement already satisfied: thinc<8.3.0,>=8.2.2 in /usr/local/lib/python3.11/site-packages (from spacy<3.8.0,>=3.7.0->it-core-news-md==3.7.0) (8.2.5)\r\n",
      "Requirement already satisfied: wasabi<1.2.0,>=0.9.1 in /usr/local/lib/python3.11/site-packages (from spacy<3.8.0,>=3.7.0->it-core-news-md==3.7.0) (1.1.3)\r\n",
      "Requirement already satisfied: srsly<3.0.0,>=2.4.3 in /usr/local/lib/python3.11/site-packages (from spacy<3.8.0,>=3.7.0->it-core-news-md==3.7.0) (2.4.8)\r\n",
      "Requirement already satisfied: catalogue<2.1.0,>=2.0.6 in /usr/local/lib/python3.11/site-packages (from spacy<3.8.0,>=3.7.0->it-core-news-md==3.7.0) (2.0.10)\r\n",
      "Requirement already satisfied: weasel<0.5.0,>=0.1.0 in /usr/local/lib/python3.11/site-packages (from spacy<3.8.0,>=3.7.0->it-core-news-md==3.7.0) (0.4.1)\r\n",
      "Requirement already satisfied: typer<1.0.0,>=0.3.0 in /usr/local/lib/python3.11/site-packages (from spacy<3.8.0,>=3.7.0->it-core-news-md==3.7.0) (0.12.3)\r\n",
      "Requirement already satisfied: tqdm<5.0.0,>=4.38.0 in /usr/local/lib/python3.11/site-packages (from spacy<3.8.0,>=3.7.0->it-core-news-md==3.7.0) (4.66.4)\r\n",
      "Requirement already satisfied: requests<3.0.0,>=2.13.0 in /usr/local/lib/python3.11/site-packages (from spacy<3.8.0,>=3.7.0->it-core-news-md==3.7.0) (2.32.3)\r\n",
      "Requirement already satisfied: pydantic!=1.8,!=1.8.1,<3.0.0,>=1.7.4 in /usr/local/lib/python3.11/site-packages (from spacy<3.8.0,>=3.7.0->it-core-news-md==3.7.0) (2.7.1)\r\n",
      "Requirement already satisfied: jinja2 in /usr/local/lib/python3.11/site-packages (from spacy<3.8.0,>=3.7.0->it-core-news-md==3.7.0) (3.1.3)\r\n",
      "Requirement already satisfied: setuptools in /usr/local/lib/python3.11/site-packages (from spacy<3.8.0,>=3.7.0->it-core-news-md==3.7.0) (69.0.2)\r\n",
      "Requirement already satisfied: packaging>=20.0 in /usr/local/lib/python3.11/site-packages (from spacy<3.8.0,>=3.7.0->it-core-news-md==3.7.0) (23.2)\r\n",
      "Requirement already satisfied: langcodes<4.0.0,>=3.2.0 in /usr/local/lib/python3.11/site-packages (from spacy<3.8.0,>=3.7.0->it-core-news-md==3.7.0) (3.4.0)\r\n",
      "Requirement already satisfied: numpy>=1.19.0 in /usr/local/lib/python3.11/site-packages (from spacy<3.8.0,>=3.7.0->it-core-news-md==3.7.0) (1.24.3)\r\n",
      "Requirement already satisfied: language-data>=1.2 in /usr/local/lib/python3.11/site-packages (from langcodes<4.0.0,>=3.2.0->spacy<3.8.0,>=3.7.0->it-core-news-md==3.7.0) (1.2.0)\r\n",
      "Requirement already satisfied: annotated-types>=0.4.0 in /usr/local/lib/python3.11/site-packages (from pydantic!=1.8,!=1.8.1,<3.0.0,>=1.7.4->spacy<3.8.0,>=3.7.0->it-core-news-md==3.7.0) (0.7.0)\r\n",
      "Requirement already satisfied: pydantic-core==2.18.2 in /usr/local/lib/python3.11/site-packages (from pydantic!=1.8,!=1.8.1,<3.0.0,>=1.7.4->spacy<3.8.0,>=3.7.0->it-core-news-md==3.7.0) (2.18.2)\r\n",
      "Requirement already satisfied: typing-extensions>=4.6.1 in /usr/local/lib/python3.11/site-packages (from pydantic!=1.8,!=1.8.1,<3.0.0,>=1.7.4->spacy<3.8.0,>=3.7.0->it-core-news-md==3.7.0) (4.8.0)\r\n",
      "Requirement already satisfied: charset-normalizer<4,>=2 in /usr/local/lib/python3.11/site-packages (from requests<3.0.0,>=2.13.0->spacy<3.8.0,>=3.7.0->it-core-news-md==3.7.0) (3.3.2)\r\n",
      "Requirement already satisfied: idna<4,>=2.5 in /usr/local/lib/python3.11/site-packages (from requests<3.0.0,>=2.13.0->spacy<3.8.0,>=3.7.0->it-core-news-md==3.7.0) (3.4)\r\n",
      "Requirement already satisfied: urllib3<3,>=1.21.1 in /usr/local/lib/python3.11/site-packages (from requests<3.0.0,>=2.13.0->spacy<3.8.0,>=3.7.0->it-core-news-md==3.7.0) (2.1.0)\r\n",
      "Requirement already satisfied: certifi>=2017.4.17 in /usr/local/lib/python3.11/site-packages (from requests<3.0.0,>=2.13.0->spacy<3.8.0,>=3.7.0->it-core-news-md==3.7.0) (2023.11.17)\r\n",
      "Requirement already satisfied: blis<0.8.0,>=0.7.8 in /usr/local/lib/python3.11/site-packages (from thinc<8.3.0,>=8.2.2->spacy<3.8.0,>=3.7.0->it-core-news-md==3.7.0) (0.7.11)\r\n",
      "Requirement already satisfied: confection<1.0.0,>=0.0.1 in /usr/local/lib/python3.11/site-packages (from thinc<8.3.0,>=8.2.2->spacy<3.8.0,>=3.7.0->it-core-news-md==3.7.0) (0.1.5)\r\n",
      "Requirement already satisfied: click>=8.0.0 in /usr/local/lib/python3.11/site-packages (from typer<1.0.0,>=0.3.0->spacy<3.8.0,>=3.7.0->it-core-news-md==3.7.0) (8.1.7)\r\n",
      "Requirement already satisfied: shellingham>=1.3.0 in /usr/local/lib/python3.11/site-packages (from typer<1.0.0,>=0.3.0->spacy<3.8.0,>=3.7.0->it-core-news-md==3.7.0) (1.5.4)\r\n",
      "Requirement already satisfied: rich>=10.11.0 in /usr/local/lib/python3.11/site-packages (from typer<1.0.0,>=0.3.0->spacy<3.8.0,>=3.7.0->it-core-news-md==3.7.0) (13.7.1)\r\n",
      "Requirement already satisfied: cloudpathlib<1.0.0,>=0.7.0 in /usr/local/lib/python3.11/site-packages (from weasel<0.5.0,>=0.1.0->spacy<3.8.0,>=3.7.0->it-core-news-md==3.7.0) (0.18.1)\r\n",
      "Requirement already satisfied: smart-open<8.0.0,>=5.2.1 in /usr/local/lib/python3.11/site-packages (from weasel<0.5.0,>=0.1.0->spacy<3.8.0,>=3.7.0->it-core-news-md==3.7.0) (6.4.0)\r\n",
      "Requirement already satisfied: MarkupSafe>=2.0 in /usr/local/lib/python3.11/site-packages (from jinja2->spacy<3.8.0,>=3.7.0->it-core-news-md==3.7.0) (2.1.3)\r\n",
      "Requirement already satisfied: marisa-trie>=0.7.7 in /usr/local/lib/python3.11/site-packages (from language-data>=1.2->langcodes<4.0.0,>=3.2.0->spacy<3.8.0,>=3.7.0->it-core-news-md==3.7.0) (1.2.0)\r\n",
      "Requirement already satisfied: markdown-it-py>=2.2.0 in /usr/local/lib/python3.11/site-packages (from rich>=10.11.0->typer<1.0.0,>=0.3.0->spacy<3.8.0,>=3.7.0->it-core-news-md==3.7.0) (3.0.0)\r\n",
      "Requirement already satisfied: pygments<3.0.0,>=2.13.0 in /usr/local/lib/python3.11/site-packages (from rich>=10.11.0->typer<1.0.0,>=0.3.0->spacy<3.8.0,>=3.7.0->it-core-news-md==3.7.0) (2.17.2)\r\n",
      "Requirement already satisfied: mdurl~=0.1 in /usr/local/lib/python3.11/site-packages (from markdown-it-py>=2.2.0->rich>=10.11.0->typer<1.0.0,>=0.3.0->spacy<3.8.0,>=3.7.0->it-core-news-md==3.7.0) (0.1.2)\r\n",
      "Installing collected packages: it-core-news-md\r\n",
      "Successfully installed it-core-news-md-3.7.0\r\n",
      "\u001B[38;5;2m✔ Download and installation successful\u001B[0m\r\n",
      "You can now load the package via spacy.load('it_core_news_md')\r\n"
     ]
    }
   ],
   "source": [
    "! spacy download it_core_news_md"
   ],
   "metadata": {
    "collapsed": false,
    "ExecuteTime": {
     "start_time": "2024-07-04T21:35:16.178890Z"
    }
   },
   "id": "initial_id"
  },
  {
   "cell_type": "code",
   "execution_count": 50,
   "outputs": [],
   "source": [
    "import os, csv\n",
    "import pandas as pd\n",
    "import spacy"
   ],
   "metadata": {
    "collapsed": false,
    "ExecuteTime": {
     "end_time": "2024-07-05T22:23:33.842862Z",
     "start_time": "2024-07-05T22:23:33.838464Z"
    }
   },
   "id": "7cb406a76c0f6d9d"
  },
  {
   "cell_type": "code",
   "execution_count": 89,
   "outputs": [],
   "source": [
    "# target \n",
    "language = \"Italian\"\n",
    "\n",
    "RESOURCE = 'Sense-Projection'\n",
    "DATA = RESOURCE+'/data/'+language\n",
    "\n",
    "TOKENS_FILE = os.path.join(DATA, 'tokens-'+language+'.tsv')\n",
    "TRANS_FILE = os.path.join(DATA, 'trans-sentences-'+language+'.tsv')\n"
   ],
   "metadata": {
    "collapsed": false,
    "ExecuteTime": {
     "end_time": "2024-07-05T23:08:24.847175Z",
     "start_time": "2024-07-05T23:08:24.828930Z"
    }
   },
   "id": "a1212203e7027673"
  },
  {
   "cell_type": "markdown",
   "source": [
    "# DATA"
   ],
   "metadata": {
    "collapsed": false
   },
   "id": "c20c6865ff265fa9"
  },
  {
   "cell_type": "code",
   "execution_count": 90,
   "outputs": [
    {
     "name": "stdout",
     "output_type": "stream",
     "text": [
      "['d001.s002', 'd001.s003', 'd001.s004', 'd001.s005', 'd001.s006', 'd001.s007', 'd001.s008', 'd001.s009', 'd001.s010', 'd001.s011', 'd001.s012', 'd001.s013', 'd001.s014', 'd001.s015', 'd001.s016', 'd001.s017', 'd001.s018', 'd001.s019', 'd001.s020', 'd001.s021', 'd001.s022', 'd001.s023', 'd001.s024', 'd001.s025', 'd001.s026', 'd001.s027', 'd001.s028', 'd001.s029', 'd001.s030', 'd001.s031', 'd001.s032', 'd001.s033', 'd001.s034', 'd001.s035', 'd001.s036', 'd001.s037', 'd002.s001', 'd002.s002', 'd002.s003', 'd002.s004', 'd002.s005', 'd002.s006', 'd002.s007', 'd002.s008', 'd002.s009', 'd002.s010', 'd002.s011', 'd002.s012', 'd002.s013', 'd002.s014', 'd002.s015', 'd002.s016', 'd002.s017', 'd002.s018', 'd002.s019', 'd002.s020', 'd002.s021', 'd002.s022', 'd002.s023', 'd002.s024', 'd002.s025', 'd002.s026', 'd002.s027', 'd002.s028', 'd002.s029', 'd002.s030', 'd002.s031', 'd002.s032', 'd002.s033', 'd002.s034', 'd002.s035', 'd002.s036', 'd002.s037', 'd002.s038', 'd002.s039', 'd002.s040', 'd002.s041', 'd002.s042', 'd002.s043', 'd002.s044', 'd002.s045', 'd002.s046', 'd002.s047', 'd002.s048', 'd002.s049', 'd002.s050', 'd002.s051', 'd002.s052', 'd003.s002', 'd003.s003', 'd003.s004', 'd003.s005', 'd003.s006', 'd003.s007', 'd003.s008', 'd003.s009', 'd003.s010', 'd003.s011', 'd003.s012', 'd003.s013', 'd003.s014', 'd003.s015', 'd003.s016', 'd003.s017', 'd003.s018', 'd003.s019', 'd003.s020', 'd003.s021', 'd003.s022', 'd004.s001', 'd004.s002', 'd004.s003', 'd004.s004', 'd004.s005', 'd004.s006', 'd004.s007', 'd004.s008', 'd004.s009', 'd004.s010', 'd004.s011', 'd004.s012', 'd004.s013', 'd004.s014', 'd004.s015', 'd004.s016', 'd004.s017', 'd004.s018', 'd004.s019', 'd004.s020', 'd004.s021', 'd004.s022', 'd004.s023', 'd004.s024']\n"
     ]
    }
   ],
   "source": [
    "trans_df = pd.read_csv(TRANS_FILE, delimiter='\\t', quoting=csv.QUOTE_NONE)\n",
    "sids = [x[0] for x in trans_df.values.tolist()]\n",
    "trans_df.head()"
   ],
   "metadata": {
    "collapsed": false,
    "ExecuteTime": {
     "end_time": "2024-07-05T23:08:25.228479Z",
     "start_time": "2024-07-05T23:08:25.195702Z"
    }
   },
   "id": "2f432a89a379c822"
  },
  {
   "cell_type": "code",
   "execution_count": 91,
   "outputs": [],
   "source": [
    "tgt_sents = [x[1] for x in trans_df.values.tolist()]"
   ],
   "metadata": {
    "collapsed": false,
    "ExecuteTime": {
     "end_time": "2024-07-05T23:08:25.394065Z",
     "start_time": "2024-07-05T23:08:25.376730Z"
    }
   },
   "id": "657283dde5c279c5"
  },
  {
   "cell_type": "markdown",
   "source": [
    "# TOKENIZATION"
   ],
   "metadata": {
    "collapsed": false
   },
   "id": "19c7b3b3697f3f04"
  },
  {
   "cell_type": "code",
   "execution_count": 92,
   "outputs": [],
   "source": [
    "# nlp = spacy.load(\"es_core_news_md\")\n",
    "nlp = spacy.load(\"it_core_news_md\")\n"
   ],
   "metadata": {
    "collapsed": false,
    "ExecuteTime": {
     "end_time": "2024-07-05T23:08:28.710271Z",
     "start_time": "2024-07-05T23:08:25.747144Z"
    }
   },
   "id": "5bfcface1251e192"
  },
  {
   "cell_type": "code",
   "execution_count": 94,
   "outputs": [
    {
     "data": {
      "text/plain": "(2739, 2739, 2739, 2739)"
     },
     "execution_count": 94,
     "metadata": {},
     "output_type": "execute_result"
    }
   ],
   "source": [
    "tk_ids, tks_list, pos_list , lemma_list = [], [], [], []\n",
    "total = 0\n",
    "x = []\n",
    "for sid, tgt_s in zip(sids, tgt_sents):\n",
    "    doc = nlp(tgt_s)\n",
    "    seq_len = len(doc)\n",
    "    total += seq_len\n",
    "    for token in doc:\n",
    "        tks_list.append(token.text)\n",
    "        pos_list.append(token.pos_)\n",
    "        lemma_list.append(token.lemma_)\n",
    "    tk_ids += [f'{sid}.t{i:03}' for i in range(1, seq_len+1)]\n",
    "len(tk_ids), len(tks_list), len(pos_list), len(lemma_list)\n",
    "#print(total)"
   ],
   "metadata": {
    "collapsed": false,
    "ExecuteTime": {
     "end_time": "2024-07-05T23:08:30.443930Z",
     "start_time": "2024-07-05T23:08:28.708045Z"
    }
   },
   "id": "12d6edf9bac27f81"
  },
  {
   "cell_type": "code",
   "execution_count": 96,
   "outputs": [
    {
     "data": {
      "text/plain": "         Token ID     Token       Lemma    POS\n0  d001.s002.t001         L           L    DET\n1  d001.s002.t002      EPAR        EPAR  PROPN\n2  d001.s002.t003  descrive  descrivere   VERB\n3  d001.s002.t004        il          il    DET\n4  d001.s002.t005      modo        modo   NOUN",
      "text/html": "<div>\n<style scoped>\n    .dataframe tbody tr th:only-of-type {\n        vertical-align: middle;\n    }\n\n    .dataframe tbody tr th {\n        vertical-align: top;\n    }\n\n    .dataframe thead th {\n        text-align: right;\n    }\n</style>\n<table border=\"1\" class=\"dataframe\">\n  <thead>\n    <tr style=\"text-align: right;\">\n      <th></th>\n      <th>Token ID</th>\n      <th>Token</th>\n      <th>Lemma</th>\n      <th>POS</th>\n    </tr>\n  </thead>\n  <tbody>\n    <tr>\n      <th>0</th>\n      <td>d001.s002.t001</td>\n      <td>L</td>\n      <td>L</td>\n      <td>DET</td>\n    </tr>\n    <tr>\n      <th>1</th>\n      <td>d001.s002.t002</td>\n      <td>EPAR</td>\n      <td>EPAR</td>\n      <td>PROPN</td>\n    </tr>\n    <tr>\n      <th>2</th>\n      <td>d001.s002.t003</td>\n      <td>descrive</td>\n      <td>descrivere</td>\n      <td>VERB</td>\n    </tr>\n    <tr>\n      <th>3</th>\n      <td>d001.s002.t004</td>\n      <td>il</td>\n      <td>il</td>\n      <td>DET</td>\n    </tr>\n    <tr>\n      <th>4</th>\n      <td>d001.s002.t005</td>\n      <td>modo</td>\n      <td>modo</td>\n      <td>NOUN</td>\n    </tr>\n  </tbody>\n</table>\n</div>"
     },
     "execution_count": 96,
     "metadata": {},
     "output_type": "execute_result"
    }
   ],
   "source": [
    "tks_df = pd.DataFrame({\n",
    "    'Token ID': tk_ids\n",
    "    , 'Token': tks_list\n",
    "    , 'Lemma': lemma_list\n",
    "    , 'POS': pos_list\n",
    "    })\n",
    "tks_df.head()"
   ],
   "metadata": {
    "collapsed": false,
    "ExecuteTime": {
     "end_time": "2024-07-05T23:08:30.520212Z",
     "start_time": "2024-07-05T23:08:30.461579Z"
    }
   },
   "id": "3bb827932bd9b23f"
  },
  {
   "cell_type": "code",
   "execution_count": 97,
   "outputs": [],
   "source": [
    "tks_df.to_csv(TOKENS_FILE, sep='\\t', index=False)"
   ],
   "metadata": {
    "collapsed": false,
    "ExecuteTime": {
     "end_time": "2024-07-05T23:08:30.521044Z",
     "start_time": "2024-07-05T23:08:30.470267Z"
    }
   },
   "id": "289f3807b810c81e"
  },
  {
   "cell_type": "code",
   "execution_count": null,
   "outputs": [],
   "source": [],
   "metadata": {
    "collapsed": false
   },
   "id": "921a1606f590f3c4"
  },
  {
   "cell_type": "markdown",
   "source": [],
   "metadata": {
    "collapsed": false
   },
   "id": "ad55cdaecb83c5de"
  }
 ],
 "metadata": {
  "kernelspec": {
   "display_name": "Python 3",
   "language": "python",
   "name": "python3"
  },
  "language_info": {
   "codemirror_mode": {
    "name": "ipython",
    "version": 2
   },
   "file_extension": ".py",
   "mimetype": "text/x-python",
   "name": "python",
   "nbconvert_exporter": "python",
   "pygments_lexer": "ipython2",
   "version": "2.7.6"
  }
 },
 "nbformat": 4,
 "nbformat_minor": 5
}
