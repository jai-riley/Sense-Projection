{
 "cells": [
  {
   "cell_type": "code",
   "execution_count": null,
   "id": "initial_id",
   "metadata": {
    "collapsed": true
   },
   "outputs": [],
   "source": [
    "#!pip install hanlp\n",
    "#!pip install simalign"
   ]
  },
  {
   "cell_type": "code",
   "execution_count": 7,
   "outputs": [
    {
     "name": "stderr",
     "output_type": "stream",
     "text": [
      "/usr/local/lib/python3.11/site-packages/transformers/utils/generic.py:441: UserWarning: torch.utils._pytree._register_pytree_node is deprecated. Please use torch.utils._pytree.register_pytree_node instead.\n",
      "  _torch_pytree._register_pytree_node(\n",
      "/usr/local/lib/python3.11/site-packages/transformers/utils/generic.py:309: UserWarning: torch.utils._pytree._register_pytree_node is deprecated. Please use torch.utils._pytree.register_pytree_node instead.\n",
      "  _torch_pytree._register_pytree_node(\n"
     ]
    }
   ],
   "source": [
    "import os, csv\n",
    "\n",
    "import pandas as pd\n",
    "from tqdm import tqdm\n",
    "from simalign import SentenceAligner\n",
    "# from google.cloud import translate_v2 as translate"
   ],
   "metadata": {
    "collapsed": false,
    "ExecuteTime": {
     "end_time": "2024-09-14T08:03:07.734747Z",
     "start_time": "2024-09-14T08:03:01.773665Z"
    }
   },
   "id": "7cb406a76c0f6d9d"
  },
  {
   "cell_type": "code",
   "execution_count": 22,
   "outputs": [],
   "source": [
    "\n",
    "src_lan = 'en'\n",
    "# target language\n",
    "tgt_lan = 'BN'\n",
    "language = \"Bengali\"\n",
    "\n",
    "RESOURCE = '~/Desktop/Research/Sense-Projection'\n",
    "DATA =  RESOURCE+'/data/'+language+\"/second\"\n",
    "TRANS_FILE = os.path.join(DATA, 'gold-sentences-'+language+'.tsv')\n",
    "TOKENS_FILE = os.path.join(DATA, language+'-Gold2.tsv')\n",
    "ALIGN_SENT_FILE = os.path.join(DATA, 'sentences-aligned-'+language+'.tsv')\n",
    "ALIGN_TOKEN_FILE = os.path.join(DATA, 'tokens-aligned-'+language+'.tsv')\n",
    "\n",
    "# DATA = os.path.join(RESOURCE, 'data')\n",
    "DATA =  RESOURCE+'/data/English/Original'\n",
    "\n",
    "KEY = os.path.join(RESOURCE, 'key')\n",
    "RAW_SENSE_TSV = os.path.join(DATA, 'full-tokens-English-wSenses.tsv')\n",
    "RAW_TOKENS_TSV =  os.path.join(DATA, 'full-tokens-English.tsv')\n",
    "RAW_SENTENCE_TSV = os.path.join(DATA, 'gold-sentences-English-full.tsv')\n"
   ],
   "metadata": {
    "collapsed": false,
    "ExecuteTime": {
     "end_time": "2024-09-14T08:05:47.113938Z",
     "start_time": "2024-09-14T08:05:47.070873Z"
    }
   },
   "id": "b13fc3dfe5421d25"
  },
  {
   "cell_type": "markdown",
   "source": [
    "# DATA"
   ],
   "metadata": {
    "collapsed": false,
    "ExecuteTime": {
     "end_time": "2024-07-20T00:25:20.160408Z",
     "start_time": "2024-07-20T00:25:20.081626Z"
    }
   },
   "id": "c20c6865ff265fa9"
  },
  {
   "cell_type": "code",
   "execution_count": 23,
   "outputs": [
    {
     "data": {
      "text/plain": "         Token ID     Token     Lemma POS  \\\n0  d001.s001.t001      This       NaN   X   \n1  d001.s001.t002  document  document   N   \n2  d001.s001.t003        is        be   V   \n3  d001.s001.t004         a       NaN   X   \n4  d001.s001.t005   summary   summary   N   \n\n                                           BN Synset  \n0                                                NaN  \n1  bn:00028015n;wiki:document;wn:document%1:10:00...  \n2                                                NaN  \n3                                                NaN  \n4  bn:00075142n;wiki:summary_(law);wn:sum-up%1:10...  ",
      "text/html": "<div>\n<style scoped>\n    .dataframe tbody tr th:only-of-type {\n        vertical-align: middle;\n    }\n\n    .dataframe tbody tr th {\n        vertical-align: top;\n    }\n\n    .dataframe thead th {\n        text-align: right;\n    }\n</style>\n<table border=\"1\" class=\"dataframe\">\n  <thead>\n    <tr style=\"text-align: right;\">\n      <th></th>\n      <th>Token ID</th>\n      <th>Token</th>\n      <th>Lemma</th>\n      <th>POS</th>\n      <th>BN Synset</th>\n    </tr>\n  </thead>\n  <tbody>\n    <tr>\n      <th>0</th>\n      <td>d001.s001.t001</td>\n      <td>This</td>\n      <td>NaN</td>\n      <td>X</td>\n      <td>NaN</td>\n    </tr>\n    <tr>\n      <th>1</th>\n      <td>d001.s001.t002</td>\n      <td>document</td>\n      <td>document</td>\n      <td>N</td>\n      <td>bn:00028015n;wiki:document;wn:document%1:10:00...</td>\n    </tr>\n    <tr>\n      <th>2</th>\n      <td>d001.s001.t003</td>\n      <td>is</td>\n      <td>be</td>\n      <td>V</td>\n      <td>NaN</td>\n    </tr>\n    <tr>\n      <th>3</th>\n      <td>d001.s001.t004</td>\n      <td>a</td>\n      <td>NaN</td>\n      <td>X</td>\n      <td>NaN</td>\n    </tr>\n    <tr>\n      <th>4</th>\n      <td>d001.s001.t005</td>\n      <td>summary</td>\n      <td>summary</td>\n      <td>N</td>\n      <td>bn:00075142n;wiki:summary_(law);wn:sum-up%1:10...</td>\n    </tr>\n  </tbody>\n</table>\n</div>"
     },
     "execution_count": 23,
     "metadata": {},
     "output_type": "execute_result"
    }
   ],
   "source": [
    "# raw\n",
    "raw_sense_df = pd.read_csv(RAW_SENSE_TSV, delimiter='\\t', quoting=csv.QUOTE_NONE)\n",
    "raw_sense_df.head()"
   ],
   "metadata": {
    "collapsed": false,
    "ExecuteTime": {
     "end_time": "2024-09-14T08:05:47.469676Z",
     "start_time": "2024-09-14T08:05:47.430137Z"
    }
   },
   "id": "b00d2748a93fc3cc"
  },
  {
   "cell_type": "code",
   "execution_count": 24,
   "outputs": [
    {
     "data": {
      "text/plain": "138"
     },
     "execution_count": 24,
     "metadata": {},
     "output_type": "execute_result"
    }
   ],
   "source": [
    "sentence_df = pd.read_csv(RAW_SENTENCE_TSV, delimiter='\\t',  quoting=csv.QUOTE_NONE)\n",
    "sentence_df.head()\n",
    "sents = sentence_df[\"ID\"].tolist()\n",
    "len(sents)\n",
    "# print(sents)"
   ],
   "metadata": {
    "collapsed": false,
    "ExecuteTime": {
     "end_time": "2024-09-14T08:05:47.706594Z",
     "start_time": "2024-09-14T08:05:47.681398Z"
    }
   },
   "id": "f042be62c8de0a8c"
  },
  {
   "cell_type": "code",
   "execution_count": 25,
   "outputs": [
    {
     "name": "stdout",
     "output_type": "stream",
     "text": [
      "138\n"
     ]
    }
   ],
   "source": [
    "sids = sentence_df[\"ID\"].tolist()\n",
    "# sids = [i.replace('d', 'i') for i in sids]\n",
    "# sids[:4]\n",
    "print(len(sids))"
   ],
   "metadata": {
    "collapsed": false,
    "ExecuteTime": {
     "end_time": "2024-09-14T08:05:47.816258Z",
     "start_time": "2024-09-14T08:05:47.808935Z"
    }
   },
   "id": "3a52ea439706c5fc"
  },
  {
   "cell_type": "code",
   "execution_count": 26,
   "outputs": [
    {
     "data": {
      "text/plain": "  Sentence ID                                           Sentence\n0   d001.s001  এইনথিটিইউরোপীয়পাবলিকঅ্যাসেসমেন্টরিপোর্টের(ইপি...\n1   d001.s002  কমিটিফরমেডিসিনালপ্রোডাক্টসফরহিউম্যানইউজ(সিএইচএ...\n2   d001.s003  আপনারচিকিৎসাসংক্রান্তঅবস্থাঅথবাআপনারচিকিৎসারবি...\n3   d001.s004  যদিআপনিসিএইচএমপিরসুপারিশেরভিত্তিতেআরোতথ্যচান,ত...\n4   d001.s005                                          আলিমতাকি?",
      "text/html": "<div>\n<style scoped>\n    .dataframe tbody tr th:only-of-type {\n        vertical-align: middle;\n    }\n\n    .dataframe tbody tr th {\n        vertical-align: top;\n    }\n\n    .dataframe thead th {\n        text-align: right;\n    }\n</style>\n<table border=\"1\" class=\"dataframe\">\n  <thead>\n    <tr style=\"text-align: right;\">\n      <th></th>\n      <th>Sentence ID</th>\n      <th>Sentence</th>\n    </tr>\n  </thead>\n  <tbody>\n    <tr>\n      <th>0</th>\n      <td>d001.s001</td>\n      <td>এইনথিটিইউরোপীয়পাবলিকঅ্যাসেসমেন্টরিপোর্টের(ইপি...</td>\n    </tr>\n    <tr>\n      <th>1</th>\n      <td>d001.s002</td>\n      <td>কমিটিফরমেডিসিনালপ্রোডাক্টসফরহিউম্যানইউজ(সিএইচএ...</td>\n    </tr>\n    <tr>\n      <th>2</th>\n      <td>d001.s003</td>\n      <td>আপনারচিকিৎসাসংক্রান্তঅবস্থাঅথবাআপনারচিকিৎসারবি...</td>\n    </tr>\n    <tr>\n      <th>3</th>\n      <td>d001.s004</td>\n      <td>যদিআপনিসিএইচএমপিরসুপারিশেরভিত্তিতেআরোতথ্যচান,ত...</td>\n    </tr>\n    <tr>\n      <th>4</th>\n      <td>d001.s005</td>\n      <td>আলিমতাকি?</td>\n    </tr>\n  </tbody>\n</table>\n</div>"
     },
     "execution_count": 26,
     "metadata": {},
     "output_type": "execute_result"
    }
   ],
   "source": [
    "trans_df = pd.read_csv(TRANS_FILE, delimiter='\\t', quoting=csv.QUOTE_NONE)\n",
    "trans_df.head()"
   ],
   "metadata": {
    "collapsed": false,
    "ExecuteTime": {
     "end_time": "2024-09-14T08:05:48.052992Z",
     "start_time": "2024-09-14T08:05:48.028191Z"
    }
   },
   "id": "86ef027023e515d8"
  },
  {
   "cell_type": "code",
   "execution_count": 27,
   "outputs": [
    {
     "data": {
      "text/plain": "           Token ID         Token         Lemma  POS     BN Synset  \\\n0    d001.s001.t001            এই            এই    X           NaN   \n1    d001.s001.t002         নথিটি           নথি    N  bn:00028015n   \n2    d001.s001.t003      ইউরোপীয়         ইউরোপ    N           NaN   \n3    d001.s001.t004        পাবলিক        পাবলিক    A  bn:00109211a   \n4    d001.s001.t005  অ্যাসেসমেন্ট  অ্যাসেসমেন্ট    N  bn:00006502n   \n..              ...           ...           ...  ...           ...   \n995  d002.s020.t022          গণ্য          গণ্য    V  bn:00095141v   \n996  d002.s020.t023           হবে           হবে    V           NaN   \n997  d002.s020.t024             ।             ।    X           NaN   \n998  d002.s021.t001             :             :    X           NaN   \n999  d002.s021.t002       #ERROR!       #ERROR!  NaN           NaN   \n\n                                                 Gloss  \n0                                                  NaN  \n1    Writing that provides information (especially ...  \n2                                                  NaN  \n3    Not private; open to or concerning the people ...  \n4    The act of judging or assessing a person or si...  \n..                                                 ...  \n995               Regard or consider in a specific way  \n996                                                NaN  \n997                                                NaN  \n998                                                NaN  \n999                                                NaN  \n\n[1000 rows x 6 columns]",
      "text/html": "<div>\n<style scoped>\n    .dataframe tbody tr th:only-of-type {\n        vertical-align: middle;\n    }\n\n    .dataframe tbody tr th {\n        vertical-align: top;\n    }\n\n    .dataframe thead th {\n        text-align: right;\n    }\n</style>\n<table border=\"1\" class=\"dataframe\">\n  <thead>\n    <tr style=\"text-align: right;\">\n      <th></th>\n      <th>Token ID</th>\n      <th>Token</th>\n      <th>Lemma</th>\n      <th>POS</th>\n      <th>BN Synset</th>\n      <th>Gloss</th>\n    </tr>\n  </thead>\n  <tbody>\n    <tr>\n      <th>0</th>\n      <td>d001.s001.t001</td>\n      <td>এই</td>\n      <td>এই</td>\n      <td>X</td>\n      <td>NaN</td>\n      <td>NaN</td>\n    </tr>\n    <tr>\n      <th>1</th>\n      <td>d001.s001.t002</td>\n      <td>নথিটি</td>\n      <td>নথি</td>\n      <td>N</td>\n      <td>bn:00028015n</td>\n      <td>Writing that provides information (especially ...</td>\n    </tr>\n    <tr>\n      <th>2</th>\n      <td>d001.s001.t003</td>\n      <td>ইউরোপীয়</td>\n      <td>ইউরোপ</td>\n      <td>N</td>\n      <td>NaN</td>\n      <td>NaN</td>\n    </tr>\n    <tr>\n      <th>3</th>\n      <td>d001.s001.t004</td>\n      <td>পাবলিক</td>\n      <td>পাবলিক</td>\n      <td>A</td>\n      <td>bn:00109211a</td>\n      <td>Not private; open to or concerning the people ...</td>\n    </tr>\n    <tr>\n      <th>4</th>\n      <td>d001.s001.t005</td>\n      <td>অ্যাসেসমেন্ট</td>\n      <td>অ্যাসেসমেন্ট</td>\n      <td>N</td>\n      <td>bn:00006502n</td>\n      <td>The act of judging or assessing a person or si...</td>\n    </tr>\n    <tr>\n      <th>...</th>\n      <td>...</td>\n      <td>...</td>\n      <td>...</td>\n      <td>...</td>\n      <td>...</td>\n      <td>...</td>\n    </tr>\n    <tr>\n      <th>995</th>\n      <td>d002.s020.t022</td>\n      <td>গণ্য</td>\n      <td>গণ্য</td>\n      <td>V</td>\n      <td>bn:00095141v</td>\n      <td>Regard or consider in a specific way</td>\n    </tr>\n    <tr>\n      <th>996</th>\n      <td>d002.s020.t023</td>\n      <td>হবে</td>\n      <td>হবে</td>\n      <td>V</td>\n      <td>NaN</td>\n      <td>NaN</td>\n    </tr>\n    <tr>\n      <th>997</th>\n      <td>d002.s020.t024</td>\n      <td>।</td>\n      <td>।</td>\n      <td>X</td>\n      <td>NaN</td>\n      <td>NaN</td>\n    </tr>\n    <tr>\n      <th>998</th>\n      <td>d002.s021.t001</td>\n      <td>:</td>\n      <td>:</td>\n      <td>X</td>\n      <td>NaN</td>\n      <td>NaN</td>\n    </tr>\n    <tr>\n      <th>999</th>\n      <td>d002.s021.t002</td>\n      <td>#ERROR!</td>\n      <td>#ERROR!</td>\n      <td>NaN</td>\n      <td>NaN</td>\n      <td>NaN</td>\n    </tr>\n  </tbody>\n</table>\n<p>1000 rows × 6 columns</p>\n</div>"
     },
     "execution_count": 27,
     "metadata": {},
     "output_type": "execute_result"
    }
   ],
   "source": [
    "tkns_df = pd.read_csv(TOKENS_FILE, delimiter='\\t', quoting=csv.QUOTE_NONE)\n",
    "tkns_df.head(1000)"
   ],
   "metadata": {
    "collapsed": false,
    "ExecuteTime": {
     "end_time": "2024-09-14T08:05:48.275751Z",
     "start_time": "2024-09-14T08:05:48.215503Z"
    }
   },
   "id": "2f432a89a379c822"
  },
  {
   "cell_type": "code",
   "execution_count": 28,
   "outputs": [
    {
     "data": {
      "text/plain": "2283"
     },
     "execution_count": 28,
     "metadata": {},
     "output_type": "execute_result"
    }
   ],
   "source": [
    "tgt_tkns = tkns_df['Token'].tolist()\n",
    "len(tgt_tkns)"
   ],
   "metadata": {
    "collapsed": false,
    "ExecuteTime": {
     "end_time": "2024-09-14T08:05:48.520729Z",
     "start_time": "2024-09-14T08:05:48.427681Z"
    }
   },
   "id": "657283dde5c279c5"
  },
  {
   "cell_type": "markdown",
   "source": [
    "# ALIGNMENT"
   ],
   "metadata": {
    "collapsed": false,
    "ExecuteTime": {
     "end_time": "2024-07-20T00:25:29.100491Z",
     "start_time": "2024-07-20T00:25:29.088726Z"
    }
   },
   "id": "19c7b3b3697f3f04"
  },
  {
   "cell_type": "code",
   "execution_count": 29,
   "outputs": [
    {
     "name": "stderr",
     "output_type": "stream",
     "text": [
      "/usr/local/lib/python3.11/site-packages/huggingface_hub/file_download.py:1132: FutureWarning: `resume_download` is deprecated and will be removed in version 1.0.0. Downloads always resume when possible. If you want to force a new download, use `force_download=True`.\n",
      "  warnings.warn(\n",
      "2024-09-14 02:05:57,629 - simalign.simalign - INFO - Initialized the EmbeddingLoader with model: xlm-roberta-base\n"
     ]
    }
   ],
   "source": [
    "device = 'cpu'\n",
    "layer = 8\n",
    "# \"bert\": \"bert-base-multilingual-cased\",\n",
    "# \"xlmr\": \"xlm-roberta-base\"\n",
    "model = 'xlmr'\n",
    "# mwmf (Match), inter (ArgMax), itermax (IterMax)\n",
    "mode = 'inter'\n",
    "matching_methods = 'mai'\n",
    "token_type='bpe'\n",
    "aligner = SentenceAligner(\n",
    "    model=model\n",
    "    , token_type=token_type\n",
    "    , matching_methods=matching_methods\n",
    "    , layer=layer\n",
    "    , device=device\n",
    ")"
   ],
   "metadata": {
    "collapsed": false,
    "ExecuteTime": {
     "end_time": "2024-09-14T08:05:57.634596Z",
     "start_time": "2024-09-14T08:05:48.993979Z"
    }
   },
   "id": "5bfcface1251e192"
  },
  {
   "cell_type": "code",
   "execution_count": 30,
   "outputs": [
    {
     "data": {
      "text/plain": "         Token ID     Token     Lemma POS  \\\n0  d001.s001.t001      This       NaN   X   \n1  d001.s001.t002  document  document   N   \n2  d001.s001.t003        is        be   V   \n3  d001.s001.t004         a       NaN   X   \n4  d001.s001.t005   summary   summary   N   \n\n                                           BN Synset  \n0                                                NaN  \n1  bn:00028015n;wiki:document;wn:document%1:10:00...  \n2                                                NaN  \n3                                                NaN  \n4  bn:00075142n;wiki:summary_(law);wn:sum-up%1:10...  ",
      "text/html": "<div>\n<style scoped>\n    .dataframe tbody tr th:only-of-type {\n        vertical-align: middle;\n    }\n\n    .dataframe tbody tr th {\n        vertical-align: top;\n    }\n\n    .dataframe thead th {\n        text-align: right;\n    }\n</style>\n<table border=\"1\" class=\"dataframe\">\n  <thead>\n    <tr style=\"text-align: right;\">\n      <th></th>\n      <th>Token ID</th>\n      <th>Token</th>\n      <th>Lemma</th>\n      <th>POS</th>\n      <th>BN Synset</th>\n    </tr>\n  </thead>\n  <tbody>\n    <tr>\n      <th>0</th>\n      <td>d001.s001.t001</td>\n      <td>This</td>\n      <td>NaN</td>\n      <td>X</td>\n      <td>NaN</td>\n    </tr>\n    <tr>\n      <th>1</th>\n      <td>d001.s001.t002</td>\n      <td>document</td>\n      <td>document</td>\n      <td>N</td>\n      <td>bn:00028015n;wiki:document;wn:document%1:10:00...</td>\n    </tr>\n    <tr>\n      <th>2</th>\n      <td>d001.s001.t003</td>\n      <td>is</td>\n      <td>be</td>\n      <td>V</td>\n      <td>NaN</td>\n    </tr>\n    <tr>\n      <th>3</th>\n      <td>d001.s001.t004</td>\n      <td>a</td>\n      <td>NaN</td>\n      <td>X</td>\n      <td>NaN</td>\n    </tr>\n    <tr>\n      <th>4</th>\n      <td>d001.s001.t005</td>\n      <td>summary</td>\n      <td>summary</td>\n      <td>N</td>\n      <td>bn:00075142n;wiki:summary_(law);wn:sum-up%1:10...</td>\n    </tr>\n  </tbody>\n</table>\n</div>"
     },
     "execution_count": 30,
     "metadata": {},
     "output_type": "execute_result"
    }
   ],
   "source": [
    "raw_sense_df.head()"
   ],
   "metadata": {
    "collapsed": false,
    "ExecuteTime": {
     "end_time": "2024-09-14T08:05:57.652105Z",
     "start_time": "2024-09-14T08:05:57.639785Z"
    }
   },
   "id": "5963d6746fecc939"
  },
  {
   "cell_type": "code",
   "execution_count": 31,
   "outputs": [
    {
     "name": "stdout",
     "output_type": "stream",
     "text": [
      "138\n"
     ]
    }
   ],
   "source": [
    "# english token sequences\n",
    "idxes = raw_sense_df['Token ID'].tolist()\n",
    "tokens = raw_sense_df['Token'].tolist()\n",
    "# print(idxes,tokens)\n",
    "en_sents = []\n",
    "pre_sid = None\n",
    "s = []\n",
    "for i, t in zip(idxes, tokens):\n",
    "    # print(i)\n",
    "    sid = i.split('.')[1]\n",
    "    if sid != pre_sid:\n",
    "        if s:\n",
    "            en_sents.append(s)\n",
    "        pre_sid = sid\n",
    "        s = [t]\n",
    "    else:\n",
    "        s.append(t)\n",
    "en_sents.append(s)\n",
    "\n",
    "print(len(en_sents))\n",
    "\n",
    "# en_sents2 = trans_df[\"English\"].tolist()\n",
    "# pre_sid = None\n",
    "# sent = []\n",
    "# for i, s in zip(idxes, tokens):\n",
    "#     if s != \"-end-\":\n",
    "#         sent.append(s)\n",
    "#     else:\n",
    "#         en_sents.append(sent)\n",
    "#         sent = []\n",
    "# print(len(en_sents))\n",
    "# for x in range(len(en_sents)):\n",
    "#     print(\" \".join(en_sents[x]),en_sents2[x])\n",
    "#     if \" \".join(en_sents[x]) != en_sents2[x]:\n",
    "#         print(x)"
   ],
   "metadata": {
    "collapsed": false,
    "ExecuteTime": {
     "end_time": "2024-09-14T08:05:57.687254Z",
     "start_time": "2024-09-14T08:05:57.648963Z"
    }
   },
   "id": "3bb827932bd9b23f"
  },
  {
   "cell_type": "code",
   "execution_count": 32,
   "outputs": [
    {
     "name": "stdout",
     "output_type": "stream",
     "text": [
      "['This', 'document', 'is', 'a', 'summary', 'of', 'the', 'European', 'Public', 'Assessment', 'Report', '(', 'EPAR', ')', '.']\n"
     ]
    }
   ],
   "source": [
    "print(en_sents[0])"
   ],
   "metadata": {
    "collapsed": false,
    "ExecuteTime": {
     "end_time": "2024-09-14T08:05:57.722481Z",
     "start_time": "2024-09-14T08:05:57.654812Z"
    }
   },
   "id": "289f3807b810c81e"
  },
  {
   "cell_type": "code",
   "execution_count": 33,
   "outputs": [
    {
     "name": "stdout",
     "output_type": "stream",
     "text": [
      "138\n"
     ]
    }
   ],
   "source": [
    "# Italian token sequences\n",
    "import re\n",
    "idxes = tkns_df['Token ID'].tolist()\n",
    "tokens = tkns_df['Token'].tolist()\n",
    "\n",
    "tgt_sents = []\n",
    "# en_sents2 = trans_df[\"English\"].tolist()\n",
    "# pre_sid = None\n",
    "# sent = []\n",
    "# for i, s in zip(idxes, tokens):\n",
    "#     if s != \"-end-\":\n",
    "#         sent.append(s)\n",
    "#     else:\n",
    "#         tgt_sents.append(sent)\n",
    "#         sent = []\n",
    "# print(tgt_sents)\n",
    "pre_sid = None\n",
    "s = []\n",
    "for i, t in zip(idxes, tokens):\n",
    "    # print(t)\n",
    "    # print(i)\n",
    "    sid = i.split('.')[1]\n",
    "    # if \"\\u200c\" in t:\n",
    "    #     t= re.sub(r'\\u200c', ' ', t)\n",
    "    if sid != pre_sid:\n",
    "        if s:\n",
    "            tgt_sents.append(s)\n",
    "        pre_sid = sid\n",
    "        s = [t]\n",
    "    else:\n",
    "        s.append(t)\n",
    "tgt_sents.append(s)\n",
    "# print(tgt_sents)\n",
    "print(len(tgt_sents))"
   ],
   "metadata": {
    "collapsed": false,
    "ExecuteTime": {
     "end_time": "2024-09-14T08:05:57.758242Z",
     "start_time": "2024-09-14T08:05:57.662396Z"
    }
   },
   "id": "518ec95ddd6db19"
  },
  {
   "cell_type": "code",
   "execution_count": 34,
   "outputs": [
    {
     "name": "stdout",
     "output_type": "stream",
     "text": [
      "['ফাউন্ডেশন', 'সম্প্রতি', 'একটি', 'সম্মেলন', 'আয়োজনের', 'সাথে', 'জড়িত', 'যা', 'এই', 'কঠিন', 'চ্যালেঞ্জ', 'মোকাবেলা', 'করেছে', '।']\n"
     ]
    }
   ],
   "source": [
    "print(tgt_sents[92])"
   ],
   "metadata": {
    "collapsed": false,
    "ExecuteTime": {
     "end_time": "2024-09-14T08:05:57.759791Z",
     "start_time": "2024-09-14T08:05:57.668489Z"
    }
   },
   "id": "cba97c84c3337f7e"
  },
  {
   "cell_type": "code",
   "execution_count": 35,
   "outputs": [
    {
     "name": "stderr",
     "output_type": "stream",
     "text": [
      "100%|██████████| 138/138 [00:51<00:00,  2.68it/s]\n"
     ]
    }
   ],
   "source": [
    "# do the alignment\n",
    "aligns = []\n",
    "for en_s, tgt_s in zip(tqdm(en_sents), tgt_sents):\n",
    "    # print(en_s,tgt_s,'\\n')\n",
    "    alignments = aligner.get_word_aligns(en_s, tgt_s)\n",
    "    align = ''\n",
    "    for w1, w2 in alignments[mode]:\n",
    "        align += f'{w1}-{w2} '\n",
    "    align = align.strip()\n",
    "    aligns.append(align)"
   ],
   "metadata": {
    "collapsed": false,
    "ExecuteTime": {
     "end_time": "2024-09-14T08:06:49.098343Z",
     "start_time": "2024-09-14T08:05:57.675362Z"
    }
   },
   "id": "5d6f1f0ac368d047"
  },
  {
   "cell_type": "code",
   "execution_count": 37,
   "outputs": [
    {
     "data": {
      "text/plain": "'0-0 4-9 7-2 8-3 10-5 11-6 12-7 13-8 14-9 14-10'"
     },
     "execution_count": 37,
     "metadata": {},
     "output_type": "execute_result"
    }
   ],
   "source": [
    "aligns[0]"
   ],
   "metadata": {
    "collapsed": false,
    "ExecuteTime": {
     "end_time": "2024-09-14T08:07:09.358582Z",
     "start_time": "2024-09-14T08:07:09.342625Z"
    }
   },
   "id": "ccfce3cfa0a1f17d"
  },
  {
   "cell_type": "code",
   "execution_count": 38,
   "outputs": [
    {
     "name": "stdout",
     "output_type": "stream",
     "text": [
      "138\n"
     ]
    },
    {
     "data": {
      "text/plain": "    Sentence ID                                           Sentence  \\\n0     d001.s001  এইনথিটিইউরোপীয়পাবলিকঅ্যাসেসমেন্টরিপোর্টের(ইপি...   \n1     d001.s002  কমিটিফরমেডিসিনালপ্রোডাক্টসফরহিউম্যানইউজ(সিএইচএ...   \n2     d001.s003  আপনারচিকিৎসাসংক্রান্তঅবস্থাঅথবাআপনারচিকিৎসারবি...   \n3     d001.s004  যদিআপনিসিএইচএমপিরসুপারিশেরভিত্তিতেআরোতথ্যচান,ত...   \n4     d001.s005                                          আলিমতাকি?   \n..          ...                                                ...   \n133   d004.s020  এছাড়া,বমিকরারচিকিৎসাশুধুঅন্যান্যসহায়কব্যবস্থ...   \n134   d004.s021                       সেরেনিয়ারসাথেকোনঝুঁকিজড়িত?   \n135   d004.s022  দৈনিকডোজেঅতিরিক্তসময়েরজন্যসুপারিশকৃতডোজেরচেয়...   \n136   d004.s023  যে-ব্যক্তিওষুধদেনঅথবাপশুরসংস্পর্শেআসেন,তারজন্য...   \n137   d004.s024  সেরিনিয়ামানুষেরজন্যকোনবিশেষঝুঁকিরপ্রতিনিধিত্ব...   \n\n                             English-Bengali Alignment  \n0       0-0 4-9 7-2 8-3 10-5 11-6 12-7 13-8 14-9 14-10  \n1    4-0 6-2 11-7 12-8 13-9 14-11 16-10 21-20 22-21...  \n2    0-8 2-11 3-9 4-10 5-7 6-0 8-3 9-4 11-6 12-13 1...  \n3    0-0 1-1 2-7 3-5 4-6 6-4 7-4 12-8 13-16 15-10 1...  \n4                                              2-0 3-2  \n..                                                 ...  \n133  0-1 1-2 3-5 5-3 6-15 7-6 8-14 10-13 11-7 12-8 ...  \n134                            0-2 3-3 4-4 5-1 6-0 7-5  \n135  0-1 0-22 1-27 2-23 3-24 4-25 6-5 7-0 12-8 13-9...  \n136        0-10 3-11 4-9 8-2 10-1 11-3 12-6 17-4 18-15  \n137                        0-0 2-8 5-4 6-5 7-2 8-1 9-9  \n\n[138 rows x 3 columns]",
      "text/html": "<div>\n<style scoped>\n    .dataframe tbody tr th:only-of-type {\n        vertical-align: middle;\n    }\n\n    .dataframe tbody tr th {\n        vertical-align: top;\n    }\n\n    .dataframe thead th {\n        text-align: right;\n    }\n</style>\n<table border=\"1\" class=\"dataframe\">\n  <thead>\n    <tr style=\"text-align: right;\">\n      <th></th>\n      <th>Sentence ID</th>\n      <th>Sentence</th>\n      <th>English-Bengali Alignment</th>\n    </tr>\n  </thead>\n  <tbody>\n    <tr>\n      <th>0</th>\n      <td>d001.s001</td>\n      <td>এইনথিটিইউরোপীয়পাবলিকঅ্যাসেসমেন্টরিপোর্টের(ইপি...</td>\n      <td>0-0 4-9 7-2 8-3 10-5 11-6 12-7 13-8 14-9 14-10</td>\n    </tr>\n    <tr>\n      <th>1</th>\n      <td>d001.s002</td>\n      <td>কমিটিফরমেডিসিনালপ্রোডাক্টসফরহিউম্যানইউজ(সিএইচএ...</td>\n      <td>4-0 6-2 11-7 12-8 13-9 14-11 16-10 21-20 22-21...</td>\n    </tr>\n    <tr>\n      <th>2</th>\n      <td>d001.s003</td>\n      <td>আপনারচিকিৎসাসংক্রান্তঅবস্থাঅথবাআপনারচিকিৎসারবি...</td>\n      <td>0-8 2-11 3-9 4-10 5-7 6-0 8-3 9-4 11-6 12-13 1...</td>\n    </tr>\n    <tr>\n      <th>3</th>\n      <td>d001.s004</td>\n      <td>যদিআপনিসিএইচএমপিরসুপারিশেরভিত্তিতেআরোতথ্যচান,ত...</td>\n      <td>0-0 1-1 2-7 3-5 4-6 6-4 7-4 12-8 13-16 15-10 1...</td>\n    </tr>\n    <tr>\n      <th>4</th>\n      <td>d001.s005</td>\n      <td>আলিমতাকি?</td>\n      <td>2-0 3-2</td>\n    </tr>\n    <tr>\n      <th>...</th>\n      <td>...</td>\n      <td>...</td>\n      <td>...</td>\n    </tr>\n    <tr>\n      <th>133</th>\n      <td>d004.s020</td>\n      <td>এছাড়া,বমিকরারচিকিৎসাশুধুঅন্যান্যসহায়কব্যবস্থ...</td>\n      <td>0-1 1-2 3-5 5-3 6-15 7-6 8-14 10-13 11-7 12-8 ...</td>\n    </tr>\n    <tr>\n      <th>134</th>\n      <td>d004.s021</td>\n      <td>সেরেনিয়ারসাথেকোনঝুঁকিজড়িত?</td>\n      <td>0-2 3-3 4-4 5-1 6-0 7-5</td>\n    </tr>\n    <tr>\n      <th>135</th>\n      <td>d004.s022</td>\n      <td>দৈনিকডোজেঅতিরিক্তসময়েরজন্যসুপারিশকৃতডোজেরচেয়...</td>\n      <td>0-1 0-22 1-27 2-23 3-24 4-25 6-5 7-0 12-8 13-9...</td>\n    </tr>\n    <tr>\n      <th>136</th>\n      <td>d004.s023</td>\n      <td>যে-ব্যক্তিওষুধদেনঅথবাপশুরসংস্পর্শেআসেন,তারজন্য...</td>\n      <td>0-10 3-11 4-9 8-2 10-1 11-3 12-6 17-4 18-15</td>\n    </tr>\n    <tr>\n      <th>137</th>\n      <td>d004.s024</td>\n      <td>সেরিনিয়ামানুষেরজন্যকোনবিশেষঝুঁকিরপ্রতিনিধিত্ব...</td>\n      <td>0-0 2-8 5-4 6-5 7-2 8-1 9-9</td>\n    </tr>\n  </tbody>\n</table>\n<p>138 rows × 3 columns</p>\n</div>"
     },
     "execution_count": 38,
     "metadata": {},
     "output_type": "execute_result"
    }
   ],
   "source": [
    "print(len(aligns))\n",
    "trans_df['English-'+language+' Alignment'] = aligns\n",
    "trans_df.head(200)"
   ],
   "metadata": {
    "collapsed": false,
    "ExecuteTime": {
     "end_time": "2024-09-14T08:07:09.529477Z",
     "start_time": "2024-09-14T08:07:09.514786Z"
    }
   },
   "id": "c9f6bf5b055261f2"
  },
  {
   "cell_type": "code",
   "execution_count": 39,
   "outputs": [],
   "source": [
    "trans_df.to_csv(ALIGN_SENT_FILE, sep='\\t', index=False)"
   ],
   "metadata": {
    "collapsed": false,
    "ExecuteTime": {
     "end_time": "2024-09-14T08:07:09.886812Z",
     "start_time": "2024-09-14T08:07:09.733501Z"
    }
   },
   "id": "c1399438fa263261"
  },
  {
   "cell_type": "markdown",
   "source": [],
   "metadata": {
    "collapsed": false,
    "ExecuteTime": {
     "end_time": "2024-07-20T00:26:58.685090Z",
     "start_time": "2024-07-20T00:26:58.668497Z"
    }
   },
   "id": "b6729b5a32fd85f2"
  },
  {
   "cell_type": "markdown",
   "source": [
    "# ALIGN TOKENS IN TOKEN FILE"
   ],
   "metadata": {
    "collapsed": false,
    "ExecuteTime": {
     "end_time": "2024-07-20T00:26:59.328824Z",
     "start_time": "2024-07-20T00:26:59.273476Z"
    }
   },
   "id": "7912a9624f4b8438"
  },
  {
   "cell_type": "code",
   "execution_count": 40,
   "outputs": [
    {
     "data": {
      "text/plain": "         Token ID         Token         Lemma POS     BN Synset  \\\n0  d001.s001.t001            এই            এই   X           NaN   \n1  d001.s001.t002         নথিটি           নথি   N  bn:00028015n   \n2  d001.s001.t003      ইউরোপীয়         ইউরোপ   N           NaN   \n3  d001.s001.t004        পাবলিক        পাবলিক   A  bn:00109211a   \n4  d001.s001.t005  অ্যাসেসমেন্ট  অ্যাসেসমেন্ট   N  bn:00006502n   \n\n                                               Gloss  \n0                                                NaN  \n1  Writing that provides information (especially ...  \n2                                                NaN  \n3  Not private; open to or concerning the people ...  \n4  The act of judging or assessing a person or si...  ",
      "text/html": "<div>\n<style scoped>\n    .dataframe tbody tr th:only-of-type {\n        vertical-align: middle;\n    }\n\n    .dataframe tbody tr th {\n        vertical-align: top;\n    }\n\n    .dataframe thead th {\n        text-align: right;\n    }\n</style>\n<table border=\"1\" class=\"dataframe\">\n  <thead>\n    <tr style=\"text-align: right;\">\n      <th></th>\n      <th>Token ID</th>\n      <th>Token</th>\n      <th>Lemma</th>\n      <th>POS</th>\n      <th>BN Synset</th>\n      <th>Gloss</th>\n    </tr>\n  </thead>\n  <tbody>\n    <tr>\n      <th>0</th>\n      <td>d001.s001.t001</td>\n      <td>এই</td>\n      <td>এই</td>\n      <td>X</td>\n      <td>NaN</td>\n      <td>NaN</td>\n    </tr>\n    <tr>\n      <th>1</th>\n      <td>d001.s001.t002</td>\n      <td>নথিটি</td>\n      <td>নথি</td>\n      <td>N</td>\n      <td>bn:00028015n</td>\n      <td>Writing that provides information (especially ...</td>\n    </tr>\n    <tr>\n      <th>2</th>\n      <td>d001.s001.t003</td>\n      <td>ইউরোপীয়</td>\n      <td>ইউরোপ</td>\n      <td>N</td>\n      <td>NaN</td>\n      <td>NaN</td>\n    </tr>\n    <tr>\n      <th>3</th>\n      <td>d001.s001.t004</td>\n      <td>পাবলিক</td>\n      <td>পাবলিক</td>\n      <td>A</td>\n      <td>bn:00109211a</td>\n      <td>Not private; open to or concerning the people ...</td>\n    </tr>\n    <tr>\n      <th>4</th>\n      <td>d001.s001.t005</td>\n      <td>অ্যাসেসমেন্ট</td>\n      <td>অ্যাসেসমেন্ট</td>\n      <td>N</td>\n      <td>bn:00006502n</td>\n      <td>The act of judging or assessing a person or si...</td>\n    </tr>\n  </tbody>\n</table>\n</div>"
     },
     "execution_count": 40,
     "metadata": {},
     "output_type": "execute_result"
    }
   ],
   "source": [
    "tkns_df.head()\n"
   ],
   "metadata": {
    "collapsed": false,
    "ExecuteTime": {
     "end_time": "2024-09-14T08:07:10.361932Z",
     "start_time": "2024-09-14T08:07:10.276442Z"
    }
   },
   "id": "7f494bb7b47b2faa"
  },
  {
   "cell_type": "code",
   "execution_count": 41,
   "outputs": [
    {
     "data": {
      "text/plain": "         Token ID     Token     Lemma POS  \\\n0  d001.s001.t001      This       NaN   X   \n1  d001.s001.t002  document  document   N   \n2  d001.s001.t003        is        be   V   \n3  d001.s001.t004         a       NaN   X   \n4  d001.s001.t005   summary   summary   N   \n\n                                           BN Synset  \n0                                                NaN  \n1  bn:00028015n;wiki:document;wn:document%1:10:00...  \n2                                                NaN  \n3                                                NaN  \n4  bn:00075142n;wiki:summary_(law);wn:sum-up%1:10...  ",
      "text/html": "<div>\n<style scoped>\n    .dataframe tbody tr th:only-of-type {\n        vertical-align: middle;\n    }\n\n    .dataframe tbody tr th {\n        vertical-align: top;\n    }\n\n    .dataframe thead th {\n        text-align: right;\n    }\n</style>\n<table border=\"1\" class=\"dataframe\">\n  <thead>\n    <tr style=\"text-align: right;\">\n      <th></th>\n      <th>Token ID</th>\n      <th>Token</th>\n      <th>Lemma</th>\n      <th>POS</th>\n      <th>BN Synset</th>\n    </tr>\n  </thead>\n  <tbody>\n    <tr>\n      <th>0</th>\n      <td>d001.s001.t001</td>\n      <td>This</td>\n      <td>NaN</td>\n      <td>X</td>\n      <td>NaN</td>\n    </tr>\n    <tr>\n      <th>1</th>\n      <td>d001.s001.t002</td>\n      <td>document</td>\n      <td>document</td>\n      <td>N</td>\n      <td>bn:00028015n;wiki:document;wn:document%1:10:00...</td>\n    </tr>\n    <tr>\n      <th>2</th>\n      <td>d001.s001.t003</td>\n      <td>is</td>\n      <td>be</td>\n      <td>V</td>\n      <td>NaN</td>\n    </tr>\n    <tr>\n      <th>3</th>\n      <td>d001.s001.t004</td>\n      <td>a</td>\n      <td>NaN</td>\n      <td>X</td>\n      <td>NaN</td>\n    </tr>\n    <tr>\n      <th>4</th>\n      <td>d001.s001.t005</td>\n      <td>summary</td>\n      <td>summary</td>\n      <td>N</td>\n      <td>bn:00075142n;wiki:summary_(law);wn:sum-up%1:10...</td>\n    </tr>\n  </tbody>\n</table>\n</div>"
     },
     "execution_count": 41,
     "metadata": {},
     "output_type": "execute_result"
    }
   ],
   "source": [
    "aligned_tks_df = pd.read_csv(RAW_SENSE_TSV, delimiter='\\t', quoting=csv.QUOTE_NONE)\n",
    "aligned_tks_df.head()"
   ],
   "metadata": {
    "collapsed": false,
    "ExecuteTime": {
     "end_time": "2024-09-14T08:07:10.433980Z",
     "start_time": "2024-09-14T08:07:10.354678Z"
    }
   },
   "id": "8b05842023dacc1b"
  },
  {
   "cell_type": "code",
   "execution_count": 42,
   "outputs": [],
   "source": [
    "aligned_tks_df['Token ID '+tgt_lan] = None\n",
    "aligned_tks_df['Token '+tgt_lan] = None\n",
    "aligned_tks_df['Lemma '+tgt_lan] = None\n",
    "aligned_tks_df['POS '+tgt_lan] = None\n",
    "aligned_tks_df['Sense '+tgt_lan] = None"
   ],
   "metadata": {
    "collapsed": false,
    "ExecuteTime": {
     "end_time": "2024-09-14T08:07:10.680530Z",
     "start_time": "2024-09-14T08:07:10.487987Z"
    }
   },
   "id": "cf87633624b64662"
  },
  {
   "cell_type": "code",
   "execution_count": 43,
   "outputs": [
    {
     "name": "stdout",
     "output_type": "stream",
     "text": [
      "2638\n"
     ]
    }
   ],
   "source": [
    "aligned_tks_df.head()\n",
    "print(len(aligned_tks_df['Token']))"
   ],
   "metadata": {
    "collapsed": false,
    "ExecuteTime": {
     "end_time": "2024-09-14T08:07:10.818745Z",
     "start_time": "2024-09-14T08:07:10.662567Z"
    }
   },
   "id": "96cb23c1328bebd2"
  },
  {
   "cell_type": "code",
   "execution_count": 44,
   "outputs": [
    {
     "data": {
      "text/plain": "  Sentence ID                                           Sentence  \\\n0   d001.s001  এইনথিটিইউরোপীয়পাবলিকঅ্যাসেসমেন্টরিপোর্টের(ইপি...   \n1   d001.s002  কমিটিফরমেডিসিনালপ্রোডাক্টসফরহিউম্যানইউজ(সিএইচএ...   \n2   d001.s003  আপনারচিকিৎসাসংক্রান্তঅবস্থাঅথবাআপনারচিকিৎসারবি...   \n3   d001.s004  যদিআপনিসিএইচএমপিরসুপারিশেরভিত্তিতেআরোতথ্যচান,ত...   \n4   d001.s005                                          আলিমতাকি?   \n\n                           English-Bengali Alignment  \n0     0-0 4-9 7-2 8-3 10-5 11-6 12-7 13-8 14-9 14-10  \n1  4-0 6-2 11-7 12-8 13-9 14-11 16-10 21-20 22-21...  \n2  0-8 2-11 3-9 4-10 5-7 6-0 8-3 9-4 11-6 12-13 1...  \n3  0-0 1-1 2-7 3-5 4-6 6-4 7-4 12-8 13-16 15-10 1...  \n4                                            2-0 3-2  ",
      "text/html": "<div>\n<style scoped>\n    .dataframe tbody tr th:only-of-type {\n        vertical-align: middle;\n    }\n\n    .dataframe tbody tr th {\n        vertical-align: top;\n    }\n\n    .dataframe thead th {\n        text-align: right;\n    }\n</style>\n<table border=\"1\" class=\"dataframe\">\n  <thead>\n    <tr style=\"text-align: right;\">\n      <th></th>\n      <th>Sentence ID</th>\n      <th>Sentence</th>\n      <th>English-Bengali Alignment</th>\n    </tr>\n  </thead>\n  <tbody>\n    <tr>\n      <th>0</th>\n      <td>d001.s001</td>\n      <td>এইনথিটিইউরোপীয়পাবলিকঅ্যাসেসমেন্টরিপোর্টের(ইপি...</td>\n      <td>0-0 4-9 7-2 8-3 10-5 11-6 12-7 13-8 14-9 14-10</td>\n    </tr>\n    <tr>\n      <th>1</th>\n      <td>d001.s002</td>\n      <td>কমিটিফরমেডিসিনালপ্রোডাক্টসফরহিউম্যানইউজ(সিএইচএ...</td>\n      <td>4-0 6-2 11-7 12-8 13-9 14-11 16-10 21-20 22-21...</td>\n    </tr>\n    <tr>\n      <th>2</th>\n      <td>d001.s003</td>\n      <td>আপনারচিকিৎসাসংক্রান্তঅবস্থাঅথবাআপনারচিকিৎসারবি...</td>\n      <td>0-8 2-11 3-9 4-10 5-7 6-0 8-3 9-4 11-6 12-13 1...</td>\n    </tr>\n    <tr>\n      <th>3</th>\n      <td>d001.s004</td>\n      <td>যদিআপনিসিএইচএমপিরসুপারিশেরভিত্তিতেআরোতথ্যচান,ত...</td>\n      <td>0-0 1-1 2-7 3-5 4-6 6-4 7-4 12-8 13-16 15-10 1...</td>\n    </tr>\n    <tr>\n      <th>4</th>\n      <td>d001.s005</td>\n      <td>আলিমতাকি?</td>\n      <td>2-0 3-2</td>\n    </tr>\n  </tbody>\n</table>\n</div>"
     },
     "execution_count": 44,
     "metadata": {},
     "output_type": "execute_result"
    }
   ],
   "source": [
    "trans_df.head()"
   ],
   "metadata": {
    "collapsed": false,
    "ExecuteTime": {
     "end_time": "2024-09-14T08:07:10.966484Z",
     "start_time": "2024-09-14T08:07:10.822999Z"
    }
   },
   "id": "6a7cf5efede63ac"
  },
  {
   "cell_type": "code",
   "execution_count": 45,
   "outputs": [],
   "source": [
    "def process_nan(s):\n",
    "  if type(s)!=type(''):\n",
    "    return ''\n",
    "  return s"
   ],
   "metadata": {
    "collapsed": false,
    "ExecuteTime": {
     "end_time": "2024-09-14T08:07:11.168820Z",
     "start_time": "2024-09-14T08:07:11.029797Z"
    }
   },
   "id": "d27a48d2ff0f089a"
  },
  {
   "cell_type": "code",
   "execution_count": 46,
   "outputs": [],
   "source": [
    "count_en = 0\n",
    "sentence_num = 0\n",
    "count_es = 0\n",
    "for i, row in trans_df.iterrows():\n",
    "    # print(row.iloc[0])\n",
    "    sent_i = row.iloc[0]\n",
    "    # print(sent_i)\n",
    "    # print(sent_i)\n",
    "    tgt_sent_i = sent_i\n",
    "    # print(row)\n",
    "    # sent_i = sent_i.replace(\"i\",\"d\")\n",
    "    # tgt_sent = tkns_df.loc[count_es:count_es+len(tgt_sents[sentence_num])]\n",
    "    # en_sent = aligned_tks_df.loc[count_en:count_en+len(en_sents[sentence_num])]\n",
    "    # print(tgt_sent.loc[2])\n",
    "    # print(row)\n",
    "    for alignment in row['English-'+language+' Alignment'].split():\n",
    "        try:\n",
    "            w1, w2 = alignment.split('-')\n",
    "            \n",
    "            en_id = f'{sent_i}.t{int(w1) + 1:03d}'\n",
    "            tgt_id = f'{tgt_sent_i}.t{int(w2) + 1:03d}'\n",
    "            row_en = aligned_tks_df[aligned_tks_df['Token ID'] == en_id]\n",
    "            row_tgt = tkns_df[tkns_df['Token ID'] == tgt_id]\n",
    "            # print(row_tgt)\n",
    "    \n",
    "            # print(aligned_tks_df['Token ID'] )\n",
    "            # print(row_tgt)\n",
    "            # print(row_en.iloc[0]['Token ID '+tgt_lan])\n",
    "            if row_en.iloc[0]['Token ID '+tgt_lan] is not None:\n",
    "                aligned_tks_df.loc[row_en.index, 'Token ID '+tgt_lan] += '➕' + row_tgt.iloc[0]['Token ID']\n",
    "                aligned_tks_df.loc[row_en.index, 'Token '+tgt_lan] += '➕' + row_tgt.iloc[0]['Token']\n",
    "                if aligned_tks_df.loc[row_en.index, 'POS '+tgt_lan].item() != process_nan(row_tgt.iloc[0]['POS']):\n",
    "                    aligned_tks_df.loc[row_en.index, 'POS '+tgt_lan] += '➕' + process_nan(row_tgt.iloc[0]['POS'])\n",
    "                if aligned_tks_df.loc[row_en.index, 'Sense '+tgt_lan].item() != process_nan(row_en.iloc[0]['BN Synset']):\n",
    "                    aligned_tks_df.loc[row_en.index, 'Sense '+tgt_lan] += '➕' + process_nan(str(row_en.iloc[0]['BN Synset']).split(\";\")[0])\n",
    "            else:\n",
    "                # print(str(row_en.iloc[0]['BN Synset']).split(\";\")[0])\n",
    "                # print(row_tgt.iloc[0]['Token ID'])\n",
    "                # print(row_en.index.values)\n",
    "                aligned_tks_df.loc[row_en.index.values[0], 'Token ID '+tgt_lan] = row_tgt.iloc[0]['Token ID']\n",
    "                # print(aligned_tks_df.loc[row_en.index, 'Token ID '+tgt_lan],row_tgt.iloc[0]['Token ID'],'\\\\n\\\\n')\n",
    "        \n",
    "                aligned_tks_df.loc[row_en.index.values[0], 'Token '+tgt_lan] = row_tgt.iloc[0]['Token']\n",
    "                aligned_tks_df.loc[row_en.index.values[0], 'Lemma '+tgt_lan] = row_tgt.iloc[0]['Lemma']\n",
    "                aligned_tks_df.loc[row_en.index.values[0], 'POS '+tgt_lan] = row_tgt.iloc[0]['POS']\n",
    "                aligned_tks_df.loc[row_en.index.values[0], 'Sense '+tgt_lan] = str(row_en.iloc[0]['BN Synset']).split(\";\")[0]\n",
    "                aligned_tks_df.loc[row_en.index.values[0], 'BN Synset'] = str(row_en.iloc[0]['BN Synset']).split(\";\")[0]\n",
    "        except:\n",
    "            print(f\"error {i}\")\n",
    "    # count_en += len(en_sents[sentence_num])\n",
    "    # count_es += len(tgt_sents[sentence_num])\n",
    "    # sentence_num += 1\n"
   ],
   "metadata": {
    "collapsed": false,
    "ExecuteTime": {
     "end_time": "2024-09-14T08:07:14.404985Z",
     "start_time": "2024-09-14T08:07:11.215237Z"
    }
   },
   "id": "6d9a577bd69e0209"
  },
  {
   "cell_type": "code",
   "execution_count": 47,
   "outputs": [],
   "source": [
    "# count_en = 0\n",
    "# sentence_num = 0\n",
    "# count_es = 0\n",
    "# for i, row in trans_df.iterrows():\n",
    "#     # print(row.iloc[0])\n",
    "#     sent_i = row.iloc[0]\n",
    "#     # print(sent_i)\n",
    "#     # print(sent_i)\n",
    "#     tgt_sent_i = sent_i\n",
    "#     # print(row)\n",
    "#     # sent_i = sent_i.replace(\"i\",\"d\")\n",
    "#     tgt_sent = tkns_df.loc[count_es:count_es+len(tgt_sents[sentence_num])]\n",
    "#     en_sent = aligned_tks_df.loc[count_en:count_en+len(en_sents[sentence_num])]\n",
    "#     # print(tgt_sent.loc[2])\n",
    "#     # print(row)\n",
    "#     for alignment in row['English-'+language+' Alignment'].split():\n",
    "#         w1, w2 = alignment.split('-')\n",
    "#         row_tgt = tgt_sent.loc[count_es+int(w2)]\n",
    "#         row_en = en_sent.loc[count_en+int(w1)]\n",
    "#         if row_en['Token ID '+tgt_lan] is not None:\n",
    "#             if str(aligned_tks_df.loc[count_en+int(w1), 'Token ID '+tgt_lan]) != \"nan\":\n",
    "#                 aligned_tks_df.loc[count_en+int(w1), 'Token ID '+tgt_lan] += '➕' + str(row_tgt['Token ID'])\n",
    "#             else:\n",
    "#                 aligned_tks_df.loc[count_en+int(w1), 'Token ID '+tgt_lan] = str(row_tgt['Token ID'])\n",
    "#             aligned_tks_df.loc[count_en+int(w1), 'Token '+tgt_lan] += '➕' + row_tgt['Token']\n",
    "#             if aligned_tks_df.loc[count_en+int(w1), 'POS '+tgt_lan] != process_nan(row_tgt['POS']):\n",
    "#                 aligned_tks_df.loc[count_en+int(w1), 'POS '+tgt_lan] += '➕' + process_nan(row_tgt['POS'])\n",
    "#             if aligned_tks_df.loc[count_en+int(w1), 'Sense '+tgt_lan] != process_nan(row_en['BN Synset']):\n",
    "#                 if str(aligned_tks_df.loc[count_en+int(w1), 'Sense '+tgt_lan]) != \"nan\":\n",
    "#                     aligned_tks_df.loc[count_en+int(w1), 'Sense '+tgt_lan] += '➕' + process_nan(row_en['BN Synset'])\n",
    "#         else:\n",
    "#             aligned_tks_df.loc[count_en+int(w1), 'Token ID '+tgt_lan] = row_tgt['Token ID']\n",
    "#             aligned_tks_df.loc[count_en+int(w1), 'Token '+tgt_lan] = row_tgt['Token']\n",
    "#             aligned_tks_df.loc[count_en+int(w1), 'Lemma '+tgt_lan] = row_tgt[\"Lemma\"]\n",
    "#             aligned_tks_df.loc[count_en+int(w1), 'POS '+tgt_lan] = row_tgt['POS']\n",
    "#             aligned_tks_df.loc[count_en+int(w1), 'Sense '+tgt_lan] = row_en['BN Synset']\n",
    "# \n",
    "#     count_en += len(en_sents[sentence_num])\n",
    "#     count_es += len(tgt_sents[sentence_num])\n",
    "#     sentence_num += 1\n",
    "#     # print(count_en)"
   ],
   "metadata": {
    "collapsed": false,
    "ExecuteTime": {
     "end_time": "2024-09-14T08:07:14.412437Z",
     "start_time": "2024-09-14T08:07:14.406443Z"
    }
   },
   "id": "2ae5b20f4241c471"
  },
  {
   "cell_type": "code",
   "execution_count": 48,
   "outputs": [
    {
     "data": {
      "text/plain": "            Token ID     Token     Lemma POS  \\\n0     d001.s001.t001      This       NaN   X   \n1     d001.s001.t002  document  document   N   \n2     d001.s001.t003        is        be   V   \n3     d001.s001.t004         a       NaN   X   \n4     d001.s001.t005   summary   summary   N   \n...              ...       ...       ...  ..   \n1995  d003.s016.t014       and       NaN   X   \n1996  d003.s016.t015   provide   provide   V   \n1997  d003.s016.t016       the       NaN   X   \n1998  d003.s016.t017  backdrop  backdrop   N   \n1999  d003.s016.t018       for       NaN   X   \n\n                                              BN Synset     Token ID BN  \\\n0                                                   nan  d001.s001.t001   \n1     bn:00028015n;wiki:document;wn:document%1:10:00...            None   \n2                                                   NaN            None   \n3                                                   NaN            None   \n4                                          bn:00075142n  d001.s001.t010   \n...                                                 ...             ...   \n1995                                                nan  d003.s016.t011   \n1996  bn:00084692v;wn:cater%2:34:00::;wn:ply%2:34:00...            None   \n1997                                                NaN            None   \n1998                                                nan  d003.s016.t018   \n1999                                                NaN            None   \n\n     Token BN Lemma BN POS BN      Sense BN  \n0          এই       এই      X           nan  \n1        None     None   None          None  \n2        None     None   None          None  \n3        None     None   None          None  \n4      সারাংশ   সারাংশ      N  bn:00075142n  \n...       ...      ...    ...           ...  \n1995      এবং      এবং      X           nan  \n1996     None     None   None          None  \n1997     None     None   None          None  \n1998   পটভূমি   পটভূমি      N           nan  \n1999     None     None   None          None  \n\n[2000 rows x 10 columns]",
      "text/html": "<div>\n<style scoped>\n    .dataframe tbody tr th:only-of-type {\n        vertical-align: middle;\n    }\n\n    .dataframe tbody tr th {\n        vertical-align: top;\n    }\n\n    .dataframe thead th {\n        text-align: right;\n    }\n</style>\n<table border=\"1\" class=\"dataframe\">\n  <thead>\n    <tr style=\"text-align: right;\">\n      <th></th>\n      <th>Token ID</th>\n      <th>Token</th>\n      <th>Lemma</th>\n      <th>POS</th>\n      <th>BN Synset</th>\n      <th>Token ID BN</th>\n      <th>Token BN</th>\n      <th>Lemma BN</th>\n      <th>POS BN</th>\n      <th>Sense BN</th>\n    </tr>\n  </thead>\n  <tbody>\n    <tr>\n      <th>0</th>\n      <td>d001.s001.t001</td>\n      <td>This</td>\n      <td>NaN</td>\n      <td>X</td>\n      <td>nan</td>\n      <td>d001.s001.t001</td>\n      <td>এই</td>\n      <td>এই</td>\n      <td>X</td>\n      <td>nan</td>\n    </tr>\n    <tr>\n      <th>1</th>\n      <td>d001.s001.t002</td>\n      <td>document</td>\n      <td>document</td>\n      <td>N</td>\n      <td>bn:00028015n;wiki:document;wn:document%1:10:00...</td>\n      <td>None</td>\n      <td>None</td>\n      <td>None</td>\n      <td>None</td>\n      <td>None</td>\n    </tr>\n    <tr>\n      <th>2</th>\n      <td>d001.s001.t003</td>\n      <td>is</td>\n      <td>be</td>\n      <td>V</td>\n      <td>NaN</td>\n      <td>None</td>\n      <td>None</td>\n      <td>None</td>\n      <td>None</td>\n      <td>None</td>\n    </tr>\n    <tr>\n      <th>3</th>\n      <td>d001.s001.t004</td>\n      <td>a</td>\n      <td>NaN</td>\n      <td>X</td>\n      <td>NaN</td>\n      <td>None</td>\n      <td>None</td>\n      <td>None</td>\n      <td>None</td>\n      <td>None</td>\n    </tr>\n    <tr>\n      <th>4</th>\n      <td>d001.s001.t005</td>\n      <td>summary</td>\n      <td>summary</td>\n      <td>N</td>\n      <td>bn:00075142n</td>\n      <td>d001.s001.t010</td>\n      <td>সারাংশ</td>\n      <td>সারাংশ</td>\n      <td>N</td>\n      <td>bn:00075142n</td>\n    </tr>\n    <tr>\n      <th>...</th>\n      <td>...</td>\n      <td>...</td>\n      <td>...</td>\n      <td>...</td>\n      <td>...</td>\n      <td>...</td>\n      <td>...</td>\n      <td>...</td>\n      <td>...</td>\n      <td>...</td>\n    </tr>\n    <tr>\n      <th>1995</th>\n      <td>d003.s016.t014</td>\n      <td>and</td>\n      <td>NaN</td>\n      <td>X</td>\n      <td>nan</td>\n      <td>d003.s016.t011</td>\n      <td>এবং</td>\n      <td>এবং</td>\n      <td>X</td>\n      <td>nan</td>\n    </tr>\n    <tr>\n      <th>1996</th>\n      <td>d003.s016.t015</td>\n      <td>provide</td>\n      <td>provide</td>\n      <td>V</td>\n      <td>bn:00084692v;wn:cater%2:34:00::;wn:ply%2:34:00...</td>\n      <td>None</td>\n      <td>None</td>\n      <td>None</td>\n      <td>None</td>\n      <td>None</td>\n    </tr>\n    <tr>\n      <th>1997</th>\n      <td>d003.s016.t016</td>\n      <td>the</td>\n      <td>NaN</td>\n      <td>X</td>\n      <td>NaN</td>\n      <td>None</td>\n      <td>None</td>\n      <td>None</td>\n      <td>None</td>\n      <td>None</td>\n    </tr>\n    <tr>\n      <th>1998</th>\n      <td>d003.s016.t017</td>\n      <td>backdrop</td>\n      <td>backdrop</td>\n      <td>N</td>\n      <td>nan</td>\n      <td>d003.s016.t018</td>\n      <td>পটভূমি</td>\n      <td>পটভূমি</td>\n      <td>N</td>\n      <td>nan</td>\n    </tr>\n    <tr>\n      <th>1999</th>\n      <td>d003.s016.t018</td>\n      <td>for</td>\n      <td>NaN</td>\n      <td>X</td>\n      <td>NaN</td>\n      <td>None</td>\n      <td>None</td>\n      <td>None</td>\n      <td>None</td>\n      <td>None</td>\n    </tr>\n  </tbody>\n</table>\n<p>2000 rows × 10 columns</p>\n</div>"
     },
     "execution_count": 48,
     "metadata": {},
     "output_type": "execute_result"
    }
   ],
   "source": [
    "# aligned_tks_df[]\n",
    "aligned_tks_df.head(2000)"
   ],
   "metadata": {
    "collapsed": false,
    "ExecuteTime": {
     "end_time": "2024-09-14T08:07:14.421818Z",
     "start_time": "2024-09-14T08:07:14.417067Z"
    }
   },
   "id": "3762e840ae06d384"
  },
  {
   "cell_type": "code",
   "execution_count": 49,
   "outputs": [],
   "source": [
    "aligned_tks_df.to_csv(ALIGN_TOKEN_FILE, sep='\\t', index=False)"
   ],
   "metadata": {
    "collapsed": false,
    "ExecuteTime": {
     "end_time": "2024-09-14T08:07:14.468480Z",
     "start_time": "2024-09-14T08:07:14.423068Z"
    }
   },
   "id": "e5368fae50b58bf8"
  },
  {
   "cell_type": "code",
   "execution_count": 49,
   "outputs": [],
   "source": [],
   "metadata": {
    "collapsed": false,
    "ExecuteTime": {
     "end_time": "2024-09-14T08:07:14.468727Z",
     "start_time": "2024-09-14T08:07:14.438787Z"
    }
   },
   "id": "58f3349a3405b870"
  },
  {
   "cell_type": "code",
   "execution_count": null,
   "outputs": [],
   "source": [],
   "metadata": {
    "collapsed": false,
    "ExecuteTime": {
     "start_time": "2024-09-14T08:03:47.472111Z"
    }
   },
   "id": "208073961ba04e84"
  },
  {
   "cell_type": "code",
   "execution_count": null,
   "outputs": [],
   "source": [],
   "metadata": {
    "collapsed": false,
    "ExecuteTime": {
     "start_time": "2024-09-14T08:03:47.473597Z"
    }
   },
   "id": "76baae863fa61026"
  },
  {
   "cell_type": "code",
   "execution_count": null,
   "outputs": [],
   "source": [],
   "metadata": {
    "collapsed": false,
    "ExecuteTime": {
     "start_time": "2024-09-05T06:56:12.515757Z"
    }
   },
   "id": "bd9908155dab54be"
  },
  {
   "cell_type": "code",
   "execution_count": null,
   "outputs": [],
   "source": [],
   "metadata": {
    "collapsed": false
   },
   "id": "d50b6da058659c33"
  }
 ],
 "metadata": {
  "kernelspec": {
   "display_name": "Python 3",
   "language": "python",
   "name": "python3"
  },
  "language_info": {
   "codemirror_mode": {
    "name": "ipython",
    "version": 2
   },
   "file_extension": ".py",
   "mimetype": "text/x-python",
   "name": "python",
   "nbconvert_exporter": "python",
   "pygments_lexer": "ipython2",
   "version": "2.7.6"
  }
 },
 "nbformat": 4,
 "nbformat_minor": 5
}
